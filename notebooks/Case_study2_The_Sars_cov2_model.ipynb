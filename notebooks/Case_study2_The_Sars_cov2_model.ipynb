{
 "cells": [
  {
   "cell_type": "markdown",
   "id": "cb1612e5198cab85",
   "metadata": {
    "collapsed": false
   },
   "source": [
    "# Case study 1: Simulation with a SARS-CoV-2 Model"
   ]
  },
  {
   "cell_type": "code",
   "outputs": [
    {
     "name": "stdout",
     "output_type": "stream",
     "text": [
      "Collecting git+https://github.com/y0-causal-inference/eliater.git\n",
      "  Cloning https://github.com/y0-causal-inference/eliater.git to c:\\users\\pnava\\appdata\\local\\temp\\pip-req-build-k1h2s16s\n",
      "  Resolved https://github.com/y0-causal-inference/eliater.git to commit 722814a686ef4771548cdbb0b9c59804014438c5\n",
      "  Installing build dependencies: started\n",
      "  Installing build dependencies: finished with status 'done'\n",
      "  Getting requirements to build wheel: started\n",
      "  Getting requirements to build wheel: finished with status 'done'\n",
      "  Preparing metadata (pyproject.toml): started\n",
      "  Preparing metadata (pyproject.toml): finished with status 'done'\n",
      "Collecting y0>=0.2.7 (from eliater==0.0.1.dev0)\n",
      "  Using cached y0-0.2.7-py3-none-any.whl.metadata (11 kB)\n",
      "Requirement already satisfied: scipy in c:\\users\\pnava\\pycharmprojects\\eliater\\venv\\lib\\site-packages (from eliater==0.0.1.dev0) (1.11.4)\n",
      "Requirement already satisfied: numpy in c:\\users\\pnava\\pycharmprojects\\eliater\\venv\\lib\\site-packages (from eliater==0.0.1.dev0) (1.26.3)\n",
      "Requirement already satisfied: ananke-causal>=0.5.0 in c:\\users\\pnava\\pycharmprojects\\eliater\\venv\\lib\\site-packages (from eliater==0.0.1.dev0) (0.5.0)\n",
      "Requirement already satisfied: pgmpy>=0.1.24 in c:\\users\\pnava\\pycharmprojects\\eliater\\venv\\lib\\site-packages (from eliater==0.0.1.dev0) (0.1.24)\n",
      "Collecting matplotlib (from eliater==0.0.1.dev0)\n",
      "  Using cached matplotlib-3.8.2-cp311-cp311-win_amd64.whl.metadata (5.9 kB)\n",
      "Requirement already satisfied: pandas in c:\\users\\pnava\\pycharmprojects\\eliater\\venv\\lib\\site-packages (from eliater==0.0.1.dev0) (1.5.3)\n",
      "Requirement already satisfied: seaborn in c:\\users\\pnava\\pycharmprojects\\eliater\\venv\\lib\\site-packages (from eliater==0.0.1.dev0) (0.13.1)\n",
      "Requirement already satisfied: optimaladj>=0.0.4 in c:\\users\\pnava\\pycharmprojects\\eliater\\venv\\lib\\site-packages (from eliater==0.0.1.dev0) (0.0.4)\n",
      "Requirement already satisfied: jax<0.5.0,>=0.4.8 in c:\\users\\pnava\\pycharmprojects\\eliater\\venv\\lib\\site-packages (from ananke-causal>=0.5.0->eliater==0.0.1.dev0) (0.4.23)\n",
      "Requirement already satisfied: jaxlib<0.5.0,>=0.4.7 in c:\\users\\pnava\\pycharmprojects\\eliater\\venv\\lib\\site-packages (from ananke-causal>=0.5.0->eliater==0.0.1.dev0) (0.4.23)\n",
      "Requirement already satisfied: mystic<0.5.0,>=0.4.0 in c:\\users\\pnava\\pycharmprojects\\eliater\\venv\\lib\\site-packages (from ananke-causal>=0.5.0->eliater==0.0.1.dev0) (0.4.1)\n",
      "Requirement already satisfied: statsmodels<0.14.0,>=0.13.2 in c:\\users\\pnava\\pycharmprojects\\eliater\\venv\\lib\\site-packages (from ananke-causal>=0.5.0->eliater==0.0.1.dev0) (0.13.5)\n",
      "Requirement already satisfied: contourpy>=1.0.1 in c:\\users\\pnava\\pycharmprojects\\eliater\\venv\\lib\\site-packages (from matplotlib->eliater==0.0.1.dev0) (1.2.0)\n",
      "Requirement already satisfied: cycler>=0.10 in c:\\users\\pnava\\pycharmprojects\\eliater\\venv\\lib\\site-packages (from matplotlib->eliater==0.0.1.dev0) (0.12.1)\n",
      "Requirement already satisfied: fonttools>=4.22.0 in c:\\users\\pnava\\pycharmprojects\\eliater\\venv\\lib\\site-packages (from matplotlib->eliater==0.0.1.dev0) (4.47.2)\n",
      "Requirement already satisfied: kiwisolver>=1.3.1 in c:\\users\\pnava\\pycharmprojects\\eliater\\venv\\lib\\site-packages (from matplotlib->eliater==0.0.1.dev0) (1.4.5)\n",
      "Requirement already satisfied: packaging>=20.0 in c:\\users\\pnava\\pycharmprojects\\eliater\\venv\\lib\\site-packages (from matplotlib->eliater==0.0.1.dev0) (23.2)\n",
      "Requirement already satisfied: pillow>=8 in c:\\users\\pnava\\pycharmprojects\\eliater\\venv\\lib\\site-packages (from matplotlib->eliater==0.0.1.dev0) (10.2.0)\n",
      "Requirement already satisfied: pyparsing>=2.3.1 in c:\\users\\pnava\\pycharmprojects\\eliater\\venv\\lib\\site-packages (from matplotlib->eliater==0.0.1.dev0) (3.1.1)\n",
      "Requirement already satisfied: python-dateutil>=2.7 in c:\\users\\pnava\\pycharmprojects\\eliater\\venv\\lib\\site-packages (from matplotlib->eliater==0.0.1.dev0) (2.8.2)\n",
      "Requirement already satisfied: pytz>=2020.1 in c:\\users\\pnava\\pycharmprojects\\eliater\\venv\\lib\\site-packages (from pandas->eliater==0.0.1.dev0) (2023.3.post1)\n",
      "Requirement already satisfied: networkx in c:\\users\\pnava\\pycharmprojects\\eliater\\venv\\lib\\site-packages (from pgmpy>=0.1.24->eliater==0.0.1.dev0) (3.2.1)\n",
      "Requirement already satisfied: scikit-learn in c:\\users\\pnava\\pycharmprojects\\eliater\\venv\\lib\\site-packages (from pgmpy>=0.1.24->eliater==0.0.1.dev0) (1.4.0)\n",
      "Requirement already satisfied: torch in c:\\users\\pnava\\pycharmprojects\\eliater\\venv\\lib\\site-packages (from pgmpy>=0.1.24->eliater==0.0.1.dev0) (2.1.2)\n",
      "Requirement already satisfied: tqdm in c:\\users\\pnava\\pycharmprojects\\eliater\\venv\\lib\\site-packages (from pgmpy>=0.1.24->eliater==0.0.1.dev0) (4.66.1)\n",
      "Requirement already satisfied: joblib in c:\\users\\pnava\\pycharmprojects\\eliater\\venv\\lib\\site-packages (from pgmpy>=0.1.24->eliater==0.0.1.dev0) (1.3.2)\n",
      "Requirement already satisfied: opt-einsum in c:\\users\\pnava\\pycharmprojects\\eliater\\venv\\lib\\site-packages (from pgmpy>=0.1.24->eliater==0.0.1.dev0) (3.3.0)\n",
      "Requirement already satisfied: more-itertools in c:\\users\\pnava\\pycharmprojects\\eliater\\venv\\lib\\site-packages (from y0>=0.2.7->eliater==0.0.1.dev0) (10.2.0)\n",
      "Requirement already satisfied: click in c:\\users\\pnava\\pycharmprojects\\eliater\\venv\\lib\\site-packages (from y0>=0.2.7->eliater==0.0.1.dev0) (8.1.7)\n",
      "Requirement already satisfied: more-click in c:\\users\\pnava\\pycharmprojects\\eliater\\venv\\lib\\site-packages (from y0>=0.2.7->eliater==0.0.1.dev0) (0.1.2)\n",
      "Requirement already satisfied: tabulate in c:\\users\\pnava\\pycharmprojects\\eliater\\venv\\lib\\site-packages (from y0>=0.2.7->eliater==0.0.1.dev0) (0.9.0)\n",
      "Requirement already satisfied: ml-dtypes>=0.2.0 in c:\\users\\pnava\\pycharmprojects\\eliater\\venv\\lib\\site-packages (from jax<0.5.0,>=0.4.8->ananke-causal>=0.5.0->eliater==0.0.1.dev0) (0.3.2)\n",
      "Requirement already satisfied: dill>=0.3.7 in c:\\users\\pnava\\pycharmprojects\\eliater\\venv\\lib\\site-packages (from mystic<0.5.0,>=0.4.0->ananke-causal>=0.5.0->eliater==0.0.1.dev0) (0.3.7)\n",
      "Requirement already satisfied: klepto>=0.2.4 in c:\\users\\pnava\\pycharmprojects\\eliater\\venv\\lib\\site-packages (from mystic<0.5.0,>=0.4.0->ananke-causal>=0.5.0->eliater==0.0.1.dev0) (0.2.4)\n",
      "Requirement already satisfied: sympy>=0.6.7 in c:\\users\\pnava\\pycharmprojects\\eliater\\venv\\lib\\site-packages (from mystic<0.5.0,>=0.4.0->ananke-causal>=0.5.0->eliater==0.0.1.dev0) (1.12)\n",
      "Requirement already satisfied: mpmath>=0.19 in c:\\users\\pnava\\pycharmprojects\\eliater\\venv\\lib\\site-packages (from mystic<0.5.0,>=0.4.0->ananke-causal>=0.5.0->eliater==0.0.1.dev0) (1.3.0)\n",
      "Requirement already satisfied: six>=1.5 in c:\\users\\pnava\\pycharmprojects\\eliater\\venv\\lib\\site-packages (from python-dateutil>=2.7->matplotlib->eliater==0.0.1.dev0) (1.16.0)\n",
      "Requirement already satisfied: patsy>=0.5.2 in c:\\users\\pnava\\pycharmprojects\\eliater\\venv\\lib\\site-packages (from statsmodels<0.14.0,>=0.13.2->ananke-causal>=0.5.0->eliater==0.0.1.dev0) (0.5.6)\n",
      "Requirement already satisfied: colorama in c:\\users\\pnava\\pycharmprojects\\eliater\\venv\\lib\\site-packages (from click->y0>=0.2.7->eliater==0.0.1.dev0) (0.4.6)\n",
      "Requirement already satisfied: threadpoolctl>=2.0.0 in c:\\users\\pnava\\pycharmprojects\\eliater\\venv\\lib\\site-packages (from scikit-learn->pgmpy>=0.1.24->eliater==0.0.1.dev0) (3.2.0)\n",
      "Requirement already satisfied: filelock in c:\\users\\pnava\\pycharmprojects\\eliater\\venv\\lib\\site-packages (from torch->pgmpy>=0.1.24->eliater==0.0.1.dev0) (3.13.1)\n",
      "Requirement already satisfied: typing-extensions in c:\\users\\pnava\\pycharmprojects\\eliater\\venv\\lib\\site-packages (from torch->pgmpy>=0.1.24->eliater==0.0.1.dev0) (4.9.0)\n",
      "Requirement already satisfied: jinja2 in c:\\users\\pnava\\pycharmprojects\\eliater\\venv\\lib\\site-packages (from torch->pgmpy>=0.1.24->eliater==0.0.1.dev0) (3.1.3)\n",
      "Requirement already satisfied: fsspec in c:\\users\\pnava\\pycharmprojects\\eliater\\venv\\lib\\site-packages (from torch->pgmpy>=0.1.24->eliater==0.0.1.dev0) (2023.12.2)\n",
      "Requirement already satisfied: pox>=0.3.3 in c:\\users\\pnava\\pycharmprojects\\eliater\\venv\\lib\\site-packages (from klepto>=0.2.4->mystic<0.5.0,>=0.4.0->ananke-causal>=0.5.0->eliater==0.0.1.dev0) (0.3.3)\n",
      "Requirement already satisfied: MarkupSafe>=2.0 in c:\\users\\pnava\\pycharmprojects\\eliater\\venv\\lib\\site-packages (from jinja2->torch->pgmpy>=0.1.24->eliater==0.0.1.dev0) (2.1.4)\n",
      "Using cached matplotlib-3.8.2-cp311-cp311-win_amd64.whl (7.6 MB)\n",
      "Using cached y0-0.2.7-py3-none-any.whl (128 kB)\n",
      "Installing collected packages: matplotlib, y0\n",
      "  Attempting uninstall: y0\n",
      "    Found existing installation: y0 0.2.5\n",
      "    Uninstalling y0-0.2.5:\n",
      "      Successfully uninstalled y0-0.2.5\n",
      "Successfully installed matplotlib-3.8.2 y0-0.2.7\n"
     ]
    },
    {
     "name": "stderr",
     "output_type": "stream",
     "text": [
      "WARNING: Ignoring invalid distribution ~atplotlib (C:\\Users\\pnava\\PycharmProjects\\eliater\\venv\\Lib\\site-packages)\n",
      "  Running command git clone --filter=blob:none --quiet https://github.com/y0-causal-inference/eliater.git 'C:\\Users\\pnava\\AppData\\Local\\Temp\\pip-req-build-k1h2s16s'\n",
      "WARNING: Ignoring invalid distribution ~atplotlib (C:\\Users\\pnava\\PycharmProjects\\eliater\\venv\\Lib\\site-packages)\n",
      "\n",
      "[notice] A new release of pip is available: 23.3.1 -> 23.3.2\n",
      "[notice] To update, run: python.exe -m pip install --upgrade pip\n"
     ]
    }
   ],
   "source": [
    "!pip install git+https://github.com/y0-causal-inference/eliater.git"
   ],
   "metadata": {
    "collapsed": false,
    "ExecuteTime": {
     "end_time": "2024-01-20T16:08:03.166520Z",
     "start_time": "2024-01-20T16:07:47.158917700Z"
    }
   },
   "id": "c97c6b9e4c253d48",
   "execution_count": 1
  },
  {
   "cell_type": "code",
   "execution_count": 13,
   "id": "initial_id",
   "metadata": {
    "ExecuteTime": {
     "end_time": "2024-01-20T16:32:38.499067600Z",
     "start_time": "2024-01-20T16:32:38.475470200Z"
    }
   },
   "outputs": [],
   "source": [
    "import numpy as np\n",
    "\n",
    "# from eliater import version_df\n",
    "from eliater.discover_latent_nodes import find_nuisance_variables, remove_nuisance_variables\n",
    "from src.eliater.examples.sars_cov2 import sars_large_example as example\n",
    "from src.eliater.examples.sars_cov2 import generate_continuous\n",
    "from eliater.network_validation import print_graph_falsifications\n",
    "from y0.algorithm.estimation import estimate_ace\n",
    "from y0.algorithm.identify import Identification, identify_outcomes\n",
    "from y0.dsl import P, Variable\n",
    "\n",
    "# version_df()"
   ]
  },
  {
   "cell_type": "code",
   "execution_count": 14,
   "id": "e3c3963b-36d3-468c-af44-2209e9ed24f8",
   "metadata": {
    "ExecuteTime": {
     "end_time": "2024-01-20T16:32:40.520857300Z",
     "start_time": "2024-01-20T16:32:40.488889300Z"
    }
   },
   "outputs": [],
   "source": [
    "treatment = Variable(\"EGFR\")\n",
    "outcome = Variable(\"cytok\")\n",
    "SEED = 100"
   ]
  },
  {
   "cell_type": "markdown",
   "id": "5b60ed63441c5411",
   "metadata": {
    "collapsed": false
   },
   "source": [
    "This is case study 1 in Figure 6 in this paper: Eliater: an open source software for causal query estimation from observational measurements of biomolecular networks. The figure below shows the SARS-CoV-2 network (Mohammad-Taheri et al., 2022; Zucker\n",
    "et al., 2021), which models the activation of Cytokine Release Syndrome (Cytokine Storm), a known factor causing tissue damage in severely ill SARS-CoV-2 patients (Ulhaq and Soraya, 2020)."
   ]
  },
  {
   "cell_type": "code",
   "execution_count": 15,
   "id": "7ab5d32c79b7bf2",
   "metadata": {
    "collapsed": false,
    "ExecuteTime": {
     "end_time": "2024-01-20T16:32:43.465482800Z",
     "start_time": "2024-01-20T16:32:43.435327800Z"
    }
   },
   "outputs": [],
   "source": [
    "graph = example.graph"
   ]
  },
  {
   "cell_type": "markdown",
   "id": "d5f92410e9801798",
   "metadata": {
    "collapsed": false
   },
   "source": [
    "This case study used synthetic observational data. The generation of this synthetic data was inspired by common biological practices. For each endogenous variable $X$ including $EGFR$, we represented  biomolecular reactions using Hill equations \\cite{alon2019introduction}. Specifically, we generated observations of each node $X$ from a Binomial distribution with probability of $\\frac{1}{1 + \\exp(\\mathbf{\\theta}^{\\prime} Pa(X) + \\theta_0)}$, where $Pa(X)$ is a $q \\times 1$ vector of measurements related to the parent of $X$, $\\mathbf{\\theta}'$ is a $1 \\times q$ parameter vector, and $\\theta_0$ is a scalar. The probability distributions for the exogenous variables were simulated from a Binomial distribution with a random probability between 0.4 to 0.8."
   ]
  },
  {
   "cell_type": "code",
   "execution_count": 16,
   "id": "eb3a23add3bc3914",
   "metadata": {
    "collapsed": false,
    "ExecuteTime": {
     "end_time": "2024-01-20T16:32:45.916915900Z",
     "start_time": "2024-01-20T16:32:45.756144Z"
    }
   },
   "outputs": [
    {
     "data": {
      "text/plain": "   SARS_COV2       ACE2        Ang       AGTR1     ADAM17       Toci  \\\n0  73.679109  17.576840  93.861006  101.151905  98.540180  56.005886   \n1  56.620967  31.727878  78.949305   99.479725  99.297518  56.022003   \n2  65.013230  24.644308  89.730900  100.509177  99.437188  49.753317   \n3  76.249522  19.484148  98.286645   98.466683  98.528750  55.121697   \n4  76.961345  18.504758  92.974745   99.686780  97.174635  45.153245   \n\n       Sil6r        EGF        TNF       Gefi  EGFR        PRR       NFKB  \\\n0  69.424218  96.505141  99.296894  33.424504     1  97.370407  29.751989   \n1  64.051996  98.542970  98.511394  47.897558     1  89.538987  38.158193   \n2  82.287237  91.929421  99.807326  52.808541     1  94.206983  34.403547   \n3  74.968228  97.613234  99.470404  50.439736     1  97.493690  29.059414   \n4  55.506413  95.726874  99.440437  35.386174     1  98.792294  32.300719   \n\n    IL6STAT3     IL6AMP      cytok  \n0  29.366957  38.082656  59.631856  \n1  22.415073  37.129663  56.431981  \n2  44.666545  52.566070  77.488187  \n3  37.505798  41.889477  63.836998  \n4  19.319097  33.277613  52.521325  ",
      "text/html": "<div>\n<style scoped>\n    .dataframe tbody tr th:only-of-type {\n        vertical-align: middle;\n    }\n\n    .dataframe tbody tr th {\n        vertical-align: top;\n    }\n\n    .dataframe thead th {\n        text-align: right;\n    }\n</style>\n<table border=\"1\" class=\"dataframe\">\n  <thead>\n    <tr style=\"text-align: right;\">\n      <th></th>\n      <th>SARS_COV2</th>\n      <th>ACE2</th>\n      <th>Ang</th>\n      <th>AGTR1</th>\n      <th>ADAM17</th>\n      <th>Toci</th>\n      <th>Sil6r</th>\n      <th>EGF</th>\n      <th>TNF</th>\n      <th>Gefi</th>\n      <th>EGFR</th>\n      <th>PRR</th>\n      <th>NFKB</th>\n      <th>IL6STAT3</th>\n      <th>IL6AMP</th>\n      <th>cytok</th>\n    </tr>\n  </thead>\n  <tbody>\n    <tr>\n      <th>0</th>\n      <td>73.679109</td>\n      <td>17.576840</td>\n      <td>93.861006</td>\n      <td>101.151905</td>\n      <td>98.540180</td>\n      <td>56.005886</td>\n      <td>69.424218</td>\n      <td>96.505141</td>\n      <td>99.296894</td>\n      <td>33.424504</td>\n      <td>1</td>\n      <td>97.370407</td>\n      <td>29.751989</td>\n      <td>29.366957</td>\n      <td>38.082656</td>\n      <td>59.631856</td>\n    </tr>\n    <tr>\n      <th>1</th>\n      <td>56.620967</td>\n      <td>31.727878</td>\n      <td>78.949305</td>\n      <td>99.479725</td>\n      <td>99.297518</td>\n      <td>56.022003</td>\n      <td>64.051996</td>\n      <td>98.542970</td>\n      <td>98.511394</td>\n      <td>47.897558</td>\n      <td>1</td>\n      <td>89.538987</td>\n      <td>38.158193</td>\n      <td>22.415073</td>\n      <td>37.129663</td>\n      <td>56.431981</td>\n    </tr>\n    <tr>\n      <th>2</th>\n      <td>65.013230</td>\n      <td>24.644308</td>\n      <td>89.730900</td>\n      <td>100.509177</td>\n      <td>99.437188</td>\n      <td>49.753317</td>\n      <td>82.287237</td>\n      <td>91.929421</td>\n      <td>99.807326</td>\n      <td>52.808541</td>\n      <td>1</td>\n      <td>94.206983</td>\n      <td>34.403547</td>\n      <td>44.666545</td>\n      <td>52.566070</td>\n      <td>77.488187</td>\n    </tr>\n    <tr>\n      <th>3</th>\n      <td>76.249522</td>\n      <td>19.484148</td>\n      <td>98.286645</td>\n      <td>98.466683</td>\n      <td>98.528750</td>\n      <td>55.121697</td>\n      <td>74.968228</td>\n      <td>97.613234</td>\n      <td>99.470404</td>\n      <td>50.439736</td>\n      <td>1</td>\n      <td>97.493690</td>\n      <td>29.059414</td>\n      <td>37.505798</td>\n      <td>41.889477</td>\n      <td>63.836998</td>\n    </tr>\n    <tr>\n      <th>4</th>\n      <td>76.961345</td>\n      <td>18.504758</td>\n      <td>92.974745</td>\n      <td>99.686780</td>\n      <td>97.174635</td>\n      <td>45.153245</td>\n      <td>55.506413</td>\n      <td>95.726874</td>\n      <td>99.440437</td>\n      <td>35.386174</td>\n      <td>1</td>\n      <td>98.792294</td>\n      <td>32.300719</td>\n      <td>19.319097</td>\n      <td>33.277613</td>\n      <td>52.521325</td>\n    </tr>\n  </tbody>\n</table>\n</div>"
     },
     "execution_count": 16,
     "metadata": {},
     "output_type": "execute_result"
    }
   ],
   "source": [
    "# get observational data\n",
    "#data = example.generate_data(1000, seed=SEED)\n",
    "data = example.generate_data(1000, seed=SEED)\n",
    "data.head()"
   ]
  },
  {
   "cell_type": "markdown",
   "id": "22de51a518ee7699",
   "metadata": {
    "collapsed": false
   },
   "source": [
    "## Step 1: Verify correctness of the network structure"
   ]
  },
  {
   "cell_type": "code",
   "execution_count": 23,
   "id": "e21efcf3940ffc5e",
   "metadata": {
    "collapsed": false,
    "ExecuteTime": {
     "end_time": "2024-01-20T16:35:39.036090300Z",
     "start_time": "2024-01-20T16:35:10.533913100Z"
    }
   },
   "outputs": [
    {
     "ename": "ValueError",
     "evalue": "using binary data test (chi-square) on continuous data",
     "output_type": "error",
     "traceback": [
      "\u001B[1;31m---------------------------------------------------------------------------\u001B[0m",
      "\u001B[1;31mValueError\u001B[0m                                Traceback (most recent call last)",
      "Cell \u001B[1;32mIn[23], line 1\u001B[0m\n\u001B[1;32m----> 1\u001B[0m \u001B[43mprint_graph_falsifications\u001B[49m\u001B[43m(\u001B[49m\n\u001B[0;32m      2\u001B[0m \u001B[43m    \u001B[49m\u001B[43mgraph\u001B[49m\u001B[38;5;241;43m=\u001B[39;49m\u001B[43mgraph\u001B[49m\u001B[43m,\u001B[49m\u001B[43m \u001B[49m\u001B[43mdata\u001B[49m\u001B[38;5;241;43m=\u001B[39;49m\u001B[43mdata\u001B[49m\u001B[43m,\u001B[49m\u001B[43m \u001B[49m\u001B[43mmethod\u001B[49m\u001B[38;5;241;43m=\u001B[39;49m\u001B[38;5;124;43m\"\u001B[39;49m\u001B[38;5;124;43mchi-square\u001B[39;49m\u001B[38;5;124;43m\"\u001B[39;49m\u001B[43m,\u001B[49m\u001B[43m \u001B[49m\u001B[43mverbose\u001B[49m\u001B[38;5;241;43m=\u001B[39;49m\u001B[38;5;28;43;01mTrue\u001B[39;49;00m\u001B[43m,\u001B[49m\u001B[43m \u001B[49m\u001B[43msignificance_level\u001B[49m\u001B[38;5;241;43m=\u001B[39;49m\u001B[38;5;241;43m0.01\u001B[39;49m\n\u001B[0;32m      3\u001B[0m \u001B[43m)\u001B[49m\n",
      "File \u001B[1;32m~\\PycharmProjects\\eliater\\venv\\Lib\\site-packages\\eliater\\network_validation.py:250\u001B[0m, in \u001B[0;36mprint_graph_falsifications\u001B[1;34m(graph, data, method, max_given, significance_level, verbose, tablefmt)\u001B[0m\n\u001B[0;32m    248\u001B[0m \u001B[38;5;28;01mif\u001B[39;00m significance_level \u001B[38;5;129;01mis\u001B[39;00m \u001B[38;5;28;01mNone\u001B[39;00m:\n\u001B[0;32m    249\u001B[0m     significance_level \u001B[38;5;241m=\u001B[39m DEFAULT_SIGNIFICANCE\n\u001B[1;32m--> 250\u001B[0m evidence_df \u001B[38;5;241m=\u001B[39m \u001B[43mget_graph_falsifications\u001B[49m\u001B[43m(\u001B[49m\n\u001B[0;32m    251\u001B[0m \u001B[43m    \u001B[49m\u001B[43mgraph\u001B[49m\u001B[38;5;241;43m=\u001B[39;49m\u001B[43mgraph\u001B[49m\u001B[43m,\u001B[49m\n\u001B[0;32m    252\u001B[0m \u001B[43m    \u001B[49m\u001B[43mdf\u001B[49m\u001B[38;5;241;43m=\u001B[39;49m\u001B[43mdata\u001B[49m\u001B[43m,\u001B[49m\n\u001B[0;32m    253\u001B[0m \u001B[43m    \u001B[49m\u001B[43mmethod\u001B[49m\u001B[38;5;241;43m=\u001B[39;49m\u001B[43mmethod\u001B[49m\u001B[43m,\u001B[49m\n\u001B[0;32m    254\u001B[0m \u001B[43m    \u001B[49m\u001B[43msignificance_level\u001B[49m\u001B[38;5;241;43m=\u001B[39;49m\u001B[43msignificance_level\u001B[49m\u001B[43m,\u001B[49m\n\u001B[0;32m    255\u001B[0m \u001B[43m    \u001B[49m\u001B[43mmax_given\u001B[49m\u001B[38;5;241;43m=\u001B[39;49m\u001B[43mmax_given\u001B[49m\u001B[43m,\u001B[49m\n\u001B[0;32m    256\u001B[0m \u001B[43m\u001B[49m\u001B[43m)\u001B[49m\u001B[38;5;241m.\u001B[39mevidence\n\u001B[0;32m    257\u001B[0m n_total \u001B[38;5;241m=\u001B[39m \u001B[38;5;28mlen\u001B[39m(evidence_df)\n\u001B[0;32m    258\u001B[0m n_failed \u001B[38;5;241m=\u001B[39m evidence_df[\u001B[38;5;124m\"\u001B[39m\u001B[38;5;124mp_adj_significant\u001B[39m\u001B[38;5;124m\"\u001B[39m]\u001B[38;5;241m.\u001B[39msum()\n",
      "File \u001B[1;32m~\\PycharmProjects\\eliater\\venv\\Lib\\site-packages\\y0\\algorithm\\falsification.py:63\u001B[0m, in \u001B[0;36mget_graph_falsifications\u001B[1;34m(graph, df, significance_level, max_given, verbose, method)\u001B[0m\n\u001B[0;32m     51\u001B[0m \u001B[38;5;250m\u001B[39m\u001B[38;5;124;03m\"\"\"Test conditional independencies implied by a graph.\u001B[39;00m\n\u001B[0;32m     52\u001B[0m \n\u001B[0;32m     53\u001B[0m \u001B[38;5;124;03m:param graph: An ADMG\u001B[39;00m\n\u001B[1;32m   (...)\u001B[0m\n\u001B[0;32m     60\u001B[0m \u001B[38;5;124;03m:return: Falsifications report\u001B[39;00m\n\u001B[0;32m     61\u001B[0m \u001B[38;5;124;03m\"\"\"\u001B[39;00m\n\u001B[0;32m     62\u001B[0m judgements \u001B[38;5;241m=\u001B[39m get_conditional_independencies(graph, max_conditions\u001B[38;5;241m=\u001B[39mmax_given, verbose\u001B[38;5;241m=\u001B[39mverbose)\n\u001B[1;32m---> 63\u001B[0m \u001B[38;5;28;01mreturn\u001B[39;00m \u001B[43mget_falsifications\u001B[49m\u001B[43m(\u001B[49m\n\u001B[0;32m     64\u001B[0m \u001B[43m    \u001B[49m\u001B[43mjudgements\u001B[49m\u001B[38;5;241;43m=\u001B[39;49m\u001B[43mjudgements\u001B[49m\u001B[43m,\u001B[49m\n\u001B[0;32m     65\u001B[0m \u001B[43m    \u001B[49m\u001B[43mdf\u001B[49m\u001B[38;5;241;43m=\u001B[39;49m\u001B[43mdf\u001B[49m\u001B[43m,\u001B[49m\n\u001B[0;32m     66\u001B[0m \u001B[43m    \u001B[49m\u001B[43msignificance_level\u001B[49m\u001B[38;5;241;43m=\u001B[39;49m\u001B[43msignificance_level\u001B[49m\u001B[43m,\u001B[49m\n\u001B[0;32m     67\u001B[0m \u001B[43m    \u001B[49m\u001B[43mverbose\u001B[49m\u001B[38;5;241;43m=\u001B[39;49m\u001B[43mverbose\u001B[49m\u001B[43m,\u001B[49m\n\u001B[0;32m     68\u001B[0m \u001B[43m    \u001B[49m\u001B[43mmethod\u001B[49m\u001B[38;5;241;43m=\u001B[39;49m\u001B[43mmethod\u001B[49m\u001B[43m,\u001B[49m\n\u001B[0;32m     69\u001B[0m \u001B[43m\u001B[49m\u001B[43m)\u001B[49m\n",
      "File \u001B[1;32m~\\PycharmProjects\\eliater\\venv\\Lib\\site-packages\\y0\\algorithm\\falsification.py:99\u001B[0m, in \u001B[0;36mget_falsifications\u001B[1;34m(judgements, df, significance_level, verbose, method, correction)\u001B[0m\n\u001B[0;32m     97\u001B[0m \u001B[38;5;66;03m# Make this loop explicit for clarity\u001B[39;00m\n\u001B[0;32m     98\u001B[0m results \u001B[38;5;241m=\u001B[39m []\n\u001B[1;32m---> 99\u001B[0m method \u001B[38;5;241m=\u001B[39m \u001B[43m_ensure_method\u001B[49m\u001B[43m(\u001B[49m\u001B[43mmethod\u001B[49m\u001B[43m,\u001B[49m\u001B[43m \u001B[49m\u001B[43mdf\u001B[49m\u001B[43m)\u001B[49m\n\u001B[0;32m    100\u001B[0m \u001B[38;5;28;01mfor\u001B[39;00m judgement \u001B[38;5;129;01min\u001B[39;00m tqdm(judgements, disable\u001B[38;5;241m=\u001B[39m\u001B[38;5;129;01mnot\u001B[39;00m verbose, desc\u001B[38;5;241m=\u001B[39m\u001B[38;5;124m\"\u001B[39m\u001B[38;5;124mChecking conditionals\u001B[39m\u001B[38;5;124m\"\u001B[39m):\n\u001B[0;32m    101\u001B[0m     result \u001B[38;5;241m=\u001B[39m judgement\u001B[38;5;241m.\u001B[39mtest(df, method\u001B[38;5;241m=\u001B[39mmethod)\n",
      "File \u001B[1;32m~\\PycharmProjects\\eliater\\venv\\Lib\\site-packages\\y0\\struct.py:203\u001B[0m, in \u001B[0;36m_ensure_method\u001B[1;34m(method, df)\u001B[0m\n\u001B[0;32m    199\u001B[0m     \u001B[38;5;28;01mraise\u001B[39;00m \u001B[38;5;167;01mValueError\u001B[39;00m(\n\u001B[0;32m    200\u001B[0m         \u001B[38;5;124mf\u001B[39m\u001B[38;5;124m\"\u001B[39m\u001B[38;5;124musing continuous data test (\u001B[39m\u001B[38;5;132;01m{\u001B[39;00mmethod\u001B[38;5;132;01m}\u001B[39;00m\u001B[38;5;124m) on binary data: \u001B[39m\u001B[38;5;132;01m{\u001B[39;00m_summarize_df(df)\u001B[38;5;132;01m}\u001B[39;00m\u001B[38;5;124m\"\u001B[39m\n\u001B[0;32m    201\u001B[0m     )\n\u001B[0;32m    202\u001B[0m \u001B[38;5;28;01melif\u001B[39;00m \u001B[38;5;129;01mnot\u001B[39;00m binary \u001B[38;5;129;01mand\u001B[39;00m method \u001B[38;5;241m!=\u001B[39m \u001B[38;5;124m\"\u001B[39m\u001B[38;5;124mpearson\u001B[39m\u001B[38;5;124m\"\u001B[39m:\n\u001B[1;32m--> 203\u001B[0m     \u001B[38;5;28;01mraise\u001B[39;00m \u001B[38;5;167;01mValueError\u001B[39;00m(\u001B[38;5;124mf\u001B[39m\u001B[38;5;124m\"\u001B[39m\u001B[38;5;124musing binary data test (\u001B[39m\u001B[38;5;132;01m{\u001B[39;00mmethod\u001B[38;5;132;01m}\u001B[39;00m\u001B[38;5;124m) on continuous data\u001B[39m\u001B[38;5;124m\"\u001B[39m)\n\u001B[0;32m    204\u001B[0m \u001B[38;5;28;01mreturn\u001B[39;00m method\n",
      "\u001B[1;31mValueError\u001B[0m: using binary data test (chi-square) on continuous data"
     ]
    }
   ],
   "source": [
    "print_graph_falsifications(\n",
    "    graph=graph, data=data, method=\"chi-square\", verbose=True, significance_level=0.01\n",
    ")"
   ]
  },
  {
   "cell_type": "markdown",
   "id": "74b79e259232adfb",
   "metadata": {
    "collapsed": false
   },
   "source": [
    "None of the tests failed for this graph. The reason is that the data is simulated according to the graph structure, hence we expect the d-separations implied by the network be validated by the data. "
   ]
  },
  {
   "cell_type": "markdown",
   "id": "944520ca55c79b4b",
   "metadata": {
    "collapsed": false
   },
   "source": [
    "## Step 2: Check query identifiability"
   ]
  },
  {
   "cell_type": "code",
   "execution_count": 18,
   "id": "25bb329cbc5a1e08",
   "metadata": {
    "collapsed": false,
    "ExecuteTime": {
     "end_time": "2024-01-20T16:33:26.081449800Z",
     "start_time": "2024-01-20T16:33:26.061688100Z"
    }
   },
   "outputs": [
    {
     "data": {
      "text/plain": "Sum[ACE2, ADAM17, AGTR1, Ang, IL6AMP, IL6STAT3, NFKB, PRR, SARS_COV2, Sil6r, TNF, Toci](P(ACE2 | SARS_COV2) * P(AGTR1 | ACE2, Ang, SARS_COV2) * P(IL6AMP | ACE2, ADAM17, AGTR1, Ang, EGF, EGFR, Gefi, IL6STAT3, NFKB, PRR, SARS_COV2, Sil6r, TNF, Toci) * P(IL6STAT3 | ACE2, ADAM17, AGTR1, Ang, SARS_COV2, Sil6r, Toci) * P(TNF | ACE2, ADAM17, AGTR1, Ang, SARS_COV2) * P(cytok | ACE2, ADAM17, AGTR1, Ang, EGF, EGFR, Gefi, IL6AMP, IL6STAT3, NFKB, PRR, SARS_COV2, Sil6r, TNF, Toci) * Sum[ACE2, ADAM17, AGTR1, Ang, EGF, EGFR, Gefi, IL6AMP, IL6STAT3, NFKB, PRR, SARS_COV2, Sil6r, TNF, cytok](P(ACE2, ADAM17, AGTR1, Ang, EGF, EGFR, Gefi, IL6AMP, IL6STAT3, NFKB, PRR, SARS_COV2, Sil6r, TNF, Toci, cytok)) * P(ADAM17 | ACE2, AGTR1, Ang, SARS_COV2, Toci) * P(Sil6r | ACE2, ADAM17, AGTR1, Ang, SARS_COV2, Toci) * P(Ang | ACE2, SARS_COV2) * P(SARS_COV2) * P(NFKB | ACE2, ADAM17, AGTR1, Ang, EGF, EGFR, Gefi, PRR, SARS_COV2, TNF) * P(PRR | ACE2, Gefi, SARS_COV2))",
      "text/latex": "$\\sum\\limits_{ACE_2, ADAM_{17}, AGTR_1, Ang, IL6AM_P, IL6STA_{T3}, NFKB, PRR, SARS_COV_2, Sil6_r, TNF, Toci} P(ACE_2 | SARS_COV_2) P(AGTR_1 | ACE_2, Ang, SARS_COV_2) P(IL6AM_P | ACE_2, ADAM_{17}, AGTR_1, Ang, EGF, EGFR, Gefi, IL6STA_{T3}, NFKB, PRR, SARS_COV_2, Sil6_r, TNF, Toci) P(IL6STA_{T3} | ACE_2, ADAM_{17}, AGTR_1, Ang, SARS_COV_2, Sil6_r, Toci) P(TNF | ACE_2, ADAM_{17}, AGTR_1, Ang, SARS_COV_2) P(cytok | ACE_2, ADAM_{17}, AGTR_1, Ang, EGF, EGFR, Gefi, IL6AM_P, IL6STA_{T3}, NFKB, PRR, SARS_COV_2, Sil6_r, TNF, Toci) \\sum\\limits_{ACE_2, ADAM_{17}, AGTR_1, Ang, EGF, EGFR, Gefi, IL6AM_P, IL6STA_{T3}, NFKB, PRR, SARS_COV_2, Sil6_r, TNF, cytok} P(ACE_2, ADAM_{17}, AGTR_1, Ang, EGF, EGFR, Gefi, IL6AM_P, IL6STA_{T3}, NFKB, PRR, SARS_COV_2, Sil6_r, TNF, Toci, cytok) P(ADAM_{17} | ACE_2, AGTR_1, Ang, SARS_COV_2, Toci) P(Sil6_r | ACE_2, ADAM_{17}, AGTR_1, Ang, SARS_COV_2, Toci) P(Ang | ACE_2, SARS_COV_2) P(SARS_COV_2) P(NFKB | ACE_2, ADAM_{17}, AGTR_1, Ang, EGF, EGFR, Gefi, PRR, SARS_COV_2, TNF) P(PRR | ACE_2, Gefi, SARS_COV_2)$"
     },
     "execution_count": 18,
     "metadata": {},
     "output_type": "execute_result"
    }
   ],
   "source": [
    "identify_outcomes(graph=graph, treatments=treatment, outcomes=outcome)"
   ]
  },
  {
   "cell_type": "markdown",
   "id": "5ac9e0aec8791fbc",
   "metadata": {
    "collapsed": false
   },
   "source": [
    "The query is identifiable."
   ]
  },
  {
   "cell_type": "markdown",
   "id": "e84ccc3bdc28f772",
   "metadata": {
    "collapsed": false
   },
   "source": [
    "## Step 3: Find nuisance variables and mark them as latent"
   ]
  },
  {
   "cell_type": "markdown",
   "id": "c7ea93588b4f7188",
   "metadata": {
    "collapsed": false
   },
   "source": [
    "This function finds the nuisance variables for the input graph."
   ]
  },
  {
   "cell_type": "code",
   "execution_count": 19,
   "id": "4dff38fbf23ce61c",
   "metadata": {
    "collapsed": false,
    "ExecuteTime": {
     "end_time": "2024-01-20T16:33:31.723814Z",
     "start_time": "2024-01-20T16:33:31.685875300Z"
    }
   },
   "outputs": [
    {
     "data": {
      "text/plain": "set()"
     },
     "execution_count": 19,
     "metadata": {},
     "output_type": "execute_result"
    }
   ],
   "source": [
    "nuisance_variables = find_nuisance_variables(graph, treatments=treatment, outcomes=outcome)\n",
    "nuisance_variables"
   ]
  },
  {
   "cell_type": "markdown",
   "id": "7401dd4e2c6d5d31",
   "metadata": {
    "collapsed": false
   },
   "source": [
    "No variable is identified as the nuisance variable. Hence the simplified network in the next step will produce a graph similar to the original graph."
   ]
  },
  {
   "cell_type": "markdown",
   "id": "6aa2819509255d89",
   "metadata": {
    "collapsed": false
   },
   "source": [
    "## Step 4: Simplify the network"
   ]
  },
  {
   "cell_type": "markdown",
   "id": "7b987190a5fa7453",
   "metadata": {
    "collapsed": false
   },
   "source": [
    "The following function finds the nuisance variables (step 3), marks them as latent and then applies Evan's simplification rules to remove the nuisance variables. As there are no nuisance variables, the new graph will be the same as the original graph."
   ]
  },
  {
   "cell_type": "code",
   "execution_count": 20,
   "id": "e6849ec627ee2b59",
   "metadata": {
    "collapsed": false,
    "ExecuteTime": {
     "end_time": "2024-01-20T16:33:37.637814800Z",
     "start_time": "2024-01-20T16:33:37.610820600Z"
    }
   },
   "outputs": [],
   "source": [
    "new_graph = remove_nuisance_variables(graph, treatments=treatment, outcomes=outcome)"
   ]
  },
  {
   "cell_type": "markdown",
   "id": "b8e9dd961d1d459a",
   "metadata": {
    "collapsed": false
   },
   "source": [
    "## Step 5: Estimate the query"
   ]
  },
  {
   "cell_type": "code",
   "execution_count": 21,
   "id": "5c926e5be8539db9",
   "metadata": {
    "collapsed": false,
    "ExecuteTime": {
     "end_time": "2024-01-20T16:33:40.093742700Z",
     "start_time": "2024-01-20T16:33:39.947671200Z"
    }
   },
   "outputs": [
    {
     "data": {
      "text/plain": "0.6049518182729798"
     },
     "execution_count": 21,
     "metadata": {},
     "output_type": "execute_result"
    }
   ],
   "source": [
    "estimate_ace(new_graph, treatments=treatment, outcomes=outcome, data=data)"
   ]
  },
  {
   "cell_type": "markdown",
   "id": "bcdeff27d0bcbcb3",
   "metadata": {
    "collapsed": false
   },
   "source": [
    "## Evaluation criterion\n",
    "As we used synthetic data set, we were able to generate two interventional data sets where in\n",
    "one EGFR was set to 1, and the other one EGFR is set to 0. The ATE was calculated by subtracting the average value of Cytokine Storm obtained from each interventional data,\n",
    "resulting in the ground truth ATE=-0.018. The negative ATE indicates that the Gefitinib drug can reduce the increase in Cytokine Storm levels, hence can help in treating patients having SARS-Cov-2."
   ]
  },
  {
   "cell_type": "code",
   "execution_count": 22,
   "outputs": [
    {
     "data": {
      "text/plain": "0.7965175191822595"
     },
     "execution_count": 22,
     "metadata": {},
     "output_type": "execute_result"
    }
   ],
   "source": [
    "def get_background_ace(seed=None) -> float:\n",
    "    # get interventional data where treatment is set to 1\n",
    "    data_1 = generate_continuous(1000, {treatment: 1.0}, seed=seed)\n",
    "    # get interventional data where treatment is set to 0\n",
    "    data_0 = generate_continuous(1000, {treatment: 0.0}, seed=seed)\n",
    "    return data_1.mean()[outcome.name] - data_0.mean()[outcome.name]\n",
    "\n",
    "# get the true value of ATE\n",
    "get_background_ace(seed=SEED)"
   ],
   "metadata": {
    "collapsed": false,
    "ExecuteTime": {
     "end_time": "2024-01-20T16:33:45.138312900Z",
     "start_time": "2024-01-20T16:33:45.106142Z"
    }
   },
   "id": "14bdcdd244526750"
  },
  {
   "cell_type": "code",
   "execution_count": 82,
   "id": "11d39e8121e39e59",
   "metadata": {
    "collapsed": false,
    "ExecuteTime": {
     "end_time": "2024-01-20T14:25:23.387755Z",
     "start_time": "2024-01-20T14:25:23.344130Z"
    }
   },
   "outputs": [
    {
     "data": {
      "text/plain": "-0.024999999999999967"
     },
     "execution_count": 82,
     "metadata": {},
     "output_type": "execute_result"
    }
   ],
   "source": [
    "# def get_background_ace(seed=None) -> float:\n",
    "#     # get interventional data where treatment is set to 1\n",
    "#     data_1 = example.generate_data(1000, {treatment: 1.0}, seed=seed)\n",
    "#     # get interventional data where treatment is set to 0\n",
    "#     data_0 = example.generate_data(1000, {treatment: 0.0}, seed=seed)\n",
    "#     return data_1.mean()[outcome.name] - data_0.mean()[outcome.name]\n",
    "# \n",
    "# # get the true value of ATE\n",
    "# get_background_ace(seed=SEED)"
   ]
  },
  {
   "cell_type": "markdown",
   "id": "c721a0a302437bdc",
   "metadata": {
    "collapsed": false
   },
   "source": [
    "jThe estimated $\\widehat{\\mathrm{ATE}}=-0.2$, comparable in sign and magnitute to the ground truth ATE=-0.02. The discrepancy in the value of results is due to non-linear, and complex data generation procedure, which is similar to the real-life experimental artifacts, and due to the approximate nature of the modeling assumption."
   ]
  },
  {
   "cell_type": "code",
   "execution_count": 65,
   "outputs": [
    {
     "data": {
      "text/plain": "1122.2222222222224"
     },
     "execution_count": 65,
     "metadata": {},
     "output_type": "execute_result"
    }
   ],
   "source": [
    "#Relative change\n",
    "((-0.22+0.018)/-0.018)"
   ],
   "metadata": {
    "collapsed": false,
    "ExecuteTime": {
     "end_time": "2024-01-20T14:13:01.588984Z",
     "start_time": "2024-01-20T14:13:01.533349Z"
    }
   },
   "id": "6044644d90692b3d"
  },
  {
   "cell_type": "code",
   "execution_count": null,
   "outputs": [],
   "source": [],
   "metadata": {
    "collapsed": false
   },
   "id": "39eb00a8dbc022f2"
  }
 ],
 "metadata": {
  "kernelspec": {
   "display_name": "Python 3 (ipykernel)",
   "language": "python",
   "name": "python3"
  },
  "language_info": {
   "codemirror_mode": {
    "name": "ipython",
    "version": 3
   },
   "file_extension": ".py",
   "mimetype": "text/x-python",
   "name": "python",
   "nbconvert_exporter": "python",
   "pygments_lexer": "ipython3",
   "version": "3.11.6"
  }
 },
 "nbformat": 4,
 "nbformat_minor": 5
}
