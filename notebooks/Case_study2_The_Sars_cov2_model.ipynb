{
 "cells": [
  {
   "cell_type": "markdown",
   "source": [
    "# Case study 2: The Sars-Cov2 model"
   ],
   "metadata": {
    "collapsed": false
   },
   "id": "cb1612e5198cab85"
  },
  {
   "cell_type": "code",
   "outputs": [
    {
     "name": "stdout",
     "output_type": "stream",
     "text": [
      "Collecting git+https://github.com/y0-causal-inference/eliater.git@linear-regression\n",
      "  Cloning https://github.com/y0-causal-inference/eliater.git (to revision linear-regression) to c:\\users\\pnava\\appdata\\local\\temp\\pip-req-build-qtw9eg_j\n",
      "  Resolved https://github.com/y0-causal-inference/eliater.git to commit 3de3be53d14e16b9ec8831bf35478f34ee04a76f\n",
      "  Installing build dependencies: started\n",
      "  Installing build dependencies: finished with status 'done'\n",
      "  Getting requirements to build wheel: started\n",
      "  Getting requirements to build wheel: finished with status 'done'\n",
      "  Preparing metadata (pyproject.toml): started\n",
      "  Preparing metadata (pyproject.toml): finished with status 'done'\n",
      "Requirement already satisfied: y0>=0.2.5 in c:\\users\\pnava\\pycharmprojects\\eliater\\venv\\lib\\site-packages (from eliater==0.0.1.dev0) (0.2.5)\n",
      "Requirement already satisfied: scipy in c:\\users\\pnava\\pycharmprojects\\eliater\\venv\\lib\\site-packages (from eliater==0.0.1.dev0) (1.11.4)\n",
      "Requirement already satisfied: numpy in c:\\users\\pnava\\pycharmprojects\\eliater\\venv\\lib\\site-packages (from eliater==0.0.1.dev0) (1.26.3)\n",
      "Requirement already satisfied: ananke-causal>=0.5.0 in c:\\users\\pnava\\pycharmprojects\\eliater\\venv\\lib\\site-packages (from eliater==0.0.1.dev0) (0.5.0)\n",
      "Requirement already satisfied: pgmpy>=0.1.24 in c:\\users\\pnava\\pycharmprojects\\eliater\\venv\\lib\\site-packages (from eliater==0.0.1.dev0) (0.1.24)\n",
      "Requirement already satisfied: matplotlib in c:\\users\\pnava\\pycharmprojects\\eliater\\venv\\lib\\site-packages (from eliater==0.0.1.dev0) (3.8.2)\n",
      "Requirement already satisfied: pandas in c:\\users\\pnava\\pycharmprojects\\eliater\\venv\\lib\\site-packages (from eliater==0.0.1.dev0) (1.5.3)\n",
      "Requirement already satisfied: seaborn in c:\\users\\pnava\\pycharmprojects\\eliater\\venv\\lib\\site-packages (from eliater==0.0.1.dev0) (0.13.1)\n",
      "Requirement already satisfied: optimaladj>=0.0.4 in c:\\users\\pnava\\pycharmprojects\\eliater\\venv\\lib\\site-packages (from eliater==0.0.1.dev0) (0.0.4)\n",
      "Requirement already satisfied: jax<0.5.0,>=0.4.8 in c:\\users\\pnava\\pycharmprojects\\eliater\\venv\\lib\\site-packages (from ananke-causal>=0.5.0->eliater==0.0.1.dev0) (0.4.23)\n",
      "Requirement already satisfied: jaxlib<0.5.0,>=0.4.7 in c:\\users\\pnava\\pycharmprojects\\eliater\\venv\\lib\\site-packages (from ananke-causal>=0.5.0->eliater==0.0.1.dev0) (0.4.23)\n",
      "Requirement already satisfied: mystic<0.5.0,>=0.4.0 in c:\\users\\pnava\\pycharmprojects\\eliater\\venv\\lib\\site-packages (from ananke-causal>=0.5.0->eliater==0.0.1.dev0) (0.4.1)\n",
      "Requirement already satisfied: statsmodels<0.14.0,>=0.13.2 in c:\\users\\pnava\\pycharmprojects\\eliater\\venv\\lib\\site-packages (from ananke-causal>=0.5.0->eliater==0.0.1.dev0) (0.13.5)\n",
      "Requirement already satisfied: contourpy>=1.0.1 in c:\\users\\pnava\\pycharmprojects\\eliater\\venv\\lib\\site-packages (from matplotlib->eliater==0.0.1.dev0) (1.2.0)\n",
      "Requirement already satisfied: cycler>=0.10 in c:\\users\\pnava\\pycharmprojects\\eliater\\venv\\lib\\site-packages (from matplotlib->eliater==0.0.1.dev0) (0.12.1)\n",
      "Requirement already satisfied: fonttools>=4.22.0 in c:\\users\\pnava\\pycharmprojects\\eliater\\venv\\lib\\site-packages (from matplotlib->eliater==0.0.1.dev0) (4.47.2)\n",
      "Requirement already satisfied: kiwisolver>=1.3.1 in c:\\users\\pnava\\pycharmprojects\\eliater\\venv\\lib\\site-packages (from matplotlib->eliater==0.0.1.dev0) (1.4.5)\n",
      "Requirement already satisfied: packaging>=20.0 in c:\\users\\pnava\\pycharmprojects\\eliater\\venv\\lib\\site-packages (from matplotlib->eliater==0.0.1.dev0) (23.2)\n",
      "Requirement already satisfied: pillow>=8 in c:\\users\\pnava\\pycharmprojects\\eliater\\venv\\lib\\site-packages (from matplotlib->eliater==0.0.1.dev0) (10.2.0)\n",
      "Requirement already satisfied: pyparsing>=2.3.1 in c:\\users\\pnava\\pycharmprojects\\eliater\\venv\\lib\\site-packages (from matplotlib->eliater==0.0.1.dev0) (3.1.1)\n",
      "Requirement already satisfied: python-dateutil>=2.7 in c:\\users\\pnava\\pycharmprojects\\eliater\\venv\\lib\\site-packages (from matplotlib->eliater==0.0.1.dev0) (2.8.2)\n",
      "Requirement already satisfied: pytz>=2020.1 in c:\\users\\pnava\\pycharmprojects\\eliater\\venv\\lib\\site-packages (from pandas->eliater==0.0.1.dev0) (2023.3.post1)\n",
      "Requirement already satisfied: networkx in c:\\users\\pnava\\pycharmprojects\\eliater\\venv\\lib\\site-packages (from pgmpy>=0.1.24->eliater==0.0.1.dev0) (3.2.1)\n",
      "Requirement already satisfied: scikit-learn in c:\\users\\pnava\\pycharmprojects\\eliater\\venv\\lib\\site-packages (from pgmpy>=0.1.24->eliater==0.0.1.dev0) (1.3.2)\n",
      "Requirement already satisfied: torch in c:\\users\\pnava\\pycharmprojects\\eliater\\venv\\lib\\site-packages (from pgmpy>=0.1.24->eliater==0.0.1.dev0) (2.1.2)\n",
      "Requirement already satisfied: tqdm in c:\\users\\pnava\\pycharmprojects\\eliater\\venv\\lib\\site-packages (from pgmpy>=0.1.24->eliater==0.0.1.dev0) (4.66.1)\n",
      "Requirement already satisfied: joblib in c:\\users\\pnava\\pycharmprojects\\eliater\\venv\\lib\\site-packages (from pgmpy>=0.1.24->eliater==0.0.1.dev0) (1.3.2)\n",
      "Requirement already satisfied: opt-einsum in c:\\users\\pnava\\pycharmprojects\\eliater\\venv\\lib\\site-packages (from pgmpy>=0.1.24->eliater==0.0.1.dev0) (3.3.0)\n",
      "Requirement already satisfied: more-itertools in c:\\users\\pnava\\pycharmprojects\\eliater\\venv\\lib\\site-packages (from y0>=0.2.5->eliater==0.0.1.dev0) (10.2.0)\n",
      "Requirement already satisfied: click in c:\\users\\pnava\\pycharmprojects\\eliater\\venv\\lib\\site-packages (from y0>=0.2.5->eliater==0.0.1.dev0) (8.1.7)\n",
      "Requirement already satisfied: more-click in c:\\users\\pnava\\pycharmprojects\\eliater\\venv\\lib\\site-packages (from y0>=0.2.5->eliater==0.0.1.dev0) (0.1.2)\n",
      "Requirement already satisfied: tabulate in c:\\users\\pnava\\pycharmprojects\\eliater\\venv\\lib\\site-packages (from y0>=0.2.5->eliater==0.0.1.dev0) (0.9.0)\n",
      "Requirement already satisfied: ml-dtypes>=0.2.0 in c:\\users\\pnava\\pycharmprojects\\eliater\\venv\\lib\\site-packages (from jax<0.5.0,>=0.4.8->ananke-causal>=0.5.0->eliater==0.0.1.dev0) (0.3.2)\n",
      "Requirement already satisfied: dill>=0.3.7 in c:\\users\\pnava\\pycharmprojects\\eliater\\venv\\lib\\site-packages (from mystic<0.5.0,>=0.4.0->ananke-causal>=0.5.0->eliater==0.0.1.dev0) (0.3.7)\n",
      "Requirement already satisfied: klepto>=0.2.4 in c:\\users\\pnava\\pycharmprojects\\eliater\\venv\\lib\\site-packages (from mystic<0.5.0,>=0.4.0->ananke-causal>=0.5.0->eliater==0.0.1.dev0) (0.2.4)\n",
      "Requirement already satisfied: sympy>=0.6.7 in c:\\users\\pnava\\pycharmprojects\\eliater\\venv\\lib\\site-packages (from mystic<0.5.0,>=0.4.0->ananke-causal>=0.5.0->eliater==0.0.1.dev0) (1.12)\n",
      "Requirement already satisfied: mpmath>=0.19 in c:\\users\\pnava\\pycharmprojects\\eliater\\venv\\lib\\site-packages (from mystic<0.5.0,>=0.4.0->ananke-causal>=0.5.0->eliater==0.0.1.dev0) (1.3.0)\n",
      "Requirement already satisfied: six>=1.5 in c:\\users\\pnava\\pycharmprojects\\eliater\\venv\\lib\\site-packages (from python-dateutil>=2.7->matplotlib->eliater==0.0.1.dev0) (1.16.0)\n",
      "Requirement already satisfied: patsy>=0.5.2 in c:\\users\\pnava\\pycharmprojects\\eliater\\venv\\lib\\site-packages (from statsmodels<0.14.0,>=0.13.2->ananke-causal>=0.5.0->eliater==0.0.1.dev0) (0.5.6)\n",
      "Requirement already satisfied: colorama in c:\\users\\pnava\\pycharmprojects\\eliater\\venv\\lib\\site-packages (from click->y0>=0.2.5->eliater==0.0.1.dev0) (0.4.6)\n",
      "Requirement already satisfied: threadpoolctl>=2.0.0 in c:\\users\\pnava\\pycharmprojects\\eliater\\venv\\lib\\site-packages (from scikit-learn->pgmpy>=0.1.24->eliater==0.0.1.dev0) (3.2.0)\n",
      "Requirement already satisfied: filelock in c:\\users\\pnava\\pycharmprojects\\eliater\\venv\\lib\\site-packages (from torch->pgmpy>=0.1.24->eliater==0.0.1.dev0) (3.13.1)\n",
      "Requirement already satisfied: typing-extensions in c:\\users\\pnava\\pycharmprojects\\eliater\\venv\\lib\\site-packages (from torch->pgmpy>=0.1.24->eliater==0.0.1.dev0) (4.9.0)\n",
      "Requirement already satisfied: jinja2 in c:\\users\\pnava\\pycharmprojects\\eliater\\venv\\lib\\site-packages (from torch->pgmpy>=0.1.24->eliater==0.0.1.dev0) (3.1.3)\n",
      "Requirement already satisfied: fsspec in c:\\users\\pnava\\pycharmprojects\\eliater\\venv\\lib\\site-packages (from torch->pgmpy>=0.1.24->eliater==0.0.1.dev0) (2023.12.2)\n",
      "Requirement already satisfied: pox>=0.3.3 in c:\\users\\pnava\\pycharmprojects\\eliater\\venv\\lib\\site-packages (from klepto>=0.2.4->mystic<0.5.0,>=0.4.0->ananke-causal>=0.5.0->eliater==0.0.1.dev0) (0.3.3)\n",
      "Requirement already satisfied: MarkupSafe>=2.0 in c:\\users\\pnava\\pycharmprojects\\eliater\\venv\\lib\\site-packages (from jinja2->torch->pgmpy>=0.1.24->eliater==0.0.1.dev0) (2.1.3)\n"
     ]
    },
    {
     "name": "stderr",
     "output_type": "stream",
     "text": [
      "  Running command git clone --filter=blob:none --quiet https://github.com/y0-causal-inference/eliater.git 'C:\\Users\\pnava\\AppData\\Local\\Temp\\pip-req-build-qtw9eg_j'\n",
      "  Running command git checkout -b linear-regression --track origin/linear-regression\n",
      "  branch 'linear-regression' set up to track 'origin/linear-regression'.\n",
      "  Switched to a new branch 'linear-regression'\n",
      "\n",
      "[notice] A new release of pip is available: 23.3.1 -> 23.3.2\n",
      "[notice] To update, run: python.exe -m pip install --upgrade pip\n"
     ]
    }
   ],
   "source": [
    "!pip install git+https://github.com/y0-causal-inference/eliater.git@linear-regression"
   ],
   "metadata": {
    "collapsed": false,
    "ExecuteTime": {
     "end_time": "2024-01-14T17:17:17.404187100Z",
     "start_time": "2024-01-14T17:17:04.205071Z"
    }
   },
   "id": "bf178ec456cbb94a",
   "execution_count": 1
  },
  {
   "cell_type": "code",
   "execution_count": 17,
   "id": "initial_id",
   "metadata": {
    "collapsed": true,
    "ExecuteTime": {
     "end_time": "2024-01-14T17:21:57.494077300Z",
     "start_time": "2024-01-14T17:21:57.485842600Z"
    }
   },
   "outputs": [],
   "source": [
    "from eliater.frontdoor_backdoor_discrete import sars_large_example"
   ]
  },
  {
   "cell_type": "markdown",
   "source": [
    "This is case study 2 in Figure 6 in this paper: Eliater: an analytical workflow and open source implementation for causal query estimation in biomolecular networks."
   ],
   "metadata": {
    "collapsed": false
   },
   "id": "5b60ed63441c5411"
  },
  {
   "cell_type": "code",
   "execution_count": 3,
   "outputs": [],
   "source": [
    "graph = sars_large_example.graph"
   ],
   "metadata": {
    "collapsed": false,
    "ExecuteTime": {
     "end_time": "2024-01-14T17:17:46.380247Z",
     "start_time": "2024-01-14T17:17:46.360590600Z"
    }
   },
   "id": "7ab5d32c79b7bf2"
  },
  {
   "cell_type": "markdown",
   "source": [
    "We get the observational data below. However, the data is mixed type, where the exposure (EGFR) is binary and rest of the variables are continuous. Currently, the conditional independence tests in eliater does not support mixed type data. Hence we discretize the data only to use for step 1. Rest of the steps support this type of data, so we use the original data for those steps."
   ],
   "metadata": {
    "collapsed": false
   },
   "id": "d5f92410e9801798"
  },
  {
   "cell_type": "code",
   "execution_count": 4,
   "outputs": [],
   "source": [
    "# get observational data\n",
    "data = sars_large_example.generate_data(1000, seed=100)"
   ],
   "metadata": {
    "collapsed": false,
    "ExecuteTime": {
     "end_time": "2024-01-14T17:17:58.397788100Z",
     "start_time": "2024-01-14T17:17:58.369438400Z"
    }
   },
   "id": "eb3a23add3bc3914"
  },
  {
   "cell_type": "code",
   "outputs": [
    {
     "data": {
      "text/plain": "   SARS_COV2  ACE2  Ang  AGTR1  ADAM17  Toci  Sil6R  EGF  TNF  Gefi  EGFR  \\\n0          0     1    1      0       1     1      0    0    0     1     0   \n1          0     1    1      0       1     0      0    0    0     1     0   \n2          0     0    1      1       1     1      0    1    0     1     0   \n3          0     1    1      0       0     1      0    0    0     1     0   \n4          0     1    1      0       0     1      0    0    1     0     0   \n\n   PRR  NFKB  IL6STAT3  IL6AMP  cytok  \n0    0     0         0       0      0  \n1    0     0         0       0      0  \n2    0     0         0       0      0  \n3    0     0         0       0      1  \n4    1     0         0       0      0  ",
      "text/html": "<div>\n<style scoped>\n    .dataframe tbody tr th:only-of-type {\n        vertical-align: middle;\n    }\n\n    .dataframe tbody tr th {\n        vertical-align: top;\n    }\n\n    .dataframe thead th {\n        text-align: right;\n    }\n</style>\n<table border=\"1\" class=\"dataframe\">\n  <thead>\n    <tr style=\"text-align: right;\">\n      <th></th>\n      <th>SARS_COV2</th>\n      <th>ACE2</th>\n      <th>Ang</th>\n      <th>AGTR1</th>\n      <th>ADAM17</th>\n      <th>Toci</th>\n      <th>Sil6R</th>\n      <th>EGF</th>\n      <th>TNF</th>\n      <th>Gefi</th>\n      <th>EGFR</th>\n      <th>PRR</th>\n      <th>NFKB</th>\n      <th>IL6STAT3</th>\n      <th>IL6AMP</th>\n      <th>cytok</th>\n    </tr>\n  </thead>\n  <tbody>\n    <tr>\n      <th>0</th>\n      <td>0</td>\n      <td>1</td>\n      <td>1</td>\n      <td>0</td>\n      <td>1</td>\n      <td>1</td>\n      <td>0</td>\n      <td>0</td>\n      <td>0</td>\n      <td>1</td>\n      <td>0</td>\n      <td>0</td>\n      <td>0</td>\n      <td>0</td>\n      <td>0</td>\n      <td>0</td>\n    </tr>\n    <tr>\n      <th>1</th>\n      <td>0</td>\n      <td>1</td>\n      <td>1</td>\n      <td>0</td>\n      <td>1</td>\n      <td>0</td>\n      <td>0</td>\n      <td>0</td>\n      <td>0</td>\n      <td>1</td>\n      <td>0</td>\n      <td>0</td>\n      <td>0</td>\n      <td>0</td>\n      <td>0</td>\n      <td>0</td>\n    </tr>\n    <tr>\n      <th>2</th>\n      <td>0</td>\n      <td>0</td>\n      <td>1</td>\n      <td>1</td>\n      <td>1</td>\n      <td>1</td>\n      <td>0</td>\n      <td>1</td>\n      <td>0</td>\n      <td>1</td>\n      <td>0</td>\n      <td>0</td>\n      <td>0</td>\n      <td>0</td>\n      <td>0</td>\n      <td>0</td>\n    </tr>\n    <tr>\n      <th>3</th>\n      <td>0</td>\n      <td>1</td>\n      <td>1</td>\n      <td>0</td>\n      <td>0</td>\n      <td>1</td>\n      <td>0</td>\n      <td>0</td>\n      <td>0</td>\n      <td>1</td>\n      <td>0</td>\n      <td>0</td>\n      <td>0</td>\n      <td>0</td>\n      <td>0</td>\n      <td>1</td>\n    </tr>\n    <tr>\n      <th>4</th>\n      <td>0</td>\n      <td>1</td>\n      <td>1</td>\n      <td>0</td>\n      <td>0</td>\n      <td>1</td>\n      <td>0</td>\n      <td>0</td>\n      <td>1</td>\n      <td>0</td>\n      <td>0</td>\n      <td>1</td>\n      <td>0</td>\n      <td>0</td>\n      <td>0</td>\n      <td>0</td>\n    </tr>\n  </tbody>\n</table>\n</div>"
     },
     "execution_count": 5,
     "metadata": {},
     "output_type": "execute_result"
    }
   ],
   "source": [
    "data.head()"
   ],
   "metadata": {
    "collapsed": false,
    "ExecuteTime": {
     "end_time": "2024-01-14T17:18:00.179153200Z",
     "start_time": "2024-01-14T17:18:00.143872300Z"
    }
   },
   "id": "81713af4e9c08fa3",
   "execution_count": 5
  },
  {
   "cell_type": "code",
   "execution_count": 31,
   "outputs": [],
   "source": [
    "# # discritize the data\n",
    "# from sklearn.preprocessing import KBinsDiscretizer\n",
    "# # discretization transform the raw data\n",
    "# kbins = KBinsDiscretizer(n_bins=10, encode='ordinal', strategy='uniform')\n",
    "# data_trans = kbins.fit_transform(data)\n",
    "# print(data_trans)\n",
    "# column_names = [\"SARS_COV2\",\n",
    "#                 \"ACE2\",\n",
    "#                 \"Ang\",\n",
    "#                 \"AGTR1\",\n",
    "#                 \"ADAM17\",\n",
    "#                 \"Toci\",\n",
    "#                 \"Sil6R\",\n",
    "#                 \"EGF\",\n",
    "#                 \"TNF\",\n",
    "#                 \"Gefi\",\n",
    "#                 \"EGFR\",\n",
    "#                 \"PRR\",\n",
    "#                 \"NFKB\",\n",
    "#                 \"IL6STAT3\",\n",
    "#                 \"IL6AMP\",\n",
    "#                 \"cytok\",]\n",
    "# obs_data_discrete = pd.DataFrame(data_trans, columns = [])\n",
    "# # summarize first few rows\n"
   ],
   "metadata": {
    "collapsed": false,
    "ExecuteTime": {
     "end_time": "2023-11-09T14:39:11.496297Z",
     "start_time": "2023-11-09T14:39:11.436353Z"
    }
   },
   "id": "192c73399eb31e8"
  },
  {
   "cell_type": "markdown",
   "source": [
    "## Step 1: Verify correctness of the network structure"
   ],
   "metadata": {
    "collapsed": false
   },
   "id": "22de51a518ee7699"
  },
  {
   "cell_type": "code",
   "outputs": [],
   "source": [
    "from eliater.network_validation import print_graph_falsifications"
   ],
   "metadata": {
    "collapsed": false,
    "ExecuteTime": {
     "end_time": "2024-01-14T17:18:10.429907100Z",
     "start_time": "2024-01-14T17:18:10.424431800Z"
    }
   },
   "id": "c2a9ea89f64f8de2",
   "execution_count": 6
  },
  {
   "cell_type": "code",
   "execution_count": 9,
   "outputs": [
    {
     "name": "stdout",
     "output_type": "stream",
     "text": [
      "Failed tests: 0/99 (0.00%)\n",
      "Reject null hypothesis when p<0.01\n",
      "=========  =========  ===============  ============  ==========  =====  ========  ===================\n",
      "left       right      given                   stats           p    dof     p_adj  p_adj_significant\n",
      "=========  =========  ===============  ============  ==========  =====  ========  ===================\n",
      "NFKB       SARS_COV2  Ang|PRR          13.3242       0.00979556      4  0.969761  False\n",
      "EGFR       cytok      IL6AMP            8.92288      0.0115457       2  1         False\n",
      "Toci       cytok      IL6AMP            0.136108     0.93421         2  1         False\n",
      "SARS_COV2  Sil6r      Ang               0.396373     0.820217        2  1         False\n",
      "NFKB       Sil6r      ADAM17            1.84486      0.397552        2  1         False\n",
      "ACE2       IL6STAT3   Ang               1.25701      0.533388        2  1         False\n",
      "AGTR1      Sil6r      ADAM17            3.61848      0.163779        2  1         False\n",
      "SARS_COV2  Toci                         0.225658     0.634762        1  1         False\n",
      "ACE2       Sil6r      Ang               2.45978      0.292325        2  1         False\n",
      "PRR        Sil6r      Ang               1.17029      0.557024        2  1         False\n",
      "ADAM17     Toci                         1.42371      0.232793        1  1         False\n",
      "AGTR1      EGFR       ADAM17            0.152037     0.926799        2  1         False\n",
      "IL6STAT3   cytok      IL6AMP            0.546133     0.761042        2  1         False\n",
      "ADAM17     Gefi                         0.28393      0.594137        1  1         False\n",
      "Gefi       Toci                         0.335661     0.562345        1  1         False\n",
      "EGFR       Toci                         0.355255     0.551153        1  1         False\n",
      "EGF        Gefi                         1.20041      0.27324         1  1         False\n",
      "AGTR1      PRR        Ang               0            1               2  1         False\n",
      "Ang        Gefi                         0.334376     0.563094        1  1         False\n",
      "ACE2       TNF        Ang               0.171106     0.918005        2  1         False\n",
      "IL6AMP     PRR        IL6STAT3|NFKB     0.148485     0.985443        3  1         False\n",
      "EGFR       Sil6r      ADAM17            0.0955693    0.953339        2  1         False\n",
      "IL6STAT3   Toci       Sil6r             0.513287     0.773644        2  1         False\n",
      "ADAM17     NFKB       Ang|EGFR|TNF      7.04984      0.423709        7  1         False\n",
      "Ang        IL6STAT3   ADAM17            0.31314      0.855072        2  1         False\n",
      "ACE2       cytok      IL6AMP            0.257482     0.879202        2  1         False\n",
      "EGF        TNF        ADAM17            0.703183     0.703567        2  1         False\n",
      "ADAM17     SARS_COV2  Ang               0.129343     0.937375        2  1         False\n",
      "Gefi       TNF                          6.20399      0.0127463       1  1         False\n",
      "PRR        cytok      IL6AMP            0.926146     0.629347        2  1         False\n",
      "Ang        cytok      IL6AMP            3.29913      0.192134        2  1         False\n",
      "EGFR       SARS_COV2  Ang               1.56938      0.45626         2  1         False\n",
      "IL6AMP     Sil6r      ADAM17|IL6STAT3   5.04459      0.282753        4  1         False\n",
      "ACE2       Toci                         0.851898     0.356016        1  1         False\n",
      "AGTR1      IL6AMP     ADAM17|Ang        0.633936     0.959219        4  1         False\n",
      "EGF        Toci                         1.56485      0.210957        1  1         False\n",
      "Gefi       IL6AMP     ADAM17|EGFR       0.125523     0.988608        3  1         False\n",
      "ACE2       EGFR       Ang               1.56368      0.457564        2  1         False\n",
      "Gefi       NFKB       ADAM17|EGFR       6.18612      0.185673        4  1         False\n",
      "EGF        IL6STAT3   ADAM17            0.273349     0.872254        2  1         False\n",
      "EGF        Sil6r      ADAM17            0.776986     0.678078        2  1         False\n",
      "NFKB       cytok      IL6AMP            0.387327     0.823935        2  1         False\n",
      "ADAM17     IL6STAT3   Sil6r             0.00937355   0.995324        2  1         False\n",
      "IL6STAT3   SARS_COV2  Ang               0.566735     0.753243        2  1         False\n",
      "IL6AMP     SARS_COV2  Ang|PRR           4.01964      0.403354        4  1         False\n",
      "Gefi       Sil6r                        0.0166879    0.897214        1  1         False\n",
      "EGFR       IL6AMP     IL6STAT3|NFKB     5.31786      0.149947        3  1         False\n",
      "Ang        PRR        SARS_COV2         0.432336     0.8056          2  1         False\n",
      "PRR        TNF        Ang               1.73277      0.420469        2  1         False\n",
      "ADAM17     cytok      IL6AMP            3.85067      0.145827        2  1         False\n",
      "ACE2       ADAM17     Ang               7.30794      0.0258882       2  1         False\n",
      "AGTR1      Gefi                         0.360739     0.548096        1  1         False\n",
      "EGF        SARS_COV2  Ang               0.480525     0.786421        2  1         False\n",
      "IL6STAT3   TNF        ADAM17            0.275009     0.871531        2  1         False\n",
      "Ang        EGF        ADAM17            1.12674      0.569288        2  1         False\n",
      "AGTR1      NFKB       ADAM17|Ang        0.912995     0.922689        4  1         False\n",
      "EGF        NFKB       ADAM17|EGFR       2.16947      0.704623        4  1         False\n",
      "AGTR1      cytok      IL6AMP            0.205272     0.902455        2  1         False\n",
      "Sil6r      cytok      IL6AMP            0.000361406  0.999819        2  1         False\n",
      "IL6AMP     TNF        IL6STAT3|NFKB     0.97992      0.806111        3  1         False\n",
      "Sil6r      TNF        ADAM17            3.83979      0.146622        2  1         False\n",
      "PRR        Toci                         0.291264     0.589412        1  1         False\n",
      "Ang        Toci                         0.0179628    0.893382        1  1         False\n",
      "ADAM17     PRR        Ang               0.879386     0.644234        2  1         False\n",
      "Gefi       SARS_COV2                    0.00530226   0.941952        1  1         False\n",
      "ADAM17     EGFR       EGF               2.85818      0.239527        2  1         False\n",
      "TNF        Toci                         0.901581     0.342358        1  1         False\n",
      "ADAM17     IL6AMP     IL6STAT3|NFKB     0.061187     0.996048        3  1         False\n",
      "EGF        PRR        Ang               4.47962      0.106479        2  1         False\n",
      "Ang        IL6AMP     ADAM17|PRR        0.170194     0.996578        4  1         False\n",
      "EGFR       PRR        Ang               0.97824      0.613166        2  1         False\n",
      "Ang        EGFR       ADAM17            0.453259     0.797216        2  1         False\n",
      "IL6STAT3   NFKB       ADAM17|EGFR       1.03268      0.904801        4  1         False\n",
      "SARS_COV2  cytok      IL6AMP            0.297011     0.861995        2  1         False\n",
      "EGF        cytok      IL6AMP            2.7714       0.250149        2  1         False\n",
      "NFKB       Toci                         0.0761607    0.782569        1  1         False\n",
      "Ang        Sil6r      ADAM17            3.39521      0.183122        2  1         False\n",
      "ADAM17     Ang        AGTR1             6.01921      0.0493112       2  1         False\n",
      "AGTR1      Toci                         3.32635      0.0681782       1  1         False\n",
      "IL6STAT3   PRR        Ang               0.618671     0.733935        2  1         False\n",
      "ACE2       AGTR1      Ang               0.129059     0.937508        2  1         False\n",
      "ACE2       NFKB       Ang|PRR           8.04698      0.0898724       4  1         False\n",
      "ACE2       IL6AMP     Ang|PRR           0.724467     0.948278        4  1         False\n",
      "Gefi       PRR                          0.530021     0.466598        1  1         False\n",
      "Ang        TNF        ADAM17            1.87517      0.391573        2  1         False\n",
      "ACE2       Gefi                         1.91208      0.166732        1  1         False\n",
      "AGTR1      IL6STAT3   ADAM17            0.480125     0.786579        2  1         False\n",
      "ACE2       PRR        SARS_COV2         0.673994     0.713911        2  1         False\n",
      "SARS_COV2  TNF        Ang               0.572537     0.751061        2  1         False\n",
      "TNF        cytok      IL6AMP            0.51426      0.773268        2  1         False\n",
      "AGTR1      EGF        ADAM17            0.0161448    0.99196         2  1         False\n",
      "ACE2       EGF        Ang               4.37943      0.111949        2  1         False\n",
      "AGTR1      TNF        ADAM17            1.13347      0.567374        2  1         False\n",
      "EGF        IL6AMP     ADAM17|EGFR       2.48983      0.477132        3  1         False\n",
      "IL6AMP     Toci       ADAM17|IL6STAT3   1.53934      0.81965         4  1         False\n",
      "Gefi       IL6STAT3                     0.223513     0.636376        1  1         False\n",
      "AGTR1      SARS_COV2  Ang               3.03971      0.218744        2  1         False\n",
      "Gefi       cytok      IL6AMP            0.241308     0.88634         2  1         False\n",
      "Ang        NFKB       ADAM17|PRR        1.85769      0.761912        4  1         False\n",
      "=========  =========  ===============  ============  ==========  =====  ========  ===================\n"
     ]
    }
   ],
   "source": [
    "print_graph_falsifications(graph=graph, data=data, method=\"chi-square\", verbose=True, significance_level=0.01)"
   ],
   "metadata": {
    "collapsed": false,
    "ExecuteTime": {
     "end_time": "2024-01-14T17:19:44.929584600Z",
     "start_time": "2024-01-14T17:19:19.213972400Z"
    }
   },
   "id": "e21efcf3940ffc5e"
  },
  {
   "cell_type": "markdown",
   "source": [
    "None of the tests failed for this graph. The reason is that the data is simulated according to the graph structure, hence we expect the d-separations implied by the network be validated by the data. "
   ],
   "metadata": {
    "collapsed": false
   },
   "id": "74b79e259232adfb"
  },
  {
   "cell_type": "markdown",
   "source": [
    "## Step 2: Check query identifiability"
   ],
   "metadata": {
    "collapsed": false
   },
   "id": "944520ca55c79b4b"
  },
  {
   "cell_type": "code",
   "execution_count": 10,
   "outputs": [
    {
     "data": {
      "text/plain": "Identification(outcomes=\"{cytok}, treatments=\"{EGFR}\",conditions=\"set()\",  graph=\"NxMixedGraph(directed=<networkx.classes.digraph.DiGraph object at 0x0000027755227550>, undirected=<networkx.classes.graph.Graph object at 0x0000027755227490>)\", estimand=\"P(ACE2, ADAM17, AGTR1, Ang, EGF, EGFR, Gefi, IL6AMP, IL6STAT3, NFKB, PRR, SARS_COV2, Sil6r, TNF, Toci, cytok)\")"
     },
     "execution_count": 10,
     "metadata": {},
     "output_type": "execute_result"
    }
   ],
   "source": [
    "from y0.algorithm.identify import Identification\n",
    "from y0.dsl import P, Variable\n",
    "\n",
    "id_in = Identification.from_expression(\n",
    "    query=P(Variable('cytok') @ Variable('EGFR')),\n",
    "    graph=graph,\n",
    ")\n",
    "id_in"
   ],
   "metadata": {
    "collapsed": false,
    "ExecuteTime": {
     "end_time": "2024-01-14T17:19:56.220368Z",
     "start_time": "2024-01-14T17:19:56.205612200Z"
    }
   },
   "id": "25bb329cbc5a1e08"
  },
  {
   "cell_type": "markdown",
   "source": [
    "The query is identifiable."
   ],
   "metadata": {
    "collapsed": false
   },
   "id": "5ac9e0aec8791fbc"
  },
  {
   "cell_type": "markdown",
   "source": [
    "## Step 3: Find nuisance variables and mark them as latent"
   ],
   "metadata": {
    "collapsed": false
   },
   "id": "e84ccc3bdc28f772"
  },
  {
   "cell_type": "code",
   "outputs": [],
   "source": [
    "from eliater.discover_latent_nodes import find_nuisance_variables"
   ],
   "metadata": {
    "collapsed": false,
    "ExecuteTime": {
     "end_time": "2024-01-14T17:20:00.335512400Z",
     "start_time": "2024-01-14T17:20:00.325981700Z"
    }
   },
   "id": "f296955711592d83",
   "execution_count": 11
  },
  {
   "cell_type": "markdown",
   "source": [
    "This function finds the nuisance variables for the input graph."
   ],
   "metadata": {
    "collapsed": false
   },
   "id": "c7ea93588b4f7188"
  },
  {
   "cell_type": "code",
   "execution_count": 12,
   "outputs": [
    {
     "data": {
      "text/plain": "set()"
     },
     "execution_count": 12,
     "metadata": {},
     "output_type": "execute_result"
    }
   ],
   "source": [
    "nuisance_variables = find_nuisance_variables(graph, treatments=Variable(\"EGFR\"), outcomes=Variable(\"cytok\"))\n",
    "nuisance_variables"
   ],
   "metadata": {
    "collapsed": false,
    "ExecuteTime": {
     "end_time": "2024-01-14T17:20:01.765664500Z",
     "start_time": "2024-01-14T17:20:01.742463800Z"
    }
   },
   "id": "4dff38fbf23ce61c"
  },
  {
   "cell_type": "markdown",
   "source": [
    "No variable is identified as the nuisance variable. Hence the simplified network in the next step will produce a graph similar to the original graph."
   ],
   "metadata": {
    "collapsed": false
   },
   "id": "7401dd4e2c6d5d31"
  },
  {
   "cell_type": "markdown",
   "source": [
    "## Step 4: Simplify the network"
   ],
   "metadata": {
    "collapsed": false
   },
   "id": "6aa2819509255d89"
  },
  {
   "cell_type": "markdown",
   "source": [
    "The following function find the nuisance variable (step 3), marks them as latent and then applies Evan's simplification rules to remove the nuisance variables. As there are no nuisance variables, the new graph will be the same as the original graph."
   ],
   "metadata": {
    "collapsed": false
   },
   "id": "7b987190a5fa7453"
  },
  {
   "cell_type": "code",
   "outputs": [],
   "source": [
    "from eliater.discover_latent_nodes import remove_nuisance_variables"
   ],
   "metadata": {
    "collapsed": false,
    "ExecuteTime": {
     "end_time": "2024-01-14T17:20:04.309825400Z",
     "start_time": "2024-01-14T17:20:04.291277200Z"
    }
   },
   "id": "642f54dee856e158",
   "execution_count": 13
  },
  {
   "cell_type": "code",
   "execution_count": 14,
   "outputs": [],
   "source": [
    "new_graph = remove_nuisance_variables(graph, treatments=Variable(\"EGFR\"), outcomes=Variable(\"cytok\"))"
   ],
   "metadata": {
    "collapsed": false,
    "ExecuteTime": {
     "end_time": "2024-01-14T17:20:04.528826500Z",
     "start_time": "2024-01-14T17:20:04.500166400Z"
    }
   },
   "id": "e6849ec627ee2b59"
  },
  {
   "cell_type": "markdown",
   "source": [
    "## Step 5: Estimate the query"
   ],
   "metadata": {
    "collapsed": false
   },
   "id": "b8e9dd961d1d459a"
  },
  {
   "cell_type": "code",
   "execution_count": 15,
   "outputs": [],
   "source": [
    "from y0.algorithm.estimation import estimate_ace"
   ],
   "metadata": {
    "collapsed": false,
    "ExecuteTime": {
     "end_time": "2024-01-14T17:20:07.202747500Z",
     "start_time": "2024-01-14T17:20:07.191188Z"
    }
   },
   "id": "8da8ac5fe1baa878"
  },
  {
   "cell_type": "code",
   "outputs": [
    {
     "data": {
      "text/plain": "-0.4476229407307878"
     },
     "execution_count": 16,
     "metadata": {},
     "output_type": "execute_result"
    }
   ],
   "source": [
    "estimate_ace(new_graph, treatments=Variable(\"EGFR\"), outcomes=Variable(\"cytok\"), data=data)"
   ],
   "metadata": {
    "collapsed": false,
    "ExecuteTime": {
     "end_time": "2024-01-14T17:20:07.987086800Z",
     "start_time": "2024-01-14T17:20:07.829875200Z"
    }
   },
   "id": "5c926e5be8539db9",
   "execution_count": 16
  },
  {
   "cell_type": "code",
   "outputs": [],
   "source": [],
   "metadata": {
    "collapsed": false
   },
   "id": "692a8f1d9eb5b51a"
  }
 ],
 "metadata": {
  "kernelspec": {
   "display_name": "Python 3",
   "language": "python",
   "name": "python3"
  },
  "language_info": {
   "codemirror_mode": {
    "name": "ipython",
    "version": 2
   },
   "file_extension": ".py",
   "mimetype": "text/x-python",
   "name": "python",
   "nbconvert_exporter": "python",
   "pygments_lexer": "ipython2",
   "version": "2.7.6"
  }
 },
 "nbformat": 4,
 "nbformat_minor": 5
}
