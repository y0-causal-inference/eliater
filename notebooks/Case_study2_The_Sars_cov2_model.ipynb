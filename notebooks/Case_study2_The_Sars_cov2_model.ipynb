{
 "cells": [
  {
   "cell_type": "markdown",
   "id": "cb1612e5198cab85",
   "metadata": {
    "collapsed": false
   },
   "source": [
    "# Case study 1: Simulation with a SARS-CoV-2 Model"
   ]
  },
  {
   "cell_type": "code",
   "execution_count": 97,
   "id": "initial_id",
   "metadata": {
    "ExecuteTime": {
     "end_time": "2024-01-20T14:38:43.914624Z",
     "start_time": "2024-01-20T14:38:43.864088Z"
    }
   },
   "outputs": [
    {
     "data": {
      "text/plain": "       key                value\n0  eliater   0.0.1-dev-9b2684c9\n1       y0       0.2.5-9b2684c9\n2   Run at  2024-01-20 18:08:43",
      "text/html": "<div>\n<style scoped>\n    .dataframe tbody tr th:only-of-type {\n        vertical-align: middle;\n    }\n\n    .dataframe tbody tr th {\n        vertical-align: top;\n    }\n\n    .dataframe thead th {\n        text-align: right;\n    }\n</style>\n<table border=\"1\" class=\"dataframe\">\n  <thead>\n    <tr style=\"text-align: right;\">\n      <th></th>\n      <th>key</th>\n      <th>value</th>\n    </tr>\n  </thead>\n  <tbody>\n    <tr>\n      <th>0</th>\n      <td>eliater</td>\n      <td>0.0.1-dev-9b2684c9</td>\n    </tr>\n    <tr>\n      <th>1</th>\n      <td>y0</td>\n      <td>0.2.5-9b2684c9</td>\n    </tr>\n    <tr>\n      <th>2</th>\n      <td>Run at</td>\n      <td>2024-01-20 18:08:43</td>\n    </tr>\n  </tbody>\n</table>\n</div>"
     },
     "execution_count": 97,
     "metadata": {},
     "output_type": "execute_result"
    }
   ],
   "source": [
    "import numpy as np\n",
    "\n",
    "from src.eliater import version_df\n",
    "from src.eliater.discover_latent_nodes import find_nuisance_variables, remove_nuisance_variables\n",
    "#from src.eliater.examples import sars_cov_2_example_discrete as example\n",
    "from src.eliater.examples.sars_cov2 import sars_large_example as example\n",
    "from src.eliater.examples.sars_cov2 import generate_continuous\n",
    "from src.eliater.network_validation import print_graph_falsifications\n",
    "from y0.algorithm.estimation import estimate_ace\n",
    "from y0.algorithm.identify import Identification, identify_outcomes\n",
    "from y0.dsl import P, Variable\n",
    "\n",
    "version_df()"
   ]
  },
  {
   "cell_type": "code",
   "execution_count": 98,
   "id": "e3c3963b-36d3-468c-af44-2209e9ed24f8",
   "metadata": {
    "ExecuteTime": {
     "end_time": "2024-01-20T14:38:47.831349Z",
     "start_time": "2024-01-20T14:38:47.775430Z"
    }
   },
   "outputs": [],
   "source": [
    "treatment = Variable(\"EGFR\")\n",
    "outcome = Variable(\"cytok\")\n",
    "SEED = 100"
   ]
  },
  {
   "cell_type": "markdown",
   "id": "5b60ed63441c5411",
   "metadata": {
    "collapsed": false
   },
   "source": [
    "This is case study 1 in Figure 6 in this paper: Eliater: an open source software for causal query estimation from observational measurements of biomolecular networks. The figure below shows the SARS-CoV-2 network (Mohammad-Taheri et al., 2022; Zucker\n",
    "et al., 2021), which models the activation of Cytokine Release Syndrome (Cytokine Storm), a known factor causing tissue damage in severely ill SARS-CoV-2 patients (Ulhaq and Soraya, 2020)."
   ]
  },
  {
   "cell_type": "code",
   "execution_count": 99,
   "id": "7ab5d32c79b7bf2",
   "metadata": {
    "collapsed": false,
    "ExecuteTime": {
     "end_time": "2024-01-20T14:38:49.305622Z",
     "start_time": "2024-01-20T14:38:49.258179Z"
    }
   },
   "outputs": [],
   "source": [
    "graph = example.graph"
   ]
  },
  {
   "cell_type": "markdown",
   "id": "d5f92410e9801798",
   "metadata": {
    "collapsed": false
   },
   "source": [
    "This case study used synthetic observational data. The generation of this synthetic data was inspired by common biological practices. For each endogenous variable $X$ including $EGFR$, we represented  biomolecular reactions using Hill equations \\cite{alon2019introduction}. Specifically, we generated observations of each node $X$ from a Binomial distribution with probability of $\\frac{1}{1 + \\exp(\\mathbf{\\theta}^{\\prime} Pa(X) + \\theta_0)}$, where $Pa(X)$ is a $q \\times 1$ vector of measurements related to the parent of $X$, $\\mathbf{\\theta}'$ is a $1 \\times q$ parameter vector, and $\\theta_0$ is a scalar. The probability distributions for the exogenous variables were simulated from a Binomial distribution with a random probability between 0.4 to 0.8."
   ]
  },
  {
   "cell_type": "code",
   "execution_count": 101,
   "id": "eb3a23add3bc3914",
   "metadata": {
    "collapsed": false,
    "ExecuteTime": {
     "end_time": "2024-01-20T14:39:01.281361Z",
     "start_time": "2024-01-20T14:39:01.156162Z"
    }
   },
   "outputs": [
    {
     "data": {
      "text/plain": "   SARS_COV2       ACE2        Ang       AGTR1     ADAM17       Toci  \\\n0  73.679109  17.576840  93.861006  101.151905  98.540180  56.005886   \n1  56.620967  31.727878  78.949305   99.479725  99.297518  56.022003   \n2  65.013230  24.644308  89.730900  100.509177  99.437188  49.753317   \n3  76.249522  19.484148  98.286645   98.466683  98.528750  55.121697   \n4  76.961345  18.504758  92.974745   99.686780  97.174635  45.153245   \n\n       Sil6R        EGF        TNF       Gefi  EGFR        PRR       NFKB  \\\n0  69.424218  96.505141  99.296894  33.424504     1  97.370407  29.751989   \n1  64.051996  98.542970  98.511394  47.897558     1  89.538987  38.158193   \n2  82.287237  91.929421  99.807326  52.808541     1  94.206983  34.403547   \n3  74.968228  97.613234  99.470404  50.439736     1  97.493690  29.059414   \n4  55.506413  95.726874  99.440437  35.386174     1  98.792294  32.300719   \n\n    IL6STAT3     IL6AMP      cytok  \n0  29.366957  38.082656  59.631856  \n1  22.415073  37.129663  56.431981  \n2  44.666545  52.566070  77.488187  \n3  37.505798  41.889477  63.836998  \n4  19.319097  33.277613  52.521325  ",
      "text/html": "<div>\n<style scoped>\n    .dataframe tbody tr th:only-of-type {\n        vertical-align: middle;\n    }\n\n    .dataframe tbody tr th {\n        vertical-align: top;\n    }\n\n    .dataframe thead th {\n        text-align: right;\n    }\n</style>\n<table border=\"1\" class=\"dataframe\">\n  <thead>\n    <tr style=\"text-align: right;\">\n      <th></th>\n      <th>SARS_COV2</th>\n      <th>ACE2</th>\n      <th>Ang</th>\n      <th>AGTR1</th>\n      <th>ADAM17</th>\n      <th>Toci</th>\n      <th>Sil6R</th>\n      <th>EGF</th>\n      <th>TNF</th>\n      <th>Gefi</th>\n      <th>EGFR</th>\n      <th>PRR</th>\n      <th>NFKB</th>\n      <th>IL6STAT3</th>\n      <th>IL6AMP</th>\n      <th>cytok</th>\n    </tr>\n  </thead>\n  <tbody>\n    <tr>\n      <th>0</th>\n      <td>73.679109</td>\n      <td>17.576840</td>\n      <td>93.861006</td>\n      <td>101.151905</td>\n      <td>98.540180</td>\n      <td>56.005886</td>\n      <td>69.424218</td>\n      <td>96.505141</td>\n      <td>99.296894</td>\n      <td>33.424504</td>\n      <td>1</td>\n      <td>97.370407</td>\n      <td>29.751989</td>\n      <td>29.366957</td>\n      <td>38.082656</td>\n      <td>59.631856</td>\n    </tr>\n    <tr>\n      <th>1</th>\n      <td>56.620967</td>\n      <td>31.727878</td>\n      <td>78.949305</td>\n      <td>99.479725</td>\n      <td>99.297518</td>\n      <td>56.022003</td>\n      <td>64.051996</td>\n      <td>98.542970</td>\n      <td>98.511394</td>\n      <td>47.897558</td>\n      <td>1</td>\n      <td>89.538987</td>\n      <td>38.158193</td>\n      <td>22.415073</td>\n      <td>37.129663</td>\n      <td>56.431981</td>\n    </tr>\n    <tr>\n      <th>2</th>\n      <td>65.013230</td>\n      <td>24.644308</td>\n      <td>89.730900</td>\n      <td>100.509177</td>\n      <td>99.437188</td>\n      <td>49.753317</td>\n      <td>82.287237</td>\n      <td>91.929421</td>\n      <td>99.807326</td>\n      <td>52.808541</td>\n      <td>1</td>\n      <td>94.206983</td>\n      <td>34.403547</td>\n      <td>44.666545</td>\n      <td>52.566070</td>\n      <td>77.488187</td>\n    </tr>\n    <tr>\n      <th>3</th>\n      <td>76.249522</td>\n      <td>19.484148</td>\n      <td>98.286645</td>\n      <td>98.466683</td>\n      <td>98.528750</td>\n      <td>55.121697</td>\n      <td>74.968228</td>\n      <td>97.613234</td>\n      <td>99.470404</td>\n      <td>50.439736</td>\n      <td>1</td>\n      <td>97.493690</td>\n      <td>29.059414</td>\n      <td>37.505798</td>\n      <td>41.889477</td>\n      <td>63.836998</td>\n    </tr>\n    <tr>\n      <th>4</th>\n      <td>76.961345</td>\n      <td>18.504758</td>\n      <td>92.974745</td>\n      <td>99.686780</td>\n      <td>97.174635</td>\n      <td>45.153245</td>\n      <td>55.506413</td>\n      <td>95.726874</td>\n      <td>99.440437</td>\n      <td>35.386174</td>\n      <td>1</td>\n      <td>98.792294</td>\n      <td>32.300719</td>\n      <td>19.319097</td>\n      <td>33.277613</td>\n      <td>52.521325</td>\n    </tr>\n  </tbody>\n</table>\n</div>"
     },
     "execution_count": 101,
     "metadata": {},
     "output_type": "execute_result"
    }
   ],
   "source": [
    "# get observational data\n",
    "#data = example.generate_data(1000, seed=SEED)\n",
    "data = generate_continuous(1000, seed=SEED)\n",
    "data.head()"
   ]
  },
  {
   "cell_type": "markdown",
   "id": "22de51a518ee7699",
   "metadata": {
    "collapsed": false
   },
   "source": [
    "## Step 1: Verify correctness of the network structure"
   ]
  },
  {
   "cell_type": "code",
   "execution_count": 70,
   "id": "e21efcf3940ffc5e",
   "metadata": {
    "collapsed": false,
    "ExecuteTime": {
     "end_time": "2024-01-20T14:24:08.623077Z",
     "start_time": "2024-01-20T14:23:21.083713Z"
    }
   },
   "outputs": [
    {
     "name": "stdout",
     "output_type": "stream",
     "text": [
      "All 99 d-separations implied by the network's structure are consistent with the data, meaning that none of the data-driven conditional independency tests' null hypotheses were rejected at p<0.01.\n",
      "\n",
      "Finished in 47.54 seconds.\n"
     ]
    },
    {
     "data": {
      "text/plain": "         left      right          given     stats         p  dof  p_adj  \\\n0       AGTR1  SARS_COV2            Ang  1.233919  0.539582    2    1.0   \n1    IL6STAT3       NFKB    ADAM17|EGFR  3.506329  0.476917    4    1.0   \n2        ACE2        EGF            Ang  0.788424  0.674211    2    1.0   \n3         EGF   IL6STAT3         ADAM17  0.435672  0.804257    2    1.0   \n4   SARS_COV2        TNF            Ang  5.257191  0.072180    2    1.0   \n..        ...        ...            ...       ...       ...  ...    ...   \n94  SARS_COV2       Toci                 1.052676  0.304892    1    1.0   \n95       NFKB      Sil6r         ADAM17  0.329299  0.848191    2    1.0   \n96       Gefi       Toci                 1.271984  0.259395    1    1.0   \n97     IL6AMP        PRR  IL6STAT3|NFKB  0.561504  0.755216    2    1.0   \n98  SARS_COV2      cytok         IL6AMP  1.671996  0.433442    2    1.0   \n\n    p_adj_significant  \n0               False  \n1               False  \n2               False  \n3               False  \n4               False  \n..                ...  \n94              False  \n95              False  \n96              False  \n97              False  \n98              False  \n\n[99 rows x 8 columns]",
      "text/html": "<div>\n<style scoped>\n    .dataframe tbody tr th:only-of-type {\n        vertical-align: middle;\n    }\n\n    .dataframe tbody tr th {\n        vertical-align: top;\n    }\n\n    .dataframe thead th {\n        text-align: right;\n    }\n</style>\n<table border=\"1\" class=\"dataframe\">\n  <thead>\n    <tr style=\"text-align: right;\">\n      <th></th>\n      <th>left</th>\n      <th>right</th>\n      <th>given</th>\n      <th>stats</th>\n      <th>p</th>\n      <th>dof</th>\n      <th>p_adj</th>\n      <th>p_adj_significant</th>\n    </tr>\n  </thead>\n  <tbody>\n    <tr>\n      <th>0</th>\n      <td>AGTR1</td>\n      <td>SARS_COV2</td>\n      <td>Ang</td>\n      <td>1.233919</td>\n      <td>0.539582</td>\n      <td>2</td>\n      <td>1.0</td>\n      <td>False</td>\n    </tr>\n    <tr>\n      <th>1</th>\n      <td>IL6STAT3</td>\n      <td>NFKB</td>\n      <td>ADAM17|EGFR</td>\n      <td>3.506329</td>\n      <td>0.476917</td>\n      <td>4</td>\n      <td>1.0</td>\n      <td>False</td>\n    </tr>\n    <tr>\n      <th>2</th>\n      <td>ACE2</td>\n      <td>EGF</td>\n      <td>Ang</td>\n      <td>0.788424</td>\n      <td>0.674211</td>\n      <td>2</td>\n      <td>1.0</td>\n      <td>False</td>\n    </tr>\n    <tr>\n      <th>3</th>\n      <td>EGF</td>\n      <td>IL6STAT3</td>\n      <td>ADAM17</td>\n      <td>0.435672</td>\n      <td>0.804257</td>\n      <td>2</td>\n      <td>1.0</td>\n      <td>False</td>\n    </tr>\n    <tr>\n      <th>4</th>\n      <td>SARS_COV2</td>\n      <td>TNF</td>\n      <td>Ang</td>\n      <td>5.257191</td>\n      <td>0.072180</td>\n      <td>2</td>\n      <td>1.0</td>\n      <td>False</td>\n    </tr>\n    <tr>\n      <th>...</th>\n      <td>...</td>\n      <td>...</td>\n      <td>...</td>\n      <td>...</td>\n      <td>...</td>\n      <td>...</td>\n      <td>...</td>\n      <td>...</td>\n    </tr>\n    <tr>\n      <th>94</th>\n      <td>SARS_COV2</td>\n      <td>Toci</td>\n      <td></td>\n      <td>1.052676</td>\n      <td>0.304892</td>\n      <td>1</td>\n      <td>1.0</td>\n      <td>False</td>\n    </tr>\n    <tr>\n      <th>95</th>\n      <td>NFKB</td>\n      <td>Sil6r</td>\n      <td>ADAM17</td>\n      <td>0.329299</td>\n      <td>0.848191</td>\n      <td>2</td>\n      <td>1.0</td>\n      <td>False</td>\n    </tr>\n    <tr>\n      <th>96</th>\n      <td>Gefi</td>\n      <td>Toci</td>\n      <td></td>\n      <td>1.271984</td>\n      <td>0.259395</td>\n      <td>1</td>\n      <td>1.0</td>\n      <td>False</td>\n    </tr>\n    <tr>\n      <th>97</th>\n      <td>IL6AMP</td>\n      <td>PRR</td>\n      <td>IL6STAT3|NFKB</td>\n      <td>0.561504</td>\n      <td>0.755216</td>\n      <td>2</td>\n      <td>1.0</td>\n      <td>False</td>\n    </tr>\n    <tr>\n      <th>98</th>\n      <td>SARS_COV2</td>\n      <td>cytok</td>\n      <td>IL6AMP</td>\n      <td>1.671996</td>\n      <td>0.433442</td>\n      <td>2</td>\n      <td>1.0</td>\n      <td>False</td>\n    </tr>\n  </tbody>\n</table>\n<p>99 rows × 8 columns</p>\n</div>"
     },
     "execution_count": 70,
     "metadata": {},
     "output_type": "execute_result"
    }
   ],
   "source": [
    "print_graph_falsifications(\n",
    "    graph=graph, data=data, method=\"chi-square\", verbose=True, significance_level=0.01\n",
    ")"
   ]
  },
  {
   "cell_type": "markdown",
   "id": "74b79e259232adfb",
   "metadata": {
    "collapsed": false
   },
   "source": [
    "None of the tests failed for this graph. The reason is that the data is simulated according to the graph structure, hence we expect the d-separations implied by the network be validated by the data. "
   ]
  },
  {
   "cell_type": "markdown",
   "id": "944520ca55c79b4b",
   "metadata": {
    "collapsed": false
   },
   "source": [
    "## Step 2: Check query identifiability"
   ]
  },
  {
   "cell_type": "code",
   "execution_count": 104,
   "id": "25bb329cbc5a1e08",
   "metadata": {
    "collapsed": false,
    "ExecuteTime": {
     "end_time": "2024-01-20T14:40:20.563329Z",
     "start_time": "2024-01-20T14:40:20.476297Z"
    }
   },
   "outputs": [
    {
     "data": {
      "text/plain": "Sum[ACE2, ADAM17, AGTR1, Ang, IL6AMP, IL6STAT3, NFKB, PRR, SARS_COV2, Sil6r, TNF, Toci](P(ACE2 | SARS_COV2) * P(AGTR1 | ACE2, Ang, SARS_COV2) * P(IL6AMP | ACE2, ADAM17, AGTR1, Ang, EGF, EGFR, Gefi, IL6STAT3, NFKB, PRR, SARS_COV2, Sil6r, TNF, Toci) * P(IL6STAT3 | ACE2, ADAM17, AGTR1, Ang, SARS_COV2, Sil6r, Toci) * P(TNF | ACE2, ADAM17, AGTR1, Ang, SARS_COV2) * P(cytok | ACE2, ADAM17, AGTR1, Ang, EGF, EGFR, Gefi, IL6AMP, IL6STAT3, NFKB, PRR, SARS_COV2, Sil6r, TNF, Toci) * Sum[ACE2, ADAM17, AGTR1, Ang, EGF, EGFR, Gefi, IL6AMP, IL6STAT3, NFKB, PRR, SARS_COV2, Sil6r, TNF, cytok](P(ACE2, ADAM17, AGTR1, Ang, EGF, EGFR, Gefi, IL6AMP, IL6STAT3, NFKB, PRR, SARS_COV2, Sil6r, TNF, Toci, cytok)) * P(ADAM17 | ACE2, AGTR1, Ang, SARS_COV2, Toci) * P(Sil6r | ACE2, ADAM17, AGTR1, Ang, SARS_COV2, Toci) * P(Ang | ACE2, SARS_COV2) * P(SARS_COV2) * P(NFKB | ACE2, ADAM17, AGTR1, Ang, EGF, EGFR, Gefi, PRR, SARS_COV2, TNF) * P(PRR | ACE2, Gefi, SARS_COV2))",
      "text/latex": "$\\sum\\limits_{ACE_2, ADAM_{17}, AGTR_1, Ang, IL6AM_P, IL6STA_{T3}, NFKB, PRR, SARS_COV_2, Sil6_r, TNF, Toci} P(ACE_2 | SARS_COV_2) P(AGTR_1 | ACE_2, Ang, SARS_COV_2) P(IL6AM_P | ACE_2, ADAM_{17}, AGTR_1, Ang, EGF, EGFR, Gefi, IL6STA_{T3}, NFKB, PRR, SARS_COV_2, Sil6_r, TNF, Toci) P(IL6STA_{T3} | ACE_2, ADAM_{17}, AGTR_1, Ang, SARS_COV_2, Sil6_r, Toci) P(TNF | ACE_2, ADAM_{17}, AGTR_1, Ang, SARS_COV_2) P(cytok | ACE_2, ADAM_{17}, AGTR_1, Ang, EGF, EGFR, Gefi, IL6AM_P, IL6STA_{T3}, NFKB, PRR, SARS_COV_2, Sil6_r, TNF, Toci) \\sum\\limits_{ACE_2, ADAM_{17}, AGTR_1, Ang, EGF, EGFR, Gefi, IL6AM_P, IL6STA_{T3}, NFKB, PRR, SARS_COV_2, Sil6_r, TNF, cytok} P(ACE_2, ADAM_{17}, AGTR_1, Ang, EGF, EGFR, Gefi, IL6AM_P, IL6STA_{T3}, NFKB, PRR, SARS_COV_2, Sil6_r, TNF, Toci, cytok) P(ADAM_{17} | ACE_2, AGTR_1, Ang, SARS_COV_2, Toci) P(Sil6_r | ACE_2, ADAM_{17}, AGTR_1, Ang, SARS_COV_2, Toci) P(Ang | ACE_2, SARS_COV_2) P(SARS_COV_2) P(NFKB | ACE_2, ADAM_{17}, AGTR_1, Ang, EGF, EGFR, Gefi, PRR, SARS_COV_2, TNF) P(PRR | ACE_2, Gefi, SARS_COV_2)$"
     },
     "execution_count": 104,
     "metadata": {},
     "output_type": "execute_result"
    }
   ],
   "source": [
    "identify_outcomes(graph=graph, treatments=treatment, outcomes=outcome)"
   ]
  },
  {
   "cell_type": "markdown",
   "id": "5ac9e0aec8791fbc",
   "metadata": {
    "collapsed": false
   },
   "source": [
    "The query is identifiable."
   ]
  },
  {
   "cell_type": "markdown",
   "id": "e84ccc3bdc28f772",
   "metadata": {
    "collapsed": false
   },
   "source": [
    "## Step 3: Find nuisance variables and mark them as latent"
   ]
  },
  {
   "cell_type": "markdown",
   "id": "c7ea93588b4f7188",
   "metadata": {
    "collapsed": false
   },
   "source": [
    "This function finds the nuisance variables for the input graph."
   ]
  },
  {
   "cell_type": "code",
   "execution_count": 79,
   "id": "4dff38fbf23ce61c",
   "metadata": {
    "collapsed": false,
    "ExecuteTime": {
     "end_time": "2024-01-20T14:25:16.390909Z",
     "start_time": "2024-01-20T14:25:16.361568Z"
    }
   },
   "outputs": [
    {
     "data": {
      "text/plain": "set()"
     },
     "execution_count": 79,
     "metadata": {},
     "output_type": "execute_result"
    }
   ],
   "source": [
    "nuisance_variables = find_nuisance_variables(graph, treatments=treatment, outcomes=outcome)\n",
    "nuisance_variables"
   ]
  },
  {
   "cell_type": "markdown",
   "id": "7401dd4e2c6d5d31",
   "metadata": {
    "collapsed": false
   },
   "source": [
    "No variable is identified as the nuisance variable. Hence the simplified network in the next step will produce a graph similar to the original graph."
   ]
  },
  {
   "cell_type": "markdown",
   "id": "6aa2819509255d89",
   "metadata": {
    "collapsed": false
   },
   "source": [
    "## Step 4: Simplify the network"
   ]
  },
  {
   "cell_type": "markdown",
   "id": "7b987190a5fa7453",
   "metadata": {
    "collapsed": false
   },
   "source": [
    "The following function finds the nuisance variables (step 3), marks them as latent and then applies Evan's simplification rules to remove the nuisance variables. As there are no nuisance variables, the new graph will be the same as the original graph."
   ]
  },
  {
   "cell_type": "code",
   "execution_count": 105,
   "id": "e6849ec627ee2b59",
   "metadata": {
    "collapsed": false,
    "ExecuteTime": {
     "end_time": "2024-01-20T14:40:28.690228Z",
     "start_time": "2024-01-20T14:40:28.663187Z"
    }
   },
   "outputs": [],
   "source": [
    "new_graph = remove_nuisance_variables(graph, treatments=treatment, outcomes=outcome)"
   ]
  },
  {
   "cell_type": "markdown",
   "id": "b8e9dd961d1d459a",
   "metadata": {
    "collapsed": false
   },
   "source": [
    "## Step 5: Estimate the query"
   ]
  },
  {
   "cell_type": "code",
   "execution_count": 106,
   "id": "5c926e5be8539db9",
   "metadata": {
    "collapsed": false,
    "ExecuteTime": {
     "end_time": "2024-01-20T14:40:31.195998Z",
     "start_time": "2024-01-20T14:40:31.134826Z"
    }
   },
   "outputs": [
    {
     "ename": "ValueError",
     "evalue": "",
     "output_type": "error",
     "traceback": [
      "\u001B[0;31m---------------------------------------------------------------------------\u001B[0m",
      "\u001B[0;31mValueError\u001B[0m                                Traceback (most recent call last)",
      "Cell \u001B[0;32mIn[106], line 1\u001B[0m\n\u001B[0;32m----> 1\u001B[0m \u001B[43mestimate_ace\u001B[49m\u001B[43m(\u001B[49m\u001B[43mnew_graph\u001B[49m\u001B[43m,\u001B[49m\u001B[43m \u001B[49m\u001B[43mtreatments\u001B[49m\u001B[38;5;241;43m=\u001B[39;49m\u001B[43mtreatment\u001B[49m\u001B[43m,\u001B[49m\u001B[43m \u001B[49m\u001B[43moutcomes\u001B[49m\u001B[38;5;241;43m=\u001B[39;49m\u001B[43moutcome\u001B[49m\u001B[43m,\u001B[49m\u001B[43m \u001B[49m\u001B[43mdata\u001B[49m\u001B[38;5;241;43m=\u001B[39;49m\u001B[43mdata\u001B[49m\u001B[43m)\u001B[49m\n",
      "File \u001B[0;32m~/GitHub/eliater/venv/lib/python3.11/site-packages/y0/algorithm/estimation/__init__.py:45\u001B[0m, in \u001B[0;36mestimate_ace\u001B[0;34m(graph, treatments, outcomes, data, conditions, bootstraps, alpha, estimator)\u001B[0m\n\u001B[1;32m     43\u001B[0m     \u001B[38;5;28;01mraise\u001B[39;00m \u001B[38;5;167;01mNotImplementedError\u001B[39;00m(\u001B[38;5;124m\"\u001B[39m\u001B[38;5;124mcan not yet handle counterfactual treatments nor outcomes\u001B[39m\u001B[38;5;124m\"\u001B[39m)\n\u001B[1;32m     44\u001B[0m \u001B[38;5;28;01mif\u001B[39;00m \u001B[38;5;129;01mnot\u001B[39;00m df_covers_graph(graph\u001B[38;5;241m=\u001B[39mgraph, data\u001B[38;5;241m=\u001B[39mdata):\n\u001B[0;32m---> 45\u001B[0m     \u001B[38;5;28;01mraise\u001B[39;00m \u001B[38;5;167;01mValueError\u001B[39;00m\n\u001B[1;32m     47\u001B[0m \u001B[38;5;66;03m# explicitly encode suggestions from Ananke\u001B[39;00m\n\u001B[1;32m     48\u001B[0m \u001B[38;5;28;01mif\u001B[39;00m estimator \u001B[38;5;129;01mis\u001B[39;00m \u001B[38;5;129;01mnot\u001B[39;00m \u001B[38;5;28;01mNone\u001B[39;00m:\n",
      "\u001B[0;31mValueError\u001B[0m: "
     ]
    }
   ],
   "source": [
    "estimate_ace(new_graph, treatments=treatment, outcomes=outcome, data=data)"
   ]
  },
  {
   "cell_type": "markdown",
   "id": "bcdeff27d0bcbcb3",
   "metadata": {
    "collapsed": false
   },
   "source": [
    "## Evaluation criterion\n",
    "As we used synthetic data set, we were able to generate two interventional data sets where in\n",
    "one EGFR was set to 1, and the other one EGFR is set to 0. The ATE was calculated by subtracting the average value of Cytokine Storm obtained from each interventional data,\n",
    "resulting in the ground truth ATE=-0.018. The negative ATE indicates that the Gefitinib drug can reduce the increase in Cytokine Storm levels, hence can help in treating patients having SARS-Cov-2."
   ]
  },
  {
   "cell_type": "code",
   "execution_count": 107,
   "outputs": [
    {
     "data": {
      "text/plain": "0.7965175191822595"
     },
     "execution_count": 107,
     "metadata": {},
     "output_type": "execute_result"
    }
   ],
   "source": [
    "def get_background_ace(seed=None) -> float:\n",
    "    # get interventional data where treatment is set to 1\n",
    "    data_1 = generate_continuous(1000, {treatment: 1.0}, seed=seed)\n",
    "    # get interventional data where treatment is set to 0\n",
    "    data_0 = generate_continuous(1000, {treatment: 0.0}, seed=seed)\n",
    "    return data_1.mean()[outcome.name] - data_0.mean()[outcome.name]\n",
    "\n",
    "# get the true value of ATE\n",
    "get_background_ace(seed=SEED)"
   ],
   "metadata": {
    "collapsed": false,
    "ExecuteTime": {
     "end_time": "2024-01-20T14:42:20.733075Z",
     "start_time": "2024-01-20T14:42:20.684583Z"
    }
   },
   "id": "14bdcdd244526750"
  },
  {
   "cell_type": "code",
   "execution_count": 82,
   "id": "11d39e8121e39e59",
   "metadata": {
    "collapsed": false,
    "ExecuteTime": {
     "end_time": "2024-01-20T14:25:23.387755Z",
     "start_time": "2024-01-20T14:25:23.344130Z"
    }
   },
   "outputs": [
    {
     "data": {
      "text/plain": "-0.024999999999999967"
     },
     "execution_count": 82,
     "metadata": {},
     "output_type": "execute_result"
    }
   ],
   "source": [
    "# def get_background_ace(seed=None) -> float:\n",
    "#     # get interventional data where treatment is set to 1\n",
    "#     data_1 = example.generate_data(1000, {treatment: 1.0}, seed=seed)\n",
    "#     # get interventional data where treatment is set to 0\n",
    "#     data_0 = example.generate_data(1000, {treatment: 0.0}, seed=seed)\n",
    "#     return data_1.mean()[outcome.name] - data_0.mean()[outcome.name]\n",
    "# \n",
    "# # get the true value of ATE\n",
    "# get_background_ace(seed=SEED)"
   ]
  },
  {
   "cell_type": "markdown",
   "id": "c721a0a302437bdc",
   "metadata": {
    "collapsed": false
   },
   "source": [
    "jThe estimated $\\widehat{\\mathrm{ATE}}=-0.2$, comparable in sign and magnitute to the ground truth ATE=-0.02. The discrepancy in the value of results is due to non-linear, and complex data generation procedure, which is similar to the real-life experimental artifacts, and due to the approximate nature of the modeling assumption."
   ]
  },
  {
   "cell_type": "code",
   "execution_count": 65,
   "outputs": [
    {
     "data": {
      "text/plain": "1122.2222222222224"
     },
     "execution_count": 65,
     "metadata": {},
     "output_type": "execute_result"
    }
   ],
   "source": [
    "#Relative change\n",
    "((-0.22+0.018)/-0.018)"
   ],
   "metadata": {
    "collapsed": false,
    "ExecuteTime": {
     "end_time": "2024-01-20T14:13:01.588984Z",
     "start_time": "2024-01-20T14:13:01.533349Z"
    }
   },
   "id": "6044644d90692b3d"
  },
  {
   "cell_type": "code",
   "execution_count": null,
   "outputs": [],
   "source": [],
   "metadata": {
    "collapsed": false
   },
   "id": "39eb00a8dbc022f2"
  }
 ],
 "metadata": {
  "kernelspec": {
   "display_name": "Python 3 (ipykernel)",
   "language": "python",
   "name": "python3"
  },
  "language_info": {
   "codemirror_mode": {
    "name": "ipython",
    "version": 3
   },
   "file_extension": ".py",
   "mimetype": "text/x-python",
   "name": "python",
   "nbconvert_exporter": "python",
   "pygments_lexer": "ipython3",
   "version": "3.11.6"
  }
 },
 "nbformat": 4,
 "nbformat_minor": 5
}
