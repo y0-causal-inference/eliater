{
 "cells": [
  {
   "cell_type": "markdown",
   "source": [
    "# Case study 2: The Sars-Cov2 model"
   ],
   "metadata": {
    "collapsed": false
   },
   "id": "cb1612e5198cab85"
  },
  {
   "cell_type": "code",
   "outputs": [
    {
     "name": "stdout",
     "output_type": "stream",
     "text": [
      "Collecting git+https://github.com/y0-causal-inference/eliater.git@linear-regression\n",
      "  Cloning https://github.com/y0-causal-inference/eliater.git (to revision linear-regression) to c:\\users\\pnava\\appdata\\local\\temp\\pip-req-build-ju295epo\n",
      "  Resolved https://github.com/y0-causal-inference/eliater.git to commit 38aa8e4daafb832ded39bf03488fcf0db1d32dfb\n",
      "  Installing build dependencies: started\n",
      "  Installing build dependencies: finished with status 'done'\n",
      "  Getting requirements to build wheel: started\n",
      "  Getting requirements to build wheel: finished with status 'done'\n",
      "  Preparing metadata (pyproject.toml): started\n",
      "  Preparing metadata (pyproject.toml): finished with status 'done'\n",
      "Requirement already satisfied: y0>=0.2.5 in c:\\users\\pnava\\pycharmprojects\\eliater\\venv\\lib\\site-packages (from eliater==0.0.1.dev0) (0.2.5)\n",
      "Requirement already satisfied: scipy in c:\\users\\pnava\\pycharmprojects\\eliater\\venv\\lib\\site-packages (from eliater==0.0.1.dev0) (1.11.2)\n",
      "Requirement already satisfied: numpy in c:\\users\\pnava\\pycharmprojects\\eliater\\venv\\lib\\site-packages (from eliater==0.0.1.dev0) (1.25.2)\n",
      "Requirement already satisfied: ananke-causal>=0.5.0 in c:\\users\\pnava\\pycharmprojects\\eliater\\venv\\lib\\site-packages (from eliater==0.0.1.dev0) (0.5.0)\n",
      "Requirement already satisfied: pgmpy>=0.1.24 in c:\\users\\pnava\\pycharmprojects\\eliater\\venv\\lib\\site-packages (from eliater==0.0.1.dev0) (0.1.24)\n",
      "Requirement already satisfied: matplotlib in c:\\users\\pnava\\pycharmprojects\\eliater\\venv\\lib\\site-packages (from eliater==0.0.1.dev0) (3.8.0)\n",
      "Requirement already satisfied: pandas in c:\\users\\pnava\\pycharmprojects\\eliater\\venv\\lib\\site-packages (from eliater==0.0.1.dev0) (1.5.3)\n",
      "Requirement already satisfied: seaborn in c:\\users\\pnava\\pycharmprojects\\eliater\\venv\\lib\\site-packages (from eliater==0.0.1.dev0) (0.13.0)\n",
      "Requirement already satisfied: optimaladj>=0.0.4 in c:\\users\\pnava\\pycharmprojects\\eliater\\venv\\lib\\site-packages (from eliater==0.0.1.dev0) (0.0.4)\n",
      "Requirement already satisfied: jax<0.5.0,>=0.4.8 in c:\\users\\pnava\\pycharmprojects\\eliater\\venv\\lib\\site-packages (from ananke-causal>=0.5.0->eliater==0.0.1.dev0) (0.4.21)\n",
      "Requirement already satisfied: jaxlib<0.5.0,>=0.4.7 in c:\\users\\pnava\\pycharmprojects\\eliater\\venv\\lib\\site-packages (from ananke-causal>=0.5.0->eliater==0.0.1.dev0) (0.4.21)\n",
      "Requirement already satisfied: mystic<0.5.0,>=0.4.0 in c:\\users\\pnava\\pycharmprojects\\eliater\\venv\\lib\\site-packages (from ananke-causal>=0.5.0->eliater==0.0.1.dev0) (0.4.1)\n",
      "Requirement already satisfied: statsmodels<0.14.0,>=0.13.2 in c:\\users\\pnava\\pycharmprojects\\eliater\\venv\\lib\\site-packages (from ananke-causal>=0.5.0->eliater==0.0.1.dev0) (0.13.5)\n",
      "Requirement already satisfied: contourpy>=1.0.1 in c:\\users\\pnava\\pycharmprojects\\eliater\\venv\\lib\\site-packages (from matplotlib->eliater==0.0.1.dev0) (1.1.1)\n",
      "Requirement already satisfied: cycler>=0.10 in c:\\users\\pnava\\pycharmprojects\\eliater\\venv\\lib\\site-packages (from matplotlib->eliater==0.0.1.dev0) (0.11.0)\n",
      "Requirement already satisfied: fonttools>=4.22.0 in c:\\users\\pnava\\pycharmprojects\\eliater\\venv\\lib\\site-packages (from matplotlib->eliater==0.0.1.dev0) (4.42.1)\n",
      "Requirement already satisfied: kiwisolver>=1.0.1 in c:\\users\\pnava\\pycharmprojects\\eliater\\venv\\lib\\site-packages (from matplotlib->eliater==0.0.1.dev0) (1.4.5)\n",
      "Requirement already satisfied: packaging>=20.0 in c:\\users\\pnava\\pycharmprojects\\eliater\\venv\\lib\\site-packages (from matplotlib->eliater==0.0.1.dev0) (23.1)\n",
      "Requirement already satisfied: pillow>=6.2.0 in c:\\users\\pnava\\pycharmprojects\\eliater\\venv\\lib\\site-packages (from matplotlib->eliater==0.0.1.dev0) (10.0.1)\n",
      "Requirement already satisfied: pyparsing>=2.3.1 in c:\\users\\pnava\\pycharmprojects\\eliater\\venv\\lib\\site-packages (from matplotlib->eliater==0.0.1.dev0) (3.1.1)\n",
      "Requirement already satisfied: python-dateutil>=2.7 in c:\\users\\pnava\\pycharmprojects\\eliater\\venv\\lib\\site-packages (from matplotlib->eliater==0.0.1.dev0) (2.8.2)\n",
      "Requirement already satisfied: pytz>=2020.1 in c:\\users\\pnava\\pycharmprojects\\eliater\\venv\\lib\\site-packages (from pandas->eliater==0.0.1.dev0) (2023.3.post1)\n",
      "Requirement already satisfied: networkx in c:\\users\\pnava\\pycharmprojects\\eliater\\venv\\lib\\site-packages (from pgmpy>=0.1.24->eliater==0.0.1.dev0) (3.1)\n",
      "Requirement already satisfied: scikit-learn in c:\\users\\pnava\\pycharmprojects\\eliater\\venv\\lib\\site-packages (from pgmpy>=0.1.24->eliater==0.0.1.dev0) (1.3.0)\n",
      "Requirement already satisfied: torch in c:\\users\\pnava\\pycharmprojects\\eliater\\venv\\lib\\site-packages (from pgmpy>=0.1.24->eliater==0.0.1.dev0) (2.0.1)\n",
      "Requirement already satisfied: tqdm in c:\\users\\pnava\\pycharmprojects\\eliater\\venv\\lib\\site-packages (from pgmpy>=0.1.24->eliater==0.0.1.dev0) (4.66.1)\n",
      "Requirement already satisfied: joblib in c:\\users\\pnava\\pycharmprojects\\eliater\\venv\\lib\\site-packages (from pgmpy>=0.1.24->eliater==0.0.1.dev0) (1.3.2)\n",
      "Requirement already satisfied: opt-einsum in c:\\users\\pnava\\pycharmprojects\\eliater\\venv\\lib\\site-packages (from pgmpy>=0.1.24->eliater==0.0.1.dev0) (3.3.0)\n",
      "Requirement already satisfied: more-itertools in c:\\users\\pnava\\pycharmprojects\\eliater\\venv\\lib\\site-packages (from y0>=0.2.5->eliater==0.0.1.dev0) (10.1.0)\n",
      "Requirement already satisfied: click in c:\\users\\pnava\\pycharmprojects\\eliater\\venv\\lib\\site-packages (from y0>=0.2.5->eliater==0.0.1.dev0) (8.1.7)\n",
      "Requirement already satisfied: more-click in c:\\users\\pnava\\pycharmprojects\\eliater\\venv\\lib\\site-packages (from y0>=0.2.5->eliater==0.0.1.dev0) (0.1.2)\n",
      "Requirement already satisfied: tabulate in c:\\users\\pnava\\pycharmprojects\\eliater\\venv\\lib\\site-packages (from y0>=0.2.5->eliater==0.0.1.dev0) (0.9.0)\n",
      "Requirement already satisfied: ml-dtypes>=0.2.0 in c:\\users\\pnava\\pycharmprojects\\eliater\\venv\\lib\\site-packages (from jax<0.5.0,>=0.4.8->ananke-causal>=0.5.0->eliater==0.0.1.dev0) (0.3.1)\n",
      "Requirement already satisfied: dill>=0.3.7 in c:\\users\\pnava\\pycharmprojects\\eliater\\venv\\lib\\site-packages (from mystic<0.5.0,>=0.4.0->ananke-causal>=0.5.0->eliater==0.0.1.dev0) (0.3.7)\n",
      "Requirement already satisfied: klepto>=0.2.4 in c:\\users\\pnava\\pycharmprojects\\eliater\\venv\\lib\\site-packages (from mystic<0.5.0,>=0.4.0->ananke-causal>=0.5.0->eliater==0.0.1.dev0) (0.2.4)\n",
      "Requirement already satisfied: sympy>=0.6.7 in c:\\users\\pnava\\pycharmprojects\\eliater\\venv\\lib\\site-packages (from mystic<0.5.0,>=0.4.0->ananke-causal>=0.5.0->eliater==0.0.1.dev0) (1.12)\n",
      "Requirement already satisfied: mpmath>=0.19 in c:\\users\\pnava\\pycharmprojects\\eliater\\venv\\lib\\site-packages (from mystic<0.5.0,>=0.4.0->ananke-causal>=0.5.0->eliater==0.0.1.dev0) (1.3.0)\n",
      "Requirement already satisfied: six>=1.5 in c:\\users\\pnava\\pycharmprojects\\eliater\\venv\\lib\\site-packages (from python-dateutil>=2.7->matplotlib->eliater==0.0.1.dev0) (1.16.0)\n",
      "Requirement already satisfied: patsy>=0.5.2 in c:\\users\\pnava\\pycharmprojects\\eliater\\venv\\lib\\site-packages (from statsmodels<0.14.0,>=0.13.2->ananke-causal>=0.5.0->eliater==0.0.1.dev0) (0.5.3)\n",
      "Requirement already satisfied: colorama in c:\\users\\pnava\\pycharmprojects\\eliater\\venv\\lib\\site-packages (from click->y0>=0.2.5->eliater==0.0.1.dev0) (0.4.6)\n",
      "Requirement already satisfied: threadpoolctl>=2.0.0 in c:\\users\\pnava\\pycharmprojects\\eliater\\venv\\lib\\site-packages (from scikit-learn->pgmpy>=0.1.24->eliater==0.0.1.dev0) (3.2.0)\n",
      "Requirement already satisfied: filelock in c:\\users\\pnava\\pycharmprojects\\eliater\\venv\\lib\\site-packages (from torch->pgmpy>=0.1.24->eliater==0.0.1.dev0) (3.12.3)\n",
      "Requirement already satisfied: typing-extensions in c:\\users\\pnava\\pycharmprojects\\eliater\\venv\\lib\\site-packages (from torch->pgmpy>=0.1.24->eliater==0.0.1.dev0) (4.7.1)\n",
      "Requirement already satisfied: jinja2 in c:\\users\\pnava\\pycharmprojects\\eliater\\venv\\lib\\site-packages (from torch->pgmpy>=0.1.24->eliater==0.0.1.dev0) (3.1.2)\n",
      "Requirement already satisfied: pox>=0.3.3 in c:\\users\\pnava\\pycharmprojects\\eliater\\venv\\lib\\site-packages (from klepto>=0.2.4->mystic<0.5.0,>=0.4.0->ananke-causal>=0.5.0->eliater==0.0.1.dev0) (0.3.3)\n",
      "Requirement already satisfied: MarkupSafe>=2.0 in c:\\users\\pnava\\pycharmprojects\\eliater\\venv\\lib\\site-packages (from jinja2->torch->pgmpy>=0.1.24->eliater==0.0.1.dev0) (2.1.3)\n"
     ]
    },
    {
     "name": "stderr",
     "output_type": "stream",
     "text": [
      "  Running command git clone --filter=blob:none --quiet https://github.com/y0-causal-inference/eliater.git 'C:\\Users\\pnava\\AppData\\Local\\Temp\\pip-req-build-ju295epo'\n",
      "  Running command git checkout -b linear-regression --track origin/linear-regression\n",
      "  branch 'linear-regression' set up to track 'origin/linear-regression'.\n",
      "  Switched to a new branch 'linear-regression'\n",
      "\n",
      "[notice] A new release of pip is available: 23.3.1 -> 23.3.2\n",
      "[notice] To update, run: python.exe -m pip install --upgrade pip\n"
     ]
    }
   ],
   "source": [
    "!pip install git+https://github.com/y0-causal-inference/eliater.git@linear-regression"
   ],
   "metadata": {
    "collapsed": false,
    "ExecuteTime": {
     "end_time": "2024-01-14T16:40:54.867941Z",
     "start_time": "2024-01-14T16:40:40.639979900Z"
    }
   },
   "id": "bf178ec456cbb94a",
   "execution_count": 1
  },
  {
   "cell_type": "code",
   "execution_count": 3,
   "id": "initial_id",
   "metadata": {
    "collapsed": true,
    "ExecuteTime": {
     "end_time": "2024-01-14T16:41:53.913572700Z",
     "start_time": "2024-01-14T16:41:53.873889700Z"
    }
   },
   "outputs": [
    {
     "ename": "ModuleNotFoundError",
     "evalue": "No module named 'src.frontdoor_backdoor'",
     "output_type": "error",
     "traceback": [
      "\u001B[1;31m---------------------------------------------------------------------------\u001B[0m",
      "\u001B[1;31mModuleNotFoundError\u001B[0m                       Traceback (most recent call last)",
      "Cell \u001B[1;32mIn[3], line 2\u001B[0m\n\u001B[0;32m      1\u001B[0m \u001B[38;5;28;01mimport\u001B[39;00m \u001B[38;5;21;01mpandas\u001B[39;00m \u001B[38;5;28;01mas\u001B[39;00m \u001B[38;5;21;01mpd\u001B[39;00m\n\u001B[1;32m----> 2\u001B[0m \u001B[38;5;28;01mfrom\u001B[39;00m \u001B[38;5;21;01msrc\u001B[39;00m\u001B[38;5;21;01m.\u001B[39;00m\u001B[38;5;21;01mfrontdoor_backdoor\u001B[39;00m\u001B[38;5;21;01m.\u001B[39;00m\u001B[38;5;21;01msars_cov2_discrete\u001B[39;00m \u001B[38;5;28;01mimport\u001B[39;00m sars_large_example\n",
      "\u001B[1;31mModuleNotFoundError\u001B[0m: No module named 'src.frontdoor_backdoor'"
     ]
    }
   ],
   "source": [
    "import pandas as pd\n",
    "from eliater.frontdoor_backdoor.sars_cov2_discrete import sars_large_example"
   ]
  },
  {
   "cell_type": "markdown",
   "source": [
    "This is case study 2 in Figure 6 in this paper: Eliater: an analytical workflow and open source implementation for causal query estimation in biomolecular networks."
   ],
   "metadata": {
    "collapsed": false
   },
   "id": "5b60ed63441c5411"
  },
  {
   "cell_type": "code",
   "execution_count": 10,
   "outputs": [],
   "source": [
    "graph = sars_large_example.graph"
   ],
   "metadata": {
    "collapsed": false,
    "ExecuteTime": {
     "end_time": "2024-01-11T22:22:21.934045800Z",
     "start_time": "2024-01-11T22:22:21.918978200Z"
    }
   },
   "id": "7ab5d32c79b7bf2"
  },
  {
   "cell_type": "markdown",
   "source": [
    "We get the observational data below. However, the data is mixed type, where the exposure (EGFR) is binary and rest of the variables are continuous. Currently, the conditional independence tests in eliater does not support mixed type data. Hence we discretize the data only to use for step 1. Rest of the steps support this type of data, so we use the original data for those steps."
   ],
   "metadata": {
    "collapsed": false
   },
   "id": "d5f92410e9801798"
  },
  {
   "cell_type": "code",
   "execution_count": 15,
   "outputs": [],
   "source": [
    "# get observational data\n",
    "data = pd.read_csv(\n",
    "    \"C:\\\\Users\\\\pnava\\\\PycharmProjects\\\\eliater\\\\src\\\\eliater\\\\data\\\\SARS_COV2_obs_data_discrete.csv\",\n",
    "    index_col=0\n",
    ")"
   ],
   "metadata": {
    "collapsed": false,
    "ExecuteTime": {
     "end_time": "2024-01-11T22:27:52.697559200Z",
     "start_time": "2024-01-11T22:27:52.689057600Z"
    }
   },
   "id": "eb3a23add3bc3914"
  },
  {
   "cell_type": "code",
   "outputs": [
    {
     "data": {
      "text/plain": "   SARS_COV2  ACE2  Ang  AGTR1  ADAM17  Toci  Sil6r  EGF  TNF  Gefi  EGFR  \\\n0          0     1    1      0       0     1      0    1    0     1     1   \n1          0     1    0      1       1     0      0    0    0     0     0   \n2          0     1    0      0       0     1      1    1    0     1     0   \n3          0     1    1      1       0     1      0    0    0     0     0   \n4          1     0    0      0       0     0      0    1    0     1     0   \n\n   PRR  NFKB  IL6STAT3  IL6AMP  cytok  \n0    0     1         0       0      0  \n1    0     0         0       0      1  \n2    1     0         0       0      1  \n3    1     0         0       1      1  \n4    0     0         0       0      0  ",
      "text/html": "<div>\n<style scoped>\n    .dataframe tbody tr th:only-of-type {\n        vertical-align: middle;\n    }\n\n    .dataframe tbody tr th {\n        vertical-align: top;\n    }\n\n    .dataframe thead th {\n        text-align: right;\n    }\n</style>\n<table border=\"1\" class=\"dataframe\">\n  <thead>\n    <tr style=\"text-align: right;\">\n      <th></th>\n      <th>SARS_COV2</th>\n      <th>ACE2</th>\n      <th>Ang</th>\n      <th>AGTR1</th>\n      <th>ADAM17</th>\n      <th>Toci</th>\n      <th>Sil6r</th>\n      <th>EGF</th>\n      <th>TNF</th>\n      <th>Gefi</th>\n      <th>EGFR</th>\n      <th>PRR</th>\n      <th>NFKB</th>\n      <th>IL6STAT3</th>\n      <th>IL6AMP</th>\n      <th>cytok</th>\n    </tr>\n  </thead>\n  <tbody>\n    <tr>\n      <th>0</th>\n      <td>0</td>\n      <td>1</td>\n      <td>1</td>\n      <td>0</td>\n      <td>0</td>\n      <td>1</td>\n      <td>0</td>\n      <td>1</td>\n      <td>0</td>\n      <td>1</td>\n      <td>1</td>\n      <td>0</td>\n      <td>1</td>\n      <td>0</td>\n      <td>0</td>\n      <td>0</td>\n    </tr>\n    <tr>\n      <th>1</th>\n      <td>0</td>\n      <td>1</td>\n      <td>0</td>\n      <td>1</td>\n      <td>1</td>\n      <td>0</td>\n      <td>0</td>\n      <td>0</td>\n      <td>0</td>\n      <td>0</td>\n      <td>0</td>\n      <td>0</td>\n      <td>0</td>\n      <td>0</td>\n      <td>0</td>\n      <td>1</td>\n    </tr>\n    <tr>\n      <th>2</th>\n      <td>0</td>\n      <td>1</td>\n      <td>0</td>\n      <td>0</td>\n      <td>0</td>\n      <td>1</td>\n      <td>1</td>\n      <td>1</td>\n      <td>0</td>\n      <td>1</td>\n      <td>0</td>\n      <td>1</td>\n      <td>0</td>\n      <td>0</td>\n      <td>0</td>\n      <td>1</td>\n    </tr>\n    <tr>\n      <th>3</th>\n      <td>0</td>\n      <td>1</td>\n      <td>1</td>\n      <td>1</td>\n      <td>0</td>\n      <td>1</td>\n      <td>0</td>\n      <td>0</td>\n      <td>0</td>\n      <td>0</td>\n      <td>0</td>\n      <td>1</td>\n      <td>0</td>\n      <td>0</td>\n      <td>1</td>\n      <td>1</td>\n    </tr>\n    <tr>\n      <th>4</th>\n      <td>1</td>\n      <td>0</td>\n      <td>0</td>\n      <td>0</td>\n      <td>0</td>\n      <td>0</td>\n      <td>0</td>\n      <td>1</td>\n      <td>0</td>\n      <td>1</td>\n      <td>0</td>\n      <td>0</td>\n      <td>0</td>\n      <td>0</td>\n      <td>0</td>\n      <td>0</td>\n    </tr>\n  </tbody>\n</table>\n</div>"
     },
     "execution_count": 16,
     "metadata": {},
     "output_type": "execute_result"
    }
   ],
   "source": [
    "data.head()"
   ],
   "metadata": {
    "collapsed": false,
    "ExecuteTime": {
     "end_time": "2024-01-11T22:27:53.436659800Z",
     "start_time": "2024-01-11T22:27:53.383989Z"
    }
   },
   "id": "81713af4e9c08fa3",
   "execution_count": 16
  },
  {
   "cell_type": "code",
   "execution_count": 31,
   "outputs": [],
   "source": [
    "# # discritize the data\n",
    "# from sklearn.preprocessing import KBinsDiscretizer\n",
    "# # discretization transform the raw data\n",
    "# kbins = KBinsDiscretizer(n_bins=10, encode='ordinal', strategy='uniform')\n",
    "# data_trans = kbins.fit_transform(data)\n",
    "# print(data_trans)\n",
    "# column_names = [\"SARS_COV2\",\n",
    "#                 \"ACE2\",\n",
    "#                 \"Ang\",\n",
    "#                 \"AGTR1\",\n",
    "#                 \"ADAM17\",\n",
    "#                 \"Toci\",\n",
    "#                 \"Sil6R\",\n",
    "#                 \"EGF\",\n",
    "#                 \"TNF\",\n",
    "#                 \"Gefi\",\n",
    "#                 \"EGFR\",\n",
    "#                 \"PRR\",\n",
    "#                 \"NFKB\",\n",
    "#                 \"IL6STAT3\",\n",
    "#                 \"IL6AMP\",\n",
    "#                 \"cytok\",]\n",
    "# obs_data_discrete = pd.DataFrame(data_trans, columns = [])\n",
    "# # summarize first few rows\n"
   ],
   "metadata": {
    "collapsed": false,
    "ExecuteTime": {
     "end_time": "2023-11-09T14:39:11.496297Z",
     "start_time": "2023-11-09T14:39:11.436353Z"
    }
   },
   "id": "192c73399eb31e8"
  },
  {
   "cell_type": "markdown",
   "source": [
    "## Step 1: Verify correctness of the network structure"
   ],
   "metadata": {
    "collapsed": false
   },
   "id": "22de51a518ee7699"
  },
  {
   "cell_type": "code",
   "outputs": [],
   "source": [
    "from eliater.network_validation import print_graph_falsifications"
   ],
   "metadata": {
    "collapsed": false,
    "ExecuteTime": {
     "end_time": "2024-01-11T22:22:37.457232500Z",
     "start_time": "2024-01-11T22:22:37.452862700Z"
    }
   },
   "id": "c2a9ea89f64f8de2",
   "execution_count": 13
  },
  {
   "cell_type": "code",
   "execution_count": 17,
   "outputs": [
    {
     "name": "stdout",
     "output_type": "stream",
     "text": [
      "Failed tests: 0/99 (0.00%)\n",
      "Reject null hypothesis when p<0.01\n",
      "=========  =========  ================  ===========  =========  =====  =======  ===================\n",
      "left       right      given                   stats          p    dof    p_adj  p_adj_significant\n",
      "=========  =========  ================  ===========  =========  =====  =======  ===================\n",
      "AGTR1      IL6AMP     IL6STAT3|NFKB     0.0324134    0.983924       2        1  False\n",
      "Gefi       Sil6r                        0.0201231    0.887194       1        1  False\n",
      "ACE2       ADAM17     AGTR1             1.41006      0.494094       2        1  False\n",
      "IL6AMP     SARS_COV2  IL6STAT3|NFKB     0.0902653    0.955871       2        1  False\n",
      "ACE2       IL6AMP     IL6STAT3|NFKB     1.04406      0.593314       2        1  False\n",
      "EGFR       Toci                         0            1              1        1  False\n",
      "IL6STAT3   PRR        Sil6r             2.04415      0.359848       2        1  False\n",
      "AGTR1      Toci                         2.2175       0.136454       1        1  False\n",
      "SARS_COV2  Toci                         0.811494     0.367679       1        1  False\n",
      "EGF        Sil6r      ADAM17            0.527229     0.76827        2        1  False\n",
      "ADAM17     cytok      IL6AMP            0.671608     0.714763       2        1  False\n",
      "AGTR1      Gefi                         1.78387      0.181675       1        1  False\n",
      "Gefi       IL6STAT3                     0            1              1        1  False\n",
      "IL6AMP     Sil6r      IL6STAT3|NFKB     5.03636      0.0806061      2        1  False\n",
      "ADAM17     EGFR       EGF               0            1              2        1  False\n",
      "Toci       cytok      IL6AMP            0.950781     0.621642       2        1  False\n",
      "Gefi       Toci                         0.256384     0.612616       1        1  False\n",
      "ACE2       Gefi                         4.02739e-05  0.994937       1        1  False\n",
      "PRR        cytok      IL6AMP            0.723976     0.696291       2        1  False\n",
      "SARS_COV2  TNF        AGTR1             0.00542397   0.997292       2        1  False\n",
      "ADAM17     Gefi                         0.2708       0.602796       1        1  False\n",
      "ACE2       IL6STAT3   Sil6r             0.212916     0.899013       2        1  False\n",
      "Ang        TNF        AGTR1             1.42643      0.490067       2        1  False\n",
      "Gefi       PRR                          0.022228     0.881482       1        1  False\n",
      "TNF        Toci                         0            1              1        1  False\n",
      "IL6AMP     TNF        IL6STAT3|NFKB     0.353892     0.837825       2        1  False\n",
      "Ang        IL6AMP     IL6STAT3|NFKB     0.0177482    0.991165       2        1  False\n",
      "ADAM17     IL6STAT3   Sil6r             0.462775     0.793432       2        1  False\n",
      "EGFR       cytok      IL6AMP            0            1              2        1  False\n",
      "EGF        cytok      IL6AMP            0.179248     0.914275       2        1  False\n",
      "ACE2       PRR        SARS_COV2         0.00234094   0.99883        2        1  False\n",
      "ACE2       EGF        AGTR1             0.217019     0.89717        2        1  False\n",
      "Sil6r      TNF        ADAM17            0            1              2        1  False\n",
      "ADAM17     IL6AMP     IL6STAT3|NFKB     0.0594519    0.970712       2        1  False\n",
      "Gefi       TNF                          2.11509      0.145854       1        1  False\n",
      "Ang        cytok      IL6AMP            0.29265      0.863877       2        1  False\n",
      "ADAM17     SARS_COV2  AGTR1             0.0496684    0.975472       2        1  False\n",
      "Ang        Toci                         1.12652      0.288518       1        1  False\n",
      "EGF        NFKB       ADAM17|EGFR       0.327633     0.95475        3        1  False\n",
      "EGF        Gefi                         0.00578492   0.939372       1        1  False\n",
      "ADAM17     PRR        AGTR1             2.79909      0.24671        2        1  False\n",
      "AGTR1      NFKB       ADAM17|SARS_COV2  0            1              3        1  False\n",
      "ADAM17     Toci                         0            1              1        1  False\n",
      "EGF        IL6STAT3   Sil6r             0            1              2        1  False\n",
      "NFKB       SARS_COV2  AGTR1|PRR         1.19287      0.879272       4        1  False\n",
      "ACE2       Toci                         0.116143     0.733256       1        1  False\n",
      "IL6STAT3   cytok      IL6AMP            0.791244     0.673261       2        1  False\n",
      "EGFR       SARS_COV2  EGF               0.491802     0.782          2        1  False\n",
      "IL6STAT3   TNF        Sil6r             0.21626      0.897511       2        1  False\n",
      "Gefi       NFKB       EGF|EGFR          0.400204     0.9402         3        1  False\n",
      "PRR        Sil6r      AGTR1             1.75707      0.415391       2        1  False\n",
      "EGF        TNF        ADAM17            1.92652      0.381647       2        1  False\n",
      "IL6AMP     Toci       ADAM17|Sil6r      2.15637      0.540593       3        1  False\n",
      "EGF        SARS_COV2  AGTR1             0            1              2        1  False\n",
      "IL6STAT3   NFKB       EGFR|Sil6r        0.0965934    0.992243       3        1  False\n",
      "ADAM17     Ang        AGTR1             0.585921     0.746052       2        1  False\n",
      "AGTR1      PRR        SARS_COV2         0.505325     0.77673        2        1  False\n",
      "AGTR1      SARS_COV2  Ang               0.738536     0.69124        2        1  False\n",
      "ACE2       TNF        AGTR1             0.152552     0.926561       2        1  False\n",
      "EGF        Toci                         0.476666     0.489936       1        1  False\n",
      "Ang        EGFR       EGF               0.10006      0.951201       2        1  False\n",
      "NFKB       cytok      IL6AMP            0.913009     0.339317       1        1  False\n",
      "Gefi       SARS_COV2                    0.00732766   0.931783       1        1  False\n",
      "IL6AMP     PRR        IL6STAT3|NFKB     0.908375     0.634964       2        1  False\n",
      "Ang        NFKB       AGTR1|SARS_COV2   0.711021     0.870609       3        1  False\n",
      "Ang        Gefi                         0.0381793    0.845084       1        1  False\n",
      "ACE2       NFKB       AGTR1|SARS_COV2   0.113796     0.990132       3        1  False\n",
      "EGFR       Sil6r      EGF               0.025176     0.987491       2        1  False\n",
      "Gefi       cytok      IL6AMP            5.46917      0.0649209      2        1  False\n",
      "AGTR1      Sil6r      ADAM17            1.26146      0.532203       2        1  False\n",
      "IL6STAT3   SARS_COV2  Sil6r             0            1              2        1  False\n",
      "IL6STAT3   Toci       Sil6r             0            1              2        1  False\n",
      "ACE2       AGTR1      Ang               0.354534     0.837556       2        1  False\n",
      "PRR        Toci                         0.146778     0.701633       1        1  False\n",
      "NFKB       Sil6r      ADAM17            0.506664     0.77621        2        1  False\n",
      "Sil6r      cytok      IL6AMP            0.928386     0.628642       2        1  False\n",
      "AGTR1      EGFR       EGF               3.81812      0.148219       2        1  False\n",
      "EGFR       PRR        EGF               0.170231     0.918406       2        1  False\n",
      "AGTR1      cytok      IL6AMP            0.669661     0.715459       2        1  False\n",
      "ACE2       EGFR       EGF               0            1              2        1  False\n",
      "SARS_COV2  cytok      IL6AMP            5.98382      0.0501915      2        1  False\n",
      "NFKB       Toci                         0.712066     0.398759       1        1  False\n",
      "ACE2       cytok      IL6AMP            0.222251     0.894826       2        1  False\n",
      "PRR        TNF        AGTR1             2.21657      0.330124       2        1  False\n",
      "SARS_COV2  Sil6r      AGTR1             3.24098      0.197801       2        1  False\n",
      "TNF        cytok      IL6AMP            0.0018895    0.999056       2        1  False\n",
      "EGF        IL6AMP     ADAM17|EGFR       2.23723      0.692218       4        1  False\n",
      "AGTR1      IL6STAT3   Sil6r             0.431468     0.805949       2        1  False\n",
      "Ang        Sil6r      AGTR1             1.15241      0.562028       2        1  False\n",
      "ADAM17     NFKB       AGTR1|EGFR|TNF    5.39973      0.493657       6        1  False\n",
      "ACE2       Sil6r      AGTR1             0.985399     0.610975       2        1  False\n",
      "Ang        IL6STAT3   Sil6r             0.670244     0.715251       2        1  False\n",
      "Ang        EGF        AGTR1             1.68209      0.431259       2        1  False\n",
      "AGTR1      TNF        ADAM17            0.801851     0.6697         2        1  False\n",
      "EGFR       IL6AMP     IL6STAT3|NFKB     0.0211437    0.989484       2        1  False\n",
      "Gefi       IL6AMP     EGF|EGFR          0.914156     0.82201        3        1  False\n",
      "Ang        PRR        SARS_COV2         0.398184     0.819475       2        1  False\n",
      "EGF        PRR        AGTR1             0            1              2        1  False\n",
      "AGTR1      EGF        ADAM17            0.107437     0.947699       2        1  False\n",
      "=========  =========  ================  ===========  =========  =====  =======  ===================\n"
     ]
    }
   ],
   "source": [
    "print_graph_falsifications(graph=graph, data=data, method=\"chi-square\", verbose=True, significance_level=0.01)"
   ],
   "metadata": {
    "collapsed": false,
    "ExecuteTime": {
     "end_time": "2024-01-11T22:28:28.368785200Z",
     "start_time": "2024-01-11T22:27:57.295349Z"
    }
   },
   "id": "e21efcf3940ffc5e"
  },
  {
   "cell_type": "markdown",
   "source": [
    "None of the tests failed for this graph. The reason is that the data is simulated according to the graph structure, hence we expect the d-separations implied by the network be validated by the data. "
   ],
   "metadata": {
    "collapsed": false
   },
   "id": "74b79e259232adfb"
  },
  {
   "cell_type": "markdown",
   "source": [
    "## Step 2: Check query identifiability"
   ],
   "metadata": {
    "collapsed": false
   },
   "id": "944520ca55c79b4b"
  },
  {
   "cell_type": "code",
   "execution_count": 18,
   "outputs": [
    {
     "data": {
      "text/plain": "Identification(outcomes=\"{cytok}, treatments=\"{EGFR}\",conditions=\"set()\",  graph=\"NxMixedGraph(directed=<networkx.classes.digraph.DiGraph object at 0x000002D0D715B710>, undirected=<networkx.classes.graph.Graph object at 0x000002D0D7159F10>)\", estimand=\"P(ACE2, ADAM17, AGTR1, Ang, EGF, EGFR, Gefi, IL6AMP, IL6STAT3, NFKB, PRR, SARS_COV2, Sil6r, TNF, Toci, cytok)\")"
     },
     "execution_count": 18,
     "metadata": {},
     "output_type": "execute_result"
    }
   ],
   "source": [
    "from y0.algorithm.identify import Identification\n",
    "from y0.dsl import P, Variable\n",
    "\n",
    "id_in = Identification.from_expression(\n",
    "    query=P(Variable('cytok') @ Variable('EGFR')),\n",
    "    graph=graph,\n",
    ")\n",
    "id_in"
   ],
   "metadata": {
    "collapsed": false,
    "ExecuteTime": {
     "end_time": "2024-01-11T22:30:29.636943700Z",
     "start_time": "2024-01-11T22:30:29.622836300Z"
    }
   },
   "id": "25bb329cbc5a1e08"
  },
  {
   "cell_type": "markdown",
   "source": [
    "The query is identifiable."
   ],
   "metadata": {
    "collapsed": false
   },
   "id": "5ac9e0aec8791fbc"
  },
  {
   "cell_type": "markdown",
   "source": [
    "## Step 3: Find nuisance variables and mark them as latent"
   ],
   "metadata": {
    "collapsed": false
   },
   "id": "e84ccc3bdc28f772"
  },
  {
   "cell_type": "code",
   "outputs": [],
   "source": [
    "from eliater.discover_latent_nodes import find_nuisance_variables"
   ],
   "metadata": {
    "collapsed": false,
    "ExecuteTime": {
     "end_time": "2024-01-11T22:30:33.555908900Z",
     "start_time": "2024-01-11T22:30:33.544987100Z"
    }
   },
   "id": "f296955711592d83",
   "execution_count": 19
  },
  {
   "cell_type": "markdown",
   "source": [
    "This function finds the nuisance variables for the input graph."
   ],
   "metadata": {
    "collapsed": false
   },
   "id": "c7ea93588b4f7188"
  },
  {
   "cell_type": "code",
   "execution_count": 20,
   "outputs": [
    {
     "data": {
      "text/plain": "set()"
     },
     "execution_count": 20,
     "metadata": {},
     "output_type": "execute_result"
    }
   ],
   "source": [
    "nuisance_variables = find_nuisance_variables(graph, treatments=Variable(\"EGFR\"), outcomes=Variable(\"cytok\"))\n",
    "nuisance_variables"
   ],
   "metadata": {
    "collapsed": false,
    "ExecuteTime": {
     "end_time": "2024-01-11T22:30:34.976213600Z",
     "start_time": "2024-01-11T22:30:34.955647800Z"
    }
   },
   "id": "4dff38fbf23ce61c"
  },
  {
   "cell_type": "markdown",
   "source": [
    "No variable is identified as the nuisance variable. Hence the simplified network in the next step will produce a graph similar to the original graph."
   ],
   "metadata": {
    "collapsed": false
   },
   "id": "7401dd4e2c6d5d31"
  },
  {
   "cell_type": "markdown",
   "source": [
    "## Step 4: Simplify the network"
   ],
   "metadata": {
    "collapsed": false
   },
   "id": "6aa2819509255d89"
  },
  {
   "cell_type": "markdown",
   "source": [
    "The following function find the nuisance variable (step 3), marks them as latent and then applies Evan's simplification rules to remove the nuisance variables. As there are no nuisance variables, the new graph will be the same as the original graph."
   ],
   "metadata": {
    "collapsed": false
   },
   "id": "7b987190a5fa7453"
  },
  {
   "cell_type": "code",
   "outputs": [],
   "source": [
    "from eliater.discover_latent_nodes import remove_nuisance_variables"
   ],
   "metadata": {
    "collapsed": false,
    "ExecuteTime": {
     "end_time": "2024-01-11T22:30:39.410790200Z",
     "start_time": "2024-01-11T22:30:39.394948800Z"
    }
   },
   "id": "642f54dee856e158",
   "execution_count": 21
  },
  {
   "cell_type": "code",
   "execution_count": 22,
   "outputs": [],
   "source": [
    "new_graph = remove_nuisance_variables(graph, treatments=Variable(\"EGFR\"), outcomes=Variable(\"cytok\"))"
   ],
   "metadata": {
    "collapsed": false,
    "ExecuteTime": {
     "end_time": "2024-01-11T22:30:40.414704600Z",
     "start_time": "2024-01-11T22:30:40.403244200Z"
    }
   },
   "id": "e6849ec627ee2b59"
  },
  {
   "cell_type": "markdown",
   "source": [
    "## Step 5: Estimate the query"
   ],
   "metadata": {
    "collapsed": false
   },
   "id": "b8e9dd961d1d459a"
  },
  {
   "cell_type": "code",
   "execution_count": 23,
   "outputs": [],
   "source": [
    "from y0.algorithm.estimation import estimate_ace"
   ],
   "metadata": {
    "collapsed": false,
    "ExecuteTime": {
     "end_time": "2024-01-11T22:31:17.153964Z",
     "start_time": "2024-01-11T22:31:17.149457700Z"
    }
   },
   "id": "8da8ac5fe1baa878"
  },
  {
   "cell_type": "code",
   "outputs": [
    {
     "data": {
      "text/plain": "-0.13376185743219493"
     },
     "execution_count": 25,
     "metadata": {},
     "output_type": "execute_result"
    }
   ],
   "source": [
    "estimate_ace(new_graph, treatments=Variable(\"EGFR\"), outcomes=Variable(\"cytok\"), data=data)"
   ],
   "metadata": {
    "collapsed": false,
    "ExecuteTime": {
     "end_time": "2024-01-11T22:32:01.841919600Z",
     "start_time": "2024-01-11T22:32:01.727655500Z"
    }
   },
   "id": "5c926e5be8539db9",
   "execution_count": 25
  }
 ],
 "metadata": {
  "kernelspec": {
   "display_name": "Python 3",
   "language": "python",
   "name": "python3"
  },
  "language_info": {
   "codemirror_mode": {
    "name": "ipython",
    "version": 2
   },
   "file_extension": ".py",
   "mimetype": "text/x-python",
   "name": "python",
   "nbconvert_exporter": "python",
   "pygments_lexer": "ipython2",
   "version": "2.7.6"
  }
 },
 "nbformat": 4,
 "nbformat_minor": 5
}
