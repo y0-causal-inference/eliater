{
 "cells": [
  {
   "cell_type": "markdown",
   "id": "cb1612e5198cab85",
   "metadata": {
    "collapsed": false
   },
   "source": [
    "# Case study 1: Simulation with a SARS-CoV-2 Model"
   ]
  },
  {
   "cell_type": "code",
   "outputs": [
    {
     "name": "stdout",
     "output_type": "stream",
     "text": [
      "Collecting git+https://github.com/y0-causal-inference/eliater.git\r\n",
      "  Cloning https://github.com/y0-causal-inference/eliater.git to /private/var/folders/fs/kx46_43x04ndj3yryggvkg5r0000gn/T/pip-req-build-nsw1l29c\r\n",
      "  Running command git clone --quiet https://github.com/y0-causal-inference/eliater.git /private/var/folders/fs/kx46_43x04ndj3yryggvkg5r0000gn/T/pip-req-build-nsw1l29c\r\n",
      "  Resolved https://github.com/y0-causal-inference/eliater.git to commit 33eb330e6faaa0fce6a0526d4764b800b1c8434c\r\n",
      "  Installing build dependencies ... \u001B[?25ldone\r\n",
      "\u001B[?25h  Getting requirements to build wheel ... \u001B[?25ldone\r\n",
      "\u001B[?25h  Preparing metadata (pyproject.toml) ... \u001B[?25ldone\r\n",
      "\u001B[?25hRequirement already satisfied: y0>=0.2.7 in /Users/sarataheri/GitHub/eliater/venv/lib/python3.11/site-packages (from eliater==0.0.1.dev0) (0.2.7)\r\n",
      "Requirement already satisfied: scipy in /Users/sarataheri/GitHub/eliater/venv/lib/python3.11/site-packages (from eliater==0.0.1.dev0) (1.11.4)\r\n",
      "Requirement already satisfied: numpy in /Users/sarataheri/GitHub/eliater/venv/lib/python3.11/site-packages (from eliater==0.0.1.dev0) (1.26.3)\r\n",
      "Requirement already satisfied: ananke-causal>=0.5.0 in /Users/sarataheri/GitHub/eliater/venv/lib/python3.11/site-packages (from eliater==0.0.1.dev0) (0.5.0)\r\n",
      "Requirement already satisfied: pgmpy>=0.1.24 in /Users/sarataheri/GitHub/eliater/venv/lib/python3.11/site-packages (from eliater==0.0.1.dev0) (0.1.24)\r\n",
      "Requirement already satisfied: matplotlib in /Users/sarataheri/GitHub/eliater/venv/lib/python3.11/site-packages (from eliater==0.0.1.dev0) (3.8.2)\r\n",
      "Requirement already satisfied: pandas in /Users/sarataheri/GitHub/eliater/venv/lib/python3.11/site-packages (from eliater==0.0.1.dev0) (1.5.3)\r\n",
      "Requirement already satisfied: seaborn in /Users/sarataheri/GitHub/eliater/venv/lib/python3.11/site-packages (from eliater==0.0.1.dev0) (0.13.1)\r\n",
      "Requirement already satisfied: optimaladj>=0.0.4 in /Users/sarataheri/GitHub/eliater/venv/lib/python3.11/site-packages (from eliater==0.0.1.dev0) (0.0.4)\r\n",
      "Requirement already satisfied: jax<0.5.0,>=0.4.8 in /Users/sarataheri/GitHub/eliater/venv/lib/python3.11/site-packages (from ananke-causal>=0.5.0->eliater==0.0.1.dev0) (0.4.23)\r\n",
      "Requirement already satisfied: jaxlib<0.5.0,>=0.4.7 in /Users/sarataheri/GitHub/eliater/venv/lib/python3.11/site-packages (from ananke-causal>=0.5.0->eliater==0.0.1.dev0) (0.4.23)\r\n",
      "Requirement already satisfied: mystic<0.5.0,>=0.4.0 in /Users/sarataheri/GitHub/eliater/venv/lib/python3.11/site-packages (from ananke-causal>=0.5.0->eliater==0.0.1.dev0) (0.4.1)\r\n",
      "Requirement already satisfied: statsmodels<0.14.0,>=0.13.2 in /Users/sarataheri/GitHub/eliater/venv/lib/python3.11/site-packages (from ananke-causal>=0.5.0->eliater==0.0.1.dev0) (0.13.5)\r\n",
      "Requirement already satisfied: contourpy>=1.0.1 in /Users/sarataheri/GitHub/eliater/venv/lib/python3.11/site-packages (from matplotlib->eliater==0.0.1.dev0) (1.2.0)\r\n",
      "Requirement already satisfied: cycler>=0.10 in /Users/sarataheri/GitHub/eliater/venv/lib/python3.11/site-packages (from matplotlib->eliater==0.0.1.dev0) (0.12.1)\r\n",
      "Requirement already satisfied: fonttools>=4.22.0 in /Users/sarataheri/GitHub/eliater/venv/lib/python3.11/site-packages (from matplotlib->eliater==0.0.1.dev0) (4.47.2)\r\n",
      "Requirement already satisfied: kiwisolver>=1.3.1 in /Users/sarataheri/GitHub/eliater/venv/lib/python3.11/site-packages (from matplotlib->eliater==0.0.1.dev0) (1.4.5)\r\n",
      "Requirement already satisfied: packaging>=20.0 in /Users/sarataheri/GitHub/eliater/venv/lib/python3.11/site-packages (from matplotlib->eliater==0.0.1.dev0) (23.2)\r\n",
      "Requirement already satisfied: pillow>=8 in /Users/sarataheri/GitHub/eliater/venv/lib/python3.11/site-packages (from matplotlib->eliater==0.0.1.dev0) (10.2.0)\r\n",
      "Requirement already satisfied: pyparsing>=2.3.1 in /Users/sarataheri/GitHub/eliater/venv/lib/python3.11/site-packages (from matplotlib->eliater==0.0.1.dev0) (3.1.1)\r\n",
      "Requirement already satisfied: python-dateutil>=2.7 in /Users/sarataheri/GitHub/eliater/venv/lib/python3.11/site-packages (from matplotlib->eliater==0.0.1.dev0) (2.8.2)\r\n",
      "Requirement already satisfied: pytz>=2020.1 in /Users/sarataheri/GitHub/eliater/venv/lib/python3.11/site-packages (from pandas->eliater==0.0.1.dev0) (2023.3.post1)\r\n",
      "Requirement already satisfied: networkx in /Users/sarataheri/GitHub/eliater/venv/lib/python3.11/site-packages (from pgmpy>=0.1.24->eliater==0.0.1.dev0) (3.2.1)\r\n",
      "Requirement already satisfied: scikit-learn in /Users/sarataheri/GitHub/eliater/venv/lib/python3.11/site-packages (from pgmpy>=0.1.24->eliater==0.0.1.dev0) (1.3.2)\r\n",
      "Requirement already satisfied: torch in /Users/sarataheri/GitHub/eliater/venv/lib/python3.11/site-packages (from pgmpy>=0.1.24->eliater==0.0.1.dev0) (2.1.2)\r\n",
      "Requirement already satisfied: tqdm in /Users/sarataheri/GitHub/eliater/venv/lib/python3.11/site-packages (from pgmpy>=0.1.24->eliater==0.0.1.dev0) (4.66.1)\r\n",
      "Requirement already satisfied: joblib in /Users/sarataheri/GitHub/eliater/venv/lib/python3.11/site-packages (from pgmpy>=0.1.24->eliater==0.0.1.dev0) (1.3.2)\r\n",
      "Requirement already satisfied: opt-einsum in /Users/sarataheri/GitHub/eliater/venv/lib/python3.11/site-packages (from pgmpy>=0.1.24->eliater==0.0.1.dev0) (3.3.0)\r\n",
      "Requirement already satisfied: more-itertools in /Users/sarataheri/GitHub/eliater/venv/lib/python3.11/site-packages (from y0>=0.2.7->eliater==0.0.1.dev0) (10.2.0)\r\n",
      "Requirement already satisfied: click in /Users/sarataheri/GitHub/eliater/venv/lib/python3.11/site-packages (from y0>=0.2.7->eliater==0.0.1.dev0) (8.1.7)\r\n",
      "Requirement already satisfied: more-click in /Users/sarataheri/GitHub/eliater/venv/lib/python3.11/site-packages (from y0>=0.2.7->eliater==0.0.1.dev0) (0.1.2)\r\n",
      "Requirement already satisfied: tabulate in /Users/sarataheri/GitHub/eliater/venv/lib/python3.11/site-packages (from y0>=0.2.7->eliater==0.0.1.dev0) (0.9.0)\r\n",
      "Requirement already satisfied: ml-dtypes>=0.2.0 in /Users/sarataheri/GitHub/eliater/venv/lib/python3.11/site-packages (from jax<0.5.0,>=0.4.8->ananke-causal>=0.5.0->eliater==0.0.1.dev0) (0.3.2)\r\n",
      "Requirement already satisfied: dill>=0.3.7 in /Users/sarataheri/GitHub/eliater/venv/lib/python3.11/site-packages (from mystic<0.5.0,>=0.4.0->ananke-causal>=0.5.0->eliater==0.0.1.dev0) (0.3.7)\r\n",
      "Requirement already satisfied: klepto>=0.2.4 in /Users/sarataheri/GitHub/eliater/venv/lib/python3.11/site-packages (from mystic<0.5.0,>=0.4.0->ananke-causal>=0.5.0->eliater==0.0.1.dev0) (0.2.4)\r\n",
      "Requirement already satisfied: sympy>=0.6.7 in /Users/sarataheri/GitHub/eliater/venv/lib/python3.11/site-packages (from mystic<0.5.0,>=0.4.0->ananke-causal>=0.5.0->eliater==0.0.1.dev0) (1.12)\r\n",
      "Requirement already satisfied: mpmath>=0.19 in /Users/sarataheri/GitHub/eliater/venv/lib/python3.11/site-packages (from mystic<0.5.0,>=0.4.0->ananke-causal>=0.5.0->eliater==0.0.1.dev0) (1.3.0)\r\n",
      "Requirement already satisfied: six>=1.5 in /Users/sarataheri/GitHub/eliater/venv/lib/python3.11/site-packages (from python-dateutil>=2.7->matplotlib->eliater==0.0.1.dev0) (1.16.0)\r\n",
      "Requirement already satisfied: patsy>=0.5.2 in /Users/sarataheri/GitHub/eliater/venv/lib/python3.11/site-packages (from statsmodels<0.14.0,>=0.13.2->ananke-causal>=0.5.0->eliater==0.0.1.dev0) (0.5.6)\r\n",
      "Requirement already satisfied: threadpoolctl>=2.0.0 in /Users/sarataheri/GitHub/eliater/venv/lib/python3.11/site-packages (from scikit-learn->pgmpy>=0.1.24->eliater==0.0.1.dev0) (3.2.0)\r\n",
      "Requirement already satisfied: filelock in /Users/sarataheri/GitHub/eliater/venv/lib/python3.11/site-packages (from torch->pgmpy>=0.1.24->eliater==0.0.1.dev0) (3.13.1)\r\n",
      "Requirement already satisfied: typing-extensions in /Users/sarataheri/GitHub/eliater/venv/lib/python3.11/site-packages (from torch->pgmpy>=0.1.24->eliater==0.0.1.dev0) (4.9.0)\r\n",
      "Requirement already satisfied: jinja2 in /Users/sarataheri/GitHub/eliater/venv/lib/python3.11/site-packages (from torch->pgmpy>=0.1.24->eliater==0.0.1.dev0) (3.1.3)\r\n",
      "Requirement already satisfied: fsspec in /Users/sarataheri/GitHub/eliater/venv/lib/python3.11/site-packages (from torch->pgmpy>=0.1.24->eliater==0.0.1.dev0) (2023.12.2)\r\n",
      "Requirement already satisfied: pox>=0.3.3 in /Users/sarataheri/GitHub/eliater/venv/lib/python3.11/site-packages (from klepto>=0.2.4->mystic<0.5.0,>=0.4.0->ananke-causal>=0.5.0->eliater==0.0.1.dev0) (0.3.3)\r\n",
      "Requirement already satisfied: MarkupSafe>=2.0 in /Users/sarataheri/GitHub/eliater/venv/lib/python3.11/site-packages (from jinja2->torch->pgmpy>=0.1.24->eliater==0.0.1.dev0) (2.1.3)\r\n",
      "\r\n",
      "\u001B[1m[\u001B[0m\u001B[34;49mnotice\u001B[0m\u001B[1;39;49m]\u001B[0m\u001B[39;49m A new release of pip is available: \u001B[0m\u001B[31;49m23.2.1\u001B[0m\u001B[39;49m -> \u001B[0m\u001B[32;49m23.3.2\u001B[0m\r\n",
      "\u001B[1m[\u001B[0m\u001B[34;49mnotice\u001B[0m\u001B[1;39;49m]\u001B[0m\u001B[39;49m To update, run: \u001B[0m\u001B[32;49mpip install --upgrade pip\u001B[0m\r\n"
     ]
    }
   ],
   "source": [
    "!pip install git+https://github.com/y0-causal-inference/eliater.git "
   ],
   "metadata": {
    "collapsed": false,
    "ExecuteTime": {
     "end_time": "2024-01-23T11:00:20.698543Z",
     "start_time": "2024-01-23T10:59:51.411553Z"
    }
   },
   "id": "c97c6b9e4c253d48",
   "execution_count": 32
  },
  {
   "cell_type": "code",
   "execution_count": 97,
   "id": "initial_id",
   "metadata": {
    "ExecuteTime": {
     "end_time": "2024-01-23T14:46:14.167287Z",
     "start_time": "2024-01-23T14:46:14.072652Z"
    }
   },
   "outputs": [],
   "source": [
    "import numpy as np\n",
    "\n",
    "# from eliater import version_df\n",
    "from eliater.discover_latent_nodes import find_nuisance_variables, remove_nuisance_variables\n",
    "from src.eliater.examples.sars_cov2 import sars_large_example as example\n",
    "from eliater.network_validation import print_graph_falsifications\n",
    "from y0.algorithm.estimation import estimate_ace\n",
    "from y0.algorithm.identify import Identification, identify_outcomes\n",
    "from y0.dsl import P, Variable\n",
    "\n",
    "# version_df()"
   ]
  },
  {
   "cell_type": "code",
   "execution_count": 98,
   "id": "e3c3963b-36d3-468c-af44-2209e9ed24f8",
   "metadata": {
    "ExecuteTime": {
     "end_time": "2024-01-23T14:46:15.175590Z",
     "start_time": "2024-01-23T14:46:15.101958Z"
    }
   },
   "outputs": [],
   "source": [
    "treatment = Variable(\"EGFR\")\n",
    "outcome = Variable(\"cytok\")\n",
    "SEED = 100"
   ]
  },
  {
   "cell_type": "markdown",
   "id": "5b60ed63441c5411",
   "metadata": {
    "collapsed": false
   },
   "source": [
    "This is case study 1 in Figure 6 in this paper: Eliater: an open source software for causal query estimation from observational measurements of biomolecular networks. The figure below shows the SARS-CoV-2 network (Mohammad-Taheri et al., 2022; Zucker\n",
    "et al., 2021), which models the activation of Cytokine Release Syndrome (Cytokine Storm), a known factor causing tissue damage in severely ill SARS-CoV-2 patients (Ulhaq and Soraya, 2020)."
   ]
  },
  {
   "cell_type": "code",
   "execution_count": 99,
   "id": "7ab5d32c79b7bf2",
   "metadata": {
    "collapsed": false,
    "ExecuteTime": {
     "end_time": "2024-01-23T14:46:20.543223Z",
     "start_time": "2024-01-23T14:46:20.448852Z"
    }
   },
   "outputs": [],
   "source": [
    "graph = example.graph"
   ]
  },
  {
   "cell_type": "markdown",
   "id": "d5f92410e9801798",
   "metadata": {
    "collapsed": false
   },
   "source": [
    "This case study used synthetic observational data. The generation of this synthetic data was inspired by common biological practices.  The exogenous variables were modeled with a Gaussian distribution. For each endogenous variable $X$, we represented  biomolecular reactions using Hill equations \\cite{alon2019introduction}, and were approximated with a sigmoid function as follows,\n",
    "\n",
    "$\\mathcal{N}(\\frac{100}{1 + \\exp(\\mathbf{\\theta}^{\\prime} Pa(X) + \\theta_0)})$ \n",
    "\n",
    "where $Pa(X)$ is a $q \\times 1$ vector of measurements related to the parent of $X$, $\\mathbf{\\theta}'$ is a $1 \\times q$ parameter vector, and $\\theta_0$ is a scalar. The $EGFR$ was generated from a Binomial distribution with probability of $\\frac{1}{1 + \\exp(\\mathbf{\\theta}^{\\prime} Pa(X) + \\theta_0)}$. Hence, the observational data is mixed-type where the $EGFR$ column is binary (discrete), and rest of columns are continuous."
   ]
  },
  {
   "cell_type": "code",
   "execution_count": 100,
   "id": "eb3a23add3bc3914",
   "metadata": {
    "collapsed": false,
    "ExecuteTime": {
     "end_time": "2024-01-23T14:58:19.648529Z",
     "start_time": "2024-01-23T14:58:19.540648Z"
    }
   },
   "outputs": [
    {
     "data": {
      "text/plain": "   SARS_COV2       ACE2        Ang       AGTR1     ADAM17       Toci  \\\n0  73.679109  17.576840  93.861006  101.151905  98.540180  56.005886   \n1  56.620967  31.727878  78.949305   99.479725  99.297518  56.022003   \n2  65.013230  24.644308  89.730900  100.509177  99.437188  49.753317   \n3  76.249522  19.484148  98.286645   98.466683  98.528750  55.121697   \n4  76.961345  18.504758  92.974745   99.686780  97.174635  45.153245   \n\n       Sil6r        EGF        TNF       Gefi  EGFR        PRR       NFKB  \\\n0  69.424218  96.505141  99.296894  33.424504     1  97.370407  29.751989   \n1  64.051996  98.542970  98.511394  47.897558     1  89.538987  38.158193   \n2  82.287237  91.929421  99.807326  52.808541     1  94.206983  34.403547   \n3  74.968228  97.613234  99.470404  50.439736     1  97.493690  29.059414   \n4  55.506413  95.726874  99.440437  35.386174     1  98.792294  32.300719   \n\n    IL6STAT3     IL6AMP      cytok  \n0  29.366957  38.082656  59.631856  \n1  22.415073  37.129663  56.431981  \n2  44.666545  52.566070  77.488187  \n3  37.505798  41.889477  63.836998  \n4  19.319097  33.277613  52.521325  ",
      "text/html": "<div>\n<style scoped>\n    .dataframe tbody tr th:only-of-type {\n        vertical-align: middle;\n    }\n\n    .dataframe tbody tr th {\n        vertical-align: top;\n    }\n\n    .dataframe thead th {\n        text-align: right;\n    }\n</style>\n<table border=\"1\" class=\"dataframe\">\n  <thead>\n    <tr style=\"text-align: right;\">\n      <th></th>\n      <th>SARS_COV2</th>\n      <th>ACE2</th>\n      <th>Ang</th>\n      <th>AGTR1</th>\n      <th>ADAM17</th>\n      <th>Toci</th>\n      <th>Sil6r</th>\n      <th>EGF</th>\n      <th>TNF</th>\n      <th>Gefi</th>\n      <th>EGFR</th>\n      <th>PRR</th>\n      <th>NFKB</th>\n      <th>IL6STAT3</th>\n      <th>IL6AMP</th>\n      <th>cytok</th>\n    </tr>\n  </thead>\n  <tbody>\n    <tr>\n      <th>0</th>\n      <td>73.679109</td>\n      <td>17.576840</td>\n      <td>93.861006</td>\n      <td>101.151905</td>\n      <td>98.540180</td>\n      <td>56.005886</td>\n      <td>69.424218</td>\n      <td>96.505141</td>\n      <td>99.296894</td>\n      <td>33.424504</td>\n      <td>1</td>\n      <td>97.370407</td>\n      <td>29.751989</td>\n      <td>29.366957</td>\n      <td>38.082656</td>\n      <td>59.631856</td>\n    </tr>\n    <tr>\n      <th>1</th>\n      <td>56.620967</td>\n      <td>31.727878</td>\n      <td>78.949305</td>\n      <td>99.479725</td>\n      <td>99.297518</td>\n      <td>56.022003</td>\n      <td>64.051996</td>\n      <td>98.542970</td>\n      <td>98.511394</td>\n      <td>47.897558</td>\n      <td>1</td>\n      <td>89.538987</td>\n      <td>38.158193</td>\n      <td>22.415073</td>\n      <td>37.129663</td>\n      <td>56.431981</td>\n    </tr>\n    <tr>\n      <th>2</th>\n      <td>65.013230</td>\n      <td>24.644308</td>\n      <td>89.730900</td>\n      <td>100.509177</td>\n      <td>99.437188</td>\n      <td>49.753317</td>\n      <td>82.287237</td>\n      <td>91.929421</td>\n      <td>99.807326</td>\n      <td>52.808541</td>\n      <td>1</td>\n      <td>94.206983</td>\n      <td>34.403547</td>\n      <td>44.666545</td>\n      <td>52.566070</td>\n      <td>77.488187</td>\n    </tr>\n    <tr>\n      <th>3</th>\n      <td>76.249522</td>\n      <td>19.484148</td>\n      <td>98.286645</td>\n      <td>98.466683</td>\n      <td>98.528750</td>\n      <td>55.121697</td>\n      <td>74.968228</td>\n      <td>97.613234</td>\n      <td>99.470404</td>\n      <td>50.439736</td>\n      <td>1</td>\n      <td>97.493690</td>\n      <td>29.059414</td>\n      <td>37.505798</td>\n      <td>41.889477</td>\n      <td>63.836998</td>\n    </tr>\n    <tr>\n      <th>4</th>\n      <td>76.961345</td>\n      <td>18.504758</td>\n      <td>92.974745</td>\n      <td>99.686780</td>\n      <td>97.174635</td>\n      <td>45.153245</td>\n      <td>55.506413</td>\n      <td>95.726874</td>\n      <td>99.440437</td>\n      <td>35.386174</td>\n      <td>1</td>\n      <td>98.792294</td>\n      <td>32.300719</td>\n      <td>19.319097</td>\n      <td>33.277613</td>\n      <td>52.521325</td>\n    </tr>\n  </tbody>\n</table>\n</div>"
     },
     "execution_count": 100,
     "metadata": {},
     "output_type": "execute_result"
    }
   ],
   "source": [
    "# get observational data\n",
    "#data = example.generate_data(1000, seed=SEED)\n",
    "data = example.generate_data(1000, seed=SEED)\n",
    "data.head()"
   ]
  },
  {
   "cell_type": "markdown",
   "id": "22de51a518ee7699",
   "metadata": {
    "collapsed": false,
    "ExecuteTime": {
     "end_time": "2024-01-21T07:21:48.517011Z",
     "start_time": "2024-01-21T07:21:48.459711Z"
    }
   },
   "source": [
    "## Step 1: Verify correctness of the network structure"
   ]
  },
  {
   "cell_type": "markdown",
   "source": [
    "We checked the consistency of the network structure against observational data with significance level of 0.01 by first discretizing the data into a binary data and used the $\\chi$-square test. This is because \\texttt{Eliater} does not support mixed-type data.  "
   ],
   "metadata": {
    "collapsed": false
   },
   "id": "6457513ff662e6e1"
  },
  {
   "cell_type": "code",
   "execution_count": 86,
   "outputs": [],
   "source": [
    "from sklearn.preprocessing import KBinsDiscretizer\n",
    "# discretization transform the raw data\n",
    "kbins = KBinsDiscretizer(n_bins=2, encode='ordinal', strategy='uniform')\n",
    "data_trans = kbins.fit_transform(data)"
   ],
   "metadata": {
    "collapsed": false,
    "ExecuteTime": {
     "start_time": "2024-01-23T11:10:59.045683Z"
    }
   },
   "id": "fcb2d88946be0c2d"
  },
  {
   "cell_type": "code",
   "execution_count": 87,
   "outputs": [],
   "source": [
    "import pandas as pd\n",
    "data_trans = pd.DataFrame(data_trans, columns = data.columns)"
   ],
   "metadata": {
    "collapsed": false,
    "ExecuteTime": {
     "start_time": "2024-01-23T11:10:59.830437Z"
    }
   },
   "id": "be16f25565754d6a"
  },
  {
   "cell_type": "code",
   "execution_count": 88,
   "outputs": [
    {
     "data": {
      "text/plain": "     SARS_COV2  ACE2  Ang  AGTR1  ADAM17  Toci  Sil6r  EGF  TNF  Gefi  EGFR  \\\n0          1.0   0.0  1.0    1.0     1.0   1.0    1.0  1.0  0.0   0.0   1.0   \n1          0.0   0.0  1.0    1.0     1.0   1.0    1.0  1.0  0.0   1.0   1.0   \n2          1.0   0.0  1.0    1.0     1.0   1.0    1.0  1.0  1.0   1.0   1.0   \n3          1.0   0.0  1.0    1.0     1.0   1.0    1.0  1.0  1.0   1.0   1.0   \n4          1.0   0.0  1.0    1.0     1.0   0.0    0.0  1.0  1.0   0.0   1.0   \n..         ...   ...  ...    ...     ...   ...    ...  ...  ...   ...   ...   \n995        0.0   1.0  0.0    1.0     1.0   0.0    1.0  1.0  1.0   1.0   1.0   \n996        0.0   0.0  1.0    1.0     1.0   1.0    1.0  1.0  0.0   0.0   1.0   \n997        0.0   0.0  1.0    1.0     1.0   1.0    1.0  1.0  0.0   0.0   1.0   \n998        1.0   0.0  1.0    1.0     1.0   1.0    1.0  1.0  1.0   0.0   1.0   \n999        1.0   0.0  1.0    1.0     1.0   0.0    1.0  1.0  0.0   0.0   1.0   \n\n     PRR  NFKB  IL6STAT3  IL6AMP  cytok  \n0    1.0   0.0       0.0     0.0    0.0  \n1    1.0   1.0       0.0     0.0    0.0  \n2    1.0   0.0       1.0     1.0    1.0  \n3    1.0   0.0       0.0     0.0    1.0  \n4    1.0   0.0       0.0     0.0    0.0  \n..   ...   ...       ...     ...    ...  \n995  1.0   0.0       1.0     0.0    1.0  \n996  1.0   1.0       1.0     1.0    1.0  \n997  1.0   0.0       1.0     1.0    1.0  \n998  1.0   1.0       1.0     1.0    1.0  \n999  1.0   0.0       0.0     0.0    1.0  \n\n[1000 rows x 16 columns]",
      "text/html": "<div>\n<style scoped>\n    .dataframe tbody tr th:only-of-type {\n        vertical-align: middle;\n    }\n\n    .dataframe tbody tr th {\n        vertical-align: top;\n    }\n\n    .dataframe thead th {\n        text-align: right;\n    }\n</style>\n<table border=\"1\" class=\"dataframe\">\n  <thead>\n    <tr style=\"text-align: right;\">\n      <th></th>\n      <th>SARS_COV2</th>\n      <th>ACE2</th>\n      <th>Ang</th>\n      <th>AGTR1</th>\n      <th>ADAM17</th>\n      <th>Toci</th>\n      <th>Sil6r</th>\n      <th>EGF</th>\n      <th>TNF</th>\n      <th>Gefi</th>\n      <th>EGFR</th>\n      <th>PRR</th>\n      <th>NFKB</th>\n      <th>IL6STAT3</th>\n      <th>IL6AMP</th>\n      <th>cytok</th>\n    </tr>\n  </thead>\n  <tbody>\n    <tr>\n      <th>0</th>\n      <td>1.0</td>\n      <td>0.0</td>\n      <td>1.0</td>\n      <td>1.0</td>\n      <td>1.0</td>\n      <td>1.0</td>\n      <td>1.0</td>\n      <td>1.0</td>\n      <td>0.0</td>\n      <td>0.0</td>\n      <td>1.0</td>\n      <td>1.0</td>\n      <td>0.0</td>\n      <td>0.0</td>\n      <td>0.0</td>\n      <td>0.0</td>\n    </tr>\n    <tr>\n      <th>1</th>\n      <td>0.0</td>\n      <td>0.0</td>\n      <td>1.0</td>\n      <td>1.0</td>\n      <td>1.0</td>\n      <td>1.0</td>\n      <td>1.0</td>\n      <td>1.0</td>\n      <td>0.0</td>\n      <td>1.0</td>\n      <td>1.0</td>\n      <td>1.0</td>\n      <td>1.0</td>\n      <td>0.0</td>\n      <td>0.0</td>\n      <td>0.0</td>\n    </tr>\n    <tr>\n      <th>2</th>\n      <td>1.0</td>\n      <td>0.0</td>\n      <td>1.0</td>\n      <td>1.0</td>\n      <td>1.0</td>\n      <td>1.0</td>\n      <td>1.0</td>\n      <td>1.0</td>\n      <td>1.0</td>\n      <td>1.0</td>\n      <td>1.0</td>\n      <td>1.0</td>\n      <td>0.0</td>\n      <td>1.0</td>\n      <td>1.0</td>\n      <td>1.0</td>\n    </tr>\n    <tr>\n      <th>3</th>\n      <td>1.0</td>\n      <td>0.0</td>\n      <td>1.0</td>\n      <td>1.0</td>\n      <td>1.0</td>\n      <td>1.0</td>\n      <td>1.0</td>\n      <td>1.0</td>\n      <td>1.0</td>\n      <td>1.0</td>\n      <td>1.0</td>\n      <td>1.0</td>\n      <td>0.0</td>\n      <td>0.0</td>\n      <td>0.0</td>\n      <td>1.0</td>\n    </tr>\n    <tr>\n      <th>4</th>\n      <td>1.0</td>\n      <td>0.0</td>\n      <td>1.0</td>\n      <td>1.0</td>\n      <td>1.0</td>\n      <td>0.0</td>\n      <td>0.0</td>\n      <td>1.0</td>\n      <td>1.0</td>\n      <td>0.0</td>\n      <td>1.0</td>\n      <td>1.0</td>\n      <td>0.0</td>\n      <td>0.0</td>\n      <td>0.0</td>\n      <td>0.0</td>\n    </tr>\n    <tr>\n      <th>...</th>\n      <td>...</td>\n      <td>...</td>\n      <td>...</td>\n      <td>...</td>\n      <td>...</td>\n      <td>...</td>\n      <td>...</td>\n      <td>...</td>\n      <td>...</td>\n      <td>...</td>\n      <td>...</td>\n      <td>...</td>\n      <td>...</td>\n      <td>...</td>\n      <td>...</td>\n      <td>...</td>\n    </tr>\n    <tr>\n      <th>995</th>\n      <td>0.0</td>\n      <td>1.0</td>\n      <td>0.0</td>\n      <td>1.0</td>\n      <td>1.0</td>\n      <td>0.0</td>\n      <td>1.0</td>\n      <td>1.0</td>\n      <td>1.0</td>\n      <td>1.0</td>\n      <td>1.0</td>\n      <td>1.0</td>\n      <td>0.0</td>\n      <td>1.0</td>\n      <td>0.0</td>\n      <td>1.0</td>\n    </tr>\n    <tr>\n      <th>996</th>\n      <td>0.0</td>\n      <td>0.0</td>\n      <td>1.0</td>\n      <td>1.0</td>\n      <td>1.0</td>\n      <td>1.0</td>\n      <td>1.0</td>\n      <td>1.0</td>\n      <td>0.0</td>\n      <td>0.0</td>\n      <td>1.0</td>\n      <td>1.0</td>\n      <td>1.0</td>\n      <td>1.0</td>\n      <td>1.0</td>\n      <td>1.0</td>\n    </tr>\n    <tr>\n      <th>997</th>\n      <td>0.0</td>\n      <td>0.0</td>\n      <td>1.0</td>\n      <td>1.0</td>\n      <td>1.0</td>\n      <td>1.0</td>\n      <td>1.0</td>\n      <td>1.0</td>\n      <td>0.0</td>\n      <td>0.0</td>\n      <td>1.0</td>\n      <td>1.0</td>\n      <td>0.0</td>\n      <td>1.0</td>\n      <td>1.0</td>\n      <td>1.0</td>\n    </tr>\n    <tr>\n      <th>998</th>\n      <td>1.0</td>\n      <td>0.0</td>\n      <td>1.0</td>\n      <td>1.0</td>\n      <td>1.0</td>\n      <td>1.0</td>\n      <td>1.0</td>\n      <td>1.0</td>\n      <td>1.0</td>\n      <td>0.0</td>\n      <td>1.0</td>\n      <td>1.0</td>\n      <td>1.0</td>\n      <td>1.0</td>\n      <td>1.0</td>\n      <td>1.0</td>\n    </tr>\n    <tr>\n      <th>999</th>\n      <td>1.0</td>\n      <td>0.0</td>\n      <td>1.0</td>\n      <td>1.0</td>\n      <td>1.0</td>\n      <td>0.0</td>\n      <td>1.0</td>\n      <td>1.0</td>\n      <td>0.0</td>\n      <td>0.0</td>\n      <td>1.0</td>\n      <td>1.0</td>\n      <td>0.0</td>\n      <td>0.0</td>\n      <td>0.0</td>\n      <td>1.0</td>\n    </tr>\n  </tbody>\n</table>\n<p>1000 rows × 16 columns</p>\n</div>"
     },
     "execution_count": 88,
     "metadata": {},
     "output_type": "execute_result"
    }
   ],
   "source": [
    "data_trans"
   ],
   "metadata": {
    "collapsed": false,
    "ExecuteTime": {
     "start_time": "2024-01-23T11:11:00.295192Z"
    }
   },
   "id": "5939b11d37754b0"
  },
  {
   "cell_type": "code",
   "execution_count": 90,
   "outputs": [
    {
     "name": "stdout",
     "output_type": "stream",
     "text": [
      "Failed tests: 9/99 (9.09%)\n",
      "Reject null hypothesis when p<0.01\n",
      "=========  =========  =================  ============  =============  =====  =============  ===================\n",
      "left       right      given                     stats              p    dof          p_adj  p_adj_significant\n",
      "=========  =========  =================  ============  =============  =====  =============  ===================\n",
      "IL6STAT3   cytok      IL6AMP              82.4349        0                1    0            True\n",
      "ACE2       PRR        SARS_COV2          100.918         0                1    0            True\n",
      "AGTR1      PRR        SARS_COV2           88.4413        0                1    0            True\n",
      "Ang        PRR        SARS_COV2          192.741         0                1    0            True\n",
      "Toci       cytok      IL6AMP              37.3328        9.95942e-10      1    9.46145e-08  True\n",
      "IL6AMP     Toci       ADAM17|Sil6r        33.4457        5.4622e-08       2    5.13447e-06  True\n",
      "IL6STAT3   Toci       Sil6r               30.8221        2.02803e-07      2    1.88607e-05  True\n",
      "NFKB       SARS_COV2  ADAM17|PRR          26.8803        2.16455e-07      1    1.99139e-05  True\n",
      "Sil6r      cytok      IL6AMP              24.9942        5.75028e-07      1    5.23276e-05  True\n",
      "ACE2       NFKB       ADAM17|SARS_COV2    12.8183        0.000343237      1    0.0308913    False\n",
      "Ang        NFKB       ADAM17|SARS_COV2     9.31397       0.00227413       1    0.202398     False\n",
      "ADAM17     PRR        SARS_COV2            9.28005       0.00231664       1    0.203864     False\n",
      "AGTR1      IL6STAT3   ADAM17               7.69768       0.00552918       1    0.481039     False\n",
      "EGF        TNF        ADAM17               2.72843       0.0985759        1    1            False\n",
      "ACE2       TNF        ADAM17               1.44269       0.229705         1    1            False\n",
      "SARS_COV2  cytok      IL6AMP               0.330832      0.56517          1    1            False\n",
      "PRR        Sil6r      ADAM17               0.0360294     0.849455         1    1            False\n",
      "EGF        PRR        ADAM17               0.343355      0.557899         1    1            False\n",
      "Ang        EGFR       ADAM17               0.886564      0.34641          1    1            False\n",
      "EGFR       PRR        ADAM17               0.861149      0.353417         1    1            False\n",
      "NFKB       cytok      IL6AMP               1.6284        0.201925         1    1            False\n",
      "EGF        Sil6r      ADAM17               0.0111609     0.915864         1    1            False\n",
      "AGTR1      cytok      IL6AMP               0.0442096     0.833464         1    1            False\n",
      "Ang        Toci                            2.59307       0.107332         1    1            False\n",
      "ADAM17     cytok      IL6AMP               0             1                1    1            False\n",
      "IL6AMP     PRR        IL6STAT3|NFKB        7.39328       0.0603648        3    1            False\n",
      "Ang        EGF        ADAM17               0.359927      0.548547         1    1            False\n",
      "EGFR       Sil6r      ADAM17               5.93656       0.01483          1    1            False\n",
      "Ang        IL6STAT3   ADAM17               1.85912       0.172727         1    1            False\n",
      "SARS_COV2  Toci                            0.366993      0.544648         1    1            False\n",
      "Gefi       PRR                             0             1                1    1            False\n",
      "ACE2       EGF        ADAM17               1.21562       0.270221         1    1            False\n",
      "IL6AMP     Sil6r      ADAM17|IL6STAT3      2.09873       0.35016          2    1            False\n",
      "IL6STAT3   PRR        ADAM17               0.777033      0.37805          1    1            False\n",
      "Gefi       cytok      IL6AMP               0             1                1    1            False\n",
      "EGF        cytok      IL6AMP               0.00276347    0.958076         1    1            False\n",
      "IL6STAT3   TNF        ADAM17               0.0604514     0.805784         1    1            False\n",
      "TNF        cytok      IL6AMP               0.338305      0.560809         1    1            False\n",
      "AGTR1      Sil6r      ADAM17               1.20808       0.271713         1    1            False\n",
      "EGFR       cytok      IL6AMP               0.143548      0.704779         1    1            False\n",
      "EGF        IL6AMP     ADAM17|EGFR          2.88709       0.236089         2    1            False\n",
      "Gefi       Sil6r                           0.1556        0.69324          1    1            False\n",
      "PRR        Toci                            1.90976       0.16699          1    1            False\n",
      "AGTR1      Gefi                            0.0135089     0.907472         1    1            False\n",
      "ADAM17     Gefi                            0             1                1    1            False\n",
      "EGFR       IL6AMP     IL6STAT3|NFKB        0.0435192     0.997617         3    1            False\n",
      "ADAM17     Toci                            0.0936869     0.759541         1    1            False\n",
      "Ang        TNF        ADAM17               0.688231      0.406767         1    1            False\n",
      "AGTR1      IL6AMP     ADAM17|SARS_COV2     0.638551      0.424236         1    1            False\n",
      "PRR        TNF        ADAM17               0.719012      0.396468         1    1            False\n",
      "Gefi       TNF                             0.173333      0.677166         1    1            False\n",
      "Ang        Gefi                            0.00117216    0.972688         1    1            False\n",
      "ACE2       Gefi                            0.00995781    0.920512         1    1            False\n",
      "ACE2       cytok      IL6AMP               0.125087      0.723582         1    1            False\n",
      "Ang        IL6AMP     ADAM17|SARS_COV2     0.121189      0.727748         1    1            False\n",
      "AGTR1      Toci                            0.953974      0.32871          1    1            False\n",
      "Gefi       IL6STAT3                        0.789142      0.37436          1    1            False\n",
      "ADAM17     EGFR       EGF                  0.124196      0.724527         1    1            False\n",
      "EGFR       SARS_COV2  ADAM17               0.0610862     0.804787         1    1            False\n",
      "AGTR1      EGFR       ADAM17               0             1                1    1            False\n",
      "SARS_COV2  TNF        ADAM17               0             1                1    1            False\n",
      "IL6STAT3   SARS_COV2  ADAM17               2.82735       0.0926714        1    1            False\n",
      "EGF        NFKB       ADAM17|EGFR          0.284639      0.867344         2    1            False\n",
      "IL6AMP     TNF        IL6STAT3|NFKB        0.0473582     0.997298         3    1            False\n",
      "Ang        cytok      IL6AMP               0.68747       0.407026         1    1            False\n",
      "EGF        SARS_COV2  ADAM17               1.00668       0.3157           1    1            False\n",
      "EGFR       Toci                            0.0040702     0.949131         1    1            False\n",
      "TNF        Toci                            0.0207049     0.885586         1    1            False\n",
      "Gefi       Toci                            0.0148808     0.90291          1    1            False\n",
      "PRR        cytok      IL6AMP               0.0948988     0.758039         1    1            False\n",
      "NFKB       Toci                            0.373322      0.541199         1    1            False\n",
      "NFKB       Sil6r      ADAM17               1.28028       0.257846         1    1            False\n",
      "AGTR1      NFKB       ADAM17|SARS_COV2     4.86203       0.0274539        1    1            False\n",
      "AGTR1      TNF        ADAM17               0.141846      0.706453         1    1            False\n",
      "Sil6r      TNF        ADAM17               0.228916      0.891849         2    1            False\n",
      "AGTR1      EGF        ADAM17               0.155429      0.6934           1    1            False\n",
      "Gefi       SARS_COV2                       0             1                1    1            False\n",
      "IL6AMP     SARS_COV2  ADAM17|PRR           1.20577       0.272172         1    1            False\n",
      "EGF        Gefi                            0.348463      0.554984         1    1            False\n",
      "ACE2       Sil6r      ADAM17               0.0218895     0.882381         1    1            False\n",
      "ACE2       IL6AMP     ADAM17|SARS_COV2     0.587692      0.443313         1    1            False\n",
      "ACE2       IL6STAT3   ADAM17               1.12105       0.289693         1    1            False\n",
      "IL6STAT3   NFKB       ADAM17|EGFR          0.0905601     0.95573          2    1            False\n",
      "Ang        Sil6r      ADAM17               0.0205796     0.88593          1    1            False\n",
      "ACE2       Toci                            0.00120912    0.972261         1    1            False\n",
      "EGF        IL6STAT3   ADAM17               0.240702      0.623699         1    1            False\n",
      "ADAM17     NFKB       EGF|SARS_COV2|TNF    0.272958      0.872425         2    1            False\n",
      "Gefi       IL6AMP     ADAM17|EGFR          0.157985      0.924047         2    1            False\n",
      "ADAM17     IL6STAT3   Sil6r                0.608196      0.737789         2    1            False\n",
      "Gefi       NFKB       ADAM17|EGFR          2.74386       0.253618         2    1            False\n",
      "EGF        Toci                            0.0855317     0.769936         1    1            False\n",
      "SARS_COV2  Sil6r      ADAM17               0.00376839    0.951051         1    1            False\n",
      "ACE2       EGFR       ADAM17               0.192026      0.661235         1    1            False\n",
      "ADAM17     IL6AMP     IL6STAT3|NFKB        0             1                1    1            False\n",
      "ACE2       AGTR1      Ang                  0           nan                0  nan            False\n",
      "ADAM17     SARS_COV2  AGTR1                0           nan                0  nan            False\n",
      "AGTR1      SARS_COV2  Ang                  0           nan                0  nan            False\n",
      "ADAM17     Ang        AGTR1                0           nan                0  nan            False\n",
      "ACE2       ADAM17     AGTR1                0           nan                0  nan            False\n",
      "=========  =========  =================  ============  =============  =====  =============  ===================\n"
     ]
    }
   ],
   "source": [
    "print_graph_falsifications(\n",
    "    graph=graph, data=data_trans, method=\"chi-square\", verbose=True, significance_level=0.01\n",
    ")"
   ],
   "metadata": {
    "collapsed": false,
    "ExecuteTime": {
     "start_time": "2024-01-23T11:11:01.311996Z"
    }
   },
   "id": "e21efcf3940ffc5e"
  },
  {
   "cell_type": "markdown",
   "id": "74b79e259232adfb",
   "metadata": {
    "collapsed": false
   },
   "source": [
    "Among all the 99 possible tests, 9 failed (9 $\\%$). As the data was synthetically generated based on the network structure, we expected all the tests to pass. However the failed tests are due to noise inherited by randomly sampling the data points. "
   ]
  },
  {
   "cell_type": "markdown",
   "id": "944520ca55c79b4b",
   "metadata": {
    "collapsed": false,
    "ExecuteTime": {
     "end_time": "2024-01-21T07:24:52.777016Z",
     "start_time": "2024-01-21T07:24:09.582369Z"
    }
   },
   "source": [
    "## Step 2: Check query identifiability"
   ]
  },
  {
   "cell_type": "code",
   "execution_count": 91,
   "id": "25bb329cbc5a1e08",
   "metadata": {
    "collapsed": false,
    "ExecuteTime": {
     "end_time": "2024-01-23T11:12:23.630288Z",
     "start_time": "2024-01-23T11:12:23.499985Z"
    }
   },
   "outputs": [
    {
     "data": {
      "text/plain": "Sum[ACE2, ADAM17, AGTR1, Ang, IL6AMP, IL6STAT3, NFKB, PRR, SARS_COV2, Sil6r, TNF, Toci](P(ACE2 | SARS_COV2) * P(AGTR1 | ACE2, Ang, SARS_COV2) * P(IL6AMP | ACE2, ADAM17, AGTR1, Ang, EGF, EGFR, Gefi, IL6STAT3, NFKB, PRR, SARS_COV2, Sil6r, TNF, Toci) * P(IL6STAT3 | ACE2, ADAM17, AGTR1, Ang, SARS_COV2, Sil6r, Toci) * P(TNF | ACE2, ADAM17, AGTR1, Ang, SARS_COV2) * P(cytok | ACE2, ADAM17, AGTR1, Ang, EGF, EGFR, Gefi, IL6AMP, IL6STAT3, NFKB, PRR, SARS_COV2, Sil6r, TNF, Toci) * Sum[ACE2, ADAM17, AGTR1, Ang, EGF, EGFR, Gefi, IL6AMP, IL6STAT3, NFKB, PRR, SARS_COV2, Sil6r, TNF, cytok](P(ACE2, ADAM17, AGTR1, Ang, EGF, EGFR, Gefi, IL6AMP, IL6STAT3, NFKB, PRR, SARS_COV2, Sil6r, TNF, Toci, cytok)) * P(ADAM17 | ACE2, AGTR1, Ang, SARS_COV2, Toci) * P(Sil6r | ACE2, ADAM17, AGTR1, Ang, SARS_COV2, Toci) * P(Ang | ACE2, SARS_COV2) * P(SARS_COV2) * P(NFKB | ACE2, ADAM17, AGTR1, Ang, EGF, EGFR, Gefi, PRR, SARS_COV2, TNF) * P(PRR | ACE2, Gefi, SARS_COV2))",
      "text/latex": "$\\sum\\limits_{ACE_2, ADAM_{17}, AGTR_1, Ang, IL6AM_P, IL6STA_{T3}, NFKB, PRR, SARS_COV_2, Sil6_r, TNF, Toci} P(ACE_2 | SARS_COV_2) P(AGTR_1 | ACE_2, Ang, SARS_COV_2) P(IL6AM_P | ACE_2, ADAM_{17}, AGTR_1, Ang, EGF, EGFR, Gefi, IL6STA_{T3}, NFKB, PRR, SARS_COV_2, Sil6_r, TNF, Toci) P(IL6STA_{T3} | ACE_2, ADAM_{17}, AGTR_1, Ang, SARS_COV_2, Sil6_r, Toci) P(TNF | ACE_2, ADAM_{17}, AGTR_1, Ang, SARS_COV_2) P(cytok | ACE_2, ADAM_{17}, AGTR_1, Ang, EGF, EGFR, Gefi, IL6AM_P, IL6STA_{T3}, NFKB, PRR, SARS_COV_2, Sil6_r, TNF, Toci) \\sum\\limits_{ACE_2, ADAM_{17}, AGTR_1, Ang, EGF, EGFR, Gefi, IL6AM_P, IL6STA_{T3}, NFKB, PRR, SARS_COV_2, Sil6_r, TNF, cytok} P(ACE_2, ADAM_{17}, AGTR_1, Ang, EGF, EGFR, Gefi, IL6AM_P, IL6STA_{T3}, NFKB, PRR, SARS_COV_2, Sil6_r, TNF, Toci, cytok) P(ADAM_{17} | ACE_2, AGTR_1, Ang, SARS_COV_2, Toci) P(Sil6_r | ACE_2, ADAM_{17}, AGTR_1, Ang, SARS_COV_2, Toci) P(Ang | ACE_2, SARS_COV_2) P(SARS_COV_2) P(NFKB | ACE_2, ADAM_{17}, AGTR_1, Ang, EGF, EGFR, Gefi, PRR, SARS_COV_2, TNF) P(PRR | ACE_2, Gefi, SARS_COV_2)$"
     },
     "execution_count": 91,
     "metadata": {},
     "output_type": "execute_result"
    }
   ],
   "source": [
    "identify_outcomes(graph=graph, treatments=treatment, outcomes=outcome)"
   ]
  },
  {
   "cell_type": "markdown",
   "id": "5ac9e0aec8791fbc",
   "metadata": {
    "collapsed": false
   },
   "source": [
    "The query is identifiable."
   ]
  },
  {
   "cell_type": "markdown",
   "id": "e84ccc3bdc28f772",
   "metadata": {
    "collapsed": false
   },
   "source": [
    "## Step 3: Find nuisance variables and mark them as latent"
   ]
  },
  {
   "cell_type": "markdown",
   "id": "c7ea93588b4f7188",
   "metadata": {
    "collapsed": false
   },
   "source": [
    "This function finds the nuisance variables for the input graph."
   ]
  },
  {
   "cell_type": "code",
   "execution_count": 92,
   "id": "4dff38fbf23ce61c",
   "metadata": {
    "collapsed": false,
    "ExecuteTime": {
     "end_time": "2024-01-23T11:12:23.743968Z",
     "start_time": "2024-01-23T11:12:23.576853Z"
    }
   },
   "outputs": [
    {
     "data": {
      "text/plain": "set()"
     },
     "execution_count": 92,
     "metadata": {},
     "output_type": "execute_result"
    }
   ],
   "source": [
    "nuisance_variables = find_nuisance_variables(graph, treatments=treatment, outcomes=outcome)\n",
    "nuisance_variables"
   ]
  },
  {
   "cell_type": "markdown",
   "id": "7401dd4e2c6d5d31",
   "metadata": {
    "collapsed": false
   },
   "source": [
    "No variable is identified as the nuisance variable. Hence the simplified network in the next step will produce a graph similar to the original graph."
   ]
  },
  {
   "cell_type": "markdown",
   "id": "6aa2819509255d89",
   "metadata": {
    "collapsed": false
   },
   "source": [
    "## Step 4: Simplify the network"
   ]
  },
  {
   "cell_type": "markdown",
   "id": "7b987190a5fa7453",
   "metadata": {
    "collapsed": false
   },
   "source": [
    "In eliater, step 3, and 4 are both combined into a single function. Hence, the following function finds the nuisance variable (step 3), marks them as latent and then applies Evan's simplification rules (Step 4) to remove the nuisance variables. As a result, running the 'find_nuisance_variables' and 'mark_nuisance_variables_as_latent' functions is not necessary to get the value of step 4. However, we called them to illustrate the results.  As there are no nuisance variables, the new graph will be the same as the original graph."
   ]
  },
  {
   "cell_type": "code",
   "execution_count": 101,
   "id": "e6849ec627ee2b59",
   "metadata": {
    "collapsed": false,
    "ExecuteTime": {
     "end_time": "2024-01-23T18:31:28.751118Z",
     "start_time": "2024-01-23T18:31:28.537765Z"
    }
   },
   "outputs": [],
   "source": [
    "new_graph = remove_nuisance_variables(graph, treatments=treatment, outcomes=outcome)"
   ]
  },
  {
   "cell_type": "markdown",
   "id": "b8e9dd961d1d459a",
   "metadata": {
    "collapsed": false
   },
   "source": [
    "## Step 5: Estimate the query"
   ]
  },
  {
   "cell_type": "code",
   "execution_count": 102,
   "id": "5c926e5be8539db9",
   "metadata": {
    "collapsed": false,
    "ExecuteTime": {
     "end_time": "2024-01-23T18:31:32.774264Z",
     "start_time": "2024-01-23T18:31:32.192919Z"
    }
   },
   "outputs": [
    {
     "data": {
      "text/plain": "0.6049518182729798"
     },
     "execution_count": 102,
     "metadata": {},
     "output_type": "execute_result"
    }
   ],
   "source": [
    "estimate_ace(new_graph, treatments=treatment, outcomes=outcome, data=data)"
   ]
  },
  {
   "cell_type": "markdown",
   "id": "bcdeff27d0bcbcb3",
   "metadata": {
    "collapsed": false
   },
   "source": [
    "## Evaluation criterion\n",
    "As we used synthetic data set, we were able to generate two interventional data sets where in\n",
    "one EGFR was set to 1, and the other one EGFR is set to 0. The ATE was calculated by subtracting the average value of Cytokine Storm obtained from each interventional data,\n",
    "resulting in the ground truth ATE=0.796. The positive ATE indicates that the Gefitinib drug can not reduce the Cytokine Storm levels, hence can't help in treating patients having SARS-Cov-2."
   ]
  },
  {
   "cell_type": "code",
   "execution_count": 95,
   "outputs": [
    {
     "data": {
      "text/plain": "0.7965175191822595"
     },
     "execution_count": 95,
     "metadata": {},
     "output_type": "execute_result"
    }
   ],
   "source": [
    "def get_background_ace(seed=None) -> float:\n",
    "    # get interventional data where treatment is set to 1\n",
    "    data_1 = generate_continuous(1000, {treatment: 1.0}, seed=seed)\n",
    "    # get interventional data where treatment is set to 0\n",
    "    data_0 = generate_continuous(1000, {treatment: 0.0}, seed=seed)\n",
    "    return data_1.mean()[outcome.name] - data_0.mean()[outcome.name]\n",
    "\n",
    "# get the true value of ATE\n",
    "get_background_ace(seed=SEED)"
   ],
   "metadata": {
    "collapsed": false,
    "ExecuteTime": {
     "end_time": "2024-01-23T11:12:24.832463Z",
     "start_time": "2024-01-23T11:12:24.520534Z"
    }
   },
   "id": "14bdcdd244526750"
  },
  {
   "cell_type": "markdown",
   "id": "c721a0a302437bdc",
   "metadata": {
    "collapsed": false
   },
   "source": [
    "The estimated $\\widehat{\\mathrm{ATE}}=0.605$, comparable in sign and magnitute to the ground truth ATE=0.796. The discrepancy in the value of results is due to non-linear, and complex data generation procedure, which is similar to the real-life experimental artifacts, and due to the approximate nature of the modeling assumption."
   ]
  },
  {
   "cell_type": "code",
   "execution_count": 96,
   "outputs": [
    {
     "data": {
      "text/plain": "-0.23994974874371866"
     },
     "execution_count": 96,
     "metadata": {},
     "output_type": "execute_result"
    }
   ],
   "source": [
    "#Relative change\n",
    "((0.605 - 0.796)/0.796)"
   ],
   "metadata": {
    "collapsed": false,
    "ExecuteTime": {
     "end_time": "2024-01-23T11:31:30.709675Z",
     "start_time": "2024-01-23T11:31:30.668820Z"
    }
   },
   "id": "6044644d90692b3d"
  }
 ],
 "metadata": {
  "kernelspec": {
   "display_name": "Python 3 (ipykernel)",
   "language": "python",
   "name": "python3"
  },
  "language_info": {
   "codemirror_mode": {
    "name": "ipython",
    "version": 3
   },
   "file_extension": ".py",
   "mimetype": "text/x-python",
   "name": "python",
   "nbconvert_exporter": "python",
   "pygments_lexer": "ipython3",
   "version": "3.11.6"
  }
 },
 "nbformat": 4,
 "nbformat_minor": 5
}
