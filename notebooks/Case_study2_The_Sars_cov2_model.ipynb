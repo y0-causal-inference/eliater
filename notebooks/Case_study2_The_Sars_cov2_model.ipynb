{
 "cells": [
  {
   "cell_type": "markdown",
   "source": [
    "# Case study 2: The Sars-Cov2 model"
   ],
   "metadata": {
    "collapsed": false
   },
   "id": "cb1612e5198cab85"
  },
  {
   "cell_type": "code",
   "outputs": [
    {
     "name": "stdout",
     "output_type": "stream",
     "text": [
      "Collecting git+https://github.com/y0-causal-inference/eliater.git@linear-regression\r\n",
      "  Cloning https://github.com/y0-causal-inference/eliater.git (to revision linear-regression) to /private/var/folders/fs/kx46_43x04ndj3yryggvkg5r0000gn/T/pip-req-build-yzdp9x6b\r\n",
      "  Running command git clone --quiet https://github.com/y0-causal-inference/eliater.git /private/var/folders/fs/kx46_43x04ndj3yryggvkg5r0000gn/T/pip-req-build-yzdp9x6b\r\n",
      "  Running command git checkout -b linear-regression --track origin/linear-regression\r\n",
      "  Switched to a new branch 'linear-regression'\r\n",
      "  Branch linear-regression set up to track remote branch linear-regression from origin.\r\n",
      "  Resolved https://github.com/y0-causal-inference/eliater.git to commit 3de3be53d14e16b9ec8831bf35478f34ee04a76f\r\n",
      "  Installing build dependencies ... \u001B[?25ldone\r\n",
      "\u001B[?25h  Getting requirements to build wheel ... \u001B[?25ldone\r\n",
      "\u001B[?25h  Preparing metadata (pyproject.toml) ... \u001B[?25ldone\r\n",
      "\u001B[?25hCollecting y0>=0.2.5 (from eliater==0.0.1.dev0)\r\n",
      "  Obtaining dependency information for y0>=0.2.5 from https://files.pythonhosted.org/packages/98/c1/adf451f20c5b2bdf46a7a5d0367b511c7ca51c8b0e0e0f79f261b166e79e/y0-0.2.5-py3-none-any.whl.metadata\r\n",
      "  Using cached y0-0.2.5-py3-none-any.whl.metadata (11 kB)\r\n",
      "Collecting scipy (from eliater==0.0.1.dev0)\r\n",
      "  Obtaining dependency information for scipy from https://files.pythonhosted.org/packages/b8/f2/1aefbd5e54ebd8c6163ccf7f73e5d17bc8cb38738d312befc524fce84bb4/scipy-1.11.4-cp311-cp311-macosx_10_9_x86_64.whl.metadata\r\n",
      "  Using cached scipy-1.11.4-cp311-cp311-macosx_10_9_x86_64.whl.metadata (60 kB)\r\n",
      "Collecting numpy (from eliater==0.0.1.dev0)\r\n",
      "  Obtaining dependency information for numpy from https://files.pythonhosted.org/packages/42/db/82cc805d96ba48622fbb7395a7b44cf59567fca235e397cdf64555081773/numpy-1.26.3-cp311-cp311-macosx_10_9_x86_64.whl.metadata\r\n",
      "  Using cached numpy-1.26.3-cp311-cp311-macosx_10_9_x86_64.whl.metadata (61 kB)\r\n",
      "Collecting ananke-causal>=0.5.0 (from eliater==0.0.1.dev0)\r\n",
      "  Obtaining dependency information for ananke-causal>=0.5.0 from https://files.pythonhosted.org/packages/93/c2/f4320e7181eb5f6d16b0ee26cd522687d001af3890b5602bd922ac8c6e91/ananke_causal-0.5.0-py3-none-any.whl.metadata\r\n",
      "  Using cached ananke_causal-0.5.0-py3-none-any.whl.metadata (3.3 kB)\r\n",
      "Collecting pgmpy>=0.1.24 (from eliater==0.0.1.dev0)\r\n",
      "  Obtaining dependency information for pgmpy>=0.1.24 from https://files.pythonhosted.org/packages/eb/9a/2fcb6fdfd998a016cef29ca3eab30b98b6c232b6e9a0444df07f0ad47f8d/pgmpy-0.1.24-py3-none-any.whl.metadata\r\n",
      "  Using cached pgmpy-0.1.24-py3-none-any.whl.metadata (6.3 kB)\r\n",
      "Collecting matplotlib (from eliater==0.0.1.dev0)\r\n",
      "  Obtaining dependency information for matplotlib from https://files.pythonhosted.org/packages/a9/0d/53afb186adafc7326d093b8333e8a79974c495095771659f4304626c4bc7/matplotlib-3.8.2-cp311-cp311-macosx_10_12_x86_64.whl.metadata\r\n",
      "  Using cached matplotlib-3.8.2-cp311-cp311-macosx_10_12_x86_64.whl.metadata (5.8 kB)\r\n",
      "Collecting pandas (from eliater==0.0.1.dev0)\r\n",
      "  Obtaining dependency information for pandas from https://files.pythonhosted.org/packages/6e/48/892f8835774dd5a84fff3e890f31d1da3dfba2ee1571ac739589b14af66d/pandas-2.1.4-cp311-cp311-macosx_10_9_x86_64.whl.metadata\r\n",
      "  Using cached pandas-2.1.4-cp311-cp311-macosx_10_9_x86_64.whl.metadata (18 kB)\r\n",
      "Collecting seaborn (from eliater==0.0.1.dev0)\r\n",
      "  Obtaining dependency information for seaborn from https://files.pythonhosted.org/packages/2d/46/cf3fce41ffc543b6e94dadbe6b647559d591df446ec716e72c3b4ce71b34/seaborn-0.13.1-py3-none-any.whl.metadata\r\n",
      "  Using cached seaborn-0.13.1-py3-none-any.whl.metadata (5.4 kB)\r\n",
      "Collecting optimaladj>=0.0.4 (from eliater==0.0.1.dev0)\r\n",
      "  Using cached optimaladj-0.0.4-py3-none-any.whl (9.1 kB)\r\n",
      "Collecting jax<0.5.0,>=0.4.8 (from ananke-causal>=0.5.0->eliater==0.0.1.dev0)\r\n",
      "  Obtaining dependency information for jax<0.5.0,>=0.4.8 from https://files.pythonhosted.org/packages/28/d0/edf653ea02628f2130ea2557f96d02b264768a2f54d22a9c002c7119cb1d/jax-0.4.23-py3-none-any.whl.metadata\r\n",
      "  Using cached jax-0.4.23-py3-none-any.whl.metadata (24 kB)\r\n",
      "Collecting jaxlib<0.5.0,>=0.4.7 (from ananke-causal>=0.5.0->eliater==0.0.1.dev0)\r\n",
      "  Obtaining dependency information for jaxlib<0.5.0,>=0.4.7 from https://files.pythonhosted.org/packages/e7/5a/56b9254a5a10ae2d75c61bf8799d2b959a5b9d6c8655b6720329e702f860/jaxlib-0.4.23-cp311-cp311-macosx_10_14_x86_64.whl.metadata\r\n",
      "  Using cached jaxlib-0.4.23-cp311-cp311-macosx_10_14_x86_64.whl.metadata (2.1 kB)\r\n",
      "Collecting mystic<0.5.0,>=0.4.0 (from ananke-causal>=0.5.0->eliater==0.0.1.dev0)\r\n",
      "  Obtaining dependency information for mystic<0.5.0,>=0.4.0 from https://files.pythonhosted.org/packages/57/36/212ca43c24b24d71ef76386a2e4f9dba340842f40c42dddcd66efb1bd9e3/mystic-0.4.1-py3-none-any.whl.metadata\r\n",
      "  Using cached mystic-0.4.1-py3-none-any.whl.metadata (15 kB)\r\n",
      "Collecting pandas (from eliater==0.0.1.dev0)\r\n",
      "  Using cached pandas-1.5.3-cp311-cp311-macosx_10_9_x86_64.whl (11.9 MB)\r\n",
      "Collecting statsmodels<0.14.0,>=0.13.2 (from ananke-causal>=0.5.0->eliater==0.0.1.dev0)\r\n",
      "  Using cached statsmodels-0.13.5-cp311-cp311-macosx_10_9_x86_64.whl (9.7 MB)\r\n",
      "Collecting contourpy>=1.0.1 (from matplotlib->eliater==0.0.1.dev0)\r\n",
      "  Obtaining dependency information for contourpy>=1.0.1 from https://files.pythonhosted.org/packages/9b/54/1dafec3c84df1d29119037330f7289db84a679cb2d5283af4ef24d89f532/contourpy-1.2.0-cp311-cp311-macosx_10_9_x86_64.whl.metadata\r\n",
      "  Using cached contourpy-1.2.0-cp311-cp311-macosx_10_9_x86_64.whl.metadata (5.8 kB)\r\n",
      "Collecting cycler>=0.10 (from matplotlib->eliater==0.0.1.dev0)\r\n",
      "  Obtaining dependency information for cycler>=0.10 from https://files.pythonhosted.org/packages/e7/05/c19819d5e3d95294a6f5947fb9b9629efb316b96de511b418c53d245aae6/cycler-0.12.1-py3-none-any.whl.metadata\r\n",
      "  Using cached cycler-0.12.1-py3-none-any.whl.metadata (3.8 kB)\r\n",
      "Collecting fonttools>=4.22.0 (from matplotlib->eliater==0.0.1.dev0)\r\n",
      "  Obtaining dependency information for fonttools>=4.22.0 from https://files.pythonhosted.org/packages/c1/36/5f0bb863a6575db4c4b67fa9be7f98e4c551dd87638ef327bc180b988998/fonttools-4.47.2-cp311-cp311-macosx_10_9_x86_64.whl.metadata\r\n",
      "  Using cached fonttools-4.47.2-cp311-cp311-macosx_10_9_x86_64.whl.metadata (157 kB)\r\n",
      "Collecting kiwisolver>=1.3.1 (from matplotlib->eliater==0.0.1.dev0)\r\n",
      "  Obtaining dependency information for kiwisolver>=1.3.1 from https://files.pythonhosted.org/packages/a6/94/695922e71288855fc7cace3bdb52edda9d7e50edba77abb0c9d7abb51e96/kiwisolver-1.4.5-cp311-cp311-macosx_10_9_x86_64.whl.metadata\r\n",
      "  Using cached kiwisolver-1.4.5-cp311-cp311-macosx_10_9_x86_64.whl.metadata (6.4 kB)\r\n",
      "Requirement already satisfied: packaging>=20.0 in /Users/sarataheri/GitHub/eliater/venv/lib/python3.11/site-packages (from matplotlib->eliater==0.0.1.dev0) (23.2)\r\n",
      "Collecting pillow>=8 (from matplotlib->eliater==0.0.1.dev0)\r\n",
      "  Obtaining dependency information for pillow>=8 from https://files.pythonhosted.org/packages/89/1d/23bafc80495b2a902b27d242e9226ea0b74624f108c60f0533329c051f78/pillow-10.2.0-cp311-cp311-macosx_10_10_x86_64.whl.metadata\r\n",
      "  Using cached pillow-10.2.0-cp311-cp311-macosx_10_10_x86_64.whl.metadata (9.7 kB)\r\n",
      "Collecting pyparsing>=2.3.1 (from matplotlib->eliater==0.0.1.dev0)\r\n",
      "  Obtaining dependency information for pyparsing>=2.3.1 from https://files.pythonhosted.org/packages/39/92/8486ede85fcc088f1b3dba4ce92dd29d126fd96b0008ea213167940a2475/pyparsing-3.1.1-py3-none-any.whl.metadata\r\n",
      "  Using cached pyparsing-3.1.1-py3-none-any.whl.metadata (5.1 kB)\r\n",
      "Requirement already satisfied: python-dateutil>=2.7 in /Users/sarataheri/GitHub/eliater/venv/lib/python3.11/site-packages (from matplotlib->eliater==0.0.1.dev0) (2.8.2)\r\n",
      "Collecting pytz>=2020.1 (from pandas->eliater==0.0.1.dev0)\r\n",
      "  Obtaining dependency information for pytz>=2020.1 from https://files.pythonhosted.org/packages/32/4d/aaf7eff5deb402fd9a24a1449a8119f00d74ae9c2efa79f8ef9994261fc2/pytz-2023.3.post1-py2.py3-none-any.whl.metadata\r\n",
      "  Using cached pytz-2023.3.post1-py2.py3-none-any.whl.metadata (22 kB)\r\n",
      "Collecting networkx (from pgmpy>=0.1.24->eliater==0.0.1.dev0)\r\n",
      "  Obtaining dependency information for networkx from https://files.pythonhosted.org/packages/d5/f0/8fbc882ca80cf077f1b246c0e3c3465f7f415439bdea6b899f6b19f61f70/networkx-3.2.1-py3-none-any.whl.metadata\r\n",
      "  Using cached networkx-3.2.1-py3-none-any.whl.metadata (5.2 kB)\r\n",
      "Collecting scikit-learn (from pgmpy>=0.1.24->eliater==0.0.1.dev0)\r\n",
      "  Obtaining dependency information for scikit-learn from https://files.pythonhosted.org/packages/08/5d/e5acecd6e99a6b656e42e7a7b18284e2f9c9f512e8ed6979e1e75d25f05f/scikit_learn-1.3.2-cp311-cp311-macosx_10_9_x86_64.whl.metadata\r\n",
      "  Using cached scikit_learn-1.3.2-cp311-cp311-macosx_10_9_x86_64.whl.metadata (11 kB)\r\n",
      "Collecting torch (from pgmpy>=0.1.24->eliater==0.0.1.dev0)\r\n",
      "  Obtaining dependency information for torch from https://files.pythonhosted.org/packages/dd/a0/6dd8662895ddaffb0ac689037451f93a73e9030d07b1b5965e3e3071f873/torch-2.1.2-cp311-none-macosx_10_9_x86_64.whl.metadata\r\n",
      "  Using cached torch-2.1.2-cp311-none-macosx_10_9_x86_64.whl.metadata (25 kB)\r\n",
      "Collecting tqdm (from pgmpy>=0.1.24->eliater==0.0.1.dev0)\r\n",
      "  Obtaining dependency information for tqdm from https://files.pythonhosted.org/packages/00/e5/f12a80907d0884e6dff9c16d0c0114d81b8cd07dc3ae54c5e962cc83037e/tqdm-4.66.1-py3-none-any.whl.metadata\r\n",
      "  Using cached tqdm-4.66.1-py3-none-any.whl.metadata (57 kB)\r\n",
      "Collecting joblib (from pgmpy>=0.1.24->eliater==0.0.1.dev0)\r\n",
      "  Obtaining dependency information for joblib from https://files.pythonhosted.org/packages/10/40/d551139c85db202f1f384ba8bcf96aca2f329440a844f924c8a0040b6d02/joblib-1.3.2-py3-none-any.whl.metadata\r\n",
      "  Using cached joblib-1.3.2-py3-none-any.whl.metadata (5.4 kB)\r\n",
      "Collecting opt-einsum (from pgmpy>=0.1.24->eliater==0.0.1.dev0)\r\n",
      "  Using cached opt_einsum-3.3.0-py3-none-any.whl (65 kB)\r\n",
      "Collecting more-itertools (from y0>=0.2.5->eliater==0.0.1.dev0)\r\n",
      "  Obtaining dependency information for more-itertools from https://files.pythonhosted.org/packages/50/e2/8e10e465ee3987bb7c9ab69efb91d867d93959095f4807db102d07995d94/more_itertools-10.2.0-py3-none-any.whl.metadata\r\n",
      "  Using cached more_itertools-10.2.0-py3-none-any.whl.metadata (34 kB)\r\n",
      "Collecting click (from y0>=0.2.5->eliater==0.0.1.dev0)\r\n",
      "  Obtaining dependency information for click from https://files.pythonhosted.org/packages/00/2e/d53fa4befbf2cfa713304affc7ca780ce4fc1fd8710527771b58311a3229/click-8.1.7-py3-none-any.whl.metadata\r\n",
      "  Using cached click-8.1.7-py3-none-any.whl.metadata (3.0 kB)\r\n",
      "Collecting more-click (from y0>=0.2.5->eliater==0.0.1.dev0)\r\n",
      "  Using cached more_click-0.1.2-py3-none-any.whl (6.7 kB)\r\n",
      "Collecting tabulate (from y0>=0.2.5->eliater==0.0.1.dev0)\r\n",
      "  Using cached tabulate-0.9.0-py3-none-any.whl (35 kB)\r\n",
      "Collecting ml-dtypes>=0.2.0 (from jax<0.5.0,>=0.4.8->ananke-causal>=0.5.0->eliater==0.0.1.dev0)\r\n",
      "  Obtaining dependency information for ml-dtypes>=0.2.0 from https://files.pythonhosted.org/packages/6e/a4/6aabb78f1569550fd77c74d2c1d008b502c8ce72776bd88b14ea6c182c9e/ml_dtypes-0.3.2-cp311-cp311-macosx_10_9_universal2.whl.metadata\r\n",
      "  Using cached ml_dtypes-0.3.2-cp311-cp311-macosx_10_9_universal2.whl.metadata (20 kB)\r\n",
      "Collecting dill>=0.3.7 (from mystic<0.5.0,>=0.4.0->ananke-causal>=0.5.0->eliater==0.0.1.dev0)\r\n",
      "  Obtaining dependency information for dill>=0.3.7 from https://files.pythonhosted.org/packages/f5/3a/74a29b11cf2cdfcd6ba89c0cecd70b37cd1ba7b77978ce611eb7a146a832/dill-0.3.7-py3-none-any.whl.metadata\r\n",
      "  Using cached dill-0.3.7-py3-none-any.whl.metadata (9.9 kB)\r\n",
      "Collecting klepto>=0.2.4 (from mystic<0.5.0,>=0.4.0->ananke-causal>=0.5.0->eliater==0.0.1.dev0)\r\n",
      "  Obtaining dependency information for klepto>=0.2.4 from https://files.pythonhosted.org/packages/5a/ba/e288d841bf0a9ec2db2d4f9cbef5ce916139d6033b783cf6cf79762b1c2a/klepto-0.2.4-py3-none-any.whl.metadata\r\n",
      "  Using cached klepto-0.2.4-py3-none-any.whl.metadata (7.3 kB)\r\n",
      "Collecting sympy>=0.6.7 (from mystic<0.5.0,>=0.4.0->ananke-causal>=0.5.0->eliater==0.0.1.dev0)\r\n",
      "  Using cached sympy-1.12-py3-none-any.whl (5.7 MB)\r\n",
      "Collecting mpmath>=0.19 (from mystic<0.5.0,>=0.4.0->ananke-causal>=0.5.0->eliater==0.0.1.dev0)\r\n",
      "  Using cached mpmath-1.3.0-py3-none-any.whl (536 kB)\r\n",
      "Requirement already satisfied: six>=1.5 in /Users/sarataheri/GitHub/eliater/venv/lib/python3.11/site-packages (from python-dateutil>=2.7->matplotlib->eliater==0.0.1.dev0) (1.16.0)\r\n",
      "Collecting patsy>=0.5.2 (from statsmodels<0.14.0,>=0.13.2->ananke-causal>=0.5.0->eliater==0.0.1.dev0)\r\n",
      "  Obtaining dependency information for patsy>=0.5.2 from https://files.pythonhosted.org/packages/43/f3/1d311a09c34f14f5973bb0bb0dc3a6e007e1eda90b5492d082689936ca51/patsy-0.5.6-py2.py3-none-any.whl.metadata\r\n",
      "  Using cached patsy-0.5.6-py2.py3-none-any.whl.metadata (3.5 kB)\r\n",
      "Collecting threadpoolctl>=2.0.0 (from scikit-learn->pgmpy>=0.1.24->eliater==0.0.1.dev0)\r\n",
      "  Obtaining dependency information for threadpoolctl>=2.0.0 from https://files.pythonhosted.org/packages/81/12/fd4dea011af9d69e1cad05c75f3f7202cdcbeac9b712eea58ca779a72865/threadpoolctl-3.2.0-py3-none-any.whl.metadata\r\n",
      "  Using cached threadpoolctl-3.2.0-py3-none-any.whl.metadata (10.0 kB)\r\n",
      "Collecting filelock (from torch->pgmpy>=0.1.24->eliater==0.0.1.dev0)\r\n",
      "  Obtaining dependency information for filelock from https://files.pythonhosted.org/packages/81/54/84d42a0bee35edba99dee7b59a8d4970eccdd44b99fe728ed912106fc781/filelock-3.13.1-py3-none-any.whl.metadata\r\n",
      "  Using cached filelock-3.13.1-py3-none-any.whl.metadata (2.8 kB)\r\n",
      "Collecting typing-extensions (from torch->pgmpy>=0.1.24->eliater==0.0.1.dev0)\r\n",
      "  Obtaining dependency information for typing-extensions from https://files.pythonhosted.org/packages/b7/f4/6a90020cd2d93349b442bfcb657d0dc91eee65491600b2cb1d388bc98e6b/typing_extensions-4.9.0-py3-none-any.whl.metadata\r\n",
      "  Using cached typing_extensions-4.9.0-py3-none-any.whl.metadata (3.0 kB)\r\n",
      "Requirement already satisfied: jinja2 in /Users/sarataheri/GitHub/eliater/venv/lib/python3.11/site-packages (from torch->pgmpy>=0.1.24->eliater==0.0.1.dev0) (3.1.3)\r\n",
      "Collecting fsspec (from torch->pgmpy>=0.1.24->eliater==0.0.1.dev0)\r\n",
      "  Obtaining dependency information for fsspec from https://files.pythonhosted.org/packages/70/25/fab23259a52ece5670dcb8452e1af34b89e6135ecc17cd4b54b4b479eac6/fsspec-2023.12.2-py3-none-any.whl.metadata\r\n",
      "  Using cached fsspec-2023.12.2-py3-none-any.whl.metadata (6.8 kB)\r\n",
      "Collecting pox>=0.3.3 (from klepto>=0.2.4->mystic<0.5.0,>=0.4.0->ananke-causal>=0.5.0->eliater==0.0.1.dev0)\r\n",
      "  Obtaining dependency information for pox>=0.3.3 from https://files.pythonhosted.org/packages/17/c7/ef7e37e5a895f5de068b408a52bee0710b1092574b6b4ab247a767e9fbd5/pox-0.3.3-py3-none-any.whl.metadata\r\n",
      "  Using cached pox-0.3.3-py3-none-any.whl.metadata (8.0 kB)\r\n",
      "Requirement already satisfied: MarkupSafe>=2.0 in /Users/sarataheri/GitHub/eliater/venv/lib/python3.11/site-packages (from jinja2->torch->pgmpy>=0.1.24->eliater==0.0.1.dev0) (2.1.3)\r\n",
      "Using cached ananke_causal-0.5.0-py3-none-any.whl (242 kB)\r\n",
      "Using cached matplotlib-3.8.2-cp311-cp311-macosx_10_12_x86_64.whl (7.6 MB)\r\n",
      "Using cached numpy-1.26.3-cp311-cp311-macosx_10_9_x86_64.whl (20.6 MB)\r\n",
      "Using cached pgmpy-0.1.24-py3-none-any.whl (2.0 MB)\r\n",
      "Using cached scipy-1.11.4-cp311-cp311-macosx_10_9_x86_64.whl (37.2 MB)\r\n",
      "Using cached y0-0.2.5-py3-none-any.whl (126 kB)\r\n",
      "Using cached seaborn-0.13.1-py3-none-any.whl (294 kB)\r\n",
      "Using cached contourpy-1.2.0-cp311-cp311-macosx_10_9_x86_64.whl (258 kB)\r\n",
      "Using cached cycler-0.12.1-py3-none-any.whl (8.3 kB)\r\n",
      "Using cached fonttools-4.47.2-cp311-cp311-macosx_10_9_x86_64.whl (2.3 MB)\r\n",
      "Using cached jax-0.4.23-py3-none-any.whl (1.7 MB)\r\n",
      "Using cached jaxlib-0.4.23-cp311-cp311-macosx_10_14_x86_64.whl (81.8 MB)\r\n",
      "Using cached kiwisolver-1.4.5-cp311-cp311-macosx_10_9_x86_64.whl (68 kB)\r\n",
      "Using cached mystic-0.4.1-py3-none-any.whl (401 kB)\r\n",
      "Using cached pillow-10.2.0-cp311-cp311-macosx_10_10_x86_64.whl (3.5 MB)\r\n",
      "Using cached pyparsing-3.1.1-py3-none-any.whl (103 kB)\r\n",
      "Using cached pytz-2023.3.post1-py2.py3-none-any.whl (502 kB)\r\n",
      "Using cached click-8.1.7-py3-none-any.whl (97 kB)\r\n",
      "Using cached joblib-1.3.2-py3-none-any.whl (302 kB)\r\n",
      "Using cached more_itertools-10.2.0-py3-none-any.whl (57 kB)\r\n",
      "Using cached networkx-3.2.1-py3-none-any.whl (1.6 MB)\r\n",
      "Using cached scikit_learn-1.3.2-cp311-cp311-macosx_10_9_x86_64.whl (10.1 MB)\r\n",
      "Using cached torch-2.1.2-cp311-none-macosx_10_9_x86_64.whl (146.7 MB)\r\n",
      "Using cached tqdm-4.66.1-py3-none-any.whl (78 kB)\r\n",
      "Using cached dill-0.3.7-py3-none-any.whl (115 kB)\r\n",
      "Using cached klepto-0.2.4-py3-none-any.whl (81 kB)\r\n",
      "Using cached ml_dtypes-0.3.2-cp311-cp311-macosx_10_9_universal2.whl (389 kB)\r\n",
      "Using cached patsy-0.5.6-py2.py3-none-any.whl (233 kB)\r\n",
      "Using cached threadpoolctl-3.2.0-py3-none-any.whl (15 kB)\r\n",
      "Using cached filelock-3.13.1-py3-none-any.whl (11 kB)\r\n",
      "Using cached fsspec-2023.12.2-py3-none-any.whl (168 kB)\r\n",
      "Using cached typing_extensions-4.9.0-py3-none-any.whl (32 kB)\r\n",
      "Using cached pox-0.3.3-py3-none-any.whl (29 kB)\r\n",
      "Building wheels for collected packages: eliater\r\n",
      "  Building wheel for eliater (pyproject.toml) ... \u001B[?25ldone\r\n",
      "\u001B[?25h  Created wheel for eliater: filename=eliater-0.0.1.dev0-py3-none-any.whl size=40394 sha256=3024caea4e1eb89f615036281ce307ee66b6165d4a5c87c96b8df1e8d4ddc747\r\n",
      "  Stored in directory: /private/var/folders/fs/kx46_43x04ndj3yryggvkg5r0000gn/T/pip-ephem-wheel-cache-4am9nj5h/wheels/af/24/68/424d0b91b3b5a196384a07190ba77a66331df46c18e82328f9\r\n",
      "Successfully built eliater\r\n",
      "Installing collected packages: pytz, mpmath, typing-extensions, tqdm, threadpoolctl, tabulate, sympy, pyparsing, pox, pillow, optimaladj, numpy, networkx, more-itertools, kiwisolver, joblib, fsspec, fonttools, filelock, dill, cycler, click, torch, scipy, patsy, pandas, opt-einsum, more-click, ml-dtypes, klepto, contourpy, statsmodels, scikit-learn, mystic, matplotlib, jaxlib, jax, y0, seaborn, pgmpy, ananke-causal, eliater\r\n",
      "Successfully installed ananke-causal-0.5.0 click-8.1.7 contourpy-1.2.0 cycler-0.12.1 dill-0.3.7 eliater-0.0.1.dev0 filelock-3.13.1 fonttools-4.47.2 fsspec-2023.12.2 jax-0.4.23 jaxlib-0.4.23 joblib-1.3.2 kiwisolver-1.4.5 klepto-0.2.4 matplotlib-3.8.2 ml-dtypes-0.3.2 more-click-0.1.2 more-itertools-10.2.0 mpmath-1.3.0 mystic-0.4.1 networkx-3.2.1 numpy-1.26.3 opt-einsum-3.3.0 optimaladj-0.0.4 pandas-1.5.3 patsy-0.5.6 pgmpy-0.1.24 pillow-10.2.0 pox-0.3.3 pyparsing-3.1.1 pytz-2023.3.post1 scikit-learn-1.3.2 scipy-1.11.4 seaborn-0.13.1 statsmodels-0.13.5 sympy-1.12 tabulate-0.9.0 threadpoolctl-3.2.0 torch-2.1.2 tqdm-4.66.1 typing-extensions-4.9.0 y0-0.2.5\r\n",
      "\r\n",
      "\u001B[1m[\u001B[0m\u001B[34;49mnotice\u001B[0m\u001B[1;39;49m]\u001B[0m\u001B[39;49m A new release of pip is available: \u001B[0m\u001B[31;49m23.2.1\u001B[0m\u001B[39;49m -> \u001B[0m\u001B[32;49m23.3.2\u001B[0m\r\n",
      "\u001B[1m[\u001B[0m\u001B[34;49mnotice\u001B[0m\u001B[1;39;49m]\u001B[0m\u001B[39;49m To update, run: \u001B[0m\u001B[32;49mpython -m pip install --upgrade pip\u001B[0m\r\n"
     ]
    }
   ],
   "source": [
    "!pip install git+https://github.com/y0-causal-inference/eliater.git@linear-regression"
   ],
   "metadata": {
    "collapsed": false,
    "ExecuteTime": {
     "end_time": "2024-01-16T16:55:45.301553Z",
     "start_time": "2024-01-16T16:53:49.644015Z"
    }
   },
   "id": "bf178ec456cbb94a",
   "execution_count": 1
  },
  {
   "cell_type": "code",
   "execution_count": 18,
   "id": "initial_id",
   "metadata": {
    "collapsed": true,
    "ExecuteTime": {
     "end_time": "2024-01-16T17:08:03.271341Z",
     "start_time": "2024-01-16T17:08:03.218581Z"
    }
   },
   "outputs": [],
   "source": [
    "from eliater.frontdoor_backdoor_discrete import sars_large_example\n",
    "import numpy as np"
   ]
  },
  {
   "cell_type": "markdown",
   "source": [
    "This is case study 1 in Figure 6 in this paper: Eliater: an open source software for causal query estimation from observational measurements of biomolecular networks. The figure below shows the SARS-CoV-2 network (Mohammad-Taheri et al., 2022; Zucker\n",
    "et al., 2021), which models the activation of Cytokine Release Syndrome (Cytokine Storm), a known factor causing tissue damage in severely ill SARS-CoV-2 patients (Ulhaq and Soraya, 2020)."
   ],
   "metadata": {
    "collapsed": false
   },
   "id": "5b60ed63441c5411"
  },
  {
   "cell_type": "code",
   "execution_count": 3,
   "outputs": [],
   "source": [
    "graph = sars_large_example.graph"
   ],
   "metadata": {
    "collapsed": false,
    "ExecuteTime": {
     "end_time": "2024-01-16T16:58:53.461514Z",
     "start_time": "2024-01-16T16:58:53.413447Z"
    }
   },
   "id": "7ab5d32c79b7bf2"
  },
  {
   "cell_type": "markdown",
   "source": [
    "This case study used synthetic observational data. The generation of this synthetic data was inspired by common biological practices. For each endogenous variable $X$ including $EGFR$, we represented  biomolecular reactions using Hill equations \\cite{alon2019introduction}. Specifically, we generated observations of each node $X$ from a Binomial distribution with probability of $\\frac{1}{1 + \\exp(\\mathbf{\\theta}^{\\prime} Pa(X) + \\theta_0)}$, where $Pa(X)$ is a $q \\times 1$ vector of measurements related to the parent of $X$, $\\mathbf{\\theta}'$ is a $1 \\times q$ parameter vector, and $\\theta_0$ is a scalar. The probability distributions for the exogenous variables were simulated from a Binomial distribution with a random probability between 0.4 to 0.8."
   ],
   "metadata": {
    "collapsed": false
   },
   "id": "d5f92410e9801798"
  },
  {
   "cell_type": "code",
   "execution_count": 41,
   "outputs": [],
   "source": [
    "# get observational data\n",
    "data = sars_large_example.generate_data(1000, seed=1)"
   ],
   "metadata": {
    "collapsed": false,
    "ExecuteTime": {
     "end_time": "2024-01-16T17:13:31.307563Z",
     "start_time": "2024-01-16T17:13:31.271836Z"
    }
   },
   "id": "eb3a23add3bc3914"
  },
  {
   "cell_type": "code",
   "outputs": [
    {
     "data": {
      "text/plain": "   SARS_COV2  ACE2  Ang  AGTR1  ADAM17  Toci  Sil6r  EGF  TNF  Gefi  EGFR  \\\n0          0     1    1      1       0     1      0    0    1     1     1   \n1          0     0    1      0       0     0      0    0    0     0     0   \n2          1     1    1      0       0     0      0    0    0     1     1   \n3          0     1    0      0       0     1      0    0    0     0     0   \n4          0     1    1      0       1     1      0    0    0     1     1   \n\n   PRR  NFKB  IL6STAT3  IL6AMP  cytok  \n0    0     0         1       0      0  \n1    0     0         0       0      1  \n2    0     0         0       0      0  \n3    0     0         1       0      0  \n4    0     1         0       0      1  ",
      "text/html": "<div>\n<style scoped>\n    .dataframe tbody tr th:only-of-type {\n        vertical-align: middle;\n    }\n\n    .dataframe tbody tr th {\n        vertical-align: top;\n    }\n\n    .dataframe thead th {\n        text-align: right;\n    }\n</style>\n<table border=\"1\" class=\"dataframe\">\n  <thead>\n    <tr style=\"text-align: right;\">\n      <th></th>\n      <th>SARS_COV2</th>\n      <th>ACE2</th>\n      <th>Ang</th>\n      <th>AGTR1</th>\n      <th>ADAM17</th>\n      <th>Toci</th>\n      <th>Sil6r</th>\n      <th>EGF</th>\n      <th>TNF</th>\n      <th>Gefi</th>\n      <th>EGFR</th>\n      <th>PRR</th>\n      <th>NFKB</th>\n      <th>IL6STAT3</th>\n      <th>IL6AMP</th>\n      <th>cytok</th>\n    </tr>\n  </thead>\n  <tbody>\n    <tr>\n      <th>0</th>\n      <td>0</td>\n      <td>1</td>\n      <td>1</td>\n      <td>1</td>\n      <td>0</td>\n      <td>1</td>\n      <td>0</td>\n      <td>0</td>\n      <td>1</td>\n      <td>1</td>\n      <td>1</td>\n      <td>0</td>\n      <td>0</td>\n      <td>1</td>\n      <td>0</td>\n      <td>0</td>\n    </tr>\n    <tr>\n      <th>1</th>\n      <td>0</td>\n      <td>0</td>\n      <td>1</td>\n      <td>0</td>\n      <td>0</td>\n      <td>0</td>\n      <td>0</td>\n      <td>0</td>\n      <td>0</td>\n      <td>0</td>\n      <td>0</td>\n      <td>0</td>\n      <td>0</td>\n      <td>0</td>\n      <td>0</td>\n      <td>1</td>\n    </tr>\n    <tr>\n      <th>2</th>\n      <td>1</td>\n      <td>1</td>\n      <td>1</td>\n      <td>0</td>\n      <td>0</td>\n      <td>0</td>\n      <td>0</td>\n      <td>0</td>\n      <td>0</td>\n      <td>1</td>\n      <td>1</td>\n      <td>0</td>\n      <td>0</td>\n      <td>0</td>\n      <td>0</td>\n      <td>0</td>\n    </tr>\n    <tr>\n      <th>3</th>\n      <td>0</td>\n      <td>1</td>\n      <td>0</td>\n      <td>0</td>\n      <td>0</td>\n      <td>1</td>\n      <td>0</td>\n      <td>0</td>\n      <td>0</td>\n      <td>0</td>\n      <td>0</td>\n      <td>0</td>\n      <td>0</td>\n      <td>1</td>\n      <td>0</td>\n      <td>0</td>\n    </tr>\n    <tr>\n      <th>4</th>\n      <td>0</td>\n      <td>1</td>\n      <td>1</td>\n      <td>0</td>\n      <td>1</td>\n      <td>1</td>\n      <td>0</td>\n      <td>0</td>\n      <td>0</td>\n      <td>1</td>\n      <td>1</td>\n      <td>0</td>\n      <td>1</td>\n      <td>0</td>\n      <td>0</td>\n      <td>1</td>\n    </tr>\n  </tbody>\n</table>\n</div>"
     },
     "execution_count": 42,
     "metadata": {},
     "output_type": "execute_result"
    }
   ],
   "source": [
    "data.head()"
   ],
   "metadata": {
    "collapsed": false,
    "ExecuteTime": {
     "end_time": "2024-01-16T17:13:32.346132Z",
     "start_time": "2024-01-16T17:13:32.302989Z"
    }
   },
   "id": "81713af4e9c08fa3",
   "execution_count": 42
  },
  {
   "cell_type": "markdown",
   "source": [
    "## Step 1: Verify correctness of the network structure"
   ],
   "metadata": {
    "collapsed": false
   },
   "id": "22de51a518ee7699"
  },
  {
   "cell_type": "code",
   "outputs": [],
   "source": [
    "from eliater.network_validation import print_graph_falsifications"
   ],
   "metadata": {
    "collapsed": false,
    "ExecuteTime": {
     "end_time": "2024-01-16T17:14:27.482475Z",
     "start_time": "2024-01-16T17:14:27.475059Z"
    }
   },
   "id": "c2a9ea89f64f8de2",
   "execution_count": 45
  },
  {
   "cell_type": "code",
   "execution_count": 46,
   "outputs": [
    {
     "name": "stdout",
     "output_type": "stream",
     "text": [
      "Failed tests: 0/99 (0.00%)\n",
      "Reject null hypothesis when p<0.01\n",
      "=========  =========  ===============  ==========  =========  =====  =======  ===================\n",
      "left       right      given                 stats          p    dof    p_adj  p_adj_significant\n",
      "=========  =========  ===============  ==========  =========  =====  =======  ===================\n",
      "AGTR1      SARS_COV2  Ang              0.277998    0.870229       2        1  False\n",
      "IL6STAT3   NFKB       ADAM17|EGFR      0.654706    0.956795       4        1  False\n",
      "ACE2       EGF        Ang              0.890781    0.640574       2        1  False\n",
      "EGF        IL6STAT3   ADAM17           0           1              2        1  False\n",
      "SARS_COV2  TNF        Ang              1.50292     0.471677       2        1  False\n",
      "ADAM17     SARS_COV2  Ang              0.362015    0.834429       2        1  False\n",
      "Ang        PRR        SARS_COV2        0.600869    0.740496       2        1  False\n",
      "AGTR1      TNF        ADAM17           1.76737     0.413257       2        1  False\n",
      "EGF        TNF        ADAM17           0.0655956   0.967734       2        1  False\n",
      "IL6STAT3   TNF        ADAM17           0.705062    0.702907       2        1  False\n",
      "PRR        Sil6r      Ang              0.354238    0.83768        2        1  False\n",
      "EGF        IL6AMP     ADAM17|EGFR      3.77439     0.437399       4        1  False\n",
      "Ang        cytok      IL6AMP           0.113458    0.94485        2        1  False\n",
      "Gefi       IL6AMP     ADAM17|EGFR      2.16625     0.705213       4        1  False\n",
      "TNF        Toci                        0.293003    0.588303       1        1  False\n",
      "ADAM17     EGFR       EGF              1.7905      0.408505       2        1  False\n",
      "AGTR1      Toci                        0.0638041   0.800581       1        1  False\n",
      "EGFR       Sil6r      ADAM17           1.52549     0.466384       2        1  False\n",
      "IL6STAT3   cytok      IL6AMP           1.27786     0.527857       2        1  False\n",
      "Ang        EGF        AGTR1            1.34636     0.510083       2        1  False\n",
      "TNF        cytok      IL6AMP           0.83846     0.657553       2        1  False\n",
      "NFKB       Toci                        0.304301    0.581199       1        1  False\n",
      "EGF        SARS_COV2  Ang              1.05245     0.590831       2        1  False\n",
      "IL6AMP     SARS_COV2  Ang|PRR          4.45161     0.348324       4        1  False\n",
      "EGF        Gefi                        1.82382     0.17686        1        1  False\n",
      "AGTR1      EGFR       ADAM17           0.16153     0.922411       2        1  False\n",
      "ADAM17     NFKB       Ang|EGFR|TNF     5.47723     0.705562       8        1  False\n",
      "Ang        IL6AMP     AGTR1|PRR        0.32671     0.988025       4        1  False\n",
      "EGFR       SARS_COV2  Ang              0.0933889   0.954379       2        1  False\n",
      "Ang        IL6STAT3   AGTR1            0.563972    0.754284       2        1  False\n",
      "Gefi       NFKB       ADAM17|EGFR      2.69514     0.610066       4        1  False\n",
      "PRR        cytok      IL6AMP           0.0578423   0.971493       2        1  False\n",
      "AGTR1      IL6AMP     ADAM17|Ang       0.496889    0.973803       4        1  False\n",
      "IL6STAT3   PRR        Ang              0.0513403   0.974657       2        1  False\n",
      "PRR        Toci                        0.143825    0.704507       1        1  False\n",
      "Gefi       TNF                         1.34405     0.246321       1        1  False\n",
      "ACE2       IL6STAT3   Ang              2.52027     0.283615       2        1  False\n",
      "Gefi       Sil6r                       0.189448    0.663377       1        1  False\n",
      "ACE2       Toci                        0           1              1        1  False\n",
      "IL6AMP     TNF        IL6STAT3|NFKB    2.92852     0.231249       2        1  False\n",
      "AGTR1      EGF        ADAM17           2.31302     0.314583       2        1  False\n",
      "PRR        TNF        Ang              0.00696497  0.996524       2        1  False\n",
      "Ang        Toci                        0.710932    0.399135       1        1  False\n",
      "Ang        Sil6r      AGTR1            3.28678     0.193324       2        1  False\n",
      "Sil6r      cytok      IL6AMP           1.03491     0.596034       2        1  False\n",
      "Ang        NFKB       AGTR1|PRR        2.3357      0.674277       4        1  False\n",
      "AGTR1      Gefi                        0.0116377   0.914092       1        1  False\n",
      "ACE2       AGTR1      Ang              4.26961     0.118268       2        1  False\n",
      "EGF        NFKB       ADAM17|EGFR      1.44089     0.837058       4        1  False\n",
      "AGTR1      cytok      IL6AMP           0.866218    0.64849        2        1  False\n",
      "ACE2       cytok      IL6AMP           7.94406     0.0188352      2        1  False\n",
      "EGF        cytok      IL6AMP           6.55823     0.0376615      2        1  False\n",
      "EGFR       Toci                        0.995185    0.318479       1        1  False\n",
      "Gefi       cytok      IL6AMP           0.0796628   0.960951       2        1  False\n",
      "ADAM17     Gefi                        0.00208258  0.963601       1        1  False\n",
      "ACE2       TNF        Ang              3.94777     0.138916       2        1  False\n",
      "EGFR       IL6AMP     IL6STAT3|NFKB    0.348549    0.840066       2        1  False\n",
      "NFKB       cytok      IL6AMP           0.112618    0.737183       1        1  False\n",
      "IL6STAT3   Toci       Sil6r            3.61002     0.164472       2        1  False\n",
      "AGTR1      PRR        Ang              1.25726     0.533322       2        1  False\n",
      "ACE2       NFKB       Ang|PRR          4.99465     0.287847       4        1  False\n",
      "ADAM17     cytok      IL6AMP           0.131514    0.936358       2        1  False\n",
      "EGF        PRR        Ang              1.44963     0.484414       2        1  False\n",
      "ACE2       Gefi                        0.880827    0.347975       1        1  False\n",
      "ACE2       PRR        SARS_COV2        2.79042     0.247781       2        1  False\n",
      "ADAM17     Ang        AGTR1            0.725234    0.695853       2        1  False\n",
      "ACE2       EGFR       Ang              3.64496     0.161624       2        1  False\n",
      "Gefi       PRR                         0.0231141   0.879161       1        1  False\n",
      "AGTR1      NFKB       ADAM17|Ang       3.34111     0.502446       4        1  False\n",
      "EGFR       PRR        Ang              1.32977     0.514332       2        1  False\n",
      "IL6AMP     Sil6r      ADAM17|IL6STAT3  2.21456     0.696364       4        1  False\n",
      "Ang        TNF        AGTR1            1.5054      0.471093       2        1  False\n",
      "ADAM17     IL6STAT3   Sil6r            0.267183    0.874947       2        1  False\n",
      "Gefi       IL6STAT3                    0.0927335   0.76073        1        1  False\n",
      "IL6STAT3   SARS_COV2  Ang              2.94427     0.229435       2        1  False\n",
      "EGF        Toci                        1.32182     0.250265       1        1  False\n",
      "AGTR1      IL6STAT3   ADAM17           7.00113     0.0301803      2        1  False\n",
      "ACE2       ADAM17     Ang              0.00162252  0.999189       2        1  False\n",
      "ACE2       Sil6r      Ang              1.82386     0.401748       2        1  False\n",
      "IL6AMP     Toci       ADAM17|IL6STAT3  4.97915     0.289444       4        1  False\n",
      "Ang        EGFR       AGTR1            0.412903    0.813466       2        1  False\n",
      "Sil6r      TNF        ADAM17           3.38213     0.184323       2        1  False\n",
      "ACE2       IL6AMP     Ang|PRR          1.21617     0.87543        4        1  False\n",
      "EGFR       cytok      IL6AMP           0.73802     0.691418       2        1  False\n",
      "NFKB       SARS_COV2  Ang|PRR          9.74145     0.0450155      4        1  False\n",
      "Gefi       SARS_COV2                   1.17414     0.278552       1        1  False\n",
      "ADAM17     Toci                        0.123438    0.725335       1        1  False\n",
      "SARS_COV2  Sil6r      Ang              1.33816     0.512181       2        1  False\n",
      "AGTR1      Sil6r      ADAM17           3.63546     0.162394       2        1  False\n",
      "ADAM17     IL6AMP     IL6STAT3|NFKB    1.63146     0.442316       2        1  False\n",
      "Ang        Gefi                        0.0282316   0.866566       1        1  False\n",
      "EGF        Sil6r      ADAM17           1.00735     0.604307       2        1  False\n",
      "Toci       cytok      IL6AMP           0.0542013   0.973263       2        1  False\n",
      "ADAM17     PRR        Ang              0.894472    0.639393       2        1  False\n",
      "SARS_COV2  Toci                        0.217991    0.640575       1        1  False\n",
      "NFKB       Sil6r      ADAM17           3.57912     0.167033       2        1  False\n",
      "Gefi       Toci                        0.00698824  0.933378       1        1  False\n",
      "IL6AMP     PRR        IL6STAT3|NFKB    0.120371    0.94159        2        1  False\n",
      "SARS_COV2  cytok      IL6AMP           0.127214    0.938374       2        1  False\n",
      "=========  =========  ===============  ==========  =========  =====  =======  ===================\n"
     ]
    }
   ],
   "source": [
    "print_graph_falsifications(graph=graph, data=data, method=\"chi-square\", verbose=True, significance_level=0.01)"
   ],
   "metadata": {
    "collapsed": false,
    "ExecuteTime": {
     "end_time": "2024-01-16T17:15:08.184192Z",
     "start_time": "2024-01-16T17:14:27.489843Z"
    }
   },
   "id": "e21efcf3940ffc5e"
  },
  {
   "cell_type": "markdown",
   "source": [
    "None of the tests failed for this graph. The reason is that the data is simulated according to the graph structure, hence we expect the d-separations implied by the network be validated by the data. "
   ],
   "metadata": {
    "collapsed": false
   },
   "id": "74b79e259232adfb"
  },
  {
   "cell_type": "markdown",
   "source": [
    "## Step 2: Check query identifiability"
   ],
   "metadata": {
    "collapsed": false
   },
   "id": "944520ca55c79b4b"
  },
  {
   "cell_type": "code",
   "execution_count": 8,
   "outputs": [
    {
     "data": {
      "text/plain": "Identification(outcomes=\"{cytok}, treatments=\"{EGFR}\",conditions=\"set()\",  graph=\"NxMixedGraph(directed=<networkx.classes.digraph.DiGraph object at 0x12316ec50>, undirected=<networkx.classes.graph.Graph object at 0x1231706d0>)\", estimand=\"P(ACE2, ADAM17, AGTR1, Ang, EGF, EGFR, Gefi, IL6AMP, IL6STAT3, NFKB, PRR, SARS_COV2, Sil6r, TNF, Toci, cytok)\")"
     },
     "execution_count": 8,
     "metadata": {},
     "output_type": "execute_result"
    }
   ],
   "source": [
    "from y0.algorithm.identify import Identification\n",
    "from y0.dsl import P, Variable\n",
    "\n",
    "id_in = Identification.from_expression(\n",
    "    query=P(Variable('cytok') @ Variable('EGFR')),\n",
    "    graph=graph,\n",
    ")\n",
    "id_in"
   ],
   "metadata": {
    "collapsed": false,
    "ExecuteTime": {
     "end_time": "2024-01-16T17:00:59.122471Z",
     "start_time": "2024-01-16T17:00:59.070465Z"
    }
   },
   "id": "25bb329cbc5a1e08"
  },
  {
   "cell_type": "markdown",
   "source": [
    "The query is identifiable."
   ],
   "metadata": {
    "collapsed": false
   },
   "id": "5ac9e0aec8791fbc"
  },
  {
   "cell_type": "markdown",
   "source": [
    "## Step 3: Find nuisance variables and mark them as latent"
   ],
   "metadata": {
    "collapsed": false
   },
   "id": "e84ccc3bdc28f772"
  },
  {
   "cell_type": "code",
   "outputs": [],
   "source": [
    "from eliater.discover_latent_nodes import find_nuisance_variables"
   ],
   "metadata": {
    "collapsed": false,
    "ExecuteTime": {
     "end_time": "2024-01-16T17:01:04.470891Z",
     "start_time": "2024-01-16T17:01:04.465709Z"
    }
   },
   "id": "f296955711592d83",
   "execution_count": 9
  },
  {
   "cell_type": "markdown",
   "source": [
    "This function finds the nuisance variables for the input graph."
   ],
   "metadata": {
    "collapsed": false
   },
   "id": "c7ea93588b4f7188"
  },
  {
   "cell_type": "code",
   "execution_count": 10,
   "outputs": [
    {
     "data": {
      "text/plain": "set()"
     },
     "execution_count": 10,
     "metadata": {},
     "output_type": "execute_result"
    }
   ],
   "source": [
    "nuisance_variables = find_nuisance_variables(graph, treatments=Variable(\"EGFR\"), outcomes=Variable(\"cytok\"))\n",
    "nuisance_variables"
   ],
   "metadata": {
    "collapsed": false,
    "ExecuteTime": {
     "end_time": "2024-01-16T17:01:09.445850Z",
     "start_time": "2024-01-16T17:01:09.400563Z"
    }
   },
   "id": "4dff38fbf23ce61c"
  },
  {
   "cell_type": "markdown",
   "source": [
    "No variable is identified as the nuisance variable. Hence the simplified network in the next step will produce a graph similar to the original graph."
   ],
   "metadata": {
    "collapsed": false
   },
   "id": "7401dd4e2c6d5d31"
  },
  {
   "cell_type": "markdown",
   "source": [
    "## Step 4: Simplify the network"
   ],
   "metadata": {
    "collapsed": false
   },
   "id": "6aa2819509255d89"
  },
  {
   "cell_type": "markdown",
   "source": [
    "The following function finds the nuisance variables (step 3), marks them as latent and then applies Evan's simplification rules to remove the nuisance variables. As there are no nuisance variables, the new graph will be the same as the original graph."
   ],
   "metadata": {
    "collapsed": false
   },
   "id": "7b987190a5fa7453"
  },
  {
   "cell_type": "code",
   "outputs": [],
   "source": [
    "from eliater.discover_latent_nodes import remove_nuisance_variables"
   ],
   "metadata": {
    "collapsed": false,
    "ExecuteTime": {
     "end_time": "2024-01-16T17:01:38.061734Z",
     "start_time": "2024-01-16T17:01:38.035675Z"
    }
   },
   "id": "642f54dee856e158",
   "execution_count": 11
  },
  {
   "cell_type": "code",
   "execution_count": 12,
   "outputs": [],
   "source": [
    "new_graph = remove_nuisance_variables(graph, treatments=Variable(\"EGFR\"), outcomes=Variable(\"cytok\"))"
   ],
   "metadata": {
    "collapsed": false,
    "ExecuteTime": {
     "end_time": "2024-01-16T17:01:40.046500Z",
     "start_time": "2024-01-16T17:01:40.026211Z"
    }
   },
   "id": "e6849ec627ee2b59"
  },
  {
   "cell_type": "markdown",
   "source": [
    "## Step 5: Estimate the query"
   ],
   "metadata": {
    "collapsed": false
   },
   "id": "b8e9dd961d1d459a"
  },
  {
   "cell_type": "code",
   "execution_count": 13,
   "outputs": [],
   "source": [
    "from y0.algorithm.estimation import estimate_ace"
   ],
   "metadata": {
    "collapsed": false,
    "ExecuteTime": {
     "end_time": "2024-01-16T17:01:47.675957Z",
     "start_time": "2024-01-16T17:01:47.659326Z"
    }
   },
   "id": "8da8ac5fe1baa878"
  },
  {
   "cell_type": "code",
   "outputs": [
    {
     "data": {
      "text/plain": "-0.4476229407307878"
     },
     "execution_count": 40,
     "metadata": {},
     "output_type": "execute_result"
    }
   ],
   "source": [
    "estimate_ace(new_graph, treatments=Variable(\"EGFR\"), outcomes=Variable(\"cytok\"), data=data)"
   ],
   "metadata": {
    "collapsed": false,
    "ExecuteTime": {
     "end_time": "2024-01-16T17:13:20.797981Z",
     "start_time": "2024-01-16T17:13:20.533604Z"
    }
   },
   "id": "5c926e5be8539db9",
   "execution_count": 40
  },
  {
   "cell_type": "markdown",
   "source": [
    "## Evaluation criterion\n",
    "As we used synthetic data set, we were able to generate two interventional data sets where in\n",
    "one EGFR was set to 1, and the other one EGFR is set to 0. The ATE was calculated by subtracting the average value of Cytokine Storm obtained from each interventional data,\n",
    "resulting in the ground truth ATE=-0.44. The negative ATE indicates that the Gef itinib drug can reduce the increase in Cytokine Storm levels, hence can help in treating patients having SARS-Cov-2."
   ],
   "metadata": {
    "collapsed": false
   },
   "id": "bcdeff27d0bcbcb3"
  },
  {
   "cell_type": "code",
   "execution_count": 29,
   "outputs": [],
   "source": [
    "# get interventional data where EGFR is set to 1\n",
    "intv_data_EGFR_1 = sars_large_example.generate_data(num_samples=1000, seed=1, treatments = {Variable('EGFR'): 1})\n",
    "\n",
    "# get interventional data where EGFR is set to 0\n",
    "intv_data_EGFR_0 = sars_large_example.generate_data(num_samples=1000, seed=1, treatments = {Variable('EGFR'): 0})"
   ],
   "metadata": {
    "collapsed": false,
    "ExecuteTime": {
     "end_time": "2024-01-16T17:11:28.035774Z",
     "start_time": "2024-01-16T17:11:28.008059Z"
    }
   },
   "id": "11d39e8121e39e59"
  },
  {
   "cell_type": "code",
   "execution_count": 30,
   "outputs": [
    {
     "name": "stdout",
     "output_type": "stream",
     "text": [
      "-0.018000000000000016\n"
     ]
    }
   ],
   "source": [
    "#get the true value of ATE\n",
    "print(np.mean(intv_data_EGFR_1['cytok']) - np.mean(intv_data_EGFR_0['cytok'])) "
   ],
   "metadata": {
    "collapsed": false,
    "ExecuteTime": {
     "end_time": "2024-01-16T17:11:29.080709Z",
     "start_time": "2024-01-16T17:11:29.026301Z"
    }
   },
   "id": "dbdee565875aeec3"
  },
  {
   "cell_type": "markdown",
   "source": [
    "The estimated $\\widehat{\\mathrm{ATE}}=-0.02$, comparable in sign and magnitute to the ground truth ATE=-0.44. The discrepancy in the value of results is due to non-linear, and complex data generation procedure, which is similar to the real-life experimental artifacts, and due to the approximate nature of the modeling assumption."
   ],
   "metadata": {
    "collapsed": false
   },
   "id": "c721a0a302437bdc"
  }
 ],
 "metadata": {
  "kernelspec": {
   "display_name": "Python 3",
   "language": "python",
   "name": "python3"
  },
  "language_info": {
   "codemirror_mode": {
    "name": "ipython",
    "version": 2
   },
   "file_extension": ".py",
   "mimetype": "text/x-python",
   "name": "python",
   "nbconvert_exporter": "python",
   "pygments_lexer": "ipython2",
   "version": "2.7.6"
  }
 },
 "nbformat": 4,
 "nbformat_minor": 5
}
