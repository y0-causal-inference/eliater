{
 "cells": [
  {
   "cell_type": "markdown",
   "source": [
    "# Case study 2: The Sars-Cov2 model"
   ],
   "metadata": {
    "collapsed": false
   },
   "id": "cb1612e5198cab85"
  },
  {
   "cell_type": "code",
   "execution_count": null,
   "id": "initial_id",
   "metadata": {
    "collapsed": true
   },
   "outputs": [],
   "source": [
    "# from eliater.network_validation import conditional_independence_test_summary\n",
    "import pandas as pd\n",
    "\n",
    "# from y0.examples import identifiability_2\n",
    "from y0.algorithm.identify import Identification, identify\n",
    "from y0.dsl import X, Y\n",
    "from y0.graph import NxMixedGraph\n",
    "\n",
    "# from y0.algorithm.taheri_design import simplify_latent_dag\n",
    "# from IPython.display import Image, display"
   ]
  },
  {
   "cell_type": "markdown",
   "source": [
    "This is case study 2 in Figure 6 in this paper: Eliater: an analytical workflow and open source implementation for causal query estimation in biomolecular networks."
   ],
   "metadata": {
    "collapsed": false
   },
   "id": "5b60ed63441c5411"
  },
  {
   "cell_type": "code",
   "execution_count": null,
   "outputs": [],
   "source": [
    "graph = NxMixedGraph.from_str_edges(\n",
    "    directed=[\n",
    "        (\"SARS_COV2\", \"ACE2\"),\n",
    "        (\"ACE2\", \"Ang\"),\n",
    "        (\"Ang\", \"AGTR1\"),\n",
    "        (\"AGTR1\", \"ADAM17\"),\n",
    "        (\"ADAM17\", \"EGF\"),\n",
    "        (\"ADAM17\", \"TNF\"),\n",
    "        (\"ADAM17\", \"Sil6r\"),\n",
    "        (\"SARS_COV2\", \"PRR\"),\n",
    "        (\"PRR\", \"NFKB\"),\n",
    "        (\"EGFR\", \"NFKB\"),\n",
    "        (\"TNF\", \"NFKB\"),\n",
    "        (\"Sil6r\", \"IL6STAT3\"),\n",
    "        (\"Toci\", \"Sil6r\"),\n",
    "        (\"NFKB\", \"IL6AMP\"),\n",
    "        (\"IL6AMP\", \"cytok\"),\n",
    "        (\"IL6STAT3\", \"IL6AMP\"),\n",
    "        (\"EGF\", \"EGFR\"),\n",
    "        (\"Gefi\", \"EGFR\"),\n",
    "    ],\n",
    "    undirected=[\n",
    "        (\"SARS_COV2\", \"Ang\"),\n",
    "        (\"ADAM17\", \"Sil6r\"),\n",
    "        (\"PRR\", \"NFKB\"),\n",
    "        (\"EGF\", \"EGFR\"),\n",
    "        (\"EGFR\", \"TNF\"),\n",
    "        (\"EGFR\", \"IL6STAT3\"),\n",
    "    ],\n",
    ")"
   ],
   "metadata": {
    "collapsed": false
   },
   "id": "7ab5d32c79b7bf2"
  },
  {
   "cell_type": "code",
   "execution_count": null,
   "outputs": [],
   "source": [
    "# get the data"
   ],
   "metadata": {
    "collapsed": false
   },
   "id": "eb3a23add3bc3914"
  },
  {
   "cell_type": "markdown",
   "source": [
    "## Step 1: Verify correctness of the network structure"
   ],
   "metadata": {
    "collapsed": false
   },
   "id": "22de51a518ee7699"
  },
  {
   "cell_type": "code",
   "execution_count": null,
   "outputs": [],
   "source": [
    "conditional_independence_test_summary(graph, data, verbose=True)"
   ],
   "metadata": {
    "collapsed": false
   },
   "id": "e21efcf3940ffc5e"
  },
  {
   "cell_type": "markdown",
   "source": [
    "## Step 2: Check query identifiability"
   ],
   "metadata": {
    "collapsed": false
   },
   "id": "944520ca55c79b4b"
  },
  {
   "cell_type": "code",
   "execution_count": null,
   "outputs": [],
   "source": [],
   "metadata": {
    "collapsed": false
   },
   "id": "312262cc5301a42"
  },
  {
   "cell_type": "markdown",
   "source": [
    "## Step 3: Find nuisance variables and mark them as latent"
   ],
   "metadata": {
    "collapsed": false
   },
   "id": "e84ccc3bdc28f772"
  },
  {
   "cell_type": "code",
   "execution_count": null,
   "outputs": [],
   "source": [],
   "metadata": {
    "collapsed": false
   },
   "id": "fa27799f0ee4008"
  },
  {
   "cell_type": "markdown",
   "source": [
    "## Step 4: Simplify the network"
   ],
   "metadata": {
    "collapsed": false
   },
   "id": "6aa2819509255d89"
  },
  {
   "cell_type": "code",
   "execution_count": null,
   "outputs": [],
   "source": [],
   "metadata": {
    "collapsed": false
   },
   "id": "e6849ec627ee2b59"
  },
  {
   "cell_type": "markdown",
   "source": [
    "## Step 5: Estimate the query"
   ],
   "metadata": {
    "collapsed": false
   },
   "id": "b8e9dd961d1d459a"
  },
  {
   "cell_type": "code",
   "execution_count": null,
   "outputs": [],
   "source": [],
   "metadata": {
    "collapsed": false
   },
   "id": "55dad0af00a5d2d6"
  }
 ],
 "metadata": {
  "kernelspec": {
   "display_name": "Python 3",
   "language": "python",
   "name": "python3"
  },
  "language_info": {
   "codemirror_mode": {
    "name": "ipython",
    "version": 2
   },
   "file_extension": ".py",
   "mimetype": "text/x-python",
   "name": "python",
   "nbconvert_exporter": "python",
   "pygments_lexer": "ipython2",
   "version": "2.7.6"
  }
 },
 "nbformat": 4,
 "nbformat_minor": 5
}
