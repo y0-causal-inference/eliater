{
 "cells": [
  {
   "cell_type": "markdown",
   "source": [
    "# Motivating example: Figure 4"
   ],
   "metadata": {
    "collapsed": false
   },
   "id": "abc410d51568d48c"
  },
  {
   "cell_type": "code",
   "execution_count": 42,
   "id": "initial_id",
   "metadata": {
    "collapsed": true,
    "ExecuteTime": {
     "end_time": "2023-10-27T18:40:05.379932Z",
     "start_time": "2023-10-27T18:40:05.172042Z"
    }
   },
   "outputs": [],
   "source": [
    "import pandas as pd\n",
    "\n",
    "from eliater.network_validation import conditional_independence_test_summary\n",
    "\n",
    "# from y0.algorithm.taheri_design import simplify_latent_dag\n",
    "# from IPython.display import Image, display\n",
    "from src.eliater.frontdoor_backdoor_discrete import (\n",
    "    single_mediator_with_multiple_confounders_nuisances_discrete_example,\n",
    ")\n",
    "\n",
    "# from y0.examples import identifiability_2\n",
    "from y0.algorithm.identify import Identification, identify\n",
    "from y0.dsl import X, Y\n",
    "from y0.graph import NxMixedGraph"
   ]
  },
  {
   "cell_type": "markdown",
   "source": [
    "This is the motivating example in Figure 4 (a) in this paper: *Eliater: an analytical workflow and open source implementation for causal query\n",
    "estimation in biomolecular networks*. "
   ],
   "metadata": {
    "collapsed": false
   },
   "id": "bda3042434f63a26"
  },
  {
   "cell_type": "code",
   "execution_count": 43,
   "outputs": [],
   "source": [
    "graph = NxMixedGraph.from_str_edges(\n",
    "    directed=[\n",
    "        (\"Z1\", \"X\"),\n",
    "        (\"Z1\", \"Z2\"),\n",
    "        (\"Z2\", \"Z3\"),\n",
    "        (\"Z3\", \"Y\"),\n",
    "        (\"X\", \"M1\"),\n",
    "        (\"M1\", \"Y\"),\n",
    "        (\"M1\", \"R1\"),\n",
    "        (\"R1\", \"R2\"),\n",
    "        (\"R2\", \"R3\"),\n",
    "        (\"Y\", \"R3\"),\n",
    "    ],\n",
    "    undirected=[\n",
    "        # (\"Z1\", \"X\"),\n",
    "    ],\n",
    ")"
   ],
   "metadata": {
    "collapsed": false,
    "ExecuteTime": {
     "end_time": "2023-10-27T18:40:05.430392Z",
     "start_time": "2023-10-27T18:40:05.221052Z"
    }
   },
   "id": "5805a9bed9191161"
  },
  {
   "cell_type": "code",
   "execution_count": 44,
   "outputs": [],
   "source": [
    "data = single_mediator_with_multiple_confounders_nuisances_discrete_example.generate_data(500)"
   ],
   "metadata": {
    "collapsed": false,
    "ExecuteTime": {
     "end_time": "2023-10-27T18:40:05.445808Z",
     "start_time": "2023-10-27T18:40:05.230941Z"
    }
   },
   "id": "24a3d8b93b3804f2"
  },
  {
   "cell_type": "markdown",
   "source": [
    "## Step 1: Verify correctness of the network structure"
   ],
   "metadata": {
    "collapsed": false
   },
   "id": "7f8b8c77d0b42c3e"
  },
  {
   "cell_type": "code",
   "execution_count": null,
   "outputs": [],
   "source": [
    "#remove after branch is merged"
   ],
   "metadata": {
    "collapsed": false
   },
   "id": "651f4a6f2802c61e"
  },
  {
   "cell_type": "code",
   "execution_count": 44,
   "outputs": [],
   "source": [
    "conditional_independence_test_summary(graph, data, verbose=True)"
   ],
   "metadata": {
    "collapsed": false,
    "ExecuteTime": {
     "end_time": "2023-10-27T18:50:24.610129Z",
     "start_time": "2023-10-27T18:50:24.404870Z"
    }
   },
   "id": "4e3220a2c48cb9b4"
  },
  {
   "cell_type": "markdown",
   "source": [
    "## Step 2: Check query identifiability"
   ],
   "metadata": {
    "collapsed": false
   },
   "id": "4435aa5f3a8f55b9"
  },
  {
   "cell_type": "code",
   "execution_count": 44,
   "outputs": [],
   "source": [],
   "metadata": {
    "collapsed": false,
    "ExecuteTime": {
     "end_time": "2023-10-27T18:40:05.447626Z",
     "start_time": "2023-10-27T18:40:05.263722Z"
    }
   },
   "id": "6a1d0da707ca1d2f"
  },
  {
   "cell_type": "markdown",
   "source": [
    "## Step 3: Find nuisance variables and mark them as latent"
   ],
   "metadata": {
    "collapsed": false
   },
   "id": "2ed3073afbc7030a"
  },
  {
   "cell_type": "code",
   "execution_count": 44,
   "outputs": [],
   "source": [],
   "metadata": {
    "collapsed": false,
    "ExecuteTime": {
     "end_time": "2023-10-27T18:40:05.448275Z",
     "start_time": "2023-10-27T18:40:05.275912Z"
    }
   },
   "id": "f33b609ae0013a3b"
  },
  {
   "cell_type": "markdown",
   "source": [
    "## Step 4: Simplify the network"
   ],
   "metadata": {
    "collapsed": false
   },
   "id": "b86a9300fa3d3881"
  },
  {
   "cell_type": "code",
   "execution_count": null,
   "outputs": [],
   "source": [],
   "metadata": {
    "collapsed": false
   },
   "id": "e1d0f93c0d993112"
  },
  {
   "cell_type": "markdown",
   "source": [
    "## Step 5: Estimate the query"
   ],
   "metadata": {
    "collapsed": false
   },
   "id": "f1b8adaf922f3096"
  },
  {
   "cell_type": "markdown",
   "source": [],
   "metadata": {
    "collapsed": false
   },
   "id": "8c6ceff4beb8f921"
  }
 ],
 "metadata": {
  "kernelspec": {
   "display_name": "Python 3",
   "language": "python",
   "name": "python3"
  },
  "language_info": {
   "codemirror_mode": {
    "name": "ipython",
    "version": 2
   },
   "file_extension": ".py",
   "mimetype": "text/x-python",
   "name": "python",
   "nbconvert_exporter": "python",
   "pygments_lexer": "ipython2",
   "version": "2.7.6"
  }
 },
 "nbformat": 4,
 "nbformat_minor": 5
}
