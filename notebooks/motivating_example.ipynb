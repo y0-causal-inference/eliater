{
 "cells": [
  {
   "cell_type": "markdown",
   "id": "abc410d51568d48c",
   "metadata": {
    "collapsed": false,
    "jupyter": {
     "outputs_hidden": false
    }
   },
   "source": [
    "# Motivating example: Figure 4"
   ]
  },
  {
   "cell_type": "markdown",
   "id": "bda3042434f63a26",
   "metadata": {
    "ExecuteTime": {
     "end_time": "2024-01-24T14:14:35.688819Z",
     "start_time": "2024-01-24T14:14:12.013700Z"
    },
    "collapsed": false,
    "jupyter": {
     "outputs_hidden": false
    }
   },
   "source": [
    "Figure below is the motivating example in this paper: *Eliater: an open source software for causal query estimation from observational measurements of biomolecular networks*. This graph contains one mediator $M_1$ that connects the exposure $X$ to the outcome $Y$."
   ]
  },
  {
   "cell_type": "code",
   "execution_count": 1,
   "id": "facb9759-b850-4761-aa29-2bccb6db067f",
   "metadata": {
    "ExecuteTime": {
     "end_time": "2024-01-25T14:36:20.247079Z",
     "start_time": "2024-01-25T14:36:20.226708Z"
    },
    "collapsed": false,
    "jupyter": {
     "outputs_hidden": false
    }
   },
   "outputs": [
    {
     "data": {
      "text/html": [
       "<div>\n",
       "<style scoped>\n",
       "    .dataframe tbody tr th:only-of-type {\n",
       "        vertical-align: middle;\n",
       "    }\n",
       "\n",
       "    .dataframe tbody tr th {\n",
       "        vertical-align: top;\n",
       "    }\n",
       "\n",
       "    .dataframe thead th {\n",
       "        text-align: right;\n",
       "    }\n",
       "</style>\n",
       "<table border=\"1\" class=\"dataframe\">\n",
       "  <thead>\n",
       "    <tr style=\"text-align: right;\">\n",
       "      <th></th>\n",
       "      <th>key</th>\n",
       "      <th>value</th>\n",
       "    </tr>\n",
       "  </thead>\n",
       "  <tbody>\n",
       "    <tr>\n",
       "      <th>0</th>\n",
       "      <td>eliater</td>\n",
       "      <td>0.0.1-dev-261a89cc</td>\n",
       "    </tr>\n",
       "    <tr>\n",
       "      <th>1</th>\n",
       "      <td>y0</td>\n",
       "      <td>0.2.7-UNHASHED</td>\n",
       "    </tr>\n",
       "    <tr>\n",
       "      <th>2</th>\n",
       "      <td>Run at</td>\n",
       "      <td>2024-01-26 08:50:35</td>\n",
       "    </tr>\n",
       "  </tbody>\n",
       "</table>\n",
       "</div>"
      ],
      "text/plain": [
       "       key                value\n",
       "0  eliater   0.0.1-dev-261a89cc\n",
       "1       y0       0.2.7-UNHASHED\n",
       "2   Run at  2024-01-26 08:50:35"
      ]
     },
     "execution_count": 1,
     "metadata": {},
     "output_type": "execute_result"
    }
   ],
   "source": [
    "import matplotlib.pyplot as plt\n",
    "import numpy as np\n",
    "import pandas as pd\n",
    "import seaborn as sns\n",
    "from tqdm.auto import tqdm, trange\n",
    "\n",
    "from eliater import add_ci_undirected_edges, remove_nuisance_variables, version_df, workflow\n",
    "from eliater.discover_latent_nodes import find_nuisance_variables, mark_nuisance_variables_as_latent\n",
    "from eliater.frontdoor_backdoor import single_mediator_confounders_nuisance_vars_example as example\n",
    "from eliater.network_validation import print_graph_falsifications\n",
    "\n",
    "# from eliater.examples.frontdoor_backdoor_discrete import (\n",
    "#     single_mediator_with_multiple_confounders_nuisances_discrete_example as example,\n",
    "# )\n",
    "from eliater.regression import estimate_query\n",
    "from y0.algorithm.estimation import estimate_ace\n",
    "from y0.algorithm.identify import identify_outcomes\n",
    "from y0.dsl import P, Variable, X, Y\n",
    "\n",
    "version_df()"
   ]
  },
  {
   "cell_type": "code",
   "execution_count": 2,
   "id": "fdbbb790-024a-4c43-bf13-ab19886233a1",
   "metadata": {
    "ExecuteTime": {
     "end_time": "2024-01-25T14:36:20.288019Z",
     "start_time": "2024-01-25T14:36:20.247677Z"
    },
    "collapsed": false,
    "jupyter": {
     "outputs_hidden": false
    }
   },
   "outputs": [],
   "source": [
    "SEED = 500"
   ]
  },
  {
   "cell_type": "code",
   "execution_count": 3,
   "id": "5805a9bed9191161",
   "metadata": {
    "ExecuteTime": {
     "end_time": "2024-01-25T14:36:20.710623Z",
     "start_time": "2024-01-25T14:36:20.278798Z"
    },
    "collapsed": false,
    "jupyter": {
     "outputs_hidden": false
    }
   },
   "outputs": [
    {
     "data": {
      "image/png": "[encoded data removed]",
      "text/plain": [
       "<Figure size 640x480 with 1 Axes>"
      ]
     },
     "metadata": {},
     "output_type": "display_data"
    }
   ],
   "source": [
    "graph = example.graph\n",
    "graph.draw()"
   ]
  },
  {
   "cell_type": "code",
   "execution_count": 4,
   "id": "24a3d8b93b3804f2",
   "metadata": {
    "ExecuteTime": {
     "end_time": "2024-01-25T14:36:20.788363Z",
     "start_time": "2024-01-25T14:36:20.707878Z"
    },
    "collapsed": false,
    "jupyter": {
     "outputs_hidden": false
    }
   },
   "outputs": [
    {
     "data": {
      "text/html": [
       "<div>\n",
       "<style scoped>\n",
       "    .dataframe tbody tr th:only-of-type {\n",
       "        vertical-align: middle;\n",
       "    }\n",
       "\n",
       "    .dataframe tbody tr th {\n",
       "        vertical-align: top;\n",
       "    }\n",
       "\n",
       "    .dataframe thead th {\n",
       "        text-align: right;\n",
       "    }\n",
       "</style>\n",
       "<table border=\"1\" class=\"dataframe\">\n",
       "  <thead>\n",
       "    <tr style=\"text-align: right;\">\n",
       "      <th></th>\n",
       "      <th>X</th>\n",
       "      <th>M1</th>\n",
       "      <th>Z1</th>\n",
       "      <th>Z2</th>\n",
       "      <th>Z3</th>\n",
       "      <th>R1</th>\n",
       "      <th>R2</th>\n",
       "      <th>R3</th>\n",
       "      <th>Y</th>\n",
       "    </tr>\n",
       "  </thead>\n",
       "  <tbody>\n",
       "    <tr>\n",
       "      <th>0</th>\n",
       "      <td>1</td>\n",
       "      <td>2.934394</td>\n",
       "      <td>56.979352</td>\n",
       "      <td>22.616432</td>\n",
       "      <td>17.600963</td>\n",
       "      <td>12.276276</td>\n",
       "      <td>5.073340</td>\n",
       "      <td>-2.903520</td>\n",
       "      <td>-2.629445</td>\n",
       "    </tr>\n",
       "    <tr>\n",
       "      <th>1</th>\n",
       "      <td>1</td>\n",
       "      <td>2.398253</td>\n",
       "      <td>41.325372</td>\n",
       "      <td>17.927938</td>\n",
       "      <td>17.815860</td>\n",
       "      <td>-2.461589</td>\n",
       "      <td>-3.001966</td>\n",
       "      <td>2.744132</td>\n",
       "      <td>4.287597</td>\n",
       "    </tr>\n",
       "    <tr>\n",
       "      <th>2</th>\n",
       "      <td>1</td>\n",
       "      <td>0.170075</td>\n",
       "      <td>47.119159</td>\n",
       "      <td>16.477906</td>\n",
       "      <td>15.465666</td>\n",
       "      <td>-4.784189</td>\n",
       "      <td>-4.581674</td>\n",
       "      <td>-10.634326</td>\n",
       "      <td>1.548849</td>\n",
       "    </tr>\n",
       "    <tr>\n",
       "      <th>3</th>\n",
       "      <td>1</td>\n",
       "      <td>2.285580</td>\n",
       "      <td>56.267263</td>\n",
       "      <td>12.351119</td>\n",
       "      <td>11.600543</td>\n",
       "      <td>0.731370</td>\n",
       "      <td>-1.331269</td>\n",
       "      <td>8.751081</td>\n",
       "      <td>26.297357</td>\n",
       "    </tr>\n",
       "    <tr>\n",
       "      <th>4</th>\n",
       "      <td>1</td>\n",
       "      <td>-6.300323</td>\n",
       "      <td>69.431847</td>\n",
       "      <td>20.250730</td>\n",
       "      <td>14.255859</td>\n",
       "      <td>-6.614901</td>\n",
       "      <td>-6.511525</td>\n",
       "      <td>0.235470</td>\n",
       "      <td>18.188091</td>\n",
       "    </tr>\n",
       "  </tbody>\n",
       "</table>\n",
       "</div>"
      ],
      "text/plain": [
       "   X        M1         Z1         Z2         Z3         R1        R2  \\\n",
       "0  1  2.934394  56.979352  22.616432  17.600963  12.276276  5.073340   \n",
       "1  1  2.398253  41.325372  17.927938  17.815860  -2.461589 -3.001966   \n",
       "2  1  0.170075  47.119159  16.477906  15.465666  -4.784189 -4.581674   \n",
       "3  1  2.285580  56.267263  12.351119  11.600543   0.731370 -1.331269   \n",
       "4  1 -6.300323  69.431847  20.250730  14.255859  -6.614901 -6.511525   \n",
       "\n",
       "          R3          Y  \n",
       "0  -2.903520  -2.629445  \n",
       "1   2.744132   4.287597  \n",
       "2 -10.634326   1.548849  \n",
       "3   8.751081  26.297357  \n",
       "4   0.235470  18.188091  "
      ]
     },
     "execution_count": 4,
     "metadata": {},
     "output_type": "execute_result"
    }
   ],
   "source": [
    "data = example.generate_data(num_samples=1000, seed=SEED)\n",
    "data.head()"
   ]
  },
  {
   "cell_type": "code",
   "execution_count": 5,
   "id": "3a6dee4a6538252a",
   "metadata": {
    "ExecuteTime": {
     "end_time": "2024-01-25T14:36:20.791932Z",
     "start_time": "2024-01-25T14:36:20.752418Z"
    },
    "collapsed": false,
    "jupyter": {
     "outputs_hidden": false
    }
   },
   "outputs": [
    {
     "data": {
      "text/plain": [
       "0.862"
      ]
     },
     "execution_count": 5,
     "metadata": {},
     "output_type": "execute_result"
    }
   ],
   "source": [
    "data[\"X\"].mean()"
   ]
  },
  {
   "cell_type": "markdown",
   "id": "7f8b8c77d0b42c3e",
   "metadata": {
    "ExecuteTime": {
     "end_time": "2024-01-24T14:19:55.437699Z",
     "start_time": "2024-01-24T14:19:55.392013Z"
    },
    "collapsed": false,
    "jupyter": {
     "outputs_hidden": false
    }
   },
   "source": [
    "## Step 1: Verify correctness of the network structure"
   ]
  },
  {
   "cell_type": "code",
   "execution_count": 6,
   "id": "6f30a2b1053ff61",
   "metadata": {
    "ExecuteTime": {
     "end_time": "2024-01-25T14:36:21.009690Z",
     "start_time": "2024-01-25T14:36:20.783432Z"
    },
    "collapsed": false,
    "jupyter": {
     "outputs_hidden": false
    }
   },
   "outputs": [],
   "source": [
    "from sklearn.preprocessing import KBinsDiscretizer\n",
    "\n",
    "# discretization transform the raw data\n",
    "kbins = KBinsDiscretizer(n_bins=2, encode=\"ordinal\", strategy=\"uniform\")\n",
    "data_trans = kbins.fit_transform(data)\n",
    "data_trans = pd.DataFrame(data_trans, columns=data.columns)"
   ]
  },
  {
   "cell_type": "code",
   "execution_count": 7,
   "id": "75ef03bcc109b95a",
   "metadata": {
    "ExecuteTime": {
     "end_time": "2024-01-25T14:36:21.094360Z",
     "start_time": "2024-01-25T14:36:20.829501Z"
    },
    "collapsed": false,
    "jupyter": {
     "outputs_hidden": false
    }
   },
   "outputs": [
    {
     "data": {
      "text/html": [
       "<div>\n",
       "<style scoped>\n",
       "    .dataframe tbody tr th:only-of-type {\n",
       "        vertical-align: middle;\n",
       "    }\n",
       "\n",
       "    .dataframe tbody tr th {\n",
       "        vertical-align: top;\n",
       "    }\n",
       "\n",
       "    .dataframe thead th {\n",
       "        text-align: right;\n",
       "    }\n",
       "</style>\n",
       "<table border=\"1\" class=\"dataframe\">\n",
       "  <thead>\n",
       "    <tr style=\"text-align: right;\">\n",
       "      <th></th>\n",
       "      <th>X</th>\n",
       "      <th>M1</th>\n",
       "      <th>Z1</th>\n",
       "      <th>Z2</th>\n",
       "      <th>Z3</th>\n",
       "      <th>R1</th>\n",
       "      <th>R2</th>\n",
       "      <th>R3</th>\n",
       "      <th>Y</th>\n",
       "    </tr>\n",
       "  </thead>\n",
       "  <tbody>\n",
       "    <tr>\n",
       "      <th>0</th>\n",
       "      <td>1.0</td>\n",
       "      <td>1.0</td>\n",
       "      <td>1.0</td>\n",
       "      <td>1.0</td>\n",
       "      <td>1.0</td>\n",
       "      <td>1.0</td>\n",
       "      <td>1.0</td>\n",
       "      <td>0.0</td>\n",
       "      <td>0.0</td>\n",
       "    </tr>\n",
       "    <tr>\n",
       "      <th>1</th>\n",
       "      <td>1.0</td>\n",
       "      <td>1.0</td>\n",
       "      <td>0.0</td>\n",
       "      <td>0.0</td>\n",
       "      <td>1.0</td>\n",
       "      <td>0.0</td>\n",
       "      <td>0.0</td>\n",
       "      <td>1.0</td>\n",
       "      <td>0.0</td>\n",
       "    </tr>\n",
       "    <tr>\n",
       "      <th>2</th>\n",
       "      <td>1.0</td>\n",
       "      <td>0.0</td>\n",
       "      <td>0.0</td>\n",
       "      <td>0.0</td>\n",
       "      <td>1.0</td>\n",
       "      <td>0.0</td>\n",
       "      <td>0.0</td>\n",
       "      <td>0.0</td>\n",
       "      <td>0.0</td>\n",
       "    </tr>\n",
       "    <tr>\n",
       "      <th>3</th>\n",
       "      <td>1.0</td>\n",
       "      <td>1.0</td>\n",
       "      <td>1.0</td>\n",
       "      <td>0.0</td>\n",
       "      <td>0.0</td>\n",
       "      <td>1.0</td>\n",
       "      <td>1.0</td>\n",
       "      <td>1.0</td>\n",
       "      <td>1.0</td>\n",
       "    </tr>\n",
       "    <tr>\n",
       "      <th>4</th>\n",
       "      <td>1.0</td>\n",
       "      <td>0.0</td>\n",
       "      <td>1.0</td>\n",
       "      <td>1.0</td>\n",
       "      <td>0.0</td>\n",
       "      <td>0.0</td>\n",
       "      <td>0.0</td>\n",
       "      <td>1.0</td>\n",
       "      <td>1.0</td>\n",
       "    </tr>\n",
       "    <tr>\n",
       "      <th>...</th>\n",
       "      <td>...</td>\n",
       "      <td>...</td>\n",
       "      <td>...</td>\n",
       "      <td>...</td>\n",
       "      <td>...</td>\n",
       "      <td>...</td>\n",
       "      <td>...</td>\n",
       "      <td>...</td>\n",
       "      <td>...</td>\n",
       "    </tr>\n",
       "    <tr>\n",
       "      <th>995</th>\n",
       "      <td>1.0</td>\n",
       "      <td>1.0</td>\n",
       "      <td>0.0</td>\n",
       "      <td>0.0</td>\n",
       "      <td>0.0</td>\n",
       "      <td>0.0</td>\n",
       "      <td>0.0</td>\n",
       "      <td>0.0</td>\n",
       "      <td>0.0</td>\n",
       "    </tr>\n",
       "    <tr>\n",
       "      <th>996</th>\n",
       "      <td>1.0</td>\n",
       "      <td>1.0</td>\n",
       "      <td>1.0</td>\n",
       "      <td>0.0</td>\n",
       "      <td>0.0</td>\n",
       "      <td>1.0</td>\n",
       "      <td>0.0</td>\n",
       "      <td>1.0</td>\n",
       "      <td>1.0</td>\n",
       "    </tr>\n",
       "    <tr>\n",
       "      <th>997</th>\n",
       "      <td>1.0</td>\n",
       "      <td>1.0</td>\n",
       "      <td>1.0</td>\n",
       "      <td>0.0</td>\n",
       "      <td>1.0</td>\n",
       "      <td>0.0</td>\n",
       "      <td>0.0</td>\n",
       "      <td>1.0</td>\n",
       "      <td>1.0</td>\n",
       "    </tr>\n",
       "    <tr>\n",
       "      <th>998</th>\n",
       "      <td>1.0</td>\n",
       "      <td>1.0</td>\n",
       "      <td>1.0</td>\n",
       "      <td>1.0</td>\n",
       "      <td>0.0</td>\n",
       "      <td>0.0</td>\n",
       "      <td>0.0</td>\n",
       "      <td>0.0</td>\n",
       "      <td>0.0</td>\n",
       "    </tr>\n",
       "    <tr>\n",
       "      <th>999</th>\n",
       "      <td>1.0</td>\n",
       "      <td>1.0</td>\n",
       "      <td>0.0</td>\n",
       "      <td>1.0</td>\n",
       "      <td>1.0</td>\n",
       "      <td>1.0</td>\n",
       "      <td>0.0</td>\n",
       "      <td>0.0</td>\n",
       "      <td>1.0</td>\n",
       "    </tr>\n",
       "  </tbody>\n",
       "</table>\n",
       "<p>1000 rows × 9 columns</p>\n",
       "</div>"
      ],
      "text/plain": [
       "       X   M1   Z1   Z2   Z3   R1   R2   R3    Y\n",
       "0    1.0  1.0  1.0  1.0  1.0  1.0  1.0  0.0  0.0\n",
       "1    1.0  1.0  0.0  0.0  1.0  0.0  0.0  1.0  0.0\n",
       "2    1.0  0.0  0.0  0.0  1.0  0.0  0.0  0.0  0.0\n",
       "3    1.0  1.0  1.0  0.0  0.0  1.0  1.0  1.0  1.0\n",
       "4    1.0  0.0  1.0  1.0  0.0  0.0  0.0  1.0  1.0\n",
       "..   ...  ...  ...  ...  ...  ...  ...  ...  ...\n",
       "995  1.0  1.0  0.0  0.0  0.0  0.0  0.0  0.0  0.0\n",
       "996  1.0  1.0  1.0  0.0  0.0  1.0  0.0  1.0  1.0\n",
       "997  1.0  1.0  1.0  0.0  1.0  0.0  0.0  1.0  1.0\n",
       "998  1.0  1.0  1.0  1.0  0.0  0.0  0.0  0.0  0.0\n",
       "999  1.0  1.0  0.0  1.0  1.0  1.0  0.0  0.0  1.0\n",
       "\n",
       "[1000 rows x 9 columns]"
      ]
     },
     "execution_count": 7,
     "metadata": {},
     "output_type": "execute_result"
    }
   ],
   "source": [
    "data_trans"
   ]
  },
  {
   "cell_type": "code",
   "execution_count": 8,
   "id": "4e3220a2c48cb9b4",
   "metadata": {
    "ExecuteTime": {
     "end_time": "2024-01-25T14:36:23.142139Z",
     "start_time": "2024-01-25T14:36:20.906764Z"
    },
    "collapsed": false,
    "jupyter": {
     "outputs_hidden": false
    }
   },
   "outputs": [
    {
     "name": "stdout",
     "output_type": "stream",
     "text": [
      "Of the 26 d-separations implied by the network's structure, only 1(3.85%) rejected the null hypothesis at p<0.01.\n",
      "\n",
      "Since this is less than 30%, Eliater considers this minor and leaves the network unmodified.]\n",
      "\n",
      "Finished in 0.31 seconds.\n",
      "\n"
     ]
    },
    {
     "data": {
      "text/html": [
       "<div>\n",
       "<style scoped>\n",
       "    .dataframe tbody tr th:only-of-type {\n",
       "        vertical-align: middle;\n",
       "    }\n",
       "\n",
       "    .dataframe tbody tr th {\n",
       "        vertical-align: top;\n",
       "    }\n",
       "\n",
       "    .dataframe thead th {\n",
       "        text-align: right;\n",
       "    }\n",
       "</style>\n",
       "<table border=\"1\" class=\"dataframe\">\n",
       "  <thead>\n",
       "    <tr style=\"text-align: right;\">\n",
       "      <th></th>\n",
       "      <th>left</th>\n",
       "      <th>right</th>\n",
       "      <th>given</th>\n",
       "      <th>stats</th>\n",
       "      <th>p</th>\n",
       "      <th>dof</th>\n",
       "      <th>p_adj</th>\n",
       "      <th>p_adj_significant</th>\n",
       "    </tr>\n",
       "  </thead>\n",
       "  <tbody>\n",
       "    <tr>\n",
       "      <th>0</th>\n",
       "      <td>R1</td>\n",
       "      <td>R3</td>\n",
       "      <td>R2|Y</td>\n",
       "      <td>30.915398</td>\n",
       "      <td>0.000003</td>\n",
       "      <td>4</td>\n",
       "      <td>0.000083</td>\n",
       "      <td>True</td>\n",
       "    </tr>\n",
       "    <tr>\n",
       "      <th>1</th>\n",
       "      <td>Z1</td>\n",
       "      <td>Z3</td>\n",
       "      <td>Z2</td>\n",
       "      <td>9.646506</td>\n",
       "      <td>0.008041</td>\n",
       "      <td>2</td>\n",
       "      <td>0.201015</td>\n",
       "      <td>False</td>\n",
       "    </tr>\n",
       "    <tr>\n",
       "      <th>2</th>\n",
       "      <td>R3</td>\n",
       "      <td>X</td>\n",
       "      <td>R2|Y</td>\n",
       "      <td>2.430030</td>\n",
       "      <td>0.657207</td>\n",
       "      <td>4</td>\n",
       "      <td>1.000000</td>\n",
       "      <td>False</td>\n",
       "    </tr>\n",
       "    <tr>\n",
       "      <th>3</th>\n",
       "      <td>X</td>\n",
       "      <td>Z2</td>\n",
       "      <td>Z1</td>\n",
       "      <td>0.771982</td>\n",
       "      <td>0.679777</td>\n",
       "      <td>2</td>\n",
       "      <td>1.000000</td>\n",
       "      <td>False</td>\n",
       "    </tr>\n",
       "    <tr>\n",
       "      <th>4</th>\n",
       "      <td>R2</td>\n",
       "      <td>Z1</td>\n",
       "      <td>X</td>\n",
       "      <td>2.994924</td>\n",
       "      <td>0.223697</td>\n",
       "      <td>2</td>\n",
       "      <td>1.000000</td>\n",
       "      <td>False</td>\n",
       "    </tr>\n",
       "    <tr>\n",
       "      <th>5</th>\n",
       "      <td>R3</td>\n",
       "      <td>Z2</td>\n",
       "      <td>R2|Y</td>\n",
       "      <td>2.677977</td>\n",
       "      <td>0.613074</td>\n",
       "      <td>4</td>\n",
       "      <td>1.000000</td>\n",
       "      <td>False</td>\n",
       "    </tr>\n",
       "    <tr>\n",
       "      <th>6</th>\n",
       "      <td>R3</td>\n",
       "      <td>Z1</td>\n",
       "      <td>R2|Y</td>\n",
       "      <td>5.641139</td>\n",
       "      <td>0.227599</td>\n",
       "      <td>4</td>\n",
       "      <td>1.000000</td>\n",
       "      <td>False</td>\n",
       "    </tr>\n",
       "    <tr>\n",
       "      <th>7</th>\n",
       "      <td>M1</td>\n",
       "      <td>Z2</td>\n",
       "      <td>Z1</td>\n",
       "      <td>0.087005</td>\n",
       "      <td>0.957430</td>\n",
       "      <td>2</td>\n",
       "      <td>1.000000</td>\n",
       "      <td>False</td>\n",
       "    </tr>\n",
       "    <tr>\n",
       "      <th>8</th>\n",
       "      <td>M1</td>\n",
       "      <td>Z1</td>\n",
       "      <td>X</td>\n",
       "      <td>5.765985</td>\n",
       "      <td>0.055967</td>\n",
       "      <td>2</td>\n",
       "      <td>1.000000</td>\n",
       "      <td>False</td>\n",
       "    </tr>\n",
       "    <tr>\n",
       "      <th>9</th>\n",
       "      <td>R1</td>\n",
       "      <td>Z3</td>\n",
       "      <td>Z2</td>\n",
       "      <td>0.345576</td>\n",
       "      <td>0.841316</td>\n",
       "      <td>2</td>\n",
       "      <td>1.000000</td>\n",
       "      <td>False</td>\n",
       "    </tr>\n",
       "    <tr>\n",
       "      <th>10</th>\n",
       "      <td>Y</td>\n",
       "      <td>Z1</td>\n",
       "      <td>X|Z2</td>\n",
       "      <td>4.006201</td>\n",
       "      <td>0.405167</td>\n",
       "      <td>4</td>\n",
       "      <td>1.000000</td>\n",
       "      <td>False</td>\n",
       "    </tr>\n",
       "    <tr>\n",
       "      <th>11</th>\n",
       "      <td>R1</td>\n",
       "      <td>Z2</td>\n",
       "      <td>Z1</td>\n",
       "      <td>2.326265</td>\n",
       "      <td>0.312506</td>\n",
       "      <td>2</td>\n",
       "      <td>1.000000</td>\n",
       "      <td>False</td>\n",
       "    </tr>\n",
       "    <tr>\n",
       "      <th>12</th>\n",
       "      <td>X</td>\n",
       "      <td>Y</td>\n",
       "      <td>M1|Z2</td>\n",
       "      <td>9.170047</td>\n",
       "      <td>0.056987</td>\n",
       "      <td>4</td>\n",
       "      <td>1.000000</td>\n",
       "      <td>False</td>\n",
       "    </tr>\n",
       "    <tr>\n",
       "      <th>13</th>\n",
       "      <td>R3</td>\n",
       "      <td>Z3</td>\n",
       "      <td>R2|Y</td>\n",
       "      <td>4.481456</td>\n",
       "      <td>0.344752</td>\n",
       "      <td>4</td>\n",
       "      <td>1.000000</td>\n",
       "      <td>False</td>\n",
       "    </tr>\n",
       "    <tr>\n",
       "      <th>14</th>\n",
       "      <td>R1</td>\n",
       "      <td>Y</td>\n",
       "      <td>M1</td>\n",
       "      <td>2.001399</td>\n",
       "      <td>0.367622</td>\n",
       "      <td>2</td>\n",
       "      <td>1.000000</td>\n",
       "      <td>False</td>\n",
       "    </tr>\n",
       "    <tr>\n",
       "      <th>15</th>\n",
       "      <td>R2</td>\n",
       "      <td>Y</td>\n",
       "      <td>R1</td>\n",
       "      <td>1.083802</td>\n",
       "      <td>0.581642</td>\n",
       "      <td>2</td>\n",
       "      <td>1.000000</td>\n",
       "      <td>False</td>\n",
       "    </tr>\n",
       "    <tr>\n",
       "      <th>16</th>\n",
       "      <td>R2</td>\n",
       "      <td>X</td>\n",
       "      <td>R1</td>\n",
       "      <td>1.204575</td>\n",
       "      <td>0.547558</td>\n",
       "      <td>2</td>\n",
       "      <td>1.000000</td>\n",
       "      <td>False</td>\n",
       "    </tr>\n",
       "    <tr>\n",
       "      <th>17</th>\n",
       "      <td>R1</td>\n",
       "      <td>Z1</td>\n",
       "      <td>X</td>\n",
       "      <td>4.207389</td>\n",
       "      <td>0.122005</td>\n",
       "      <td>2</td>\n",
       "      <td>1.000000</td>\n",
       "      <td>False</td>\n",
       "    </tr>\n",
       "    <tr>\n",
       "      <th>18</th>\n",
       "      <td>R2</td>\n",
       "      <td>Z3</td>\n",
       "      <td>Z2</td>\n",
       "      <td>0.534283</td>\n",
       "      <td>0.765565</td>\n",
       "      <td>2</td>\n",
       "      <td>1.000000</td>\n",
       "      <td>False</td>\n",
       "    </tr>\n",
       "    <tr>\n",
       "      <th>19</th>\n",
       "      <td>Y</td>\n",
       "      <td>Z2</td>\n",
       "      <td>Z1|Z3</td>\n",
       "      <td>1.092994</td>\n",
       "      <td>0.895382</td>\n",
       "      <td>4</td>\n",
       "      <td>1.000000</td>\n",
       "      <td>False</td>\n",
       "    </tr>\n",
       "    <tr>\n",
       "      <th>20</th>\n",
       "      <td>R2</td>\n",
       "      <td>Z2</td>\n",
       "      <td>Z1</td>\n",
       "      <td>0.630084</td>\n",
       "      <td>0.729758</td>\n",
       "      <td>2</td>\n",
       "      <td>1.000000</td>\n",
       "      <td>False</td>\n",
       "    </tr>\n",
       "    <tr>\n",
       "      <th>21</th>\n",
       "      <td>X</td>\n",
       "      <td>Z3</td>\n",
       "      <td>Z2</td>\n",
       "      <td>0.411271</td>\n",
       "      <td>0.814130</td>\n",
       "      <td>2</td>\n",
       "      <td>1.000000</td>\n",
       "      <td>False</td>\n",
       "    </tr>\n",
       "    <tr>\n",
       "      <th>22</th>\n",
       "      <td>M1</td>\n",
       "      <td>R3</td>\n",
       "      <td>R2|Y</td>\n",
       "      <td>9.764665</td>\n",
       "      <td>0.044584</td>\n",
       "      <td>4</td>\n",
       "      <td>1.000000</td>\n",
       "      <td>False</td>\n",
       "    </tr>\n",
       "    <tr>\n",
       "      <th>23</th>\n",
       "      <td>M1</td>\n",
       "      <td>R2</td>\n",
       "      <td>R1</td>\n",
       "      <td>4.138184</td>\n",
       "      <td>0.126300</td>\n",
       "      <td>2</td>\n",
       "      <td>1.000000</td>\n",
       "      <td>False</td>\n",
       "    </tr>\n",
       "    <tr>\n",
       "      <th>24</th>\n",
       "      <td>M1</td>\n",
       "      <td>Z3</td>\n",
       "      <td>Z2</td>\n",
       "      <td>0.532446</td>\n",
       "      <td>0.766268</td>\n",
       "      <td>2</td>\n",
       "      <td>1.000000</td>\n",
       "      <td>False</td>\n",
       "    </tr>\n",
       "    <tr>\n",
       "      <th>25</th>\n",
       "      <td>R1</td>\n",
       "      <td>X</td>\n",
       "      <td>M1</td>\n",
       "      <td>1.280539</td>\n",
       "      <td>0.527150</td>\n",
       "      <td>2</td>\n",
       "      <td>1.000000</td>\n",
       "      <td>False</td>\n",
       "    </tr>\n",
       "  </tbody>\n",
       "</table>\n",
       "</div>"
      ],
      "text/plain": [
       "   left right  given      stats         p  dof     p_adj  p_adj_significant\n",
       "0    R1    R3   R2|Y  30.915398  0.000003    4  0.000083               True\n",
       "1    Z1    Z3     Z2   9.646506  0.008041    2  0.201015              False\n",
       "2    R3     X   R2|Y   2.430030  0.657207    4  1.000000              False\n",
       "3     X    Z2     Z1   0.771982  0.679777    2  1.000000              False\n",
       "4    R2    Z1      X   2.994924  0.223697    2  1.000000              False\n",
       "5    R3    Z2   R2|Y   2.677977  0.613074    4  1.000000              False\n",
       "6    R3    Z1   R2|Y   5.641139  0.227599    4  1.000000              False\n",
       "7    M1    Z2     Z1   0.087005  0.957430    2  1.000000              False\n",
       "8    M1    Z1      X   5.765985  0.055967    2  1.000000              False\n",
       "9    R1    Z3     Z2   0.345576  0.841316    2  1.000000              False\n",
       "10    Y    Z1   X|Z2   4.006201  0.405167    4  1.000000              False\n",
       "11   R1    Z2     Z1   2.326265  0.312506    2  1.000000              False\n",
       "12    X     Y  M1|Z2   9.170047  0.056987    4  1.000000              False\n",
       "13   R3    Z3   R2|Y   4.481456  0.344752    4  1.000000              False\n",
       "14   R1     Y     M1   2.001399  0.367622    2  1.000000              False\n",
       "15   R2     Y     R1   1.083802  0.581642    2  1.000000              False\n",
       "16   R2     X     R1   1.204575  0.547558    2  1.000000              False\n",
       "17   R1    Z1      X   4.207389  0.122005    2  1.000000              False\n",
       "18   R2    Z3     Z2   0.534283  0.765565    2  1.000000              False\n",
       "19    Y    Z2  Z1|Z3   1.092994  0.895382    4  1.000000              False\n",
       "20   R2    Z2     Z1   0.630084  0.729758    2  1.000000              False\n",
       "21    X    Z3     Z2   0.411271  0.814130    2  1.000000              False\n",
       "22   M1    R3   R2|Y   9.764665  0.044584    4  1.000000              False\n",
       "23   M1    R2     R1   4.138184  0.126300    2  1.000000              False\n",
       "24   M1    Z3     Z2   0.532446  0.766268    2  1.000000              False\n",
       "25   R1     X     M1   1.280539  0.527150    2  1.000000              False"
      ]
     },
     "execution_count": 8,
     "metadata": {},
     "output_type": "execute_result"
    }
   ],
   "source": [
    "# print_graph_falsifications(graph, data, method=\"chi-square\", verbose=True, significance_level=0.01)\n",
    "print_graph_falsifications(\n",
    "    graph, data_trans, method=\"chi-square\", verbose=True, significance_level=0.01\n",
    ")"
   ]
  },
  {
   "cell_type": "markdown",
   "id": "8b40df88c10664e3",
   "metadata": {
    "collapsed": false,
    "jupyter": {
     "outputs_hidden": false
    }
   },
   "source": [
    "All the d-separations implied by the network are validated by the data. No test failed. Hence, we can proceed to step 2."
   ]
  },
  {
   "cell_type": "markdown",
   "id": "4435aa5f3a8f55b9",
   "metadata": {
    "collapsed": false,
    "jupyter": {
     "outputs_hidden": false
    }
   },
   "source": [
    "## Step 2: Check query identifiability\n",
    "\n",
    "The causal query of interest is the average treatment effect of $X$ on $Y$, defined as:\n",
    "$E[Y|do(X=1)] - E[Y|do(X=0)]$."
   ]
  },
  {
   "cell_type": "code",
   "execution_count": 9,
   "id": "6a1d0da707ca1d2f",
   "metadata": {
    "ExecuteTime": {
     "end_time": "2024-01-25T14:36:23.240315Z",
     "start_time": "2024-01-25T14:36:23.157745Z"
    },
    "collapsed": false,
    "jupyter": {
     "outputs_hidden": false
    }
   },
   "outputs": [
    {
     "data": {
      "text/latex": [
       "$\\sum\\limits_{M_1, Z_1, Z_2, Z_3} P(M_1 | X, Z_1) P(Y | M_1, X, Z_1, Z_2, Z_3) P(Z_2 | Z_1) P(Z_3 | Z_1, Z_2) \\sum\\limits_{M_1, X, Y, Z_2, Z_3} \\sum\\limits_{R_1, R_2, R_3} P(M_1, R_1, R_2, R_3, X, Y, Z_1, Z_2, Z_3)$"
      ],
      "text/plain": [
       "Sum[M1, Z1, Z2, Z3](P(M1 | X, Z1) * P(Y | M1, X, Z1, Z2, Z3) * P(Z2 | Z1) * P(Z3 | Z1, Z2) * Sum[M1, X, Y, Z2, Z3](Sum[R1, R2, R3](P(M1, R1, R2, R3, X, Y, Z1, Z2, Z3))))"
      ]
     },
     "execution_count": 9,
     "metadata": {},
     "output_type": "execute_result"
    }
   ],
   "source": [
    "identify_outcomes(graph=graph, treatments=X, outcomes=Y)"
   ]
  },
  {
   "cell_type": "markdown",
   "id": "5e27342ad3164b42",
   "metadata": {
    "collapsed": false,
    "jupyter": {
     "outputs_hidden": false
    }
   },
   "source": [
    "The query is identifiable. Hence we can proceed to step 3."
   ]
  },
  {
   "cell_type": "markdown",
   "id": "2ed3073afbc7030a",
   "metadata": {
    "collapsed": false,
    "jupyter": {
     "outputs_hidden": false
    }
   },
   "source": [
    "## Step 3: Find nuisance variables and mark them as latent"
   ]
  },
  {
   "cell_type": "markdown",
   "id": "b7661cedf357ad01",
   "metadata": {
    "collapsed": false,
    "jupyter": {
     "outputs_hidden": false
    }
   },
   "source": [
    "This function finds the nuisance variables for the input graph."
   ]
  },
  {
   "cell_type": "code",
   "execution_count": 10,
   "id": "c094ba6186dfecf6",
   "metadata": {
    "ExecuteTime": {
     "end_time": "2024-01-25T14:36:23.241863Z",
     "start_time": "2024-01-25T14:36:23.174588Z"
    },
    "collapsed": false,
    "jupyter": {
     "outputs_hidden": false
    }
   },
   "outputs": [
    {
     "data": {
      "text/plain": [
       "{R1, R2, R3}"
      ]
     },
     "execution_count": 10,
     "metadata": {},
     "output_type": "execute_result"
    }
   ],
   "source": [
    "find_nuisance_variables(graph, treatments=X, outcomes=Y)"
   ]
  },
  {
   "cell_type": "markdown",
   "id": "79a36765bb1640f6",
   "metadata": {
    "collapsed": false,
    "jupyter": {
     "outputs_hidden": false
    }
   },
   "source": [
    "The nuisance variables are $R_1$, $R_2$, and $R_3$."
   ]
  },
  {
   "cell_type": "markdown",
   "id": "b86a9300fa3d3881",
   "metadata": {
    "collapsed": false,
    "jupyter": {
     "outputs_hidden": false
    }
   },
   "source": [
    "## Step 4: Simplify the network"
   ]
  },
  {
   "cell_type": "markdown",
   "id": "92e386966d986cec",
   "metadata": {
    "collapsed": false,
    "jupyter": {
     "outputs_hidden": false
    }
   },
   "source": [
    "The following function finds the nuisance variable (step 3), marks them as latent and then applies Evan's simplification rules to remove the nuisance variables. As a result, running the 'find_nuisance_variables' and 'mark_nuisance_variables_as_latent' functions in step 3 is not necessary to get the value of step 4. However, we called them to illustrate the results. The new graph obtained in step 4 does not contain the nuisance variables. "
   ]
  },
  {
   "cell_type": "code",
   "execution_count": 11,
   "id": "e1d0f93c0d993112",
   "metadata": {
    "ExecuteTime": {
     "end_time": "2024-01-25T14:36:23.712654Z",
     "start_time": "2024-01-25T14:36:23.192581Z"
    },
    "collapsed": false,
    "jupyter": {
     "outputs_hidden": false
    }
   },
   "outputs": [
    {
     "data": {
      "image/png": "[encoded data removed]",
      "text/plain": [
       "<Figure size 640x480 with 1 Axes>"
      ]
     },
     "metadata": {},
     "output_type": "display_data"
    }
   ],
   "source": [
    "new_graph = remove_nuisance_variables(graph, treatments=X, outcomes=Y)\n",
    "new_graph.draw()"
   ]
  },
  {
   "cell_type": "markdown",
   "id": "f1b8adaf922f3096",
   "metadata": {
    "collapsed": false,
    "jupyter": {
     "outputs_hidden": false
    }
   },
   "source": [
    "## Step 5: Estimate the query"
   ]
  },
  {
   "cell_type": "code",
   "execution_count": 12,
   "id": "55a147fe3a3ee98d",
   "metadata": {
    "ExecuteTime": {
     "end_time": "2024-01-25T14:36:23.977103Z",
     "start_time": "2024-01-25T14:36:23.690832Z"
    },
    "collapsed": false,
    "jupyter": {
     "outputs_hidden": false
    }
   },
   "outputs": [
    {
     "data": {
      "text/plain": [
       "1.1927594503118613"
      ]
     },
     "execution_count": 12,
     "metadata": {},
     "output_type": "execute_result"
    }
   ],
   "source": [
    "ATE_value = estimate_ace(graph=new_graph, treatments=X, outcomes=Y, data=data)\n",
    "ATE_value"
   ]
  },
  {
   "cell_type": "markdown",
   "id": "8b1fbdecffb16328",
   "metadata": {
    "collapsed": false,
    "jupyter": {
     "outputs_hidden": false
    }
   },
   "source": [
    "The ATE amounts to 0.21 meaning that the average effect that $X$ has on $Y$ is negative."
   ]
  },
  {
   "cell_type": "markdown",
   "id": "e362c47381bc281f",
   "metadata": {
    "collapsed": false,
    "jupyter": {
     "outputs_hidden": false
    }
   },
   "source": [
    "# Evaluation Criterion\n",
    "\n",
    "As we used synthetic data set, we were able to generate two interventional data sets where in\n",
    "one X was set to 1, and the other one X is set to 0. The ATE was calculated by subtracting the average value of Y obtained from each interventional data,\n",
    "resulting in the ground truth ATE=0.01. The ATE indicates that increase in X can increase  Y levels."
   ]
  },
  {
   "cell_type": "code",
   "execution_count": 13,
   "id": "7aa1b23565adae07",
   "metadata": {
    "ExecuteTime": {
     "end_time": "2024-01-25T14:36:24.001406Z",
     "start_time": "2024-01-25T14:36:23.981263Z"
    },
    "collapsed": false,
    "jupyter": {
     "outputs_hidden": false
    }
   },
   "outputs": [
    {
     "name": "stdout",
     "output_type": "stream",
     "text": [
      "The true ATE is 0.49\n"
     ]
    }
   ],
   "source": [
    "def get_background_ace(seed=None) -> float:\n",
    "    data_1 = example.generate_data(1000, {X: 1.0}, seed=seed)\n",
    "    data_0 = example.generate_data(1000, {X: 0.0}, seed=seed)\n",
    "    return data_1.mean()[Y.name] - data_0.mean()[Y.name]\n",
    "\n",
    "\n",
    "true_ate = get_background_ace(seed=SEED)\n",
    "print(f\"The true ATE is {true_ate:.04}\")"
   ]
  },
  {
   "cell_type": "markdown",
   "id": "1de8f8091cc1f8c9",
   "metadata": {
    "collapsed": false,
    "jupyter": {
     "outputs_hidden": false
    }
   },
   "source": [
    "### Random Sampling Evaluation"
   ]
  },
  {
   "cell_type": "markdown",
   "id": "6949dceb5dff8017",
   "metadata": {
    "collapsed": false,
    "jupyter": {
     "outputs_hidden": false
    }
   },
   "source": [
    "Instead of relying on a single point estimate of ATE, such as what we did in the previous section, in this part, we sample from the observational data (D) several times. For each sub-sampled data, we calculate the ATE for the new graph and original graph to examine the effect of removing the nuisance variables from the graph."
   ]
  },
  {
   "cell_type": "code",
   "execution_count": 14,
   "id": "8290a6c96fb3b26a",
   "metadata": {
    "ExecuteTime": {
     "end_time": "2024-01-25T14:36:24.064421Z",
     "start_time": "2024-01-25T14:36:23.993866Z"
    },
    "collapsed": false,
    "jupyter": {
     "outputs_hidden": false
    }
   },
   "outputs": [],
   "source": [
    "# Population => Generate D = 10000 data points\n",
    "D = example.generate_data(10000, seed=SEED)"
   ]
  },
  {
   "cell_type": "code",
   "execution_count": 15,
   "id": "7335a9ba0f7818cd",
   "metadata": {
    "ExecuteTime": {
     "end_time": "2024-01-25T14:36:24.587225Z",
     "start_time": "2024-01-25T14:36:24.016244Z"
    },
    "collapsed": false,
    "jupyter": {
     "outputs_hidden": false
    }
   },
   "outputs": [],
   "source": [
    "# Samples => Generate 1000 datasets with 1000 points each (d) using random sampling\n",
    "\n",
    "d_count = 1000\n",
    "d_size = 1000\n",
    "d = [D.sample(d_size) for _ in range(d_count)]"
   ]
  },
  {
   "cell_type": "code",
   "execution_count": 16,
   "id": "f7e71ed8912c89bb",
   "metadata": {
    "ExecuteTime": {
     "end_time": "2024-01-25T14:40:55.102266Z",
     "start_time": "2024-01-25T14:36:24.597029Z"
    },
    "collapsed": false,
    "jupyter": {
     "outputs_hidden": false
    }
   },
   "outputs": [],
   "source": [
    "# Estimate the query in the form of ATE for the new graph\n",
    "ate_new_graph = [estimate_ace(new_graph, treatments=X, outcomes=Y, data=data) for data in d]"
   ]
  },
  {
   "cell_type": "code",
   "execution_count": 17,
   "id": "a9bf7f5040ce2225",
   "metadata": {
    "ExecuteTime": {
     "end_time": "2024-01-25T14:41:11.077521Z",
     "start_time": "2024-01-25T14:40:55.124037Z"
    },
    "collapsed": false,
    "jupyter": {
     "outputs_hidden": false
    }
   },
   "outputs": [],
   "source": [
    "# Estimate the query in the form of expected value (E[Y|do(X=0)]\n",
    "expected_value_new_graph = [\n",
    "    estimate_query(\n",
    "        new_graph, data, treatments=X, outcome=Y, interventions={X: 0}, query_type=\"expected_value\"\n",
    "    )\n",
    "    for data in d\n",
    "]"
   ]
  },
  {
   "cell_type": "code",
   "execution_count": 18,
   "id": "2bf7dde37179a515",
   "metadata": {
    "ExecuteTime": {
     "end_time": "2024-01-25T14:41:11.109398Z",
     "start_time": "2024-01-25T14:41:11.080185Z"
    },
    "collapsed": false,
    "jupyter": {
     "outputs_hidden": false
    }
   },
   "outputs": [
    {
     "data": {
      "text/plain": [
       "1.138909517506263"
      ]
     },
     "execution_count": 18,
     "metadata": {},
     "output_type": "execute_result"
    }
   ],
   "source": [
    "np.var(ate_new_graph)"
   ]
  },
  {
   "cell_type": "code",
   "execution_count": 19,
   "id": "2193cf2bfe7deb09",
   "metadata": {
    "ExecuteTime": {
     "end_time": "2024-01-25T14:41:11.188745Z",
     "start_time": "2024-01-25T14:41:11.094143Z"
    },
    "collapsed": false,
    "jupyter": {
     "outputs_hidden": false
    }
   },
   "outputs": [
    {
     "data": {
      "text/plain": [
       "0.774284708230741"
      ]
     },
     "execution_count": 19,
     "metadata": {},
     "output_type": "execute_result"
    }
   ],
   "source": [
    "np.var(expected_value_new_graph)"
   ]
  },
  {
   "cell_type": "code",
   "execution_count": 20,
   "id": "337f8cacfd6cd318",
   "metadata": {
    "ExecuteTime": {
     "end_time": "2024-01-25T14:48:32.685840Z",
     "start_time": "2024-01-25T14:41:11.131360Z"
    },
    "collapsed": false,
    "jupyter": {
     "outputs_hidden": false
    }
   },
   "outputs": [],
   "source": [
    "# Estimate the query in the form of ATE for the original graph\n",
    "ate_graph = [estimate_ace(graph, treatments=X, outcomes=Y, data=data) for data in d]"
   ]
  },
  {
   "cell_type": "code",
   "execution_count": 21,
   "id": "90e8e51eacfcd61d",
   "metadata": {
    "ExecuteTime": {
     "end_time": "2024-01-25T14:48:46.693915Z",
     "start_time": "2024-01-25T14:48:32.693355Z"
    },
    "collapsed": false,
    "jupyter": {
     "outputs_hidden": false
    }
   },
   "outputs": [],
   "source": [
    "# Estimate the query in the form of expected value (E[Y|do(X=0)]\n",
    "expected_value_graph = [\n",
    "    estimate_query(\n",
    "        graph, data, treatments=X, outcome=Y, interventions={X: 0}, query_type=\"expected_value\"\n",
    "    )\n",
    "    for data in d\n",
    "]"
   ]
  },
  {
   "cell_type": "code",
   "execution_count": 22,
   "id": "afcf227ffe06440",
   "metadata": {
    "ExecuteTime": {
     "end_time": "2024-01-25T14:48:46.719692Z",
     "start_time": "2024-01-25T14:48:46.695854Z"
    },
    "collapsed": false,
    "jupyter": {
     "outputs_hidden": false
    }
   },
   "outputs": [
    {
     "data": {
      "text/plain": [
       "1.1389095175062627"
      ]
     },
     "execution_count": 22,
     "metadata": {},
     "output_type": "execute_result"
    }
   ],
   "source": [
    "np.var(ate_graph)"
   ]
  },
  {
   "cell_type": "code",
   "execution_count": 23,
   "id": "c244aaf67982988",
   "metadata": {
    "ExecuteTime": {
     "end_time": "2024-01-25T14:48:46.720306Z",
     "start_time": "2024-01-25T14:48:46.708205Z"
    },
    "collapsed": false,
    "jupyter": {
     "outputs_hidden": false
    }
   },
   "outputs": [
    {
     "data": {
      "text/plain": [
       "0.774284708230741"
      ]
     },
     "execution_count": 23,
     "metadata": {},
     "output_type": "execute_result"
    }
   ],
   "source": [
    "np.var(expected_value_graph)"
   ]
  },
  {
   "cell_type": "markdown",
   "id": "4f8902e34011dba9",
   "metadata": {
    "collapsed": false,
    "jupyter": {
     "outputs_hidden": false
    }
   },
   "source": [
    "We can see that the variance of the estimated ATEs from the new graph where the nuisance variables are removed is smaller than the original graph. However, the difference between the two is extremly small. This can be shown in the box plots below, where the difference is not visible by eye. Despite the marginal improvement in precision favoring the simplified graph, the process of detecting and removing nuisance variables can result in more interpretable and less complex networks."
   ]
  },
  {
   "cell_type": "code",
   "execution_count": 24,
   "id": "d3a6d3c4e69adfbb",
   "metadata": {
    "ExecuteTime": {
     "end_time": "2024-01-25T14:20:46.692063Z",
     "start_time": "2024-01-25T14:20:46.184537Z"
    },
    "collapsed": false,
    "jupyter": {
     "outputs_hidden": false
    }
   },
   "outputs": [
    {
     "data": {
      "text/plain": [
       "<matplotlib.legend.Legend at 0x2bf3e1e90>"
      ]
     },
     "execution_count": 24,
     "metadata": {},
     "output_type": "execute_result"
    },
    {
     "data": {
      "image/png": "[encoded data removed]",
      "text/plain": [
       "<Figure size 640x480 with 1 Axes>"
      ]
     },
     "metadata": {},
     "output_type": "display_data"
    }
   ],
   "source": [
    "df = pd.DataFrame({\"Input graph\": ate_graph, \"Simplified graph\": ate_new_graph})\n",
    "ax = sns.boxplot(data=df)\n",
    "ax.axhline(y=get_background_ace(seed=SEED), label=\"True ATE\", color=\"r\")\n",
    "ax.set(ylabel=\"Estimated ATE\")\n",
    "ax.legend()"
   ]
  },
  {
   "cell_type": "markdown",
   "id": "18727fa54c2ba51b",
   "metadata": {
    "collapsed": false,
    "jupyter": {
     "outputs_hidden": false
    }
   },
   "source": [
    "This box plots show that on avergae the majority of the estimated ATEs where above zero, and included the true value of ATE."
   ]
  },
  {
   "cell_type": "markdown",
   "id": "7ae64b2d-be03-4053-a43b-40ec8ebc39fe",
   "metadata": {},
   "source": [
    "# Additional Analysis\n",
    "\n",
    "Some questions charlie wants to answer:\n",
    "\n",
    "1. Is there a meaningful effect of doing reduction of nuissance variables?\n",
    "2. What is the effect of picking the random seed?\n",
    "3. How do I contextualize all of these numbers that are dropped in here? When is an ACE significant, i.e., how do I know 0.21 is a big enough number (or different enough from some other number) that X has a meaningful negative effect on Y?"
   ]
  },
  {
   "cell_type": "code",
   "execution_count": 25,
   "id": "29be9e63-daea-45a2-9163-864b5e706528",
   "metadata": {
    "ExecuteTime": {
     "end_time": "2024-01-24T14:47:32.262499Z",
     "start_time": "2024-01-24T14:42:16.067680Z"
    }
   },
   "outputs": [
    {
     "data": {
      "application/vnd.jupyter.widget-view+json": {
       "model_id": "",
       "version_major": 2,
       "version_minor": 0
      },
      "text/plain": [
       "Generating datasets:   0%|          | 0/500 [00:00<?, ?it/s]"
      ]
     },
     "metadata": {},
     "output_type": "display_data"
    },
    {
     "data": {
      "application/vnd.jupyter.widget-view+json": {
       "model_id": "",
       "version_major": 2,
       "version_minor": 0
      },
      "text/plain": [
       "  0%|          | 0/500 [00:00<?, ?it/s]"
      ]
     },
     "metadata": {},
     "output_type": "display_data"
    },
    {
     "data": {
      "application/vnd.jupyter.widget-view+json": {
       "model_id": "",
       "version_major": 2,
       "version_minor": 0
      },
      "text/plain": [
       "No Workflow ATEs:   0%|          | 0/500 [00:00<?, ?it/s]"
      ]
     },
     "metadata": {},
     "output_type": "display_data"
    },
    {
     "data": {
      "application/vnd.jupyter.widget-view+json": {
       "model_id": "",
       "version_major": 2,
       "version_minor": 0
      },
      "text/plain": [
       "Workflow ATEs:   0%|          | 0/500 [00:00<?, ?it/s]"
      ]
     },
     "metadata": {},
     "output_type": "display_data"
    }
   ],
   "source": [
    "repeats = 500\n",
    "datasets = [\n",
    "    example.generate_data(num_samples=500, seed=seed)\n",
    "    for seed in trange(repeats, desc=\"Generating datasets\", leave=False)\n",
    "]\n",
    "background_ates = [get_background_ace(seed=seed) for seed in trange(repeats, leave=False)]\n",
    "unreduced_aces = [\n",
    "    estimate_ace(graph=graph, treatments=X, outcomes=Y, data=data)\n",
    "    for data in tqdm(datasets, desc=\"No Workflow ATEs\", leave=False)\n",
    "]\n",
    "reduced_aces = [\n",
    "    estimate_ace(\n",
    "        graph=remove_nuisance_variables(graph, treatments=X, outcomes=Y),\n",
    "        treatments=X,\n",
    "        outcomes=Y,\n",
    "        data=data,\n",
    "    )\n",
    "    for data in tqdm(datasets, desc=\"Workflow ATEs\", leave=False)\n",
    "]"
   ]
  },
  {
   "cell_type": "markdown",
   "id": "fd17b15b-4a40-4894-92a4-11e2dfe6ca8e",
   "metadata": {},
   "source": [
    "## Does Reducing Nuissance Variables Matter?\n",
    "\n",
    "In the experiment below, I create several random datasets and for each see if adding the removal of nuissance variables changes the resulting ACE by taking the difference between the ACE calculated on the original graph vs the reduced graph."
   ]
  },
  {
   "cell_type": "code",
   "execution_count": 26,
   "id": "a2b7ea36-99ba-4d13-8a42-241e364b41e7",
   "metadata": {},
   "outputs": [
    {
     "data": {
      "image/png": "[encoded data removed]",
      "text/plain": [
       "<Figure size 640x480 with 1 Axes>"
      ]
     },
     "metadata": {},
     "output_type": "display_data"
    }
   ],
   "source": [
    "differences = [\n",
    "    unreduced_ace - reduced_ace for unreduced_ace, reduced_ace in zip(unreduced_aces, reduced_aces)\n",
    "]\n",
    "sns.histplot(differences)\n",
    "plt.title(\"Differences between ACE from unreduced and reduced graph\")\n",
    "plt.xlabel(\"Unreduced ACE - Reduced ACE\")\n",
    "plt.show()"
   ]
  },
  {
   "cell_type": "markdown",
   "id": "296e27d5-5634-4c83-8772-8dab26376a00",
   "metadata": {},
   "source": [
    "We're in the numerical instability region since this graph is on the scale of 1e-13 - this seems to indicate that reducing the latent variables from the graph does not have an effect on the ACE."
   ]
  },
  {
   "cell_type": "markdown",
   "id": "7d5955ff-544b-4e8e-a965-54593b4e825d",
   "metadata": {},
   "source": [
    "# What's the effect of random seed?\n",
    "\n",
    "In the experiment above, a random seed of `seed=500` was generated which resulted in a \"true\" ATE and a \"calculated\" ATE. The conclusion was that because the calculated ATE was positive, that the treatment (X) had a negative effect on the outcome (Y). A few follow-up questions:\n",
    "\n",
    "1. What's the correspondence between these numbers? Should they be the same, or different, and by how much?\n",
    "2. What happens if we pick different random seeds?\n",
    "\n",
    "Below, I picked several different random seeds and calculated the differences, and got this chart. You can see that sometimes, the difference is positive, negative, or close to zero. This means we need a better way of interpreting these results, otherwise setting the random seed is effectively cherry picking."
   ]
  },
  {
   "cell_type": "code",
   "execution_count": 27,
   "id": "a4db4ec5-808c-4fc6-937d-f6626cf38820",
   "metadata": {},
   "outputs": [
    {
     "data": {
      "image/png": "[encoded data removed]",
      "text/plain": [
       "<Figure size 640x480 with 1 Axes>"
      ]
     },
     "metadata": {},
     "output_type": "display_data"
    }
   ],
   "source": [
    "differences = [\n",
    "    background_ate - unreduced_ate\n",
    "    for background_ate, unreduced_ate in zip(background_ates, unreduced_aces)\n",
    "]\n",
    "\n",
    "sns.histplot(differences, label=\"Generated ACEs\")\n",
    "plt.axvline(ATE_value - true_ate, linewidth=3, color=\"red\")\n",
    "plt.show()"
   ]
  }
 ],
 "metadata": {
  "kernelspec": {
   "display_name": "Python 3 (ipykernel)",
   "language": "python",
   "name": "python3"
  },
  "language_info": {
   "codemirror_mode": {
    "name": "ipython",
    "version": 3
   },
   "file_extension": ".py",
   "mimetype": "text/x-python",
   "name": "python",
   "nbconvert_exporter": "python",
   "pygments_lexer": "ipython3",
   "version": "3.11.6"
  }
 },
 "nbformat": 4,
 "nbformat_minor": 5
}
