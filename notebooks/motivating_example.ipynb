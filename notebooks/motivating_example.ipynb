{
 "cells": [
  {
   "cell_type": "markdown",
   "id": "abc410d51568d48c",
   "metadata": {
    "collapsed": false
   },
   "source": [
    "# Motivating example: Figure 4"
   ]
  },
  {
   "cell_type": "markdown",
   "id": "bda3042434f63a26",
   "metadata": {
    "ExecuteTime": {
     "end_time": "2024-01-24T14:14:35.688819Z",
     "start_time": "2024-01-24T14:14:12.013700Z"
    },
    "collapsed": false
   },
   "source": [
    "Figure below is the motivating example in this paper: *Eliater: an open source software for causal query estimation from observational measurements of biomolecular networks*. This graph contains one mediator $M_1$ that connects the exposure $X$ to the outcome $Y$."
   ]
  },
  {
   "cell_type": "code",
   "execution_count": 17,
   "id": "facb9759-b850-4761-aa29-2bccb6db067f",
   "metadata": {
    "collapsed": false,
    "ExecuteTime": {
     "end_time": "2024-05-25T12:17:23.633906Z",
     "start_time": "2024-05-25T12:17:23.545992700Z"
    }
   },
   "outputs": [
    {
     "data": {
      "text/plain": "       key                value\n0  eliater   0.0.3-dev-fe2458c7\n1       y0  0.2.12-dev-fe2458c7\n2   Run at  2024-05-25 08:17:23",
      "text/html": "<div>\n<style scoped>\n    .dataframe tbody tr th:only-of-type {\n        vertical-align: middle;\n    }\n\n    .dataframe tbody tr th {\n        vertical-align: top;\n    }\n\n    .dataframe thead th {\n        text-align: right;\n    }\n</style>\n<table border=\"1\" class=\"dataframe\">\n  <thead>\n    <tr style=\"text-align: right;\">\n      <th></th>\n      <th>key</th>\n      <th>value</th>\n    </tr>\n  </thead>\n  <tbody>\n    <tr>\n      <th>0</th>\n      <td>eliater</td>\n      <td>0.0.3-dev-fe2458c7</td>\n    </tr>\n    <tr>\n      <th>1</th>\n      <td>y0</td>\n      <td>0.2.12-dev-fe2458c7</td>\n    </tr>\n    <tr>\n      <th>2</th>\n      <td>Run at</td>\n      <td>2024-05-25 08:17:23</td>\n    </tr>\n  </tbody>\n</table>\n</div>"
     },
     "execution_count": 17,
     "metadata": {},
     "output_type": "execute_result"
    }
   ],
   "source": [
    "import matplotlib.pyplot as plt\n",
    "import numpy as np\n",
    "import pandas as pd\n",
    "import seaborn as sns\n",
    "from tqdm.auto import tqdm, trange\n",
    "\n",
    "from eliater import add_ci_undirected_edges, remove_nuisance_variables, version_df, workflow\n",
    "from eliater.discover_latent_nodes import find_nuisance_variables\n",
    "from eliater.frontdoor_backdoor import single_mediator_confounders_nuisance_vars_example as example\n",
    "from eliater.network_validation import print_graph_falsifications\n",
    "\n",
    "# from eliater.examples.frontdoor_backdoor_discrete import (\n",
    "#     single_mediator_with_multiple_confounders_nuisances_discrete_example as example,\n",
    "# )\n",
    "from eliater.regression import estimate_query_by_linear_regression\n",
    "from y0.algorithm.estimation import estimate_ace\n",
    "from y0.algorithm.identify import identify_outcomes\n",
    "from y0.dsl import P, Variable, X, Y\n",
    "\n",
    "version_df()"
   ]
  },
  {
   "cell_type": "code",
   "execution_count": 2,
   "id": "fdbbb790-024a-4c43-bf13-ab19886233a1",
   "metadata": {
    "collapsed": false,
    "ExecuteTime": {
     "end_time": "2024-05-25T12:16:24.473473700Z",
     "start_time": "2024-05-25T12:16:24.458894100Z"
    }
   },
   "outputs": [],
   "source": [
    "SEED = 500"
   ]
  },
  {
   "cell_type": "code",
   "execution_count": 3,
   "id": "5805a9bed9191161",
   "metadata": {
    "collapsed": false,
    "ExecuteTime": {
     "end_time": "2024-05-25T12:16:24.778156200Z",
     "start_time": "2024-05-25T12:16:24.463464900Z"
    }
   },
   "outputs": [
    {
     "data": {
      "text/plain": "<Figure size 640x480 with 1 Axes>",
      "image/png": "[encoded data removed]"
     },
     "metadata": {},
     "output_type": "display_data"
    }
   ],
   "source": [
    "graph = example.graph\n",
    "graph.draw()"
   ]
  },
  {
   "cell_type": "code",
   "execution_count": 4,
   "id": "24a3d8b93b3804f2",
   "metadata": {
    "collapsed": false,
    "ExecuteTime": {
     "end_time": "2024-05-25T12:16:26.237028800Z",
     "start_time": "2024-05-25T12:16:26.184848200Z"
    }
   },
   "outputs": [
    {
     "data": {
      "text/plain": "   X        M1         Z1         Z2         Z3         R1        R2  \\\n0  1  2.934394  56.979352  22.616432  17.600963  12.276276  5.073340   \n1  1  2.398253  41.325372  17.927938  17.815860  -2.461589 -3.001966   \n2  1  0.170075  47.119159  16.477906  15.465666  -4.784189 -4.581674   \n3  1  2.285580  56.267263  12.351119  11.600543   0.731370 -1.331269   \n4  1 -6.300323  69.431847  20.250730  14.255859  -6.614901 -6.511525   \n\n          R3          Y  \n0  -2.903520  -2.629445  \n1   2.744132   4.287597  \n2 -10.634326   1.548849  \n3   8.751081  26.297357  \n4   0.235470  18.188091  ",
      "text/html": "<div>\n<style scoped>\n    .dataframe tbody tr th:only-of-type {\n        vertical-align: middle;\n    }\n\n    .dataframe tbody tr th {\n        vertical-align: top;\n    }\n\n    .dataframe thead th {\n        text-align: right;\n    }\n</style>\n<table border=\"1\" class=\"dataframe\">\n  <thead>\n    <tr style=\"text-align: right;\">\n      <th></th>\n      <th>X</th>\n      <th>M1</th>\n      <th>Z1</th>\n      <th>Z2</th>\n      <th>Z3</th>\n      <th>R1</th>\n      <th>R2</th>\n      <th>R3</th>\n      <th>Y</th>\n    </tr>\n  </thead>\n  <tbody>\n    <tr>\n      <th>0</th>\n      <td>1</td>\n      <td>2.934394</td>\n      <td>56.979352</td>\n      <td>22.616432</td>\n      <td>17.600963</td>\n      <td>12.276276</td>\n      <td>5.073340</td>\n      <td>-2.903520</td>\n      <td>-2.629445</td>\n    </tr>\n    <tr>\n      <th>1</th>\n      <td>1</td>\n      <td>2.398253</td>\n      <td>41.325372</td>\n      <td>17.927938</td>\n      <td>17.815860</td>\n      <td>-2.461589</td>\n      <td>-3.001966</td>\n      <td>2.744132</td>\n      <td>4.287597</td>\n    </tr>\n    <tr>\n      <th>2</th>\n      <td>1</td>\n      <td>0.170075</td>\n      <td>47.119159</td>\n      <td>16.477906</td>\n      <td>15.465666</td>\n      <td>-4.784189</td>\n      <td>-4.581674</td>\n      <td>-10.634326</td>\n      <td>1.548849</td>\n    </tr>\n    <tr>\n      <th>3</th>\n      <td>1</td>\n      <td>2.285580</td>\n      <td>56.267263</td>\n      <td>12.351119</td>\n      <td>11.600543</td>\n      <td>0.731370</td>\n      <td>-1.331269</td>\n      <td>8.751081</td>\n      <td>26.297357</td>\n    </tr>\n    <tr>\n      <th>4</th>\n      <td>1</td>\n      <td>-6.300323</td>\n      <td>69.431847</td>\n      <td>20.250730</td>\n      <td>14.255859</td>\n      <td>-6.614901</td>\n      <td>-6.511525</td>\n      <td>0.235470</td>\n      <td>18.188091</td>\n    </tr>\n  </tbody>\n</table>\n</div>"
     },
     "execution_count": 4,
     "metadata": {},
     "output_type": "execute_result"
    }
   ],
   "source": [
    "data = example.generate_data(num_samples=1000, seed=SEED)\n",
    "data.head()"
   ]
  },
  {
   "cell_type": "code",
   "execution_count": 5,
   "id": "3a6dee4a6538252a",
   "metadata": {
    "collapsed": false,
    "ExecuteTime": {
     "end_time": "2024-05-25T12:16:26.883968100Z",
     "start_time": "2024-05-25T12:16:26.831878500Z"
    }
   },
   "outputs": [
    {
     "data": {
      "text/plain": "0.862"
     },
     "execution_count": 5,
     "metadata": {},
     "output_type": "execute_result"
    }
   ],
   "source": [
    "data[\"X\"].mean()"
   ]
  },
  {
   "cell_type": "markdown",
   "id": "7f8b8c77d0b42c3e",
   "metadata": {
    "ExecuteTime": {
     "end_time": "2024-01-24T14:19:55.437699Z",
     "start_time": "2024-01-24T14:19:55.392013Z"
    },
    "collapsed": false
   },
   "source": [
    "## Step 1: Verify correctness of the network structure"
   ]
  },
  {
   "cell_type": "code",
   "execution_count": 6,
   "id": "6f30a2b1053ff61",
   "metadata": {
    "collapsed": false,
    "ExecuteTime": {
     "end_time": "2024-05-25T12:16:28.577928500Z",
     "start_time": "2024-05-25T12:16:28.544727800Z"
    }
   },
   "outputs": [],
   "source": [
    "from sklearn.preprocessing import KBinsDiscretizer\n",
    "\n",
    "# discretization transform the raw data\n",
    "kbins = KBinsDiscretizer(n_bins=2, encode=\"ordinal\", strategy=\"uniform\")\n",
    "data_trans = kbins.fit_transform(data)\n",
    "data_trans = pd.DataFrame(data_trans, columns=data.columns)"
   ]
  },
  {
   "cell_type": "code",
   "execution_count": 7,
   "id": "75ef03bcc109b95a",
   "metadata": {
    "collapsed": false,
    "ExecuteTime": {
     "end_time": "2024-05-25T12:16:29.342306Z",
     "start_time": "2024-05-25T12:16:29.295518Z"
    }
   },
   "outputs": [
    {
     "data": {
      "text/plain": "       X   M1   Z1   Z2   Z3   R1   R2   R3    Y\n0    1.0  1.0  1.0  1.0  1.0  1.0  1.0  0.0  0.0\n1    1.0  1.0  0.0  0.0  1.0  0.0  0.0  1.0  0.0\n2    1.0  0.0  0.0  0.0  1.0  0.0  0.0  0.0  0.0\n3    1.0  1.0  1.0  0.0  0.0  1.0  1.0  1.0  1.0\n4    1.0  0.0  1.0  1.0  0.0  0.0  0.0  1.0  1.0\n..   ...  ...  ...  ...  ...  ...  ...  ...  ...\n995  1.0  1.0  0.0  0.0  0.0  0.0  0.0  0.0  0.0\n996  1.0  1.0  1.0  0.0  0.0  1.0  0.0  1.0  1.0\n997  1.0  1.0  1.0  0.0  1.0  0.0  0.0  1.0  1.0\n998  1.0  1.0  1.0  1.0  0.0  0.0  0.0  0.0  0.0\n999  1.0  1.0  0.0  1.0  1.0  1.0  0.0  0.0  1.0\n\n[1000 rows x 9 columns]",
      "text/html": "<div>\n<style scoped>\n    .dataframe tbody tr th:only-of-type {\n        vertical-align: middle;\n    }\n\n    .dataframe tbody tr th {\n        vertical-align: top;\n    }\n\n    .dataframe thead th {\n        text-align: right;\n    }\n</style>\n<table border=\"1\" class=\"dataframe\">\n  <thead>\n    <tr style=\"text-align: right;\">\n      <th></th>\n      <th>X</th>\n      <th>M1</th>\n      <th>Z1</th>\n      <th>Z2</th>\n      <th>Z3</th>\n      <th>R1</th>\n      <th>R2</th>\n      <th>R3</th>\n      <th>Y</th>\n    </tr>\n  </thead>\n  <tbody>\n    <tr>\n      <th>0</th>\n      <td>1.0</td>\n      <td>1.0</td>\n      <td>1.0</td>\n      <td>1.0</td>\n      <td>1.0</td>\n      <td>1.0</td>\n      <td>1.0</td>\n      <td>0.0</td>\n      <td>0.0</td>\n    </tr>\n    <tr>\n      <th>1</th>\n      <td>1.0</td>\n      <td>1.0</td>\n      <td>0.0</td>\n      <td>0.0</td>\n      <td>1.0</td>\n      <td>0.0</td>\n      <td>0.0</td>\n      <td>1.0</td>\n      <td>0.0</td>\n    </tr>\n    <tr>\n      <th>2</th>\n      <td>1.0</td>\n      <td>0.0</td>\n      <td>0.0</td>\n      <td>0.0</td>\n      <td>1.0</td>\n      <td>0.0</td>\n      <td>0.0</td>\n      <td>0.0</td>\n      <td>0.0</td>\n    </tr>\n    <tr>\n      <th>3</th>\n      <td>1.0</td>\n      <td>1.0</td>\n      <td>1.0</td>\n      <td>0.0</td>\n      <td>0.0</td>\n      <td>1.0</td>\n      <td>1.0</td>\n      <td>1.0</td>\n      <td>1.0</td>\n    </tr>\n    <tr>\n      <th>4</th>\n      <td>1.0</td>\n      <td>0.0</td>\n      <td>1.0</td>\n      <td>1.0</td>\n      <td>0.0</td>\n      <td>0.0</td>\n      <td>0.0</td>\n      <td>1.0</td>\n      <td>1.0</td>\n    </tr>\n    <tr>\n      <th>...</th>\n      <td>...</td>\n      <td>...</td>\n      <td>...</td>\n      <td>...</td>\n      <td>...</td>\n      <td>...</td>\n      <td>...</td>\n      <td>...</td>\n      <td>...</td>\n    </tr>\n    <tr>\n      <th>995</th>\n      <td>1.0</td>\n      <td>1.0</td>\n      <td>0.0</td>\n      <td>0.0</td>\n      <td>0.0</td>\n      <td>0.0</td>\n      <td>0.0</td>\n      <td>0.0</td>\n      <td>0.0</td>\n    </tr>\n    <tr>\n      <th>996</th>\n      <td>1.0</td>\n      <td>1.0</td>\n      <td>1.0</td>\n      <td>0.0</td>\n      <td>0.0</td>\n      <td>1.0</td>\n      <td>0.0</td>\n      <td>1.0</td>\n      <td>1.0</td>\n    </tr>\n    <tr>\n      <th>997</th>\n      <td>1.0</td>\n      <td>1.0</td>\n      <td>1.0</td>\n      <td>0.0</td>\n      <td>1.0</td>\n      <td>0.0</td>\n      <td>0.0</td>\n      <td>1.0</td>\n      <td>1.0</td>\n    </tr>\n    <tr>\n      <th>998</th>\n      <td>1.0</td>\n      <td>1.0</td>\n      <td>1.0</td>\n      <td>1.0</td>\n      <td>0.0</td>\n      <td>0.0</td>\n      <td>0.0</td>\n      <td>0.0</td>\n      <td>0.0</td>\n    </tr>\n    <tr>\n      <th>999</th>\n      <td>1.0</td>\n      <td>1.0</td>\n      <td>0.0</td>\n      <td>1.0</td>\n      <td>1.0</td>\n      <td>1.0</td>\n      <td>0.0</td>\n      <td>0.0</td>\n      <td>1.0</td>\n    </tr>\n  </tbody>\n</table>\n<p>1000 rows × 9 columns</p>\n</div>"
     },
     "execution_count": 7,
     "metadata": {},
     "output_type": "execute_result"
    }
   ],
   "source": [
    "data_trans"
   ]
  },
  {
   "cell_type": "code",
   "execution_count": 8,
   "id": "4e3220a2c48cb9b4",
   "metadata": {
    "collapsed": false,
    "ExecuteTime": {
     "end_time": "2024-05-25T12:16:30.788109400Z",
     "start_time": "2024-05-25T12:16:30.117993100Z"
    }
   },
   "outputs": [
    {
     "name": "stdout",
     "output_type": "stream",
     "text": [
      "Of the 26 d-separations implied by the network's structure, only 1(3.85%) rejected the null hypothesis at p<0.01.\n",
      "\n",
      "Since this is less than 30%, Eliater considers this minor and leaves the network unmodified.]\n",
      "\n",
      "Finished in 0.66 seconds.\n"
     ]
    },
    {
     "data": {
      "text/plain": "   left right  given      stats         p  dof     p_adj  p_adj_significant\n0    R1    R3  M1|R2  26.934175  0.000020    4  0.000533               True\n1     Y    Z2  M1|Z3  13.929238  0.007524    4  0.188109              False\n2    Z1    Z3     Z2   9.646506  0.008041    2  0.192974              False\n3    M1    Z1      X   5.765985  0.055967    2  1.000000              False\n4    R1    Z1     M1   4.594397  0.100540    2  1.000000              False\n5    R2     Y     M1   3.424163  0.180490    2  1.000000              False\n6    M1    Z3      X   0.499409  0.779031    2  1.000000              False\n7    R1    Z3     M1   0.000000  1.000000    2  1.000000              False\n8     Y    Z1  M1|Z2   4.471001  0.346000    4  1.000000              False\n9    M1    R3   R2|Y   9.764665  0.044584    4  1.000000              False\n10    X    Z3     Z2   0.411271  0.814130    2  1.000000              False\n11   R2    Z2     M1   0.006292  0.996859    2  1.000000              False\n12   R3    Z3   R2|Y   4.481456  0.344752    4  1.000000              False\n13    X     Y  M1|Z2   9.170047  0.056987    4  1.000000              False\n14   R2     X     M1   0.680333  0.711652    2  1.000000              False\n15   R3     X   R2|Y   2.430030  0.657207    4  1.000000              False\n16   R1     Y     M1   2.001399  0.367622    2  1.000000              False\n17   R3    Z2   R2|Y   2.677977  0.613074    4  1.000000              False\n18   R1     X     M1   1.280539  0.527150    2  1.000000              False\n19    X    Z2     Z1   0.771982  0.679777    2  1.000000              False\n20   R2    Z3     M1   0.415659  0.812346    2  1.000000              False\n21   R1    Z2     M1   2.451145  0.293590    2  1.000000              False\n22   R3    Z1   R2|Y   5.641139  0.227599    4  1.000000              False\n23   M1    Z2      X   1.246503  0.536198    2  1.000000              False\n24   R2    Z1     M1   0.888580  0.641279    2  1.000000              False\n25   M1    R2     R1   4.138184  0.126300    2  1.000000              False",
      "text/html": "<div>\n<style scoped>\n    .dataframe tbody tr th:only-of-type {\n        vertical-align: middle;\n    }\n\n    .dataframe tbody tr th {\n        vertical-align: top;\n    }\n\n    .dataframe thead th {\n        text-align: right;\n    }\n</style>\n<table border=\"1\" class=\"dataframe\">\n  <thead>\n    <tr style=\"text-align: right;\">\n      <th></th>\n      <th>left</th>\n      <th>right</th>\n      <th>given</th>\n      <th>stats</th>\n      <th>p</th>\n      <th>dof</th>\n      <th>p_adj</th>\n      <th>p_adj_significant</th>\n    </tr>\n  </thead>\n  <tbody>\n    <tr>\n      <th>0</th>\n      <td>R1</td>\n      <td>R3</td>\n      <td>M1|R2</td>\n      <td>26.934175</td>\n      <td>0.000020</td>\n      <td>4</td>\n      <td>0.000533</td>\n      <td>True</td>\n    </tr>\n    <tr>\n      <th>1</th>\n      <td>Y</td>\n      <td>Z2</td>\n      <td>M1|Z3</td>\n      <td>13.929238</td>\n      <td>0.007524</td>\n      <td>4</td>\n      <td>0.188109</td>\n      <td>False</td>\n    </tr>\n    <tr>\n      <th>2</th>\n      <td>Z1</td>\n      <td>Z3</td>\n      <td>Z2</td>\n      <td>9.646506</td>\n      <td>0.008041</td>\n      <td>2</td>\n      <td>0.192974</td>\n      <td>False</td>\n    </tr>\n    <tr>\n      <th>3</th>\n      <td>M1</td>\n      <td>Z1</td>\n      <td>X</td>\n      <td>5.765985</td>\n      <td>0.055967</td>\n      <td>2</td>\n      <td>1.000000</td>\n      <td>False</td>\n    </tr>\n    <tr>\n      <th>4</th>\n      <td>R1</td>\n      <td>Z1</td>\n      <td>M1</td>\n      <td>4.594397</td>\n      <td>0.100540</td>\n      <td>2</td>\n      <td>1.000000</td>\n      <td>False</td>\n    </tr>\n    <tr>\n      <th>5</th>\n      <td>R2</td>\n      <td>Y</td>\n      <td>M1</td>\n      <td>3.424163</td>\n      <td>0.180490</td>\n      <td>2</td>\n      <td>1.000000</td>\n      <td>False</td>\n    </tr>\n    <tr>\n      <th>6</th>\n      <td>M1</td>\n      <td>Z3</td>\n      <td>X</td>\n      <td>0.499409</td>\n      <td>0.779031</td>\n      <td>2</td>\n      <td>1.000000</td>\n      <td>False</td>\n    </tr>\n    <tr>\n      <th>7</th>\n      <td>R1</td>\n      <td>Z3</td>\n      <td>M1</td>\n      <td>0.000000</td>\n      <td>1.000000</td>\n      <td>2</td>\n      <td>1.000000</td>\n      <td>False</td>\n    </tr>\n    <tr>\n      <th>8</th>\n      <td>Y</td>\n      <td>Z1</td>\n      <td>M1|Z2</td>\n      <td>4.471001</td>\n      <td>0.346000</td>\n      <td>4</td>\n      <td>1.000000</td>\n      <td>False</td>\n    </tr>\n    <tr>\n      <th>9</th>\n      <td>M1</td>\n      <td>R3</td>\n      <td>R2|Y</td>\n      <td>9.764665</td>\n      <td>0.044584</td>\n      <td>4</td>\n      <td>1.000000</td>\n      <td>False</td>\n    </tr>\n    <tr>\n      <th>10</th>\n      <td>X</td>\n      <td>Z3</td>\n      <td>Z2</td>\n      <td>0.411271</td>\n      <td>0.814130</td>\n      <td>2</td>\n      <td>1.000000</td>\n      <td>False</td>\n    </tr>\n    <tr>\n      <th>11</th>\n      <td>R2</td>\n      <td>Z2</td>\n      <td>M1</td>\n      <td>0.006292</td>\n      <td>0.996859</td>\n      <td>2</td>\n      <td>1.000000</td>\n      <td>False</td>\n    </tr>\n    <tr>\n      <th>12</th>\n      <td>R3</td>\n      <td>Z3</td>\n      <td>R2|Y</td>\n      <td>4.481456</td>\n      <td>0.344752</td>\n      <td>4</td>\n      <td>1.000000</td>\n      <td>False</td>\n    </tr>\n    <tr>\n      <th>13</th>\n      <td>X</td>\n      <td>Y</td>\n      <td>M1|Z2</td>\n      <td>9.170047</td>\n      <td>0.056987</td>\n      <td>4</td>\n      <td>1.000000</td>\n      <td>False</td>\n    </tr>\n    <tr>\n      <th>14</th>\n      <td>R2</td>\n      <td>X</td>\n      <td>M1</td>\n      <td>0.680333</td>\n      <td>0.711652</td>\n      <td>2</td>\n      <td>1.000000</td>\n      <td>False</td>\n    </tr>\n    <tr>\n      <th>15</th>\n      <td>R3</td>\n      <td>X</td>\n      <td>R2|Y</td>\n      <td>2.430030</td>\n      <td>0.657207</td>\n      <td>4</td>\n      <td>1.000000</td>\n      <td>False</td>\n    </tr>\n    <tr>\n      <th>16</th>\n      <td>R1</td>\n      <td>Y</td>\n      <td>M1</td>\n      <td>2.001399</td>\n      <td>0.367622</td>\n      <td>2</td>\n      <td>1.000000</td>\n      <td>False</td>\n    </tr>\n    <tr>\n      <th>17</th>\n      <td>R3</td>\n      <td>Z2</td>\n      <td>R2|Y</td>\n      <td>2.677977</td>\n      <td>0.613074</td>\n      <td>4</td>\n      <td>1.000000</td>\n      <td>False</td>\n    </tr>\n    <tr>\n      <th>18</th>\n      <td>R1</td>\n      <td>X</td>\n      <td>M1</td>\n      <td>1.280539</td>\n      <td>0.527150</td>\n      <td>2</td>\n      <td>1.000000</td>\n      <td>False</td>\n    </tr>\n    <tr>\n      <th>19</th>\n      <td>X</td>\n      <td>Z2</td>\n      <td>Z1</td>\n      <td>0.771982</td>\n      <td>0.679777</td>\n      <td>2</td>\n      <td>1.000000</td>\n      <td>False</td>\n    </tr>\n    <tr>\n      <th>20</th>\n      <td>R2</td>\n      <td>Z3</td>\n      <td>M1</td>\n      <td>0.415659</td>\n      <td>0.812346</td>\n      <td>2</td>\n      <td>1.000000</td>\n      <td>False</td>\n    </tr>\n    <tr>\n      <th>21</th>\n      <td>R1</td>\n      <td>Z2</td>\n      <td>M1</td>\n      <td>2.451145</td>\n      <td>0.293590</td>\n      <td>2</td>\n      <td>1.000000</td>\n      <td>False</td>\n    </tr>\n    <tr>\n      <th>22</th>\n      <td>R3</td>\n      <td>Z1</td>\n      <td>R2|Y</td>\n      <td>5.641139</td>\n      <td>0.227599</td>\n      <td>4</td>\n      <td>1.000000</td>\n      <td>False</td>\n    </tr>\n    <tr>\n      <th>23</th>\n      <td>M1</td>\n      <td>Z2</td>\n      <td>X</td>\n      <td>1.246503</td>\n      <td>0.536198</td>\n      <td>2</td>\n      <td>1.000000</td>\n      <td>False</td>\n    </tr>\n    <tr>\n      <th>24</th>\n      <td>R2</td>\n      <td>Z1</td>\n      <td>M1</td>\n      <td>0.888580</td>\n      <td>0.641279</td>\n      <td>2</td>\n      <td>1.000000</td>\n      <td>False</td>\n    </tr>\n    <tr>\n      <th>25</th>\n      <td>M1</td>\n      <td>R2</td>\n      <td>R1</td>\n      <td>4.138184</td>\n      <td>0.126300</td>\n      <td>2</td>\n      <td>1.000000</td>\n      <td>False</td>\n    </tr>\n  </tbody>\n</table>\n</div>"
     },
     "execution_count": 8,
     "metadata": {},
     "output_type": "execute_result"
    }
   ],
   "source": [
    "# print_graph_falsifications(graph, data, method=\"chi-square\", verbose=True, significance_level=0.01)\n",
    "print_graph_falsifications(\n",
    "    graph, data_trans, method=\"chi-square\", verbose=True, significance_level=0.01\n",
    ")"
   ]
  },
  {
   "cell_type": "markdown",
   "id": "8b40df88c10664e3",
   "metadata": {
    "collapsed": false
   },
   "source": [
    "All the d-separations implied by the network are validated by the data. No test failed. Hence, we can proceed to step 2."
   ]
  },
  {
   "cell_type": "markdown",
   "id": "4435aa5f3a8f55b9",
   "metadata": {
    "collapsed": false
   },
   "source": [
    "## Step 2: Check query identifiability\n",
    "\n",
    "The causal query of interest is the average treatment effect of $X$ on $Y$, defined as:\n",
    "$E[Y|do(X=1)] - E[Y|do(X=0)]$."
   ]
  },
  {
   "cell_type": "code",
   "execution_count": 9,
   "id": "6a1d0da707ca1d2f",
   "metadata": {
    "collapsed": false,
    "ExecuteTime": {
     "end_time": "2024-05-25T12:16:34.063221700Z",
     "start_time": "2024-05-25T12:16:34.051653600Z"
    }
   },
   "outputs": [
    {
     "data": {
      "text/plain": "Sum[M1, Z1, Z2, Z3](P(M1 | X, Z1) * P(Y | M1, X, Z1, Z2, Z3) * P(Z2 | Z1) * P(Z3 | Z1, Z2) * Sum[M1, X, Y, Z2, Z3](Sum[R1, R2, R3](P(M1, R1, R2, R3, X, Y, Z1, Z2, Z3))))",
      "text/latex": "$\\sum\\limits_{M_1, Z_1, Z_2, Z_3} P(M_1 | X, Z_1) P(Y | M_1, X, Z_1, Z_2, Z_3) P(Z_2 | Z_1) P(Z_3 | Z_1, Z_2) \\sum\\limits_{M_1, X, Y, Z_2, Z_3} \\sum\\limits_{R_1, R_2, R_3} P(M_1, R_1, R_2, R_3, X, Y, Z_1, Z_2, Z_3)$"
     },
     "execution_count": 9,
     "metadata": {},
     "output_type": "execute_result"
    }
   ],
   "source": [
    "identify_outcomes(graph=graph, treatments=X, outcomes=Y)"
   ]
  },
  {
   "cell_type": "markdown",
   "id": "5e27342ad3164b42",
   "metadata": {
    "collapsed": false
   },
   "source": [
    "The query is identifiable. Hence we can proceed to step 3."
   ]
  },
  {
   "cell_type": "markdown",
   "id": "2ed3073afbc7030a",
   "metadata": {
    "collapsed": false
   },
   "source": [
    "## Step 3: Find nuisance variables and mark them as latent"
   ]
  },
  {
   "cell_type": "markdown",
   "id": "b7661cedf357ad01",
   "metadata": {
    "collapsed": false
   },
   "source": [
    "This function finds the nuisance variables for the input graph."
   ]
  },
  {
   "cell_type": "code",
   "execution_count": 10,
   "id": "c094ba6186dfecf6",
   "metadata": {
    "collapsed": false,
    "ExecuteTime": {
     "end_time": "2024-05-25T12:16:36.346111200Z",
     "start_time": "2024-05-25T12:16:36.319937500Z"
    }
   },
   "outputs": [
    {
     "data": {
      "text/plain": "{R1, R2, R3}"
     },
     "execution_count": 10,
     "metadata": {},
     "output_type": "execute_result"
    }
   ],
   "source": [
    "find_nuisance_variables(graph, treatments=X, outcomes=Y)"
   ]
  },
  {
   "cell_type": "markdown",
   "id": "79a36765bb1640f6",
   "metadata": {
    "collapsed": false
   },
   "source": [
    "The nuisance variables are $R_1$, $R_2$, and $R_3$."
   ]
  },
  {
   "cell_type": "markdown",
   "id": "b86a9300fa3d3881",
   "metadata": {
    "collapsed": false
   },
   "source": [
    "## Step 4: Simplify the network"
   ]
  },
  {
   "cell_type": "markdown",
   "id": "92e386966d986cec",
   "metadata": {
    "collapsed": false
   },
   "source": [
    "The following function finds the nuisance variable (step 3), marks them as latent and then applies Evan's simplification rules to remove the nuisance variables. As a result, running the 'find_nuisance_variables' and 'mark_nuisance_variables_as_latent' functions in step 3 is not necessary to get the value of step 4. However, we called them to illustrate the results. The new graph obtained in step 4 does not contain the nuisance variables. "
   ]
  },
  {
   "cell_type": "code",
   "execution_count": 11,
   "id": "e1d0f93c0d993112",
   "metadata": {
    "collapsed": false,
    "ExecuteTime": {
     "end_time": "2024-05-25T12:16:38.951341600Z",
     "start_time": "2024-05-25T12:16:38.797246400Z"
    }
   },
   "outputs": [
    {
     "data": {
      "text/plain": "<Figure size 640x480 with 1 Axes>",
      "image/png": "[encoded data removed]"
     },
     "metadata": {},
     "output_type": "display_data"
    }
   ],
   "source": [
    "new_graph = remove_nuisance_variables(graph, treatments=X, outcomes=Y)\n",
    "new_graph.draw()"
   ]
  },
  {
   "cell_type": "markdown",
   "id": "f1b8adaf922f3096",
   "metadata": {
    "collapsed": false
   },
   "source": [
    "## Step 5: Estimate the query"
   ]
  },
  {
   "cell_type": "code",
   "execution_count": 12,
   "id": "55a147fe3a3ee98d",
   "metadata": {
    "collapsed": false,
    "ExecuteTime": {
     "end_time": "2024-05-25T12:16:41.128617800Z",
     "start_time": "2024-05-25T12:16:40.912193400Z"
    }
   },
   "outputs": [
    {
     "data": {
      "text/plain": "1.1927594503111454"
     },
     "execution_count": 12,
     "metadata": {},
     "output_type": "execute_result"
    }
   ],
   "source": [
    "ATE_value = estimate_ace(graph=new_graph, treatments=X, outcomes=Y, data=data)\n",
    "ATE_value"
   ]
  },
  {
   "cell_type": "markdown",
   "id": "8b1fbdecffb16328",
   "metadata": {
    "collapsed": false
   },
   "source": [
    "The ATE amounts to 0.21 meaning that the average effect that $X$ has on $Y$ is negative."
   ]
  },
  {
   "cell_type": "markdown",
   "id": "e362c47381bc281f",
   "metadata": {
    "collapsed": false
   },
   "source": [
    "# Evaluation Criterion\n",
    "\n",
    "As we used synthetic data set, we were able to generate two interventional data sets where in\n",
    "one X was set to 1, and the other one X is set to 0. The ATE was calculated by subtracting the average value of Y obtained from each interventional data,\n",
    "resulting in the ground truth ATE=0.01. The ATE indicates that increase in X can increase  Y levels."
   ]
  },
  {
   "cell_type": "code",
   "execution_count": 13,
   "id": "7aa1b23565adae07",
   "metadata": {
    "collapsed": false,
    "ExecuteTime": {
     "end_time": "2024-05-25T12:16:42.335768700Z",
     "start_time": "2024-05-25T12:16:42.308579800Z"
    }
   },
   "outputs": [
    {
     "name": "stdout",
     "output_type": "stream",
     "text": [
      "The true ATE is 0.49\n"
     ]
    }
   ],
   "source": [
    "def get_background_ace(seed=None) -> float:\n",
    "    data_1 = example.generate_data(1000, {X: 1.0}, seed=seed)\n",
    "    data_0 = example.generate_data(1000, {X: 0.0}, seed=seed)\n",
    "    return data_1.mean()[Y.name] - data_0.mean()[Y.name]\n",
    "\n",
    "\n",
    "true_ate = get_background_ace(seed=SEED)\n",
    "print(f\"The true ATE is {true_ate:.04}\")"
   ]
  },
  {
   "cell_type": "markdown",
   "id": "1de8f8091cc1f8c9",
   "metadata": {
    "collapsed": false
   },
   "source": [
    "### Random Sampling Evaluation"
   ]
  },
  {
   "cell_type": "markdown",
   "id": "6949dceb5dff8017",
   "metadata": {
    "collapsed": false
   },
   "source": [
    "Instead of relying on a single point estimate of ATE, such as what we did in the previous section, in this part, we sample from the observational data (D) several times. For each sub-sampled data, we calculate the ATE for the new graph and original graph to examine the effect of removing the nuisance variables from the graph."
   ]
  },
  {
   "cell_type": "code",
   "execution_count": 19,
   "id": "8290a6c96fb3b26a",
   "metadata": {
    "collapsed": false,
    "ExecuteTime": {
     "end_time": "2024-05-25T12:17:49.237893400Z",
     "start_time": "2024-05-25T12:17:49.205287100Z"
    }
   },
   "outputs": [],
   "source": [
    "# Population => Generate D = 10000 data points\n",
    "D = example.generate_data(10000, seed=SEED)"
   ]
  },
  {
   "cell_type": "code",
   "execution_count": 20,
   "id": "7335a9ba0f7818cd",
   "metadata": {
    "collapsed": false,
    "ExecuteTime": {
     "end_time": "2024-05-25T12:17:50.199576100Z",
     "start_time": "2024-05-25T12:17:49.827014900Z"
    }
   },
   "outputs": [],
   "source": [
    "# Samples => Generate 1000 datasets with 1000 points each (d) using random sampling\n",
    "\n",
    "d_count = 1000\n",
    "d_size = 1000\n",
    "d = [D.sample(d_size) for _ in range(d_count)]"
   ]
  },
  {
   "cell_type": "code",
   "execution_count": 21,
   "id": "f7e71ed8912c89bb",
   "metadata": {
    "collapsed": false,
    "ExecuteTime": {
     "end_time": "2024-05-25T12:20:34.843147500Z",
     "start_time": "2024-05-25T12:17:50.762129400Z"
    }
   },
   "outputs": [],
   "source": [
    "# Estimate the query in the form of ATE for the new graph\n",
    "ate_new_graph = [estimate_ace(new_graph, treatments=X, outcomes=Y, data=data) for data in d]"
   ]
  },
  {
   "cell_type": "code",
   "execution_count": 22,
   "id": "a9bf7f5040ce2225",
   "metadata": {
    "collapsed": false,
    "ExecuteTime": {
     "end_time": "2024-05-25T12:20:41.866347800Z",
     "start_time": "2024-05-25T12:20:34.845146900Z"
    }
   },
   "outputs": [],
   "source": [
    "# Estimate the query in the form of expected value (E[Y|do(X=0)]\n",
    "expected_value_new_graph = [\n",
    "    estimate_query_by_linear_regression(\n",
    "        new_graph, data, treatments=X, outcome=Y, interventions={X: 0}, query_type=\"expected_value\"\n",
    "    )\n",
    "    for data in d\n",
    "]"
   ]
  },
  {
   "cell_type": "code",
   "execution_count": 23,
   "id": "2bf7dde37179a515",
   "metadata": {
    "collapsed": false,
    "ExecuteTime": {
     "end_time": "2024-05-25T12:20:41.876890400Z",
     "start_time": "2024-05-25T12:20:41.865345700Z"
    }
   },
   "outputs": [
    {
     "data": {
      "text/plain": "1.120943891384711"
     },
     "execution_count": 23,
     "metadata": {},
     "output_type": "execute_result"
    }
   ],
   "source": [
    "np.var(ate_new_graph)"
   ]
  },
  {
   "cell_type": "code",
   "execution_count": 24,
   "id": "2193cf2bfe7deb09",
   "metadata": {
    "collapsed": false,
    "ExecuteTime": {
     "end_time": "2024-05-25T12:20:41.961293800Z",
     "start_time": "2024-05-25T12:20:41.877847900Z"
    }
   },
   "outputs": [
    {
     "data": {
      "text/plain": "0.7491500177810589"
     },
     "execution_count": 24,
     "metadata": {},
     "output_type": "execute_result"
    }
   ],
   "source": [
    "np.var(expected_value_new_graph)"
   ]
  },
  {
   "cell_type": "code",
   "execution_count": 26,
   "id": "337f8cacfd6cd318",
   "metadata": {
    "collapsed": false,
    "ExecuteTime": {
     "end_time": "2024-05-25T12:27:44.265328100Z",
     "start_time": "2024-05-25T12:23:44.462476100Z"
    }
   },
   "outputs": [],
   "source": [
    "# Estimate the query in the form of ATE for the original graph\n",
    "ate_graph = [estimate_ace(graph, treatments=X, outcomes=Y, data=data) for data in d]"
   ]
  },
  {
   "cell_type": "code",
   "execution_count": 27,
   "id": "90e8e51eacfcd61d",
   "metadata": {
    "collapsed": false,
    "ExecuteTime": {
     "end_time": "2024-05-25T12:27:53.308839700Z",
     "start_time": "2024-05-25T12:27:44.267328400Z"
    }
   },
   "outputs": [],
   "source": [
    "# Estimate the query in the form of expected value (E[Y|do(X=0)]\n",
    "expected_value_graph = [\n",
    "    estimate_query_by_linear_regression(\n",
    "        graph, data, treatments=X, outcome=Y, interventions={X: 0}, query_type=\"expected_value\"\n",
    "    )\n",
    "    for data in d\n",
    "]"
   ]
  },
  {
   "cell_type": "code",
   "execution_count": 28,
   "id": "afcf227ffe06440",
   "metadata": {
    "collapsed": false,
    "ExecuteTime": {
     "end_time": "2024-05-25T12:27:53.322003800Z",
     "start_time": "2024-05-25T12:27:53.311844800Z"
    }
   },
   "outputs": [
    {
     "data": {
      "text/plain": "1.1209438913847112"
     },
     "execution_count": 28,
     "metadata": {},
     "output_type": "execute_result"
    }
   ],
   "source": [
    "np.var(ate_graph)"
   ]
  },
  {
   "cell_type": "code",
   "execution_count": 29,
   "id": "c244aaf67982988",
   "metadata": {
    "collapsed": false,
    "ExecuteTime": {
     "end_time": "2024-05-25T12:27:53.335371600Z",
     "start_time": "2024-05-25T12:27:53.317643Z"
    }
   },
   "outputs": [
    {
     "data": {
      "text/plain": "0.7491500177810589"
     },
     "execution_count": 29,
     "metadata": {},
     "output_type": "execute_result"
    }
   ],
   "source": [
    "np.var(expected_value_graph)"
   ]
  },
  {
   "cell_type": "markdown",
   "id": "4f8902e34011dba9",
   "metadata": {
    "collapsed": false
   },
   "source": [
    "We can see that the variance of the estimated ATEs from the new graph where the nuisance variables are removed is smaller than the original graph. However, the difference between the two is extremly small. This can be shown in the box plots below, where the difference is not visible by eye. Despite the marginal improvement in precision favoring the simplified graph, the process of detecting and removing nuisance variables can result in more interpretable and less complex networks."
   ]
  },
  {
   "cell_type": "code",
   "execution_count": 30,
   "id": "d3a6d3c4e69adfbb",
   "metadata": {
    "collapsed": false,
    "ExecuteTime": {
     "end_time": "2024-05-25T12:27:53.513150500Z",
     "start_time": "2024-05-25T12:27:53.324071200Z"
    }
   },
   "outputs": [
    {
     "data": {
      "text/plain": "<matplotlib.legend.Legend at 0x28a83b7ec50>"
     },
     "execution_count": 30,
     "metadata": {},
     "output_type": "execute_result"
    },
    {
     "data": {
      "text/plain": "<Figure size 640x480 with 1 Axes>",
      "image/png": "[encoded data removed]"
     },
     "metadata": {},
     "output_type": "display_data"
    }
   ],
   "source": [
    "df = pd.DataFrame({\"Input graph\": ate_graph, \"Simplified graph\": ate_new_graph})\n",
    "ax = sns.boxplot(data=df)\n",
    "ax.axhline(y=get_background_ace(seed=SEED), label=\"True ATE\", color=\"r\")\n",
    "ax.set(ylabel=\"Estimated ATE\")\n",
    "ax.legend()"
   ]
  },
  {
   "cell_type": "markdown",
   "id": "18727fa54c2ba51b",
   "metadata": {
    "collapsed": false
   },
   "source": [
    "This box plots show that on avergae the majority of the estimated ATEs where above zero, and included the true value of ATE."
   ]
  },
  {
   "cell_type": "markdown",
   "id": "7ae64b2d-be03-4053-a43b-40ec8ebc39fe",
   "metadata": {},
   "source": [
    "# Additional Analysis\n",
    "\n",
    "Some questions charlie wants to answer:\n",
    "\n",
    "1. Is there a meaningful effect of doing reduction of nuissance variables?\n",
    "2. What is the effect of picking the random seed?\n",
    "3. How do I contextualize all of these numbers that are dropped in here? When is an ACE significant, i.e., how do I know 0.21 is a big enough number (or different enough from some other number) that X has a meaningful negative effect on Y?"
   ]
  },
  {
   "cell_type": "code",
   "execution_count": 31,
   "id": "29be9e63-daea-45a2-9163-864b5e706528",
   "metadata": {
    "ExecuteTime": {
     "end_time": "2024-05-25T12:30:55.994085200Z",
     "start_time": "2024-05-25T12:27:53.478025Z"
    }
   },
   "outputs": [
    {
     "data": {
      "text/plain": "Generating datasets:   0%|          | 0/500 [00:00<?, ?it/s]",
      "application/vnd.jupyter.widget-view+json": {
       "version_major": 2,
       "version_minor": 0,
       "model_id": "eaa7a6be148c471c80899678895355e2"
      }
     },
     "metadata": {},
     "output_type": "display_data"
    },
    {
     "data": {
      "text/plain": "  0%|          | 0/500 [00:00<?, ?it/s]",
      "application/vnd.jupyter.widget-view+json": {
       "version_major": 2,
       "version_minor": 0,
       "model_id": "c05494fe370e46a289a038b65e9d9904"
      }
     },
     "metadata": {},
     "output_type": "display_data"
    },
    {
     "data": {
      "text/plain": "No Workflow ATEs:   0%|          | 0/500 [00:00<?, ?it/s]",
      "application/vnd.jupyter.widget-view+json": {
       "version_major": 2,
       "version_minor": 0,
       "model_id": "74ae0fbb77df4f1b8dcc86248509a245"
      }
     },
     "metadata": {},
     "output_type": "display_data"
    },
    {
     "data": {
      "text/plain": "Workflow ATEs:   0%|          | 0/500 [00:00<?, ?it/s]",
      "application/vnd.jupyter.widget-view+json": {
       "version_major": 2,
       "version_minor": 0,
       "model_id": "e6727c2eeb9244b3b4ba09b0cf0f0395"
      }
     },
     "metadata": {},
     "output_type": "display_data"
    }
   ],
   "source": [
    "repeats = 500\n",
    "datasets = [\n",
    "    example.generate_data(num_samples=500, seed=seed)\n",
    "    for seed in trange(repeats, desc=\"Generating datasets\", leave=False)\n",
    "]\n",
    "background_ates = [get_background_ace(seed=seed) for seed in trange(repeats, leave=False)]\n",
    "unreduced_aces = [\n",
    "    estimate_ace(graph=graph, treatments=X, outcomes=Y, data=data)\n",
    "    for data in tqdm(datasets, desc=\"No Workflow ATEs\", leave=False)\n",
    "]\n",
    "reduced_aces = [\n",
    "    estimate_ace(\n",
    "        graph=remove_nuisance_variables(graph, treatments=X, outcomes=Y),\n",
    "        treatments=X,\n",
    "        outcomes=Y,\n",
    "        data=data,\n",
    "    )\n",
    "    for data in tqdm(datasets, desc=\"Workflow ATEs\", leave=False)\n",
    "]"
   ]
  },
  {
   "cell_type": "markdown",
   "id": "fd17b15b-4a40-4894-92a4-11e2dfe6ca8e",
   "metadata": {},
   "source": [
    "## Does Reducing Nuissance Variables Matter?\n",
    "\n",
    "In the experiment below, I create several random datasets and for each see if adding the removal of nuissance variables changes the resulting ACE by taking the difference between the ACE calculated on the original graph vs the reduced graph."
   ]
  },
  {
   "cell_type": "code",
   "execution_count": 32,
   "id": "a2b7ea36-99ba-4d13-8a42-241e364b41e7",
   "metadata": {
    "ExecuteTime": {
     "end_time": "2024-05-25T12:30:56.182510Z",
     "start_time": "2024-05-25T12:30:55.995070100Z"
    }
   },
   "outputs": [
    {
     "data": {
      "text/plain": "<Figure size 640x480 with 1 Axes>",
      "image/png": "[encoded data removed]"
     },
     "metadata": {},
     "output_type": "display_data"
    }
   ],
   "source": [
    "differences = [\n",
    "    unreduced_ace - reduced_ace for unreduced_ace, reduced_ace in zip(unreduced_aces, reduced_aces)\n",
    "]\n",
    "sns.histplot(differences)\n",
    "plt.title(\"Differences between ACE from unreduced and reduced graph\")\n",
    "plt.xlabel(\"Unreduced ACE - Reduced ACE\")\n",
    "plt.show()"
   ]
  },
  {
   "cell_type": "markdown",
   "id": "296e27d5-5634-4c83-8772-8dab26376a00",
   "metadata": {},
   "source": [
    "We're in the numerical instability region since this graph is on the scale of 1e-13 - this seems to indicate that reducing the latent variables from the graph does not have an effect on the ACE."
   ]
  },
  {
   "cell_type": "markdown",
   "id": "7d5955ff-544b-4e8e-a965-54593b4e825d",
   "metadata": {},
   "source": [
    "# What's the effect of random seed?\n",
    "\n",
    "In the experiment above, a random seed of `seed=500` was generated which resulted in a \"true\" ATE and a \"calculated\" ATE. The conclusion was that because the calculated ATE was positive, that the treatment (X) had a negative effect on the outcome (Y). A few follow-up questions:\n",
    "\n",
    "1. What's the correspondence between these numbers? Should they be the same, or different, and by how much?\n",
    "2. What happens if we pick different random seeds?\n",
    "\n",
    "Below, I picked several different random seeds and calculated the differences, and got this chart. You can see that sometimes, the difference is positive, negative, or close to zero. This means we need a better way of interpreting these results, otherwise setting the random seed is effectively cherry picking."
   ]
  },
  {
   "cell_type": "code",
   "execution_count": 33,
   "id": "a4db4ec5-808c-4fc6-937d-f6626cf38820",
   "metadata": {
    "ExecuteTime": {
     "end_time": "2024-05-25T12:30:56.336765300Z",
     "start_time": "2024-05-25T12:30:56.184501600Z"
    }
   },
   "outputs": [
    {
     "data": {
      "text/plain": "<Figure size 640x480 with 1 Axes>",
      "image/png": "[encoded data removed]"
     },
     "metadata": {},
     "output_type": "display_data"
    }
   ],
   "source": [
    "differences = [\n",
    "    background_ate - unreduced_ate\n",
    "    for background_ate, unreduced_ate in zip(background_ates, unreduced_aces)\n",
    "]\n",
    "\n",
    "sns.histplot(differences, label=\"Generated ACEs\")\n",
    "plt.axvline(ATE_value - true_ate, linewidth=3, color=\"red\")\n",
    "plt.show()"
   ]
  }
 ],
 "metadata": {
  "kernelspec": {
   "display_name": "Python 3 (ipykernel)",
   "language": "python",
   "name": "python3"
  },
  "language_info": {
   "codemirror_mode": {
    "name": "ipython",
    "version": 3
   },
   "file_extension": ".py",
   "mimetype": "text/x-python",
   "name": "python",
   "nbconvert_exporter": "python",
   "pygments_lexer": "ipython3",
   "version": "3.11.6"
  }
 },
 "nbformat": 4,
 "nbformat_minor": 5
}
