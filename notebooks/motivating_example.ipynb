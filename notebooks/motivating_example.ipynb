{
 "cells": [
  {
   "cell_type": "markdown",
   "id": "abc410d51568d48c",
   "metadata": {
    "collapsed": false
   },
   "source": [
    "# Motivating example: Figure 4"
   ]
  },
  {
   "cell_type": "markdown",
   "id": "bda3042434f63a26",
   "metadata": {
    "collapsed": false,
    "ExecuteTime": {
     "end_time": "2024-01-24T14:14:35.688819Z",
     "start_time": "2024-01-24T14:14:12.013700Z"
    }
   },
   "source": [
    "Figure below is the motivating example in this paper: *Eliater: an open source software for causal query estimation from observational measurements of biomolecular networks*. This graph contains one mediator $M_1$ that connects the exposure $X$ to the outcome $Y$."
   ]
  },
  {
   "cell_type": "code",
   "execution_count": 1,
   "outputs": [
    {
     "name": "stdout",
     "output_type": "stream",
     "text": [
      "Collecting git+https://github.com/y0-causal-inference/eliater.git\r\n",
      "  Cloning https://github.com/y0-causal-inference/eliater.git to /private/var/folders/fs/kx46_43x04ndj3yryggvkg5r0000gn/T/pip-req-build-21kuke8w\r\n",
      "  Running command git clone --quiet https://github.com/y0-causal-inference/eliater.git /private/var/folders/fs/kx46_43x04ndj3yryggvkg5r0000gn/T/pip-req-build-21kuke8w\r\n",
      "  Resolved https://github.com/y0-causal-inference/eliater.git to commit 33eb330e6faaa0fce6a0526d4764b800b1c8434c\r\n",
      "  Installing build dependencies ... \u001B[?25ldone\r\n",
      "\u001B[?25h  Getting requirements to build wheel ... \u001B[?25ldone\r\n",
      "\u001B[?25h  Preparing metadata (pyproject.toml) ... \u001B[?25ldone\r\n",
      "\u001B[?25hRequirement already satisfied: y0>=0.2.7 in /Users/sarataheri/GitHub/eliater/venv/lib/python3.11/site-packages (from eliater==0.0.1.dev0) (0.2.7)\r\n",
      "Requirement already satisfied: scipy in /Users/sarataheri/GitHub/eliater/venv/lib/python3.11/site-packages (from eliater==0.0.1.dev0) (1.12.0)\r\n",
      "Requirement already satisfied: numpy in /Users/sarataheri/GitHub/eliater/venv/lib/python3.11/site-packages (from eliater==0.0.1.dev0) (1.26.3)\r\n",
      "Requirement already satisfied: ananke-causal>=0.5.0 in /Users/sarataheri/GitHub/eliater/venv/lib/python3.11/site-packages (from eliater==0.0.1.dev0) (0.5.0)\r\n",
      "Requirement already satisfied: pgmpy>=0.1.24 in /Users/sarataheri/GitHub/eliater/venv/lib/python3.11/site-packages (from eliater==0.0.1.dev0) (0.1.24)\r\n",
      "Requirement already satisfied: matplotlib in /Users/sarataheri/GitHub/eliater/venv/lib/python3.11/site-packages (from eliater==0.0.1.dev0) (3.8.2)\r\n",
      "Requirement already satisfied: pandas in /Users/sarataheri/GitHub/eliater/venv/lib/python3.11/site-packages (from eliater==0.0.1.dev0) (1.5.3)\r\n",
      "Requirement already satisfied: seaborn in /Users/sarataheri/GitHub/eliater/venv/lib/python3.11/site-packages (from eliater==0.0.1.dev0) (0.13.1)\r\n",
      "Requirement already satisfied: optimaladj>=0.0.4 in /Users/sarataheri/GitHub/eliater/venv/lib/python3.11/site-packages (from eliater==0.0.1.dev0) (0.0.4)\r\n",
      "Requirement already satisfied: jax<0.5.0,>=0.4.8 in /Users/sarataheri/GitHub/eliater/venv/lib/python3.11/site-packages (from ananke-causal>=0.5.0->eliater==0.0.1.dev0) (0.4.23)\r\n",
      "Requirement already satisfied: jaxlib<0.5.0,>=0.4.7 in /Users/sarataheri/GitHub/eliater/venv/lib/python3.11/site-packages (from ananke-causal>=0.5.0->eliater==0.0.1.dev0) (0.4.23)\r\n",
      "Requirement already satisfied: mystic<0.5.0,>=0.4.0 in /Users/sarataheri/GitHub/eliater/venv/lib/python3.11/site-packages (from ananke-causal>=0.5.0->eliater==0.0.1.dev0) (0.4.1)\r\n",
      "Requirement already satisfied: statsmodels<0.14.0,>=0.13.2 in /Users/sarataheri/GitHub/eliater/venv/lib/python3.11/site-packages (from ananke-causal>=0.5.0->eliater==0.0.1.dev0) (0.13.5)\r\n",
      "Requirement already satisfied: contourpy>=1.0.1 in /Users/sarataheri/GitHub/eliater/venv/lib/python3.11/site-packages (from matplotlib->eliater==0.0.1.dev0) (1.2.0)\r\n",
      "Requirement already satisfied: cycler>=0.10 in /Users/sarataheri/GitHub/eliater/venv/lib/python3.11/site-packages (from matplotlib->eliater==0.0.1.dev0) (0.12.1)\r\n",
      "Requirement already satisfied: fonttools>=4.22.0 in /Users/sarataheri/GitHub/eliater/venv/lib/python3.11/site-packages (from matplotlib->eliater==0.0.1.dev0) (4.47.2)\r\n",
      "Requirement already satisfied: kiwisolver>=1.3.1 in /Users/sarataheri/GitHub/eliater/venv/lib/python3.11/site-packages (from matplotlib->eliater==0.0.1.dev0) (1.4.5)\r\n",
      "Requirement already satisfied: packaging>=20.0 in /Users/sarataheri/GitHub/eliater/venv/lib/python3.11/site-packages (from matplotlib->eliater==0.0.1.dev0) (23.2)\r\n",
      "Requirement already satisfied: pillow>=8 in /Users/sarataheri/GitHub/eliater/venv/lib/python3.11/site-packages (from matplotlib->eliater==0.0.1.dev0) (10.2.0)\r\n",
      "Requirement already satisfied: pyparsing>=2.3.1 in /Users/sarataheri/GitHub/eliater/venv/lib/python3.11/site-packages (from matplotlib->eliater==0.0.1.dev0) (3.1.1)\r\n",
      "Requirement already satisfied: python-dateutil>=2.7 in /Users/sarataheri/GitHub/eliater/venv/lib/python3.11/site-packages (from matplotlib->eliater==0.0.1.dev0) (2.8.2)\r\n",
      "Requirement already satisfied: pytz>=2020.1 in /Users/sarataheri/GitHub/eliater/venv/lib/python3.11/site-packages (from pandas->eliater==0.0.1.dev0) (2023.3.post1)\r\n",
      "Requirement already satisfied: networkx in /Users/sarataheri/GitHub/eliater/venv/lib/python3.11/site-packages (from pgmpy>=0.1.24->eliater==0.0.1.dev0) (3.2.1)\r\n",
      "Requirement already satisfied: scikit-learn in /Users/sarataheri/GitHub/eliater/venv/lib/python3.11/site-packages (from pgmpy>=0.1.24->eliater==0.0.1.dev0) (1.4.0)\r\n",
      "Requirement already satisfied: torch in /Users/sarataheri/GitHub/eliater/venv/lib/python3.11/site-packages (from pgmpy>=0.1.24->eliater==0.0.1.dev0) (2.1.2)\r\n",
      "Requirement already satisfied: tqdm in /Users/sarataheri/GitHub/eliater/venv/lib/python3.11/site-packages (from pgmpy>=0.1.24->eliater==0.0.1.dev0) (4.66.1)\r\n",
      "Requirement already satisfied: joblib in /Users/sarataheri/GitHub/eliater/venv/lib/python3.11/site-packages (from pgmpy>=0.1.24->eliater==0.0.1.dev0) (1.3.2)\r\n",
      "Requirement already satisfied: opt-einsum in /Users/sarataheri/GitHub/eliater/venv/lib/python3.11/site-packages (from pgmpy>=0.1.24->eliater==0.0.1.dev0) (3.3.0)\r\n",
      "Requirement already satisfied: more-itertools in /Users/sarataheri/GitHub/eliater/venv/lib/python3.11/site-packages (from y0>=0.2.7->eliater==0.0.1.dev0) (10.2.0)\r\n",
      "Requirement already satisfied: click in /Users/sarataheri/GitHub/eliater/venv/lib/python3.11/site-packages (from y0>=0.2.7->eliater==0.0.1.dev0) (8.1.7)\r\n",
      "Requirement already satisfied: more-click in /Users/sarataheri/GitHub/eliater/venv/lib/python3.11/site-packages (from y0>=0.2.7->eliater==0.0.1.dev0) (0.1.2)\r\n",
      "Requirement already satisfied: tabulate in /Users/sarataheri/GitHub/eliater/venv/lib/python3.11/site-packages (from y0>=0.2.7->eliater==0.0.1.dev0) (0.9.0)\r\n",
      "Requirement already satisfied: ml-dtypes>=0.2.0 in /Users/sarataheri/GitHub/eliater/venv/lib/python3.11/site-packages (from jax<0.5.0,>=0.4.8->ananke-causal>=0.5.0->eliater==0.0.1.dev0) (0.3.2)\r\n",
      "Requirement already satisfied: dill>=0.3.7 in /Users/sarataheri/GitHub/eliater/venv/lib/python3.11/site-packages (from mystic<0.5.0,>=0.4.0->ananke-causal>=0.5.0->eliater==0.0.1.dev0) (0.3.7)\r\n",
      "Requirement already satisfied: klepto>=0.2.4 in /Users/sarataheri/GitHub/eliater/venv/lib/python3.11/site-packages (from mystic<0.5.0,>=0.4.0->ananke-causal>=0.5.0->eliater==0.0.1.dev0) (0.2.4)\r\n",
      "Requirement already satisfied: sympy>=0.6.7 in /Users/sarataheri/GitHub/eliater/venv/lib/python3.11/site-packages (from mystic<0.5.0,>=0.4.0->ananke-causal>=0.5.0->eliater==0.0.1.dev0) (1.12)\r\n",
      "Requirement already satisfied: mpmath>=0.19 in /Users/sarataheri/GitHub/eliater/venv/lib/python3.11/site-packages (from mystic<0.5.0,>=0.4.0->ananke-causal>=0.5.0->eliater==0.0.1.dev0) (1.3.0)\r\n",
      "Requirement already satisfied: six>=1.5 in /Users/sarataheri/GitHub/eliater/venv/lib/python3.11/site-packages (from python-dateutil>=2.7->matplotlib->eliater==0.0.1.dev0) (1.16.0)\r\n",
      "Requirement already satisfied: patsy>=0.5.2 in /Users/sarataheri/GitHub/eliater/venv/lib/python3.11/site-packages (from statsmodels<0.14.0,>=0.13.2->ananke-causal>=0.5.0->eliater==0.0.1.dev0) (0.5.6)\r\n",
      "Requirement already satisfied: threadpoolctl>=2.0.0 in /Users/sarataheri/GitHub/eliater/venv/lib/python3.11/site-packages (from scikit-learn->pgmpy>=0.1.24->eliater==0.0.1.dev0) (3.2.0)\r\n",
      "Requirement already satisfied: filelock in /Users/sarataheri/GitHub/eliater/venv/lib/python3.11/site-packages (from torch->pgmpy>=0.1.24->eliater==0.0.1.dev0) (3.13.1)\r\n",
      "Requirement already satisfied: typing-extensions in /Users/sarataheri/GitHub/eliater/venv/lib/python3.11/site-packages (from torch->pgmpy>=0.1.24->eliater==0.0.1.dev0) (4.9.0)\r\n",
      "Requirement already satisfied: jinja2 in /Users/sarataheri/GitHub/eliater/venv/lib/python3.11/site-packages (from torch->pgmpy>=0.1.24->eliater==0.0.1.dev0) (3.1.3)\r\n",
      "Requirement already satisfied: fsspec in /Users/sarataheri/GitHub/eliater/venv/lib/python3.11/site-packages (from torch->pgmpy>=0.1.24->eliater==0.0.1.dev0) (2023.12.2)\r\n",
      "Requirement already satisfied: pox>=0.3.3 in /Users/sarataheri/GitHub/eliater/venv/lib/python3.11/site-packages (from klepto>=0.2.4->mystic<0.5.0,>=0.4.0->ananke-causal>=0.5.0->eliater==0.0.1.dev0) (0.3.3)\r\n",
      "Requirement already satisfied: MarkupSafe>=2.0 in /Users/sarataheri/GitHub/eliater/venv/lib/python3.11/site-packages (from jinja2->torch->pgmpy>=0.1.24->eliater==0.0.1.dev0) (2.1.4)\r\n"
     ]
    }
   ],
   "source": [
    "!pip install git+https://github.com/y0-causal-inference/eliater.git "
   ],
   "metadata": {
    "collapsed": false,
    "ExecuteTime": {
     "end_time": "2024-01-24T14:37:10.696129Z",
     "start_time": "2024-01-24T14:36:35.725858Z"
    }
   },
   "id": "a89a6360a987f4ad"
  },
  {
   "cell_type": "code",
   "execution_count": 2,
   "id": "facb9759-b850-4761-aa29-2bccb6db067f",
   "metadata": {
    "collapsed": false,
    "ExecuteTime": {
     "end_time": "2024-01-24T14:38:07.167936Z",
     "start_time": "2024-01-24T14:37:55.907042Z"
    }
   },
   "outputs": [],
   "source": [
    "import matplotlib.pyplot as plt\n",
    "import numpy as np\n",
    "import seaborn as sns\n",
    "from tqdm.auto import tqdm, trange\n",
    "\n",
    "#from eliater import add_ci_undirected_edges, remove_nuisance_variables, version_df, workflow\n",
    "from eliater import  remove_nuisance_variables\n",
    "from eliater.discover_latent_nodes import find_nuisance_variables, mark_nuisance_variables_as_latent\n",
    "# from eliater.examples.frontdoor_backdoor_discrete import (\n",
    "#     single_mediator_with_multiple_confounders_nuisances_discrete_example as example,\n",
    "# )\n",
    "from src.eliater.frontdoor_backdoor import single_mediator_confounders_nuisance_vars_example as example\n",
    "from eliater.network_validation import print_graph_falsifications\n",
    "from y0.algorithm.estimation import estimate_ace\n",
    "from y0.algorithm.identify import identify_outcomes\n",
    "from y0.dsl import P, Variable, X, Y\n",
    "\n",
    "#version_df()"
   ]
  },
  {
   "cell_type": "code",
   "execution_count": 40,
   "id": "fdbbb790-024a-4c43-bf13-ab19886233a1",
   "metadata": {
    "collapsed": false,
    "ExecuteTime": {
     "end_time": "2024-01-24T14:50:41.668411Z",
     "start_time": "2024-01-24T14:50:41.564297Z"
    }
   },
   "outputs": [],
   "source": [
    "SEED = 500"
   ]
  },
  {
   "cell_type": "code",
   "execution_count": 41,
   "id": "5805a9bed9191161",
   "metadata": {
    "collapsed": false,
    "ExecuteTime": {
     "end_time": "2024-01-24T14:50:44.306142Z",
     "start_time": "2024-01-24T14:50:42.712615Z"
    }
   },
   "outputs": [
    {
     "data": {
      "text/plain": "<Figure size 640x480 with 1 Axes>",
      "image/png": "[encoded data removed]"
     },
     "metadata": {},
     "output_type": "display_data"
    }
   ],
   "source": [
    "graph = example.graph\n",
    "graph.draw()"
   ]
  },
  {
   "cell_type": "code",
   "execution_count": 42,
   "id": "24a3d8b93b3804f2",
   "metadata": {
    "collapsed": false,
    "ExecuteTime": {
     "end_time": "2024-01-24T14:50:55.016893Z",
     "start_time": "2024-01-24T14:50:54.873588Z"
    }
   },
   "outputs": [
    {
     "data": {
      "text/plain": "   X        M1         Z1         Z2         Z3         R1        R2  \\\n0  1  2.934394  56.979352  22.616432  17.600963  12.276276  5.073340   \n1  1  2.398253  41.325372  17.927938  17.815860  -2.461589 -3.001966   \n2  1  0.170075  47.119159  16.477906  15.465666  -4.784189 -4.581674   \n3  1  2.285580  56.267263  12.351119  11.600543   0.731370 -1.331269   \n4  1 -6.300323  69.431847  20.250730  14.255859  -6.614901 -6.511525   \n\n          R3          Y  \n0  -2.903520  -2.629445  \n1   2.744132   4.287597  \n2 -10.634326   1.548849  \n3   8.751081  26.297357  \n4   0.235470  18.188091  ",
      "text/html": "<div>\n<style scoped>\n    .dataframe tbody tr th:only-of-type {\n        vertical-align: middle;\n    }\n\n    .dataframe tbody tr th {\n        vertical-align: top;\n    }\n\n    .dataframe thead th {\n        text-align: right;\n    }\n</style>\n<table border=\"1\" class=\"dataframe\">\n  <thead>\n    <tr style=\"text-align: right;\">\n      <th></th>\n      <th>X</th>\n      <th>M1</th>\n      <th>Z1</th>\n      <th>Z2</th>\n      <th>Z3</th>\n      <th>R1</th>\n      <th>R2</th>\n      <th>R3</th>\n      <th>Y</th>\n    </tr>\n  </thead>\n  <tbody>\n    <tr>\n      <th>0</th>\n      <td>1</td>\n      <td>2.934394</td>\n      <td>56.979352</td>\n      <td>22.616432</td>\n      <td>17.600963</td>\n      <td>12.276276</td>\n      <td>5.073340</td>\n      <td>-2.903520</td>\n      <td>-2.629445</td>\n    </tr>\n    <tr>\n      <th>1</th>\n      <td>1</td>\n      <td>2.398253</td>\n      <td>41.325372</td>\n      <td>17.927938</td>\n      <td>17.815860</td>\n      <td>-2.461589</td>\n      <td>-3.001966</td>\n      <td>2.744132</td>\n      <td>4.287597</td>\n    </tr>\n    <tr>\n      <th>2</th>\n      <td>1</td>\n      <td>0.170075</td>\n      <td>47.119159</td>\n      <td>16.477906</td>\n      <td>15.465666</td>\n      <td>-4.784189</td>\n      <td>-4.581674</td>\n      <td>-10.634326</td>\n      <td>1.548849</td>\n    </tr>\n    <tr>\n      <th>3</th>\n      <td>1</td>\n      <td>2.285580</td>\n      <td>56.267263</td>\n      <td>12.351119</td>\n      <td>11.600543</td>\n      <td>0.731370</td>\n      <td>-1.331269</td>\n      <td>8.751081</td>\n      <td>26.297357</td>\n    </tr>\n    <tr>\n      <th>4</th>\n      <td>1</td>\n      <td>-6.300323</td>\n      <td>69.431847</td>\n      <td>20.250730</td>\n      <td>14.255859</td>\n      <td>-6.614901</td>\n      <td>-6.511525</td>\n      <td>0.235470</td>\n      <td>18.188091</td>\n    </tr>\n  </tbody>\n</table>\n</div>"
     },
     "execution_count": 42,
     "metadata": {},
     "output_type": "execute_result"
    }
   ],
   "source": [
    "data = example.generate_data(num_samples=1000, seed=SEED)\n",
    "data.head()"
   ]
  },
  {
   "cell_type": "code",
   "execution_count": 43,
   "outputs": [
    {
     "data": {
      "text/plain": "0.862"
     },
     "execution_count": 43,
     "metadata": {},
     "output_type": "execute_result"
    }
   ],
   "source": [
    "import numpy as np\n",
    "np.mean(data['X'])"
   ],
   "metadata": {
    "collapsed": false,
    "ExecuteTime": {
     "end_time": "2024-01-24T14:50:58.595878Z",
     "start_time": "2024-01-24T14:50:58.458512Z"
    }
   },
   "id": "3a6dee4a6538252a"
  },
  {
   "cell_type": "markdown",
   "id": "7f8b8c77d0b42c3e",
   "metadata": {
    "collapsed": false,
    "ExecuteTime": {
     "end_time": "2024-01-24T14:19:55.437699Z",
     "start_time": "2024-01-24T14:19:55.392013Z"
    }
   },
   "source": [
    "## Step 1: Verify correctness of the network structure"
   ]
  },
  {
   "cell_type": "code",
   "execution_count": 21,
   "outputs": [],
   "source": [
    "from sklearn.preprocessing import KBinsDiscretizer\n",
    "# discretization transform the raw data\n",
    "kbins = KBinsDiscretizer(n_bins=2, encode='ordinal', strategy='uniform')\n",
    "data_trans = kbins.fit_transform(data)\n",
    "import pandas as pd\n",
    "data_trans = pd.DataFrame(data_trans, columns = data.columns)"
   ],
   "metadata": {
    "collapsed": false,
    "ExecuteTime": {
     "end_time": "2024-01-24T14:48:00.058491Z",
     "start_time": "2024-01-24T14:47:59.417248Z"
    }
   },
   "id": "6f30a2b1053ff61"
  },
  {
   "cell_type": "code",
   "execution_count": 22,
   "outputs": [
    {
     "data": {
      "text/plain": "       X   M1   Z1   Z2   Z3   R1   R2   R3    Y\n0    1.0  0.0  1.0  0.0  0.0  0.0  1.0  0.0  0.0\n1    1.0  1.0  1.0  1.0  1.0  1.0  1.0  1.0  1.0\n2    1.0  1.0  1.0  0.0  0.0  0.0  0.0  1.0  0.0\n3    1.0  0.0  0.0  0.0  0.0  0.0  0.0  1.0  1.0\n4    1.0  0.0  1.0  0.0  0.0  0.0  0.0  0.0  0.0\n..   ...  ...  ...  ...  ...  ...  ...  ...  ...\n495  0.0  0.0  0.0  0.0  0.0  0.0  1.0  0.0  1.0\n496  1.0  0.0  1.0  0.0  0.0  0.0  1.0  1.0  1.0\n497  1.0  0.0  0.0  0.0  0.0  0.0  1.0  1.0  1.0\n498  1.0  1.0  1.0  0.0  0.0  1.0  0.0  0.0  0.0\n499  1.0  1.0  0.0  1.0  1.0  0.0  0.0  0.0  1.0\n\n[500 rows x 9 columns]",
      "text/html": "<div>\n<style scoped>\n    .dataframe tbody tr th:only-of-type {\n        vertical-align: middle;\n    }\n\n    .dataframe tbody tr th {\n        vertical-align: top;\n    }\n\n    .dataframe thead th {\n        text-align: right;\n    }\n</style>\n<table border=\"1\" class=\"dataframe\">\n  <thead>\n    <tr style=\"text-align: right;\">\n      <th></th>\n      <th>X</th>\n      <th>M1</th>\n      <th>Z1</th>\n      <th>Z2</th>\n      <th>Z3</th>\n      <th>R1</th>\n      <th>R2</th>\n      <th>R3</th>\n      <th>Y</th>\n    </tr>\n  </thead>\n  <tbody>\n    <tr>\n      <th>0</th>\n      <td>1.0</td>\n      <td>0.0</td>\n      <td>1.0</td>\n      <td>0.0</td>\n      <td>0.0</td>\n      <td>0.0</td>\n      <td>1.0</td>\n      <td>0.0</td>\n      <td>0.0</td>\n    </tr>\n    <tr>\n      <th>1</th>\n      <td>1.0</td>\n      <td>1.0</td>\n      <td>1.0</td>\n      <td>1.0</td>\n      <td>1.0</td>\n      <td>1.0</td>\n      <td>1.0</td>\n      <td>1.0</td>\n      <td>1.0</td>\n    </tr>\n    <tr>\n      <th>2</th>\n      <td>1.0</td>\n      <td>1.0</td>\n      <td>1.0</td>\n      <td>0.0</td>\n      <td>0.0</td>\n      <td>0.0</td>\n      <td>0.0</td>\n      <td>1.0</td>\n      <td>0.0</td>\n    </tr>\n    <tr>\n      <th>3</th>\n      <td>1.0</td>\n      <td>0.0</td>\n      <td>0.0</td>\n      <td>0.0</td>\n      <td>0.0</td>\n      <td>0.0</td>\n      <td>0.0</td>\n      <td>1.0</td>\n      <td>1.0</td>\n    </tr>\n    <tr>\n      <th>4</th>\n      <td>1.0</td>\n      <td>0.0</td>\n      <td>1.0</td>\n      <td>0.0</td>\n      <td>0.0</td>\n      <td>0.0</td>\n      <td>0.0</td>\n      <td>0.0</td>\n      <td>0.0</td>\n    </tr>\n    <tr>\n      <th>...</th>\n      <td>...</td>\n      <td>...</td>\n      <td>...</td>\n      <td>...</td>\n      <td>...</td>\n      <td>...</td>\n      <td>...</td>\n      <td>...</td>\n      <td>...</td>\n    </tr>\n    <tr>\n      <th>495</th>\n      <td>0.0</td>\n      <td>0.0</td>\n      <td>0.0</td>\n      <td>0.0</td>\n      <td>0.0</td>\n      <td>0.0</td>\n      <td>1.0</td>\n      <td>0.0</td>\n      <td>1.0</td>\n    </tr>\n    <tr>\n      <th>496</th>\n      <td>1.0</td>\n      <td>0.0</td>\n      <td>1.0</td>\n      <td>0.0</td>\n      <td>0.0</td>\n      <td>0.0</td>\n      <td>1.0</td>\n      <td>1.0</td>\n      <td>1.0</td>\n    </tr>\n    <tr>\n      <th>497</th>\n      <td>1.0</td>\n      <td>0.0</td>\n      <td>0.0</td>\n      <td>0.0</td>\n      <td>0.0</td>\n      <td>0.0</td>\n      <td>1.0</td>\n      <td>1.0</td>\n      <td>1.0</td>\n    </tr>\n    <tr>\n      <th>498</th>\n      <td>1.0</td>\n      <td>1.0</td>\n      <td>1.0</td>\n      <td>0.0</td>\n      <td>0.0</td>\n      <td>1.0</td>\n      <td>0.0</td>\n      <td>0.0</td>\n      <td>0.0</td>\n    </tr>\n    <tr>\n      <th>499</th>\n      <td>1.0</td>\n      <td>1.0</td>\n      <td>0.0</td>\n      <td>1.0</td>\n      <td>1.0</td>\n      <td>0.0</td>\n      <td>0.0</td>\n      <td>0.0</td>\n      <td>1.0</td>\n    </tr>\n  </tbody>\n</table>\n<p>500 rows × 9 columns</p>\n</div>"
     },
     "execution_count": 22,
     "metadata": {},
     "output_type": "execute_result"
    }
   ],
   "source": [
    "data_trans"
   ],
   "metadata": {
    "collapsed": false,
    "ExecuteTime": {
     "end_time": "2024-01-24T14:48:00.424227Z",
     "start_time": "2024-01-24T14:47:59.968969Z"
    }
   },
   "id": "75ef03bcc109b95a"
  },
  {
   "cell_type": "code",
   "execution_count": 23,
   "id": "4e3220a2c48cb9b4",
   "metadata": {
    "collapsed": false,
    "ExecuteTime": {
     "end_time": "2024-01-24T14:48:06.786115Z",
     "start_time": "2024-01-24T14:48:00.671629Z"
    }
   },
   "outputs": [
    {
     "name": "stdout",
     "output_type": "stream",
     "text": [
      "Failed tests: 0/26 (0.00%)\n",
      "Reject null hypothesis when p<0.01\n",
      "======  =======  =======  =========  =========  =====  =======  ===================\n",
      "left    right    given        stats          p    dof    p_adj  p_adj_significant\n",
      "======  =======  =======  =========  =========  =====  =======  ===================\n",
      "M1      Z1       X        2.47164    0.290596       2        1  False\n",
      "Y       Z2       X|Z3     1.01052    0.908196       4        1  False\n",
      "R2      Z3       X        0.0160981  0.991983       2        1  False\n",
      "X       Z2       Z1       0.829314   0.660567       2        1  False\n",
      "R1      Z1       X        2.05824    0.357322       2        1  False\n",
      "X       Y        M1|Z2    3.98618    0.40788        4        1  False\n",
      "R1      X        M1       3.43074    0.179897       2        1  False\n",
      "R3      Z1       X|Z2     3.50296    0.477429       4        1  False\n",
      "M1      Z2       X        2.37753    0.304597       2        1  False\n",
      "R3      Z2       X|Z3     0.0560813  0.999614       4        1  False\n",
      "Y       Z1       X|Z2     5.09014    0.278173       4        1  False\n",
      "M1      R3       R2|Y     2.88577    0.577119       4        1  False\n",
      "R3      Z3       M1|Y     1.65234    0.799356       4        1  False\n",
      "R1      Y        M1       0.0584619  0.971192       2        1  False\n",
      "X       Z3       Z2       0.497681   0.779704       2        1  False\n",
      "R1      Z2       X        0.154726   0.925554       2        1  False\n",
      "M1      Z3       X        0.854177   0.652406       2        1  False\n",
      "Z1      Z3       Z2       6.34123    0.0419778      2        1  False\n",
      "R2      Z1       X        0.670284   0.715237       2        1  False\n",
      "R2      X        M1       2.59113    0.273743       2        1  False\n",
      "R1      R3       M1|R2    0.574893   0.965812       4        1  False\n",
      "R2      Y        M1       0.239546   0.887122       2        1  False\n",
      "R1      Z3       X        0.2309     0.890965       2        1  False\n",
      "R3      X        M1|Z2    2.14585    0.708955       4        1  False\n",
      "R2      Z2       X        2.02957    0.36248        2        1  False\n",
      "M1      R2       R1       2.29399    0.31759        2        1  False\n",
      "======  =======  =======  =========  =========  =====  =======  ===================\n"
     ]
    }
   ],
   "source": [
    "#print_graph_falsifications(graph, data, method=\"chi-square\", verbose=True, significance_level=0.01)\n",
    "print_graph_falsifications(graph, data_trans, method=\"chi-square\", verbose=True, significance_level=0.01)"
   ]
  },
  {
   "cell_type": "markdown",
   "id": "8b40df88c10664e3",
   "metadata": {
    "collapsed": false
   },
   "source": [
    "All the d-separations implied by the network are validated by the data. No test failed. Hence, we can proceed to step 2."
   ]
  },
  {
   "cell_type": "markdown",
   "id": "4435aa5f3a8f55b9",
   "metadata": {
    "collapsed": false
   },
   "source": [
    "## Step 2: Check query identifiability\n",
    "\n",
    "The causal query of interest is the average treatment effect of $X$ on $Y$, defined as:\n",
    "$E[Y|do(X=1)] - E[Y|do(X=0)]$."
   ]
  },
  {
   "cell_type": "code",
   "execution_count": 44,
   "id": "6a1d0da707ca1d2f",
   "metadata": {
    "collapsed": false,
    "ExecuteTime": {
     "end_time": "2024-01-24T14:51:06.944269Z",
     "start_time": "2024-01-24T14:51:06.816748Z"
    }
   },
   "outputs": [
    {
     "data": {
      "text/plain": "Sum[M1, Z1, Z2, Z3](P(M1 | X, Z1) * P(Y | M1, X, Z1, Z2, Z3) * P(Z2 | Z1) * P(Z3 | Z1, Z2) * Sum[M1, X, Y, Z2, Z3](Sum[R1, R2, R3](P(M1, R1, R2, R3, X, Y, Z1, Z2, Z3))))",
      "text/latex": "$\\sum\\limits_{M_1, Z_1, Z_2, Z_3} P(M_1 | X, Z_1) P(Y | M_1, X, Z_1, Z_2, Z_3) P(Z_2 | Z_1) P(Z_3 | Z_1, Z_2) \\sum\\limits_{M_1, X, Y, Z_2, Z_3} \\sum\\limits_{R_1, R_2, R_3} P(M_1, R_1, R_2, R_3, X, Y, Z_1, Z_2, Z_3)$"
     },
     "execution_count": 44,
     "metadata": {},
     "output_type": "execute_result"
    }
   ],
   "source": [
    "identify_outcomes(graph=graph, treatments=X, outcomes=Y)"
   ]
  },
  {
   "cell_type": "markdown",
   "id": "5e27342ad3164b42",
   "metadata": {
    "collapsed": false
   },
   "source": [
    "The query is identifiable. Hence we can proceed to step 3."
   ]
  },
  {
   "cell_type": "markdown",
   "id": "2ed3073afbc7030a",
   "metadata": {
    "collapsed": false
   },
   "source": [
    "## Step 3: Find nuisance variables and mark them as latent"
   ]
  },
  {
   "cell_type": "markdown",
   "id": "b7661cedf357ad01",
   "metadata": {
    "collapsed": false
   },
   "source": [
    "This function finds the nuisance variables for the input graph."
   ]
  },
  {
   "cell_type": "code",
   "execution_count": 45,
   "id": "c094ba6186dfecf6",
   "metadata": {
    "collapsed": false,
    "ExecuteTime": {
     "end_time": "2024-01-24T14:51:08.836854Z",
     "start_time": "2024-01-24T14:51:08.433785Z"
    }
   },
   "outputs": [
    {
     "data": {
      "text/plain": "{R1, R2, R3}"
     },
     "execution_count": 45,
     "metadata": {},
     "output_type": "execute_result"
    }
   ],
   "source": [
    "find_nuisance_variables(graph, treatments=X, outcomes=Y)"
   ]
  },
  {
   "cell_type": "markdown",
   "id": "79a36765bb1640f6",
   "metadata": {
    "collapsed": false
   },
   "source": [
    "The nuisance variables are $R_1$, $R_2$, and $R_3$."
   ]
  },
  {
   "cell_type": "markdown",
   "id": "b86a9300fa3d3881",
   "metadata": {
    "collapsed": false
   },
   "source": [
    "## Step 4: Simplify the network"
   ]
  },
  {
   "cell_type": "markdown",
   "id": "92e386966d986cec",
   "metadata": {
    "collapsed": false
   },
   "source": [
    "The following function finds the nuisance variable (step 3), marks them as latent and then applies Evan's simplification rules to remove the nuisance variables. As a result, running the 'find_nuisance_variables' and 'mark_nuisance_variables_as_latent' functions in step 3 is not necessary to get the value of step 4. However, we called them to illustrate the results. The new graph obtained in step 4 does not contain the nuisance variables. "
   ]
  },
  {
   "cell_type": "code",
   "execution_count": 46,
   "id": "e1d0f93c0d993112",
   "metadata": {
    "collapsed": false,
    "ExecuteTime": {
     "end_time": "2024-01-24T14:51:12.925043Z",
     "start_time": "2024-01-24T14:51:11.341171Z"
    }
   },
   "outputs": [
    {
     "data": {
      "text/plain": "<Figure size 640x480 with 1 Axes>",
      "image/png": "[encoded data removed]"
     },
     "metadata": {},
     "output_type": "display_data"
    }
   ],
   "source": [
    "new_graph = remove_nuisance_variables(graph, treatments=X, outcomes=Y)\n",
    "new_graph.draw()"
   ]
  },
  {
   "cell_type": "markdown",
   "id": "f1b8adaf922f3096",
   "metadata": {
    "collapsed": false
   },
   "source": [
    "## Step 5: Estimate the query"
   ]
  },
  {
   "cell_type": "code",
   "execution_count": 47,
   "id": "55a147fe3a3ee98d",
   "metadata": {
    "collapsed": false,
    "ExecuteTime": {
     "end_time": "2024-01-24T14:51:16.226522Z",
     "start_time": "2024-01-24T14:51:14.995521Z"
    }
   },
   "outputs": [
    {
     "data": {
      "text/plain": "1.1927594503111205"
     },
     "execution_count": 47,
     "metadata": {},
     "output_type": "execute_result"
    }
   ],
   "source": [
    "ATE_value = estimate_ace(graph=new_graph, treatments=X, outcomes=Y, data=data)\n",
    "ATE_value"
   ]
  },
  {
   "cell_type": "markdown",
   "id": "8b1fbdecffb16328",
   "metadata": {
    "collapsed": false
   },
   "source": [
    "The ATE amounts to 0.21 meaning that the average effect that $X$ has on $Y$ is negative."
   ]
  },
  {
   "cell_type": "markdown",
   "id": "e362c47381bc281f",
   "metadata": {
    "collapsed": false
   },
   "source": [
    "# Evaluation Criterion\n",
    "\n",
    "As we used synthetic data set, we were able to generate two interventional data sets where in\n",
    "one X was set to 1, and the other one X is set to 0. The ATE was calculated by subtracting the average value of Y obtained from each interventional data,\n",
    "resulting in the ground truth ATE=0.01. The ATE indicates that increase in X can increase  Y levels."
   ]
  },
  {
   "cell_type": "code",
   "execution_count": 48,
   "id": "7aa1b23565adae07",
   "metadata": {
    "collapsed": false,
    "ExecuteTime": {
     "end_time": "2024-01-24T14:51:26.819865Z",
     "start_time": "2024-01-24T14:51:26.750176Z"
    }
   },
   "outputs": [
    {
     "name": "stdout",
     "output_type": "stream",
     "text": [
      "The true ATE is 0.49\n"
     ]
    }
   ],
   "source": [
    "def get_background_ace(seed=None) -> float:\n",
    "    data_1 = example.generate_data(1000, {X: 1.0}, seed=seed)\n",
    "    data_0 = example.generate_data(1000, {X: 0.0}, seed=seed)\n",
    "    return data_1.mean()[Y.name] - data_0.mean()[Y.name]\n",
    "\n",
    "\n",
    "true_ate = get_background_ace(seed=SEED)\n",
    "print(f\"The true ATE is {true_ate:.04}\")"
   ]
  },
  {
   "cell_type": "markdown",
   "source": [
    "### Random Sampling Evaluation"
   ],
   "metadata": {
    "collapsed": false
   },
   "id": "1de8f8091cc1f8c9"
  },
  {
   "cell_type": "code",
   "execution_count": null,
   "outputs": [],
   "source": [
    "# Population => Generate D = 10000 data points\n",
    "D = example.generate_data(10000, seed=SEED)"
   ],
   "metadata": {
    "collapsed": false
   },
   "id": "8290a6c96fb3b26a"
  },
  {
   "cell_type": "code",
   "execution_count": null,
   "outputs": [],
   "source": [
    "# Samples => Generate 1000 datasets with 1000 points each (d) using random sampling\n",
    "\n",
    "d_count = 1000\n",
    "d_size = 1000\n",
    "d = [D.sample(d_size) for _ in range(d_count)]"
   ],
   "metadata": {
    "collapsed": false
   },
   "id": "7335a9ba0f7818cd"
  },
  {
   "cell_type": "code",
   "execution_count": null,
   "outputs": [],
   "source": [
    "ate_new_graph = [estimate_ace(new_graph, treatments=X, outcomes=Y, data=data) for data in d]"
   ],
   "metadata": {
    "collapsed": false
   },
   "id": "f7e71ed8912c89bb"
  },
  {
   "cell_type": "code",
   "execution_count": null,
   "outputs": [],
   "source": [
    "ate_graph = [estimate_ace(graph, treatments=X, outcomes=Y, data=data) for data in d]"
   ],
   "metadata": {
    "collapsed": false
   },
   "id": "337f8cacfd6cd318"
  },
  {
   "cell_type": "code",
   "execution_count": null,
   "outputs": [],
   "source": [
    "#TODO for Pruthvi: generate a plot that contains two boxplots. One for ate_new_graph and one for ate_graph. Look at the example in Sars case stud to get an idea of how to do it. Add a horizontal line of 0.49 to the plot which is the true ATE. "
   ],
   "metadata": {
    "collapsed": false
   },
   "id": "861b6eb60a4a22b4"
  },
  {
   "cell_type": "markdown",
   "id": "7ae64b2d-be03-4053-a43b-40ec8ebc39fe",
   "metadata": {},
   "source": [
    "# Additional Analysis\n",
    "\n",
    "Some questions charlie wants to answer:\n",
    "\n",
    "1. Is there a meaningful effect of doing reduction of nuissance variables?\n",
    "2. What is the effect of picking the random seed?\n",
    "3. How do I contextualize all of these numbers that are dropped in here? When is an ACE significant, i.e., how do I know 0.21 is a big enough number (or different enough from some other number) that X has a meaningful negative effect on Y?"
   ]
  },
  {
   "cell_type": "code",
   "execution_count": 16,
   "id": "29be9e63-daea-45a2-9163-864b5e706528",
   "metadata": {
    "ExecuteTime": {
     "end_time": "2024-01-24T14:47:32.262499Z",
     "start_time": "2024-01-24T14:42:16.067680Z"
    }
   },
   "outputs": [
    {
     "data": {
      "text/plain": "Generating datasets:   0%|          | 0/500 [00:00<?, ?it/s]",
      "application/vnd.jupyter.widget-view+json": {
       "version_major": 2,
       "version_minor": 0,
       "model_id": "e53258d89ee14b4388a0bdbd2822ebab"
      }
     },
     "metadata": {},
     "output_type": "display_data"
    },
    {
     "data": {
      "text/plain": "  0%|          | 0/500 [00:00<?, ?it/s]",
      "application/vnd.jupyter.widget-view+json": {
       "version_major": 2,
       "version_minor": 0,
       "model_id": "1cede53acf2a49e2849fba5157812699"
      }
     },
     "metadata": {},
     "output_type": "display_data"
    },
    {
     "data": {
      "text/plain": "No Workflow ATEs:   0%|          | 0/500 [00:00<?, ?it/s]",
      "application/vnd.jupyter.widget-view+json": {
       "version_major": 2,
       "version_minor": 0,
       "model_id": "7ac382b1eb7f467f8afa804977340ced"
      }
     },
     "metadata": {},
     "output_type": "display_data"
    },
    {
     "data": {
      "text/plain": "Workflow ATEs:   0%|          | 0/500 [00:00<?, ?it/s]",
      "application/vnd.jupyter.widget-view+json": {
       "version_major": 2,
       "version_minor": 0,
       "model_id": "c34e476ce16148cf8b1762030e1668ce"
      }
     },
     "metadata": {},
     "output_type": "display_data"
    },
    {
     "ename": "KeyboardInterrupt",
     "evalue": "",
     "output_type": "error",
     "traceback": [
      "\u001B[0;31m---------------------------------------------------------------------------\u001B[0m",
      "\u001B[0;31mKeyboardInterrupt\u001B[0m                         Traceback (most recent call last)",
      "Cell \u001B[0;32mIn[16], line 11\u001B[0m\n\u001B[1;32m      6\u001B[0m background_ates \u001B[38;5;241m=\u001B[39m [get_background_ace(seed\u001B[38;5;241m=\u001B[39mseed) \u001B[38;5;28;01mfor\u001B[39;00m seed \u001B[38;5;129;01min\u001B[39;00m trange(repeats, leave\u001B[38;5;241m=\u001B[39m\u001B[38;5;28;01mFalse\u001B[39;00m)]\n\u001B[1;32m      7\u001B[0m unreduced_aces \u001B[38;5;241m=\u001B[39m [\n\u001B[1;32m      8\u001B[0m     estimate_ace(graph\u001B[38;5;241m=\u001B[39mgraph, treatments\u001B[38;5;241m=\u001B[39mX, outcomes\u001B[38;5;241m=\u001B[39mY, data\u001B[38;5;241m=\u001B[39mdata)\n\u001B[1;32m      9\u001B[0m     \u001B[38;5;28;01mfor\u001B[39;00m data \u001B[38;5;129;01min\u001B[39;00m tqdm(datasets, desc\u001B[38;5;241m=\u001B[39m\u001B[38;5;124m\"\u001B[39m\u001B[38;5;124mNo Workflow ATEs\u001B[39m\u001B[38;5;124m\"\u001B[39m, leave\u001B[38;5;241m=\u001B[39m\u001B[38;5;28;01mFalse\u001B[39;00m)\n\u001B[1;32m     10\u001B[0m ]\n\u001B[0;32m---> 11\u001B[0m reduced_aces \u001B[38;5;241m=\u001B[39m \u001B[43m[\u001B[49m\n\u001B[1;32m     12\u001B[0m \u001B[43m    \u001B[49m\u001B[43mestimate_ace\u001B[49m\u001B[43m(\u001B[49m\n\u001B[1;32m     13\u001B[0m \u001B[43m        \u001B[49m\u001B[43mgraph\u001B[49m\u001B[38;5;241;43m=\u001B[39;49m\u001B[43mremove_nuisance_variables\u001B[49m\u001B[43m(\u001B[49m\u001B[43mgraph\u001B[49m\u001B[43m,\u001B[49m\u001B[43m \u001B[49m\u001B[43mtreatments\u001B[49m\u001B[38;5;241;43m=\u001B[39;49m\u001B[43mX\u001B[49m\u001B[43m,\u001B[49m\u001B[43m \u001B[49m\u001B[43moutcomes\u001B[49m\u001B[38;5;241;43m=\u001B[39;49m\u001B[43mY\u001B[49m\u001B[43m)\u001B[49m\u001B[43m,\u001B[49m\n\u001B[1;32m     14\u001B[0m \u001B[43m        \u001B[49m\u001B[43mtreatments\u001B[49m\u001B[38;5;241;43m=\u001B[39;49m\u001B[43mX\u001B[49m\u001B[43m,\u001B[49m\n\u001B[1;32m     15\u001B[0m \u001B[43m        \u001B[49m\u001B[43moutcomes\u001B[49m\u001B[38;5;241;43m=\u001B[39;49m\u001B[43mY\u001B[49m\u001B[43m,\u001B[49m\n\u001B[1;32m     16\u001B[0m \u001B[43m        \u001B[49m\u001B[43mdata\u001B[49m\u001B[38;5;241;43m=\u001B[39;49m\u001B[43mdata\u001B[49m\u001B[43m,\u001B[49m\n\u001B[1;32m     17\u001B[0m \u001B[43m    \u001B[49m\u001B[43m)\u001B[49m\n\u001B[1;32m     18\u001B[0m \u001B[43m    \u001B[49m\u001B[38;5;28;43;01mfor\u001B[39;49;00m\u001B[43m \u001B[49m\u001B[43mdata\u001B[49m\u001B[43m \u001B[49m\u001B[38;5;129;43;01min\u001B[39;49;00m\u001B[43m \u001B[49m\u001B[43mtqdm\u001B[49m\u001B[43m(\u001B[49m\u001B[43mdatasets\u001B[49m\u001B[43m,\u001B[49m\u001B[43m \u001B[49m\u001B[43mdesc\u001B[49m\u001B[38;5;241;43m=\u001B[39;49m\u001B[38;5;124;43m\"\u001B[39;49m\u001B[38;5;124;43mWorkflow ATEs\u001B[39;49m\u001B[38;5;124;43m\"\u001B[39;49m\u001B[43m,\u001B[49m\u001B[43m \u001B[49m\u001B[43mleave\u001B[49m\u001B[38;5;241;43m=\u001B[39;49m\u001B[38;5;28;43;01mFalse\u001B[39;49;00m\u001B[43m)\u001B[49m\n\u001B[1;32m     19\u001B[0m \u001B[43m]\u001B[49m\n",
      "Cell \u001B[0;32mIn[16], line 12\u001B[0m, in \u001B[0;36m<listcomp>\u001B[0;34m(.0)\u001B[0m\n\u001B[1;32m      6\u001B[0m background_ates \u001B[38;5;241m=\u001B[39m [get_background_ace(seed\u001B[38;5;241m=\u001B[39mseed) \u001B[38;5;28;01mfor\u001B[39;00m seed \u001B[38;5;129;01min\u001B[39;00m trange(repeats, leave\u001B[38;5;241m=\u001B[39m\u001B[38;5;28;01mFalse\u001B[39;00m)]\n\u001B[1;32m      7\u001B[0m unreduced_aces \u001B[38;5;241m=\u001B[39m [\n\u001B[1;32m      8\u001B[0m     estimate_ace(graph\u001B[38;5;241m=\u001B[39mgraph, treatments\u001B[38;5;241m=\u001B[39mX, outcomes\u001B[38;5;241m=\u001B[39mY, data\u001B[38;5;241m=\u001B[39mdata)\n\u001B[1;32m      9\u001B[0m     \u001B[38;5;28;01mfor\u001B[39;00m data \u001B[38;5;129;01min\u001B[39;00m tqdm(datasets, desc\u001B[38;5;241m=\u001B[39m\u001B[38;5;124m\"\u001B[39m\u001B[38;5;124mNo Workflow ATEs\u001B[39m\u001B[38;5;124m\"\u001B[39m, leave\u001B[38;5;241m=\u001B[39m\u001B[38;5;28;01mFalse\u001B[39;00m)\n\u001B[1;32m     10\u001B[0m ]\n\u001B[1;32m     11\u001B[0m reduced_aces \u001B[38;5;241m=\u001B[39m [\n\u001B[0;32m---> 12\u001B[0m     \u001B[43mestimate_ace\u001B[49m\u001B[43m(\u001B[49m\n\u001B[1;32m     13\u001B[0m \u001B[43m        \u001B[49m\u001B[43mgraph\u001B[49m\u001B[38;5;241;43m=\u001B[39;49m\u001B[43mremove_nuisance_variables\u001B[49m\u001B[43m(\u001B[49m\u001B[43mgraph\u001B[49m\u001B[43m,\u001B[49m\u001B[43m \u001B[49m\u001B[43mtreatments\u001B[49m\u001B[38;5;241;43m=\u001B[39;49m\u001B[43mX\u001B[49m\u001B[43m,\u001B[49m\u001B[43m \u001B[49m\u001B[43moutcomes\u001B[49m\u001B[38;5;241;43m=\u001B[39;49m\u001B[43mY\u001B[49m\u001B[43m)\u001B[49m\u001B[43m,\u001B[49m\n\u001B[1;32m     14\u001B[0m \u001B[43m        \u001B[49m\u001B[43mtreatments\u001B[49m\u001B[38;5;241;43m=\u001B[39;49m\u001B[43mX\u001B[49m\u001B[43m,\u001B[49m\n\u001B[1;32m     15\u001B[0m \u001B[43m        \u001B[49m\u001B[43moutcomes\u001B[49m\u001B[38;5;241;43m=\u001B[39;49m\u001B[43mY\u001B[49m\u001B[43m,\u001B[49m\n\u001B[1;32m     16\u001B[0m \u001B[43m        \u001B[49m\u001B[43mdata\u001B[49m\u001B[38;5;241;43m=\u001B[39;49m\u001B[43mdata\u001B[49m\u001B[43m,\u001B[49m\n\u001B[1;32m     17\u001B[0m \u001B[43m    \u001B[49m\u001B[43m)\u001B[49m\n\u001B[1;32m     18\u001B[0m     \u001B[38;5;28;01mfor\u001B[39;00m data \u001B[38;5;129;01min\u001B[39;00m tqdm(datasets, desc\u001B[38;5;241m=\u001B[39m\u001B[38;5;124m\"\u001B[39m\u001B[38;5;124mWorkflow ATEs\u001B[39m\u001B[38;5;124m\"\u001B[39m, leave\u001B[38;5;241m=\u001B[39m\u001B[38;5;28;01mFalse\u001B[39;00m)\n\u001B[1;32m     19\u001B[0m ]\n",
      "File \u001B[0;32m~/GitHub/eliater/venv/lib/python3.11/site-packages/y0/algorithm/estimation/__init__.py:73\u001B[0m, in \u001B[0;36mestimate_ace\u001B[0;34m(graph, treatments, outcomes, data, conditions, bootstraps, alpha, estimator)\u001B[0m\n\u001B[1;32m     70\u001B[0m \u001B[38;5;28;01melse\u001B[39;00m:\n\u001B[1;32m     71\u001B[0m     \u001B[38;5;28;01mraise\u001B[39;00m \u001B[38;5;167;01mRuntimeError\u001B[39;00m(\u001B[38;5;124m\"\u001B[39m\u001B[38;5;124mGraph is not identifiable; effect can not be estimated\u001B[39m\u001B[38;5;124m\"\u001B[39m)\n\u001B[0;32m---> 73\u001B[0m \u001B[38;5;28;01mreturn\u001B[39;00m \u001B[43mananke_average_causal_effect\u001B[49m\u001B[43m(\u001B[49m\n\u001B[1;32m     74\u001B[0m \u001B[43m    \u001B[49m\u001B[43mgraph\u001B[49m\u001B[38;5;241;43m=\u001B[39;49m\u001B[43mgraph\u001B[49m\u001B[43m,\u001B[49m\n\u001B[1;32m     75\u001B[0m \u001B[43m    \u001B[49m\u001B[43mdata\u001B[49m\u001B[38;5;241;43m=\u001B[39;49m\u001B[43mdata\u001B[49m\u001B[43m,\u001B[49m\n\u001B[1;32m     76\u001B[0m \u001B[43m    \u001B[49m\u001B[43mtreatment\u001B[49m\u001B[38;5;241;43m=\u001B[39;49m\u001B[43mtreatments\u001B[49m\u001B[43m,\u001B[49m\n\u001B[1;32m     77\u001B[0m \u001B[43m    \u001B[49m\u001B[43moutcome\u001B[49m\u001B[38;5;241;43m=\u001B[39;49m\u001B[43moutcomes\u001B[49m\u001B[43m,\u001B[49m\n\u001B[1;32m     78\u001B[0m \u001B[43m    \u001B[49m\u001B[43mestimator\u001B[49m\u001B[38;5;241;43m=\u001B[39;49m\u001B[43mestimator\u001B[49m\u001B[43m,\u001B[49m\n\u001B[1;32m     79\u001B[0m \u001B[43m    \u001B[49m\u001B[43mbootstraps\u001B[49m\u001B[38;5;241;43m=\u001B[39;49m\u001B[43mbootstraps\u001B[49m\u001B[43m,\u001B[49m\n\u001B[1;32m     80\u001B[0m \u001B[43m    \u001B[49m\u001B[43malpha\u001B[49m\u001B[38;5;241;43m=\u001B[39;49m\u001B[43malpha\u001B[49m\u001B[43m,\u001B[49m\n\u001B[1;32m     81\u001B[0m \u001B[43m\u001B[49m\u001B[43m)\u001B[49m\n",
      "File \u001B[0;32m~/GitHub/eliater/venv/lib/python3.11/site-packages/y0/algorithm/estimation/__init__.py:112\u001B[0m, in \u001B[0;36mananke_average_causal_effect\u001B[0;34m(graph, data, treatment, outcome, estimator, bootstraps, alpha)\u001B[0m\n\u001B[1;32m    106\u001B[0m \u001B[38;5;28;01mwith\u001B[39;00m redirect_stdout(\u001B[38;5;28;01mNone\u001B[39;00m):\n\u001B[1;32m    107\u001B[0m     \u001B[38;5;66;03m# redirect stdout gets rid of the unnecessary printing from Ananke,\u001B[39;00m\n\u001B[1;32m    108\u001B[0m     \u001B[38;5;66;03m# e.g., when CausalEffect says what estimators can be used. We take\u001B[39;00m\n\u001B[1;32m    109\u001B[0m     \u001B[38;5;66;03m# care of that explicitly below\u001B[39;00m\n\u001B[1;32m    110\u001B[0m     causal_effect \u001B[38;5;241m=\u001B[39m CausalEffect(ananke_graph, treatment\u001B[38;5;241m.\u001B[39mname, outcome\u001B[38;5;241m.\u001B[39mname)\n\u001B[0;32m--> 112\u001B[0m \u001B[38;5;28;01mreturn\u001B[39;00m \u001B[43mcausal_effect\u001B[49m\u001B[38;5;241;43m.\u001B[39;49m\u001B[43mcompute_effect\u001B[49m\u001B[43m(\u001B[49m\n\u001B[1;32m    113\u001B[0m \u001B[43m    \u001B[49m\u001B[43mdata\u001B[49m\u001B[43m,\u001B[49m\u001B[43m \u001B[49m\u001B[43mestimator\u001B[49m\u001B[38;5;241;43m=\u001B[39;49m\u001B[43mestimator\u001B[49m\u001B[43m,\u001B[49m\u001B[43m \u001B[49m\u001B[43mn_bootstraps\u001B[49m\u001B[38;5;241;43m=\u001B[39;49m\u001B[43mbootstraps\u001B[49m\u001B[43m \u001B[49m\u001B[38;5;129;43;01mor\u001B[39;49;00m\u001B[43m \u001B[49m\u001B[38;5;241;43m0\u001B[39;49m\u001B[43m,\u001B[49m\u001B[43m \u001B[49m\u001B[43malpha\u001B[49m\u001B[38;5;241;43m=\u001B[39;49m\u001B[43malpha\u001B[49m\u001B[43m \u001B[49m\u001B[38;5;129;43;01mor\u001B[39;49;00m\u001B[43m \u001B[49m\u001B[38;5;241;43m0.05\u001B[39;49m\n\u001B[1;32m    114\u001B[0m \u001B[43m\u001B[49m\u001B[43m)\u001B[49m\n",
      "File \u001B[0;32m~/GitHub/eliater/venv/lib/python3.11/site-packages/ananke/estimation/counterfactual_mean.py:1135\u001B[0m, in \u001B[0;36mCausalEffect.compute_effect\u001B[0;34m(self, data, estimator, model_binary, model_continuous, n_bootstraps, alpha, report_log_odds)\u001B[0m\n\u001B[1;32m   1133\u001B[0m \u001B[38;5;66;03m# instantiate estimator and get point estimate of ACE\u001B[39;00m\n\u001B[1;32m   1134\u001B[0m method \u001B[38;5;241m=\u001B[39m \u001B[38;5;28mself\u001B[39m\u001B[38;5;241m.\u001B[39mestimators[estimator]\n\u001B[0;32m-> 1135\u001B[0m point_estimate_T1 \u001B[38;5;241m=\u001B[39m \u001B[43mmethod\u001B[49m\u001B[43m(\u001B[49m\u001B[43mdf\u001B[49m\u001B[43m,\u001B[49m\u001B[43m \u001B[49m\u001B[38;5;241;43m1\u001B[39;49m\u001B[43m,\u001B[49m\u001B[43m \u001B[49m\u001B[43mmodel_binary\u001B[49m\u001B[43m,\u001B[49m\u001B[43m \u001B[49m\u001B[43mmodel_continuous\u001B[49m\u001B[43m)\u001B[49m\n\u001B[1;32m   1136\u001B[0m point_estimate_T0 \u001B[38;5;241m=\u001B[39m method(df, \u001B[38;5;241m0\u001B[39m, model_binary, model_continuous)\n\u001B[1;32m   1138\u001B[0m \u001B[38;5;66;03m# if Y is binary report log of odds ration, if Y is continuous report ACE\u001B[39;00m\n",
      "File \u001B[0;32m~/GitHub/eliater/venv/lib/python3.11/site-packages/ananke/estimation/counterfactual_mean.py:387\u001B[0m, in \u001B[0;36mCausalEffect._eff_augmented_ipw\u001B[0;34m(self, data, assignment, model_binary, model_continuous)\u001B[0m\n\u001B[1;32m    385\u001B[0m \u001B[38;5;66;03m# special case if mp(V) is empty, then E[primal | mp(V)] = E[primal]\u001B[39;00m\n\u001B[1;32m    386\u001B[0m \u001B[38;5;28;01mif\u001B[39;00m \u001B[38;5;28mlen\u001B[39m(mpV) \u001B[38;5;241m!=\u001B[39m \u001B[38;5;241m0\u001B[39m:\n\u001B[0;32m--> 387\u001B[0m     model_mpV \u001B[38;5;241m=\u001B[39m \u001B[43mmodel_continuous\u001B[49m\u001B[43m(\u001B[49m\n\u001B[1;32m    388\u001B[0m \u001B[43m        \u001B[49m\u001B[43mdata\u001B[49m\u001B[43m,\u001B[49m\u001B[43m \u001B[49m\u001B[43mformula\u001B[49m\n\u001B[1;32m    389\u001B[0m \u001B[43m    \u001B[49m\u001B[43m)\u001B[49m  \u001B[38;5;66;03m# primal is a continuous r.v.\u001B[39;00m\n\u001B[1;32m    390\u001B[0m     primal_mpV \u001B[38;5;241m=\u001B[39m model_mpV\u001B[38;5;241m.\u001B[39mpredict(data)\n\u001B[1;32m    391\u001B[0m \u001B[38;5;28;01melse\u001B[39;00m:\n",
      "File \u001B[0;32m~/GitHub/eliater/venv/lib/python3.11/site-packages/ananke/estimation/counterfactual_mean.py:200\u001B[0m, in \u001B[0;36mCausalEffect._fit_continuous_glm\u001B[0;34m(self, data, formula, weights)\u001B[0m\n\u001B[1;32m    186\u001B[0m \u001B[38;5;28;01mdef\u001B[39;00m \u001B[38;5;21m_fit_continuous_glm\u001B[39m(\u001B[38;5;28mself\u001B[39m, data, formula, weights\u001B[38;5;241m=\u001B[39m\u001B[38;5;28;01mNone\u001B[39;00m):\n\u001B[1;32m    187\u001B[0m \u001B[38;5;250m    \u001B[39m\u001B[38;5;124;03m\"\"\"\u001B[39;00m\n\u001B[1;32m    188\u001B[0m \u001B[38;5;124;03m    Fit a linear GLM to data given a formula.\u001B[39;00m\n\u001B[1;32m    189\u001B[0m \n\u001B[0;32m   (...)\u001B[0m\n\u001B[1;32m    192\u001B[0m \u001B[38;5;124;03m    :return: the fitted model.\u001B[39;00m\n\u001B[1;32m    193\u001B[0m \u001B[38;5;124;03m    \"\"\"\u001B[39;00m\n\u001B[1;32m    195\u001B[0m     \u001B[38;5;28;01mreturn\u001B[39;00m \u001B[43msm\u001B[49m\u001B[38;5;241;43m.\u001B[39;49m\u001B[43mGLM\u001B[49m\u001B[38;5;241;43m.\u001B[39;49m\u001B[43mfrom_formula\u001B[49m\u001B[43m(\u001B[49m\n\u001B[1;32m    196\u001B[0m \u001B[43m        \u001B[49m\u001B[43mformula\u001B[49m\u001B[43m,\u001B[49m\n\u001B[1;32m    197\u001B[0m \u001B[43m        \u001B[49m\u001B[43mdata\u001B[49m\u001B[38;5;241;43m=\u001B[39;49m\u001B[43mdata\u001B[49m\u001B[43m,\u001B[49m\n\u001B[1;32m    198\u001B[0m \u001B[43m        \u001B[49m\u001B[43mfamily\u001B[49m\u001B[38;5;241;43m=\u001B[39;49m\u001B[43msm\u001B[49m\u001B[38;5;241;43m.\u001B[39;49m\u001B[43mfamilies\u001B[49m\u001B[38;5;241;43m.\u001B[39;49m\u001B[43mGaussian\u001B[49m\u001B[43m(\u001B[49m\u001B[43m)\u001B[49m\u001B[43m,\u001B[49m\n\u001B[1;32m    199\u001B[0m \u001B[43m        \u001B[49m\u001B[43mfreq_weights\u001B[49m\u001B[38;5;241;43m=\u001B[39;49m\u001B[43mweights\u001B[49m\u001B[43m,\u001B[49m\n\u001B[0;32m--> 200\u001B[0m \u001B[43m    \u001B[49m\u001B[43m)\u001B[49m\u001B[38;5;241;43m.\u001B[39;49m\u001B[43mfit\u001B[49m\u001B[43m(\u001B[49m\u001B[43m)\u001B[49m\n",
      "File \u001B[0;32m~/GitHub/eliater/venv/lib/python3.11/site-packages/statsmodels/genmod/generalized_linear_model.py:1075\u001B[0m, in \u001B[0;36mGLM.fit\u001B[0;34m(self, start_params, maxiter, method, tol, scale, cov_type, cov_kwds, use_t, full_output, disp, max_start_irls, **kwargs)\u001B[0m\n\u001B[1;32m   1073\u001B[0m     \u001B[38;5;28;01mif\u001B[39;00m cov_type\u001B[38;5;241m.\u001B[39mlower() \u001B[38;5;241m==\u001B[39m \u001B[38;5;124m'\u001B[39m\u001B[38;5;124meim\u001B[39m\u001B[38;5;124m'\u001B[39m:\n\u001B[1;32m   1074\u001B[0m         cov_type \u001B[38;5;241m=\u001B[39m \u001B[38;5;124m'\u001B[39m\u001B[38;5;124mnonrobust\u001B[39m\u001B[38;5;124m'\u001B[39m\n\u001B[0;32m-> 1075\u001B[0m     \u001B[38;5;28;01mreturn\u001B[39;00m \u001B[38;5;28;43mself\u001B[39;49m\u001B[38;5;241;43m.\u001B[39;49m\u001B[43m_fit_irls\u001B[49m\u001B[43m(\u001B[49m\u001B[43mstart_params\u001B[49m\u001B[38;5;241;43m=\u001B[39;49m\u001B[43mstart_params\u001B[49m\u001B[43m,\u001B[49m\u001B[43m \u001B[49m\u001B[43mmaxiter\u001B[49m\u001B[38;5;241;43m=\u001B[39;49m\u001B[43mmaxiter\u001B[49m\u001B[43m,\u001B[49m\n\u001B[1;32m   1076\u001B[0m \u001B[43m                          \u001B[49m\u001B[43mtol\u001B[49m\u001B[38;5;241;43m=\u001B[39;49m\u001B[43mtol\u001B[49m\u001B[43m,\u001B[49m\u001B[43m \u001B[49m\u001B[43mscale\u001B[49m\u001B[38;5;241;43m=\u001B[39;49m\u001B[43mscale\u001B[49m\u001B[43m,\u001B[49m\u001B[43m \u001B[49m\u001B[43mcov_type\u001B[49m\u001B[38;5;241;43m=\u001B[39;49m\u001B[43mcov_type\u001B[49m\u001B[43m,\u001B[49m\n\u001B[1;32m   1077\u001B[0m \u001B[43m                          \u001B[49m\u001B[43mcov_kwds\u001B[49m\u001B[38;5;241;43m=\u001B[39;49m\u001B[43mcov_kwds\u001B[49m\u001B[43m,\u001B[49m\u001B[43m \u001B[49m\u001B[43muse_t\u001B[49m\u001B[38;5;241;43m=\u001B[39;49m\u001B[43muse_t\u001B[49m\u001B[43m,\u001B[49m\u001B[43m \u001B[49m\u001B[38;5;241;43m*\u001B[39;49m\u001B[38;5;241;43m*\u001B[39;49m\u001B[43mkwargs\u001B[49m\u001B[43m)\u001B[49m\n\u001B[1;32m   1078\u001B[0m \u001B[38;5;28;01melse\u001B[39;00m:\n\u001B[1;32m   1079\u001B[0m     \u001B[38;5;28mself\u001B[39m\u001B[38;5;241m.\u001B[39m_optim_hessian \u001B[38;5;241m=\u001B[39m kwargs\u001B[38;5;241m.\u001B[39mget(\u001B[38;5;124m'\u001B[39m\u001B[38;5;124moptim_hessian\u001B[39m\u001B[38;5;124m'\u001B[39m)\n",
      "File \u001B[0;32m~/GitHub/eliater/venv/lib/python3.11/site-packages/statsmodels/genmod/generalized_linear_model.py:1225\u001B[0m, in \u001B[0;36mGLM._fit_irls\u001B[0;34m(self, start_params, maxiter, tol, scale, cov_type, cov_kwds, use_t, **kwargs)\u001B[0m\n\u001B[1;32m   1223\u001B[0m     msg \u001B[38;5;241m=\u001B[39m \u001B[38;5;124m\"\u001B[39m\u001B[38;5;124mPerfect separation detected, results not available\u001B[39m\u001B[38;5;124m\"\u001B[39m\n\u001B[1;32m   1224\u001B[0m     \u001B[38;5;28;01mraise\u001B[39;00m PerfectSeparationError(msg)\n\u001B[0;32m-> 1225\u001B[0m converged \u001B[38;5;241m=\u001B[39m \u001B[43m_check_convergence\u001B[49m\u001B[43m(\u001B[49m\u001B[43mcriterion\u001B[49m\u001B[43m,\u001B[49m\u001B[43m \u001B[49m\u001B[43miteration\u001B[49m\u001B[43m \u001B[49m\u001B[38;5;241;43m+\u001B[39;49m\u001B[43m \u001B[49m\u001B[38;5;241;43m1\u001B[39;49m\u001B[43m,\u001B[49m\u001B[43m \u001B[49m\u001B[43matol\u001B[49m\u001B[43m,\u001B[49m\n\u001B[1;32m   1226\u001B[0m \u001B[43m                               \u001B[49m\u001B[43mrtol\u001B[49m\u001B[43m)\u001B[49m\n\u001B[1;32m   1227\u001B[0m \u001B[38;5;28;01mif\u001B[39;00m converged:\n\u001B[1;32m   1228\u001B[0m     \u001B[38;5;28;01mbreak\u001B[39;00m\n",
      "File \u001B[0;32m~/GitHub/eliater/venv/lib/python3.11/site-packages/statsmodels/genmod/generalized_linear_model.py:56\u001B[0m, in \u001B[0;36m_check_convergence\u001B[0;34m(criterion, iteration, atol, rtol)\u001B[0m\n\u001B[1;32m     55\u001B[0m \u001B[38;5;28;01mdef\u001B[39;00m \u001B[38;5;21m_check_convergence\u001B[39m(criterion, iteration, atol, rtol):\n\u001B[0;32m---> 56\u001B[0m     \u001B[38;5;28;01mreturn\u001B[39;00m \u001B[43mnp\u001B[49m\u001B[38;5;241;43m.\u001B[39;49m\u001B[43mallclose\u001B[49m\u001B[43m(\u001B[49m\u001B[43mcriterion\u001B[49m\u001B[43m[\u001B[49m\u001B[43miteration\u001B[49m\u001B[43m]\u001B[49m\u001B[43m,\u001B[49m\u001B[43m \u001B[49m\u001B[43mcriterion\u001B[49m\u001B[43m[\u001B[49m\u001B[43miteration\u001B[49m\u001B[43m \u001B[49m\u001B[38;5;241;43m+\u001B[39;49m\u001B[43m \u001B[49m\u001B[38;5;241;43m1\u001B[39;49m\u001B[43m]\u001B[49m\u001B[43m,\u001B[49m\n\u001B[1;32m     57\u001B[0m \u001B[43m                       \u001B[49m\u001B[43matol\u001B[49m\u001B[38;5;241;43m=\u001B[39;49m\u001B[43matol\u001B[49m\u001B[43m,\u001B[49m\u001B[43m \u001B[49m\u001B[43mrtol\u001B[49m\u001B[38;5;241;43m=\u001B[39;49m\u001B[43mrtol\u001B[49m\u001B[43m)\u001B[49m\n",
      "File \u001B[0;32m~/GitHub/eliater/venv/lib/python3.11/site-packages/numpy/core/numeric.py:2241\u001B[0m, in \u001B[0;36mallclose\u001B[0;34m(a, b, rtol, atol, equal_nan)\u001B[0m\n\u001B[1;32m   2170\u001B[0m \u001B[38;5;129m@array_function_dispatch\u001B[39m(_allclose_dispatcher)\n\u001B[1;32m   2171\u001B[0m \u001B[38;5;28;01mdef\u001B[39;00m \u001B[38;5;21mallclose\u001B[39m(a, b, rtol\u001B[38;5;241m=\u001B[39m\u001B[38;5;241m1.e-5\u001B[39m, atol\u001B[38;5;241m=\u001B[39m\u001B[38;5;241m1.e-8\u001B[39m, equal_nan\u001B[38;5;241m=\u001B[39m\u001B[38;5;28;01mFalse\u001B[39;00m):\n\u001B[1;32m   2172\u001B[0m \u001B[38;5;250m    \u001B[39m\u001B[38;5;124;03m\"\"\"\u001B[39;00m\n\u001B[1;32m   2173\u001B[0m \u001B[38;5;124;03m    Returns True if two arrays are element-wise equal within a tolerance.\u001B[39;00m\n\u001B[1;32m   2174\u001B[0m \n\u001B[0;32m   (...)\u001B[0m\n\u001B[1;32m   2239\u001B[0m \n\u001B[1;32m   2240\u001B[0m \u001B[38;5;124;03m    \"\"\"\u001B[39;00m\n\u001B[0;32m-> 2241\u001B[0m     res \u001B[38;5;241m=\u001B[39m \u001B[38;5;28mall\u001B[39m(\u001B[43misclose\u001B[49m\u001B[43m(\u001B[49m\u001B[43ma\u001B[49m\u001B[43m,\u001B[49m\u001B[43m \u001B[49m\u001B[43mb\u001B[49m\u001B[43m,\u001B[49m\u001B[43m \u001B[49m\u001B[43mrtol\u001B[49m\u001B[38;5;241;43m=\u001B[39;49m\u001B[43mrtol\u001B[49m\u001B[43m,\u001B[49m\u001B[43m \u001B[49m\u001B[43matol\u001B[49m\u001B[38;5;241;43m=\u001B[39;49m\u001B[43matol\u001B[49m\u001B[43m,\u001B[49m\u001B[43m \u001B[49m\u001B[43mequal_nan\u001B[49m\u001B[38;5;241;43m=\u001B[39;49m\u001B[43mequal_nan\u001B[49m\u001B[43m)\u001B[49m)\n\u001B[1;32m   2242\u001B[0m     \u001B[38;5;28;01mreturn\u001B[39;00m \u001B[38;5;28mbool\u001B[39m(res)\n",
      "File \u001B[0;32m~/GitHub/eliater/venv/lib/python3.11/site-packages/numpy/core/numeric.py:2351\u001B[0m, in \u001B[0;36misclose\u001B[0;34m(a, b, rtol, atol, equal_nan)\u001B[0m\n\u001B[1;32m   2349\u001B[0m yfin \u001B[38;5;241m=\u001B[39m isfinite(y)\n\u001B[1;32m   2350\u001B[0m \u001B[38;5;28;01mif\u001B[39;00m \u001B[38;5;28mall\u001B[39m(xfin) \u001B[38;5;129;01mand\u001B[39;00m \u001B[38;5;28mall\u001B[39m(yfin):\n\u001B[0;32m-> 2351\u001B[0m     \u001B[38;5;28;01mreturn\u001B[39;00m \u001B[43mwithin_tol\u001B[49m\u001B[43m(\u001B[49m\u001B[43mx\u001B[49m\u001B[43m,\u001B[49m\u001B[43m \u001B[49m\u001B[43my\u001B[49m\u001B[43m,\u001B[49m\u001B[43m \u001B[49m\u001B[43matol\u001B[49m\u001B[43m,\u001B[49m\u001B[43m \u001B[49m\u001B[43mrtol\u001B[49m\u001B[43m)\u001B[49m\n\u001B[1;32m   2352\u001B[0m \u001B[38;5;28;01melse\u001B[39;00m:\n\u001B[1;32m   2353\u001B[0m     finite \u001B[38;5;241m=\u001B[39m xfin \u001B[38;5;241m&\u001B[39m yfin\n",
      "File \u001B[0;32m~/GitHub/eliater/venv/lib/python3.11/site-packages/numpy/core/numeric.py:2331\u001B[0m, in \u001B[0;36misclose.<locals>.within_tol\u001B[0;34m(x, y, atol, rtol)\u001B[0m\n\u001B[1;32m   2330\u001B[0m \u001B[38;5;28;01mdef\u001B[39;00m \u001B[38;5;21mwithin_tol\u001B[39m(x, y, atol, rtol):\n\u001B[0;32m-> 2331\u001B[0m     \u001B[38;5;28;01mwith\u001B[39;00m errstate(invalid\u001B[38;5;241m=\u001B[39m\u001B[38;5;124m'\u001B[39m\u001B[38;5;124mignore\u001B[39m\u001B[38;5;124m'\u001B[39m), \u001B[43m_no_nep50_warning\u001B[49m\u001B[43m(\u001B[49m\u001B[43m)\u001B[49m:\n\u001B[1;32m   2332\u001B[0m         \u001B[38;5;28;01mreturn\u001B[39;00m less_equal(\u001B[38;5;28mabs\u001B[39m(x\u001B[38;5;241m-\u001B[39my), atol \u001B[38;5;241m+\u001B[39m rtol \u001B[38;5;241m*\u001B[39m \u001B[38;5;28mabs\u001B[39m(y))\n",
      "File \u001B[0;32m/Library/Frameworks/Python.framework/Versions/3.11/lib/python3.11/contextlib.py:289\u001B[0m, in \u001B[0;36mcontextmanager.<locals>.helper\u001B[0;34m(*args, **kwds)\u001B[0m\n\u001B[1;32m    287\u001B[0m \u001B[38;5;129m@wraps\u001B[39m(func)\n\u001B[1;32m    288\u001B[0m \u001B[38;5;28;01mdef\u001B[39;00m \u001B[38;5;21mhelper\u001B[39m(\u001B[38;5;241m*\u001B[39margs, \u001B[38;5;241m*\u001B[39m\u001B[38;5;241m*\u001B[39mkwds):\n\u001B[0;32m--> 289\u001B[0m     \u001B[38;5;28;01mreturn\u001B[39;00m \u001B[43m_GeneratorContextManager\u001B[49m\u001B[43m(\u001B[49m\u001B[43mfunc\u001B[49m\u001B[43m,\u001B[49m\u001B[43m \u001B[49m\u001B[43margs\u001B[49m\u001B[43m,\u001B[49m\u001B[43m \u001B[49m\u001B[43mkwds\u001B[49m\u001B[43m)\u001B[49m\n",
      "File \u001B[0;32m/Library/Frameworks/Python.framework/Versions/3.11/lib/python3.11/contextlib.py:105\u001B[0m, in \u001B[0;36m_GeneratorContextManagerBase.__init__\u001B[0;34m(self, func, args, kwds)\u001B[0m\n\u001B[1;32m    104\u001B[0m \u001B[38;5;28;01mdef\u001B[39;00m \u001B[38;5;21m__init__\u001B[39m(\u001B[38;5;28mself\u001B[39m, func, args, kwds):\n\u001B[0;32m--> 105\u001B[0m     \u001B[38;5;28mself\u001B[39m\u001B[38;5;241m.\u001B[39mgen \u001B[38;5;241m=\u001B[39m \u001B[43mfunc\u001B[49m\u001B[43m(\u001B[49m\u001B[38;5;241;43m*\u001B[39;49m\u001B[43margs\u001B[49m\u001B[43m,\u001B[49m\u001B[43m \u001B[49m\u001B[38;5;241;43m*\u001B[39;49m\u001B[38;5;241;43m*\u001B[39;49m\u001B[43mkwds\u001B[49m\u001B[43m)\u001B[49m\n\u001B[1;32m    106\u001B[0m     \u001B[38;5;28mself\u001B[39m\u001B[38;5;241m.\u001B[39mfunc, \u001B[38;5;28mself\u001B[39m\u001B[38;5;241m.\u001B[39margs, \u001B[38;5;28mself\u001B[39m\u001B[38;5;241m.\u001B[39mkwds \u001B[38;5;241m=\u001B[39m func, args, kwds\n\u001B[1;32m    107\u001B[0m     \u001B[38;5;66;03m# Issue 19330: ensure context manager instances have good docstrings\u001B[39;00m\n",
      "\u001B[0;31mKeyboardInterrupt\u001B[0m: "
     ]
    }
   ],
   "source": [
    "repeats = 500\n",
    "datasets = [\n",
    "    example.generate_data(num_samples=500, seed=seed)\n",
    "    for seed in trange(repeats, desc=\"Generating datasets\", leave=False)\n",
    "]\n",
    "background_ates = [get_background_ace(seed=seed) for seed in trange(repeats, leave=False)]\n",
    "unreduced_aces = [\n",
    "    estimate_ace(graph=graph, treatments=X, outcomes=Y, data=data)\n",
    "    for data in tqdm(datasets, desc=\"No Workflow ATEs\", leave=False)\n",
    "]\n",
    "reduced_aces = [\n",
    "    estimate_ace(\n",
    "        graph=remove_nuisance_variables(graph, treatments=X, outcomes=Y),\n",
    "        treatments=X,\n",
    "        outcomes=Y,\n",
    "        data=data,\n",
    "    )\n",
    "    for data in tqdm(datasets, desc=\"Workflow ATEs\", leave=False)\n",
    "]"
   ]
  },
  {
   "cell_type": "markdown",
   "id": "fd17b15b-4a40-4894-92a4-11e2dfe6ca8e",
   "metadata": {},
   "source": [
    "## Does Reducing Nuissance Variables Matter?\n",
    "\n",
    "In the experiment below, I create several random datasets and for each see if adding the removal of nuissance variables changes the resulting ACE by taking the difference between the ACE calculated on the original graph vs the reduced graph."
   ]
  },
  {
   "cell_type": "code",
   "execution_count": 12,
   "id": "a2b7ea36-99ba-4d13-8a42-241e364b41e7",
   "metadata": {},
   "outputs": [
    {
     "data": {
      "image/png": "[encoded data removed]",
      "text/plain": [
       "<Figure size 640x480 with 1 Axes>"
      ]
     },
     "metadata": {},
     "output_type": "display_data"
    }
   ],
   "source": [
    "differences = [\n",
    "    unreduced_ace - reduced_ace for unreduced_ace, reduced_ace in zip(unreduced_aces, reduced_aces)\n",
    "]\n",
    "sns.histplot(differences)\n",
    "plt.title(\"Differences between ACE from unreduced and reduced graph\")\n",
    "plt.xlabel(\"Unreduced ACE - Reduced ACE\")\n",
    "plt.show()"
   ]
  },
  {
   "cell_type": "markdown",
   "id": "296e27d5-5634-4c83-8772-8dab26376a00",
   "metadata": {},
   "source": [
    "We're in the numerical instability region since this graph is on the scale of 1e-13 - this seems to indicate that reducing the latent variables from the graph does not have an effect on the ACE."
   ]
  },
  {
   "cell_type": "markdown",
   "id": "7d5955ff-544b-4e8e-a965-54593b4e825d",
   "metadata": {},
   "source": [
    "# What's the effect of random seed?\n",
    "\n",
    "In the experiment above, a random seed of `seed=500` was generated which resulted in a \"true\" ATE and a \"calculated\" ATE. The conclusion was that because the calculated ATE was positive, that the treatment (X) had a negative effect on the outcome (Y). A few follow-up questions:\n",
    "\n",
    "1. What's the correspondence between these numbers? Should they be the same, or different, and by how much?\n",
    "2. What happens if we pick different random seeds?\n",
    "\n",
    "Below, I picked several different random seeds and calculated the differences, and got this chart. You can see that sometimes, the difference is positive, negative, or close to zero. This means we need a better way of interpreting these results, otherwise setting the random seed is effectively cherry picking."
   ]
  },
  {
   "cell_type": "code",
   "execution_count": 13,
   "id": "a4db4ec5-808c-4fc6-937d-f6626cf38820",
   "metadata": {},
   "outputs": [
    {
     "data": {
      "image/png": "[encoded data removed]",
      "text/plain": [
       "<Figure size 640x480 with 1 Axes>"
      ]
     },
     "metadata": {},
     "output_type": "display_data"
    }
   ],
   "source": [
    "differences = [\n",
    "    background_ate - unreduced_ate\n",
    "    for background_ate, unreduced_ate in zip(background_ates, unreduced_aces)\n",
    "]\n",
    "\n",
    "sns.histplot(differences, label=\"Generated ACEs\")\n",
    "plt.axvline(ATE_value - true_ate, linewidth=3, color=\"red\")\n",
    "plt.show()"
   ]
  }
 ],
 "metadata": {
  "kernelspec": {
   "display_name": "Python 3 (ipykernel)",
   "language": "python",
   "name": "python3"
  },
  "language_info": {
   "codemirror_mode": {
    "name": "ipython",
    "version": 3
   },
   "file_extension": ".py",
   "mimetype": "text/x-python",
   "name": "python",
   "nbconvert_exporter": "python",
   "pygments_lexer": "ipython3",
   "version": "3.11.6"
  }
 },
 "nbformat": 4,
 "nbformat_minor": 5
}
