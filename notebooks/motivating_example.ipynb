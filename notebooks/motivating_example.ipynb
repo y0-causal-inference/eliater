{
 "cells": [
  {
   "cell_type": "markdown",
   "id": "abc410d51568d48c",
   "metadata": {
    "collapsed": false,
    "jupyter": {
     "outputs_hidden": false
    }
   },
   "source": [
    "# Motivating example: Figure 4"
   ]
  },
  {
   "cell_type": "markdown",
   "id": "bda3042434f63a26",
   "metadata": {
    "collapsed": false,
    "jupyter": {
     "outputs_hidden": false
    }
   },
   "source": [
    "Figure below is the motivating example in this paper: *Eliater: an open source software for causal query estimation from observational measurements of biomolecular networks*. This graph contains one mediator $M_1$ that connects the exposure $X$ to the outcome $Y$."
   ]
  },
  {
   "cell_type": "code",
   "execution_count": 1,
   "id": "d9f05326d469ff21",
   "metadata": {
    "ExecuteTime": {
     "end_time": "2024-01-17T15:39:13.427336Z",
     "start_time": "2024-01-17T15:39:13.378250Z"
    },
    "collapsed": false,
    "jupyter": {
     "outputs_hidden": false
    }
   },
   "outputs": [],
   "source": [
    "import numpy as np\n",
    "\n",
    "from eliater.examples.frontdoor_backdoor_discrete import (\n",
    "    single_mediator_with_multiple_confounders_nuisances_discrete_example,\n",
    ")\n",
    "from eliater.network_validation import print_graph_falsifications\n",
    "from y0.algorithm.identify import Identification\n",
    "from y0.dsl import P, Variable, X, Y\n",
    "from y0.algorithm.estimation import estimate_ace\n",
    "from y0.algorithm.identify import Identification, identify_outcomes\n",
    "from eliater.discover_latent_nodes import find_nuisance_variables, mark_nuisance_variables_as_latent\n",
    "from eliater.discover_latent_nodes import remove_nuisance_variables\n",
    "import seaborn as sns\n",
    "import matplotlib.pyplot as plt"
   ]
  },
  {
   "cell_type": "code",
   "execution_count": 2,
   "id": "5805a9bed9191161",
   "metadata": {
    "ExecuteTime": {
     "end_time": "2024-01-17T15:25:59.267390Z",
     "start_time": "2024-01-17T15:25:59.243131Z"
    },
    "collapsed": false,
    "jupyter": {
     "outputs_hidden": false
    }
   },
   "outputs": [],
   "source": [
    "graph = single_mediator_with_multiple_confounders_nuisances_discrete_example.graph"
   ]
  },
  {
   "cell_type": "code",
   "execution_count": 3,
   "id": "24a3d8b93b3804f2",
   "metadata": {
    "ExecuteTime": {
     "end_time": "2024-01-17T15:41:39.934008Z",
     "start_time": "2024-01-17T15:41:39.904426Z"
    },
    "collapsed": false,
    "jupyter": {
     "outputs_hidden": false
    }
   },
   "outputs": [],
   "source": [
    "data = single_mediator_with_multiple_confounders_nuisances_discrete_example.generate_data(\n",
    "    num_samples=500, seed=500\n",
    ")"
   ]
  },
  {
   "cell_type": "code",
   "execution_count": 4,
   "id": "cf358541c283c63c",
   "metadata": {
    "ExecuteTime": {
     "end_time": "2024-01-17T15:41:41.133450Z",
     "start_time": "2024-01-17T15:41:41.078923Z"
    },
    "collapsed": false,
    "jupyter": {
     "outputs_hidden": false
    }
   },
   "outputs": [
    {
     "data": {
      "text/html": [
       "<div>\n",
       "<style scoped>\n",
       "    .dataframe tbody tr th:only-of-type {\n",
       "        vertical-align: middle;\n",
       "    }\n",
       "\n",
       "    .dataframe tbody tr th {\n",
       "        vertical-align: top;\n",
       "    }\n",
       "\n",
       "    .dataframe thead th {\n",
       "        text-align: right;\n",
       "    }\n",
       "</style>\n",
       "<table border=\"1\" class=\"dataframe\">\n",
       "  <thead>\n",
       "    <tr style=\"text-align: right;\">\n",
       "      <th></th>\n",
       "      <th>X</th>\n",
       "      <th>M1</th>\n",
       "      <th>Z1</th>\n",
       "      <th>Z2</th>\n",
       "      <th>Z3</th>\n",
       "      <th>R1</th>\n",
       "      <th>R2</th>\n",
       "      <th>R3</th>\n",
       "      <th>Y</th>\n",
       "    </tr>\n",
       "  </thead>\n",
       "  <tbody>\n",
       "    <tr>\n",
       "      <th>0</th>\n",
       "      <td>1</td>\n",
       "      <td>1</td>\n",
       "      <td>1</td>\n",
       "      <td>1</td>\n",
       "      <td>1</td>\n",
       "      <td>1</td>\n",
       "      <td>1</td>\n",
       "      <td>1</td>\n",
       "      <td>1</td>\n",
       "    </tr>\n",
       "    <tr>\n",
       "      <th>1</th>\n",
       "      <td>1</td>\n",
       "      <td>1</td>\n",
       "      <td>1</td>\n",
       "      <td>0</td>\n",
       "      <td>0</td>\n",
       "      <td>1</td>\n",
       "      <td>1</td>\n",
       "      <td>1</td>\n",
       "      <td>1</td>\n",
       "    </tr>\n",
       "    <tr>\n",
       "      <th>2</th>\n",
       "      <td>1</td>\n",
       "      <td>0</td>\n",
       "      <td>1</td>\n",
       "      <td>0</td>\n",
       "      <td>1</td>\n",
       "      <td>1</td>\n",
       "      <td>1</td>\n",
       "      <td>0</td>\n",
       "      <td>1</td>\n",
       "    </tr>\n",
       "    <tr>\n",
       "      <th>3</th>\n",
       "      <td>1</td>\n",
       "      <td>1</td>\n",
       "      <td>1</td>\n",
       "      <td>1</td>\n",
       "      <td>1</td>\n",
       "      <td>1</td>\n",
       "      <td>1</td>\n",
       "      <td>1</td>\n",
       "      <td>0</td>\n",
       "    </tr>\n",
       "    <tr>\n",
       "      <th>4</th>\n",
       "      <td>1</td>\n",
       "      <td>1</td>\n",
       "      <td>1</td>\n",
       "      <td>1</td>\n",
       "      <td>0</td>\n",
       "      <td>1</td>\n",
       "      <td>1</td>\n",
       "      <td>1</td>\n",
       "      <td>1</td>\n",
       "    </tr>\n",
       "  </tbody>\n",
       "</table>\n",
       "</div>"
      ],
      "text/plain": [
       "   X  M1  Z1  Z2  Z3  R1  R2  R3  Y\n",
       "0  1   1   1   1   1   1   1   1  1\n",
       "1  1   1   1   0   0   1   1   1  1\n",
       "2  1   0   1   0   1   1   1   0  1\n",
       "3  1   1   1   1   1   1   1   1  0\n",
       "4  1   1   1   1   0   1   1   1  1"
      ]
     },
     "execution_count": 4,
     "metadata": {},
     "output_type": "execute_result"
    }
   ],
   "source": [
    "data.head()"
   ]
  },
  {
   "cell_type": "markdown",
   "id": "7f8b8c77d0b42c3e",
   "metadata": {
    "collapsed": false,
    "jupyter": {
     "outputs_hidden": false
    }
   },
   "source": [
    "## Step 1: Verify correctness of the network structure"
   ]
  },
  {
   "cell_type": "code",
   "execution_count": 5,
   "id": "4e3220a2c48cb9b4",
   "metadata": {
    "ExecuteTime": {
     "end_time": "2024-01-17T15:41:45.144807Z",
     "start_time": "2024-01-17T15:41:43.311539Z"
    },
    "collapsed": false,
    "jupyter": {
     "outputs_hidden": false
    }
   },
   "outputs": [
    {
     "name": "stdout",
     "output_type": "stream",
     "text": [
      "Failed tests: 0/26 (0.00%)\n",
      "Reject null hypothesis when p<0.01\n",
      "======  =======  =======  =========  ========  =====  =======  ===================\n",
      "left    right    given        stats         p    dof    p_adj  p_adj_significant\n",
      "======  =======  =======  =========  ========  =====  =======  ===================\n",
      "R3      X        M1|Z2    3.72468    0.444547      4        1  False\n",
      "Y       Z1       X|Z2     3.842      0.427811      4        1  False\n",
      "M1      R2       R1       0.148438   0.928469      2        1  False\n",
      "R1      Z1       X        0.0530231  0.973837      2        1  False\n",
      "R3      Z2       X|Z3     5.99107    0.112045      3        1  False\n",
      "R3      Z3       R2|Y     0.149065   0.997357      4        1  False\n",
      "R2      Y        R1       0.543749   0.76195       2        1  False\n",
      "R1      Z2       X        3.57855    0.167081      2        1  False\n",
      "M1      R3       R2|Y     0.901882   0.924291      4        1  False\n",
      "R1      X        M1       0.227982   0.892266      2        1  False\n",
      "R1      Z3       X        1.41849    0.492015      2        1  False\n",
      "X       Z2       Z1       0.34346    0.842206      2        1  False\n",
      "X       Z3       Z2       1.73587    0.419817      2        1  False\n",
      "R1      R3       R2|Y     0.818848   0.935903      4        1  False\n",
      "R1      Y        M1       4.41965    0.10972       2        1  False\n",
      "R3      Z1       X|Z2     1.03831    0.791983      3        1  False\n",
      "R2      Z2       X        0.529657   0.767338      2        1  False\n",
      "R2      Z1       X        0.186598   0.910921      2        1  False\n",
      "Z1      Z3       Z2       0.698232   0.705311      2        1  False\n",
      "R2      Z3       X        4.48986    0.105935      2        1  False\n",
      "M1      Z1       X        1.44905    0.484554      2        1  False\n",
      "X       Y        M1|Z2    2.04254    0.727934      4        1  False\n",
      "R2      X        R1       0.0114721  0.99428       2        1  False\n",
      "M1      Z3       X        0.617323   0.734429      2        1  False\n",
      "Y       Z2       X|Z3     1.1174     0.891501      4        1  False\n",
      "M1      Z2       X        0          1             2        1  False\n",
      "======  =======  =======  =========  ========  =====  =======  ===================\n"
     ]
    }
   ],
   "source": [
    "print_graph_falsifications(graph, data, method=\"chi-square\", verbose=True, significance_level=0.01)"
   ]
  },
  {
   "cell_type": "markdown",
   "id": "8b40df88c10664e3",
   "metadata": {
    "collapsed": false,
    "jupyter": {
     "outputs_hidden": false
    }
   },
   "source": [
    "All the d-separations implied by the network are validated by the data. No test failed. Hence, we can proceed to step 2."
   ]
  },
  {
   "cell_type": "markdown",
   "id": "4435aa5f3a8f55b9",
   "metadata": {
    "collapsed": false,
    "jupyter": {
     "outputs_hidden": false
    }
   },
   "source": [
    "## Step 2: Check query identifiability\n",
    "\n",
    "The causal query of interest is the average treatment effect of $X$ on $Y$, defined as:\n",
    "$E[Y|do(X=1)] - E[Y|do(X=0)]$."
   ]
  },
  {
   "cell_type": "code",
   "execution_count": 6,
   "id": "6a1d0da707ca1d2f",
   "metadata": {
    "ExecuteTime": {
     "end_time": "2024-01-17T15:38:31.023301Z",
     "start_time": "2024-01-17T15:38:30.975649Z"
    },
    "collapsed": false,
    "jupyter": {
     "outputs_hidden": false
    }
   },
   "outputs": [
    {
     "data": {
      "text/latex": [
       "$\\sum\\limits_{M_1, Z_1, Z_2, Z_3} P(M_1 | X, Z_1) P(Y | M_1, X, Z_1, Z_2, Z_3) P(Z_2 | Z_1) P(Z_3 | Z_1, Z_2) \\sum\\limits_{M_1, X, Y, Z_2, Z_3} \\sum\\limits_{R_1, R_2, R_3} P(M_1, R_1, R_2, R_3, X, Y, Z_1, Z_2, Z_3)$"
      ],
      "text/plain": [
       "Sum[M1, Z1, Z2, Z3](P(M1 | X, Z1) * P(Y | M1, X, Z1, Z2, Z3) * P(Z2 | Z1) * P(Z3 | Z1, Z2) * Sum[M1, X, Y, Z2, Z3](Sum[R1, R2, R3](P(M1, R1, R2, R3, X, Y, Z1, Z2, Z3))))"
      ]
     },
     "execution_count": 6,
     "metadata": {},
     "output_type": "execute_result"
    }
   ],
   "source": [
    "identify_outcomes(graph=graph, treatments=X, outcomes=Y)"
   ]
  },
  {
   "cell_type": "markdown",
   "id": "5e27342ad3164b42",
   "metadata": {
    "collapsed": false,
    "jupyter": {
     "outputs_hidden": false
    }
   },
   "source": [
    "The query is identifiable. Hence we can proceed to step 3."
   ]
  },
  {
   "cell_type": "markdown",
   "id": "2ed3073afbc7030a",
   "metadata": {
    "collapsed": false,
    "jupyter": {
     "outputs_hidden": false
    }
   },
   "source": [
    "## Step 3: Find nuisance variables and mark them as latent"
   ]
  },
  {
   "cell_type": "markdown",
   "id": "b7661cedf357ad01",
   "metadata": {
    "collapsed": false,
    "jupyter": {
     "outputs_hidden": false
    }
   },
   "source": [
    "This function finds the nuisance variables for the input graph."
   ]
  },
  {
   "cell_type": "code",
   "execution_count": 7,
   "id": "c094ba6186dfecf6",
   "metadata": {
    "ExecuteTime": {
     "end_time": "2024-01-17T15:38:41.126011Z",
     "start_time": "2024-01-17T15:38:41.054670Z"
    },
    "collapsed": false,
    "jupyter": {
     "outputs_hidden": false
    }
   },
   "outputs": [
    {
     "data": {
      "text/plain": [
       "{R1, R2, R3}"
      ]
     },
     "execution_count": 7,
     "metadata": {},
     "output_type": "execute_result"
    }
   ],
   "source": [
    "nuisance_variables = find_nuisance_variables(graph, treatments=X, outcomes=Y)\n",
    "nuisance_variables"
   ]
  },
  {
   "cell_type": "markdown",
   "id": "79a36765bb1640f6",
   "metadata": {
    "collapsed": false,
    "jupyter": {
     "outputs_hidden": false
    }
   },
   "source": [
    "The nuisance variables are $R_1$, $R_2$, and $R_3$."
   ]
  },
  {
   "cell_type": "markdown",
   "id": "b86a9300fa3d3881",
   "metadata": {
    "collapsed": false,
    "jupyter": {
     "outputs_hidden": false
    }
   },
   "source": [
    "## Step 4: Simplify the network"
   ]
  },
  {
   "cell_type": "markdown",
   "id": "92e386966d986cec",
   "metadata": {
    "collapsed": false,
    "jupyter": {
     "outputs_hidden": false
    }
   },
   "source": [
    "The following function finds the nuisance variable (step 3), marks them as latent and then applies Evan's simplification rules to remove the nuisance variables. As a result, running the 'find_nuisance_variables' and 'mark_nuisance_variables_as_latent' functions in step 3 is not necessary to get the value of step 4. However, we called them to illustrate the results. The new graph obtained in step 4 does not contain the nuisance variables. "
   ]
  },
  {
   "cell_type": "code",
   "execution_count": 8,
   "id": "e1d0f93c0d993112",
   "metadata": {
    "ExecuteTime": {
     "end_time": "2024-01-17T15:38:44.092780Z",
     "start_time": "2024-01-17T15:38:44.067590Z"
    },
    "collapsed": false,
    "jupyter": {
     "outputs_hidden": false
    }
   },
   "outputs": [],
   "source": [
    "new_graph = remove_nuisance_variables(graph, treatments=X, outcomes=Y)"
   ]
  },
  {
   "cell_type": "markdown",
   "id": "f1b8adaf922f3096",
   "metadata": {
    "collapsed": false,
    "jupyter": {
     "outputs_hidden": false
    }
   },
   "source": [
    "## Step 5: Estimate the query"
   ]
  },
  {
   "cell_type": "code",
   "execution_count": 9,
   "id": "55a147fe3a3ee98d",
   "metadata": {
    "ExecuteTime": {
     "end_time": "2024-01-17T15:41:01.399162Z",
     "start_time": "2024-01-17T15:41:01.075146Z"
    },
    "collapsed": false,
    "jupyter": {
     "outputs_hidden": false
    }
   },
   "outputs": [
    {
     "data": {
      "text/plain": [
       "0.20915697893041166"
      ]
     },
     "execution_count": 9,
     "metadata": {},
     "output_type": "execute_result"
    }
   ],
   "source": [
    "ATE_value = estimate_ace(\n",
    "    graph=new_graph, treatments=X, outcomes=Y, data=data\n",
    ")\n",
    "ATE_value"
   ]
  },
  {
   "cell_type": "markdown",
   "id": "8b1fbdecffb16328",
   "metadata": {
    "collapsed": false,
    "jupyter": {
     "outputs_hidden": false
    }
   },
   "source": [
    "The ATE amounts to 0.21 meaning that the average effect that $X$ has on $Y$ is negative."
   ]
  },
  {
   "cell_type": "markdown",
   "id": "e362c47381bc281f",
   "metadata": {
    "collapsed": false,
    "jupyter": {
     "outputs_hidden": false
    }
   },
   "source": [
    "# Evaluation Criterion\n",
    "\n",
    "As we used synthetic data set, we were able to generate two interventional data sets where in\n",
    "one X was set to 1, and the other one X is set to 0. The ATE was calculated by subtracting the average value of Y obtained from each interventional data,\n",
    "resulting in the ground truth ATE=0.01. The ATE indicates that increase in X can increase  Y levels."
   ]
  },
  {
   "cell_type": "code",
   "execution_count": 23,
   "id": "7aa1b23565adae07",
   "metadata": {
    "ExecuteTime": {
     "end_time": "2024-01-17T15:41:11.036266Z",
     "start_time": "2024-01-17T15:41:10.992234Z"
    },
    "collapsed": false,
    "jupyter": {
     "outputs_hidden": false
    }
   },
   "outputs": [
    {
     "name": "stdout",
     "output_type": "stream",
     "text": [
      "The true ATE is 0.01\n"
     ]
    }
   ],
   "source": [
    "# get interventional data where EGFR is set to 1\n",
    "intv_data_X_1 = single_mediator_with_multiple_confounders_nuisances_discrete_example.generate_data(\n",
    "    num_samples=500, seed=500, treatments={X: 1}\n",
    ")\n",
    "\n",
    "# get interventional data where EGFR is set to 0\n",
    "intv_data_X_0 = single_mediator_with_multiple_confounders_nuisances_discrete_example.generate_data(\n",
    "    num_samples=500, seed=500, treatments={X: 0}\n",
    ")\n",
    "\n",
    "true_ate = intv_data_X_1.mean()[\"Y\"] - intv_data_X_0.mean()[\"Y\"] \n",
    "print(f\"The true ATE is {true_ate:.04}\")"
   ]
  },
  {
   "cell_type": "markdown",
   "id": "7ae64b2d-be03-4053-a43b-40ec8ebc39fe",
   "metadata": {},
   "source": [
    "If you don't set the random seed and take a sampling over many generated datasets, you can plot the ATE. TODO: how to determine the convidence in the ATE?"
   ]
  },
  {
   "cell_type": "code",
   "execution_count": 39,
   "id": "e73d76fc-a451-47f5-a92a-005a3ba7d371",
   "metadata": {},
   "outputs": [
    {
     "data": {
      "image/png": "[encoded data removed]",
      "text/plain": [
       "<Figure size 500x200 with 1 Axes>"
      ]
     },
     "metadata": {},
     "output_type": "display_data"
    }
   ],
   "source": [
    "background_ates = []\n",
    "for _ in range(500):\n",
    "    intv_data_X_1 = single_mediator_with_multiple_confounders_nuisances_discrete_example.generate_data(\n",
    "        num_samples=500, treatments={X: 1}\n",
    "    )\n",
    "    intv_data_X_0 = single_mediator_with_multiple_confounders_nuisances_discrete_example.generate_data(\n",
    "        num_samples=500, treatments={X: 0}\n",
    "    )\n",
    "    background_ate = intv_data_X_1.mean()[\"Y\"] - intv_data_X_0.mean()[\"Y\"]\n",
    "    background_ates.append(background_ate)\n",
    "\n",
    "fix, ax = plt.subplots(1,1, figsize=(5, 2))\n",
    "sns.histplot(background_ates, ax=ax)\n",
    "ax.axvline(true_ate, linewidth=3, color=\"red\")\n",
    "ax.axvline(ATE_value, linewidth=3, color=\"green\")\n",
    "ax.set_xlabel(\"Sampled ATE\")\n",
    "ax.set_title(\"Sampled ATE\\nblue: background, red: direct calculation, green: Eliater calculation\")\n",
    "plt.show()"
   ]
  }
 ],
 "metadata": {
  "kernelspec": {
   "display_name": "Python 3 (ipykernel)",
   "language": "python",
   "name": "python3"
  },
  "language_info": {
   "codemirror_mode": {
    "name": "ipython",
    "version": 3
   },
   "file_extension": ".py",
   "mimetype": "text/x-python",
   "name": "python",
   "nbconvert_exporter": "python",
   "pygments_lexer": "ipython3",
   "version": "3.11.6"
  }
 },
 "nbformat": 4,
 "nbformat_minor": 5
}
