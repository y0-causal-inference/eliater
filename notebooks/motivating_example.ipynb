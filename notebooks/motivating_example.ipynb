{
 "cells": [
  {
   "cell_type": "markdown",
   "id": "abc410d51568d48c",
   "metadata": {
    "collapsed": false,
    "jupyter": {
     "outputs_hidden": false
    }
   },
   "source": [
    "# Motivating example: Figure 4"
   ]
  },
  {
   "cell_type": "markdown",
   "id": "bda3042434f63a26",
   "metadata": {
    "collapsed": false,
    "jupyter": {
     "outputs_hidden": false
    }
   },
   "source": [
    "Figure below is the motivating example in this paper: *Eliater: an open source software for causal query estimation from observational measurements of biomolecular networks*. This graph contains one mediator $M_1$ that connects the exposure $X$ to the outcome $Y$."
   ]
  },
  {
   "cell_type": "code",
   "execution_count": 1,
   "id": "facb9759-b850-4761-aa29-2bccb6db067f",
   "metadata": {
    "ExecuteTime": {
     "end_time": "2024-01-17T15:39:13.427336Z",
     "start_time": "2024-01-17T15:39:13.378250Z"
    },
    "collapsed": false,
    "jupyter": {
     "outputs_hidden": false
    }
   },
   "outputs": [
    {
     "data": {
      "text/html": [
       "<div>\n",
       "<style scoped>\n",
       "    .dataframe tbody tr th:only-of-type {\n",
       "        vertical-align: middle;\n",
       "    }\n",
       "\n",
       "    .dataframe tbody tr th {\n",
       "        vertical-align: top;\n",
       "    }\n",
       "\n",
       "    .dataframe thead th {\n",
       "        text-align: right;\n",
       "    }\n",
       "</style>\n",
       "<table border=\"1\" class=\"dataframe\">\n",
       "  <thead>\n",
       "    <tr style=\"text-align: right;\">\n",
       "      <th></th>\n",
       "      <th>key</th>\n",
       "      <th>value</th>\n",
       "    </tr>\n",
       "  </thead>\n",
       "  <tbody>\n",
       "    <tr>\n",
       "      <th>0</th>\n",
       "      <td>eliater</td>\n",
       "      <td>0.0.1-dev-6ad2288f</td>\n",
       "    </tr>\n",
       "    <tr>\n",
       "      <th>1</th>\n",
       "      <td>y0</td>\n",
       "      <td>0.2.8-dev-05cee105</td>\n",
       "    </tr>\n",
       "    <tr>\n",
       "      <th>2</th>\n",
       "      <td>Run at</td>\n",
       "      <td>2024-01-19 09:16:06</td>\n",
       "    </tr>\n",
       "  </tbody>\n",
       "</table>\n",
       "</div>"
      ],
      "text/plain": [
       "       key                value\n",
       "0  eliater   0.0.1-dev-6ad2288f\n",
       "1       y0   0.2.8-dev-05cee105\n",
       "2   Run at  2024-01-19 09:16:06"
      ]
     },
     "execution_count": 1,
     "metadata": {},
     "output_type": "execute_result"
    }
   ],
   "source": [
    "import matplotlib.pyplot as plt\n",
    "import numpy as np\n",
    "import seaborn as sns\n",
    "from tqdm.auto import tqdm, trange\n",
    "\n",
    "from eliater import add_ci_undirected_edges, remove_nuisance_variables, workflow, version_df\n",
    "from eliater.discover_latent_nodes import find_nuisance_variables, mark_nuisance_variables_as_latent\n",
    "from eliater.examples.frontdoor_backdoor_discrete import (\n",
    "    single_mediator_with_multiple_confounders_nuisances_discrete_example as example,\n",
    ")\n",
    "from eliater.network_validation import print_graph_falsifications\n",
    "from y0.algorithm.estimation import estimate_ace\n",
    "from y0.algorithm.identify import identify_outcomes\n",
    "from y0.dsl import P, Variable, X, Y\n",
    "\n",
    "version_df()"
   ]
  },
  {
   "cell_type": "code",
   "execution_count": 2,
   "id": "fdbbb790-024a-4c43-bf13-ab19886233a1",
   "metadata": {
    "ExecuteTime": {
     "end_time": "2024-01-17T15:39:13.427336Z",
     "start_time": "2024-01-17T15:39:13.378250Z"
    },
    "collapsed": false,
    "jupyter": {
     "outputs_hidden": false
    }
   },
   "outputs": [],
   "source": [
    "SEED = 500"
   ]
  },
  {
   "cell_type": "code",
   "execution_count": 3,
   "id": "5805a9bed9191161",
   "metadata": {
    "ExecuteTime": {
     "end_time": "2024-01-17T15:25:59.267390Z",
     "start_time": "2024-01-17T15:25:59.243131Z"
    },
    "collapsed": false,
    "jupyter": {
     "outputs_hidden": false
    }
   },
   "outputs": [
    {
     "data": {
      "image/png": "[encoded data removed]",
      "text/plain": [
       "<Figure size 640x480 with 1 Axes>"
      ]
     },
     "metadata": {},
     "output_type": "display_data"
    }
   ],
   "source": [
    "graph = example.graph\n",
    "graph.draw()"
   ]
  },
  {
   "cell_type": "code",
   "execution_count": 4,
   "id": "24a3d8b93b3804f2",
   "metadata": {
    "ExecuteTime": {
     "end_time": "2024-01-17T15:41:39.934008Z",
     "start_time": "2024-01-17T15:41:39.904426Z"
    },
    "collapsed": false,
    "jupyter": {
     "outputs_hidden": false
    }
   },
   "outputs": [
    {
     "data": {
      "text/html": [
       "<div>\n",
       "<style scoped>\n",
       "    .dataframe tbody tr th:only-of-type {\n",
       "        vertical-align: middle;\n",
       "    }\n",
       "\n",
       "    .dataframe tbody tr th {\n",
       "        vertical-align: top;\n",
       "    }\n",
       "\n",
       "    .dataframe thead th {\n",
       "        text-align: right;\n",
       "    }\n",
       "</style>\n",
       "<table border=\"1\" class=\"dataframe\">\n",
       "  <thead>\n",
       "    <tr style=\"text-align: right;\">\n",
       "      <th></th>\n",
       "      <th>X</th>\n",
       "      <th>M1</th>\n",
       "      <th>Z1</th>\n",
       "      <th>Z2</th>\n",
       "      <th>Z3</th>\n",
       "      <th>R1</th>\n",
       "      <th>R2</th>\n",
       "      <th>R3</th>\n",
       "      <th>Y</th>\n",
       "    </tr>\n",
       "  </thead>\n",
       "  <tbody>\n",
       "    <tr>\n",
       "      <th>0</th>\n",
       "      <td>1</td>\n",
       "      <td>1</td>\n",
       "      <td>1</td>\n",
       "      <td>1</td>\n",
       "      <td>1</td>\n",
       "      <td>1</td>\n",
       "      <td>1</td>\n",
       "      <td>1</td>\n",
       "      <td>1</td>\n",
       "    </tr>\n",
       "    <tr>\n",
       "      <th>1</th>\n",
       "      <td>1</td>\n",
       "      <td>1</td>\n",
       "      <td>1</td>\n",
       "      <td>0</td>\n",
       "      <td>0</td>\n",
       "      <td>1</td>\n",
       "      <td>1</td>\n",
       "      <td>1</td>\n",
       "      <td>1</td>\n",
       "    </tr>\n",
       "    <tr>\n",
       "      <th>2</th>\n",
       "      <td>1</td>\n",
       "      <td>0</td>\n",
       "      <td>1</td>\n",
       "      <td>0</td>\n",
       "      <td>1</td>\n",
       "      <td>1</td>\n",
       "      <td>1</td>\n",
       "      <td>0</td>\n",
       "      <td>1</td>\n",
       "    </tr>\n",
       "    <tr>\n",
       "      <th>3</th>\n",
       "      <td>1</td>\n",
       "      <td>1</td>\n",
       "      <td>1</td>\n",
       "      <td>1</td>\n",
       "      <td>1</td>\n",
       "      <td>1</td>\n",
       "      <td>1</td>\n",
       "      <td>1</td>\n",
       "      <td>0</td>\n",
       "    </tr>\n",
       "    <tr>\n",
       "      <th>4</th>\n",
       "      <td>1</td>\n",
       "      <td>1</td>\n",
       "      <td>1</td>\n",
       "      <td>1</td>\n",
       "      <td>0</td>\n",
       "      <td>1</td>\n",
       "      <td>1</td>\n",
       "      <td>1</td>\n",
       "      <td>1</td>\n",
       "    </tr>\n",
       "  </tbody>\n",
       "</table>\n",
       "</div>"
      ],
      "text/plain": [
       "   X  M1  Z1  Z2  Z3  R1  R2  R3  Y\n",
       "0  1   1   1   1   1   1   1   1  1\n",
       "1  1   1   1   0   0   1   1   1  1\n",
       "2  1   0   1   0   1   1   1   0  1\n",
       "3  1   1   1   1   1   1   1   1  0\n",
       "4  1   1   1   1   0   1   1   1  1"
      ]
     },
     "execution_count": 4,
     "metadata": {},
     "output_type": "execute_result"
    }
   ],
   "source": [
    "data = example.generate_data(num_samples=500, seed=SEED)\n",
    "data.head()"
   ]
  },
  {
   "cell_type": "markdown",
   "id": "7f8b8c77d0b42c3e",
   "metadata": {
    "collapsed": false,
    "jupyter": {
     "outputs_hidden": false
    }
   },
   "source": [
    "## Step 1: Verify correctness of the network structure"
   ]
  },
  {
   "cell_type": "code",
   "execution_count": 5,
   "id": "4e3220a2c48cb9b4",
   "metadata": {
    "ExecuteTime": {
     "end_time": "2024-01-17T15:41:45.144807Z",
     "start_time": "2024-01-17T15:41:43.311539Z"
    },
    "collapsed": false,
    "jupyter": {
     "outputs_hidden": false
    }
   },
   "outputs": [
    {
     "name": "stdout",
     "output_type": "stream",
     "text": [
      "All 26 d-separations implied by the network's structure are consistent with the data, meaning that none of the data-driven conditional independency tests' null hypotheses were rejected at p<0.01.\n"
     ]
    },
    {
     "data": {
      "text/html": [
       "<div>\n",
       "<style scoped>\n",
       "    .dataframe tbody tr th:only-of-type {\n",
       "        vertical-align: middle;\n",
       "    }\n",
       "\n",
       "    .dataframe tbody tr th {\n",
       "        vertical-align: top;\n",
       "    }\n",
       "\n",
       "    .dataframe thead th {\n",
       "        text-align: right;\n",
       "    }\n",
       "</style>\n",
       "<table border=\"1\" class=\"dataframe\">\n",
       "  <thead>\n",
       "    <tr style=\"text-align: right;\">\n",
       "      <th></th>\n",
       "      <th>left</th>\n",
       "      <th>right</th>\n",
       "      <th>given</th>\n",
       "      <th>stats</th>\n",
       "      <th>p</th>\n",
       "      <th>dof</th>\n",
       "      <th>p_adj</th>\n",
       "      <th>p_adj_significant</th>\n",
       "    </tr>\n",
       "  </thead>\n",
       "  <tbody>\n",
       "    <tr>\n",
       "      <th>0</th>\n",
       "      <td>R1</td>\n",
       "      <td>R3</td>\n",
       "      <td>R2|Y</td>\n",
       "      <td>0.818848</td>\n",
       "      <td>0.935903</td>\n",
       "      <td>4</td>\n",
       "      <td>1.0</td>\n",
       "      <td>False</td>\n",
       "    </tr>\n",
       "    <tr>\n",
       "      <th>1</th>\n",
       "      <td>R1</td>\n",
       "      <td>Z1</td>\n",
       "      <td>M1</td>\n",
       "      <td>0.165251</td>\n",
       "      <td>0.920696</td>\n",
       "      <td>2</td>\n",
       "      <td>1.0</td>\n",
       "      <td>False</td>\n",
       "    </tr>\n",
       "    <tr>\n",
       "      <th>2</th>\n",
       "      <td>M1</td>\n",
       "      <td>R2</td>\n",
       "      <td>R1</td>\n",
       "      <td>0.148438</td>\n",
       "      <td>0.928469</td>\n",
       "      <td>2</td>\n",
       "      <td>1.0</td>\n",
       "      <td>False</td>\n",
       "    </tr>\n",
       "    <tr>\n",
       "      <th>3</th>\n",
       "      <td>Y</td>\n",
       "      <td>Z1</td>\n",
       "      <td>M1|Z3</td>\n",
       "      <td>1.800823</td>\n",
       "      <td>0.772332</td>\n",
       "      <td>4</td>\n",
       "      <td>1.0</td>\n",
       "      <td>False</td>\n",
       "    </tr>\n",
       "    <tr>\n",
       "      <th>4</th>\n",
       "      <td>R3</td>\n",
       "      <td>Z2</td>\n",
       "      <td>Z1|Z3</td>\n",
       "      <td>2.859242</td>\n",
       "      <td>0.581650</td>\n",
       "      <td>4</td>\n",
       "      <td>1.0</td>\n",
       "      <td>False</td>\n",
       "    </tr>\n",
       "    <tr>\n",
       "      <th>5</th>\n",
       "      <td>M1</td>\n",
       "      <td>Z1</td>\n",
       "      <td>X</td>\n",
       "      <td>1.449053</td>\n",
       "      <td>0.484554</td>\n",
       "      <td>2</td>\n",
       "      <td>1.0</td>\n",
       "      <td>False</td>\n",
       "    </tr>\n",
       "    <tr>\n",
       "      <th>6</th>\n",
       "      <td>R2</td>\n",
       "      <td>Y</td>\n",
       "      <td>M1</td>\n",
       "      <td>0.437812</td>\n",
       "      <td>0.803397</td>\n",
       "      <td>2</td>\n",
       "      <td>1.0</td>\n",
       "      <td>False</td>\n",
       "    </tr>\n",
       "    <tr>\n",
       "      <th>7</th>\n",
       "      <td>R3</td>\n",
       "      <td>X</td>\n",
       "      <td>M1|Z1</td>\n",
       "      <td>2.180165</td>\n",
       "      <td>0.702662</td>\n",
       "      <td>4</td>\n",
       "      <td>1.0</td>\n",
       "      <td>False</td>\n",
       "    </tr>\n",
       "    <tr>\n",
       "      <th>8</th>\n",
       "      <td>R2</td>\n",
       "      <td>X</td>\n",
       "      <td>M1</td>\n",
       "      <td>0.048847</td>\n",
       "      <td>0.975872</td>\n",
       "      <td>2</td>\n",
       "      <td>1.0</td>\n",
       "      <td>False</td>\n",
       "    </tr>\n",
       "    <tr>\n",
       "      <th>9</th>\n",
       "      <td>R2</td>\n",
       "      <td>Z2</td>\n",
       "      <td>Z1</td>\n",
       "      <td>0.221862</td>\n",
       "      <td>0.895000</td>\n",
       "      <td>2</td>\n",
       "      <td>1.0</td>\n",
       "      <td>False</td>\n",
       "    </tr>\n",
       "    <tr>\n",
       "      <th>10</th>\n",
       "      <td>X</td>\n",
       "      <td>Y</td>\n",
       "      <td>M1|Z1</td>\n",
       "      <td>0.034681</td>\n",
       "      <td>0.999851</td>\n",
       "      <td>4</td>\n",
       "      <td>1.0</td>\n",
       "      <td>False</td>\n",
       "    </tr>\n",
       "    <tr>\n",
       "      <th>11</th>\n",
       "      <td>R2</td>\n",
       "      <td>Z3</td>\n",
       "      <td>Z1</td>\n",
       "      <td>1.669560</td>\n",
       "      <td>0.433970</td>\n",
       "      <td>2</td>\n",
       "      <td>1.0</td>\n",
       "      <td>False</td>\n",
       "    </tr>\n",
       "    <tr>\n",
       "      <th>12</th>\n",
       "      <td>X</td>\n",
       "      <td>Z3</td>\n",
       "      <td>Z1</td>\n",
       "      <td>1.121034</td>\n",
       "      <td>0.570914</td>\n",
       "      <td>2</td>\n",
       "      <td>1.0</td>\n",
       "      <td>False</td>\n",
       "    </tr>\n",
       "    <tr>\n",
       "      <th>13</th>\n",
       "      <td>R1</td>\n",
       "      <td>Y</td>\n",
       "      <td>M1</td>\n",
       "      <td>4.419646</td>\n",
       "      <td>0.109720</td>\n",
       "      <td>2</td>\n",
       "      <td>1.0</td>\n",
       "      <td>False</td>\n",
       "    </tr>\n",
       "    <tr>\n",
       "      <th>14</th>\n",
       "      <td>M1</td>\n",
       "      <td>Z2</td>\n",
       "      <td>Z1</td>\n",
       "      <td>1.512851</td>\n",
       "      <td>0.469341</td>\n",
       "      <td>2</td>\n",
       "      <td>1.0</td>\n",
       "      <td>False</td>\n",
       "    </tr>\n",
       "    <tr>\n",
       "      <th>15</th>\n",
       "      <td>X</td>\n",
       "      <td>Z2</td>\n",
       "      <td>Z1</td>\n",
       "      <td>0.343460</td>\n",
       "      <td>0.842206</td>\n",
       "      <td>2</td>\n",
       "      <td>1.0</td>\n",
       "      <td>False</td>\n",
       "    </tr>\n",
       "    <tr>\n",
       "      <th>16</th>\n",
       "      <td>R1</td>\n",
       "      <td>Z2</td>\n",
       "      <td>Z1</td>\n",
       "      <td>0.988663</td>\n",
       "      <td>0.609979</td>\n",
       "      <td>2</td>\n",
       "      <td>1.0</td>\n",
       "      <td>False</td>\n",
       "    </tr>\n",
       "    <tr>\n",
       "      <th>17</th>\n",
       "      <td>M1</td>\n",
       "      <td>Z3</td>\n",
       "      <td>Z1</td>\n",
       "      <td>0.630044</td>\n",
       "      <td>0.729773</td>\n",
       "      <td>2</td>\n",
       "      <td>1.0</td>\n",
       "      <td>False</td>\n",
       "    </tr>\n",
       "    <tr>\n",
       "      <th>18</th>\n",
       "      <td>R3</td>\n",
       "      <td>Z3</td>\n",
       "      <td>M1|Y</td>\n",
       "      <td>0.449392</td>\n",
       "      <td>0.978237</td>\n",
       "      <td>4</td>\n",
       "      <td>1.0</td>\n",
       "      <td>False</td>\n",
       "    </tr>\n",
       "    <tr>\n",
       "      <th>19</th>\n",
       "      <td>R1</td>\n",
       "      <td>Z3</td>\n",
       "      <td>Z1</td>\n",
       "      <td>1.394244</td>\n",
       "      <td>0.498017</td>\n",
       "      <td>2</td>\n",
       "      <td>1.0</td>\n",
       "      <td>False</td>\n",
       "    </tr>\n",
       "    <tr>\n",
       "      <th>20</th>\n",
       "      <td>R1</td>\n",
       "      <td>X</td>\n",
       "      <td>M1</td>\n",
       "      <td>0.227982</td>\n",
       "      <td>0.892266</td>\n",
       "      <td>2</td>\n",
       "      <td>1.0</td>\n",
       "      <td>False</td>\n",
       "    </tr>\n",
       "    <tr>\n",
       "      <th>21</th>\n",
       "      <td>R2</td>\n",
       "      <td>Z1</td>\n",
       "      <td>M1</td>\n",
       "      <td>0.477041</td>\n",
       "      <td>0.787793</td>\n",
       "      <td>2</td>\n",
       "      <td>1.0</td>\n",
       "      <td>False</td>\n",
       "    </tr>\n",
       "    <tr>\n",
       "      <th>22</th>\n",
       "      <td>Y</td>\n",
       "      <td>Z2</td>\n",
       "      <td>Z1|Z3</td>\n",
       "      <td>2.658570</td>\n",
       "      <td>0.616484</td>\n",
       "      <td>4</td>\n",
       "      <td>1.0</td>\n",
       "      <td>False</td>\n",
       "    </tr>\n",
       "    <tr>\n",
       "      <th>23</th>\n",
       "      <td>Z1</td>\n",
       "      <td>Z3</td>\n",
       "      <td>Z2</td>\n",
       "      <td>0.698232</td>\n",
       "      <td>0.705311</td>\n",
       "      <td>2</td>\n",
       "      <td>1.0</td>\n",
       "      <td>False</td>\n",
       "    </tr>\n",
       "    <tr>\n",
       "      <th>24</th>\n",
       "      <td>R3</td>\n",
       "      <td>Z1</td>\n",
       "      <td>M1|Z3</td>\n",
       "      <td>0.268838</td>\n",
       "      <td>0.991736</td>\n",
       "      <td>4</td>\n",
       "      <td>1.0</td>\n",
       "      <td>False</td>\n",
       "    </tr>\n",
       "    <tr>\n",
       "      <th>25</th>\n",
       "      <td>M1</td>\n",
       "      <td>R3</td>\n",
       "      <td>R2|Y</td>\n",
       "      <td>0.901882</td>\n",
       "      <td>0.924291</td>\n",
       "      <td>4</td>\n",
       "      <td>1.0</td>\n",
       "      <td>False</td>\n",
       "    </tr>\n",
       "  </tbody>\n",
       "</table>\n",
       "</div>"
      ],
      "text/plain": [
       "   left right  given     stats         p  dof  p_adj  p_adj_significant\n",
       "0    R1    R3   R2|Y  0.818848  0.935903    4    1.0              False\n",
       "1    R1    Z1     M1  0.165251  0.920696    2    1.0              False\n",
       "2    M1    R2     R1  0.148438  0.928469    2    1.0              False\n",
       "3     Y    Z1  M1|Z3  1.800823  0.772332    4    1.0              False\n",
       "4    R3    Z2  Z1|Z3  2.859242  0.581650    4    1.0              False\n",
       "5    M1    Z1      X  1.449053  0.484554    2    1.0              False\n",
       "6    R2     Y     M1  0.437812  0.803397    2    1.0              False\n",
       "7    R3     X  M1|Z1  2.180165  0.702662    4    1.0              False\n",
       "8    R2     X     M1  0.048847  0.975872    2    1.0              False\n",
       "9    R2    Z2     Z1  0.221862  0.895000    2    1.0              False\n",
       "10    X     Y  M1|Z1  0.034681  0.999851    4    1.0              False\n",
       "11   R2    Z3     Z1  1.669560  0.433970    2    1.0              False\n",
       "12    X    Z3     Z1  1.121034  0.570914    2    1.0              False\n",
       "13   R1     Y     M1  4.419646  0.109720    2    1.0              False\n",
       "14   M1    Z2     Z1  1.512851  0.469341    2    1.0              False\n",
       "15    X    Z2     Z1  0.343460  0.842206    2    1.0              False\n",
       "16   R1    Z2     Z1  0.988663  0.609979    2    1.0              False\n",
       "17   M1    Z3     Z1  0.630044  0.729773    2    1.0              False\n",
       "18   R3    Z3   M1|Y  0.449392  0.978237    4    1.0              False\n",
       "19   R1    Z3     Z1  1.394244  0.498017    2    1.0              False\n",
       "20   R1     X     M1  0.227982  0.892266    2    1.0              False\n",
       "21   R2    Z1     M1  0.477041  0.787793    2    1.0              False\n",
       "22    Y    Z2  Z1|Z3  2.658570  0.616484    4    1.0              False\n",
       "23   Z1    Z3     Z2  0.698232  0.705311    2    1.0              False\n",
       "24   R3    Z1  M1|Z3  0.268838  0.991736    4    1.0              False\n",
       "25   M1    R3   R2|Y  0.901882  0.924291    4    1.0              False"
      ]
     },
     "execution_count": 5,
     "metadata": {},
     "output_type": "execute_result"
    }
   ],
   "source": [
    "print_graph_falsifications(graph, data, method=\"chi-square\", verbose=True, significance_level=0.01)"
   ]
  },
  {
   "cell_type": "markdown",
   "id": "8b40df88c10664e3",
   "metadata": {
    "collapsed": false,
    "jupyter": {
     "outputs_hidden": false
    }
   },
   "source": [
    "All the d-separations implied by the network are validated by the data. No test failed. Hence, we can proceed to step 2."
   ]
  },
  {
   "cell_type": "markdown",
   "id": "4435aa5f3a8f55b9",
   "metadata": {
    "collapsed": false,
    "jupyter": {
     "outputs_hidden": false
    }
   },
   "source": [
    "## Step 2: Check query identifiability\n",
    "\n",
    "The causal query of interest is the average treatment effect of $X$ on $Y$, defined as:\n",
    "$E[Y|do(X=1)] - E[Y|do(X=0)]$."
   ]
  },
  {
   "cell_type": "code",
   "execution_count": 6,
   "id": "6a1d0da707ca1d2f",
   "metadata": {
    "ExecuteTime": {
     "end_time": "2024-01-17T15:38:31.023301Z",
     "start_time": "2024-01-17T15:38:30.975649Z"
    },
    "collapsed": false,
    "jupyter": {
     "outputs_hidden": false
    }
   },
   "outputs": [
    {
     "data": {
      "text/latex": [
       "$\\sum\\limits_{M_1, Z_1, Z_2, Z_3} P(M_1 | X, Z_1) P(Y | M_1, X, Z_1, Z_2, Z_3) P(Z_2 | Z_1) P(Z_3 | Z_1, Z_2) \\sum\\limits_{M_1, X, Y, Z_2, Z_3} \\sum\\limits_{R_1, R_2, R_3} P(M_1, R_1, R_2, R_3, X, Y, Z_1, Z_2, Z_3)$"
      ],
      "text/plain": [
       "Sum[M1, Z1, Z2, Z3](P(M1 | X, Z1) * P(Y | M1, X, Z1, Z2, Z3) * P(Z2 | Z1) * P(Z3 | Z1, Z2) * Sum[M1, X, Y, Z2, Z3](Sum[R1, R2, R3](P(M1, R1, R2, R3, X, Y, Z1, Z2, Z3))))"
      ]
     },
     "execution_count": 6,
     "metadata": {},
     "output_type": "execute_result"
    }
   ],
   "source": [
    "identify_outcomes(graph=graph, treatments=X, outcomes=Y)"
   ]
  },
  {
   "cell_type": "markdown",
   "id": "5e27342ad3164b42",
   "metadata": {
    "collapsed": false,
    "jupyter": {
     "outputs_hidden": false
    }
   },
   "source": [
    "The query is identifiable. Hence we can proceed to step 3."
   ]
  },
  {
   "cell_type": "markdown",
   "id": "2ed3073afbc7030a",
   "metadata": {
    "collapsed": false,
    "jupyter": {
     "outputs_hidden": false
    }
   },
   "source": [
    "## Step 3: Find nuisance variables and mark them as latent"
   ]
  },
  {
   "cell_type": "markdown",
   "id": "b7661cedf357ad01",
   "metadata": {
    "collapsed": false,
    "jupyter": {
     "outputs_hidden": false
    }
   },
   "source": [
    "This function finds the nuisance variables for the input graph."
   ]
  },
  {
   "cell_type": "code",
   "execution_count": 7,
   "id": "c094ba6186dfecf6",
   "metadata": {
    "ExecuteTime": {
     "end_time": "2024-01-17T15:38:41.126011Z",
     "start_time": "2024-01-17T15:38:41.054670Z"
    },
    "collapsed": false,
    "jupyter": {
     "outputs_hidden": false
    }
   },
   "outputs": [
    {
     "data": {
      "text/plain": [
       "{R1, R2, R3}"
      ]
     },
     "execution_count": 7,
     "metadata": {},
     "output_type": "execute_result"
    }
   ],
   "source": [
    "find_nuisance_variables(graph, treatments=X, outcomes=Y)"
   ]
  },
  {
   "cell_type": "markdown",
   "id": "79a36765bb1640f6",
   "metadata": {
    "collapsed": false,
    "jupyter": {
     "outputs_hidden": false
    }
   },
   "source": [
    "The nuisance variables are $R_1$, $R_2$, and $R_3$."
   ]
  },
  {
   "cell_type": "markdown",
   "id": "b86a9300fa3d3881",
   "metadata": {
    "collapsed": false,
    "jupyter": {
     "outputs_hidden": false
    }
   },
   "source": [
    "## Step 4: Simplify the network"
   ]
  },
  {
   "cell_type": "markdown",
   "id": "92e386966d986cec",
   "metadata": {
    "collapsed": false,
    "jupyter": {
     "outputs_hidden": false
    }
   },
   "source": [
    "The following function finds the nuisance variable (step 3), marks them as latent and then applies Evan's simplification rules to remove the nuisance variables. As a result, running the 'find_nuisance_variables' and 'mark_nuisance_variables_as_latent' functions in step 3 is not necessary to get the value of step 4. However, we called them to illustrate the results. The new graph obtained in step 4 does not contain the nuisance variables. "
   ]
  },
  {
   "cell_type": "code",
   "execution_count": 8,
   "id": "e1d0f93c0d993112",
   "metadata": {
    "ExecuteTime": {
     "end_time": "2024-01-17T15:38:44.092780Z",
     "start_time": "2024-01-17T15:38:44.067590Z"
    },
    "collapsed": false,
    "jupyter": {
     "outputs_hidden": false
    }
   },
   "outputs": [
    {
     "data": {
      "image/png": "[encoded data removed]",
      "text/plain": [
       "<Figure size 640x480 with 1 Axes>"
      ]
     },
     "metadata": {},
     "output_type": "display_data"
    }
   ],
   "source": [
    "new_graph = remove_nuisance_variables(graph, treatments=X, outcomes=Y)\n",
    "new_graph.draw()"
   ]
  },
  {
   "cell_type": "markdown",
   "id": "f1b8adaf922f3096",
   "metadata": {
    "collapsed": false,
    "jupyter": {
     "outputs_hidden": false
    }
   },
   "source": [
    "## Step 5: Estimate the query"
   ]
  },
  {
   "cell_type": "code",
   "execution_count": 9,
   "id": "55a147fe3a3ee98d",
   "metadata": {
    "ExecuteTime": {
     "end_time": "2024-01-17T15:41:01.399162Z",
     "start_time": "2024-01-17T15:41:01.075146Z"
    },
    "collapsed": false,
    "jupyter": {
     "outputs_hidden": false
    }
   },
   "outputs": [
    {
     "data": {
      "text/plain": [
       "0.2091569789304032"
      ]
     },
     "execution_count": 9,
     "metadata": {},
     "output_type": "execute_result"
    }
   ],
   "source": [
    "ATE_value = estimate_ace(graph=new_graph, treatments=X, outcomes=Y, data=data)\n",
    "ATE_value"
   ]
  },
  {
   "cell_type": "markdown",
   "id": "8b1fbdecffb16328",
   "metadata": {
    "collapsed": false,
    "jupyter": {
     "outputs_hidden": false
    }
   },
   "source": [
    "The ATE amounts to 0.21 meaning that the average effect that $X$ has on $Y$ is negative."
   ]
  },
  {
   "cell_type": "markdown",
   "id": "e362c47381bc281f",
   "metadata": {
    "collapsed": false,
    "jupyter": {
     "outputs_hidden": false
    }
   },
   "source": [
    "# Evaluation Criterion\n",
    "\n",
    "As we used synthetic data set, we were able to generate two interventional data sets where in\n",
    "one X was set to 1, and the other one X is set to 0. The ATE was calculated by subtracting the average value of Y obtained from each interventional data,\n",
    "resulting in the ground truth ATE=0.01. The ATE indicates that increase in X can increase  Y levels."
   ]
  },
  {
   "cell_type": "code",
   "execution_count": 10,
   "id": "7aa1b23565adae07",
   "metadata": {
    "ExecuteTime": {
     "end_time": "2024-01-17T15:41:11.036266Z",
     "start_time": "2024-01-17T15:41:10.992234Z"
    },
    "collapsed": false,
    "jupyter": {
     "outputs_hidden": false
    }
   },
   "outputs": [
    {
     "name": "stdout",
     "output_type": "stream",
     "text": [
      "The true ATE is 0.01\n"
     ]
    }
   ],
   "source": [
    "def get_background_ace(seed=None) -> float:\n",
    "    data_1 = example.generate_data(500, {X: 1.0}, seed=seed)\n",
    "    data_0 = example.generate_data(500, {X: 0.0}, seed=seed)\n",
    "    return data_1.mean()[Y.name] - data_0.mean()[Y.name]\n",
    "\n",
    "\n",
    "true_ate = get_background_ace(seed=SEED)\n",
    "print(f\"The true ATE is {true_ate:.04}\")"
   ]
  },
  {
   "cell_type": "markdown",
   "id": "7ae64b2d-be03-4053-a43b-40ec8ebc39fe",
   "metadata": {},
   "source": [
    "# Additional Analysis\n",
    "\n",
    "Some questions charlie wants to answer:\n",
    "\n",
    "1. Is there a meaningful effect of doing reduction of nuissance variables?\n",
    "2. What is the effect of picking the random seed?\n",
    "3. How do I contextualize all of these numbers that are dropped in here? When is an ACE significant, i.e., how do I know 0.21 is a big enough number (or different enough from some other number) that X has a meaningful negative effect on Y?"
   ]
  },
  {
   "cell_type": "code",
   "execution_count": 11,
   "id": "29be9e63-daea-45a2-9163-864b5e706528",
   "metadata": {},
   "outputs": [
    {
     "data": {
      "application/vnd.jupyter.widget-view+json": {
       "model_id": "",
       "version_major": 2,
       "version_minor": 0
      },
      "text/plain": [
       "Generating datasets:   0%|          | 0/500 [00:00<?, ?it/s]"
      ]
     },
     "metadata": {},
     "output_type": "display_data"
    },
    {
     "data": {
      "application/vnd.jupyter.widget-view+json": {
       "model_id": "",
       "version_major": 2,
       "version_minor": 0
      },
      "text/plain": [
       "  0%|          | 0/500 [00:00<?, ?it/s]"
      ]
     },
     "metadata": {},
     "output_type": "display_data"
    },
    {
     "data": {
      "application/vnd.jupyter.widget-view+json": {
       "model_id": "",
       "version_major": 2,
       "version_minor": 0
      },
      "text/plain": [
       "No Workflow ATEs:   0%|          | 0/500 [00:00<?, ?it/s]"
      ]
     },
     "metadata": {},
     "output_type": "display_data"
    },
    {
     "data": {
      "application/vnd.jupyter.widget-view+json": {
       "model_id": "",
       "version_major": 2,
       "version_minor": 0
      },
      "text/plain": [
       "Workflow ATEs:   0%|          | 0/500 [00:00<?, ?it/s]"
      ]
     },
     "metadata": {},
     "output_type": "display_data"
    }
   ],
   "source": [
    "repeats = 500\n",
    "datasets = [\n",
    "    example.generate_data(num_samples=500, seed=seed)\n",
    "    for seed in trange(repeats, desc=\"Generating datasets\", leave=False)\n",
    "]\n",
    "background_ates = [get_background_ace(seed=seed) for seed in trange(repeats, leave=False)]\n",
    "unreduced_aces = [\n",
    "    estimate_ace(graph=graph, treatments=X, outcomes=Y, data=data)\n",
    "    for data in tqdm(datasets, desc=\"No Workflow ATEs\", leave=False)\n",
    "]\n",
    "reduced_aces = [\n",
    "    estimate_ace(\n",
    "        graph=remove_nuisance_variables(graph, treatments=X, outcomes=Y),\n",
    "        treatments=X,\n",
    "        outcomes=Y,\n",
    "        data=data,\n",
    "    )\n",
    "    for data in tqdm(datasets, desc=\"Workflow ATEs\", leave=False)\n",
    "]"
   ]
  },
  {
   "cell_type": "markdown",
   "id": "fd17b15b-4a40-4894-92a4-11e2dfe6ca8e",
   "metadata": {},
   "source": [
    "## Does Reducing Nuissance Variables Matter?\n",
    "\n",
    "In the experiment below, I create several random datasets and for each see if adding the removal of nuissance variables changes the resulting ACE by taking the difference between the ACE calculated on the original graph vs the reduced graph."
   ]
  },
  {
   "cell_type": "code",
   "execution_count": 12,
   "id": "a2b7ea36-99ba-4d13-8a42-241e364b41e7",
   "metadata": {},
   "outputs": [
    {
     "data": {
      "image/png": "[encoded data removed]",
      "text/plain": [
       "<Figure size 640x480 with 1 Axes>"
      ]
     },
     "metadata": {},
     "output_type": "display_data"
    }
   ],
   "source": [
    "differences = [\n",
    "    unreduced_ace - reduced_ace for unreduced_ace, reduced_ace in zip(unreduced_aces, reduced_aces)\n",
    "]\n",
    "sns.histplot(differences)\n",
    "plt.title(\"Differences between ACE from unreduced and reduced graph\")\n",
    "plt.xlabel(\"Unreduced ACE - Reduced ACE\")\n",
    "plt.show()"
   ]
  },
  {
   "cell_type": "markdown",
   "id": "296e27d5-5634-4c83-8772-8dab26376a00",
   "metadata": {},
   "source": [
    "We're in the numerical instability region since this graph is on the scale of 1e-13 - this seems to indicate that reducing the latent variables from the graph does not have an effect on the ACE."
   ]
  },
  {
   "cell_type": "markdown",
   "id": "7d5955ff-544b-4e8e-a965-54593b4e825d",
   "metadata": {},
   "source": [
    "# What's the effect of random seed?\n",
    "\n",
    "In the experiment above, a random seed of `seed=500` was generated which resulted in a \"true\" ATE and a \"calculated\" ATE. The conclusion was that because the calculated ATE was positive, that the treatment (X) had a negative effect on the outcome (Y). A few follow-up questions:\n",
    "\n",
    "1. What's the correspondence between these numbers? Should they be the same, or different, and by how much?\n",
    "2. What happens if we pick different random seeds?\n",
    "\n",
    "Below, I picked several different random seeds and calculated the differences, and got this chart. You can see that sometimes, the difference is positive, negative, or close to zero. This means we need a better way of interpreting these results, otherwise setting the random seed is effectively cherry picking."
   ]
  },
  {
   "cell_type": "code",
   "execution_count": 13,
   "id": "a4db4ec5-808c-4fc6-937d-f6626cf38820",
   "metadata": {},
   "outputs": [
    {
     "data": {
      "image/png": "[encoded data removed]",
      "text/plain": [
       "<Figure size 640x480 with 1 Axes>"
      ]
     },
     "metadata": {},
     "output_type": "display_data"
    }
   ],
   "source": [
    "differences = [\n",
    "    background_ate - unreduced_ate\n",
    "    for background_ate, unreduced_ate in zip(background_ates, unreduced_aces)\n",
    "]\n",
    "\n",
    "sns.histplot(differences, label=\"Generated ACEs\")\n",
    "plt.axvline(ATE_value - true_ate, linewidth=3, color=\"red\")\n",
    "plt.show()"
   ]
  }
 ],
 "metadata": {
  "kernelspec": {
   "display_name": "Python 3 (ipykernel)",
   "language": "python",
   "name": "python3"
  },
  "language_info": {
   "codemirror_mode": {
    "name": "ipython",
    "version": 3
   },
   "file_extension": ".py",
   "mimetype": "text/x-python",
   "name": "python",
   "nbconvert_exporter": "python",
   "pygments_lexer": "ipython3",
   "version": "3.11.6"
  }
 },
 "nbformat": 4,
 "nbformat_minor": 5
}
