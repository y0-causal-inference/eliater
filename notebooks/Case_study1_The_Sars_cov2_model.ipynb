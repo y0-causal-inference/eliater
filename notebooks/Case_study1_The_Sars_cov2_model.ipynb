{
 "cells": [
  {
   "cell_type": "markdown",
   "id": "cb1612e5198cab85",
   "metadata": {
    "collapsed": false
   },
   "source": [
    "# Case study 1: Simulation with a SARS-CoV-2 Model"
   ]
  },
  {
   "cell_type": "code",
   "outputs": [
    {
     "name": "stdout",
     "output_type": "stream",
     "text": [
      "Collecting git+https://github.com/y0-causal-inference/eliater.git\r\n",
      "  Cloning https://github.com/y0-causal-inference/eliater.git to /private/var/folders/fs/kx46_43x04ndj3yryggvkg5r0000gn/T/pip-req-build-cgvp0hug\r\n",
      "  Running command git clone --quiet https://github.com/y0-causal-inference/eliater.git /private/var/folders/fs/kx46_43x04ndj3yryggvkg5r0000gn/T/pip-req-build-cgvp0hug\r\n",
      "  Resolved https://github.com/y0-causal-inference/eliater.git to commit 33eb330e6faaa0fce6a0526d4764b800b1c8434c\r\n",
      "  Installing build dependencies ... \u001B[?25ldone\r\n",
      "\u001B[?25h  Getting requirements to build wheel ... \u001B[?25ldone\r\n",
      "\u001B[?25h  Preparing metadata (pyproject.toml) ... \u001B[?25ldone\r\n",
      "\u001B[?25hCollecting y0>=0.2.7 (from eliater==0.0.1.dev0)\r\n",
      "  Using cached y0-0.2.7-py3-none-any.whl.metadata (11 kB)\r\n",
      "Collecting scipy (from eliater==0.0.1.dev0)\r\n",
      "  Downloading scipy-1.12.0-cp311-cp311-macosx_10_9_x86_64.whl.metadata (60 kB)\r\n",
      "\u001B[2K     \u001B[90m━━━━━━━━━━━━━━━━━━━━━━━━━━━━━━━━━━━━━━━\u001B[0m \u001B[32m60.4/60.4 kB\u001B[0m \u001B[31m269.0 kB/s\u001B[0m eta \u001B[36m0:00:00\u001B[0ma \u001B[36m0:00:01\u001B[0m\r\n",
      "\u001B[?25hCollecting numpy (from eliater==0.0.1.dev0)\r\n",
      "  Using cached numpy-1.26.3-cp311-cp311-macosx_10_9_x86_64.whl.metadata (61 kB)\r\n",
      "Collecting ananke-causal>=0.5.0 (from eliater==0.0.1.dev0)\r\n",
      "  Using cached ananke_causal-0.5.0-py3-none-any.whl.metadata (3.3 kB)\r\n",
      "Collecting pgmpy>=0.1.24 (from eliater==0.0.1.dev0)\r\n",
      "  Using cached pgmpy-0.1.24-py3-none-any.whl.metadata (6.3 kB)\r\n",
      "Collecting matplotlib (from eliater==0.0.1.dev0)\r\n",
      "  Using cached matplotlib-3.8.2-cp311-cp311-macosx_10_12_x86_64.whl.metadata (5.8 kB)\r\n",
      "Collecting pandas (from eliater==0.0.1.dev0)\r\n",
      "  Downloading pandas-2.2.0-cp311-cp311-macosx_10_9_x86_64.whl.metadata (19 kB)\r\n",
      "Collecting seaborn (from eliater==0.0.1.dev0)\r\n",
      "  Using cached seaborn-0.13.1-py3-none-any.whl.metadata (5.4 kB)\r\n",
      "Collecting optimaladj>=0.0.4 (from eliater==0.0.1.dev0)\r\n",
      "  Using cached optimaladj-0.0.4-py3-none-any.whl (9.1 kB)\r\n",
      "Collecting jax<0.5.0,>=0.4.8 (from ananke-causal>=0.5.0->eliater==0.0.1.dev0)\r\n",
      "  Using cached jax-0.4.23-py3-none-any.whl.metadata (24 kB)\r\n",
      "Collecting jaxlib<0.5.0,>=0.4.7 (from ananke-causal>=0.5.0->eliater==0.0.1.dev0)\r\n",
      "  Using cached jaxlib-0.4.23-cp311-cp311-macosx_10_14_x86_64.whl.metadata (2.1 kB)\r\n",
      "Collecting mystic<0.5.0,>=0.4.0 (from ananke-causal>=0.5.0->eliater==0.0.1.dev0)\r\n",
      "  Using cached mystic-0.4.1-py3-none-any.whl.metadata (15 kB)\r\n",
      "Collecting pandas (from eliater==0.0.1.dev0)\r\n",
      "  Using cached pandas-1.5.3-cp311-cp311-macosx_10_9_x86_64.whl (11.9 MB)\r\n",
      "Collecting statsmodels<0.14.0,>=0.13.2 (from ananke-causal>=0.5.0->eliater==0.0.1.dev0)\r\n",
      "  Using cached statsmodels-0.13.5-cp311-cp311-macosx_10_9_x86_64.whl (9.7 MB)\r\n",
      "Collecting contourpy>=1.0.1 (from matplotlib->eliater==0.0.1.dev0)\r\n",
      "  Using cached contourpy-1.2.0-cp311-cp311-macosx_10_9_x86_64.whl.metadata (5.8 kB)\r\n",
      "Collecting cycler>=0.10 (from matplotlib->eliater==0.0.1.dev0)\r\n",
      "  Using cached cycler-0.12.1-py3-none-any.whl.metadata (3.8 kB)\r\n",
      "Collecting fonttools>=4.22.0 (from matplotlib->eliater==0.0.1.dev0)\r\n",
      "  Using cached fonttools-4.47.2-cp311-cp311-macosx_10_9_x86_64.whl.metadata (157 kB)\r\n",
      "Collecting kiwisolver>=1.3.1 (from matplotlib->eliater==0.0.1.dev0)\r\n",
      "  Using cached kiwisolver-1.4.5-cp311-cp311-macosx_10_9_x86_64.whl.metadata (6.4 kB)\r\n",
      "Requirement already satisfied: packaging>=20.0 in /Users/sarataheri/GitHub/eliater/venv/lib/python3.11/site-packages (from matplotlib->eliater==0.0.1.dev0) (23.2)\r\n",
      "Collecting pillow>=8 (from matplotlib->eliater==0.0.1.dev0)\r\n",
      "  Using cached pillow-10.2.0-cp311-cp311-macosx_10_10_x86_64.whl.metadata (9.7 kB)\r\n",
      "Collecting pyparsing>=2.3.1 (from matplotlib->eliater==0.0.1.dev0)\r\n",
      "  Using cached pyparsing-3.1.1-py3-none-any.whl.metadata (5.1 kB)\r\n",
      "Requirement already satisfied: python-dateutil>=2.7 in /Users/sarataheri/GitHub/eliater/venv/lib/python3.11/site-packages (from matplotlib->eliater==0.0.1.dev0) (2.8.2)\r\n",
      "Collecting pytz>=2020.1 (from pandas->eliater==0.0.1.dev0)\r\n",
      "  Using cached pytz-2023.3.post1-py2.py3-none-any.whl.metadata (22 kB)\r\n",
      "Collecting networkx (from pgmpy>=0.1.24->eliater==0.0.1.dev0)\r\n",
      "  Using cached networkx-3.2.1-py3-none-any.whl.metadata (5.2 kB)\r\n",
      "Collecting scikit-learn (from pgmpy>=0.1.24->eliater==0.0.1.dev0)\r\n",
      "  Downloading scikit_learn-1.4.0-1-cp311-cp311-macosx_10_9_x86_64.whl.metadata (11 kB)\r\n",
      "Collecting torch (from pgmpy>=0.1.24->eliater==0.0.1.dev0)\r\n",
      "  Using cached torch-2.1.2-cp311-none-macosx_10_9_x86_64.whl.metadata (25 kB)\r\n",
      "Collecting tqdm (from pgmpy>=0.1.24->eliater==0.0.1.dev0)\r\n",
      "  Using cached tqdm-4.66.1-py3-none-any.whl.metadata (57 kB)\r\n",
      "Collecting joblib (from pgmpy>=0.1.24->eliater==0.0.1.dev0)\r\n",
      "  Using cached joblib-1.3.2-py3-none-any.whl.metadata (5.4 kB)\r\n",
      "Collecting opt-einsum (from pgmpy>=0.1.24->eliater==0.0.1.dev0)\r\n",
      "  Using cached opt_einsum-3.3.0-py3-none-any.whl (65 kB)\r\n",
      "Collecting more-itertools (from y0>=0.2.7->eliater==0.0.1.dev0)\r\n",
      "  Using cached more_itertools-10.2.0-py3-none-any.whl.metadata (34 kB)\r\n",
      "Collecting click (from y0>=0.2.7->eliater==0.0.1.dev0)\r\n",
      "  Using cached click-8.1.7-py3-none-any.whl.metadata (3.0 kB)\r\n",
      "Collecting more-click (from y0>=0.2.7->eliater==0.0.1.dev0)\r\n",
      "  Using cached more_click-0.1.2-py3-none-any.whl (6.7 kB)\r\n",
      "Collecting tabulate (from y0>=0.2.7->eliater==0.0.1.dev0)\r\n",
      "  Using cached tabulate-0.9.0-py3-none-any.whl (35 kB)\r\n",
      "Collecting ml-dtypes>=0.2.0 (from jax<0.5.0,>=0.4.8->ananke-causal>=0.5.0->eliater==0.0.1.dev0)\r\n",
      "  Using cached ml_dtypes-0.3.2-cp311-cp311-macosx_10_9_universal2.whl.metadata (20 kB)\r\n",
      "Collecting dill>=0.3.7 (from mystic<0.5.0,>=0.4.0->ananke-causal>=0.5.0->eliater==0.0.1.dev0)\r\n",
      "  Using cached dill-0.3.7-py3-none-any.whl.metadata (9.9 kB)\r\n",
      "Collecting klepto>=0.2.4 (from mystic<0.5.0,>=0.4.0->ananke-causal>=0.5.0->eliater==0.0.1.dev0)\r\n",
      "  Using cached klepto-0.2.4-py3-none-any.whl.metadata (7.3 kB)\r\n",
      "Collecting sympy>=0.6.7 (from mystic<0.5.0,>=0.4.0->ananke-causal>=0.5.0->eliater==0.0.1.dev0)\r\n",
      "  Using cached sympy-1.12-py3-none-any.whl (5.7 MB)\r\n",
      "Collecting mpmath>=0.19 (from mystic<0.5.0,>=0.4.0->ananke-causal>=0.5.0->eliater==0.0.1.dev0)\r\n",
      "  Using cached mpmath-1.3.0-py3-none-any.whl (536 kB)\r\n",
      "Requirement already satisfied: six>=1.5 in /Users/sarataheri/GitHub/eliater/venv/lib/python3.11/site-packages (from python-dateutil>=2.7->matplotlib->eliater==0.0.1.dev0) (1.16.0)\r\n",
      "Collecting patsy>=0.5.2 (from statsmodels<0.14.0,>=0.13.2->ananke-causal>=0.5.0->eliater==0.0.1.dev0)\r\n",
      "  Using cached patsy-0.5.6-py2.py3-none-any.whl.metadata (3.5 kB)\r\n",
      "Collecting threadpoolctl>=2.0.0 (from scikit-learn->pgmpy>=0.1.24->eliater==0.0.1.dev0)\r\n",
      "  Using cached threadpoolctl-3.2.0-py3-none-any.whl.metadata (10.0 kB)\r\n",
      "Collecting filelock (from torch->pgmpy>=0.1.24->eliater==0.0.1.dev0)\r\n",
      "  Using cached filelock-3.13.1-py3-none-any.whl.metadata (2.8 kB)\r\n",
      "Collecting typing-extensions (from torch->pgmpy>=0.1.24->eliater==0.0.1.dev0)\r\n",
      "  Using cached typing_extensions-4.9.0-py3-none-any.whl.metadata (3.0 kB)\r\n",
      "Requirement already satisfied: jinja2 in /Users/sarataheri/GitHub/eliater/venv/lib/python3.11/site-packages (from torch->pgmpy>=0.1.24->eliater==0.0.1.dev0) (3.1.3)\r\n",
      "Collecting fsspec (from torch->pgmpy>=0.1.24->eliater==0.0.1.dev0)\r\n",
      "  Using cached fsspec-2023.12.2-py3-none-any.whl.metadata (6.8 kB)\r\n",
      "Collecting pox>=0.3.3 (from klepto>=0.2.4->mystic<0.5.0,>=0.4.0->ananke-causal>=0.5.0->eliater==0.0.1.dev0)\r\n",
      "  Using cached pox-0.3.3-py3-none-any.whl.metadata (8.0 kB)\r\n",
      "Requirement already satisfied: MarkupSafe>=2.0 in /Users/sarataheri/GitHub/eliater/venv/lib/python3.11/site-packages (from jinja2->torch->pgmpy>=0.1.24->eliater==0.0.1.dev0) (2.1.4)\r\n",
      "Using cached ananke_causal-0.5.0-py3-none-any.whl (242 kB)\r\n",
      "Using cached matplotlib-3.8.2-cp311-cp311-macosx_10_12_x86_64.whl (7.6 MB)\r\n",
      "Using cached numpy-1.26.3-cp311-cp311-macosx_10_9_x86_64.whl (20.6 MB)\r\n",
      "Using cached pgmpy-0.1.24-py3-none-any.whl (2.0 MB)\r\n",
      "Downloading scipy-1.12.0-cp311-cp311-macosx_10_9_x86_64.whl (38.9 MB)\r\n",
      "\u001B[2K   \u001B[90m━━━━━━━━━━━━━━━━━━━━━━━━━━━━━━━━━━━━━━━━\u001B[0m \u001B[32m38.9/38.9 MB\u001B[0m \u001B[31m1.1 MB/s\u001B[0m eta \u001B[36m0:00:00\u001B[0m00:01\u001B[0m00:01\u001B[0m0m\r\n",
      "\u001B[?25hUsing cached y0-0.2.7-py3-none-any.whl (128 kB)\r\n",
      "Using cached seaborn-0.13.1-py3-none-any.whl (294 kB)\r\n",
      "Using cached contourpy-1.2.0-cp311-cp311-macosx_10_9_x86_64.whl (258 kB)\r\n",
      "Using cached cycler-0.12.1-py3-none-any.whl (8.3 kB)\r\n",
      "Using cached fonttools-4.47.2-cp311-cp311-macosx_10_9_x86_64.whl (2.3 MB)\r\n",
      "Using cached jax-0.4.23-py3-none-any.whl (1.7 MB)\r\n",
      "Using cached jaxlib-0.4.23-cp311-cp311-macosx_10_14_x86_64.whl (81.8 MB)\r\n",
      "Using cached kiwisolver-1.4.5-cp311-cp311-macosx_10_9_x86_64.whl (68 kB)\r\n",
      "Using cached mystic-0.4.1-py3-none-any.whl (401 kB)\r\n",
      "Using cached pillow-10.2.0-cp311-cp311-macosx_10_10_x86_64.whl (3.5 MB)\r\n",
      "Using cached pyparsing-3.1.1-py3-none-any.whl (103 kB)\r\n",
      "Using cached pytz-2023.3.post1-py2.py3-none-any.whl (502 kB)\r\n",
      "Using cached click-8.1.7-py3-none-any.whl (97 kB)\r\n",
      "Using cached joblib-1.3.2-py3-none-any.whl (302 kB)\r\n",
      "Using cached more_itertools-10.2.0-py3-none-any.whl (57 kB)\r\n",
      "Using cached networkx-3.2.1-py3-none-any.whl (1.6 MB)\r\n",
      "Downloading scikit_learn-1.4.0-1-cp311-cp311-macosx_10_9_x86_64.whl (11.5 MB)\r\n",
      "\u001B[2K   \u001B[90m━━━━━━━━━━━━━━━━━━━━━━━━━━━━━━━━━━━━━━━━\u001B[0m \u001B[32m11.5/11.5 MB\u001B[0m \u001B[31m1.3 MB/s\u001B[0m eta \u001B[36m0:00:00\u001B[0m00:01\u001B[0m00:01\u001B[0m\r\n",
      "\u001B[?25hUsing cached torch-2.1.2-cp311-none-macosx_10_9_x86_64.whl (146.7 MB)\r\n",
      "Using cached tqdm-4.66.1-py3-none-any.whl (78 kB)\r\n",
      "Using cached dill-0.3.7-py3-none-any.whl (115 kB)\r\n",
      "Using cached klepto-0.2.4-py3-none-any.whl (81 kB)\r\n",
      "Using cached ml_dtypes-0.3.2-cp311-cp311-macosx_10_9_universal2.whl (389 kB)\r\n",
      "Using cached patsy-0.5.6-py2.py3-none-any.whl (233 kB)\r\n",
      "Using cached threadpoolctl-3.2.0-py3-none-any.whl (15 kB)\r\n",
      "Using cached filelock-3.13.1-py3-none-any.whl (11 kB)\r\n",
      "Using cached fsspec-2023.12.2-py3-none-any.whl (168 kB)\r\n",
      "Using cached typing_extensions-4.9.0-py3-none-any.whl (32 kB)\r\n",
      "Using cached pox-0.3.3-py3-none-any.whl (29 kB)\r\n",
      "Building wheels for collected packages: eliater\r\n",
      "  Building wheel for eliater (pyproject.toml) ... \u001B[?25ldone\r\n",
      "\u001B[?25h  Created wheel for eliater: filename=eliater-0.0.1.dev0-py3-none-any.whl size=40024 sha256=22ddf069254f91b80ac94894c3e81b85489c7889ad809dcfb83a3c29c6bc7f3f\r\n",
      "  Stored in directory: /private/var/folders/fs/kx46_43x04ndj3yryggvkg5r0000gn/T/pip-ephem-wheel-cache-kyh8hjfw/wheels/08/f6/a0/83dc4749a2f419e1aa7484efaa7a394b9e03ec0838e3ddde7a\r\n",
      "Successfully built eliater\r\n",
      "Installing collected packages: pytz, mpmath, typing-extensions, tqdm, threadpoolctl, tabulate, sympy, pyparsing, pox, pillow, optimaladj, numpy, networkx, more-itertools, kiwisolver, joblib, fsspec, fonttools, filelock, dill, cycler, click, torch, scipy, patsy, pandas, opt-einsum, more-click, ml-dtypes, klepto, contourpy, statsmodels, scikit-learn, mystic, matplotlib, jaxlib, jax, y0, seaborn, pgmpy, ananke-causal, eliater\r\n",
      "Successfully installed ananke-causal-0.5.0 click-8.1.7 contourpy-1.2.0 cycler-0.12.1 dill-0.3.7 eliater-0.0.1.dev0 filelock-3.13.1 fonttools-4.47.2 fsspec-2023.12.2 jax-0.4.23 jaxlib-0.4.23 joblib-1.3.2 kiwisolver-1.4.5 klepto-0.2.4 matplotlib-3.8.2 ml-dtypes-0.3.2 more-click-0.1.2 more-itertools-10.2.0 mpmath-1.3.0 mystic-0.4.1 networkx-3.2.1 numpy-1.26.3 opt-einsum-3.3.0 optimaladj-0.0.4 pandas-1.5.3 patsy-0.5.6 pgmpy-0.1.24 pillow-10.2.0 pox-0.3.3 pyparsing-3.1.1 pytz-2023.3.post1 scikit-learn-1.4.0 scipy-1.12.0 seaborn-0.13.1 statsmodels-0.13.5 sympy-1.12 tabulate-0.9.0 threadpoolctl-3.2.0 torch-2.1.2 tqdm-4.66.1 typing-extensions-4.9.0 y0-0.2.7\r\n"
     ]
    }
   ],
   "source": [
    "!pip install git+https://github.com/y0-causal-inference/eliater.git "
   ],
   "metadata": {
    "collapsed": false,
    "ExecuteTime": {
     "end_time": "2024-01-24T13:10:50.878509Z",
     "start_time": "2024-01-24T13:06:51.385769Z"
    }
   },
   "id": "c97c6b9e4c253d48",
   "execution_count": 1
  },
  {
   "cell_type": "code",
   "execution_count": 20,
   "id": "initial_id",
   "metadata": {
    "ExecuteTime": {
     "end_time": "2024-01-24T13:38:03.286311Z",
     "start_time": "2024-01-24T13:38:03.201725Z"
    }
   },
   "outputs": [],
   "source": [
    "import numpy as np\n",
    "\n",
    "# from eliater import version_df\n",
    "from eliater.discover_latent_nodes import find_nuisance_variables, remove_nuisance_variables\n",
    "from src.eliater.examples.sars_cov2 import sars_large_example as example\n",
    "from eliater.network_validation import print_graph_falsifications\n",
    "from y0.algorithm.estimation import estimate_ace\n",
    "from y0.algorithm.identify import Identification, identify_outcomes\n",
    "from y0.dsl import P, Variable\n",
    "\n",
    "# version_df()"
   ]
  },
  {
   "cell_type": "code",
   "execution_count": 21,
   "id": "e3c3963b-36d3-468c-af44-2209e9ed24f8",
   "metadata": {
    "ExecuteTime": {
     "end_time": "2024-01-24T13:38:06.693849Z",
     "start_time": "2024-01-24T13:38:06.640992Z"
    }
   },
   "outputs": [],
   "source": [
    "treatment = Variable(\"EGFR\")\n",
    "outcome = Variable(\"cytok\")\n",
    "SEED = 100"
   ]
  },
  {
   "cell_type": "markdown",
   "id": "5b60ed63441c5411",
   "metadata": {
    "collapsed": false
   },
   "source": [
    "This is case study 1 in Figure 6 in this paper: Eliater: an open source software for causal query estimation from observational measurements of biomolecular networks. The figure below shows the SARS-CoV-2 network (Mohammad-Taheri et al., 2022; Zucker\n",
    "et al., 2021), which models the activation of Cytokine Release Syndrome (Cytokine Storm), a known factor causing tissue damage in severely ill SARS-CoV-2 patients (Ulhaq and Soraya, 2020)."
   ]
  },
  {
   "cell_type": "markdown",
   "source": [
    "![sars](../img/SARS_COV.png)"
   ],
   "metadata": {
    "collapsed": false
   },
   "id": "63942cd92a63bb97"
  },
  {
   "cell_type": "code",
   "execution_count": 22,
   "id": "7ab5d32c79b7bf2",
   "metadata": {
    "collapsed": false,
    "ExecuteTime": {
     "end_time": "2024-01-24T13:38:09.737389Z",
     "start_time": "2024-01-24T13:38:09.617096Z"
    }
   },
   "outputs": [],
   "source": [
    "graph = example.graph"
   ]
  },
  {
   "cell_type": "markdown",
   "id": "d5f92410e9801798",
   "metadata": {
    "collapsed": false
   },
   "source": [
    "This case study used synthetic observational data. The generation of this synthetic data was inspired by common biological practices.  The exogenous variables were modeled with a Gaussian distribution. For each endogenous variable $X$, we represented  biomolecular reactions using Hill equations \\cite{alon2019introduction}, and were approximated with a sigmoid function as follows,\n",
    "\n",
    "$\\mathcal{N}(\\frac{100}{1 + \\exp(\\mathbf{\\theta}^{\\prime} Pa(X) + \\theta_0)})$ \n",
    "\n",
    "where $Pa(X)$ is a $q \\times 1$ vector of measurements related to the parent of $X$, $\\mathbf{\\theta}'$ is a $1 \\times q$ parameter vector, and $\\theta_0$ is a scalar. The $EGFR$ was generated from a Binomial distribution with probability of $\\frac{1}{1 + \\exp(\\mathbf{\\theta}^{\\prime} Pa(X) + \\theta_0)}$. Hence, the observational data is mixed-type where the $EGFR$ column is binary (discrete), and rest of columns are continuous."
   ]
  },
  {
   "cell_type": "code",
   "execution_count": 23,
   "id": "eb3a23add3bc3914",
   "metadata": {
    "collapsed": false,
    "ExecuteTime": {
     "end_time": "2024-01-24T13:38:12.630011Z",
     "start_time": "2024-01-24T13:38:12.527666Z"
    }
   },
   "outputs": [
    {
     "data": {
      "text/plain": "   SARS_COV2       ACE2        Ang       AGTR1     ADAM17       Toci  \\\n0  73.679109  17.576840  93.861006  101.151905  98.540180  56.005886   \n1  56.620967  31.727878  78.949305   99.479725  99.297518  56.022003   \n2  65.013230  24.644308  89.730900  100.509177  99.437188  49.753317   \n3  76.249522  19.484148  98.286645   98.466683  98.528750  55.121697   \n4  76.961345  18.504758  92.974745   99.686780  97.174635  45.153245   \n\n       Sil6r        EGF        TNF       Gefi  EGFR        PRR       NFKB  \\\n0  69.424218  96.505141  99.296894  33.424504     1  97.370407  29.751989   \n1  64.051996  98.542970  98.511394  47.897558     1  89.538987  38.158193   \n2  82.287237  91.929421  99.807326  52.808541     1  94.206983  34.403547   \n3  74.968228  97.613234  99.470404  50.439736     1  97.493690  29.059414   \n4  55.506413  95.726874  99.440437  35.386174     1  98.792294  32.300719   \n\n    IL6STAT3     IL6AMP      cytok  \n0  29.366957  38.082656  59.631856  \n1  22.415073  37.129663  56.431981  \n2  44.666545  52.566070  77.488187  \n3  37.505798  41.889477  63.836998  \n4  19.319097  33.277613  52.521325  ",
      "text/html": "<div>\n<style scoped>\n    .dataframe tbody tr th:only-of-type {\n        vertical-align: middle;\n    }\n\n    .dataframe tbody tr th {\n        vertical-align: top;\n    }\n\n    .dataframe thead th {\n        text-align: right;\n    }\n</style>\n<table border=\"1\" class=\"dataframe\">\n  <thead>\n    <tr style=\"text-align: right;\">\n      <th></th>\n      <th>SARS_COV2</th>\n      <th>ACE2</th>\n      <th>Ang</th>\n      <th>AGTR1</th>\n      <th>ADAM17</th>\n      <th>Toci</th>\n      <th>Sil6r</th>\n      <th>EGF</th>\n      <th>TNF</th>\n      <th>Gefi</th>\n      <th>EGFR</th>\n      <th>PRR</th>\n      <th>NFKB</th>\n      <th>IL6STAT3</th>\n      <th>IL6AMP</th>\n      <th>cytok</th>\n    </tr>\n  </thead>\n  <tbody>\n    <tr>\n      <th>0</th>\n      <td>73.679109</td>\n      <td>17.576840</td>\n      <td>93.861006</td>\n      <td>101.151905</td>\n      <td>98.540180</td>\n      <td>56.005886</td>\n      <td>69.424218</td>\n      <td>96.505141</td>\n      <td>99.296894</td>\n      <td>33.424504</td>\n      <td>1</td>\n      <td>97.370407</td>\n      <td>29.751989</td>\n      <td>29.366957</td>\n      <td>38.082656</td>\n      <td>59.631856</td>\n    </tr>\n    <tr>\n      <th>1</th>\n      <td>56.620967</td>\n      <td>31.727878</td>\n      <td>78.949305</td>\n      <td>99.479725</td>\n      <td>99.297518</td>\n      <td>56.022003</td>\n      <td>64.051996</td>\n      <td>98.542970</td>\n      <td>98.511394</td>\n      <td>47.897558</td>\n      <td>1</td>\n      <td>89.538987</td>\n      <td>38.158193</td>\n      <td>22.415073</td>\n      <td>37.129663</td>\n      <td>56.431981</td>\n    </tr>\n    <tr>\n      <th>2</th>\n      <td>65.013230</td>\n      <td>24.644308</td>\n      <td>89.730900</td>\n      <td>100.509177</td>\n      <td>99.437188</td>\n      <td>49.753317</td>\n      <td>82.287237</td>\n      <td>91.929421</td>\n      <td>99.807326</td>\n      <td>52.808541</td>\n      <td>1</td>\n      <td>94.206983</td>\n      <td>34.403547</td>\n      <td>44.666545</td>\n      <td>52.566070</td>\n      <td>77.488187</td>\n    </tr>\n    <tr>\n      <th>3</th>\n      <td>76.249522</td>\n      <td>19.484148</td>\n      <td>98.286645</td>\n      <td>98.466683</td>\n      <td>98.528750</td>\n      <td>55.121697</td>\n      <td>74.968228</td>\n      <td>97.613234</td>\n      <td>99.470404</td>\n      <td>50.439736</td>\n      <td>1</td>\n      <td>97.493690</td>\n      <td>29.059414</td>\n      <td>37.505798</td>\n      <td>41.889477</td>\n      <td>63.836998</td>\n    </tr>\n    <tr>\n      <th>4</th>\n      <td>76.961345</td>\n      <td>18.504758</td>\n      <td>92.974745</td>\n      <td>99.686780</td>\n      <td>97.174635</td>\n      <td>45.153245</td>\n      <td>55.506413</td>\n      <td>95.726874</td>\n      <td>99.440437</td>\n      <td>35.386174</td>\n      <td>1</td>\n      <td>98.792294</td>\n      <td>32.300719</td>\n      <td>19.319097</td>\n      <td>33.277613</td>\n      <td>52.521325</td>\n    </tr>\n  </tbody>\n</table>\n</div>"
     },
     "execution_count": 23,
     "metadata": {},
     "output_type": "execute_result"
    }
   ],
   "source": [
    "# get observational data\n",
    "#data = example.generate_data(1000, seed=SEED)\n",
    "data = example.generate_data(1000, seed=SEED)\n",
    "data.head()"
   ]
  },
  {
   "cell_type": "code",
   "execution_count": 24,
   "outputs": [
    {
     "data": {
      "text/plain": "0.794"
     },
     "execution_count": 24,
     "metadata": {},
     "output_type": "execute_result"
    }
   ],
   "source": [
    "import numpy as np\n",
    "np.mean(data['EGFR'])"
   ],
   "metadata": {
    "collapsed": false,
    "ExecuteTime": {
     "end_time": "2024-01-24T13:38:17.874327Z",
     "start_time": "2024-01-24T13:38:17.754267Z"
    }
   },
   "id": "5802d94d9d86abda"
  },
  {
   "cell_type": "markdown",
   "id": "22de51a518ee7699",
   "metadata": {
    "collapsed": false,
    "ExecuteTime": {
     "end_time": "2024-01-21T07:21:48.517011Z",
     "start_time": "2024-01-21T07:21:48.459711Z"
    }
   },
   "source": [
    "## Step 1: Verify correctness of the network structure"
   ]
  },
  {
   "cell_type": "markdown",
   "source": [
    "We checked the consistency of the network structure against observational data with significance level of 0.01 by first discretizing the data into a binary data and used the $\\chi$-square test. This is because \\texttt{Eliater} does not support mixed-type data.  "
   ],
   "metadata": {
    "collapsed": false
   },
   "id": "6457513ff662e6e1"
  },
  {
   "cell_type": "code",
   "execution_count": 25,
   "outputs": [],
   "source": [
    "from sklearn.preprocessing import KBinsDiscretizer\n",
    "# discretization transform the raw data\n",
    "kbins = KBinsDiscretizer(n_bins=2, encode='ordinal', strategy='uniform')\n",
    "data_trans = kbins.fit_transform(data)"
   ],
   "metadata": {
    "collapsed": false,
    "ExecuteTime": {
     "end_time": "2024-01-24T13:38:23.207348Z",
     "start_time": "2024-01-24T13:38:23.165661Z"
    }
   },
   "id": "fcb2d88946be0c2d"
  },
  {
   "cell_type": "code",
   "execution_count": 26,
   "outputs": [],
   "source": [
    "import pandas as pd\n",
    "data_trans = pd.DataFrame(data_trans, columns = data.columns)"
   ],
   "metadata": {
    "collapsed": false,
    "ExecuteTime": {
     "end_time": "2024-01-24T13:38:24.474963Z",
     "start_time": "2024-01-24T13:38:24.372617Z"
    }
   },
   "id": "be16f25565754d6a"
  },
  {
   "cell_type": "code",
   "execution_count": 27,
   "outputs": [
    {
     "data": {
      "text/plain": "     SARS_COV2  ACE2  Ang  AGTR1  ADAM17  Toci  Sil6r  EGF  TNF  Gefi  EGFR  \\\n0          1.0   0.0  1.0    1.0     1.0   1.0    1.0  1.0  0.0   0.0   1.0   \n1          0.0   0.0  1.0    1.0     1.0   1.0    1.0  1.0  0.0   1.0   1.0   \n2          1.0   0.0  1.0    1.0     1.0   1.0    1.0  1.0  1.0   1.0   1.0   \n3          1.0   0.0  1.0    1.0     1.0   1.0    1.0  1.0  1.0   1.0   1.0   \n4          1.0   0.0  1.0    1.0     1.0   0.0    0.0  1.0  1.0   0.0   1.0   \n..         ...   ...  ...    ...     ...   ...    ...  ...  ...   ...   ...   \n995        0.0   1.0  0.0    1.0     1.0   0.0    1.0  1.0  1.0   1.0   1.0   \n996        0.0   0.0  1.0    1.0     1.0   1.0    1.0  1.0  0.0   0.0   1.0   \n997        0.0   0.0  1.0    1.0     1.0   1.0    1.0  1.0  0.0   0.0   1.0   \n998        1.0   0.0  1.0    1.0     1.0   1.0    1.0  1.0  1.0   0.0   1.0   \n999        1.0   0.0  1.0    1.0     1.0   0.0    1.0  1.0  0.0   0.0   1.0   \n\n     PRR  NFKB  IL6STAT3  IL6AMP  cytok  \n0    1.0   0.0       0.0     0.0    0.0  \n1    1.0   1.0       0.0     0.0    0.0  \n2    1.0   0.0       1.0     1.0    1.0  \n3    1.0   0.0       0.0     0.0    1.0  \n4    1.0   0.0       0.0     0.0    0.0  \n..   ...   ...       ...     ...    ...  \n995  1.0   0.0       1.0     0.0    1.0  \n996  1.0   1.0       1.0     1.0    1.0  \n997  1.0   0.0       1.0     1.0    1.0  \n998  1.0   1.0       1.0     1.0    1.0  \n999  1.0   0.0       0.0     0.0    1.0  \n\n[1000 rows x 16 columns]",
      "text/html": "<div>\n<style scoped>\n    .dataframe tbody tr th:only-of-type {\n        vertical-align: middle;\n    }\n\n    .dataframe tbody tr th {\n        vertical-align: top;\n    }\n\n    .dataframe thead th {\n        text-align: right;\n    }\n</style>\n<table border=\"1\" class=\"dataframe\">\n  <thead>\n    <tr style=\"text-align: right;\">\n      <th></th>\n      <th>SARS_COV2</th>\n      <th>ACE2</th>\n      <th>Ang</th>\n      <th>AGTR1</th>\n      <th>ADAM17</th>\n      <th>Toci</th>\n      <th>Sil6r</th>\n      <th>EGF</th>\n      <th>TNF</th>\n      <th>Gefi</th>\n      <th>EGFR</th>\n      <th>PRR</th>\n      <th>NFKB</th>\n      <th>IL6STAT3</th>\n      <th>IL6AMP</th>\n      <th>cytok</th>\n    </tr>\n  </thead>\n  <tbody>\n    <tr>\n      <th>0</th>\n      <td>1.0</td>\n      <td>0.0</td>\n      <td>1.0</td>\n      <td>1.0</td>\n      <td>1.0</td>\n      <td>1.0</td>\n      <td>1.0</td>\n      <td>1.0</td>\n      <td>0.0</td>\n      <td>0.0</td>\n      <td>1.0</td>\n      <td>1.0</td>\n      <td>0.0</td>\n      <td>0.0</td>\n      <td>0.0</td>\n      <td>0.0</td>\n    </tr>\n    <tr>\n      <th>1</th>\n      <td>0.0</td>\n      <td>0.0</td>\n      <td>1.0</td>\n      <td>1.0</td>\n      <td>1.0</td>\n      <td>1.0</td>\n      <td>1.0</td>\n      <td>1.0</td>\n      <td>0.0</td>\n      <td>1.0</td>\n      <td>1.0</td>\n      <td>1.0</td>\n      <td>1.0</td>\n      <td>0.0</td>\n      <td>0.0</td>\n      <td>0.0</td>\n    </tr>\n    <tr>\n      <th>2</th>\n      <td>1.0</td>\n      <td>0.0</td>\n      <td>1.0</td>\n      <td>1.0</td>\n      <td>1.0</td>\n      <td>1.0</td>\n      <td>1.0</td>\n      <td>1.0</td>\n      <td>1.0</td>\n      <td>1.0</td>\n      <td>1.0</td>\n      <td>1.0</td>\n      <td>0.0</td>\n      <td>1.0</td>\n      <td>1.0</td>\n      <td>1.0</td>\n    </tr>\n    <tr>\n      <th>3</th>\n      <td>1.0</td>\n      <td>0.0</td>\n      <td>1.0</td>\n      <td>1.0</td>\n      <td>1.0</td>\n      <td>1.0</td>\n      <td>1.0</td>\n      <td>1.0</td>\n      <td>1.0</td>\n      <td>1.0</td>\n      <td>1.0</td>\n      <td>1.0</td>\n      <td>0.0</td>\n      <td>0.0</td>\n      <td>0.0</td>\n      <td>1.0</td>\n    </tr>\n    <tr>\n      <th>4</th>\n      <td>1.0</td>\n      <td>0.0</td>\n      <td>1.0</td>\n      <td>1.0</td>\n      <td>1.0</td>\n      <td>0.0</td>\n      <td>0.0</td>\n      <td>1.0</td>\n      <td>1.0</td>\n      <td>0.0</td>\n      <td>1.0</td>\n      <td>1.0</td>\n      <td>0.0</td>\n      <td>0.0</td>\n      <td>0.0</td>\n      <td>0.0</td>\n    </tr>\n    <tr>\n      <th>...</th>\n      <td>...</td>\n      <td>...</td>\n      <td>...</td>\n      <td>...</td>\n      <td>...</td>\n      <td>...</td>\n      <td>...</td>\n      <td>...</td>\n      <td>...</td>\n      <td>...</td>\n      <td>...</td>\n      <td>...</td>\n      <td>...</td>\n      <td>...</td>\n      <td>...</td>\n      <td>...</td>\n    </tr>\n    <tr>\n      <th>995</th>\n      <td>0.0</td>\n      <td>1.0</td>\n      <td>0.0</td>\n      <td>1.0</td>\n      <td>1.0</td>\n      <td>0.0</td>\n      <td>1.0</td>\n      <td>1.0</td>\n      <td>1.0</td>\n      <td>1.0</td>\n      <td>1.0</td>\n      <td>1.0</td>\n      <td>0.0</td>\n      <td>1.0</td>\n      <td>0.0</td>\n      <td>1.0</td>\n    </tr>\n    <tr>\n      <th>996</th>\n      <td>0.0</td>\n      <td>0.0</td>\n      <td>1.0</td>\n      <td>1.0</td>\n      <td>1.0</td>\n      <td>1.0</td>\n      <td>1.0</td>\n      <td>1.0</td>\n      <td>0.0</td>\n      <td>0.0</td>\n      <td>1.0</td>\n      <td>1.0</td>\n      <td>1.0</td>\n      <td>1.0</td>\n      <td>1.0</td>\n      <td>1.0</td>\n    </tr>\n    <tr>\n      <th>997</th>\n      <td>0.0</td>\n      <td>0.0</td>\n      <td>1.0</td>\n      <td>1.0</td>\n      <td>1.0</td>\n      <td>1.0</td>\n      <td>1.0</td>\n      <td>1.0</td>\n      <td>0.0</td>\n      <td>0.0</td>\n      <td>1.0</td>\n      <td>1.0</td>\n      <td>0.0</td>\n      <td>1.0</td>\n      <td>1.0</td>\n      <td>1.0</td>\n    </tr>\n    <tr>\n      <th>998</th>\n      <td>1.0</td>\n      <td>0.0</td>\n      <td>1.0</td>\n      <td>1.0</td>\n      <td>1.0</td>\n      <td>1.0</td>\n      <td>1.0</td>\n      <td>1.0</td>\n      <td>1.0</td>\n      <td>0.0</td>\n      <td>1.0</td>\n      <td>1.0</td>\n      <td>1.0</td>\n      <td>1.0</td>\n      <td>1.0</td>\n      <td>1.0</td>\n    </tr>\n    <tr>\n      <th>999</th>\n      <td>1.0</td>\n      <td>0.0</td>\n      <td>1.0</td>\n      <td>1.0</td>\n      <td>1.0</td>\n      <td>0.0</td>\n      <td>1.0</td>\n      <td>1.0</td>\n      <td>0.0</td>\n      <td>0.0</td>\n      <td>1.0</td>\n      <td>1.0</td>\n      <td>0.0</td>\n      <td>0.0</td>\n      <td>0.0</td>\n      <td>1.0</td>\n    </tr>\n  </tbody>\n</table>\n<p>1000 rows × 16 columns</p>\n</div>"
     },
     "execution_count": 27,
     "metadata": {},
     "output_type": "execute_result"
    }
   ],
   "source": [
    "data_trans"
   ],
   "metadata": {
    "collapsed": false,
    "ExecuteTime": {
     "end_time": "2024-01-24T13:38:25.224375Z",
     "start_time": "2024-01-24T13:38:25.050438Z"
    }
   },
   "id": "5939b11d37754b0"
  },
  {
   "cell_type": "code",
   "execution_count": 28,
   "outputs": [
    {
     "name": "stdout",
     "output_type": "stream",
     "text": [
      "Failed tests: 10/99 (10.10%)\n",
      "Reject null hypothesis when p<0.01\n",
      "=========  =========  =============  =============  =============  =====  =============  ===================\n",
      "left       right      given                  stats              p    dof          p_adj  p_adj_significant\n",
      "=========  =========  =============  =============  =============  =====  =============  ===================\n",
      "IL6STAT3   cytok      IL6AMP          82.4349         0                1    0            True\n",
      "ACE2       PRR        SARS_COV2      100.918          0                1    0            True\n",
      "Ang        PRR        SARS_COV2      192.741          0                1    0            True\n",
      "Toci       cytok      IL6AMP          37.3328         9.95942e-10      1    9.56105e-08  True\n",
      "Ang        NFKB       AGTR1|PRR       35.7247         1.74778e-08      2    1.66039e-06  True\n",
      "IL6AMP     Toci       ADAM17|Sil6r    33.4457         5.4622e-08       2    5.13447e-06  True\n",
      "IL6STAT3   Toci       Sil6r           30.8221         2.02803e-07      2    1.88607e-05  True\n",
      "Sil6r      cytok      IL6AMP          24.9942         5.75028e-07      1    5.29026e-05  True\n",
      "ACE2       NFKB       Ang|PRR         17.4575         2.93807e-05      1    0.00267364   True\n",
      "AGTR1      PRR        Ang             16.7527         4.25812e-05      1    0.00383231   True\n",
      "NFKB       SARS_COV2  Ang|PRR         11.9579         0.000544167      1    0.0484308    False\n",
      "Gefi       IL6STAT3                    0.789142       0.37436          1    1            False\n",
      "IL6AMP     PRR        IL6STAT3|NFKB    7.39328        0.0603648        3    1            False\n",
      "IL6AMP     TNF        IL6STAT3|NFKB    0.0473582      0.997298         3    1            False\n",
      "AGTR1      NFKB       ADAM17|Ang       1.90482        0.16754          1    1            False\n",
      "NFKB       Toci                        0.373322       0.541199         1    1            False\n",
      "EGF        PRR        Ang              0.161712       0.922326         2    1            False\n",
      "IL6STAT3   NFKB       EGFR|Sil6r       0.0531727      0.996791         3    1            False\n",
      "Gefi       Toci                        0.0148808      0.90291          1    1            False\n",
      "Gefi       PRR                         0              1                1    1            False\n",
      "AGTR1      Toci                        0.953974       0.32871          1    1            False\n",
      "ADAM17     IL6STAT3   Sil6r            0.608196       0.737789         2    1            False\n",
      "IL6STAT3   SARS_COV2  Ang              1.2908         0.2559           1    1            False\n",
      "EGFR       SARS_COV2  EGF              0.00721476     0.996399         2    1            False\n",
      "Gefi       NFKB       EGF|EGFR         3.2553         0.516046         4    1            False\n",
      "EGFR       Toci                        0.0040702      0.949131         1    1            False\n",
      "Ang        EGF        AGTR1            1.04037        0.307736         1    1            False\n",
      "Ang        Sil6r      AGTR1            0.552862       0.457151         1    1            False\n",
      "EGFR       cytok      IL6AMP           0.143548       0.704779         1    1            False\n",
      "ACE2       Gefi                        0.00995781     0.920512         1    1            False\n",
      "EGF        IL6STAT3   Sil6r            0.185681       0.911339         2    1            False\n",
      "TNF        Toci                        0.0207049      0.885586         1    1            False\n",
      "PRR        Toci                        1.90976        0.16699          1    1            False\n",
      "EGF        TNF        ADAM17           2.72843        0.0985759        1    1            False\n",
      "Gefi       cytok      IL6AMP           0              1                1    1            False\n",
      "ACE2       IL6STAT3   Ang              1.73373e-06    0.998949         1    1            False\n",
      "EGFR       Sil6r      EGF              5.49898        0.0639604        2    1            False\n",
      "ACE2       Toci                        0.00120912     0.972261         1    1            False\n",
      "EGF        cytok      IL6AMP           0.00276347     0.958076         1    1            False\n",
      "IL6STAT3   PRR        Ang              1.45456        0.483221         2    1            False\n",
      "EGFR       PRR        EGF              1.87558        0.391492         2    1            False\n",
      "Ang        cytok      IL6AMP           0.68747        0.407026         1    1            False\n",
      "ADAM17     PRR        Ang              1.18016        0.277322         1    1            False\n",
      "ADAM17     Gefi                        0              1                1    1            False\n",
      "EGF        Toci                        0.0855317      0.769936         1    1            False\n",
      "ADAM17     EGFR       EGF              0.124196       0.724527         1    1            False\n",
      "EGF        Sil6r      ADAM17           0.0111609      0.915864         1    1            False\n",
      "AGTR1      EGFR       EGF              0.00469604     0.945366         1    1            False\n",
      "ACE2       IL6AMP     Ang|PRR          0.166481       0.683259         1    1            False\n",
      "Ang        TNF        AGTR1            0.434356       0.509859         1    1            False\n",
      "EGF        IL6AMP     ADAM17|EGFR      2.88709        0.236089         2    1            False\n",
      "NFKB       Sil6r      ADAM17           1.28028        0.257846         1    1            False\n",
      "ADAM17     IL6AMP     IL6STAT3|NFKB    0              1                1    1            False\n",
      "EGFR       IL6AMP     IL6STAT3|NFKB    0.0435192      0.997617         3    1            False\n",
      "SARS_COV2  cytok      IL6AMP           0.330832       0.56517          1    1            False\n",
      "ACE2       EGFR       EGF              0.490626       0.78246          2    1            False\n",
      "SARS_COV2  TNF        Ang              0.117932       0.731288         1    1            False\n",
      "Gefi       SARS_COV2                   0              1                1    1            False\n",
      "ADAM17     NFKB       Ang|EGFR|TNF     0.17341        0.916947         2    1            False\n",
      "ACE2       EGF        Ang              0.54305        0.461172         1    1            False\n",
      "Ang        Toci                        2.59307        0.107332         1    1            False\n",
      "AGTR1      IL6AMP     ADAM17|Ang       1.03394        0.309234         1    1            False\n",
      "ADAM17     cytok      IL6AMP           0              1                1    1            False\n",
      "AGTR1      IL6STAT3   Sil6r            3.44575        0.178552         2    1            False\n",
      "ACE2       Sil6r      Ang              0.295674       0.586607         1    1            False\n",
      "PRR        cytok      IL6AMP           0.0948988      0.758039         1    1            False\n",
      "TNF        cytok      IL6AMP           0.338305       0.560809         1    1            False\n",
      "IL6AMP     Sil6r      IL6STAT3|NFKB    2.42079        0.489776         3    1            False\n",
      "IL6STAT3   TNF        Sil6r            0.0982107      0.952081         2    1            False\n",
      "Sil6r      TNF        ADAM17           0.228916       0.891849         2    1            False\n",
      "AGTR1      cytok      IL6AMP           0.0442096      0.833464         1    1            False\n",
      "EGF        Gefi                        0.348463       0.554984         1    1            False\n",
      "AGTR1      Gefi                        0.0135089      0.907472         1    1            False\n",
      "IL6AMP     SARS_COV2  Ang|PRR          1.87037        0.171433         1    1            False\n",
      "SARS_COV2  Toci                        0.366993       0.544648         1    1            False\n",
      "ADAM17     Toci                        0.0936869      0.759541         1    1            False\n",
      "Ang        IL6STAT3   AGTR1            0.0695021      0.792063         1    1            False\n",
      "SARS_COV2  Sil6r      Ang              0              1                1    1            False\n",
      "Ang        IL6AMP     AGTR1|PRR        3.84284        0.146399         2    1            False\n",
      "Ang        EGFR       EGF              1.22672        0.541528         2    1            False\n",
      "AGTR1      EGF        ADAM17           0.155429       0.6934           1    1            False\n",
      "Ang        Gefi                        0.00117216     0.972688         1    1            False\n",
      "Gefi       IL6AMP     EGF|EGFR         0.336584       0.987332         4    1            False\n",
      "AGTR1      Sil6r      ADAM17           1.20808        0.271713         1    1            False\n",
      "Gefi       Sil6r                       0.1556         0.69324          1    1            False\n",
      "PRR        Sil6r      Ang              0.396421       0.820197         2    1            False\n",
      "Gefi       TNF                         0.173333       0.677166         1    1            False\n",
      "PRR        TNF        Ang              0.202182       0.903851         2    1            False\n",
      "AGTR1      TNF        ADAM17           0.141846       0.706453         1    1            False\n",
      "EGF        NFKB       ADAM17|EGFR      0.284639       0.867344         2    1            False\n",
      "ACE2       TNF        Ang              0.600963       0.438211         1    1            False\n",
      "NFKB       cytok      IL6AMP           1.6284         0.201925         1    1            False\n",
      "EGF        SARS_COV2  Ang              2.6745         0.101967         1    1            False\n",
      "ACE2       cytok      IL6AMP           0.125087       0.723582         1    1            False\n",
      "ADAM17     Ang        AGTR1            0            nan                0  nan            False\n",
      "ADAM17     SARS_COV2  Ang              0            nan                0  nan            False\n",
      "ACE2       ADAM17     Ang              0            nan                0  nan            False\n",
      "AGTR1      SARS_COV2  Ang              0            nan                0  nan            False\n",
      "ACE2       AGTR1      Ang              0            nan                0  nan            False\n",
      "=========  =========  =============  =============  =============  =====  =============  ===================\n"
     ]
    }
   ],
   "source": [
    "print_graph_falsifications(\n",
    "    graph=graph, data=data_trans, method=\"chi-square\", verbose=True, significance_level=0.01\n",
    ")"
   ],
   "metadata": {
    "collapsed": false,
    "ExecuteTime": {
     "end_time": "2024-01-24T13:39:27.246814Z",
     "start_time": "2024-01-24T13:38:31.633613Z"
    }
   },
   "id": "e21efcf3940ffc5e"
  },
  {
   "cell_type": "markdown",
   "id": "74b79e259232adfb",
   "metadata": {
    "collapsed": false
   },
   "source": [
    "Among all the 99 possible tests, 10 failed (10 $\\%$). As the data was synthetically generated based on the network structure, we expected all the tests to pass. However the failed tests are due to noise inherited by randomly sampling the data points. "
   ]
  },
  {
   "cell_type": "markdown",
   "id": "944520ca55c79b4b",
   "metadata": {
    "collapsed": false,
    "ExecuteTime": {
     "end_time": "2024-01-21T07:24:52.777016Z",
     "start_time": "2024-01-21T07:24:09.582369Z"
    }
   },
   "source": [
    "## Step 2: Check query identifiability"
   ]
  },
  {
   "cell_type": "code",
   "execution_count": 11,
   "id": "25bb329cbc5a1e08",
   "metadata": {
    "collapsed": false,
    "ExecuteTime": {
     "end_time": "2024-01-24T13:27:06.532330Z",
     "start_time": "2024-01-24T13:27:06.346848Z"
    }
   },
   "outputs": [
    {
     "data": {
      "text/plain": "Sum[ACE2, ADAM17, AGTR1, Ang, IL6AMP, IL6STAT3, NFKB, PRR, SARS_COV2, Sil6r, TNF, Toci](P(ACE2 | SARS_COV2) * P(AGTR1 | ACE2, Ang, SARS_COV2) * P(IL6AMP | ACE2, ADAM17, AGTR1, Ang, EGF, EGFR, Gefi, IL6STAT3, NFKB, PRR, SARS_COV2, Sil6r, TNF, Toci) * P(IL6STAT3 | ACE2, ADAM17, AGTR1, Ang, SARS_COV2, Sil6r, Toci) * P(TNF | ACE2, ADAM17, AGTR1, Ang, SARS_COV2) * P(cytok | ACE2, ADAM17, AGTR1, Ang, EGF, EGFR, Gefi, IL6AMP, IL6STAT3, NFKB, PRR, SARS_COV2, Sil6r, TNF, Toci) * Sum[ACE2, ADAM17, AGTR1, Ang, EGF, EGFR, Gefi, IL6AMP, IL6STAT3, NFKB, PRR, SARS_COV2, Sil6r, TNF, cytok](P(ACE2, ADAM17, AGTR1, Ang, EGF, EGFR, Gefi, IL6AMP, IL6STAT3, NFKB, PRR, SARS_COV2, Sil6r, TNF, Toci, cytok)) * P(ADAM17 | ACE2, AGTR1, Ang, SARS_COV2, Toci) * P(Sil6r | ACE2, ADAM17, AGTR1, Ang, SARS_COV2, Toci) * P(Ang | ACE2, SARS_COV2) * P(SARS_COV2) * P(NFKB | ACE2, ADAM17, AGTR1, Ang, EGF, EGFR, Gefi, PRR, SARS_COV2, TNF) * P(PRR | ACE2, Gefi, SARS_COV2))",
      "text/latex": "$\\sum\\limits_{ACE_2, ADAM_{17}, AGTR_1, Ang, IL6AM_P, IL6STA_{T3}, NFKB, PRR, SARS_COV_2, Sil6_r, TNF, Toci} P(ACE_2 | SARS_COV_2) P(AGTR_1 | ACE_2, Ang, SARS_COV_2) P(IL6AM_P | ACE_2, ADAM_{17}, AGTR_1, Ang, EGF, EGFR, Gefi, IL6STA_{T3}, NFKB, PRR, SARS_COV_2, Sil6_r, TNF, Toci) P(IL6STA_{T3} | ACE_2, ADAM_{17}, AGTR_1, Ang, SARS_COV_2, Sil6_r, Toci) P(TNF | ACE_2, ADAM_{17}, AGTR_1, Ang, SARS_COV_2) P(cytok | ACE_2, ADAM_{17}, AGTR_1, Ang, EGF, EGFR, Gefi, IL6AM_P, IL6STA_{T3}, NFKB, PRR, SARS_COV_2, Sil6_r, TNF, Toci) \\sum\\limits_{ACE_2, ADAM_{17}, AGTR_1, Ang, EGF, EGFR, Gefi, IL6AM_P, IL6STA_{T3}, NFKB, PRR, SARS_COV_2, Sil6_r, TNF, cytok} P(ACE_2, ADAM_{17}, AGTR_1, Ang, EGF, EGFR, Gefi, IL6AM_P, IL6STA_{T3}, NFKB, PRR, SARS_COV_2, Sil6_r, TNF, Toci, cytok) P(ADAM_{17} | ACE_2, AGTR_1, Ang, SARS_COV_2, Toci) P(Sil6_r | ACE_2, ADAM_{17}, AGTR_1, Ang, SARS_COV_2, Toci) P(Ang | ACE_2, SARS_COV_2) P(SARS_COV_2) P(NFKB | ACE_2, ADAM_{17}, AGTR_1, Ang, EGF, EGFR, Gefi, PRR, SARS_COV_2, TNF) P(PRR | ACE_2, Gefi, SARS_COV_2)$"
     },
     "execution_count": 11,
     "metadata": {},
     "output_type": "execute_result"
    }
   ],
   "source": [
    "identify_outcomes(graph=graph, treatments=treatment, outcomes=outcome)"
   ]
  },
  {
   "cell_type": "markdown",
   "id": "5ac9e0aec8791fbc",
   "metadata": {
    "collapsed": false
   },
   "source": [
    "The query is identifiable."
   ]
  },
  {
   "cell_type": "markdown",
   "id": "e84ccc3bdc28f772",
   "metadata": {
    "collapsed": false
   },
   "source": [
    "## Step 3: Find nuisance variables and mark them as latent"
   ]
  },
  {
   "cell_type": "markdown",
   "id": "c7ea93588b4f7188",
   "metadata": {
    "collapsed": false
   },
   "source": [
    "This function finds the nuisance variables for the input graph."
   ]
  },
  {
   "cell_type": "code",
   "execution_count": 12,
   "id": "4dff38fbf23ce61c",
   "metadata": {
    "collapsed": false,
    "ExecuteTime": {
     "end_time": "2024-01-24T13:27:12.062050Z",
     "start_time": "2024-01-24T13:27:11.965240Z"
    }
   },
   "outputs": [
    {
     "data": {
      "text/plain": "set()"
     },
     "execution_count": 12,
     "metadata": {},
     "output_type": "execute_result"
    }
   ],
   "source": [
    "nuisance_variables = find_nuisance_variables(graph, treatments=treatment, outcomes=outcome)\n",
    "nuisance_variables"
   ]
  },
  {
   "cell_type": "markdown",
   "id": "7401dd4e2c6d5d31",
   "metadata": {
    "collapsed": false
   },
   "source": [
    "No variable is identified as the nuisance variable. Hence the simplified network in the next step will produce a graph similar to the original graph."
   ]
  },
  {
   "cell_type": "markdown",
   "id": "6aa2819509255d89",
   "metadata": {
    "collapsed": false
   },
   "source": [
    "## Step 4: Simplify the network"
   ]
  },
  {
   "cell_type": "markdown",
   "id": "7b987190a5fa7453",
   "metadata": {
    "collapsed": false
   },
   "source": [
    "In eliater, step 3, and 4 are both combined into a single function. Hence, the following function finds the nuisance variable (step 3), marks them as latent and then applies Evan's simplification rules (Step 4) to remove the nuisance variables. As a result, running the 'find_nuisance_variables' and 'mark_nuisance_variables_as_latent' functions is not necessary to get the value of step 4. However, we called them to illustrate the results.  As there are no nuisance variables, the new graph will be the same as the original graph."
   ]
  },
  {
   "cell_type": "code",
   "execution_count": 13,
   "id": "e6849ec627ee2b59",
   "metadata": {
    "collapsed": false,
    "ExecuteTime": {
     "end_time": "2024-01-24T13:27:15.605599Z",
     "start_time": "2024-01-24T13:27:15.555413Z"
    }
   },
   "outputs": [],
   "source": [
    "new_graph = remove_nuisance_variables(graph, treatments=treatment, outcomes=outcome)"
   ]
  },
  {
   "cell_type": "markdown",
   "id": "b8e9dd961d1d459a",
   "metadata": {
    "collapsed": false
   },
   "source": [
    "## Step 5: Estimate the query"
   ]
  },
  {
   "cell_type": "code",
   "execution_count": 14,
   "id": "5c926e5be8539db9",
   "metadata": {
    "collapsed": false,
    "ExecuteTime": {
     "end_time": "2024-01-24T13:27:17.848540Z",
     "start_time": "2024-01-24T13:27:17.306389Z"
    }
   },
   "outputs": [
    {
     "data": {
      "text/plain": "0.6049518182729656"
     },
     "execution_count": 14,
     "metadata": {},
     "output_type": "execute_result"
    }
   ],
   "source": [
    "estimate_ace(new_graph, treatments=treatment, outcomes=outcome, data=data)"
   ]
  },
  {
   "cell_type": "markdown",
   "id": "bcdeff27d0bcbcb3",
   "metadata": {
    "collapsed": false
   },
   "source": [
    "## Evaluation criterion\n",
    "As we used synthetic data set, we were able to generate two interventional data sets where in\n",
    "one EGFR was set to 1, and the other one EGFR is set to 0. The ATE was calculated by subtracting the average value of Cytokine Storm obtained from each interventional data,\n",
    "resulting in the ground truth ATE=0.796. The positive ATE indicates that the Gefitinib drug can not reduce the Cytokine Storm levels, hence can't help in treating patients having SARS-Cov-2."
   ]
  },
  {
   "cell_type": "code",
   "execution_count": 15,
   "outputs": [
    {
     "data": {
      "text/plain": "0.7965175191822595"
     },
     "execution_count": 15,
     "metadata": {},
     "output_type": "execute_result"
    }
   ],
   "source": [
    "def get_background_ace(seed=None) -> float:\n",
    "    # get interventional data where treatment is set to 1\n",
    "    data_1 = example.generate_data(1000, {treatment: 1.0}, seed=seed)\n",
    "    # get interventional data where treatment is set to 0\n",
    "    data_0 = example.generate_data(1000, {treatment: 0.0}, seed=seed)\n",
    "    return data_1.mean()[outcome.name] - data_0.mean()[outcome.name]\n",
    "\n",
    "# get the true value of ATE\n",
    "get_background_ace(seed=SEED)"
   ],
   "metadata": {
    "collapsed": false,
    "ExecuteTime": {
     "end_time": "2024-01-24T13:27:56.751266Z",
     "start_time": "2024-01-24T13:27:56.638025Z"
    }
   },
   "id": "14bdcdd244526750"
  },
  {
   "cell_type": "markdown",
   "id": "c721a0a302437bdc",
   "metadata": {
    "collapsed": false
   },
   "source": [
    "The estimated $\\widehat{\\mathrm{ATE}}=0.605$, comparable in sign and magnitute to the ground truth ATE=0.796. The discrepancy in the value of results is due to non-linear, and complex data generation procedure, which is similar to the real-life experimental artifacts, and due to the approximate nature of the modeling assumption."
   ]
  },
  {
   "cell_type": "code",
   "execution_count": 16,
   "outputs": [
    {
     "data": {
      "text/plain": "-0.23994974874371866"
     },
     "execution_count": 16,
     "metadata": {},
     "output_type": "execute_result"
    }
   ],
   "source": [
    "#Relative change\n",
    "((0.605 - 0.796)/0.796)"
   ],
   "metadata": {
    "collapsed": false,
    "ExecuteTime": {
     "end_time": "2024-01-24T13:28:11.959236Z",
     "start_time": "2024-01-24T13:28:11.867181Z"
    }
   },
   "id": "6044644d90692b3d"
  },
  {
   "cell_type": "markdown",
   "source": [
    "### Random Sampling Evaluation"
   ],
   "metadata": {
    "collapsed": false
   },
   "id": "30a25ac6032e7af3"
  },
  {
   "cell_type": "code",
   "outputs": [],
   "source": [
    "# Population => Generate D = 10000 data points\n",
    "D = example.generate_data(10000, seed=SEED)"
   ],
   "metadata": {
    "collapsed": false,
    "ExecuteTime": {
     "end_time": "2024-01-24T13:28:17.882520Z",
     "start_time": "2024-01-24T13:28:17.799758Z"
    }
   },
   "id": "f5eb9d860279f708",
   "execution_count": 17
  },
  {
   "cell_type": "code",
   "outputs": [],
   "source": [
    "# Samples => Generate 1000 datasets with 1000 points each (d) using random sampling\n",
    "\n",
    "d_count = 1000\n",
    "d_size = 1000\n",
    "d = [D.sample(d_size) for _ in range(d_count)]"
   ],
   "metadata": {
    "collapsed": false,
    "ExecuteTime": {
     "end_time": "2024-01-24T13:28:22.170363Z",
     "start_time": "2024-01-24T13:28:19.732470Z"
    }
   },
   "id": "89581483f3392dee",
   "execution_count": 18
  },
  {
   "cell_type": "code",
   "outputs": [],
   "source": [
    "ate = [estimate_ace(new_graph, treatments=treatment, outcomes=outcome, data=data) for data in d]"
   ],
   "metadata": {
    "collapsed": false,
    "is_executing": true,
    "ExecuteTime": {
     "start_time": "2024-01-24T13:28:24.704009Z"
    }
   },
   "id": "269f193d582cb157",
   "execution_count": null
  },
  {
   "cell_type": "code",
   "execution_count": null,
   "outputs": [],
   "source": [],
   "metadata": {
    "collapsed": false
   },
   "id": "cedf2a4cfdf60ea5"
  }
 ],
 "metadata": {
  "kernelspec": {
   "display_name": "Python 3 (ipykernel)",
   "language": "python",
   "name": "python3"
  },
  "language_info": {
   "codemirror_mode": {
    "name": "ipython",
    "version": 3
   },
   "file_extension": ".py",
   "mimetype": "text/x-python",
   "name": "python",
   "nbconvert_exporter": "python",
   "pygments_lexer": "ipython3",
   "version": "3.11.6"
  }
 },
 "nbformat": 4,
 "nbformat_minor": 5
}
