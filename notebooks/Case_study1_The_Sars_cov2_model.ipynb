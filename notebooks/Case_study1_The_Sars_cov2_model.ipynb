{
 "cells": [
  {
   "cell_type": "markdown",
   "id": "cb1612e5198cab85",
   "metadata": {
    "collapsed": false
   },
   "source": [
    "# Case study 1: Simulation with a SARS-CoV-2 Model"
   ]
  },
  {
   "cell_type": "code",
   "outputs": [
    {
     "name": "stdout",
     "output_type": "stream",
     "text": [
      "Collecting git+https://github.com/y0-causal-inference/eliater.git\r\n",
      "  Cloning https://github.com/y0-causal-inference/eliater.git to /private/var/folders/fs/kx46_43x04ndj3yryggvkg5r0000gn/T/pip-req-build-zo02086b\r\n",
      "  Running command git clone --quiet https://github.com/y0-causal-inference/eliater.git /private/var/folders/fs/kx46_43x04ndj3yryggvkg5r0000gn/T/pip-req-build-zo02086b\r\n",
      "  Resolved https://github.com/y0-causal-inference/eliater.git to commit 33eb330e6faaa0fce6a0526d4764b800b1c8434c\r\n",
      "  Installing build dependencies ... \u001B[?25ldone\r\n",
      "\u001B[?25h  Getting requirements to build wheel ... \u001B[?25ldone\r\n",
      "\u001B[?25h  Preparing metadata (pyproject.toml) ... \u001B[?25ldone\r\n",
      "\u001B[?25hRequirement already satisfied: y0>=0.2.7 in /Users/sarataheri/GitHub/eliater/venv/lib/python3.11/site-packages (from eliater==0.0.1.dev0) (0.2.7)\r\n",
      "Requirement already satisfied: scipy in /Users/sarataheri/GitHub/eliater/venv/lib/python3.11/site-packages (from eliater==0.0.1.dev0) (1.12.0)\r\n",
      "Requirement already satisfied: numpy in /Users/sarataheri/GitHub/eliater/venv/lib/python3.11/site-packages (from eliater==0.0.1.dev0) (1.26.3)\r\n",
      "Requirement already satisfied: ananke-causal>=0.5.0 in /Users/sarataheri/GitHub/eliater/venv/lib/python3.11/site-packages (from eliater==0.0.1.dev0) (0.5.0)\r\n",
      "Requirement already satisfied: pgmpy>=0.1.24 in /Users/sarataheri/GitHub/eliater/venv/lib/python3.11/site-packages (from eliater==0.0.1.dev0) (0.1.24)\r\n",
      "Requirement already satisfied: matplotlib in /Users/sarataheri/GitHub/eliater/venv/lib/python3.11/site-packages (from eliater==0.0.1.dev0) (3.8.2)\r\n",
      "Requirement already satisfied: pandas in /Users/sarataheri/GitHub/eliater/venv/lib/python3.11/site-packages (from eliater==0.0.1.dev0) (1.5.3)\r\n",
      "Requirement already satisfied: seaborn in /Users/sarataheri/GitHub/eliater/venv/lib/python3.11/site-packages (from eliater==0.0.1.dev0) (0.13.1)\r\n",
      "Requirement already satisfied: optimaladj>=0.0.4 in /Users/sarataheri/GitHub/eliater/venv/lib/python3.11/site-packages (from eliater==0.0.1.dev0) (0.0.4)\r\n",
      "Requirement already satisfied: jax<0.5.0,>=0.4.8 in /Users/sarataheri/GitHub/eliater/venv/lib/python3.11/site-packages (from ananke-causal>=0.5.0->eliater==0.0.1.dev0) (0.4.23)\r\n",
      "Requirement already satisfied: jaxlib<0.5.0,>=0.4.7 in /Users/sarataheri/GitHub/eliater/venv/lib/python3.11/site-packages (from ananke-causal>=0.5.0->eliater==0.0.1.dev0) (0.4.23)\r\n",
      "Requirement already satisfied: mystic<0.5.0,>=0.4.0 in /Users/sarataheri/GitHub/eliater/venv/lib/python3.11/site-packages (from ananke-causal>=0.5.0->eliater==0.0.1.dev0) (0.4.1)\r\n",
      "Requirement already satisfied: statsmodels<0.14.0,>=0.13.2 in /Users/sarataheri/GitHub/eliater/venv/lib/python3.11/site-packages (from ananke-causal>=0.5.0->eliater==0.0.1.dev0) (0.13.5)\r\n",
      "Requirement already satisfied: contourpy>=1.0.1 in /Users/sarataheri/GitHub/eliater/venv/lib/python3.11/site-packages (from matplotlib->eliater==0.0.1.dev0) (1.2.0)\r\n",
      "Requirement already satisfied: cycler>=0.10 in /Users/sarataheri/GitHub/eliater/venv/lib/python3.11/site-packages (from matplotlib->eliater==0.0.1.dev0) (0.12.1)\r\n",
      "Requirement already satisfied: fonttools>=4.22.0 in /Users/sarataheri/GitHub/eliater/venv/lib/python3.11/site-packages (from matplotlib->eliater==0.0.1.dev0) (4.47.2)\r\n",
      "Requirement already satisfied: kiwisolver>=1.3.1 in /Users/sarataheri/GitHub/eliater/venv/lib/python3.11/site-packages (from matplotlib->eliater==0.0.1.dev0) (1.4.5)\r\n",
      "Requirement already satisfied: packaging>=20.0 in /Users/sarataheri/GitHub/eliater/venv/lib/python3.11/site-packages (from matplotlib->eliater==0.0.1.dev0) (23.2)\r\n",
      "Requirement already satisfied: pillow>=8 in /Users/sarataheri/GitHub/eliater/venv/lib/python3.11/site-packages (from matplotlib->eliater==0.0.1.dev0) (10.2.0)\r\n",
      "Requirement already satisfied: pyparsing>=2.3.1 in /Users/sarataheri/GitHub/eliater/venv/lib/python3.11/site-packages (from matplotlib->eliater==0.0.1.dev0) (3.1.1)\r\n",
      "Requirement already satisfied: python-dateutil>=2.7 in /Users/sarataheri/GitHub/eliater/venv/lib/python3.11/site-packages (from matplotlib->eliater==0.0.1.dev0) (2.8.2)\r\n",
      "Requirement already satisfied: pytz>=2020.1 in /Users/sarataheri/GitHub/eliater/venv/lib/python3.11/site-packages (from pandas->eliater==0.0.1.dev0) (2023.3.post1)\r\n",
      "Requirement already satisfied: networkx in /Users/sarataheri/GitHub/eliater/venv/lib/python3.11/site-packages (from pgmpy>=0.1.24->eliater==0.0.1.dev0) (3.2.1)\r\n",
      "Requirement already satisfied: scikit-learn in /Users/sarataheri/GitHub/eliater/venv/lib/python3.11/site-packages (from pgmpy>=0.1.24->eliater==0.0.1.dev0) (1.4.0)\r\n",
      "Requirement already satisfied: torch in /Users/sarataheri/GitHub/eliater/venv/lib/python3.11/site-packages (from pgmpy>=0.1.24->eliater==0.0.1.dev0) (2.1.2)\r\n",
      "Requirement already satisfied: tqdm in /Users/sarataheri/GitHub/eliater/venv/lib/python3.11/site-packages (from pgmpy>=0.1.24->eliater==0.0.1.dev0) (4.66.1)\r\n",
      "Requirement already satisfied: joblib in /Users/sarataheri/GitHub/eliater/venv/lib/python3.11/site-packages (from pgmpy>=0.1.24->eliater==0.0.1.dev0) (1.3.2)\r\n",
      "Requirement already satisfied: opt-einsum in /Users/sarataheri/GitHub/eliater/venv/lib/python3.11/site-packages (from pgmpy>=0.1.24->eliater==0.0.1.dev0) (3.3.0)\r\n",
      "Requirement already satisfied: more-itertools in /Users/sarataheri/GitHub/eliater/venv/lib/python3.11/site-packages (from y0>=0.2.7->eliater==0.0.1.dev0) (10.2.0)\r\n",
      "Requirement already satisfied: click in /Users/sarataheri/GitHub/eliater/venv/lib/python3.11/site-packages (from y0>=0.2.7->eliater==0.0.1.dev0) (8.1.7)\r\n",
      "Requirement already satisfied: more-click in /Users/sarataheri/GitHub/eliater/venv/lib/python3.11/site-packages (from y0>=0.2.7->eliater==0.0.1.dev0) (0.1.2)\r\n",
      "Requirement already satisfied: tabulate in /Users/sarataheri/GitHub/eliater/venv/lib/python3.11/site-packages (from y0>=0.2.7->eliater==0.0.1.dev0) (0.9.0)\r\n",
      "Requirement already satisfied: ml-dtypes>=0.2.0 in /Users/sarataheri/GitHub/eliater/venv/lib/python3.11/site-packages (from jax<0.5.0,>=0.4.8->ananke-causal>=0.5.0->eliater==0.0.1.dev0) (0.3.2)\r\n",
      "Requirement already satisfied: dill>=0.3.7 in /Users/sarataheri/GitHub/eliater/venv/lib/python3.11/site-packages (from mystic<0.5.0,>=0.4.0->ananke-causal>=0.5.0->eliater==0.0.1.dev0) (0.3.7)\r\n",
      "Requirement already satisfied: klepto>=0.2.4 in /Users/sarataheri/GitHub/eliater/venv/lib/python3.11/site-packages (from mystic<0.5.0,>=0.4.0->ananke-causal>=0.5.0->eliater==0.0.1.dev0) (0.2.4)\r\n",
      "Requirement already satisfied: sympy>=0.6.7 in /Users/sarataheri/GitHub/eliater/venv/lib/python3.11/site-packages (from mystic<0.5.0,>=0.4.0->ananke-causal>=0.5.0->eliater==0.0.1.dev0) (1.12)\r\n",
      "Requirement already satisfied: mpmath>=0.19 in /Users/sarataheri/GitHub/eliater/venv/lib/python3.11/site-packages (from mystic<0.5.0,>=0.4.0->ananke-causal>=0.5.0->eliater==0.0.1.dev0) (1.3.0)\r\n",
      "Requirement already satisfied: six>=1.5 in /Users/sarataheri/GitHub/eliater/venv/lib/python3.11/site-packages (from python-dateutil>=2.7->matplotlib->eliater==0.0.1.dev0) (1.16.0)\r\n",
      "Requirement already satisfied: patsy>=0.5.2 in /Users/sarataheri/GitHub/eliater/venv/lib/python3.11/site-packages (from statsmodels<0.14.0,>=0.13.2->ananke-causal>=0.5.0->eliater==0.0.1.dev0) (0.5.6)\r\n",
      "Requirement already satisfied: threadpoolctl>=2.0.0 in /Users/sarataheri/GitHub/eliater/venv/lib/python3.11/site-packages (from scikit-learn->pgmpy>=0.1.24->eliater==0.0.1.dev0) (3.2.0)\r\n",
      "Requirement already satisfied: filelock in /Users/sarataheri/GitHub/eliater/venv/lib/python3.11/site-packages (from torch->pgmpy>=0.1.24->eliater==0.0.1.dev0) (3.13.1)\r\n",
      "Requirement already satisfied: typing-extensions in /Users/sarataheri/GitHub/eliater/venv/lib/python3.11/site-packages (from torch->pgmpy>=0.1.24->eliater==0.0.1.dev0) (4.9.0)\r\n",
      "Requirement already satisfied: jinja2 in /Users/sarataheri/GitHub/eliater/venv/lib/python3.11/site-packages (from torch->pgmpy>=0.1.24->eliater==0.0.1.dev0) (3.1.3)\r\n",
      "Requirement already satisfied: fsspec in /Users/sarataheri/GitHub/eliater/venv/lib/python3.11/site-packages (from torch->pgmpy>=0.1.24->eliater==0.0.1.dev0) (2023.12.2)\r\n",
      "Requirement already satisfied: pox>=0.3.3 in /Users/sarataheri/GitHub/eliater/venv/lib/python3.11/site-packages (from klepto>=0.2.4->mystic<0.5.0,>=0.4.0->ananke-causal>=0.5.0->eliater==0.0.1.dev0) (0.3.3)\r\n",
      "Requirement already satisfied: MarkupSafe>=2.0 in /Users/sarataheri/GitHub/eliater/venv/lib/python3.11/site-packages (from jinja2->torch->pgmpy>=0.1.24->eliater==0.0.1.dev0) (2.1.4)\r\n",
      "Note: you may need to restart the kernel to use updated packages.\n"
     ]
    }
   ],
   "source": [
    "pip install git+https://github.com/y0-causal-inference/eliater.git "
   ],
   "metadata": {
    "collapsed": false,
    "ExecuteTime": {
     "end_time": "2024-01-24T16:44:37.854152Z",
     "start_time": "2024-01-24T16:43:55.700397Z"
    }
   },
   "id": "c97c6b9e4c253d48",
   "execution_count": 1
  },
  {
   "cell_type": "code",
   "execution_count": 2,
   "id": "initial_id",
   "metadata": {
    "ExecuteTime": {
     "end_time": "2024-01-24T16:45:18.935331Z",
     "start_time": "2024-01-24T16:45:09.470623Z"
    }
   },
   "outputs": [],
   "source": [
    "import numpy as np\n",
    "\n",
    "# from eliater import version_df\n",
    "from eliater.discover_latent_nodes import find_nuisance_variables, remove_nuisance_variables\n",
    "from src.eliater.examples.sars_cov2 import sars_large_example as example\n",
    "from eliater.network_validation import print_graph_falsifications\n",
    "from y0.algorithm.estimation import estimate_ace\n",
    "from y0.algorithm.identify import Identification, identify_outcomes\n",
    "from y0.dsl import P, Variable\n",
    "\n",
    "# version_df()"
   ]
  },
  {
   "cell_type": "code",
   "execution_count": 32,
   "id": "e3c3963b-36d3-468c-af44-2209e9ed24f8",
   "metadata": {
    "ExecuteTime": {
     "end_time": "2024-01-24T17:04:29.830550Z",
     "start_time": "2024-01-24T17:04:29.688764Z"
    }
   },
   "outputs": [],
   "source": [
    "treatment = Variable(\"EGFR\")\n",
    "outcome = Variable(\"cytok\")\n",
    "SEED = 1"
   ]
  },
  {
   "cell_type": "markdown",
   "id": "5b60ed63441c5411",
   "metadata": {
    "collapsed": false
   },
   "source": [
    "This is case study 1 in Figure 6 in this paper: Eliater: an open source software for causal query estimation from observational measurements of biomolecular networks. The figure below shows the SARS-CoV-2 network (Mohammad-Taheri et al., 2022; Zucker\n",
    "et al., 2021), which models the activation of Cytokine Release Syndrome (Cytokine Storm), a known factor causing tissue damage in severely ill SARS-CoV-2 patients (Ulhaq and Soraya, 2020)."
   ]
  },
  {
   "cell_type": "markdown",
   "source": [
    "![sars](../img/SARS_COV.png)"
   ],
   "metadata": {
    "collapsed": false
   },
   "id": "63942cd92a63bb97"
  },
  {
   "cell_type": "code",
   "execution_count": 33,
   "id": "7ab5d32c79b7bf2",
   "metadata": {
    "collapsed": false,
    "ExecuteTime": {
     "end_time": "2024-01-24T17:04:36.928872Z",
     "start_time": "2024-01-24T17:04:36.815990Z"
    }
   },
   "outputs": [],
   "source": [
    "graph = example.graph"
   ]
  },
  {
   "cell_type": "markdown",
   "id": "d5f92410e9801798",
   "metadata": {
    "collapsed": false
   },
   "source": [
    "This case study used synthetic observational data. The generation of this synthetic data was inspired by common biological practices.  The exogenous variables were modeled with a Gaussian distribution. For each endogenous variable $X$, we represented  biomolecular reactions using Hill equations \\cite{alon2019introduction}, and were approximated with a sigmoid function as follows,\n",
    "\n",
    "$\\mathcal{N}(\\frac{100}{1 + \\exp(\\mathbf{\\theta}^{\\prime} Pa(X) + \\theta_0)})$ \n",
    "\n",
    "where $Pa(X)$ is a $q \\times 1$ vector of measurements related to the parent of $X$, $\\mathbf{\\theta}'$ is a $1 \\times q$ parameter vector, and $\\theta_0$ is a scalar. The $EGFR$ was generated from a Binomial distribution with probability of $\\frac{1}{1 + \\exp(\\mathbf{\\theta}^{\\prime} Pa(X) + \\theta_0)}$. Hence, the observational data is mixed-type where the $EGFR$ column is binary (discrete), and rest of columns are continuous."
   ]
  },
  {
   "cell_type": "code",
   "execution_count": 34,
   "id": "eb3a23add3bc3914",
   "metadata": {
    "collapsed": false,
    "ExecuteTime": {
     "end_time": "2024-01-24T17:04:39.269481Z",
     "start_time": "2024-01-24T17:04:39.105958Z"
    }
   },
   "outputs": [
    {
     "data": {
      "text/plain": "   SARS_COV2       ACE2        Ang       AGTR1     ADAM17       Toci  \\\n0  59.369823  28.865010  80.945934   98.951365  99.622929  46.948396   \n1  65.747677  24.442393  88.638279  100.485450  98.100064  53.387180   \n2  50.159966  38.743537  63.744807   96.905832  98.596068  44.723507   \n3  56.522754  31.391726  80.738942   99.529963  97.361924  52.824318   \n4  68.088783  23.650945  90.055546   97.717794  99.504007  19.245570   \n\n       Sil6r        EGF         TNF       Gefi  EGFR        PRR       NFKB  \\\n0  72.362190  97.811656   98.636874  48.455842     1  93.522042  31.738214   \n1  66.974700  98.118165   99.194269  53.216181     1  93.253347  32.373436   \n2  80.906965  99.105551   99.680357  48.304371     1  89.229004  28.464979   \n3  71.810154  97.007089  100.493854  31.968428     1  90.428579  32.031291   \n4  88.271677  97.318417  101.467959  54.053559     1  94.705816  42.688960   \n\n    IL6STAT3     IL6AMP      cytok  \n0  38.304913  44.590550  66.890970  \n1  13.011949  28.977027  45.865472  \n2  38.081135  45.681853  68.698542  \n3  38.437000  46.039039  69.361123  \n4  36.909011  49.313341  75.695476  ",
      "text/html": "<div>\n<style scoped>\n    .dataframe tbody tr th:only-of-type {\n        vertical-align: middle;\n    }\n\n    .dataframe tbody tr th {\n        vertical-align: top;\n    }\n\n    .dataframe thead th {\n        text-align: right;\n    }\n</style>\n<table border=\"1\" class=\"dataframe\">\n  <thead>\n    <tr style=\"text-align: right;\">\n      <th></th>\n      <th>SARS_COV2</th>\n      <th>ACE2</th>\n      <th>Ang</th>\n      <th>AGTR1</th>\n      <th>ADAM17</th>\n      <th>Toci</th>\n      <th>Sil6r</th>\n      <th>EGF</th>\n      <th>TNF</th>\n      <th>Gefi</th>\n      <th>EGFR</th>\n      <th>PRR</th>\n      <th>NFKB</th>\n      <th>IL6STAT3</th>\n      <th>IL6AMP</th>\n      <th>cytok</th>\n    </tr>\n  </thead>\n  <tbody>\n    <tr>\n      <th>0</th>\n      <td>59.369823</td>\n      <td>28.865010</td>\n      <td>80.945934</td>\n      <td>98.951365</td>\n      <td>99.622929</td>\n      <td>46.948396</td>\n      <td>72.362190</td>\n      <td>97.811656</td>\n      <td>98.636874</td>\n      <td>48.455842</td>\n      <td>1</td>\n      <td>93.522042</td>\n      <td>31.738214</td>\n      <td>38.304913</td>\n      <td>44.590550</td>\n      <td>66.890970</td>\n    </tr>\n    <tr>\n      <th>1</th>\n      <td>65.747677</td>\n      <td>24.442393</td>\n      <td>88.638279</td>\n      <td>100.485450</td>\n      <td>98.100064</td>\n      <td>53.387180</td>\n      <td>66.974700</td>\n      <td>98.118165</td>\n      <td>99.194269</td>\n      <td>53.216181</td>\n      <td>1</td>\n      <td>93.253347</td>\n      <td>32.373436</td>\n      <td>13.011949</td>\n      <td>28.977027</td>\n      <td>45.865472</td>\n    </tr>\n    <tr>\n      <th>2</th>\n      <td>50.159966</td>\n      <td>38.743537</td>\n      <td>63.744807</td>\n      <td>96.905832</td>\n      <td>98.596068</td>\n      <td>44.723507</td>\n      <td>80.906965</td>\n      <td>99.105551</td>\n      <td>99.680357</td>\n      <td>48.304371</td>\n      <td>1</td>\n      <td>89.229004</td>\n      <td>28.464979</td>\n      <td>38.081135</td>\n      <td>45.681853</td>\n      <td>68.698542</td>\n    </tr>\n    <tr>\n      <th>3</th>\n      <td>56.522754</td>\n      <td>31.391726</td>\n      <td>80.738942</td>\n      <td>99.529963</td>\n      <td>97.361924</td>\n      <td>52.824318</td>\n      <td>71.810154</td>\n      <td>97.007089</td>\n      <td>100.493854</td>\n      <td>31.968428</td>\n      <td>1</td>\n      <td>90.428579</td>\n      <td>32.031291</td>\n      <td>38.437000</td>\n      <td>46.039039</td>\n      <td>69.361123</td>\n    </tr>\n    <tr>\n      <th>4</th>\n      <td>68.088783</td>\n      <td>23.650945</td>\n      <td>90.055546</td>\n      <td>97.717794</td>\n      <td>99.504007</td>\n      <td>19.245570</td>\n      <td>88.271677</td>\n      <td>97.318417</td>\n      <td>101.467959</td>\n      <td>54.053559</td>\n      <td>1</td>\n      <td>94.705816</td>\n      <td>42.688960</td>\n      <td>36.909011</td>\n      <td>49.313341</td>\n      <td>75.695476</td>\n    </tr>\n  </tbody>\n</table>\n</div>"
     },
     "execution_count": 34,
     "metadata": {},
     "output_type": "execute_result"
    }
   ],
   "source": [
    "# get observational data\n",
    "#data = example.generate_data(1000, seed=SEED)\n",
    "data = example.generate_data(1000, seed=SEED)\n",
    "data.head()"
   ]
  },
  {
   "cell_type": "code",
   "execution_count": 35,
   "outputs": [
    {
     "data": {
      "text/plain": "0.807"
     },
     "execution_count": 35,
     "metadata": {},
     "output_type": "execute_result"
    }
   ],
   "source": [
    "import numpy as np\n",
    "np.mean(data['EGFR'])"
   ],
   "metadata": {
    "collapsed": false,
    "ExecuteTime": {
     "end_time": "2024-01-24T17:04:42.375988Z",
     "start_time": "2024-01-24T17:04:42.283836Z"
    }
   },
   "id": "5802d94d9d86abda"
  },
  {
   "cell_type": "markdown",
   "id": "22de51a518ee7699",
   "metadata": {
    "collapsed": false,
    "ExecuteTime": {
     "end_time": "2024-01-21T07:21:48.517011Z",
     "start_time": "2024-01-21T07:21:48.459711Z"
    }
   },
   "source": [
    "## Step 1: Verify correctness of the network structure"
   ]
  },
  {
   "cell_type": "markdown",
   "source": [
    "We checked the consistency of the network structure against observational data with significance level of 0.01 by first discretizing the data into a binary data and used the $\\chi$-square test. This is because \\texttt{Eliater} does not support mixed-type data.  "
   ],
   "metadata": {
    "collapsed": false
   },
   "id": "6457513ff662e6e1"
  },
  {
   "cell_type": "code",
   "execution_count": 36,
   "outputs": [],
   "source": [
    "from sklearn.preprocessing import KBinsDiscretizer\n",
    "# discretization transform the raw data\n",
    "kbins = KBinsDiscretizer(n_bins=2, encode='ordinal', strategy='uniform')\n",
    "data_trans = kbins.fit_transform(data)"
   ],
   "metadata": {
    "collapsed": false,
    "ExecuteTime": {
     "end_time": "2024-01-24T17:04:45.956051Z",
     "start_time": "2024-01-24T17:04:45.918495Z"
    }
   },
   "id": "fcb2d88946be0c2d"
  },
  {
   "cell_type": "code",
   "execution_count": 37,
   "outputs": [],
   "source": [
    "import pandas as pd\n",
    "data_trans = pd.DataFrame(data_trans, columns = data.columns)"
   ],
   "metadata": {
    "collapsed": false,
    "ExecuteTime": {
     "end_time": "2024-01-24T17:04:46.894447Z",
     "start_time": "2024-01-24T17:04:46.827858Z"
    }
   },
   "id": "be16f25565754d6a"
  },
  {
   "cell_type": "code",
   "execution_count": 38,
   "outputs": [
    {
     "data": {
      "text/plain": "     SARS_COV2  ACE2  Ang  AGTR1  ADAM17  Toci  Sil6r  EGF  TNF  Gefi  EGFR  \\\n0          1.0   0.0  1.0    1.0     1.0   1.0    1.0  1.0  0.0   1.0   1.0   \n1          1.0   0.0  1.0    1.0     1.0   1.0    1.0  1.0  0.0   1.0   1.0   \n2          0.0   1.0  1.0    1.0     1.0   0.0    1.0  1.0  1.0   1.0   1.0   \n3          1.0   0.0  1.0    1.0     1.0   1.0    1.0  1.0  1.0   0.0   1.0   \n4          1.0   0.0  1.0    1.0     1.0   0.0    1.0  1.0  1.0   1.0   1.0   \n..         ...   ...  ...    ...     ...   ...    ...  ...  ...   ...   ...   \n995        1.0   0.0  1.0    1.0     1.0   0.0    1.0  1.0  1.0   0.0   1.0   \n996        1.0   0.0  1.0    1.0     1.0   0.0    1.0  1.0  1.0   0.0   1.0   \n997        0.0   0.0  1.0    1.0     1.0   1.0    1.0  1.0  1.0   0.0   1.0   \n998        1.0   0.0  1.0    1.0     1.0   1.0    1.0  1.0  0.0   0.0   1.0   \n999        0.0   1.0  1.0    1.0     1.0   1.0    1.0  1.0  1.0   1.0   1.0   \n\n     PRR  NFKB  IL6STAT3  IL6AMP  cytok  \n0    1.0   0.0       0.0     0.0    1.0  \n1    1.0   0.0       0.0     0.0    0.0  \n2    1.0   0.0       0.0     0.0    1.0  \n3    1.0   0.0       0.0     0.0    1.0  \n4    1.0   1.0       0.0     1.0    1.0  \n..   ...   ...       ...     ...    ...  \n995  1.0   1.0       0.0     1.0    1.0  \n996  1.0   1.0       0.0     0.0    1.0  \n997  1.0   0.0       0.0     0.0    0.0  \n998  1.0   1.0       1.0     1.0    1.0  \n999  0.0   1.0       0.0     0.0    1.0  \n\n[1000 rows x 16 columns]",
      "text/html": "<div>\n<style scoped>\n    .dataframe tbody tr th:only-of-type {\n        vertical-align: middle;\n    }\n\n    .dataframe tbody tr th {\n        vertical-align: top;\n    }\n\n    .dataframe thead th {\n        text-align: right;\n    }\n</style>\n<table border=\"1\" class=\"dataframe\">\n  <thead>\n    <tr style=\"text-align: right;\">\n      <th></th>\n      <th>SARS_COV2</th>\n      <th>ACE2</th>\n      <th>Ang</th>\n      <th>AGTR1</th>\n      <th>ADAM17</th>\n      <th>Toci</th>\n      <th>Sil6r</th>\n      <th>EGF</th>\n      <th>TNF</th>\n      <th>Gefi</th>\n      <th>EGFR</th>\n      <th>PRR</th>\n      <th>NFKB</th>\n      <th>IL6STAT3</th>\n      <th>IL6AMP</th>\n      <th>cytok</th>\n    </tr>\n  </thead>\n  <tbody>\n    <tr>\n      <th>0</th>\n      <td>1.0</td>\n      <td>0.0</td>\n      <td>1.0</td>\n      <td>1.0</td>\n      <td>1.0</td>\n      <td>1.0</td>\n      <td>1.0</td>\n      <td>1.0</td>\n      <td>0.0</td>\n      <td>1.0</td>\n      <td>1.0</td>\n      <td>1.0</td>\n      <td>0.0</td>\n      <td>0.0</td>\n      <td>0.0</td>\n      <td>1.0</td>\n    </tr>\n    <tr>\n      <th>1</th>\n      <td>1.0</td>\n      <td>0.0</td>\n      <td>1.0</td>\n      <td>1.0</td>\n      <td>1.0</td>\n      <td>1.0</td>\n      <td>1.0</td>\n      <td>1.0</td>\n      <td>0.0</td>\n      <td>1.0</td>\n      <td>1.0</td>\n      <td>1.0</td>\n      <td>0.0</td>\n      <td>0.0</td>\n      <td>0.0</td>\n      <td>0.0</td>\n    </tr>\n    <tr>\n      <th>2</th>\n      <td>0.0</td>\n      <td>1.0</td>\n      <td>1.0</td>\n      <td>1.0</td>\n      <td>1.0</td>\n      <td>0.0</td>\n      <td>1.0</td>\n      <td>1.0</td>\n      <td>1.0</td>\n      <td>1.0</td>\n      <td>1.0</td>\n      <td>1.0</td>\n      <td>0.0</td>\n      <td>0.0</td>\n      <td>0.0</td>\n      <td>1.0</td>\n    </tr>\n    <tr>\n      <th>3</th>\n      <td>1.0</td>\n      <td>0.0</td>\n      <td>1.0</td>\n      <td>1.0</td>\n      <td>1.0</td>\n      <td>1.0</td>\n      <td>1.0</td>\n      <td>1.0</td>\n      <td>1.0</td>\n      <td>0.0</td>\n      <td>1.0</td>\n      <td>1.0</td>\n      <td>0.0</td>\n      <td>0.0</td>\n      <td>0.0</td>\n      <td>1.0</td>\n    </tr>\n    <tr>\n      <th>4</th>\n      <td>1.0</td>\n      <td>0.0</td>\n      <td>1.0</td>\n      <td>1.0</td>\n      <td>1.0</td>\n      <td>0.0</td>\n      <td>1.0</td>\n      <td>1.0</td>\n      <td>1.0</td>\n      <td>1.0</td>\n      <td>1.0</td>\n      <td>1.0</td>\n      <td>1.0</td>\n      <td>0.0</td>\n      <td>1.0</td>\n      <td>1.0</td>\n    </tr>\n    <tr>\n      <th>...</th>\n      <td>...</td>\n      <td>...</td>\n      <td>...</td>\n      <td>...</td>\n      <td>...</td>\n      <td>...</td>\n      <td>...</td>\n      <td>...</td>\n      <td>...</td>\n      <td>...</td>\n      <td>...</td>\n      <td>...</td>\n      <td>...</td>\n      <td>...</td>\n      <td>...</td>\n      <td>...</td>\n    </tr>\n    <tr>\n      <th>995</th>\n      <td>1.0</td>\n      <td>0.0</td>\n      <td>1.0</td>\n      <td>1.0</td>\n      <td>1.0</td>\n      <td>0.0</td>\n      <td>1.0</td>\n      <td>1.0</td>\n      <td>1.0</td>\n      <td>0.0</td>\n      <td>1.0</td>\n      <td>1.0</td>\n      <td>1.0</td>\n      <td>0.0</td>\n      <td>1.0</td>\n      <td>1.0</td>\n    </tr>\n    <tr>\n      <th>996</th>\n      <td>1.0</td>\n      <td>0.0</td>\n      <td>1.0</td>\n      <td>1.0</td>\n      <td>1.0</td>\n      <td>0.0</td>\n      <td>1.0</td>\n      <td>1.0</td>\n      <td>1.0</td>\n      <td>0.0</td>\n      <td>1.0</td>\n      <td>1.0</td>\n      <td>1.0</td>\n      <td>0.0</td>\n      <td>0.0</td>\n      <td>1.0</td>\n    </tr>\n    <tr>\n      <th>997</th>\n      <td>0.0</td>\n      <td>0.0</td>\n      <td>1.0</td>\n      <td>1.0</td>\n      <td>1.0</td>\n      <td>1.0</td>\n      <td>1.0</td>\n      <td>1.0</td>\n      <td>1.0</td>\n      <td>0.0</td>\n      <td>1.0</td>\n      <td>1.0</td>\n      <td>0.0</td>\n      <td>0.0</td>\n      <td>0.0</td>\n      <td>0.0</td>\n    </tr>\n    <tr>\n      <th>998</th>\n      <td>1.0</td>\n      <td>0.0</td>\n      <td>1.0</td>\n      <td>1.0</td>\n      <td>1.0</td>\n      <td>1.0</td>\n      <td>1.0</td>\n      <td>1.0</td>\n      <td>0.0</td>\n      <td>0.0</td>\n      <td>1.0</td>\n      <td>1.0</td>\n      <td>1.0</td>\n      <td>1.0</td>\n      <td>1.0</td>\n      <td>1.0</td>\n    </tr>\n    <tr>\n      <th>999</th>\n      <td>0.0</td>\n      <td>1.0</td>\n      <td>1.0</td>\n      <td>1.0</td>\n      <td>1.0</td>\n      <td>1.0</td>\n      <td>1.0</td>\n      <td>1.0</td>\n      <td>1.0</td>\n      <td>1.0</td>\n      <td>1.0</td>\n      <td>0.0</td>\n      <td>1.0</td>\n      <td>0.0</td>\n      <td>0.0</td>\n      <td>1.0</td>\n    </tr>\n  </tbody>\n</table>\n<p>1000 rows × 16 columns</p>\n</div>"
     },
     "execution_count": 38,
     "metadata": {},
     "output_type": "execute_result"
    }
   ],
   "source": [
    "data_trans"
   ],
   "metadata": {
    "collapsed": false,
    "ExecuteTime": {
     "end_time": "2024-01-24T17:04:47.581088Z",
     "start_time": "2024-01-24T17:04:47.387406Z"
    }
   },
   "id": "5939b11d37754b0"
  },
  {
   "cell_type": "code",
   "execution_count": 39,
   "outputs": [
    {
     "name": "stdout",
     "output_type": "stream",
     "text": [
      "Failed tests: 11/99 (11.11%)\n",
      "Reject null hypothesis when p<0.01\n",
      "=========  =========  ===============  =============  =============  =====  =============  ===================\n",
      "left       right      given                    stats              p    dof          p_adj  p_adj_significant\n",
      "=========  =========  ===============  =============  =============  =====  =============  ===================\n",
      "ACE2       PRR        SARS_COV2         81.4172         0                1    0            True\n",
      "Ang        PRR        SARS_COV2        127.143          0                1    0            True\n",
      "Sil6r      cytok      IL6AMP            88.0579         0                1    0            True\n",
      "IL6STAT3   cytok      IL6AMP            49.2213         2.2865e-12       1    2.19504e-10  True\n",
      "Ang        NFKB       ADAM17|PRR        53.5342         2.37244e-12      2    2.25381e-10  True\n",
      "NFKB       SARS_COV2  ADAM17|PRR        48.1146         4.02023e-12      1    3.77901e-10  True\n",
      "AGTR1      PRR        SARS_COV2         40.9869         1.5325e-10       1    1.42523e-08  True\n",
      "ACE2       NFKB       ADAM17|PRR        40.7377         1.741e-10        1    1.60172e-08  True\n",
      "IL6STAT3   Toci       Sil6r             26.7381         1.56277e-06      2    0.000142212  True\n",
      "Toci       cytok      IL6AMP            19.6542         9.28009e-06      1    0.000835208  True\n",
      "IL6AMP     Toci       ADAM17|Sil6r      19.6316         5.45818e-05      2    0.00485778   True\n",
      "IL6AMP     Sil6r      ADAM17|IL6STAT3   11.1858         0.00372425       2    0.327734     False\n",
      "Gefi       Toci                          0.298862       0.584597         1    1            False\n",
      "Sil6r      TNF        ADAM17             5.08436        0.0241426        1    1            False\n",
      "ACE2       IL6AMP     ADAM17|PRR         0.469315       0.493302         1    1            False\n",
      "IL6STAT3   TNF        ADAM17             1.68567        0.194173         1    1            False\n",
      "Ang        Sil6r      ADAM17             0.223949       0.636047         1    1            False\n",
      "Gefi       IL6STAT3                      0.145628       0.702749         1    1            False\n",
      "Gefi       TNF                           0.330073       0.565616         1    1            False\n",
      "Ang        cytok      IL6AMP             1.49692        0.221145         1    1            False\n",
      "EGF        TNF        ADAM17             0.893108       0.639829         2    1            False\n",
      "AGTR1      cytok      IL6AMP             2.0833         0.148918         1    1            False\n",
      "ADAM17     EGFR       EGF                0.101578       0.950479         2    1            False\n",
      "AGTR1      EGFR       EGF                0.0987027      0.951847         2    1            False\n",
      "AGTR1      Sil6r      ADAM17             1.01405        0.313934         1    1            False\n",
      "Gefi       Sil6r                         1.33638        0.247673         1    1            False\n",
      "EGFR       Sil6r      EGF                0              1                2    1            False\n",
      "EGF        Toci                          3.23983        0.0718683        1    1            False\n",
      "SARS_COV2  cytok      IL6AMP             0.539852       0.462494         1    1            False\n",
      "EGFR       PRR        EGF                4.00236        0.135176         2    1            False\n",
      "EGF        Gefi                          0.0291171      0.864509         1    1            False\n",
      "NFKB       cytok      IL6AMP             3.65012        0.0560651        1    1            False\n",
      "Ang        TNF        ADAM17             0              1                1    1            False\n",
      "EGFR       IL6AMP     IL6STAT3|NFKB      2.54102        0.637306         4    1            False\n",
      "Ang        Toci                          0.0196708      0.88846          1    1            False\n",
      "TNF        cytok      IL6AMP             4.21793        0.039999         1    1            False\n",
      "SARS_COV2  Toci                          0.0277463      0.867707         1    1            False\n",
      "ACE2       EGF        ADAM17             1.21656        0.270038         1    1            False\n",
      "EGFR       cytok      IL6AMP             0.119443       0.729639         1    1            False\n",
      "Gefi       NFKB       EGF|EGFR           0.806677       0.937551         4    1            False\n",
      "AGTR1      TNF        ADAM17             0.00848909     0.92659          1    1            False\n",
      "Ang        IL6STAT3   ADAM17             1.95356        0.162204         1    1            False\n",
      "ADAM17     NFKB       EGF|PRR|TNF        0.53125        0.911974         3    1            False\n",
      "EGF        IL6STAT3   ADAM17             1.70785        0.191265         1    1            False\n",
      "ACE2       cytok      IL6AMP             0.590135       0.442367         1    1            False\n",
      "Gefi       IL6AMP     EGF|EGFR           2.33245        0.674868         4    1            False\n",
      "Gefi       SARS_COV2                     0.186756       0.66563          1    1            False\n",
      "PRR        cytok      IL6AMP             0.00170014     0.96711          1    1            False\n",
      "ACE2       EGFR       EGF                2.70726        0.258301         2    1            False\n",
      "EGF        PRR        ADAM17             1.68765        0.193911         1    1            False\n",
      "Ang        IL6AMP     ADAM17|PRR         6.17257        0.0456712        2    1            False\n",
      "ADAM17     cytok      IL6AMP             1.15047        0.28345          1    1            False\n",
      "NFKB       Toci                          0.521935       0.470017         1    1            False\n",
      "SARS_COV2  TNF        ADAM17             0              1                1    1            False\n",
      "PRR        TNF        ADAM17             0.0143975      0.904491         1    1            False\n",
      "ACE2       Toci                          0.891425       0.345091         1    1            False\n",
      "TNF        Toci                          4.45698        0.0347589        1    1            False\n",
      "ADAM17     Gefi                          0              1                1    1            False\n",
      "AGTR1      Gefi                          0.297696       0.58533          1    1            False\n",
      "AGTR1      Toci                          0.852244       0.355918         1    1            False\n",
      "EGF        NFKB       ADAM17|EGFR        1.22725        0.541384         2    1            False\n",
      "ACE2       IL6STAT3   ADAM17             0.19366        0.659888         1    1            False\n",
      "AGTR1      IL6AMP     ADAM17|PRR         0.33685        0.561653         1    1            False\n",
      "SARS_COV2  Sil6r      ADAM17             0.746886       0.387464         1    1            False\n",
      "EGFR       Toci                          0.000639691    0.979822         1    1            False\n",
      "IL6STAT3   NFKB       ADAM17|EGFR        2.23656        0.326841         2    1            False\n",
      "PRR        Sil6r      ADAM17             1.40388        0.236075         1    1            False\n",
      "Ang        Gefi                          2.86827        0.0903421        1    1            False\n",
      "ADAM17     IL6STAT3   Sil6r              0              1                1    1            False\n",
      "AGTR1      IL6STAT3   ADAM17             0              1                1    1            False\n",
      "ACE2       Sil6r      ADAM17             0.354839       0.551387         1    1            False\n",
      "NFKB       Sil6r      ADAM17             0.836204       0.360485         1    1            False\n",
      "AGTR1      NFKB       ADAM17|PRR         4.77326        0.028905         1    1            False\n",
      "Gefi       PRR                           0.0271903      0.869027         1    1            False\n",
      "IL6STAT3   PRR        ADAM17             0.544228       0.460686         1    1            False\n",
      "Ang        EGF        ADAM17             3.30525        0.0690589        1    1            False\n",
      "EGF        SARS_COV2  ADAM17             1.79832        0.179916         1    1            False\n",
      "ACE2       TNF        ADAM17             0.0658569      0.797468         1    1            False\n",
      "ADAM17     IL6AMP     IL6STAT3|NFKB      0              1                1    1            False\n",
      "ADAM17     Toci                          0.502838       0.478256         1    1            False\n",
      "AGTR1      EGF        ADAM17             0.000744001    0.978239         1    1            False\n",
      "IL6AMP     SARS_COV2  ADAM17|PRR         0.09197        0.761687         1    1            False\n",
      "IL6AMP     TNF        IL6STAT3|NFKB      0.708229       0.95031          4    1            False\n",
      "Ang        EGFR       EGF                1.07513        0.584169         2    1            False\n",
      "ACE2       Gefi                          0.133359       0.714974         1    1            False\n",
      "IL6STAT3   SARS_COV2  ADAM17             0.0278061      0.867566         1    1            False\n",
      "PRR        Toci                          0.0408697      0.83979          1    1            False\n",
      "EGFR       SARS_COV2  EGF                4.29829        0.116584         2    1            False\n",
      "EGF        IL6AMP     ADAM17|EGFR        1.2199         0.543379         2    1            False\n",
      "IL6AMP     PRR        IL6STAT3|NFKB      1.47428        0.831187         4    1            False\n",
      "Gefi       cytok      IL6AMP             1.04666        0.306277         1    1            False\n",
      "EGF        Sil6r      ADAM17             0.100519       0.751207         1    1            False\n",
      "EGF        cytok      IL6AMP             0.859887       0.35377          1    1            False\n",
      "ACE2       ADAM17     AGTR1              0            nan                0  nan            False\n",
      "ADAM17     PRR        AGTR1              0            nan                0  nan            False\n",
      "ACE2       AGTR1      Ang                0            nan                0  nan            False\n",
      "AGTR1      SARS_COV2  Ang                0            nan                0  nan            False\n",
      "ADAM17     SARS_COV2  AGTR1              0            nan                0  nan            False\n",
      "ADAM17     Ang        AGTR1              0            nan                0  nan            False\n",
      "=========  =========  ===============  =============  =============  =====  =============  ===================\n"
     ]
    }
   ],
   "source": [
    "print_graph_falsifications(\n",
    "    graph=graph, data=data_trans, method=\"chi-square\", verbose=True, significance_level=0.01\n",
    ")"
   ],
   "metadata": {
    "collapsed": false,
    "ExecuteTime": {
     "end_time": "2024-01-24T17:06:25.681965Z",
     "start_time": "2024-01-24T17:04:48.264528Z"
    }
   },
   "id": "e21efcf3940ffc5e"
  },
  {
   "cell_type": "markdown",
   "id": "74b79e259232adfb",
   "metadata": {
    "collapsed": false
   },
   "source": [
    "Among all the 99 possible tests, 10 failed (10 $\\%$). As the data was synthetically generated based on the network structure, we expected all the tests to pass. However the failed tests are due to noise inherited by randomly sampling the data points. "
   ]
  },
  {
   "cell_type": "markdown",
   "id": "944520ca55c79b4b",
   "metadata": {
    "collapsed": false,
    "ExecuteTime": {
     "end_time": "2024-01-21T07:24:52.777016Z",
     "start_time": "2024-01-21T07:24:09.582369Z"
    }
   },
   "source": [
    "## Step 2: Check query identifiability"
   ]
  },
  {
   "cell_type": "code",
   "execution_count": 40,
   "id": "25bb329cbc5a1e08",
   "metadata": {
    "collapsed": false,
    "ExecuteTime": {
     "end_time": "2024-01-24T17:06:25.982540Z",
     "start_time": "2024-01-24T17:06:25.877139Z"
    }
   },
   "outputs": [
    {
     "data": {
      "text/plain": "Sum[ACE2, ADAM17, AGTR1, Ang, IL6AMP, IL6STAT3, NFKB, PRR, SARS_COV2, Sil6r, TNF, Toci](P(ACE2 | SARS_COV2) * P(AGTR1 | ACE2, Ang, SARS_COV2) * P(IL6AMP | ACE2, ADAM17, AGTR1, Ang, EGF, EGFR, Gefi, IL6STAT3, NFKB, PRR, SARS_COV2, Sil6r, TNF, Toci) * P(IL6STAT3 | ACE2, ADAM17, AGTR1, Ang, SARS_COV2, Sil6r, Toci) * P(TNF | ACE2, ADAM17, AGTR1, Ang, SARS_COV2) * P(cytok | ACE2, ADAM17, AGTR1, Ang, EGF, EGFR, Gefi, IL6AMP, IL6STAT3, NFKB, PRR, SARS_COV2, Sil6r, TNF, Toci) * Sum[ACE2, ADAM17, AGTR1, Ang, EGF, EGFR, Gefi, IL6AMP, IL6STAT3, NFKB, PRR, SARS_COV2, Sil6r, TNF, cytok](P(ACE2, ADAM17, AGTR1, Ang, EGF, EGFR, Gefi, IL6AMP, IL6STAT3, NFKB, PRR, SARS_COV2, Sil6r, TNF, Toci, cytok)) * P(ADAM17 | ACE2, AGTR1, Ang, SARS_COV2, Toci) * P(Sil6r | ACE2, ADAM17, AGTR1, Ang, SARS_COV2, Toci) * P(Ang | ACE2, SARS_COV2) * P(SARS_COV2) * P(NFKB | ACE2, ADAM17, AGTR1, Ang, EGF, EGFR, Gefi, PRR, SARS_COV2, TNF) * P(PRR | ACE2, Gefi, SARS_COV2))",
      "text/latex": "$\\sum\\limits_{ACE_2, ADAM_{17}, AGTR_1, Ang, IL6AM_P, IL6STA_{T3}, NFKB, PRR, SARS_COV_2, Sil6_r, TNF, Toci} P(ACE_2 | SARS_COV_2) P(AGTR_1 | ACE_2, Ang, SARS_COV_2) P(IL6AM_P | ACE_2, ADAM_{17}, AGTR_1, Ang, EGF, EGFR, Gefi, IL6STA_{T3}, NFKB, PRR, SARS_COV_2, Sil6_r, TNF, Toci) P(IL6STA_{T3} | ACE_2, ADAM_{17}, AGTR_1, Ang, SARS_COV_2, Sil6_r, Toci) P(TNF | ACE_2, ADAM_{17}, AGTR_1, Ang, SARS_COV_2) P(cytok | ACE_2, ADAM_{17}, AGTR_1, Ang, EGF, EGFR, Gefi, IL6AM_P, IL6STA_{T3}, NFKB, PRR, SARS_COV_2, Sil6_r, TNF, Toci) \\sum\\limits_{ACE_2, ADAM_{17}, AGTR_1, Ang, EGF, EGFR, Gefi, IL6AM_P, IL6STA_{T3}, NFKB, PRR, SARS_COV_2, Sil6_r, TNF, cytok} P(ACE_2, ADAM_{17}, AGTR_1, Ang, EGF, EGFR, Gefi, IL6AM_P, IL6STA_{T3}, NFKB, PRR, SARS_COV_2, Sil6_r, TNF, Toci, cytok) P(ADAM_{17} | ACE_2, AGTR_1, Ang, SARS_COV_2, Toci) P(Sil6_r | ACE_2, ADAM_{17}, AGTR_1, Ang, SARS_COV_2, Toci) P(Ang | ACE_2, SARS_COV_2) P(SARS_COV_2) P(NFKB | ACE_2, ADAM_{17}, AGTR_1, Ang, EGF, EGFR, Gefi, PRR, SARS_COV_2, TNF) P(PRR | ACE_2, Gefi, SARS_COV_2)$"
     },
     "execution_count": 40,
     "metadata": {},
     "output_type": "execute_result"
    }
   ],
   "source": [
    "identify_outcomes(graph=graph, treatments=treatment, outcomes=outcome)"
   ]
  },
  {
   "cell_type": "markdown",
   "id": "5ac9e0aec8791fbc",
   "metadata": {
    "collapsed": false
   },
   "source": [
    "The query is identifiable."
   ]
  },
  {
   "cell_type": "markdown",
   "id": "e84ccc3bdc28f772",
   "metadata": {
    "collapsed": false
   },
   "source": [
    "## Step 3: Find nuisance variables and mark them as latent"
   ]
  },
  {
   "cell_type": "markdown",
   "id": "c7ea93588b4f7188",
   "metadata": {
    "collapsed": false
   },
   "source": [
    "This function finds the nuisance variables for the input graph."
   ]
  },
  {
   "cell_type": "code",
   "execution_count": 41,
   "id": "4dff38fbf23ce61c",
   "metadata": {
    "collapsed": false,
    "ExecuteTime": {
     "end_time": "2024-01-24T17:06:25.991688Z",
     "start_time": "2024-01-24T17:06:25.907190Z"
    }
   },
   "outputs": [
    {
     "data": {
      "text/plain": "set()"
     },
     "execution_count": 41,
     "metadata": {},
     "output_type": "execute_result"
    }
   ],
   "source": [
    "nuisance_variables = find_nuisance_variables(graph, treatments=treatment, outcomes=outcome)\n",
    "nuisance_variables"
   ]
  },
  {
   "cell_type": "markdown",
   "id": "7401dd4e2c6d5d31",
   "metadata": {
    "collapsed": false
   },
   "source": [
    "No variable is identified as the nuisance variable. Hence the simplified network in the next step will produce a graph similar to the original graph."
   ]
  },
  {
   "cell_type": "markdown",
   "id": "6aa2819509255d89",
   "metadata": {
    "collapsed": false
   },
   "source": [
    "## Step 4: Simplify the network"
   ]
  },
  {
   "cell_type": "markdown",
   "id": "7b987190a5fa7453",
   "metadata": {
    "collapsed": false
   },
   "source": [
    "In eliater, step 3, and 4 are both combined into a single function. Hence, the following function finds the nuisance variable (step 3), marks them as latent and then applies Evan's simplification rules (Step 4) to remove the nuisance variables. As a result, running the 'find_nuisance_variables' and 'mark_nuisance_variables_as_latent' functions is not necessary to get the value of step 4. However, we called them to illustrate the results.  As there are no nuisance variables, the new graph will be the same as the original graph."
   ]
  },
  {
   "cell_type": "code",
   "execution_count": 42,
   "id": "e6849ec627ee2b59",
   "metadata": {
    "collapsed": false,
    "ExecuteTime": {
     "end_time": "2024-01-24T17:06:26.441075Z",
     "start_time": "2024-01-24T17:06:25.925211Z"
    }
   },
   "outputs": [],
   "source": [
    "new_graph = remove_nuisance_variables(graph, treatments=treatment, outcomes=outcome)"
   ]
  },
  {
   "cell_type": "markdown",
   "id": "b8e9dd961d1d459a",
   "metadata": {
    "collapsed": false
   },
   "source": [
    "## Step 5: Estimate the query"
   ]
  },
  {
   "cell_type": "code",
   "execution_count": 43,
   "id": "5c926e5be8539db9",
   "metadata": {
    "collapsed": false,
    "ExecuteTime": {
     "end_time": "2024-01-24T17:06:26.852368Z",
     "start_time": "2024-01-24T17:06:25.955500Z"
    }
   },
   "outputs": [
    {
     "data": {
      "text/plain": "0.40458569285088686"
     },
     "execution_count": 43,
     "metadata": {},
     "output_type": "execute_result"
    }
   ],
   "source": [
    "estimate_ace(new_graph, treatments=treatment, outcomes=outcome, data=data)"
   ]
  },
  {
   "cell_type": "markdown",
   "id": "bcdeff27d0bcbcb3",
   "metadata": {
    "collapsed": false
   },
   "source": [
    "## Evaluation criterion\n",
    "As we used synthetic data set, we were able to generate two interventional data sets where in\n",
    "one EGFR was set to 1, and the other one EGFR is set to 0. The ATE was calculated by subtracting the average value of Cytokine Storm obtained from each interventional data,\n",
    "resulting in the ground truth ATE=0.796. The positive ATE indicates that the Gefitinib drug can not reduce the Cytokine Storm levels, hence can't help in treating patients having SARS-Cov-2."
   ]
  },
  {
   "cell_type": "code",
   "execution_count": 44,
   "outputs": [
    {
     "data": {
      "text/plain": "0.7961491870724515"
     },
     "execution_count": 44,
     "metadata": {},
     "output_type": "execute_result"
    }
   ],
   "source": [
    "def get_background_ace(seed=None) -> float:\n",
    "    # get interventional data where treatment is set to 1\n",
    "    data_1 = example.generate_data(1000, {treatment: 1.0}, seed=seed)\n",
    "    # get interventional data where treatment is set to 0\n",
    "    data_0 = example.generate_data(1000, {treatment: 0.0}, seed=seed)\n",
    "    return data_1.mean()[outcome.name] - data_0.mean()[outcome.name]\n",
    "\n",
    "# get the true value of ATE\n",
    "get_background_ace(seed=SEED)"
   ],
   "metadata": {
    "collapsed": false,
    "ExecuteTime": {
     "end_time": "2024-01-24T17:06:26.853230Z",
     "start_time": "2024-01-24T17:06:26.253042Z"
    }
   },
   "id": "14bdcdd244526750"
  },
  {
   "cell_type": "markdown",
   "id": "c721a0a302437bdc",
   "metadata": {
    "collapsed": false
   },
   "source": [
    "The estimated $\\widehat{\\mathrm{ATE}}=0.605$, comparable in sign and magnitute to the ground truth ATE=0.796. The discrepancy in the value of results is due to non-linear, and complex data generation procedure, which is similar to the real-life experimental artifacts, and due to the approximate nature of the modeling assumption."
   ]
  },
  {
   "cell_type": "code",
   "execution_count": 11,
   "outputs": [
    {
     "data": {
      "text/plain": "-0.23994974874371866"
     },
     "execution_count": 11,
     "metadata": {},
     "output_type": "execute_result"
    }
   ],
   "source": [
    "#Relative change\n",
    "((0.605 - 0.796)/0.796)"
   ],
   "metadata": {
    "collapsed": false,
    "ExecuteTime": {
     "end_time": "2024-01-24T16:46:37.426371Z",
     "start_time": "2024-01-24T16:46:37.308271Z"
    }
   },
   "id": "6044644d90692b3d"
  },
  {
   "cell_type": "markdown",
   "source": [
    "### Random Sampling Evaluation"
   ],
   "metadata": {
    "collapsed": false
   },
   "id": "30a25ac6032e7af3"
  },
  {
   "cell_type": "code",
   "outputs": [],
   "source": [
    "# Population => Generate D = 10000 data points\n",
    "D = example.generate_data(10000, seed=SEED)"
   ],
   "metadata": {
    "collapsed": false,
    "ExecuteTime": {
     "end_time": "2024-01-24T17:06:26.853670Z",
     "start_time": "2024-01-24T17:06:26.277410Z"
    }
   },
   "id": "f5eb9d860279f708",
   "execution_count": 45
  },
  {
   "cell_type": "code",
   "outputs": [],
   "source": [
    "# Samples => Generate 1000 datasets with 1000 points each (d) using random sampling\n",
    "d_count = 1000\n",
    "d_size = 1000\n",
    "d = [D.sample(d_size) for _ in range(d_count)]"
   ],
   "metadata": {
    "collapsed": false,
    "ExecuteTime": {
     "end_time": "2024-01-24T17:13:30.229678Z",
     "start_time": "2024-01-24T17:13:28.550605Z"
    }
   },
   "id": "89581483f3392dee",
   "execution_count": 49
  },
  {
   "cell_type": "code",
   "outputs": [],
   "source": [
    "ate = [estimate_ace(new_graph, treatments=treatment, outcomes=outcome, data=data) for data in d]"
   ],
   "metadata": {
    "collapsed": false,
    "ExecuteTime": {
     "end_time": "2024-01-24T17:19:53.018461Z",
     "start_time": "2024-01-24T17:13:32.139860Z"
    }
   },
   "id": "269f193d582cb157",
   "execution_count": 50
  },
  {
   "cell_type": "code",
   "execution_count": 56,
   "outputs": [
    {
     "data": {
      "text/plain": "<Figure size 640x480 with 1 Axes>",
      "image/png": "[encoded data removed]"
     },
     "metadata": {},
     "output_type": "display_data"
    }
   ],
   "source": [
    "import seaborn as sns\n",
    "import matplotlib.pyplot as plt\n",
    "ax = sns.boxplot(y=ate)\n",
    "ax.axhline(y=get_background_ace(seed=SEED), label=\"True ATE\", color='r')\n",
    "ax.set(ylabel=\"Estimated ATE\")\n",
    "ax.legend()\n",
    "#plt.savefig(\"/Users/sarataheri/GitHub/eliater/img/Sars_ATE_boxplot.png\")"
   ],
   "metadata": {
    "collapsed": false,
    "ExecuteTime": {
     "end_time": "2024-01-24T17:26:48.517817Z",
     "start_time": "2024-01-24T17:26:46.845334Z"
    }
   },
   "id": "cedf2a4cfdf60ea5"
  },
  {
   "cell_type": "code",
   "execution_count": null,
   "outputs": [],
   "source": [],
   "metadata": {
    "collapsed": false
   },
   "id": "6588f9c6c815759"
  }
 ],
 "metadata": {
  "kernelspec": {
   "display_name": "Python 3 (ipykernel)",
   "language": "python",
   "name": "python3"
  },
  "language_info": {
   "codemirror_mode": {
    "name": "ipython",
    "version": 3
   },
   "file_extension": ".py",
   "mimetype": "text/x-python",
   "name": "python",
   "nbconvert_exporter": "python",
   "pygments_lexer": "ipython3",
   "version": "3.11.6"
  }
 },
 "nbformat": 4,
 "nbformat_minor": 5
}
