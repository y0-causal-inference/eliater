{
 "cells": [
  {
   "cell_type": "markdown",
   "id": "cb1612e5198cab85",
   "metadata": {
    "collapsed": false
   },
   "source": [
    "# Case study 1: Simulation with a SARS-CoV-2 Model"
   ]
  },
  {
   "cell_type": "code",
   "outputs": [
    {
     "name": "stdout",
     "output_type": "stream",
     "text": [
      "Collecting git+https://github.com/y0-causal-inference/eliater.git\r\n",
      "  Cloning https://github.com/y0-causal-inference/eliater.git to /private/var/folders/fs/kx46_43x04ndj3yryggvkg5r0000gn/T/pip-req-build-4gbdyfrw\r\n",
      "  Running command git clone --quiet https://github.com/y0-causal-inference/eliater.git /private/var/folders/fs/kx46_43x04ndj3yryggvkg5r0000gn/T/pip-req-build-4gbdyfrw\r\n",
      "  Resolved https://github.com/y0-causal-inference/eliater.git to commit 33eb330e6faaa0fce6a0526d4764b800b1c8434c\r\n",
      "  Installing build dependencies ... \u001B[?25ldone\r\n",
      "\u001B[?25h  Getting requirements to build wheel ... \u001B[?25ldone\r\n",
      "\u001B[?25h  Preparing metadata (pyproject.toml) ... \u001B[?25ldone\r\n",
      "\u001B[?25hRequirement already satisfied: y0>=0.2.7 in /Users/sarataheri/GitHub/eliater/venv/lib/python3.11/site-packages (from eliater==0.0.1.dev0) (0.2.7)\r\n",
      "Requirement already satisfied: scipy in /Users/sarataheri/GitHub/eliater/venv/lib/python3.11/site-packages (from eliater==0.0.1.dev0) (1.12.0)\r\n",
      "Requirement already satisfied: numpy in /Users/sarataheri/GitHub/eliater/venv/lib/python3.11/site-packages (from eliater==0.0.1.dev0) (1.26.3)\r\n",
      "Requirement already satisfied: ananke-causal>=0.5.0 in /Users/sarataheri/GitHub/eliater/venv/lib/python3.11/site-packages (from eliater==0.0.1.dev0) (0.5.0)\r\n",
      "Requirement already satisfied: pgmpy>=0.1.24 in /Users/sarataheri/GitHub/eliater/venv/lib/python3.11/site-packages (from eliater==0.0.1.dev0) (0.1.24)\r\n",
      "Requirement already satisfied: matplotlib in /Users/sarataheri/GitHub/eliater/venv/lib/python3.11/site-packages (from eliater==0.0.1.dev0) (3.8.2)\r\n",
      "Requirement already satisfied: pandas in /Users/sarataheri/GitHub/eliater/venv/lib/python3.11/site-packages (from eliater==0.0.1.dev0) (1.5.3)\r\n",
      "Requirement already satisfied: seaborn in /Users/sarataheri/GitHub/eliater/venv/lib/python3.11/site-packages (from eliater==0.0.1.dev0) (0.13.1)\r\n",
      "Requirement already satisfied: optimaladj>=0.0.4 in /Users/sarataheri/GitHub/eliater/venv/lib/python3.11/site-packages (from eliater==0.0.1.dev0) (0.0.4)\r\n",
      "Requirement already satisfied: jax<0.5.0,>=0.4.8 in /Users/sarataheri/GitHub/eliater/venv/lib/python3.11/site-packages (from ananke-causal>=0.5.0->eliater==0.0.1.dev0) (0.4.23)\r\n",
      "Requirement already satisfied: jaxlib<0.5.0,>=0.4.7 in /Users/sarataheri/GitHub/eliater/venv/lib/python3.11/site-packages (from ananke-causal>=0.5.0->eliater==0.0.1.dev0) (0.4.23)\r\n",
      "Requirement already satisfied: mystic<0.5.0,>=0.4.0 in /Users/sarataheri/GitHub/eliater/venv/lib/python3.11/site-packages (from ananke-causal>=0.5.0->eliater==0.0.1.dev0) (0.4.1)\r\n",
      "Requirement already satisfied: statsmodels<0.14.0,>=0.13.2 in /Users/sarataheri/GitHub/eliater/venv/lib/python3.11/site-packages (from ananke-causal>=0.5.0->eliater==0.0.1.dev0) (0.13.5)\r\n",
      "Requirement already satisfied: contourpy>=1.0.1 in /Users/sarataheri/GitHub/eliater/venv/lib/python3.11/site-packages (from matplotlib->eliater==0.0.1.dev0) (1.2.0)\r\n",
      "Requirement already satisfied: cycler>=0.10 in /Users/sarataheri/GitHub/eliater/venv/lib/python3.11/site-packages (from matplotlib->eliater==0.0.1.dev0) (0.12.1)\r\n",
      "Requirement already satisfied: fonttools>=4.22.0 in /Users/sarataheri/GitHub/eliater/venv/lib/python3.11/site-packages (from matplotlib->eliater==0.0.1.dev0) (4.47.2)\r\n",
      "Requirement already satisfied: kiwisolver>=1.3.1 in /Users/sarataheri/GitHub/eliater/venv/lib/python3.11/site-packages (from matplotlib->eliater==0.0.1.dev0) (1.4.5)\r\n",
      "Requirement already satisfied: packaging>=20.0 in /Users/sarataheri/GitHub/eliater/venv/lib/python3.11/site-packages (from matplotlib->eliater==0.0.1.dev0) (23.2)\r\n",
      "Requirement already satisfied: pillow>=8 in /Users/sarataheri/GitHub/eliater/venv/lib/python3.11/site-packages (from matplotlib->eliater==0.0.1.dev0) (10.2.0)\r\n",
      "Requirement already satisfied: pyparsing>=2.3.1 in /Users/sarataheri/GitHub/eliater/venv/lib/python3.11/site-packages (from matplotlib->eliater==0.0.1.dev0) (3.1.1)\r\n",
      "Requirement already satisfied: python-dateutil>=2.7 in /Users/sarataheri/GitHub/eliater/venv/lib/python3.11/site-packages (from matplotlib->eliater==0.0.1.dev0) (2.8.2)\r\n",
      "Requirement already satisfied: pytz>=2020.1 in /Users/sarataheri/GitHub/eliater/venv/lib/python3.11/site-packages (from pandas->eliater==0.0.1.dev0) (2023.3.post1)\r\n",
      "Requirement already satisfied: networkx in /Users/sarataheri/GitHub/eliater/venv/lib/python3.11/site-packages (from pgmpy>=0.1.24->eliater==0.0.1.dev0) (3.2.1)\r\n",
      "Requirement already satisfied: scikit-learn in /Users/sarataheri/GitHub/eliater/venv/lib/python3.11/site-packages (from pgmpy>=0.1.24->eliater==0.0.1.dev0) (1.4.0)\r\n",
      "Requirement already satisfied: torch in /Users/sarataheri/GitHub/eliater/venv/lib/python3.11/site-packages (from pgmpy>=0.1.24->eliater==0.0.1.dev0) (2.1.2)\r\n",
      "Requirement already satisfied: tqdm in /Users/sarataheri/GitHub/eliater/venv/lib/python3.11/site-packages (from pgmpy>=0.1.24->eliater==0.0.1.dev0) (4.66.1)\r\n",
      "Requirement already satisfied: joblib in /Users/sarataheri/GitHub/eliater/venv/lib/python3.11/site-packages (from pgmpy>=0.1.24->eliater==0.0.1.dev0) (1.3.2)\r\n",
      "Requirement already satisfied: opt-einsum in /Users/sarataheri/GitHub/eliater/venv/lib/python3.11/site-packages (from pgmpy>=0.1.24->eliater==0.0.1.dev0) (3.3.0)\r\n",
      "Requirement already satisfied: more-itertools in /Users/sarataheri/GitHub/eliater/venv/lib/python3.11/site-packages (from y0>=0.2.7->eliater==0.0.1.dev0) (10.2.0)\r\n",
      "Requirement already satisfied: click in /Users/sarataheri/GitHub/eliater/venv/lib/python3.11/site-packages (from y0>=0.2.7->eliater==0.0.1.dev0) (8.1.7)\r\n",
      "Requirement already satisfied: more-click in /Users/sarataheri/GitHub/eliater/venv/lib/python3.11/site-packages (from y0>=0.2.7->eliater==0.0.1.dev0) (0.1.2)\r\n",
      "Requirement already satisfied: tabulate in /Users/sarataheri/GitHub/eliater/venv/lib/python3.11/site-packages (from y0>=0.2.7->eliater==0.0.1.dev0) (0.9.0)\r\n",
      "Requirement already satisfied: ml-dtypes>=0.2.0 in /Users/sarataheri/GitHub/eliater/venv/lib/python3.11/site-packages (from jax<0.5.0,>=0.4.8->ananke-causal>=0.5.0->eliater==0.0.1.dev0) (0.3.2)\r\n",
      "Requirement already satisfied: dill>=0.3.7 in /Users/sarataheri/GitHub/eliater/venv/lib/python3.11/site-packages (from mystic<0.5.0,>=0.4.0->ananke-causal>=0.5.0->eliater==0.0.1.dev0) (0.3.7)\r\n",
      "Requirement already satisfied: klepto>=0.2.4 in /Users/sarataheri/GitHub/eliater/venv/lib/python3.11/site-packages (from mystic<0.5.0,>=0.4.0->ananke-causal>=0.5.0->eliater==0.0.1.dev0) (0.2.4)\r\n",
      "Requirement already satisfied: sympy>=0.6.7 in /Users/sarataheri/GitHub/eliater/venv/lib/python3.11/site-packages (from mystic<0.5.0,>=0.4.0->ananke-causal>=0.5.0->eliater==0.0.1.dev0) (1.12)\r\n",
      "Requirement already satisfied: mpmath>=0.19 in /Users/sarataheri/GitHub/eliater/venv/lib/python3.11/site-packages (from mystic<0.5.0,>=0.4.0->ananke-causal>=0.5.0->eliater==0.0.1.dev0) (1.3.0)\r\n",
      "Requirement already satisfied: six>=1.5 in /Users/sarataheri/GitHub/eliater/venv/lib/python3.11/site-packages (from python-dateutil>=2.7->matplotlib->eliater==0.0.1.dev0) (1.16.0)\r\n",
      "Requirement already satisfied: patsy>=0.5.2 in /Users/sarataheri/GitHub/eliater/venv/lib/python3.11/site-packages (from statsmodels<0.14.0,>=0.13.2->ananke-causal>=0.5.0->eliater==0.0.1.dev0) (0.5.6)\r\n",
      "Requirement already satisfied: threadpoolctl>=2.0.0 in /Users/sarataheri/GitHub/eliater/venv/lib/python3.11/site-packages (from scikit-learn->pgmpy>=0.1.24->eliater==0.0.1.dev0) (3.2.0)\r\n",
      "Requirement already satisfied: filelock in /Users/sarataheri/GitHub/eliater/venv/lib/python3.11/site-packages (from torch->pgmpy>=0.1.24->eliater==0.0.1.dev0) (3.13.1)\r\n",
      "Requirement already satisfied: typing-extensions in /Users/sarataheri/GitHub/eliater/venv/lib/python3.11/site-packages (from torch->pgmpy>=0.1.24->eliater==0.0.1.dev0) (4.9.0)\r\n",
      "Requirement already satisfied: jinja2 in /Users/sarataheri/GitHub/eliater/venv/lib/python3.11/site-packages (from torch->pgmpy>=0.1.24->eliater==0.0.1.dev0) (3.1.3)\r\n",
      "Requirement already satisfied: fsspec in /Users/sarataheri/GitHub/eliater/venv/lib/python3.11/site-packages (from torch->pgmpy>=0.1.24->eliater==0.0.1.dev0) (2023.12.2)\r\n",
      "Requirement already satisfied: pox>=0.3.3 in /Users/sarataheri/GitHub/eliater/venv/lib/python3.11/site-packages (from klepto>=0.2.4->mystic<0.5.0,>=0.4.0->ananke-causal>=0.5.0->eliater==0.0.1.dev0) (0.3.3)\r\n",
      "Requirement already satisfied: MarkupSafe>=2.0 in /Users/sarataheri/GitHub/eliater/venv/lib/python3.11/site-packages (from jinja2->torch->pgmpy>=0.1.24->eliater==0.0.1.dev0) (2.1.4)\r\n",
      "Note: you may need to restart the kernel to use updated packages.\n"
     ]
    }
   ],
   "source": [
    "pip install git+https://github.com/y0-causal-inference/eliater.git "
   ],
   "metadata": {
    "collapsed": false,
    "ExecuteTime": {
     "end_time": "2024-01-25T15:12:25.642990Z",
     "start_time": "2024-01-25T15:12:02.252219Z"
    }
   },
   "id": "c97c6b9e4c253d48",
   "execution_count": 80
  },
  {
   "cell_type": "code",
   "execution_count": 81,
   "id": "initial_id",
   "metadata": {
    "ExecuteTime": {
     "end_time": "2024-01-25T15:12:25.679553Z",
     "start_time": "2024-01-25T15:12:25.639493Z"
    }
   },
   "outputs": [],
   "source": [
    "import numpy as np\n",
    "\n",
    "# from eliater import version_df\n",
    "from eliater.discover_latent_nodes import find_nuisance_variables, remove_nuisance_variables\n",
    "from src.eliater.examples.sars_cov2 import sars_large_example as example\n",
    "from eliater.network_validation import print_graph_falsifications\n",
    "from y0.algorithm.estimation import estimate_ace\n",
    "from y0.algorithm.identify import Identification, identify_outcomes\n",
    "from y0.dsl import P, Variable\n",
    "\n",
    "# version_df()"
   ]
  },
  {
   "cell_type": "code",
   "execution_count": 82,
   "id": "e3c3963b-36d3-468c-af44-2209e9ed24f8",
   "metadata": {
    "ExecuteTime": {
     "end_time": "2024-01-25T15:12:25.716150Z",
     "start_time": "2024-01-25T15:12:25.677283Z"
    }
   },
   "outputs": [],
   "source": [
    "treatment = Variable(\"EGFR\")\n",
    "outcome = Variable(\"cytok\")\n",
    "SEED = 10"
   ]
  },
  {
   "cell_type": "markdown",
   "id": "5b60ed63441c5411",
   "metadata": {
    "collapsed": false
   },
   "source": [
    "This is case study 1 in Figure 6 in this paper: Eliater: an open source software for causal query estimation from observational measurements of biomolecular networks. The figure below shows the SARS-CoV-2 network (Mohammad-Taheri et al., 2022; Zucker\n",
    "et al., 2021), which models the activation of Cytokine Release Syndrome (Cytokine Storm), a known factor causing tissue damage in severely ill SARS-CoV-2 patients (Ulhaq and Soraya, 2020)."
   ]
  },
  {
   "cell_type": "markdown",
   "source": [
    "![sars](../img/SARS_COV.png)"
   ],
   "metadata": {
    "collapsed": false
   },
   "id": "63942cd92a63bb97"
  },
  {
   "cell_type": "code",
   "execution_count": 83,
   "id": "7ab5d32c79b7bf2",
   "metadata": {
    "collapsed": false,
    "ExecuteTime": {
     "end_time": "2024-01-25T15:12:25.762655Z",
     "start_time": "2024-01-25T15:12:25.704336Z"
    }
   },
   "outputs": [],
   "source": [
    "graph = example.graph"
   ]
  },
  {
   "cell_type": "markdown",
   "id": "d5f92410e9801798",
   "metadata": {
    "collapsed": false
   },
   "source": [
    "This case study used synthetic observational data. The generation of this synthetic data was inspired by common biological practices.  The exogenous variables were modeled with a Gaussian distribution. For each endogenous variable $X$, we represented  biomolecular reactions using Hill equations \\cite{alon2019introduction}, and were approximated with a sigmoid function as follows,\n",
    "\n",
    "$\\mathcal{N}(\\frac{100}{1 + \\exp(\\mathbf{\\theta}^{\\prime} Pa(X) + \\theta_0)})$ \n",
    "\n",
    "where $Pa(X)$ is a $q \\times 1$ vector of measurements related to the parent of $X$, $\\mathbf{\\theta}'$ is a $1 \\times q$ parameter vector, and $\\theta_0$ is a scalar. The $EGFR$ was generated from a Binomial distribution with probability of $\\frac{1}{1 + \\exp(\\mathbf{\\theta}^{\\prime} Pa(X) + \\theta_0)}$. Hence, the observational data is mixed-type where the $EGFR$ column is binary (discrete), and rest of columns are continuous."
   ]
  },
  {
   "cell_type": "code",
   "execution_count": 84,
   "id": "eb3a23add3bc3914",
   "metadata": {
    "collapsed": false,
    "ExecuteTime": {
     "end_time": "2024-01-25T15:12:25.858359Z",
     "start_time": "2024-01-25T15:12:25.719190Z"
    }
   },
   "outputs": [
    {
     "data": {
      "text/plain": "   SARS_COV2       ACE2        Ang       AGTR1      ADAM17       Toci  \\\n0  74.818466  18.273505  94.393956   98.801910   99.256863  36.651069   \n1  50.907438  36.711375  67.699182   99.294325   96.954993  52.899809   \n2  76.434215  17.909068  94.771813  100.384201  100.226176  42.669583   \n3  72.508174  19.305827  93.568645   99.296364   99.259188  46.082585   \n4  63.747777  26.183989  87.636441   98.737421   99.825670  55.442630   \n\n       Sil6r        EGF         TNF       Gefi  EGFR        PRR       NFKB  \\\n0  85.881712  94.749073   99.863592  33.966616     1  99.518860  34.272531   \n1  75.568726  94.950873   98.934965  37.749754     1  88.868626  32.037571   \n2  87.432246  95.490495   99.403036  37.181947     1  96.605436  35.853639   \n3  71.540865  96.506473   99.042601  47.669759     1  96.954760  39.201726   \n4  86.093502  96.710827  100.583294  42.514193     1  94.118504  29.089479   \n\n    IL6STAT3     IL6AMP      cytok  \n0  33.312144  43.843032  67.926041  \n1  71.296943  69.477027  91.129469  \n2  59.013137  61.840728  85.813060  \n3  20.074860  35.928344  56.811495  \n4  41.607462  45.669105  69.531180  ",
      "text/html": "<div>\n<style scoped>\n    .dataframe tbody tr th:only-of-type {\n        vertical-align: middle;\n    }\n\n    .dataframe tbody tr th {\n        vertical-align: top;\n    }\n\n    .dataframe thead th {\n        text-align: right;\n    }\n</style>\n<table border=\"1\" class=\"dataframe\">\n  <thead>\n    <tr style=\"text-align: right;\">\n      <th></th>\n      <th>SARS_COV2</th>\n      <th>ACE2</th>\n      <th>Ang</th>\n      <th>AGTR1</th>\n      <th>ADAM17</th>\n      <th>Toci</th>\n      <th>Sil6r</th>\n      <th>EGF</th>\n      <th>TNF</th>\n      <th>Gefi</th>\n      <th>EGFR</th>\n      <th>PRR</th>\n      <th>NFKB</th>\n      <th>IL6STAT3</th>\n      <th>IL6AMP</th>\n      <th>cytok</th>\n    </tr>\n  </thead>\n  <tbody>\n    <tr>\n      <th>0</th>\n      <td>74.818466</td>\n      <td>18.273505</td>\n      <td>94.393956</td>\n      <td>98.801910</td>\n      <td>99.256863</td>\n      <td>36.651069</td>\n      <td>85.881712</td>\n      <td>94.749073</td>\n      <td>99.863592</td>\n      <td>33.966616</td>\n      <td>1</td>\n      <td>99.518860</td>\n      <td>34.272531</td>\n      <td>33.312144</td>\n      <td>43.843032</td>\n      <td>67.926041</td>\n    </tr>\n    <tr>\n      <th>1</th>\n      <td>50.907438</td>\n      <td>36.711375</td>\n      <td>67.699182</td>\n      <td>99.294325</td>\n      <td>96.954993</td>\n      <td>52.899809</td>\n      <td>75.568726</td>\n      <td>94.950873</td>\n      <td>98.934965</td>\n      <td>37.749754</td>\n      <td>1</td>\n      <td>88.868626</td>\n      <td>32.037571</td>\n      <td>71.296943</td>\n      <td>69.477027</td>\n      <td>91.129469</td>\n    </tr>\n    <tr>\n      <th>2</th>\n      <td>76.434215</td>\n      <td>17.909068</td>\n      <td>94.771813</td>\n      <td>100.384201</td>\n      <td>100.226176</td>\n      <td>42.669583</td>\n      <td>87.432246</td>\n      <td>95.490495</td>\n      <td>99.403036</td>\n      <td>37.181947</td>\n      <td>1</td>\n      <td>96.605436</td>\n      <td>35.853639</td>\n      <td>59.013137</td>\n      <td>61.840728</td>\n      <td>85.813060</td>\n    </tr>\n    <tr>\n      <th>3</th>\n      <td>72.508174</td>\n      <td>19.305827</td>\n      <td>93.568645</td>\n      <td>99.296364</td>\n      <td>99.259188</td>\n      <td>46.082585</td>\n      <td>71.540865</td>\n      <td>96.506473</td>\n      <td>99.042601</td>\n      <td>47.669759</td>\n      <td>1</td>\n      <td>96.954760</td>\n      <td>39.201726</td>\n      <td>20.074860</td>\n      <td>35.928344</td>\n      <td>56.811495</td>\n    </tr>\n    <tr>\n      <th>4</th>\n      <td>63.747777</td>\n      <td>26.183989</td>\n      <td>87.636441</td>\n      <td>98.737421</td>\n      <td>99.825670</td>\n      <td>55.442630</td>\n      <td>86.093502</td>\n      <td>96.710827</td>\n      <td>100.583294</td>\n      <td>42.514193</td>\n      <td>1</td>\n      <td>94.118504</td>\n      <td>29.089479</td>\n      <td>41.607462</td>\n      <td>45.669105</td>\n      <td>69.531180</td>\n    </tr>\n  </tbody>\n</table>\n</div>"
     },
     "execution_count": 84,
     "metadata": {},
     "output_type": "execute_result"
    }
   ],
   "source": [
    "# get observational data\n",
    "#data = example.generate_data(1000, seed=SEED)\n",
    "data = example.generate_data(1000, seed=SEED)\n",
    "data.head()"
   ]
  },
  {
   "cell_type": "code",
   "execution_count": 85,
   "outputs": [
    {
     "data": {
      "text/plain": "0.81"
     },
     "execution_count": 85,
     "metadata": {},
     "output_type": "execute_result"
    }
   ],
   "source": [
    "import numpy as np\n",
    "np.mean(data['EGFR'])"
   ],
   "metadata": {
    "collapsed": false,
    "ExecuteTime": {
     "end_time": "2024-01-25T15:12:25.893694Z",
     "start_time": "2024-01-25T15:12:25.840118Z"
    }
   },
   "id": "5802d94d9d86abda"
  },
  {
   "cell_type": "markdown",
   "id": "22de51a518ee7699",
   "metadata": {
    "collapsed": false,
    "ExecuteTime": {
     "end_time": "2024-01-21T07:21:48.517011Z",
     "start_time": "2024-01-21T07:21:48.459711Z"
    }
   },
   "source": [
    "## Step 1: Verify correctness of the network structure"
   ]
  },
  {
   "cell_type": "markdown",
   "source": [
    "We checked the consistency of the network structure against observational data with significance level of 0.01 by first discretizing the data into a binary data and used the $\\chi$-square test. This is because \\texttt{Eliater} does not support mixed-type data.  "
   ],
   "metadata": {
    "collapsed": false
   },
   "id": "6457513ff662e6e1"
  },
  {
   "cell_type": "code",
   "execution_count": 86,
   "outputs": [],
   "source": [
    "from sklearn.preprocessing import KBinsDiscretizer\n",
    "# discretization transform the raw data\n",
    "kbins = KBinsDiscretizer(n_bins=2, encode='ordinal', strategy='uniform')\n",
    "data_trans = kbins.fit_transform(data)"
   ],
   "metadata": {
    "collapsed": false,
    "ExecuteTime": {
     "end_time": "2024-01-25T15:12:26.048253Z",
     "start_time": "2024-01-25T15:12:25.898712Z"
    }
   },
   "id": "fcb2d88946be0c2d"
  },
  {
   "cell_type": "code",
   "execution_count": 87,
   "outputs": [],
   "source": [
    "import pandas as pd\n",
    "data_trans = pd.DataFrame(data_trans, columns = data.columns)"
   ],
   "metadata": {
    "collapsed": false,
    "ExecuteTime": {
     "end_time": "2024-01-25T15:12:26.317769Z",
     "start_time": "2024-01-25T15:12:25.913345Z"
    }
   },
   "id": "be16f25565754d6a"
  },
  {
   "cell_type": "code",
   "execution_count": 88,
   "outputs": [
    {
     "data": {
      "text/plain": "     SARS_COV2  ACE2  Ang  AGTR1  ADAM17  Toci  Sil6r  EGF  TNF  Gefi  EGFR  \\\n0          1.0   0.0  1.0    1.0     1.0   0.0    1.0  1.0  1.0   0.0   1.0   \n1          0.0   0.0  1.0    1.0     1.0   1.0    1.0  1.0  0.0   0.0   1.0   \n2          1.0   0.0  1.0    1.0     1.0   0.0    1.0  1.0  0.0   0.0   1.0   \n3          1.0   0.0  1.0    1.0     1.0   1.0    1.0  1.0  0.0   1.0   1.0   \n4          1.0   0.0  1.0    1.0     1.0   1.0    1.0  1.0  1.0   1.0   1.0   \n..         ...   ...  ...    ...     ...   ...    ...  ...  ...   ...   ...   \n995        1.0   0.0  1.0    1.0     1.0   1.0    1.0  1.0  1.0   0.0   1.0   \n996        1.0   0.0  1.0    1.0     1.0   1.0    0.0  1.0  0.0   1.0   1.0   \n997        1.0   0.0  1.0    1.0     1.0   0.0    1.0  1.0  0.0   1.0   1.0   \n998        0.0   0.0  1.0    1.0     1.0   1.0    1.0  1.0  0.0   1.0   0.0   \n999        1.0   0.0  1.0    1.0     1.0   1.0    0.0  1.0  0.0   0.0   1.0   \n\n     PRR  NFKB  IL6STAT3  IL6AMP  cytok  \n0    1.0   0.0       0.0     0.0    1.0  \n1    1.0   0.0       1.0     1.0    1.0  \n2    1.0   0.0       1.0     1.0    1.0  \n3    1.0   1.0       0.0     0.0    0.0  \n4    1.0   0.0       1.0     0.0    1.0  \n..   ...   ...       ...     ...    ...  \n995  1.0   1.0       0.0     1.0    1.0  \n996  1.0   1.0       0.0     0.0    0.0  \n997  1.0   1.0       1.0     1.0    1.0  \n998  1.0   0.0       0.0     0.0    0.0  \n999  1.0   0.0       0.0     0.0    1.0  \n\n[1000 rows x 16 columns]",
      "text/html": "<div>\n<style scoped>\n    .dataframe tbody tr th:only-of-type {\n        vertical-align: middle;\n    }\n\n    .dataframe tbody tr th {\n        vertical-align: top;\n    }\n\n    .dataframe thead th {\n        text-align: right;\n    }\n</style>\n<table border=\"1\" class=\"dataframe\">\n  <thead>\n    <tr style=\"text-align: right;\">\n      <th></th>\n      <th>SARS_COV2</th>\n      <th>ACE2</th>\n      <th>Ang</th>\n      <th>AGTR1</th>\n      <th>ADAM17</th>\n      <th>Toci</th>\n      <th>Sil6r</th>\n      <th>EGF</th>\n      <th>TNF</th>\n      <th>Gefi</th>\n      <th>EGFR</th>\n      <th>PRR</th>\n      <th>NFKB</th>\n      <th>IL6STAT3</th>\n      <th>IL6AMP</th>\n      <th>cytok</th>\n    </tr>\n  </thead>\n  <tbody>\n    <tr>\n      <th>0</th>\n      <td>1.0</td>\n      <td>0.0</td>\n      <td>1.0</td>\n      <td>1.0</td>\n      <td>1.0</td>\n      <td>0.0</td>\n      <td>1.0</td>\n      <td>1.0</td>\n      <td>1.0</td>\n      <td>0.0</td>\n      <td>1.0</td>\n      <td>1.0</td>\n      <td>0.0</td>\n      <td>0.0</td>\n      <td>0.0</td>\n      <td>1.0</td>\n    </tr>\n    <tr>\n      <th>1</th>\n      <td>0.0</td>\n      <td>0.0</td>\n      <td>1.0</td>\n      <td>1.0</td>\n      <td>1.0</td>\n      <td>1.0</td>\n      <td>1.0</td>\n      <td>1.0</td>\n      <td>0.0</td>\n      <td>0.0</td>\n      <td>1.0</td>\n      <td>1.0</td>\n      <td>0.0</td>\n      <td>1.0</td>\n      <td>1.0</td>\n      <td>1.0</td>\n    </tr>\n    <tr>\n      <th>2</th>\n      <td>1.0</td>\n      <td>0.0</td>\n      <td>1.0</td>\n      <td>1.0</td>\n      <td>1.0</td>\n      <td>0.0</td>\n      <td>1.0</td>\n      <td>1.0</td>\n      <td>0.0</td>\n      <td>0.0</td>\n      <td>1.0</td>\n      <td>1.0</td>\n      <td>0.0</td>\n      <td>1.0</td>\n      <td>1.0</td>\n      <td>1.0</td>\n    </tr>\n    <tr>\n      <th>3</th>\n      <td>1.0</td>\n      <td>0.0</td>\n      <td>1.0</td>\n      <td>1.0</td>\n      <td>1.0</td>\n      <td>1.0</td>\n      <td>1.0</td>\n      <td>1.0</td>\n      <td>0.0</td>\n      <td>1.0</td>\n      <td>1.0</td>\n      <td>1.0</td>\n      <td>1.0</td>\n      <td>0.0</td>\n      <td>0.0</td>\n      <td>0.0</td>\n    </tr>\n    <tr>\n      <th>4</th>\n      <td>1.0</td>\n      <td>0.0</td>\n      <td>1.0</td>\n      <td>1.0</td>\n      <td>1.0</td>\n      <td>1.0</td>\n      <td>1.0</td>\n      <td>1.0</td>\n      <td>1.0</td>\n      <td>1.0</td>\n      <td>1.0</td>\n      <td>1.0</td>\n      <td>0.0</td>\n      <td>1.0</td>\n      <td>0.0</td>\n      <td>1.0</td>\n    </tr>\n    <tr>\n      <th>...</th>\n      <td>...</td>\n      <td>...</td>\n      <td>...</td>\n      <td>...</td>\n      <td>...</td>\n      <td>...</td>\n      <td>...</td>\n      <td>...</td>\n      <td>...</td>\n      <td>...</td>\n      <td>...</td>\n      <td>...</td>\n      <td>...</td>\n      <td>...</td>\n      <td>...</td>\n      <td>...</td>\n    </tr>\n    <tr>\n      <th>995</th>\n      <td>1.0</td>\n      <td>0.0</td>\n      <td>1.0</td>\n      <td>1.0</td>\n      <td>1.0</td>\n      <td>1.0</td>\n      <td>1.0</td>\n      <td>1.0</td>\n      <td>1.0</td>\n      <td>0.0</td>\n      <td>1.0</td>\n      <td>1.0</td>\n      <td>1.0</td>\n      <td>0.0</td>\n      <td>1.0</td>\n      <td>1.0</td>\n    </tr>\n    <tr>\n      <th>996</th>\n      <td>1.0</td>\n      <td>0.0</td>\n      <td>1.0</td>\n      <td>1.0</td>\n      <td>1.0</td>\n      <td>1.0</td>\n      <td>0.0</td>\n      <td>1.0</td>\n      <td>0.0</td>\n      <td>1.0</td>\n      <td>1.0</td>\n      <td>1.0</td>\n      <td>1.0</td>\n      <td>0.0</td>\n      <td>0.0</td>\n      <td>0.0</td>\n    </tr>\n    <tr>\n      <th>997</th>\n      <td>1.0</td>\n      <td>0.0</td>\n      <td>1.0</td>\n      <td>1.0</td>\n      <td>1.0</td>\n      <td>0.0</td>\n      <td>1.0</td>\n      <td>1.0</td>\n      <td>0.0</td>\n      <td>1.0</td>\n      <td>1.0</td>\n      <td>1.0</td>\n      <td>1.0</td>\n      <td>1.0</td>\n      <td>1.0</td>\n      <td>1.0</td>\n    </tr>\n    <tr>\n      <th>998</th>\n      <td>0.0</td>\n      <td>0.0</td>\n      <td>1.0</td>\n      <td>1.0</td>\n      <td>1.0</td>\n      <td>1.0</td>\n      <td>1.0</td>\n      <td>1.0</td>\n      <td>0.0</td>\n      <td>1.0</td>\n      <td>0.0</td>\n      <td>1.0</td>\n      <td>0.0</td>\n      <td>0.0</td>\n      <td>0.0</td>\n      <td>0.0</td>\n    </tr>\n    <tr>\n      <th>999</th>\n      <td>1.0</td>\n      <td>0.0</td>\n      <td>1.0</td>\n      <td>1.0</td>\n      <td>1.0</td>\n      <td>1.0</td>\n      <td>0.0</td>\n      <td>1.0</td>\n      <td>0.0</td>\n      <td>0.0</td>\n      <td>1.0</td>\n      <td>1.0</td>\n      <td>0.0</td>\n      <td>0.0</td>\n      <td>0.0</td>\n      <td>1.0</td>\n    </tr>\n  </tbody>\n</table>\n<p>1000 rows × 16 columns</p>\n</div>"
     },
     "execution_count": 88,
     "metadata": {},
     "output_type": "execute_result"
    }
   ],
   "source": [
    "data_trans"
   ],
   "metadata": {
    "collapsed": false,
    "ExecuteTime": {
     "end_time": "2024-01-25T15:12:26.331795Z",
     "start_time": "2024-01-25T15:12:25.943400Z"
    }
   },
   "id": "5939b11d37754b0"
  },
  {
   "cell_type": "code",
   "execution_count": 89,
   "outputs": [
    {
     "name": "stdout",
     "output_type": "stream",
     "text": [
      "Failed tests: 10/99 (10.10%)\n",
      "Reject null hypothesis when p<0.01\n",
      "=========  =========  ===============  =============  =============  =====  =============  ===================\n",
      "left       right      given                    stats              p    dof          p_adj  p_adj_significant\n",
      "=========  =========  ===============  =============  =============  =====  =============  ===================\n",
      "AGTR1      PRR        SARS_COV2        134.81           0                1    0            True\n",
      "Ang        PRR        SARS_COV2        129.576          0                1    0            True\n",
      "ACE2       PRR        SARS_COV2         59.9261         9.88098e-15      1    9.58456e-13  True\n",
      "Sil6r      cytok      IL6AMP            56.11           6.85008e-14      1    6.57607e-12  True\n",
      "IL6STAT3   cytok      IL6AMP            44.3251         2.78129e-11      1    2.64222e-09  True\n",
      "Ang        NFKB       ADAM17|PRR        32.0934         1.46935e-08      1    1.38119e-06  True\n",
      "NFKB       SARS_COV2  ADAM17|PRR        29.2479         6.36852e-08      1    5.92272e-06  True\n",
      "IL6STAT3   Toci       Sil6r             30.6135         2.25091e-07      2    2.07084e-05  True\n",
      "ACE2       NFKB       ADAM17|PRR        26.0998         3.2422e-07       1    2.9504e-05   True\n",
      "Toci       cytok      IL6AMP            18.2466         1.94069e-05      1    0.00174662   True\n",
      "IL6AMP     Toci       ADAM17|Sil6r      14.3702         0.00244222       3    0.217358     False\n",
      "ACE2       Gefi                          7.20575        0.00726703       1    0.639498     False\n",
      "ADAM17     EGFR       EGF                0.581182       0.747822         2    1            False\n",
      "Gefi       Toci                          1.55585        0.212274         1    1            False\n",
      "Sil6r      TNF        ADAM17             0.767651       0.68125          2    1            False\n",
      "ACE2       IL6AMP     ADAM17|PRR         0.227756       0.633193         1    1            False\n",
      "IL6STAT3   TNF        ADAM17             5.74525        0.0565503        2    1            False\n",
      "Ang        Sil6r      ADAM17             0.0352732      0.851024         1    1            False\n",
      "Gefi       IL6STAT3                      0.752188       0.385784         1    1            False\n",
      "Gefi       TNF                           0.56797        0.451067         1    1            False\n",
      "AGTR1      EGFR       EGF                1.9323         0.380546         2    1            False\n",
      "SARS_COV2  cytok      IL6AMP             0.458337       0.498402         1    1            False\n",
      "AGTR1      cytok      IL6AMP             1.87023        0.171449         1    1            False\n",
      "NFKB       Sil6r      ADAM17             0.0819344      0.959861         2    1            False\n",
      "IL6AMP     Sil6r      ADAM17|IL6STAT3    6.10436        0.0472557        2    1            False\n",
      "EGFR       PRR        EGF                0.275043       0.871516         2    1            False\n",
      "AGTR1      Sil6r      ADAM17             0.387788       0.533464         1    1            False\n",
      "EGF        TNF        ADAM17             0.0491596      0.97572          2    1            False\n",
      "Ang        cytok      IL6AMP             3.31234        0.0687614        1    1            False\n",
      "Ang        IL6STAT3   ADAM17             0.000730868    0.978432         1    1            False\n",
      "ACE2       cytok      IL6AMP             0.491301       0.483347         1    1            False\n",
      "ACE2       EGFR       EGF                1.23672        0.538827         2    1            False\n",
      "EGF        PRR        ADAM17             0.625954       0.428843         1    1            False\n",
      "Ang        TNF        ADAM17             0.190117       0.662819         1    1            False\n",
      "EGFR       IL6AMP     IL6STAT3|NFKB      0.137147       0.987034         3    1            False\n",
      "Ang        Toci                          0.674932       0.411337         1    1            False\n",
      "TNF        cytok      IL6AMP             0.0409738      0.839588         1    1            False\n",
      "SARS_COV2  Toci                          1.38718        0.238881         1    1            False\n",
      "ACE2       EGF        ADAM17             0.674457       0.411502         1    1            False\n",
      "EGFR       cytok      IL6AMP             0.137547       0.710732         1    1            False\n",
      "Gefi       NFKB       EGF|EGFR           6.85451        0.143779         4    1            False\n",
      "ACE2       TNF        ADAM17             0.212373       0.644914         1    1            False\n",
      "AGTR1      TNF        ADAM17             0              1                1    1            False\n",
      "ADAM17     NFKB       EGF|PRR|TNF        0.566706       0.753254         2    1            False\n",
      "EGF        IL6STAT3   ADAM17             2.9708         0.226412         2    1            False\n",
      "EGFR       Sil6r      EGF                0.114857       0.944189         2    1            False\n",
      "EGF        Gefi                          0.0514497      0.82056          1    1            False\n",
      "Gefi       SARS_COV2                     0.408981       0.522487         1    1            False\n",
      "PRR        cytok      IL6AMP             0.2532         0.614831         1    1            False\n",
      "NFKB       cytok      IL6AMP             3.10357        0.078121         1    1            False\n",
      "EGF        Toci                          0.0957886      0.756943         1    1            False\n",
      "IL6STAT3   SARS_COV2  ADAM17             0.525174       0.468643         1    1            False\n",
      "Ang        IL6AMP     ADAM17|PRR         0.904826       0.341491         1    1            False\n",
      "ACE2       Sil6r      ADAM17             0.860083       0.353716         1    1            False\n",
      "ADAM17     IL6STAT3   Sil6r              0.408822       0.815127         2    1            False\n",
      "AGTR1      Toci                          3.03058e-06    0.998611         1    1            False\n",
      "Ang        Gefi                          4.0843         0.0432834        1    1            False\n",
      "IL6STAT3   NFKB       ADAM17|EGFR        0.72303        0.867774         3    1            False\n",
      "EGFR       Toci                          0              1                1    1            False\n",
      "AGTR1      IL6AMP     ADAM17|PRR         1.96875        0.160581         1    1            False\n",
      "TNF        Toci                          1.44406        0.229484         1    1            False\n",
      "ACE2       IL6STAT3   ADAM17             0              1                1    1            False\n",
      "AGTR1      IL6STAT3   ADAM17             1.09757        0.2948           1    1            False\n",
      "PRR        TNF        ADAM17             1.3276         0.249232         1    1            False\n",
      "AGTR1      Gefi                          0.0127127      0.910228         1    1            False\n",
      "SARS_COV2  TNF        ADAM17             1.64815        0.19921          1    1            False\n",
      "ACE2       Toci                          1.40207        0.236377         1    1            False\n",
      "PRR        Sil6r      ADAM17             1.61053        0.204417         1    1            False\n",
      "EGF        NFKB       ADAM17|EGFR        0.197533       0.977987         3    1            False\n",
      "SARS_COV2  Sil6r      ADAM17             0.313169       0.575742         1    1            False\n",
      "EGF        SARS_COV2  ADAM17             0.00768755     0.930132         1    1            False\n",
      "Gefi       IL6AMP     EGF|EGFR           1.28073        0.864637         4    1            False\n",
      "AGTR1      NFKB       ADAM17|PRR         2.2858         0.130563         1    1            False\n",
      "Gefi       PRR                           3.31147        0.0687978        1    1            False\n",
      "NFKB       Toci                          0.932046       0.334332         1    1            False\n",
      "IL6STAT3   PRR        ADAM17             0.510029       0.475126         1    1            False\n",
      "Ang        EGF        ADAM17             0.464949       0.49532          1    1            False\n",
      "Gefi       Sil6r                         1.01283        0.314225         1    1            False\n",
      "ADAM17     cytok      IL6AMP             2.95652        0.085532         1    1            False\n",
      "ADAM17     IL6AMP     IL6STAT3|NFKB      0              1                2    1            False\n",
      "ADAM17     Toci                          0.0439387      0.833968         1    1            False\n",
      "AGTR1      EGF        ADAM17             4.31018        0.0378849        1    1            False\n",
      "IL6AMP     SARS_COV2  ADAM17|PRR         0.384925       0.534979         1    1            False\n",
      "IL6AMP     TNF        IL6STAT3|NFKB      0.086973       0.993354         3    1            False\n",
      "Ang        EGFR       EGF                0.602694       0.739821         2    1            False\n",
      "PRR        Toci                          0              1                1    1            False\n",
      "ADAM17     Gefi                          0              1                1    1            False\n",
      "EGFR       SARS_COV2  EGF                0.0513822      0.974636         2    1            False\n",
      "EGF        IL6AMP     ADAM17|EGFR        5.55614        0.135319         3    1            False\n",
      "IL6AMP     PRR        IL6STAT3|NFKB      0.261882       0.96703          3    1            False\n",
      "Gefi       cytok      IL6AMP             1.83157        0.175943         1    1            False\n",
      "EGF        Sil6r      ADAM17             1.10617        0.575172         2    1            False\n",
      "EGF        cytok      IL6AMP             0.41414        0.519876         1    1            False\n",
      "ACE2       ADAM17     AGTR1              0            nan                0  nan            False\n",
      "ADAM17     PRR        AGTR1              0            nan                0  nan            False\n",
      "ACE2       AGTR1      Ang                0            nan                0  nan            False\n",
      "AGTR1      SARS_COV2  Ang                0            nan                0  nan            False\n",
      "ADAM17     SARS_COV2  AGTR1              0            nan                0  nan            False\n",
      "ADAM17     Ang        AGTR1              0            nan                0  nan            False\n",
      "=========  =========  ===============  =============  =============  =====  =============  ===================\n"
     ]
    }
   ],
   "source": [
    "print_graph_falsifications(\n",
    "    graph=graph, data=data_trans, method=\"chi-square\", verbose=True, significance_level=0.01\n",
    ")"
   ],
   "metadata": {
    "collapsed": false,
    "ExecuteTime": {
     "end_time": "2024-01-25T15:13:17.420177Z",
     "start_time": "2024-01-25T15:12:26.006890Z"
    }
   },
   "id": "e21efcf3940ffc5e"
  },
  {
   "cell_type": "markdown",
   "id": "74b79e259232adfb",
   "metadata": {
    "collapsed": false
   },
   "source": [
    "Among all the 99 possible tests, 10 failed (10 $\\%$). As the data was synthetically generated based on the network structure, we expected all the tests to pass. However the failed tests are due to noise inherited by randomly sampling the data points. "
   ]
  },
  {
   "cell_type": "markdown",
   "id": "944520ca55c79b4b",
   "metadata": {
    "collapsed": false,
    "ExecuteTime": {
     "end_time": "2024-01-21T07:24:52.777016Z",
     "start_time": "2024-01-21T07:24:09.582369Z"
    }
   },
   "source": [
    "## Step 2: Check query identifiability"
   ]
  },
  {
   "cell_type": "code",
   "execution_count": 90,
   "id": "25bb329cbc5a1e08",
   "metadata": {
    "collapsed": false,
    "ExecuteTime": {
     "end_time": "2024-01-25T15:13:17.487359Z",
     "start_time": "2024-01-25T15:13:17.435937Z"
    }
   },
   "outputs": [
    {
     "data": {
      "text/plain": "Sum[ACE2, ADAM17, AGTR1, Ang, IL6AMP, IL6STAT3, NFKB, PRR, SARS_COV2, Sil6r, TNF, Toci](P(ACE2 | SARS_COV2) * P(AGTR1 | ACE2, Ang, SARS_COV2) * P(IL6AMP | ACE2, ADAM17, AGTR1, Ang, EGF, EGFR, Gefi, IL6STAT3, NFKB, PRR, SARS_COV2, Sil6r, TNF, Toci) * P(IL6STAT3 | ACE2, ADAM17, AGTR1, Ang, SARS_COV2, Sil6r, Toci) * P(TNF | ACE2, ADAM17, AGTR1, Ang, SARS_COV2) * P(cytok | ACE2, ADAM17, AGTR1, Ang, EGF, EGFR, Gefi, IL6AMP, IL6STAT3, NFKB, PRR, SARS_COV2, Sil6r, TNF, Toci) * Sum[ACE2, ADAM17, AGTR1, Ang, EGF, EGFR, Gefi, IL6AMP, IL6STAT3, NFKB, PRR, SARS_COV2, Sil6r, TNF, cytok](P(ACE2, ADAM17, AGTR1, Ang, EGF, EGFR, Gefi, IL6AMP, IL6STAT3, NFKB, PRR, SARS_COV2, Sil6r, TNF, Toci, cytok)) * P(ADAM17 | ACE2, AGTR1, Ang, SARS_COV2, Toci) * P(Sil6r | ACE2, ADAM17, AGTR1, Ang, SARS_COV2, Toci) * P(Ang | ACE2, SARS_COV2) * P(SARS_COV2) * P(NFKB | ACE2, ADAM17, AGTR1, Ang, EGF, EGFR, Gefi, PRR, SARS_COV2, TNF) * P(PRR | ACE2, Gefi, SARS_COV2))",
      "text/latex": "$\\sum\\limits_{ACE_2, ADAM_{17}, AGTR_1, Ang, IL6AM_P, IL6STA_{T3}, NFKB, PRR, SARS_COV_2, Sil6_r, TNF, Toci} P(ACE_2 | SARS_COV_2) P(AGTR_1 | ACE_2, Ang, SARS_COV_2) P(IL6AM_P | ACE_2, ADAM_{17}, AGTR_1, Ang, EGF, EGFR, Gefi, IL6STA_{T3}, NFKB, PRR, SARS_COV_2, Sil6_r, TNF, Toci) P(IL6STA_{T3} | ACE_2, ADAM_{17}, AGTR_1, Ang, SARS_COV_2, Sil6_r, Toci) P(TNF | ACE_2, ADAM_{17}, AGTR_1, Ang, SARS_COV_2) P(cytok | ACE_2, ADAM_{17}, AGTR_1, Ang, EGF, EGFR, Gefi, IL6AM_P, IL6STA_{T3}, NFKB, PRR, SARS_COV_2, Sil6_r, TNF, Toci) \\sum\\limits_{ACE_2, ADAM_{17}, AGTR_1, Ang, EGF, EGFR, Gefi, IL6AM_P, IL6STA_{T3}, NFKB, PRR, SARS_COV_2, Sil6_r, TNF, cytok} P(ACE_2, ADAM_{17}, AGTR_1, Ang, EGF, EGFR, Gefi, IL6AM_P, IL6STA_{T3}, NFKB, PRR, SARS_COV_2, Sil6_r, TNF, Toci, cytok) P(ADAM_{17} | ACE_2, AGTR_1, Ang, SARS_COV_2, Toci) P(Sil6_r | ACE_2, ADAM_{17}, AGTR_1, Ang, SARS_COV_2, Toci) P(Ang | ACE_2, SARS_COV_2) P(SARS_COV_2) P(NFKB | ACE_2, ADAM_{17}, AGTR_1, Ang, EGF, EGFR, Gefi, PRR, SARS_COV_2, TNF) P(PRR | ACE_2, Gefi, SARS_COV_2)$"
     },
     "execution_count": 90,
     "metadata": {},
     "output_type": "execute_result"
    }
   ],
   "source": [
    "identify_outcomes(graph=graph, treatments=treatment, outcomes=outcome)"
   ]
  },
  {
   "cell_type": "markdown",
   "id": "5ac9e0aec8791fbc",
   "metadata": {
    "collapsed": false
   },
   "source": [
    "The query is identifiable."
   ]
  },
  {
   "cell_type": "markdown",
   "id": "e84ccc3bdc28f772",
   "metadata": {
    "collapsed": false
   },
   "source": [
    "## Step 3: Find nuisance variables and mark them as latent"
   ]
  },
  {
   "cell_type": "markdown",
   "id": "c7ea93588b4f7188",
   "metadata": {
    "collapsed": false
   },
   "source": [
    "This function finds the nuisance variables for the input graph."
   ]
  },
  {
   "cell_type": "code",
   "execution_count": 91,
   "id": "4dff38fbf23ce61c",
   "metadata": {
    "collapsed": false,
    "ExecuteTime": {
     "end_time": "2024-01-25T15:13:17.487915Z",
     "start_time": "2024-01-25T15:13:17.449879Z"
    }
   },
   "outputs": [
    {
     "data": {
      "text/plain": "set()"
     },
     "execution_count": 91,
     "metadata": {},
     "output_type": "execute_result"
    }
   ],
   "source": [
    "nuisance_variables = find_nuisance_variables(graph, treatments=treatment, outcomes=outcome)\n",
    "nuisance_variables"
   ]
  },
  {
   "cell_type": "markdown",
   "id": "7401dd4e2c6d5d31",
   "metadata": {
    "collapsed": false
   },
   "source": [
    "No variable is identified as the nuisance variable. Hence the simplified network in the next step will produce a graph similar to the original graph."
   ]
  },
  {
   "cell_type": "markdown",
   "id": "6aa2819509255d89",
   "metadata": {
    "collapsed": false
   },
   "source": [
    "## Step 4: Simplify the network"
   ]
  },
  {
   "cell_type": "markdown",
   "id": "7b987190a5fa7453",
   "metadata": {
    "collapsed": false
   },
   "source": [
    "In eliater, step 3, and 4 are both combined into a single function. Hence, the following function finds the nuisance variable (step 3), marks them as latent and then applies Evan's simplification rules (Step 4) to remove the nuisance variables. As a result, running the 'find_nuisance_variables' and 'mark_nuisance_variables_as_latent' functions is not necessary to get the value of step 4. However, we called them to illustrate the results.  As there are no nuisance variables, the new graph will be the same as the original graph."
   ]
  },
  {
   "cell_type": "code",
   "execution_count": 92,
   "id": "e6849ec627ee2b59",
   "metadata": {
    "collapsed": false,
    "ExecuteTime": {
     "end_time": "2024-01-25T15:13:17.490059Z",
     "start_time": "2024-01-25T15:13:17.462292Z"
    }
   },
   "outputs": [],
   "source": [
    "new_graph = remove_nuisance_variables(graph, treatments=treatment, outcomes=outcome)"
   ]
  },
  {
   "cell_type": "markdown",
   "id": "b8e9dd961d1d459a",
   "metadata": {
    "collapsed": false
   },
   "source": [
    "## Step 5: Estimate the query"
   ]
  },
  {
   "cell_type": "code",
   "execution_count": 93,
   "id": "5c926e5be8539db9",
   "metadata": {
    "collapsed": false,
    "ExecuteTime": {
     "end_time": "2024-01-25T15:13:17.742590Z",
     "start_time": "2024-01-25T15:13:17.475051Z"
    }
   },
   "outputs": [
    {
     "data": {
      "text/plain": "0.6306584226679632"
     },
     "execution_count": 93,
     "metadata": {},
     "output_type": "execute_result"
    }
   ],
   "source": [
    "estimate_ace(new_graph, treatments=treatment, outcomes=outcome, data=data)"
   ]
  },
  {
   "cell_type": "markdown",
   "id": "bcdeff27d0bcbcb3",
   "metadata": {
    "collapsed": false
   },
   "source": [
    "## Evaluation criterion\n",
    "As we used synthetic data set, we were able to generate two interventional data sets where in\n",
    "one EGFR was set to 1, and the other one EGFR is set to 0. The ATE was calculated by subtracting the average value of Cytokine Storm obtained from each interventional data,\n",
    "resulting in the ground truth ATE=0.796. The positive ATE indicates that the Gefitinib drug can not reduce the Cytokine Storm levels, hence can't help in treating patients having SARS-Cov-2."
   ]
  },
  {
   "cell_type": "code",
   "execution_count": 94,
   "outputs": [
    {
     "data": {
      "text/plain": "0.7944416772404566"
     },
     "execution_count": 94,
     "metadata": {},
     "output_type": "execute_result"
    }
   ],
   "source": [
    "def get_background_ace(seed=None) -> float:\n",
    "    # get interventional data where treatment is set to 1\n",
    "    data_1 = example.generate_data(1000, {treatment: 1.0}, seed=seed)\n",
    "    # get interventional data where treatment is set to 0\n",
    "    data_0 = example.generate_data(1000, {treatment: 0.0}, seed=seed)\n",
    "    return data_1.mean()[outcome.name] - data_0.mean()[outcome.name]\n",
    "\n",
    "# get the true value of ATE\n",
    "get_background_ace(seed=SEED)"
   ],
   "metadata": {
    "collapsed": false,
    "ExecuteTime": {
     "end_time": "2024-01-25T15:13:17.847234Z",
     "start_time": "2024-01-25T15:13:17.729510Z"
    }
   },
   "id": "14bdcdd244526750"
  },
  {
   "cell_type": "markdown",
   "source": [
    "### Random Sampling Evaluation"
   ],
   "metadata": {
    "collapsed": false
   },
   "id": "30a25ac6032e7af3"
  },
  {
   "cell_type": "markdown",
   "source": [
    "For this case study, since the observational data is synthetic, we generated multiple sub-samples from the observational data and for each sub-sampled data, estimated the value of ATE. Hence, we have a range of ATE values instead of a point estimate that we got in the step 5 above. This will help to interpret the results better. The first quantile of the range of estimated ATEs was 0.358 and third quantile was 0.821 which covers the ground truth $\\mathrm{ATE}$ of 0.794$. "
   ],
   "metadata": {
    "collapsed": false
   },
   "id": "5ef2290ac3f5673a"
  },
  {
   "cell_type": "code",
   "outputs": [],
   "source": [
    "# Population => Generate D = 10000 data points\n",
    "D = example.generate_data(10000, seed=SEED)"
   ],
   "metadata": {
    "collapsed": false,
    "ExecuteTime": {
     "end_time": "2024-01-25T15:13:17.851265Z",
     "start_time": "2024-01-25T15:13:17.805372Z"
    }
   },
   "id": "f5eb9d860279f708",
   "execution_count": 96
  },
  {
   "cell_type": "code",
   "outputs": [],
   "source": [
    "# Samples => Generate 1000 datasets with 1000 points each (d) using random sampling\n",
    "d_count = 1000\n",
    "d_size = 1000\n",
    "d = [D.sample(d_size) for _ in range(d_count)]"
   ],
   "metadata": {
    "collapsed": false,
    "ExecuteTime": {
     "end_time": "2024-01-25T15:13:19.138588Z",
     "start_time": "2024-01-25T15:13:17.839368Z"
    }
   },
   "id": "89581483f3392dee",
   "execution_count": 97
  },
  {
   "cell_type": "code",
   "outputs": [],
   "source": [
    "ate = [estimate_ace(new_graph, treatments=treatment, outcomes=outcome, data=data) for data in d]"
   ],
   "metadata": {
    "collapsed": false,
    "ExecuteTime": {
     "end_time": "2024-01-25T15:15:34.888624Z",
     "start_time": "2024-01-25T15:13:19.158177Z"
    }
   },
   "id": "269f193d582cb157",
   "execution_count": 98
  },
  {
   "cell_type": "code",
   "execution_count": 99,
   "outputs": [
    {
     "data": {
      "text/plain": "<matplotlib.legend.Legend at 0x126baa9d0>"
     },
     "execution_count": 99,
     "metadata": {},
     "output_type": "execute_result"
    },
    {
     "data": {
      "text/plain": "<Figure size 640x480 with 1 Axes>",
      "image/png": "[encoded data removed]"
     },
     "metadata": {},
     "output_type": "display_data"
    }
   ],
   "source": [
    "import seaborn as sns\n",
    "import matplotlib.pyplot as plt\n",
    "ax = sns.boxplot(y=ate)\n",
    "ax.axhline(y=get_background_ace(seed=SEED), label=\"True ATE\", color='r')\n",
    "ax.set(ylabel=\"Estimated ATE\")\n",
    "ax.legend()\n",
    "#plt.savefig(\"/Users/sarataheri/GitHub/eliater/img/Sars_ATE_boxplot.png\")"
   ],
   "metadata": {
    "collapsed": false,
    "ExecuteTime": {
     "end_time": "2024-01-25T15:15:35.285135Z",
     "start_time": "2024-01-25T15:15:34.888833Z"
    }
   },
   "id": "cedf2a4cfdf60ea5"
  },
  {
   "cell_type": "code",
   "execution_count": 100,
   "outputs": [
    {
     "data": {
      "text/plain": "0.3585627002216363"
     },
     "execution_count": 100,
     "metadata": {},
     "output_type": "execute_result"
    }
   ],
   "source": [
    "import numpy as np\n",
    "np.percentile(ate, 25)"
   ],
   "metadata": {
    "collapsed": false,
    "ExecuteTime": {
     "end_time": "2024-01-25T15:15:35.343888Z",
     "start_time": "2024-01-25T15:15:35.270885Z"
    }
   },
   "id": "6588f9c6c815759"
  },
  {
   "cell_type": "code",
   "execution_count": 101,
   "outputs": [
    {
     "data": {
      "text/plain": "0.8214106883017998"
     },
     "execution_count": 101,
     "metadata": {},
     "output_type": "execute_result"
    }
   ],
   "source": [
    "np.percentile(ate, 75)"
   ],
   "metadata": {
    "collapsed": false,
    "ExecuteTime": {
     "end_time": "2024-01-25T15:15:35.393465Z",
     "start_time": "2024-01-25T15:15:35.282106Z"
    }
   },
   "id": "dba841adec67bbfe"
  },
  {
   "cell_type": "code",
   "execution_count": null,
   "outputs": [],
   "source": [],
   "metadata": {
    "collapsed": false
   },
   "id": "772fa786f1e13dd1"
  }
 ],
 "metadata": {
  "kernelspec": {
   "display_name": "Python 3 (ipykernel)",
   "language": "python",
   "name": "python3"
  },
  "language_info": {
   "codemirror_mode": {
    "name": "ipython",
    "version": 3
   },
   "file_extension": ".py",
   "mimetype": "text/x-python",
   "name": "python",
   "nbconvert_exporter": "python",
   "pygments_lexer": "ipython3",
   "version": "3.11.6"
  }
 },
 "nbformat": 4,
 "nbformat_minor": 5
}
