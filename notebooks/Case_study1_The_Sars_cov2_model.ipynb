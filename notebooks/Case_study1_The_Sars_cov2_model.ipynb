{
 "cells": [
  {
   "cell_type": "markdown",
   "id": "cb1612e5198cab85",
   "metadata": {
    "collapsed": false
   },
   "source": [
    "# Case study 1: Simulation with a SARS-CoV-2 Model"
   ]
  },
  {
   "cell_type": "code",
   "outputs": [
    {
     "name": "stdout",
     "output_type": "stream",
     "text": [
      "Collecting git+https://github.com/y0-causal-inference/eliater.git\r\n",
      "  Cloning https://github.com/y0-causal-inference/eliater.git to /private/var/folders/fs/kx46_43x04ndj3yryggvkg5r0000gn/T/pip-req-build-nsw1l29c\r\n",
      "  Running command git clone --quiet https://github.com/y0-causal-inference/eliater.git /private/var/folders/fs/kx46_43x04ndj3yryggvkg5r0000gn/T/pip-req-build-nsw1l29c\r\n",
      "  Resolved https://github.com/y0-causal-inference/eliater.git to commit 33eb330e6faaa0fce6a0526d4764b800b1c8434c\r\n",
      "  Installing build dependencies ... \u001B[?25ldone\r\n",
      "\u001B[?25h  Getting requirements to build wheel ... \u001B[?25ldone\r\n",
      "\u001B[?25h  Preparing metadata (pyproject.toml) ... \u001B[?25ldone\r\n",
      "\u001B[?25hRequirement already satisfied: y0>=0.2.7 in /Users/sarataheri/GitHub/eliater/venv/lib/python3.11/site-packages (from eliater==0.0.1.dev0) (0.2.7)\r\n",
      "Requirement already satisfied: scipy in /Users/sarataheri/GitHub/eliater/venv/lib/python3.11/site-packages (from eliater==0.0.1.dev0) (1.11.4)\r\n",
      "Requirement already satisfied: numpy in /Users/sarataheri/GitHub/eliater/venv/lib/python3.11/site-packages (from eliater==0.0.1.dev0) (1.26.3)\r\n",
      "Requirement already satisfied: ananke-causal>=0.5.0 in /Users/sarataheri/GitHub/eliater/venv/lib/python3.11/site-packages (from eliater==0.0.1.dev0) (0.5.0)\r\n",
      "Requirement already satisfied: pgmpy>=0.1.24 in /Users/sarataheri/GitHub/eliater/venv/lib/python3.11/site-packages (from eliater==0.0.1.dev0) (0.1.24)\r\n",
      "Requirement already satisfied: matplotlib in /Users/sarataheri/GitHub/eliater/venv/lib/python3.11/site-packages (from eliater==0.0.1.dev0) (3.8.2)\r\n",
      "Requirement already satisfied: pandas in /Users/sarataheri/GitHub/eliater/venv/lib/python3.11/site-packages (from eliater==0.0.1.dev0) (1.5.3)\r\n",
      "Requirement already satisfied: seaborn in /Users/sarataheri/GitHub/eliater/venv/lib/python3.11/site-packages (from eliater==0.0.1.dev0) (0.13.1)\r\n",
      "Requirement already satisfied: optimaladj>=0.0.4 in /Users/sarataheri/GitHub/eliater/venv/lib/python3.11/site-packages (from eliater==0.0.1.dev0) (0.0.4)\r\n",
      "Requirement already satisfied: jax<0.5.0,>=0.4.8 in /Users/sarataheri/GitHub/eliater/venv/lib/python3.11/site-packages (from ananke-causal>=0.5.0->eliater==0.0.1.dev0) (0.4.23)\r\n",
      "Requirement already satisfied: jaxlib<0.5.0,>=0.4.7 in /Users/sarataheri/GitHub/eliater/venv/lib/python3.11/site-packages (from ananke-causal>=0.5.0->eliater==0.0.1.dev0) (0.4.23)\r\n",
      "Requirement already satisfied: mystic<0.5.0,>=0.4.0 in /Users/sarataheri/GitHub/eliater/venv/lib/python3.11/site-packages (from ananke-causal>=0.5.0->eliater==0.0.1.dev0) (0.4.1)\r\n",
      "Requirement already satisfied: statsmodels<0.14.0,>=0.13.2 in /Users/sarataheri/GitHub/eliater/venv/lib/python3.11/site-packages (from ananke-causal>=0.5.0->eliater==0.0.1.dev0) (0.13.5)\r\n",
      "Requirement already satisfied: contourpy>=1.0.1 in /Users/sarataheri/GitHub/eliater/venv/lib/python3.11/site-packages (from matplotlib->eliater==0.0.1.dev0) (1.2.0)\r\n",
      "Requirement already satisfied: cycler>=0.10 in /Users/sarataheri/GitHub/eliater/venv/lib/python3.11/site-packages (from matplotlib->eliater==0.0.1.dev0) (0.12.1)\r\n",
      "Requirement already satisfied: fonttools>=4.22.0 in /Users/sarataheri/GitHub/eliater/venv/lib/python3.11/site-packages (from matplotlib->eliater==0.0.1.dev0) (4.47.2)\r\n",
      "Requirement already satisfied: kiwisolver>=1.3.1 in /Users/sarataheri/GitHub/eliater/venv/lib/python3.11/site-packages (from matplotlib->eliater==0.0.1.dev0) (1.4.5)\r\n",
      "Requirement already satisfied: packaging>=20.0 in /Users/sarataheri/GitHub/eliater/venv/lib/python3.11/site-packages (from matplotlib->eliater==0.0.1.dev0) (23.2)\r\n",
      "Requirement already satisfied: pillow>=8 in /Users/sarataheri/GitHub/eliater/venv/lib/python3.11/site-packages (from matplotlib->eliater==0.0.1.dev0) (10.2.0)\r\n",
      "Requirement already satisfied: pyparsing>=2.3.1 in /Users/sarataheri/GitHub/eliater/venv/lib/python3.11/site-packages (from matplotlib->eliater==0.0.1.dev0) (3.1.1)\r\n",
      "Requirement already satisfied: python-dateutil>=2.7 in /Users/sarataheri/GitHub/eliater/venv/lib/python3.11/site-packages (from matplotlib->eliater==0.0.1.dev0) (2.8.2)\r\n",
      "Requirement already satisfied: pytz>=2020.1 in /Users/sarataheri/GitHub/eliater/venv/lib/python3.11/site-packages (from pandas->eliater==0.0.1.dev0) (2023.3.post1)\r\n",
      "Requirement already satisfied: networkx in /Users/sarataheri/GitHub/eliater/venv/lib/python3.11/site-packages (from pgmpy>=0.1.24->eliater==0.0.1.dev0) (3.2.1)\r\n",
      "Requirement already satisfied: scikit-learn in /Users/sarataheri/GitHub/eliater/venv/lib/python3.11/site-packages (from pgmpy>=0.1.24->eliater==0.0.1.dev0) (1.3.2)\r\n",
      "Requirement already satisfied: torch in /Users/sarataheri/GitHub/eliater/venv/lib/python3.11/site-packages (from pgmpy>=0.1.24->eliater==0.0.1.dev0) (2.1.2)\r\n",
      "Requirement already satisfied: tqdm in /Users/sarataheri/GitHub/eliater/venv/lib/python3.11/site-packages (from pgmpy>=0.1.24->eliater==0.0.1.dev0) (4.66.1)\r\n",
      "Requirement already satisfied: joblib in /Users/sarataheri/GitHub/eliater/venv/lib/python3.11/site-packages (from pgmpy>=0.1.24->eliater==0.0.1.dev0) (1.3.2)\r\n",
      "Requirement already satisfied: opt-einsum in /Users/sarataheri/GitHub/eliater/venv/lib/python3.11/site-packages (from pgmpy>=0.1.24->eliater==0.0.1.dev0) (3.3.0)\r\n",
      "Requirement already satisfied: more-itertools in /Users/sarataheri/GitHub/eliater/venv/lib/python3.11/site-packages (from y0>=0.2.7->eliater==0.0.1.dev0) (10.2.0)\r\n",
      "Requirement already satisfied: click in /Users/sarataheri/GitHub/eliater/venv/lib/python3.11/site-packages (from y0>=0.2.7->eliater==0.0.1.dev0) (8.1.7)\r\n",
      "Requirement already satisfied: more-click in /Users/sarataheri/GitHub/eliater/venv/lib/python3.11/site-packages (from y0>=0.2.7->eliater==0.0.1.dev0) (0.1.2)\r\n",
      "Requirement already satisfied: tabulate in /Users/sarataheri/GitHub/eliater/venv/lib/python3.11/site-packages (from y0>=0.2.7->eliater==0.0.1.dev0) (0.9.0)\r\n",
      "Requirement already satisfied: ml-dtypes>=0.2.0 in /Users/sarataheri/GitHub/eliater/venv/lib/python3.11/site-packages (from jax<0.5.0,>=0.4.8->ananke-causal>=0.5.0->eliater==0.0.1.dev0) (0.3.2)\r\n",
      "Requirement already satisfied: dill>=0.3.7 in /Users/sarataheri/GitHub/eliater/venv/lib/python3.11/site-packages (from mystic<0.5.0,>=0.4.0->ananke-causal>=0.5.0->eliater==0.0.1.dev0) (0.3.7)\r\n",
      "Requirement already satisfied: klepto>=0.2.4 in /Users/sarataheri/GitHub/eliater/venv/lib/python3.11/site-packages (from mystic<0.5.0,>=0.4.0->ananke-causal>=0.5.0->eliater==0.0.1.dev0) (0.2.4)\r\n",
      "Requirement already satisfied: sympy>=0.6.7 in /Users/sarataheri/GitHub/eliater/venv/lib/python3.11/site-packages (from mystic<0.5.0,>=0.4.0->ananke-causal>=0.5.0->eliater==0.0.1.dev0) (1.12)\r\n",
      "Requirement already satisfied: mpmath>=0.19 in /Users/sarataheri/GitHub/eliater/venv/lib/python3.11/site-packages (from mystic<0.5.0,>=0.4.0->ananke-causal>=0.5.0->eliater==0.0.1.dev0) (1.3.0)\r\n",
      "Requirement already satisfied: six>=1.5 in /Users/sarataheri/GitHub/eliater/venv/lib/python3.11/site-packages (from python-dateutil>=2.7->matplotlib->eliater==0.0.1.dev0) (1.16.0)\r\n",
      "Requirement already satisfied: patsy>=0.5.2 in /Users/sarataheri/GitHub/eliater/venv/lib/python3.11/site-packages (from statsmodels<0.14.0,>=0.13.2->ananke-causal>=0.5.0->eliater==0.0.1.dev0) (0.5.6)\r\n",
      "Requirement already satisfied: threadpoolctl>=2.0.0 in /Users/sarataheri/GitHub/eliater/venv/lib/python3.11/site-packages (from scikit-learn->pgmpy>=0.1.24->eliater==0.0.1.dev0) (3.2.0)\r\n",
      "Requirement already satisfied: filelock in /Users/sarataheri/GitHub/eliater/venv/lib/python3.11/site-packages (from torch->pgmpy>=0.1.24->eliater==0.0.1.dev0) (3.13.1)\r\n",
      "Requirement already satisfied: typing-extensions in /Users/sarataheri/GitHub/eliater/venv/lib/python3.11/site-packages (from torch->pgmpy>=0.1.24->eliater==0.0.1.dev0) (4.9.0)\r\n",
      "Requirement already satisfied: jinja2 in /Users/sarataheri/GitHub/eliater/venv/lib/python3.11/site-packages (from torch->pgmpy>=0.1.24->eliater==0.0.1.dev0) (3.1.3)\r\n",
      "Requirement already satisfied: fsspec in /Users/sarataheri/GitHub/eliater/venv/lib/python3.11/site-packages (from torch->pgmpy>=0.1.24->eliater==0.0.1.dev0) (2023.12.2)\r\n",
      "Requirement already satisfied: pox>=0.3.3 in /Users/sarataheri/GitHub/eliater/venv/lib/python3.11/site-packages (from klepto>=0.2.4->mystic<0.5.0,>=0.4.0->ananke-causal>=0.5.0->eliater==0.0.1.dev0) (0.3.3)\r\n",
      "Requirement already satisfied: MarkupSafe>=2.0 in /Users/sarataheri/GitHub/eliater/venv/lib/python3.11/site-packages (from jinja2->torch->pgmpy>=0.1.24->eliater==0.0.1.dev0) (2.1.3)\r\n",
      "\r\n",
      "\u001B[1m[\u001B[0m\u001B[34;49mnotice\u001B[0m\u001B[1;39;49m]\u001B[0m\u001B[39;49m A new release of pip is available: \u001B[0m\u001B[31;49m23.2.1\u001B[0m\u001B[39;49m -> \u001B[0m\u001B[32;49m23.3.2\u001B[0m\r\n",
      "\u001B[1m[\u001B[0m\u001B[34;49mnotice\u001B[0m\u001B[1;39;49m]\u001B[0m\u001B[39;49m To update, run: \u001B[0m\u001B[32;49mpip install --upgrade pip\u001B[0m\r\n"
     ]
    }
   ],
   "source": [
    "!pip install git+https://github.com/y0-causal-inference/eliater.git "
   ],
   "metadata": {
    "collapsed": false,
    "ExecuteTime": {
     "end_time": "2024-01-23T11:00:20.698543Z",
     "start_time": "2024-01-23T10:59:51.411553Z"
    }
   },
   "id": "c97c6b9e4c253d48",
   "execution_count": 32
  },
  {
   "cell_type": "code",
   "execution_count": 39,
   "id": "initial_id",
   "metadata": {
    "ExecuteTime": {
     "end_time": "2024-01-24T00:14:43.422821200Z",
     "start_time": "2024-01-24T00:14:43.397240700Z"
    }
   },
   "outputs": [],
   "source": [
    "import numpy as np\n",
    "\n",
    "# from eliater import version_df\n",
    "from eliater.discover_latent_nodes import find_nuisance_variables, remove_nuisance_variables\n",
    "from src.eliater.examples.sars_cov2 import sars_large_example as example\n",
    "from eliater.network_validation import print_graph_falsifications\n",
    "from y0.algorithm.estimation import estimate_ace\n",
    "from y0.algorithm.identify import Identification, identify_outcomes\n",
    "from y0.dsl import P, Variable\n",
    "\n",
    "# version_df()"
   ]
  },
  {
   "cell_type": "code",
   "execution_count": 40,
   "id": "e3c3963b-36d3-468c-af44-2209e9ed24f8",
   "metadata": {
    "ExecuteTime": {
     "end_time": "2024-01-24T00:14:44.790658300Z",
     "start_time": "2024-01-24T00:14:44.775613200Z"
    }
   },
   "outputs": [],
   "source": [
    "treatment = Variable(\"EGFR\")\n",
    "outcome = Variable(\"cytok\")\n",
    "SEED = 100"
   ]
  },
  {
   "cell_type": "markdown",
   "id": "5b60ed63441c5411",
   "metadata": {
    "collapsed": false
   },
   "source": [
    "This is case study 1 in Figure 6 in this paper: Eliater: an open source software for causal query estimation from observational measurements of biomolecular networks. The figure below shows the SARS-CoV-2 network (Mohammad-Taheri et al., 2022; Zucker\n",
    "et al., 2021), which models the activation of Cytokine Release Syndrome (Cytokine Storm), a known factor causing tissue damage in severely ill SARS-CoV-2 patients (Ulhaq and Soraya, 2020)."
   ]
  },
  {
   "cell_type": "markdown",
   "source": [
    "![sars](../img/SARS_COV.png)"
   ],
   "metadata": {
    "collapsed": false
   },
   "id": "63942cd92a63bb97"
  },
  {
   "cell_type": "code",
   "execution_count": 41,
   "id": "7ab5d32c79b7bf2",
   "metadata": {
    "collapsed": false,
    "ExecuteTime": {
     "end_time": "2024-01-24T00:14:50.874934700Z",
     "start_time": "2024-01-24T00:14:50.862374500Z"
    }
   },
   "outputs": [],
   "source": [
    "graph = example.graph"
   ]
  },
  {
   "cell_type": "markdown",
   "id": "d5f92410e9801798",
   "metadata": {
    "collapsed": false
   },
   "source": [
    "This case study used synthetic observational data. The generation of this synthetic data was inspired by common biological practices.  The exogenous variables were modeled with a Gaussian distribution. For each endogenous variable $X$, we represented  biomolecular reactions using Hill equations \\cite{alon2019introduction}, and were approximated with a sigmoid function as follows,\n",
    "\n",
    "$\\mathcal{N}(\\frac{100}{1 + \\exp(\\mathbf{\\theta}^{\\prime} Pa(X) + \\theta_0)})$ \n",
    "\n",
    "where $Pa(X)$ is a $q \\times 1$ vector of measurements related to the parent of $X$, $\\mathbf{\\theta}'$ is a $1 \\times q$ parameter vector, and $\\theta_0$ is a scalar. The $EGFR$ was generated from a Binomial distribution with probability of $\\frac{1}{1 + \\exp(\\mathbf{\\theta}^{\\prime} Pa(X) + \\theta_0)}$. Hence, the observational data is mixed-type where the $EGFR$ column is binary (discrete), and rest of columns are continuous."
   ]
  },
  {
   "cell_type": "code",
   "execution_count": 42,
   "id": "eb3a23add3bc3914",
   "metadata": {
    "collapsed": false,
    "ExecuteTime": {
     "end_time": "2024-01-24T00:14:53.295993100Z",
     "start_time": "2024-01-24T00:14:53.264512200Z"
    }
   },
   "outputs": [
    {
     "data": {
      "text/plain": "   SARS_COV2       ACE2        Ang       AGTR1     ADAM17       Toci  \\\n0  73.679109  17.576840  93.861006  101.151905  98.540180  56.005886   \n1  56.620967  31.727878  78.949305   99.479725  99.297518  56.022003   \n2  65.013230  24.644308  89.730900  100.509177  99.437188  49.753317   \n3  76.249522  19.484148  98.286645   98.466683  98.528750  55.121697   \n4  76.961345  18.504758  92.974745   99.686780  97.174635  45.153245   \n\n       Sil6r        EGF        TNF       Gefi  EGFR        PRR       NFKB  \\\n0  69.424218  96.505141  99.296894  33.424504     0  97.370407  28.459292   \n1  64.051996  98.542970  98.511394  47.897558     0  89.538987  36.780860   \n2  82.287237  91.929421  99.807326  52.808541     0  94.206983  33.080970   \n3  74.968228  97.613234  99.470404  50.439736     0  97.493690  27.816667   \n4  55.506413  95.726874  99.440437  35.386174     0  98.792294  30.996968   \n\n    IL6STAT3     IL6AMP      cytok  \n0  29.366957  37.477632  58.754197  \n1  22.415073  36.491974  55.497898  \n2  44.666545  51.904992  76.795535  \n3  37.505798  41.280651  63.000090  \n4  19.319097  32.713035  51.675823  ",
      "text/html": "<div>\n<style scoped>\n    .dataframe tbody tr th:only-of-type {\n        vertical-align: middle;\n    }\n\n    .dataframe tbody tr th {\n        vertical-align: top;\n    }\n\n    .dataframe thead th {\n        text-align: right;\n    }\n</style>\n<table border=\"1\" class=\"dataframe\">\n  <thead>\n    <tr style=\"text-align: right;\">\n      <th></th>\n      <th>SARS_COV2</th>\n      <th>ACE2</th>\n      <th>Ang</th>\n      <th>AGTR1</th>\n      <th>ADAM17</th>\n      <th>Toci</th>\n      <th>Sil6r</th>\n      <th>EGF</th>\n      <th>TNF</th>\n      <th>Gefi</th>\n      <th>EGFR</th>\n      <th>PRR</th>\n      <th>NFKB</th>\n      <th>IL6STAT3</th>\n      <th>IL6AMP</th>\n      <th>cytok</th>\n    </tr>\n  </thead>\n  <tbody>\n    <tr>\n      <th>0</th>\n      <td>73.679109</td>\n      <td>17.576840</td>\n      <td>93.861006</td>\n      <td>101.151905</td>\n      <td>98.540180</td>\n      <td>56.005886</td>\n      <td>69.424218</td>\n      <td>96.505141</td>\n      <td>99.296894</td>\n      <td>33.424504</td>\n      <td>0</td>\n      <td>97.370407</td>\n      <td>28.459292</td>\n      <td>29.366957</td>\n      <td>37.477632</td>\n      <td>58.754197</td>\n    </tr>\n    <tr>\n      <th>1</th>\n      <td>56.620967</td>\n      <td>31.727878</td>\n      <td>78.949305</td>\n      <td>99.479725</td>\n      <td>99.297518</td>\n      <td>56.022003</td>\n      <td>64.051996</td>\n      <td>98.542970</td>\n      <td>98.511394</td>\n      <td>47.897558</td>\n      <td>0</td>\n      <td>89.538987</td>\n      <td>36.780860</td>\n      <td>22.415073</td>\n      <td>36.491974</td>\n      <td>55.497898</td>\n    </tr>\n    <tr>\n      <th>2</th>\n      <td>65.013230</td>\n      <td>24.644308</td>\n      <td>89.730900</td>\n      <td>100.509177</td>\n      <td>99.437188</td>\n      <td>49.753317</td>\n      <td>82.287237</td>\n      <td>91.929421</td>\n      <td>99.807326</td>\n      <td>52.808541</td>\n      <td>0</td>\n      <td>94.206983</td>\n      <td>33.080970</td>\n      <td>44.666545</td>\n      <td>51.904992</td>\n      <td>76.795535</td>\n    </tr>\n    <tr>\n      <th>3</th>\n      <td>76.249522</td>\n      <td>19.484148</td>\n      <td>98.286645</td>\n      <td>98.466683</td>\n      <td>98.528750</td>\n      <td>55.121697</td>\n      <td>74.968228</td>\n      <td>97.613234</td>\n      <td>99.470404</td>\n      <td>50.439736</td>\n      <td>0</td>\n      <td>97.493690</td>\n      <td>27.816667</td>\n      <td>37.505798</td>\n      <td>41.280651</td>\n      <td>63.000090</td>\n    </tr>\n    <tr>\n      <th>4</th>\n      <td>76.961345</td>\n      <td>18.504758</td>\n      <td>92.974745</td>\n      <td>99.686780</td>\n      <td>97.174635</td>\n      <td>45.153245</td>\n      <td>55.506413</td>\n      <td>95.726874</td>\n      <td>99.440437</td>\n      <td>35.386174</td>\n      <td>0</td>\n      <td>98.792294</td>\n      <td>30.996968</td>\n      <td>19.319097</td>\n      <td>32.713035</td>\n      <td>51.675823</td>\n    </tr>\n  </tbody>\n</table>\n</div>"
     },
     "execution_count": 42,
     "metadata": {},
     "output_type": "execute_result"
    }
   ],
   "source": [
    "# get observational data\n",
    "#data = example.generate_data(1000, seed=SEED)\n",
    "data = example.generate_data(1000, seed=SEED)\n",
    "data.head()"
   ]
  },
  {
   "cell_type": "markdown",
   "id": "22de51a518ee7699",
   "metadata": {
    "collapsed": false,
    "ExecuteTime": {
     "end_time": "2024-01-21T07:21:48.517011Z",
     "start_time": "2024-01-21T07:21:48.459711Z"
    }
   },
   "source": [
    "## Step 1: Verify correctness of the network structure"
   ]
  },
  {
   "cell_type": "markdown",
   "source": [
    "We checked the consistency of the network structure against observational data with significance level of 0.01 by first discretizing the data into a binary data and used the $\\chi$-square test. This is because \\texttt{Eliater} does not support mixed-type data.  "
   ],
   "metadata": {
    "collapsed": false
   },
   "id": "6457513ff662e6e1"
  },
  {
   "cell_type": "code",
   "execution_count": 43,
   "outputs": [],
   "source": [
    "from sklearn.preprocessing import KBinsDiscretizer\n",
    "# discretization transform the raw data\n",
    "kbins = KBinsDiscretizer(n_bins=2, encode='ordinal', strategy='uniform')\n",
    "data_trans = kbins.fit_transform(data)"
   ],
   "metadata": {
    "collapsed": false,
    "ExecuteTime": {
     "end_time": "2024-01-24T00:14:56.712076Z",
     "start_time": "2024-01-24T00:14:56.699927200Z"
    }
   },
   "id": "fcb2d88946be0c2d"
  },
  {
   "cell_type": "code",
   "execution_count": 44,
   "outputs": [],
   "source": [
    "import pandas as pd\n",
    "data_trans = pd.DataFrame(data_trans, columns = data.columns)"
   ],
   "metadata": {
    "collapsed": false,
    "ExecuteTime": {
     "end_time": "2024-01-24T00:14:57.357064400Z",
     "start_time": "2024-01-24T00:14:57.334318900Z"
    }
   },
   "id": "be16f25565754d6a"
  },
  {
   "cell_type": "code",
   "execution_count": 45,
   "outputs": [
    {
     "data": {
      "text/plain": "     SARS_COV2  ACE2  Ang  AGTR1  ADAM17  Toci  Sil6r  EGF  TNF  Gefi  EGFR  \\\n0          1.0   0.0  1.0    1.0     1.0   1.0    1.0  1.0  0.0   0.0   0.0   \n1          0.0   0.0  1.0    1.0     1.0   1.0    1.0  1.0  0.0   1.0   0.0   \n2          1.0   0.0  1.0    1.0     1.0   1.0    1.0  1.0  1.0   1.0   0.0   \n3          1.0   0.0  1.0    1.0     1.0   1.0    1.0  1.0  1.0   1.0   0.0   \n4          1.0   0.0  1.0    1.0     1.0   0.0    0.0  1.0  1.0   0.0   0.0   \n..         ...   ...  ...    ...     ...   ...    ...  ...  ...   ...   ...   \n995        0.0   1.0  0.0    1.0     1.0   0.0    1.0  1.0  1.0   1.0   0.0   \n996        0.0   0.0  1.0    1.0     1.0   1.0    1.0  1.0  0.0   0.0   0.0   \n997        0.0   0.0  1.0    1.0     1.0   1.0    1.0  1.0  0.0   0.0   0.0   \n998        1.0   0.0  1.0    1.0     1.0   1.0    1.0  1.0  1.0   0.0   0.0   \n999        1.0   0.0  1.0    1.0     1.0   0.0    1.0  1.0  0.0   0.0   0.0   \n\n     PRR  NFKB  IL6STAT3  IL6AMP  cytok  \n0    1.0   0.0       0.0     0.0    0.0  \n1    1.0   1.0       0.0     0.0    0.0  \n2    1.0   0.0       1.0     1.0    1.0  \n3    1.0   0.0       0.0     0.0    0.0  \n4    1.0   0.0       0.0     0.0    0.0  \n..   ...   ...       ...     ...    ...  \n995  1.0   0.0       1.0     0.0    1.0  \n996  1.0   1.0       1.0     1.0    1.0  \n997  1.0   0.0       1.0     1.0    1.0  \n998  1.0   1.0       1.0     1.0    1.0  \n999  1.0   0.0       0.0     0.0    1.0  \n\n[1000 rows x 16 columns]",
      "text/html": "<div>\n<style scoped>\n    .dataframe tbody tr th:only-of-type {\n        vertical-align: middle;\n    }\n\n    .dataframe tbody tr th {\n        vertical-align: top;\n    }\n\n    .dataframe thead th {\n        text-align: right;\n    }\n</style>\n<table border=\"1\" class=\"dataframe\">\n  <thead>\n    <tr style=\"text-align: right;\">\n      <th></th>\n      <th>SARS_COV2</th>\n      <th>ACE2</th>\n      <th>Ang</th>\n      <th>AGTR1</th>\n      <th>ADAM17</th>\n      <th>Toci</th>\n      <th>Sil6r</th>\n      <th>EGF</th>\n      <th>TNF</th>\n      <th>Gefi</th>\n      <th>EGFR</th>\n      <th>PRR</th>\n      <th>NFKB</th>\n      <th>IL6STAT3</th>\n      <th>IL6AMP</th>\n      <th>cytok</th>\n    </tr>\n  </thead>\n  <tbody>\n    <tr>\n      <th>0</th>\n      <td>1.0</td>\n      <td>0.0</td>\n      <td>1.0</td>\n      <td>1.0</td>\n      <td>1.0</td>\n      <td>1.0</td>\n      <td>1.0</td>\n      <td>1.0</td>\n      <td>0.0</td>\n      <td>0.0</td>\n      <td>0.0</td>\n      <td>1.0</td>\n      <td>0.0</td>\n      <td>0.0</td>\n      <td>0.0</td>\n      <td>0.0</td>\n    </tr>\n    <tr>\n      <th>1</th>\n      <td>0.0</td>\n      <td>0.0</td>\n      <td>1.0</td>\n      <td>1.0</td>\n      <td>1.0</td>\n      <td>1.0</td>\n      <td>1.0</td>\n      <td>1.0</td>\n      <td>0.0</td>\n      <td>1.0</td>\n      <td>0.0</td>\n      <td>1.0</td>\n      <td>1.0</td>\n      <td>0.0</td>\n      <td>0.0</td>\n      <td>0.0</td>\n    </tr>\n    <tr>\n      <th>2</th>\n      <td>1.0</td>\n      <td>0.0</td>\n      <td>1.0</td>\n      <td>1.0</td>\n      <td>1.0</td>\n      <td>1.0</td>\n      <td>1.0</td>\n      <td>1.0</td>\n      <td>1.0</td>\n      <td>1.0</td>\n      <td>0.0</td>\n      <td>1.0</td>\n      <td>0.0</td>\n      <td>1.0</td>\n      <td>1.0</td>\n      <td>1.0</td>\n    </tr>\n    <tr>\n      <th>3</th>\n      <td>1.0</td>\n      <td>0.0</td>\n      <td>1.0</td>\n      <td>1.0</td>\n      <td>1.0</td>\n      <td>1.0</td>\n      <td>1.0</td>\n      <td>1.0</td>\n      <td>1.0</td>\n      <td>1.0</td>\n      <td>0.0</td>\n      <td>1.0</td>\n      <td>0.0</td>\n      <td>0.0</td>\n      <td>0.0</td>\n      <td>0.0</td>\n    </tr>\n    <tr>\n      <th>4</th>\n      <td>1.0</td>\n      <td>0.0</td>\n      <td>1.0</td>\n      <td>1.0</td>\n      <td>1.0</td>\n      <td>0.0</td>\n      <td>0.0</td>\n      <td>1.0</td>\n      <td>1.0</td>\n      <td>0.0</td>\n      <td>0.0</td>\n      <td>1.0</td>\n      <td>0.0</td>\n      <td>0.0</td>\n      <td>0.0</td>\n      <td>0.0</td>\n    </tr>\n    <tr>\n      <th>...</th>\n      <td>...</td>\n      <td>...</td>\n      <td>...</td>\n      <td>...</td>\n      <td>...</td>\n      <td>...</td>\n      <td>...</td>\n      <td>...</td>\n      <td>...</td>\n      <td>...</td>\n      <td>...</td>\n      <td>...</td>\n      <td>...</td>\n      <td>...</td>\n      <td>...</td>\n      <td>...</td>\n    </tr>\n    <tr>\n      <th>995</th>\n      <td>0.0</td>\n      <td>1.0</td>\n      <td>0.0</td>\n      <td>1.0</td>\n      <td>1.0</td>\n      <td>0.0</td>\n      <td>1.0</td>\n      <td>1.0</td>\n      <td>1.0</td>\n      <td>1.0</td>\n      <td>0.0</td>\n      <td>1.0</td>\n      <td>0.0</td>\n      <td>1.0</td>\n      <td>0.0</td>\n      <td>1.0</td>\n    </tr>\n    <tr>\n      <th>996</th>\n      <td>0.0</td>\n      <td>0.0</td>\n      <td>1.0</td>\n      <td>1.0</td>\n      <td>1.0</td>\n      <td>1.0</td>\n      <td>1.0</td>\n      <td>1.0</td>\n      <td>0.0</td>\n      <td>0.0</td>\n      <td>0.0</td>\n      <td>1.0</td>\n      <td>1.0</td>\n      <td>1.0</td>\n      <td>1.0</td>\n      <td>1.0</td>\n    </tr>\n    <tr>\n      <th>997</th>\n      <td>0.0</td>\n      <td>0.0</td>\n      <td>1.0</td>\n      <td>1.0</td>\n      <td>1.0</td>\n      <td>1.0</td>\n      <td>1.0</td>\n      <td>1.0</td>\n      <td>0.0</td>\n      <td>0.0</td>\n      <td>0.0</td>\n      <td>1.0</td>\n      <td>0.0</td>\n      <td>1.0</td>\n      <td>1.0</td>\n      <td>1.0</td>\n    </tr>\n    <tr>\n      <th>998</th>\n      <td>1.0</td>\n      <td>0.0</td>\n      <td>1.0</td>\n      <td>1.0</td>\n      <td>1.0</td>\n      <td>1.0</td>\n      <td>1.0</td>\n      <td>1.0</td>\n      <td>1.0</td>\n      <td>0.0</td>\n      <td>0.0</td>\n      <td>1.0</td>\n      <td>1.0</td>\n      <td>1.0</td>\n      <td>1.0</td>\n      <td>1.0</td>\n    </tr>\n    <tr>\n      <th>999</th>\n      <td>1.0</td>\n      <td>0.0</td>\n      <td>1.0</td>\n      <td>1.0</td>\n      <td>1.0</td>\n      <td>0.0</td>\n      <td>1.0</td>\n      <td>1.0</td>\n      <td>0.0</td>\n      <td>0.0</td>\n      <td>0.0</td>\n      <td>1.0</td>\n      <td>0.0</td>\n      <td>0.0</td>\n      <td>0.0</td>\n      <td>1.0</td>\n    </tr>\n  </tbody>\n</table>\n<p>1000 rows × 16 columns</p>\n</div>"
     },
     "execution_count": 45,
     "metadata": {},
     "output_type": "execute_result"
    }
   ],
   "source": [
    "data_trans"
   ],
   "metadata": {
    "collapsed": false,
    "ExecuteTime": {
     "end_time": "2024-01-24T00:14:58.035669600Z",
     "start_time": "2024-01-24T00:14:58.003120Z"
    }
   },
   "id": "5939b11d37754b0"
  },
  {
   "cell_type": "code",
   "execution_count": 46,
   "outputs": [
    {
     "ename": "ValueError",
     "evalue": "using binary data test (chi-square) on continuous data",
     "output_type": "error",
     "traceback": [
      "\u001B[1;31m---------------------------------------------------------------------------\u001B[0m",
      "\u001B[1;31mValueError\u001B[0m                                Traceback (most recent call last)",
      "Cell \u001B[1;32mIn[46], line 1\u001B[0m\n\u001B[1;32m----> 1\u001B[0m \u001B[43mprint_graph_falsifications\u001B[49m\u001B[43m(\u001B[49m\n\u001B[0;32m      2\u001B[0m \u001B[43m    \u001B[49m\u001B[43mgraph\u001B[49m\u001B[38;5;241;43m=\u001B[39;49m\u001B[43mgraph\u001B[49m\u001B[43m,\u001B[49m\u001B[43m \u001B[49m\u001B[43mdata\u001B[49m\u001B[38;5;241;43m=\u001B[39;49m\u001B[43mdata_trans\u001B[49m\u001B[43m,\u001B[49m\u001B[43m \u001B[49m\u001B[43mmethod\u001B[49m\u001B[38;5;241;43m=\u001B[39;49m\u001B[38;5;124;43m\"\u001B[39;49m\u001B[38;5;124;43mchi-square\u001B[39;49m\u001B[38;5;124;43m\"\u001B[39;49m\u001B[43m,\u001B[49m\u001B[43m \u001B[49m\u001B[43mverbose\u001B[49m\u001B[38;5;241;43m=\u001B[39;49m\u001B[38;5;28;43;01mTrue\u001B[39;49;00m\u001B[43m,\u001B[49m\u001B[43m \u001B[49m\u001B[43msignificance_level\u001B[49m\u001B[38;5;241;43m=\u001B[39;49m\u001B[38;5;241;43m0.01\u001B[39;49m\n\u001B[0;32m      3\u001B[0m \u001B[43m)\u001B[49m\n",
      "File \u001B[1;32m~\\PycharmProjects\\eliater\\venv\\Lib\\site-packages\\eliater\\network_validation.py:250\u001B[0m, in \u001B[0;36mprint_graph_falsifications\u001B[1;34m(graph, data, method, max_given, significance_level, verbose, tablefmt)\u001B[0m\n\u001B[0;32m    248\u001B[0m \u001B[38;5;28;01mif\u001B[39;00m significance_level \u001B[38;5;129;01mis\u001B[39;00m \u001B[38;5;28;01mNone\u001B[39;00m:\n\u001B[0;32m    249\u001B[0m     significance_level \u001B[38;5;241m=\u001B[39m DEFAULT_SIGNIFICANCE\n\u001B[1;32m--> 250\u001B[0m evidence_df \u001B[38;5;241m=\u001B[39m \u001B[43mget_graph_falsifications\u001B[49m\u001B[43m(\u001B[49m\n\u001B[0;32m    251\u001B[0m \u001B[43m    \u001B[49m\u001B[43mgraph\u001B[49m\u001B[38;5;241;43m=\u001B[39;49m\u001B[43mgraph\u001B[49m\u001B[43m,\u001B[49m\n\u001B[0;32m    252\u001B[0m \u001B[43m    \u001B[49m\u001B[43mdf\u001B[49m\u001B[38;5;241;43m=\u001B[39;49m\u001B[43mdata\u001B[49m\u001B[43m,\u001B[49m\n\u001B[0;32m    253\u001B[0m \u001B[43m    \u001B[49m\u001B[43mmethod\u001B[49m\u001B[38;5;241;43m=\u001B[39;49m\u001B[43mmethod\u001B[49m\u001B[43m,\u001B[49m\n\u001B[0;32m    254\u001B[0m \u001B[43m    \u001B[49m\u001B[43msignificance_level\u001B[49m\u001B[38;5;241;43m=\u001B[39;49m\u001B[43msignificance_level\u001B[49m\u001B[43m,\u001B[49m\n\u001B[0;32m    255\u001B[0m \u001B[43m    \u001B[49m\u001B[43mmax_given\u001B[49m\u001B[38;5;241;43m=\u001B[39;49m\u001B[43mmax_given\u001B[49m\u001B[43m,\u001B[49m\n\u001B[0;32m    256\u001B[0m \u001B[43m\u001B[49m\u001B[43m)\u001B[49m\u001B[38;5;241m.\u001B[39mevidence\n\u001B[0;32m    257\u001B[0m n_total \u001B[38;5;241m=\u001B[39m \u001B[38;5;28mlen\u001B[39m(evidence_df)\n\u001B[0;32m    258\u001B[0m n_failed \u001B[38;5;241m=\u001B[39m evidence_df[\u001B[38;5;124m\"\u001B[39m\u001B[38;5;124mp_adj_significant\u001B[39m\u001B[38;5;124m\"\u001B[39m]\u001B[38;5;241m.\u001B[39msum()\n",
      "File \u001B[1;32m~\\PycharmProjects\\eliater\\venv\\Lib\\site-packages\\y0\\algorithm\\falsification.py:63\u001B[0m, in \u001B[0;36mget_graph_falsifications\u001B[1;34m(graph, df, significance_level, max_given, verbose, method)\u001B[0m\n\u001B[0;32m     51\u001B[0m \u001B[38;5;250m\u001B[39m\u001B[38;5;124;03m\"\"\"Test conditional independencies implied by a graph.\u001B[39;00m\n\u001B[0;32m     52\u001B[0m \n\u001B[0;32m     53\u001B[0m \u001B[38;5;124;03m:param graph: An ADMG\u001B[39;00m\n\u001B[1;32m   (...)\u001B[0m\n\u001B[0;32m     60\u001B[0m \u001B[38;5;124;03m:return: Falsifications report\u001B[39;00m\n\u001B[0;32m     61\u001B[0m \u001B[38;5;124;03m\"\"\"\u001B[39;00m\n\u001B[0;32m     62\u001B[0m judgements \u001B[38;5;241m=\u001B[39m get_conditional_independencies(graph, max_conditions\u001B[38;5;241m=\u001B[39mmax_given, verbose\u001B[38;5;241m=\u001B[39mverbose)\n\u001B[1;32m---> 63\u001B[0m \u001B[38;5;28;01mreturn\u001B[39;00m \u001B[43mget_falsifications\u001B[49m\u001B[43m(\u001B[49m\n\u001B[0;32m     64\u001B[0m \u001B[43m    \u001B[49m\u001B[43mjudgements\u001B[49m\u001B[38;5;241;43m=\u001B[39;49m\u001B[43mjudgements\u001B[49m\u001B[43m,\u001B[49m\n\u001B[0;32m     65\u001B[0m \u001B[43m    \u001B[49m\u001B[43mdf\u001B[49m\u001B[38;5;241;43m=\u001B[39;49m\u001B[43mdf\u001B[49m\u001B[43m,\u001B[49m\n\u001B[0;32m     66\u001B[0m \u001B[43m    \u001B[49m\u001B[43msignificance_level\u001B[49m\u001B[38;5;241;43m=\u001B[39;49m\u001B[43msignificance_level\u001B[49m\u001B[43m,\u001B[49m\n\u001B[0;32m     67\u001B[0m \u001B[43m    \u001B[49m\u001B[43mverbose\u001B[49m\u001B[38;5;241;43m=\u001B[39;49m\u001B[43mverbose\u001B[49m\u001B[43m,\u001B[49m\n\u001B[0;32m     68\u001B[0m \u001B[43m    \u001B[49m\u001B[43mmethod\u001B[49m\u001B[38;5;241;43m=\u001B[39;49m\u001B[43mmethod\u001B[49m\u001B[43m,\u001B[49m\n\u001B[0;32m     69\u001B[0m \u001B[43m\u001B[49m\u001B[43m)\u001B[49m\n",
      "File \u001B[1;32m~\\PycharmProjects\\eliater\\venv\\Lib\\site-packages\\y0\\algorithm\\falsification.py:99\u001B[0m, in \u001B[0;36mget_falsifications\u001B[1;34m(judgements, df, significance_level, verbose, method, correction)\u001B[0m\n\u001B[0;32m     97\u001B[0m \u001B[38;5;66;03m# Make this loop explicit for clarity\u001B[39;00m\n\u001B[0;32m     98\u001B[0m results \u001B[38;5;241m=\u001B[39m []\n\u001B[1;32m---> 99\u001B[0m method \u001B[38;5;241m=\u001B[39m \u001B[43m_ensure_method\u001B[49m\u001B[43m(\u001B[49m\u001B[43mmethod\u001B[49m\u001B[43m,\u001B[49m\u001B[43m \u001B[49m\u001B[43mdf\u001B[49m\u001B[43m)\u001B[49m\n\u001B[0;32m    100\u001B[0m \u001B[38;5;28;01mfor\u001B[39;00m judgement \u001B[38;5;129;01min\u001B[39;00m tqdm(judgements, disable\u001B[38;5;241m=\u001B[39m\u001B[38;5;129;01mnot\u001B[39;00m verbose, desc\u001B[38;5;241m=\u001B[39m\u001B[38;5;124m\"\u001B[39m\u001B[38;5;124mChecking conditionals\u001B[39m\u001B[38;5;124m\"\u001B[39m):\n\u001B[0;32m    101\u001B[0m     result \u001B[38;5;241m=\u001B[39m judgement\u001B[38;5;241m.\u001B[39mtest(df, method\u001B[38;5;241m=\u001B[39mmethod)\n",
      "File \u001B[1;32m~\\PycharmProjects\\eliater\\venv\\Lib\\site-packages\\y0\\struct.py:203\u001B[0m, in \u001B[0;36m_ensure_method\u001B[1;34m(method, df)\u001B[0m\n\u001B[0;32m    199\u001B[0m     \u001B[38;5;28;01mraise\u001B[39;00m \u001B[38;5;167;01mValueError\u001B[39;00m(\n\u001B[0;32m    200\u001B[0m         \u001B[38;5;124mf\u001B[39m\u001B[38;5;124m\"\u001B[39m\u001B[38;5;124musing continuous data test (\u001B[39m\u001B[38;5;132;01m{\u001B[39;00mmethod\u001B[38;5;132;01m}\u001B[39;00m\u001B[38;5;124m) on binary data: \u001B[39m\u001B[38;5;132;01m{\u001B[39;00m_summarize_df(df)\u001B[38;5;132;01m}\u001B[39;00m\u001B[38;5;124m\"\u001B[39m\n\u001B[0;32m    201\u001B[0m     )\n\u001B[0;32m    202\u001B[0m \u001B[38;5;28;01melif\u001B[39;00m \u001B[38;5;129;01mnot\u001B[39;00m binary \u001B[38;5;129;01mand\u001B[39;00m method \u001B[38;5;241m!=\u001B[39m \u001B[38;5;124m\"\u001B[39m\u001B[38;5;124mpearson\u001B[39m\u001B[38;5;124m\"\u001B[39m:\n\u001B[1;32m--> 203\u001B[0m     \u001B[38;5;28;01mraise\u001B[39;00m \u001B[38;5;167;01mValueError\u001B[39;00m(\u001B[38;5;124mf\u001B[39m\u001B[38;5;124m\"\u001B[39m\u001B[38;5;124musing binary data test (\u001B[39m\u001B[38;5;132;01m{\u001B[39;00mmethod\u001B[38;5;132;01m}\u001B[39;00m\u001B[38;5;124m) on continuous data\u001B[39m\u001B[38;5;124m\"\u001B[39m)\n\u001B[0;32m    204\u001B[0m \u001B[38;5;28;01mreturn\u001B[39;00m method\n",
      "\u001B[1;31mValueError\u001B[0m: using binary data test (chi-square) on continuous data"
     ]
    }
   ],
   "source": [
    "print_graph_falsifications(\n",
    "    graph=graph, data=data_trans, method=\"chi-square\", verbose=True, significance_level=0.01\n",
    ")"
   ],
   "metadata": {
    "collapsed": false,
    "ExecuteTime": {
     "end_time": "2024-01-24T00:15:23.483965700Z",
     "start_time": "2024-01-24T00:14:59.609846100Z"
    }
   },
   "id": "e21efcf3940ffc5e"
  },
  {
   "cell_type": "markdown",
   "id": "74b79e259232adfb",
   "metadata": {
    "collapsed": false
   },
   "source": [
    "Among all the 99 possible tests, 9 failed (9 $\\%$). As the data was synthetically generated based on the network structure, we expected all the tests to pass. However the failed tests are due to noise inherited by randomly sampling the data points. "
   ]
  },
  {
   "cell_type": "markdown",
   "id": "944520ca55c79b4b",
   "metadata": {
    "collapsed": false,
    "ExecuteTime": {
     "end_time": "2024-01-21T07:24:52.777016Z",
     "start_time": "2024-01-21T07:24:09.582369Z"
    }
   },
   "source": [
    "## Step 2: Check query identifiability"
   ]
  },
  {
   "cell_type": "code",
   "execution_count": null,
   "id": "25bb329cbc5a1e08",
   "metadata": {
    "collapsed": false,
    "ExecuteTime": {
     "start_time": "2024-01-24T00:15:23.481829400Z"
    }
   },
   "outputs": [],
   "source": [
    "identify_outcomes(graph=graph, treatments=treatment, outcomes=outcome)"
   ]
  },
  {
   "cell_type": "markdown",
   "id": "5ac9e0aec8791fbc",
   "metadata": {
    "collapsed": false
   },
   "source": [
    "The query is identifiable."
   ]
  },
  {
   "cell_type": "markdown",
   "id": "e84ccc3bdc28f772",
   "metadata": {
    "collapsed": false
   },
   "source": [
    "## Step 3: Find nuisance variables and mark them as latent"
   ]
  },
  {
   "cell_type": "markdown",
   "id": "c7ea93588b4f7188",
   "metadata": {
    "collapsed": false
   },
   "source": [
    "This function finds the nuisance variables for the input graph."
   ]
  },
  {
   "cell_type": "code",
   "execution_count": null,
   "id": "4dff38fbf23ce61c",
   "metadata": {
    "collapsed": false,
    "ExecuteTime": {
     "start_time": "2024-01-24T00:15:23.483965700Z"
    }
   },
   "outputs": [],
   "source": [
    "nuisance_variables = find_nuisance_variables(graph, treatments=treatment, outcomes=outcome)\n",
    "nuisance_variables"
   ]
  },
  {
   "cell_type": "markdown",
   "id": "7401dd4e2c6d5d31",
   "metadata": {
    "collapsed": false
   },
   "source": [
    "No variable is identified as the nuisance variable. Hence the simplified network in the next step will produce a graph similar to the original graph."
   ]
  },
  {
   "cell_type": "markdown",
   "id": "6aa2819509255d89",
   "metadata": {
    "collapsed": false
   },
   "source": [
    "## Step 4: Simplify the network"
   ]
  },
  {
   "cell_type": "markdown",
   "id": "7b987190a5fa7453",
   "metadata": {
    "collapsed": false
   },
   "source": [
    "In eliater, step 3, and 4 are both combined into a single function. Hence, the following function finds the nuisance variable (step 3), marks them as latent and then applies Evan's simplification rules (Step 4) to remove the nuisance variables. As a result, running the 'find_nuisance_variables' and 'mark_nuisance_variables_as_latent' functions is not necessary to get the value of step 4. However, we called them to illustrate the results.  As there are no nuisance variables, the new graph will be the same as the original graph."
   ]
  },
  {
   "cell_type": "code",
   "execution_count": null,
   "id": "e6849ec627ee2b59",
   "metadata": {
    "collapsed": false,
    "ExecuteTime": {
     "end_time": "2024-01-24T00:15:23.487259400Z",
     "start_time": "2024-01-24T00:15:23.487259400Z"
    }
   },
   "outputs": [],
   "source": [
    "new_graph = remove_nuisance_variables(graph, treatments=treatment, outcomes=outcome)"
   ]
  },
  {
   "cell_type": "markdown",
   "id": "b8e9dd961d1d459a",
   "metadata": {
    "collapsed": false
   },
   "source": [
    "## Step 5: Estimate the query"
   ]
  },
  {
   "cell_type": "code",
   "execution_count": null,
   "id": "5c926e5be8539db9",
   "metadata": {
    "collapsed": false,
    "ExecuteTime": {
     "start_time": "2024-01-24T00:15:23.489401100Z"
    }
   },
   "outputs": [],
   "source": [
    "estimate_ace(new_graph, treatments=treatment, outcomes=outcome, data=data)"
   ]
  },
  {
   "cell_type": "markdown",
   "id": "bcdeff27d0bcbcb3",
   "metadata": {
    "collapsed": false
   },
   "source": [
    "## Evaluation criterion\n",
    "As we used synthetic data set, we were able to generate two interventional data sets where in\n",
    "one EGFR was set to 1, and the other one EGFR is set to 0. The ATE was calculated by subtracting the average value of Cytokine Storm obtained from each interventional data,\n",
    "resulting in the ground truth ATE=0.796. The positive ATE indicates that the Gefitinib drug can not reduce the Cytokine Storm levels, hence can't help in treating patients having SARS-Cov-2."
   ]
  },
  {
   "cell_type": "code",
   "execution_count": 95,
   "outputs": [
    {
     "data": {
      "text/plain": "0.7965175191822595"
     },
     "execution_count": 95,
     "metadata": {},
     "output_type": "execute_result"
    }
   ],
   "source": [
    "def get_background_ace(seed=None) -> float:\n",
    "    # get interventional data where treatment is set to 1\n",
    "    data_1 = generate_continuous(1000, {treatment: 1.0}, seed=seed)\n",
    "    # get interventional data where treatment is set to 0\n",
    "    data_0 = generate_continuous(1000, {treatment: 0.0}, seed=seed)\n",
    "    return data_1.mean()[outcome.name] - data_0.mean()[outcome.name]\n",
    "\n",
    "# get the true value of ATE\n",
    "get_background_ace(seed=SEED)"
   ],
   "metadata": {
    "collapsed": false,
    "ExecuteTime": {
     "end_time": "2024-01-23T11:12:24.832463Z",
     "start_time": "2024-01-23T11:12:24.520534Z"
    }
   },
   "id": "14bdcdd244526750"
  },
  {
   "cell_type": "markdown",
   "id": "c721a0a302437bdc",
   "metadata": {
    "collapsed": false
   },
   "source": [
    "The estimated $\\widehat{\\mathrm{ATE}}=0.605$, comparable in sign and magnitute to the ground truth ATE=0.796. The discrepancy in the value of results is due to non-linear, and complex data generation procedure, which is similar to the real-life experimental artifacts, and due to the approximate nature of the modeling assumption."
   ]
  },
  {
   "cell_type": "code",
   "execution_count": 96,
   "outputs": [
    {
     "data": {
      "text/plain": "-0.23994974874371866"
     },
     "execution_count": 96,
     "metadata": {},
     "output_type": "execute_result"
    }
   ],
   "source": [
    "#Relative change\n",
    "((0.605 - 0.796)/0.796)"
   ],
   "metadata": {
    "collapsed": false,
    "ExecuteTime": {
     "end_time": "2024-01-23T11:31:30.709675Z",
     "start_time": "2024-01-23T11:31:30.668820Z"
    }
   },
   "id": "6044644d90692b3d"
  },
  {
   "cell_type": "markdown",
   "source": [
    "### Random Sampling Evaluation"
   ],
   "metadata": {
    "collapsed": false
   },
   "id": "30a25ac6032e7af3"
  },
  {
   "cell_type": "code",
   "outputs": [],
   "source": [
    "# Population => Generate D = 10000 data points\n",
    "D = example.generate_data(10000, seed=SEED)"
   ],
   "metadata": {
    "collapsed": false,
    "ExecuteTime": {
     "end_time": "2024-01-24T00:15:31.845148Z",
     "start_time": "2024-01-24T00:15:31.817741300Z"
    }
   },
   "id": "f5eb9d860279f708",
   "execution_count": 47
  },
  {
   "cell_type": "code",
   "outputs": [],
   "source": [
    "# Samples => Generate 1000 datasets with 1000 points each (d) using random sampling\n",
    "\n",
    "d_count = 1000\n",
    "d_size = 1000\n",
    "d = [D.sample(d_size) for _ in range(d_count)]"
   ],
   "metadata": {
    "collapsed": false,
    "ExecuteTime": {
     "end_time": "2024-01-24T00:15:33.754679400Z",
     "start_time": "2024-01-24T00:15:33.268310500Z"
    }
   },
   "id": "89581483f3392dee",
   "execution_count": 48
  },
  {
   "cell_type": "code",
   "outputs": [
    {
     "ename": "PerfectSeparationError",
     "evalue": "Perfect separation detected, results not available",
     "output_type": "error",
     "traceback": [
      "\u001B[1;31m---------------------------------------------------------------------------\u001B[0m",
      "\u001B[1;31mPerfectSeparationError\u001B[0m                    Traceback (most recent call last)",
      "Cell \u001B[1;32mIn[49], line 1\u001B[0m\n\u001B[1;32m----> 1\u001B[0m ate \u001B[38;5;241m=\u001B[39m \u001B[43m[\u001B[49m\u001B[43mestimate_ace\u001B[49m\u001B[43m(\u001B[49m\u001B[43mnew_graph\u001B[49m\u001B[43m,\u001B[49m\u001B[43m \u001B[49m\u001B[43mtreatments\u001B[49m\u001B[38;5;241;43m=\u001B[39;49m\u001B[43mtreatment\u001B[49m\u001B[43m,\u001B[49m\u001B[43m \u001B[49m\u001B[43moutcomes\u001B[49m\u001B[38;5;241;43m=\u001B[39;49m\u001B[43moutcome\u001B[49m\u001B[43m,\u001B[49m\u001B[43m \u001B[49m\u001B[43mdata\u001B[49m\u001B[38;5;241;43m=\u001B[39;49m\u001B[43mdata\u001B[49m\u001B[43m)\u001B[49m\u001B[43m \u001B[49m\u001B[38;5;28;43;01mfor\u001B[39;49;00m\u001B[43m \u001B[49m\u001B[43mdata\u001B[49m\u001B[43m \u001B[49m\u001B[38;5;129;43;01min\u001B[39;49;00m\u001B[43m \u001B[49m\u001B[43md\u001B[49m\u001B[43m]\u001B[49m\n",
      "Cell \u001B[1;32mIn[49], line 1\u001B[0m, in \u001B[0;36m<listcomp>\u001B[1;34m(.0)\u001B[0m\n\u001B[1;32m----> 1\u001B[0m ate \u001B[38;5;241m=\u001B[39m [\u001B[43mestimate_ace\u001B[49m\u001B[43m(\u001B[49m\u001B[43mnew_graph\u001B[49m\u001B[43m,\u001B[49m\u001B[43m \u001B[49m\u001B[43mtreatments\u001B[49m\u001B[38;5;241;43m=\u001B[39;49m\u001B[43mtreatment\u001B[49m\u001B[43m,\u001B[49m\u001B[43m \u001B[49m\u001B[43moutcomes\u001B[49m\u001B[38;5;241;43m=\u001B[39;49m\u001B[43moutcome\u001B[49m\u001B[43m,\u001B[49m\u001B[43m \u001B[49m\u001B[43mdata\u001B[49m\u001B[38;5;241;43m=\u001B[39;49m\u001B[43mdata\u001B[49m\u001B[43m)\u001B[49m \u001B[38;5;28;01mfor\u001B[39;00m data \u001B[38;5;129;01min\u001B[39;00m d]\n",
      "File \u001B[1;32m~\\PycharmProjects\\eliater\\venv\\Lib\\site-packages\\y0\\algorithm\\estimation\\__init__.py:73\u001B[0m, in \u001B[0;36mestimate_ace\u001B[1;34m(graph, treatments, outcomes, data, conditions, bootstraps, alpha, estimator)\u001B[0m\n\u001B[0;32m     70\u001B[0m \u001B[38;5;28;01melse\u001B[39;00m:\n\u001B[0;32m     71\u001B[0m     \u001B[38;5;28;01mraise\u001B[39;00m \u001B[38;5;167;01mRuntimeError\u001B[39;00m(\u001B[38;5;124m\"\u001B[39m\u001B[38;5;124mGraph is not identifiable; effect can not be estimated\u001B[39m\u001B[38;5;124m\"\u001B[39m)\n\u001B[1;32m---> 73\u001B[0m \u001B[38;5;28;01mreturn\u001B[39;00m \u001B[43mananke_average_causal_effect\u001B[49m\u001B[43m(\u001B[49m\n\u001B[0;32m     74\u001B[0m \u001B[43m    \u001B[49m\u001B[43mgraph\u001B[49m\u001B[38;5;241;43m=\u001B[39;49m\u001B[43mgraph\u001B[49m\u001B[43m,\u001B[49m\n\u001B[0;32m     75\u001B[0m \u001B[43m    \u001B[49m\u001B[43mdata\u001B[49m\u001B[38;5;241;43m=\u001B[39;49m\u001B[43mdata\u001B[49m\u001B[43m,\u001B[49m\n\u001B[0;32m     76\u001B[0m \u001B[43m    \u001B[49m\u001B[43mtreatment\u001B[49m\u001B[38;5;241;43m=\u001B[39;49m\u001B[43mtreatments\u001B[49m\u001B[43m,\u001B[49m\n\u001B[0;32m     77\u001B[0m \u001B[43m    \u001B[49m\u001B[43moutcome\u001B[49m\u001B[38;5;241;43m=\u001B[39;49m\u001B[43moutcomes\u001B[49m\u001B[43m,\u001B[49m\n\u001B[0;32m     78\u001B[0m \u001B[43m    \u001B[49m\u001B[43mestimator\u001B[49m\u001B[38;5;241;43m=\u001B[39;49m\u001B[43mestimator\u001B[49m\u001B[43m,\u001B[49m\n\u001B[0;32m     79\u001B[0m \u001B[43m    \u001B[49m\u001B[43mbootstraps\u001B[49m\u001B[38;5;241;43m=\u001B[39;49m\u001B[43mbootstraps\u001B[49m\u001B[43m,\u001B[49m\n\u001B[0;32m     80\u001B[0m \u001B[43m    \u001B[49m\u001B[43malpha\u001B[49m\u001B[38;5;241;43m=\u001B[39;49m\u001B[43malpha\u001B[49m\u001B[43m,\u001B[49m\n\u001B[0;32m     81\u001B[0m \u001B[43m\u001B[49m\u001B[43m)\u001B[49m\n",
      "File \u001B[1;32m~\\PycharmProjects\\eliater\\venv\\Lib\\site-packages\\y0\\algorithm\\estimation\\__init__.py:112\u001B[0m, in \u001B[0;36mananke_average_causal_effect\u001B[1;34m(graph, data, treatment, outcome, estimator, bootstraps, alpha)\u001B[0m\n\u001B[0;32m    106\u001B[0m \u001B[38;5;28;01mwith\u001B[39;00m redirect_stdout(\u001B[38;5;28;01mNone\u001B[39;00m):\n\u001B[0;32m    107\u001B[0m     \u001B[38;5;66;03m# redirect stdout gets rid of the unnecessary printing from Ananke,\u001B[39;00m\n\u001B[0;32m    108\u001B[0m     \u001B[38;5;66;03m# e.g., when CausalEffect says what estimators can be used. We take\u001B[39;00m\n\u001B[0;32m    109\u001B[0m     \u001B[38;5;66;03m# care of that explicitly below\u001B[39;00m\n\u001B[0;32m    110\u001B[0m     causal_effect \u001B[38;5;241m=\u001B[39m CausalEffect(ananke_graph, treatment\u001B[38;5;241m.\u001B[39mname, outcome\u001B[38;5;241m.\u001B[39mname)\n\u001B[1;32m--> 112\u001B[0m \u001B[38;5;28;01mreturn\u001B[39;00m \u001B[43mcausal_effect\u001B[49m\u001B[38;5;241;43m.\u001B[39;49m\u001B[43mcompute_effect\u001B[49m\u001B[43m(\u001B[49m\n\u001B[0;32m    113\u001B[0m \u001B[43m    \u001B[49m\u001B[43mdata\u001B[49m\u001B[43m,\u001B[49m\u001B[43m \u001B[49m\u001B[43mestimator\u001B[49m\u001B[38;5;241;43m=\u001B[39;49m\u001B[43mestimator\u001B[49m\u001B[43m,\u001B[49m\u001B[43m \u001B[49m\u001B[43mn_bootstraps\u001B[49m\u001B[38;5;241;43m=\u001B[39;49m\u001B[43mbootstraps\u001B[49m\u001B[43m \u001B[49m\u001B[38;5;129;43;01mor\u001B[39;49;00m\u001B[43m \u001B[49m\u001B[38;5;241;43m0\u001B[39;49m\u001B[43m,\u001B[49m\u001B[43m \u001B[49m\u001B[43malpha\u001B[49m\u001B[38;5;241;43m=\u001B[39;49m\u001B[43malpha\u001B[49m\u001B[43m \u001B[49m\u001B[38;5;129;43;01mor\u001B[39;49;00m\u001B[43m \u001B[49m\u001B[38;5;241;43m0.05\u001B[39;49m\n\u001B[0;32m    114\u001B[0m \u001B[43m\u001B[49m\u001B[43m)\u001B[49m\n",
      "File \u001B[1;32m~\\PycharmProjects\\eliater\\venv\\Lib\\site-packages\\ananke\\estimation\\counterfactual_mean.py:1135\u001B[0m, in \u001B[0;36mCausalEffect.compute_effect\u001B[1;34m(self, data, estimator, model_binary, model_continuous, n_bootstraps, alpha, report_log_odds)\u001B[0m\n\u001B[0;32m   1133\u001B[0m \u001B[38;5;66;03m# instantiate estimator and get point estimate of ACE\u001B[39;00m\n\u001B[0;32m   1134\u001B[0m method \u001B[38;5;241m=\u001B[39m \u001B[38;5;28mself\u001B[39m\u001B[38;5;241m.\u001B[39mestimators[estimator]\n\u001B[1;32m-> 1135\u001B[0m point_estimate_T1 \u001B[38;5;241m=\u001B[39m \u001B[43mmethod\u001B[49m\u001B[43m(\u001B[49m\u001B[43mdf\u001B[49m\u001B[43m,\u001B[49m\u001B[43m \u001B[49m\u001B[38;5;241;43m1\u001B[39;49m\u001B[43m,\u001B[49m\u001B[43m \u001B[49m\u001B[43mmodel_binary\u001B[49m\u001B[43m,\u001B[49m\u001B[43m \u001B[49m\u001B[43mmodel_continuous\u001B[49m\u001B[43m)\u001B[49m\n\u001B[0;32m   1136\u001B[0m point_estimate_T0 \u001B[38;5;241m=\u001B[39m method(df, \u001B[38;5;241m0\u001B[39m, model_binary, model_continuous)\n\u001B[0;32m   1138\u001B[0m \u001B[38;5;66;03m# if Y is binary report log of odds ration, if Y is continuous report ACE\u001B[39;00m\n",
      "File \u001B[1;32m~\\PycharmProjects\\eliater\\venv\\Lib\\site-packages\\ananke\\estimation\\counterfactual_mean.py:302\u001B[0m, in \u001B[0;36mCausalEffect._aipw\u001B[1;34m(self, data, assignment, model_binary, model_continuous)\u001B[0m\n\u001B[0;32m    299\u001B[0m \u001B[38;5;28;01mif\u001B[39;00m \u001B[38;5;28mlen\u001B[39m(mp_T) \u001B[38;5;241m!=\u001B[39m \u001B[38;5;241m0\u001B[39m:\n\u001B[0;32m    300\u001B[0m     \u001B[38;5;66;03m# fit T | mp(T) and predict treatment probabilities\u001B[39;00m\n\u001B[0;32m    301\u001B[0m     formula_T \u001B[38;5;241m=\u001B[39m \u001B[38;5;28mself\u001B[39m\u001B[38;5;241m.\u001B[39mtreatment \u001B[38;5;241m+\u001B[39m \u001B[38;5;124m\"\u001B[39m\u001B[38;5;124m ~ \u001B[39m\u001B[38;5;124m\"\u001B[39m \u001B[38;5;241m+\u001B[39m \u001B[38;5;124m\"\u001B[39m\u001B[38;5;124m+\u001B[39m\u001B[38;5;124m\"\u001B[39m\u001B[38;5;241m.\u001B[39mjoin(mp_T)  \u001B[38;5;66;03m# + \"+ ones\"\u001B[39;00m\n\u001B[1;32m--> 302\u001B[0m     model \u001B[38;5;241m=\u001B[39m \u001B[43mmodel_binary\u001B[49m\u001B[43m(\u001B[49m\u001B[43mdata\u001B[49m\u001B[43m,\u001B[49m\u001B[43m \u001B[49m\u001B[43mformula_T\u001B[49m\u001B[43m)\u001B[49m\n\u001B[0;32m    303\u001B[0m     prob_T \u001B[38;5;241m=\u001B[39m model\u001B[38;5;241m.\u001B[39mpredict(data)\n\u001B[0;32m    304\u001B[0m     formula_Y \u001B[38;5;241m=\u001B[39m (\n\u001B[0;32m    305\u001B[0m         \u001B[38;5;28mself\u001B[39m\u001B[38;5;241m.\u001B[39moutcome \u001B[38;5;241m+\u001B[39m \u001B[38;5;124m\"\u001B[39m\u001B[38;5;124m ~ \u001B[39m\u001B[38;5;124m\"\u001B[39m \u001B[38;5;241m+\u001B[39m \u001B[38;5;28mself\u001B[39m\u001B[38;5;241m.\u001B[39mtreatment \u001B[38;5;241m+\u001B[39m \u001B[38;5;124m\"\u001B[39m\u001B[38;5;124m+\u001B[39m\u001B[38;5;124m\"\u001B[39m \u001B[38;5;241m+\u001B[39m \u001B[38;5;124m\"\u001B[39m\u001B[38;5;124m+\u001B[39m\u001B[38;5;124m\"\u001B[39m\u001B[38;5;241m.\u001B[39mjoin(mp_T)\n\u001B[0;32m    306\u001B[0m     )\n",
      "File \u001B[1;32m~\\PycharmProjects\\eliater\\venv\\Lib\\site-packages\\ananke\\estimation\\counterfactual_mean.py:184\u001B[0m, in \u001B[0;36mCausalEffect._fit_binary_glm\u001B[1;34m(self, data, formula, weights)\u001B[0m\n\u001B[0;32m    170\u001B[0m \u001B[38;5;28;01mdef\u001B[39;00m \u001B[38;5;21m_fit_binary_glm\u001B[39m(\u001B[38;5;28mself\u001B[39m, data, formula, weights\u001B[38;5;241m=\u001B[39m\u001B[38;5;28;01mNone\u001B[39;00m):\n\u001B[0;32m    171\u001B[0m \u001B[38;5;250m    \u001B[39m\u001B[38;5;124;03m\"\"\"\u001B[39;00m\n\u001B[0;32m    172\u001B[0m \u001B[38;5;124;03m    Fit a binary GLM to data given a formula.\u001B[39;00m\n\u001B[0;32m    173\u001B[0m \n\u001B[1;32m   (...)\u001B[0m\n\u001B[0;32m    176\u001B[0m \u001B[38;5;124;03m    :return: the fitted model.\u001B[39;00m\n\u001B[0;32m    177\u001B[0m \u001B[38;5;124;03m    \"\"\"\u001B[39;00m\n\u001B[0;32m    179\u001B[0m     \u001B[38;5;28;01mreturn\u001B[39;00m \u001B[43msm\u001B[49m\u001B[38;5;241;43m.\u001B[39;49m\u001B[43mGLM\u001B[49m\u001B[38;5;241;43m.\u001B[39;49m\u001B[43mfrom_formula\u001B[49m\u001B[43m(\u001B[49m\n\u001B[0;32m    180\u001B[0m \u001B[43m        \u001B[49m\u001B[43mformula\u001B[49m\u001B[43m,\u001B[49m\n\u001B[0;32m    181\u001B[0m \u001B[43m        \u001B[49m\u001B[43mdata\u001B[49m\u001B[38;5;241;43m=\u001B[39;49m\u001B[43mdata\u001B[49m\u001B[43m,\u001B[49m\n\u001B[0;32m    182\u001B[0m \u001B[43m        \u001B[49m\u001B[43mfamily\u001B[49m\u001B[38;5;241;43m=\u001B[39;49m\u001B[43msm\u001B[49m\u001B[38;5;241;43m.\u001B[39;49m\u001B[43mfamilies\u001B[49m\u001B[38;5;241;43m.\u001B[39;49m\u001B[43mBinomial\u001B[49m\u001B[43m(\u001B[49m\u001B[43m)\u001B[49m\u001B[43m,\u001B[49m\n\u001B[0;32m    183\u001B[0m \u001B[43m        \u001B[49m\u001B[43mfreq_weights\u001B[49m\u001B[38;5;241;43m=\u001B[39;49m\u001B[43mweights\u001B[49m\u001B[43m,\u001B[49m\n\u001B[1;32m--> 184\u001B[0m \u001B[43m    \u001B[49m\u001B[43m)\u001B[49m\u001B[38;5;241;43m.\u001B[39;49m\u001B[43mfit\u001B[49m\u001B[43m(\u001B[49m\u001B[43m)\u001B[49m\n",
      "File \u001B[1;32m~\\PycharmProjects\\eliater\\venv\\Lib\\site-packages\\statsmodels\\genmod\\generalized_linear_model.py:1075\u001B[0m, in \u001B[0;36mGLM.fit\u001B[1;34m(self, start_params, maxiter, method, tol, scale, cov_type, cov_kwds, use_t, full_output, disp, max_start_irls, **kwargs)\u001B[0m\n\u001B[0;32m   1073\u001B[0m     \u001B[38;5;28;01mif\u001B[39;00m cov_type\u001B[38;5;241m.\u001B[39mlower() \u001B[38;5;241m==\u001B[39m \u001B[38;5;124m'\u001B[39m\u001B[38;5;124meim\u001B[39m\u001B[38;5;124m'\u001B[39m:\n\u001B[0;32m   1074\u001B[0m         cov_type \u001B[38;5;241m=\u001B[39m \u001B[38;5;124m'\u001B[39m\u001B[38;5;124mnonrobust\u001B[39m\u001B[38;5;124m'\u001B[39m\n\u001B[1;32m-> 1075\u001B[0m     \u001B[38;5;28;01mreturn\u001B[39;00m \u001B[38;5;28;43mself\u001B[39;49m\u001B[38;5;241;43m.\u001B[39;49m\u001B[43m_fit_irls\u001B[49m\u001B[43m(\u001B[49m\u001B[43mstart_params\u001B[49m\u001B[38;5;241;43m=\u001B[39;49m\u001B[43mstart_params\u001B[49m\u001B[43m,\u001B[49m\u001B[43m \u001B[49m\u001B[43mmaxiter\u001B[49m\u001B[38;5;241;43m=\u001B[39;49m\u001B[43mmaxiter\u001B[49m\u001B[43m,\u001B[49m\n\u001B[0;32m   1076\u001B[0m \u001B[43m                          \u001B[49m\u001B[43mtol\u001B[49m\u001B[38;5;241;43m=\u001B[39;49m\u001B[43mtol\u001B[49m\u001B[43m,\u001B[49m\u001B[43m \u001B[49m\u001B[43mscale\u001B[49m\u001B[38;5;241;43m=\u001B[39;49m\u001B[43mscale\u001B[49m\u001B[43m,\u001B[49m\u001B[43m \u001B[49m\u001B[43mcov_type\u001B[49m\u001B[38;5;241;43m=\u001B[39;49m\u001B[43mcov_type\u001B[49m\u001B[43m,\u001B[49m\n\u001B[0;32m   1077\u001B[0m \u001B[43m                          \u001B[49m\u001B[43mcov_kwds\u001B[49m\u001B[38;5;241;43m=\u001B[39;49m\u001B[43mcov_kwds\u001B[49m\u001B[43m,\u001B[49m\u001B[43m \u001B[49m\u001B[43muse_t\u001B[49m\u001B[38;5;241;43m=\u001B[39;49m\u001B[43muse_t\u001B[49m\u001B[43m,\u001B[49m\u001B[43m \u001B[49m\u001B[38;5;241;43m*\u001B[39;49m\u001B[38;5;241;43m*\u001B[39;49m\u001B[43mkwargs\u001B[49m\u001B[43m)\u001B[49m\n\u001B[0;32m   1078\u001B[0m \u001B[38;5;28;01melse\u001B[39;00m:\n\u001B[0;32m   1079\u001B[0m     \u001B[38;5;28mself\u001B[39m\u001B[38;5;241m.\u001B[39m_optim_hessian \u001B[38;5;241m=\u001B[39m kwargs\u001B[38;5;241m.\u001B[39mget(\u001B[38;5;124m'\u001B[39m\u001B[38;5;124moptim_hessian\u001B[39m\u001B[38;5;124m'\u001B[39m)\n",
      "File \u001B[1;32m~\\PycharmProjects\\eliater\\venv\\Lib\\site-packages\\statsmodels\\genmod\\generalized_linear_model.py:1224\u001B[0m, in \u001B[0;36mGLM._fit_irls\u001B[1;34m(self, start_params, maxiter, tol, scale, cov_type, cov_kwds, use_t, **kwargs)\u001B[0m\n\u001B[0;32m   1222\u001B[0m \u001B[38;5;28;01mif\u001B[39;00m endog\u001B[38;5;241m.\u001B[39msqueeze()\u001B[38;5;241m.\u001B[39mndim \u001B[38;5;241m==\u001B[39m \u001B[38;5;241m1\u001B[39m \u001B[38;5;129;01mand\u001B[39;00m np\u001B[38;5;241m.\u001B[39mallclose(mu \u001B[38;5;241m-\u001B[39m endog, \u001B[38;5;241m0\u001B[39m):\n\u001B[0;32m   1223\u001B[0m     msg \u001B[38;5;241m=\u001B[39m \u001B[38;5;124m\"\u001B[39m\u001B[38;5;124mPerfect separation detected, results not available\u001B[39m\u001B[38;5;124m\"\u001B[39m\n\u001B[1;32m-> 1224\u001B[0m     \u001B[38;5;28;01mraise\u001B[39;00m PerfectSeparationError(msg)\n\u001B[0;32m   1225\u001B[0m converged \u001B[38;5;241m=\u001B[39m _check_convergence(criterion, iteration \u001B[38;5;241m+\u001B[39m \u001B[38;5;241m1\u001B[39m, atol,\n\u001B[0;32m   1226\u001B[0m                                rtol)\n\u001B[0;32m   1227\u001B[0m \u001B[38;5;28;01mif\u001B[39;00m converged:\n",
      "\u001B[1;31mPerfectSeparationError\u001B[0m: Perfect separation detected, results not available"
     ]
    }
   ],
   "source": [
    "ate = [estimate_ace(new_graph, treatments=treatment, outcomes=outcome, data=data) for data in d]"
   ],
   "metadata": {
    "collapsed": false,
    "ExecuteTime": {
     "end_time": "2024-01-24T00:15:34.711393400Z",
     "start_time": "2024-01-24T00:15:34.599315100Z"
    }
   },
   "id": "269f193d582cb157",
   "execution_count": 49
  }
 ],
 "metadata": {
  "kernelspec": {
   "display_name": "Python 3 (ipykernel)",
   "language": "python",
   "name": "python3"
  },
  "language_info": {
   "codemirror_mode": {
    "name": "ipython",
    "version": 3
   },
   "file_extension": ".py",
   "mimetype": "text/x-python",
   "name": "python",
   "nbconvert_exporter": "python",
   "pygments_lexer": "ipython3",
   "version": "3.11.6"
  }
 },
 "nbformat": 4,
 "nbformat_minor": 5
}
