{
 "cells": [
  {
   "cell_type": "markdown",
   "id": "a618fea7cca96207",
   "metadata": {
    "collapsed": false
   },
   "source": [
    "# Case study 3: The Escherichia coli K-12 transcriptional motif"
   ]
  },
  {
   "cell_type": "markdown",
   "id": "a0cedf172ad6ad7b",
   "metadata": {
    "collapsed": false
   },
   "source": [
    "This is case study 3 in Figure 7 in this paper: *Eliater: an open source software for causal query estimation from observational measurements of biomolecular networks. The figure below shows the transcriptional regulatory network motif of E. coli from the EcoCyc database (Keseler et al., 2021). It comprises 44 nodes, of which 7 are latent and 45 are\n",
    "observed, connected by a total of 147 directed edges."
   ]
  },
  {
   "cell_type": "markdown",
   "source": [
    "![ecoli](../img/ecoli.png)"
   ],
   "metadata": {
    "collapsed": false
   },
   "id": "5bc988ec43f3fe23"
  },
  {
   "cell_type": "code",
   "execution_count": 1,
   "id": "2942bcdf-98ce-450c-a888-fed60f417ff1",
   "metadata": {
    "ExecuteTime": {
     "end_time": "2024-01-18T15:48:09.459962Z",
     "start_time": "2024-01-18T15:48:09.430164900Z"
    },
    "collapsed": false
   },
   "outputs": [
    {
     "data": {
      "text/html": [
       "<div>\n",
       "<style scoped>\n",
       "    .dataframe tbody tr th:only-of-type {\n",
       "        vertical-align: middle;\n",
       "    }\n",
       "\n",
       "    .dataframe tbody tr th {\n",
       "        vertical-align: top;\n",
       "    }\n",
       "\n",
       "    .dataframe thead th {\n",
       "        text-align: right;\n",
       "    }\n",
       "</style>\n",
       "<table border=\"1\" class=\"dataframe\">\n",
       "  <thead>\n",
       "    <tr style=\"text-align: right;\">\n",
       "      <th></th>\n",
       "      <th>key</th>\n",
       "      <th>value</th>\n",
       "    </tr>\n",
       "  </thead>\n",
       "  <tbody>\n",
       "    <tr>\n",
       "      <th>0</th>\n",
       "      <td>eliater</td>\n",
       "      <td>0.0.1-dev-2148b5ff</td>\n",
       "    </tr>\n",
       "    <tr>\n",
       "      <th>1</th>\n",
       "      <td>y0</td>\n",
       "      <td>0.2.8-dev-05cee105</td>\n",
       "    </tr>\n",
       "    <tr>\n",
       "      <th>2</th>\n",
       "      <td>Run at</td>\n",
       "      <td>2024-01-19 09:35:01</td>\n",
       "    </tr>\n",
       "  </tbody>\n",
       "</table>\n",
       "</div>"
      ],
      "text/plain": [
       "       key                value\n",
       "0  eliater   0.0.1-dev-2148b5ff\n",
       "1       y0   0.2.8-dev-05cee105\n",
       "2   Run at  2024-01-19 09:35:01"
      ]
     },
     "execution_count": 1,
     "metadata": {},
     "output_type": "execute_result"
    }
   ],
   "source": [
    "import matplotlib.pyplot as plt\n",
    "import pandas as pd\n",
    "import seaborn as sns\n",
    "\n",
    "from eliater import version_df\n",
    "from eliater.data import load_ecoli_obs\n",
    "from eliater.discover_latent_nodes import find_nuisance_variables, remove_nuisance_variables\n",
    "from eliater.examples import ecoli_transcription_example\n",
    "from eliater.network_validation import print_graph_falsifications\n",
    "from eliater.regression import estimate_query, fit_regression, summary_statistics\n",
    "from y0.algorithm.identify import Identification, identify_outcomes\n",
    "from y0.dsl import P, Variable\n",
    "\n",
    "version_df()"
   ]
  },
  {
   "cell_type": "code",
   "execution_count": 2,
   "id": "5132a01f-ad3f-4840-a5c9-58293d5b4991",
   "metadata": {
    "ExecuteTime": {
     "end_time": "2024-01-18T15:48:09.459962Z",
     "start_time": "2024-01-18T15:48:09.430164900Z"
    },
    "collapsed": false
   },
   "outputs": [],
   "source": [
    "treatment = Variable(\"fur\")\n",
    "outcome = Variable(\"dpiA\")"
   ]
  },
  {
   "cell_type": "code",
   "execution_count": 3,
   "id": "42c0955c435a1d33",
   "metadata": {
    "ExecuteTime": {
     "end_time": "2024-01-18T15:48:11.691840700Z",
     "start_time": "2024-01-18T15:48:11.662068700Z"
    },
    "collapsed": false
   },
   "outputs": [],
   "source": [
    "graph = ecoli_transcription_example.graph"
   ]
  },
  {
   "cell_type": "markdown",
   "id": "23d671c229f26951",
   "metadata": {
    "collapsed": false
   },
   "source": [
    "The observational data are 260 RNA-seq normalized expression profiles of E. coli K-12 MG1655 and BW25113 strains, spanning 154 distinct experimental conditions. These data were retrieved from the PRECISE database (Sastry et al., 2019)."
   ]
  },
  {
   "cell_type": "code",
   "execution_count": 4,
   "id": "493dbce26b06565c",
   "metadata": {
    "ExecuteTime": {
     "end_time": "2024-01-18T15:48:14.670845400Z",
     "start_time": "2024-01-18T15:48:14.635944400Z"
    },
    "collapsed": false
   },
   "outputs": [
    {
     "data": {
      "text/html": [
       "<div>\n",
       "<style scoped>\n",
       "    .dataframe tbody tr th:only-of-type {\n",
       "        vertical-align: middle;\n",
       "    }\n",
       "\n",
       "    .dataframe tbody tr th {\n",
       "        vertical-align: top;\n",
       "    }\n",
       "\n",
       "    .dataframe thead th {\n",
       "        text-align: right;\n",
       "    }\n",
       "</style>\n",
       "<table border=\"1\" class=\"dataframe\">\n",
       "  <thead>\n",
       "    <tr style=\"text-align: right;\">\n",
       "      <th></th>\n",
       "      <th>Unnamed: 0</th>\n",
       "      <th>cra</th>\n",
       "      <th>aceE</th>\n",
       "      <th>phoB</th>\n",
       "      <th>cyoA</th>\n",
       "      <th>amtB</th>\n",
       "      <th>appY</th>\n",
       "      <th>citC</th>\n",
       "      <th>dpiB</th>\n",
       "      <th>dpiA</th>\n",
       "      <th>...</th>\n",
       "      <th>mdh</th>\n",
       "      <th>fis</th>\n",
       "      <th>crp</th>\n",
       "      <th>rpoH</th>\n",
       "      <th>gadX</th>\n",
       "      <th>cspA</th>\n",
       "      <th>oxyR</th>\n",
       "      <th>soxS</th>\n",
       "      <th>dcuR</th>\n",
       "      <th>arcA</th>\n",
       "    </tr>\n",
       "  </thead>\n",
       "  <tbody>\n",
       "    <tr>\n",
       "      <th>0</th>\n",
       "      <td>1</td>\n",
       "      <td>7.697991</td>\n",
       "      <td>10.651307</td>\n",
       "      <td>5.599989</td>\n",
       "      <td>11.254009</td>\n",
       "      <td>5.128441</td>\n",
       "      <td>5.919468</td>\n",
       "      <td>0.000000</td>\n",
       "      <td>4.323397</td>\n",
       "      <td>4.761679</td>\n",
       "      <td>...</td>\n",
       "      <td>11.745289</td>\n",
       "      <td>8.936196</td>\n",
       "      <td>9.666416</td>\n",
       "      <td>8.725102</td>\n",
       "      <td>8.614542</td>\n",
       "      <td>7.743336</td>\n",
       "      <td>8.209081</td>\n",
       "      <td>6.230069</td>\n",
       "      <td>5.752131</td>\n",
       "      <td>9.547993</td>\n",
       "    </tr>\n",
       "    <tr>\n",
       "      <th>1</th>\n",
       "      <td>2</td>\n",
       "      <td>7.581105</td>\n",
       "      <td>10.761484</td>\n",
       "      <td>5.746619</td>\n",
       "      <td>11.431429</td>\n",
       "      <td>5.614179</td>\n",
       "      <td>5.628823</td>\n",
       "      <td>0.000000</td>\n",
       "      <td>4.706430</td>\n",
       "      <td>4.930888</td>\n",
       "      <td>...</td>\n",
       "      <td>11.843169</td>\n",
       "      <td>8.601549</td>\n",
       "      <td>9.621358</td>\n",
       "      <td>8.769579</td>\n",
       "      <td>8.456629</td>\n",
       "      <td>7.474558</td>\n",
       "      <td>8.417561</td>\n",
       "      <td>6.104497</td>\n",
       "      <td>5.667736</td>\n",
       "      <td>9.560289</td>\n",
       "    </tr>\n",
       "    <tr>\n",
       "      <th>2</th>\n",
       "      <td>3</td>\n",
       "      <td>6.395808</td>\n",
       "      <td>12.109947</td>\n",
       "      <td>6.009650</td>\n",
       "      <td>9.937863</td>\n",
       "      <td>3.866721</td>\n",
       "      <td>5.789442</td>\n",
       "      <td>0.000000</td>\n",
       "      <td>4.776288</td>\n",
       "      <td>5.291245</td>\n",
       "      <td>...</td>\n",
       "      <td>11.166194</td>\n",
       "      <td>7.013285</td>\n",
       "      <td>9.761605</td>\n",
       "      <td>9.649581</td>\n",
       "      <td>8.391347</td>\n",
       "      <td>3.629759</td>\n",
       "      <td>7.841489</td>\n",
       "      <td>8.009047</td>\n",
       "      <td>5.725878</td>\n",
       "      <td>10.737478</td>\n",
       "    </tr>\n",
       "    <tr>\n",
       "      <th>3</th>\n",
       "      <td>4</td>\n",
       "      <td>6.366865</td>\n",
       "      <td>11.992996</td>\n",
       "      <td>6.131477</td>\n",
       "      <td>9.838573</td>\n",
       "      <td>3.666917</td>\n",
       "      <td>5.496674</td>\n",
       "      <td>0.377771</td>\n",
       "      <td>4.659630</td>\n",
       "      <td>5.366084</td>\n",
       "      <td>...</td>\n",
       "      <td>11.030617</td>\n",
       "      <td>7.078497</td>\n",
       "      <td>9.706964</td>\n",
       "      <td>9.746059</td>\n",
       "      <td>8.180204</td>\n",
       "      <td>4.538549</td>\n",
       "      <td>7.754378</td>\n",
       "      <td>8.172509</td>\n",
       "      <td>5.470773</td>\n",
       "      <td>10.788613</td>\n",
       "    </tr>\n",
       "    <tr>\n",
       "      <th>4</th>\n",
       "      <td>5</td>\n",
       "      <td>7.315204</td>\n",
       "      <td>10.569824</td>\n",
       "      <td>5.158324</td>\n",
       "      <td>11.272986</td>\n",
       "      <td>6.146377</td>\n",
       "      <td>5.275278</td>\n",
       "      <td>0.190837</td>\n",
       "      <td>4.332369</td>\n",
       "      <td>4.786446</td>\n",
       "      <td>...</td>\n",
       "      <td>11.423517</td>\n",
       "      <td>9.878379</td>\n",
       "      <td>9.692445</td>\n",
       "      <td>8.226875</td>\n",
       "      <td>8.142990</td>\n",
       "      <td>7.147757</td>\n",
       "      <td>7.979421</td>\n",
       "      <td>6.161353</td>\n",
       "      <td>5.738662</td>\n",
       "      <td>9.470079</td>\n",
       "    </tr>\n",
       "  </tbody>\n",
       "</table>\n",
       "<p>5 rows × 45 columns</p>\n",
       "</div>"
      ],
      "text/plain": [
       "   Unnamed: 0       cra       aceE      phoB       cyoA      amtB      appY  \\\n",
       "0           1  7.697991  10.651307  5.599989  11.254009  5.128441  5.919468   \n",
       "1           2  7.581105  10.761484  5.746619  11.431429  5.614179  5.628823   \n",
       "2           3  6.395808  12.109947  6.009650   9.937863  3.866721  5.789442   \n",
       "3           4  6.366865  11.992996  6.131477   9.838573  3.666917  5.496674   \n",
       "4           5  7.315204  10.569824  5.158324  11.272986  6.146377  5.275278   \n",
       "\n",
       "       citC      dpiB      dpiA  ...        mdh       fis       crp      rpoH  \\\n",
       "0  0.000000  4.323397  4.761679  ...  11.745289  8.936196  9.666416  8.725102   \n",
       "1  0.000000  4.706430  4.930888  ...  11.843169  8.601549  9.621358  8.769579   \n",
       "2  0.000000  4.776288  5.291245  ...  11.166194  7.013285  9.761605  9.649581   \n",
       "3  0.377771  4.659630  5.366084  ...  11.030617  7.078497  9.706964  9.746059   \n",
       "4  0.190837  4.332369  4.786446  ...  11.423517  9.878379  9.692445  8.226875   \n",
       "\n",
       "       gadX      cspA      oxyR      soxS      dcuR       arcA  \n",
       "0  8.614542  7.743336  8.209081  6.230069  5.752131   9.547993  \n",
       "1  8.456629  7.474558  8.417561  6.104497  5.667736   9.560289  \n",
       "2  8.391347  3.629759  7.841489  8.009047  5.725878  10.737478  \n",
       "3  8.180204  4.538549  7.754378  8.172509  5.470773  10.788613  \n",
       "4  8.142990  7.147757  7.979421  6.161353  5.738662   9.470079  \n",
       "\n",
       "[5 rows x 45 columns]"
      ]
     },
     "execution_count": 4,
     "metadata": {},
     "output_type": "execute_result"
    }
   ],
   "source": [
    "data = load_ecoli_obs()\n",
    "data.head()"
   ]
  },
  {
   "cell_type": "markdown",
   "id": "3cb336afa4c23502",
   "metadata": {
    "collapsed": false
   },
   "source": [
    "## Step 1: Verify correctness of the network structure"
   ]
  },
  {
   "cell_type": "markdown",
   "id": "dd9954532ad35474",
   "metadata": {
    "collapsed": false
   },
   "source": [
    "The total number of d-separations implied by this network is large. It takes several hours to find all of them and test them against data. On the other hand, High-dimensional conditional independence tests can be very unreliable. Hence, it is best to control number of variables to condition upon. Here we selected 3. However, the default in this function is 5. Even with max_given equal to 3, it takes around an hour to produce the results."
   ]
  },
  {
   "cell_type": "code",
   "execution_count": 5,
   "id": "946fd227c4da088d",
   "metadata": {
    "ExecuteTime": {
     "start_time": "2024-01-18T16:03:06.113484700Z"
    },
    "collapsed": false,
    "is_executing": true
   },
   "outputs": [
    {
     "data": {
      "application/vnd.jupyter.widget-view+json": {
       "model_id": "baaa18784d91434fad5d0547bde7701e",
       "version_major": 2,
       "version_minor": 0
      },
      "text/plain": [
       "Checking d-separations:   0%|          | 0/946 [00:00<?, ?pair/s]"
      ]
     },
     "metadata": {},
     "output_type": "display_data"
    },
    {
     "data": {
      "application/vnd.jupyter.widget-view+json": {
       "model_id": "84becbd37dad464387214065f5092efb",
       "version_major": 2,
       "version_minor": 0
      },
      "text/plain": [
       "Checking conditionals:   0%|          | 0/498 [00:00<?, ?it/s]"
      ]
     },
     "metadata": {},
     "output_type": "display_data"
    },
    {
     "name": "stdout",
     "output_type": "stream",
     "text": [
      "Of the 498 d-separations implied by the network's structure, 199 (39.96%) rejected the null hypothesis at p<0.01.\n",
      "\n",
      "Since this is more than 30%, Eliater considers this a major inconsistency and therefore suggests adding appropriate bidirected edges using the eliater.add_ci_undirected_edges() function.\n",
      "\n",
      "Finished in 428.52 seconds.\n"
     ]
    },
    {
     "data": {
      "text/html": [
       "<div>\n",
       "<style scoped>\n",
       "    .dataframe tbody tr th:only-of-type {\n",
       "        vertical-align: middle;\n",
       "    }\n",
       "\n",
       "    .dataframe tbody tr th {\n",
       "        vertical-align: top;\n",
       "    }\n",
       "\n",
       "    .dataframe thead th {\n",
       "        text-align: right;\n",
       "    }\n",
       "</style>\n",
       "<table border=\"1\" class=\"dataframe\">\n",
       "  <thead>\n",
       "    <tr style=\"text-align: right;\">\n",
       "      <th></th>\n",
       "      <th>left</th>\n",
       "      <th>right</th>\n",
       "      <th>given</th>\n",
       "      <th>stats</th>\n",
       "      <th>p</th>\n",
       "      <th>dof</th>\n",
       "      <th>p_adj</th>\n",
       "      <th>p_adj_significant</th>\n",
       "    </tr>\n",
       "  </thead>\n",
       "  <tbody>\n",
       "    <tr>\n",
       "      <th>0</th>\n",
       "      <td>appA</td>\n",
       "      <td>appB</td>\n",
       "      <td>appY</td>\n",
       "      <td>0.899419</td>\n",
       "      <td>5.350841e-94</td>\n",
       "      <td>None</td>\n",
       "      <td>2.664719e-91</td>\n",
       "      <td>True</td>\n",
       "    </tr>\n",
       "    <tr>\n",
       "      <th>1</th>\n",
       "      <td>appA</td>\n",
       "      <td>narL</td>\n",
       "      <td>appY</td>\n",
       "      <td>0.838726</td>\n",
       "      <td>1.583492e-69</td>\n",
       "      <td>None</td>\n",
       "      <td>7.869955e-67</td>\n",
       "      <td>True</td>\n",
       "    </tr>\n",
       "    <tr>\n",
       "      <th>2</th>\n",
       "      <td>appA</td>\n",
       "      <td>arcA</td>\n",
       "      <td>appY</td>\n",
       "      <td>0.833926</td>\n",
       "      <td>4.864309e-68</td>\n",
       "      <td>None</td>\n",
       "      <td>2.412698e-65</td>\n",
       "      <td>True</td>\n",
       "    </tr>\n",
       "    <tr>\n",
       "      <th>3</th>\n",
       "      <td>appA</td>\n",
       "      <td>rpoS</td>\n",
       "      <td>appY</td>\n",
       "      <td>0.832139</td>\n",
       "      <td>1.693584e-67</td>\n",
       "      <td>None</td>\n",
       "      <td>8.383241e-65</td>\n",
       "      <td>True</td>\n",
       "    </tr>\n",
       "    <tr>\n",
       "      <th>4</th>\n",
       "      <td>appA</td>\n",
       "      <td>soxS</td>\n",
       "      <td>appY</td>\n",
       "      <td>0.818907</td>\n",
       "      <td>1.123410e-63</td>\n",
       "      <td>None</td>\n",
       "      <td>5.549644e-61</td>\n",
       "      <td>True</td>\n",
       "    </tr>\n",
       "    <tr>\n",
       "      <th>...</th>\n",
       "      <td>...</td>\n",
       "      <td>...</td>\n",
       "      <td>...</td>\n",
       "      <td>...</td>\n",
       "      <td>...</td>\n",
       "      <td>...</td>\n",
       "      <td>...</td>\n",
       "      <td>...</td>\n",
       "    </tr>\n",
       "    <tr>\n",
       "      <th>493</th>\n",
       "      <td>dpiA</td>\n",
       "      <td>fis</td>\n",
       "      <td>crp|rpoD</td>\n",
       "      <td>0.025810</td>\n",
       "      <td>6.798863e-01</td>\n",
       "      <td>None</td>\n",
       "      <td>1.000000e+00</td>\n",
       "      <td>False</td>\n",
       "    </tr>\n",
       "    <tr>\n",
       "      <th>494</th>\n",
       "      <td>appB</td>\n",
       "      <td>hcp</td>\n",
       "      <td>appY</td>\n",
       "      <td>0.050258</td>\n",
       "      <td>4.214798e-01</td>\n",
       "      <td>None</td>\n",
       "      <td>1.000000e+00</td>\n",
       "      <td>False</td>\n",
       "    </tr>\n",
       "    <tr>\n",
       "      <th>495</th>\n",
       "      <td>citC</td>\n",
       "      <td>gadX</td>\n",
       "      <td>dpiA</td>\n",
       "      <td>0.106558</td>\n",
       "      <td>8.761123e-02</td>\n",
       "      <td>None</td>\n",
       "      <td>1.000000e+00</td>\n",
       "      <td>False</td>\n",
       "    </tr>\n",
       "    <tr>\n",
       "      <th>496</th>\n",
       "      <td>btsR</td>\n",
       "      <td>iscR</td>\n",
       "      <td></td>\n",
       "      <td>0.043681</td>\n",
       "      <td>4.848332e-01</td>\n",
       "      <td>None</td>\n",
       "      <td>1.000000e+00</td>\n",
       "      <td>False</td>\n",
       "    </tr>\n",
       "    <tr>\n",
       "      <th>497</th>\n",
       "      <td>btsR</td>\n",
       "      <td>crp</td>\n",
       "      <td></td>\n",
       "      <td>0.105609</td>\n",
       "      <td>9.048806e-02</td>\n",
       "      <td>None</td>\n",
       "      <td>1.000000e+00</td>\n",
       "      <td>False</td>\n",
       "    </tr>\n",
       "  </tbody>\n",
       "</table>\n",
       "<p>498 rows × 8 columns</p>\n",
       "</div>"
      ],
      "text/plain": [
       "     left right     given     stats             p   dof         p_adj  \\\n",
       "0    appA  appB      appY  0.899419  5.350841e-94  None  2.664719e-91   \n",
       "1    appA  narL      appY  0.838726  1.583492e-69  None  7.869955e-67   \n",
       "2    appA  arcA      appY  0.833926  4.864309e-68  None  2.412698e-65   \n",
       "3    appA  rpoS      appY  0.832139  1.693584e-67  None  8.383241e-65   \n",
       "4    appA  soxS      appY  0.818907  1.123410e-63  None  5.549644e-61   \n",
       "..    ...   ...       ...       ...           ...   ...           ...   \n",
       "493  dpiA   fis  crp|rpoD  0.025810  6.798863e-01  None  1.000000e+00   \n",
       "494  appB   hcp      appY  0.050258  4.214798e-01  None  1.000000e+00   \n",
       "495  citC  gadX      dpiA  0.106558  8.761123e-02  None  1.000000e+00   \n",
       "496  btsR  iscR            0.043681  4.848332e-01  None  1.000000e+00   \n",
       "497  btsR   crp            0.105609  9.048806e-02  None  1.000000e+00   \n",
       "\n",
       "     p_adj_significant  \n",
       "0                 True  \n",
       "1                 True  \n",
       "2                 True  \n",
       "3                 True  \n",
       "4                 True  \n",
       "..                 ...  \n",
       "493              False  \n",
       "494              False  \n",
       "495              False  \n",
       "496              False  \n",
       "497              False  \n",
       "\n",
       "[498 rows x 8 columns]"
      ]
     },
     "execution_count": 5,
     "metadata": {},
     "output_type": "execute_result"
    }
   ],
   "source": [
    "print_graph_falsifications(\n",
    "    graph,\n",
    "    data,\n",
    "    max_given=3,\n",
    "    method=\"pearson\",\n",
    "    verbose=True,\n",
    "    significance_level=0.01,\n",
    "    show_progress=True,\n",
    ")"
   ]
  },
  {
   "cell_type": "markdown",
   "id": "de84acea8401aa82",
   "metadata": {
    "collapsed": false
   },
   "source": [
    "## Step 2: Check query identifiability"
   ]
  },
  {
   "cell_type": "code",
   "execution_count": 6,
   "id": "9db1518afcea7377",
   "metadata": {
    "ExecuteTime": {
     "end_time": "2024-01-18T15:49:06.598133800Z",
     "start_time": "2024-01-18T15:49:06.565276800Z"
    },
    "collapsed": false
   },
   "outputs": [
    {
     "data": {
      "text/latex": [
       "$\\sum\\limits_{arcA, crp, dcuR, fnr, ihfA, ihfB, modE, narL, rpoD, rpoS} P(arcA | rpoD) P(crp | arcA, ihfA, rpoD, rpoS) P(dcuR | arcA, crp, fnr, fur, ihfA, ihfB, lrp, modE, narL, oxyR, rpoD, rpoS, soxS) P(dpiA | arcA, crp, dcuR, fnr, fur, ihfA, ihfB, lrp, modE, narL, oxyR, rpoD, rpoS, soxS) P(fnr | arcA, crp, fur, ihfA, ihfB, lrp, oxyR, rpoD, rpoS, soxS) P(ihfA | arcA, rpoD, rpoS) P(ihfB | arcA, ihfA, rpoD, rpoS) P(narL | arcA, crp, fnr, fur, ihfA, ihfB, lrp, modE, oxyR, rpoD, rpoS, soxS) P(rpoS | arcA, rpoD) \\sum\\limits_{arcA, crp, dcuR, dpiA, fnr, fur, ihfA, ihfB, lrp, narL, oxyR, rpoD, rpoS, soxS} \\sum\\limits_{aceE, amtB, appA, appB, appY, aspC, btsR, cirA, citC, cra, cspA, cydD, cyoA, dpiB, exuT, fis, gadX, gutM, hcp, hns, hyaA, hyaB, hyaF, iscR, mdh, narP, phoB, rpoH, ydeO} P(aceE, amtB, appA, appB, appY, arcA, aspC, btsR, cirA, citC, cra, crp, cspA, cydD, cyoA, dcuR, dpiA, dpiB, exuT, fis, fnr, fur, gadX, gutM, hcp, hns, hyaA, hyaB, hyaF, ihfA, ihfB, iscR, lrp, mdh, modE, narL, narP, oxyR, phoB, rpoD, rpoH, rpoS, soxS, ydeO) \\sum\\limits_{arcA, crp, dcuR, dpiA, fnr, fur, ihfA, ihfB, lrp, modE, narL, oxyR, rpoS, soxS} \\sum\\limits_{aceE, amtB, appA, appB, appY, aspC, btsR, cirA, citC, cra, cspA, cydD, cyoA, dpiB, exuT, fis, gadX, gutM, hcp, hns, hyaA, hyaB, hyaF, iscR, mdh, narP, phoB, rpoH, ydeO} P(aceE, amtB, appA, appB, appY, arcA, aspC, btsR, cirA, citC, cra, crp, cspA, cydD, cyoA, dcuR, dpiA, dpiB, exuT, fis, fnr, fur, gadX, gutM, hcp, hns, hyaA, hyaB, hyaF, ihfA, ihfB, iscR, lrp, mdh, modE, narL, narP, oxyR, phoB, rpoD, rpoH, rpoS, soxS, ydeO)$"
      ],
      "text/plain": [
       "Sum[arcA, crp, dcuR, fnr, ihfA, ihfB, modE, narL, rpoD, rpoS](P(arcA | rpoD) * P(crp | arcA, ihfA, rpoD, rpoS) * P(dcuR | arcA, crp, fnr, fur, ihfA, ihfB, lrp, modE, narL, oxyR, rpoD, rpoS, soxS) * P(dpiA | arcA, crp, dcuR, fnr, fur, ihfA, ihfB, lrp, modE, narL, oxyR, rpoD, rpoS, soxS) * P(fnr | arcA, crp, fur, ihfA, ihfB, lrp, oxyR, rpoD, rpoS, soxS) * P(ihfA | arcA, rpoD, rpoS) * P(ihfB | arcA, ihfA, rpoD, rpoS) * P(narL | arcA, crp, fnr, fur, ihfA, ihfB, lrp, modE, oxyR, rpoD, rpoS, soxS) * P(rpoS | arcA, rpoD) * Sum[arcA, crp, dcuR, dpiA, fnr, fur, ihfA, ihfB, lrp, narL, oxyR, rpoD, rpoS, soxS](Sum[aceE, amtB, appA, appB, appY, aspC, btsR, cirA, citC, cra, cspA, cydD, cyoA, dpiB, exuT, fis, gadX, gutM, hcp, hns, hyaA, hyaB, hyaF, iscR, mdh, narP, phoB, rpoH, ydeO](P(aceE, amtB, appA, appB, appY, arcA, aspC, btsR, cirA, citC, cra, crp, cspA, cydD, cyoA, dcuR, dpiA, dpiB, exuT, fis, fnr, fur, gadX, gutM, hcp, hns, hyaA, hyaB, hyaF, ihfA, ihfB, iscR, lrp, mdh, modE, narL, narP, oxyR, phoB, rpoD, rpoH, rpoS, soxS, ydeO))) * Sum[arcA, crp, dcuR, dpiA, fnr, fur, ihfA, ihfB, lrp, modE, narL, oxyR, rpoS, soxS](Sum[aceE, amtB, appA, appB, appY, aspC, btsR, cirA, citC, cra, cspA, cydD, cyoA, dpiB, exuT, fis, gadX, gutM, hcp, hns, hyaA, hyaB, hyaF, iscR, mdh, narP, phoB, rpoH, ydeO](P(aceE, amtB, appA, appB, appY, arcA, aspC, btsR, cirA, citC, cra, crp, cspA, cydD, cyoA, dcuR, dpiA, dpiB, exuT, fis, fnr, fur, gadX, gutM, hcp, hns, hyaA, hyaB, hyaF, ihfA, ihfB, iscR, lrp, mdh, modE, narL, narP, oxyR, phoB, rpoD, rpoH, rpoS, soxS, ydeO))))"
      ]
     },
     "execution_count": 6,
     "metadata": {},
     "output_type": "execute_result"
    }
   ],
   "source": [
    "identify_outcomes(graph=graph, treatments=treatment, outcomes=outcome)"
   ]
  },
  {
   "cell_type": "markdown",
   "id": "4abeb139d356f07c",
   "metadata": {
    "collapsed": false
   },
   "source": [
    "The query is identifiable. Hence, we can proceed to the next step."
   ]
  },
  {
   "cell_type": "markdown",
   "id": "c61266793a90058b",
   "metadata": {
    "collapsed": false
   },
   "source": [
    "## Step 3: Find nuisance variables and mark them as latent"
   ]
  },
  {
   "cell_type": "markdown",
   "id": "55c4bfe949593a4a",
   "metadata": {
    "collapsed": false
   },
   "source": [
    "This function finds the nuisance variables for the input graph."
   ]
  },
  {
   "cell_type": "code",
   "execution_count": 7,
   "id": "80a72ccd9a8ce726",
   "metadata": {
    "ExecuteTime": {
     "end_time": "2024-01-18T15:49:09.920296900Z",
     "start_time": "2024-01-18T15:49:09.890834200Z"
    },
    "collapsed": false
   },
   "outputs": [
    {
     "name": "stdout",
     "output_type": "stream",
     "text": [
      "21 nuisance variables were found\n"
     ]
    },
    {
     "data": {
      "text/plain": [
       "[aceE,\n",
       " amtB,\n",
       " appA,\n",
       " appB,\n",
       " appY,\n",
       " aspC,\n",
       " cirA,\n",
       " citC,\n",
       " cydD,\n",
       " cyoA,\n",
       " dpiB,\n",
       " exuT,\n",
       " gadX,\n",
       " gutM,\n",
       " hcp,\n",
       " hns,\n",
       " hyaA,\n",
       " hyaB,\n",
       " hyaF,\n",
       " mdh,\n",
       " ydeO]"
      ]
     },
     "execution_count": 7,
     "metadata": {},
     "output_type": "execute_result"
    }
   ],
   "source": [
    "nuisance_variables = find_nuisance_variables(graph, treatments=treatment, outcomes=outcome)\n",
    "print(f\"{len(nuisance_variables)} nuisance variables were found\")\n",
    "sorted(nuisance_variables)"
   ]
  },
  {
   "cell_type": "markdown",
   "id": "a10322ec91a50588",
   "metadata": {
    "collapsed": false
   },
   "source": [
    "## Step 4: Simplify the network"
   ]
  },
  {
   "cell_type": "markdown",
   "id": "62b5c7bd4d5db516",
   "metadata": {
    "collapsed": false
   },
   "source": [
    "The following function find the nuisance variable (step 3), marks them as latent and then applies Evan's simplification rules to remove the nuisance variables."
   ]
  },
  {
   "cell_type": "code",
   "execution_count": 8,
   "id": "213d620224db3470",
   "metadata": {
    "ExecuteTime": {
     "end_time": "2024-01-18T15:49:14.496076400Z",
     "start_time": "2024-01-18T15:49:14.452122800Z"
    },
    "collapsed": false
   },
   "outputs": [
    {
     "data": {
      "image/png": "[encoded data removed]",
      "text/plain": [
       "<Figure size 640x480 with 1 Axes>"
      ]
     },
     "metadata": {},
     "output_type": "display_data"
    }
   ],
   "source": [
    "new_graph = remove_nuisance_variables(graph, treatments=treatment, outcomes=outcome)\n",
    "new_graph.draw()"
   ]
  },
  {
   "cell_type": "markdown",
   "id": "b281730e7c585e8",
   "metadata": {
    "collapsed": false
   },
   "source": [
    "## Step 5: Estimate the query"
   ]
  },
  {
   "cell_type": "code",
   "execution_count": 9,
   "id": "d325cc3463fc975c",
   "metadata": {
    "ExecuteTime": {
     "end_time": "2024-01-18T15:49:25.923745600Z",
     "start_time": "2024-01-18T15:49:23.487772600Z"
    },
    "collapsed": false
   },
   "outputs": [
    {
     "data": {
      "text/plain": [
       "RegressionResult(coefficients={crp: 0.2699805512369562, fur: 0.08136782815354308, lrp: 0.20910106148203042, oxyR: -0.023609523657045734, rpoD: 0.2393154368401349}, intercept=-2.7968549074150033)"
      ]
     },
     "execution_count": 9,
     "metadata": {},
     "output_type": "execute_result"
    }
   ],
   "source": [
    "fit_regression(new_graph, data, treatments=treatment, outcome=outcome)"
   ]
  },
  {
   "cell_type": "code",
   "execution_count": 10,
   "id": "68423679d7276d84",
   "metadata": {
    "ExecuteTime": {
     "end_time": "2024-01-18T15:49:29.058593400Z",
     "start_time": "2024-01-18T15:49:26.957634300Z"
    },
    "collapsed": false
   },
   "outputs": [
    {
     "data": {
      "text/plain": [
       "4.074327478157826"
      ]
     },
     "execution_count": 10,
     "metadata": {},
     "output_type": "execute_result"
    }
   ],
   "source": [
    "estimate_query(\n",
    "    new_graph,\n",
    "    data,\n",
    "    treatments=treatment,\n",
    "    outcome=outcome,\n",
    "    interventions={treatment: 0},\n",
    "    query_type=\"expected_value\",\n",
    ")"
   ]
  },
  {
   "cell_type": "markdown",
   "id": "e449c77f481e1f91",
   "metadata": {
    "collapsed": false
   },
   "source": [
    "The estimated value for the query $\\mathbb{E}[\\text{dpiA} \\mid \\text{fur} = 0]$ is 4.07. This shows that perturbation of gene fur has an increasing effect on gene dpiA."
   ]
  },
  {
   "cell_type": "code",
   "execution_count": 11,
   "id": "19f7320d83fafa13",
   "metadata": {
    "ExecuteTime": {
     "end_time": "2024-01-18T15:49:42.753527600Z",
     "start_time": "2024-01-18T15:49:40.762997400Z"
    },
    "collapsed": false
   },
   "outputs": [
    {
     "data": {
      "text/plain": [
       "SummaryStatistics(size=258.0, mean=4.074327478157826, std=0.16183613278879422, min=3.6488141980278934, first_quartile=3.9595561559493286, second_quartile=4.0790513115584375, third_quartile=4.148437440188557, max=4.571693863329816)"
      ]
     },
     "execution_count": 11,
     "metadata": {},
     "output_type": "execute_result"
    }
   ],
   "source": [
    "summary_statistics(\n",
    "    new_graph,\n",
    "    data,\n",
    "    treatments=treatment,\n",
    "    outcome=outcome,\n",
    "    interventions={treatment: 0},\n",
    ")"
   ]
  },
  {
   "cell_type": "markdown",
   "id": "428340f469b57d6b",
   "metadata": {
    "collapsed": false
   },
   "source": [
    "The summary statistics provides more details regarding the query in the form of $P(\\text{dpiA} \\mid \\text{fur}=0)$. This result can be used to generate box plots that shows the estimated distribution of dpiA given a perturbation on fur."
   ]
  },
  {
   "cell_type": "markdown",
   "id": "b1074b0af5438b98",
   "metadata": {
    "collapsed": false
   },
   "source": [
    "## Evaluation criterion\n",
    "The PRECISE database that the observational data was retrieved from included an interventional experiment with the value of fur set to zero, and three biological replicates. Hence, the ground truth for the query $\\mathbb{E}[\\text{dpiA} \\mid \\text{fur} = 0]$ was the mean expression of dpiA over the three replicates, resulted in 4.9.\n",
    "\n",
    "The estimated value for the query (4.41) is close in sign and magnitude to the\n",
    "value of 4.9 obtained from the experimental interventional data."
   ]
  },
  {
   "cell_type": "code",
   "execution_count": 9,
   "outputs": [
    {
     "data": {
      "text/plain": "-0.16938775510204082"
     },
     "execution_count": 9,
     "metadata": {},
     "output_type": "execute_result"
    }
   ],
   "source": [
    "(4.07 - 4.9)/4.9"
   ],
   "metadata": {
    "collapsed": false,
    "ExecuteTime": {
     "end_time": "2024-01-20T14:21:00.466315Z",
     "start_time": "2024-01-20T14:21:00.439125Z"
    }
   },
   "id": "7fd5c2b13fec2963"
  },
  {
   "cell_type": "code",
   "execution_count": 12,
   "id": "a7b310ea840d336c",
   "metadata": {
    "ExecuteTime": {
     "end_time": "2024-01-18T16:02:03.818715200Z",
     "start_time": "2024-01-18T16:02:01.648965Z"
    },
    "collapsed": false
   },
   "outputs": [
    {
     "data": {
      "image/png": "[encoded data removed]",
      "text/plain": [
       "<Figure size 640x480 with 1 Axes>"
      ]
     },
     "metadata": {},
     "output_type": "display_data"
    }
   ],
   "source": [
    "x = estimate_query(\n",
    "    new_graph,\n",
    "    data,\n",
    "    treatments=treatment,\n",
    "    outcome=outcome,\n",
    "    interventions={treatment: 0},\n",
    "    query_type=\"probability\",\n",
    ")\n",
    "ax = sns.boxplot(x=x)\n",
    "ax.axvline(x=4.9, label=\"True expected value\")\n",
    "ax.legend()\n",
    "ax.set(xlabel=\"Probability\", title=\"Estimated outcome probability distribution\")\n",
    "plt.show()"
   ]
  }
 ],
 "metadata": {
  "kernelspec": {
   "display_name": "Python 3 (ipykernel)",
   "language": "python",
   "name": "python3"
  },
  "language_info": {
   "codemirror_mode": {
    "name": "ipython",
    "version": 3
   },
   "file_extension": ".py",
   "mimetype": "text/x-python",
   "name": "python",
   "nbconvert_exporter": "python",
   "pygments_lexer": "ipython3",
   "version": "3.11.6"
  }
 },
 "nbformat": 4,
 "nbformat_minor": 5
}
