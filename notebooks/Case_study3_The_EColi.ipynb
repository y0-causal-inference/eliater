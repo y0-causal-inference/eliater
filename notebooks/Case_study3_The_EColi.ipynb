{
 "cells": [
  {
   "cell_type": "markdown",
   "source": [
    "# Case study 3: The Escherichia coli K-12 transcriptional motif"
   ],
   "metadata": {
    "collapsed": false
   },
   "id": "a618fea7cca96207"
  },
  {
   "cell_type": "code",
   "execution_count": 1,
   "outputs": [],
   "source": [
    "# from eliater.network_validation import conditional_independence_test_summary\n",
    "import pandas as pd\n",
    "from y0.dsl import Variable\n",
    "from y0.graph import NxMixedGraph\n"
   ],
   "metadata": {
    "collapsed": false,
    "ExecuteTime": {
     "end_time": "2023-11-08T01:57:17.661795Z",
     "start_time": "2023-11-08T01:57:16.015833Z"
    }
   },
   "id": "ff81802acad24326"
  },
  {
   "cell_type": "markdown",
   "source": [
    "This is case study 3 in Figure 7 in this paper: Eliater: an analytical workflow and open source implementation for causal query estimation in biomolecular networks."
   ],
   "metadata": {
    "collapsed": false
   },
   "id": "a0cedf172ad6ad7b"
  },
  {
   "cell_type": "code",
   "execution_count": 23,
   "id": "initial_id",
   "metadata": {
    "collapsed": true,
    "ExecuteTime": {
     "end_time": "2023-11-08T19:06:12.947655Z",
     "start_time": "2023-11-08T19:06:12.881374Z"
    }
   },
   "outputs": [],
   "source": [
    "graph = NxMixedGraph.from_str_adj(\n",
    "    directed={\n",
    "        \"appY\": [\"appA\", \"appB\", \"appX\", \"hyaA\", \"hyaB\", \"hyaF\"],\n",
    "        \"arcA\": [\n",
    "            \"rpoS\",\n",
    "            \"fnr\",\n",
    "            \"dpiA\",\n",
    "            \"aceE\",\n",
    "            \"appY\",\n",
    "            \"dpiB\",\n",
    "            \"cydD\",\n",
    "            \"gcvB\",\n",
    "            \"hyaA\",\n",
    "            \"hyaB\",\n",
    "            \"hyaF\",\n",
    "            \"mdh\",\n",
    "            \"lrp\",\n",
    "            \"ydeO\",\n",
    "            \"oxyR\",  \n",
    "        ],\n",
    "        \"btsR\": [\"mdh\"],\n",
    "        \"cra\": [\"cyoA\"],\n",
    "        \"crp\": [\n",
    "            \"dpiA\",\n",
    "            \"cirA\",\n",
    "            \"dcuR\",\n",
    "            \"oxyR\",\n",
    "            \"fis\",\n",
    "            \"fur\",\n",
    "            \"aceE\",\n",
    "            \"dpiB\",\n",
    "            \"cyoA\",\n",
    "            \"exuT\",\n",
    "            \"gadX\",\n",
    "            \"mdh\",\n",
    "            \"gutM\"\n",
    "        ],\n",
    "        \"cspA\": [\"hns\"],\n",
    "        \"dcuR\": [\"dpiA\", \"dpiB\"],\n",
    "        \"dpiA\": [\"appY\", \"citC\", \"citD\", \"dpiB\", \"exuT\", \"mdh\"],\n",
    "        \"fis\": [\"cyoA\", \"gadX\", \"hns\", \"hyaA\", \"hyaB\", \"hyaF\"],\n",
    "        \"fnr\": [\n",
    "            \"dcuR\",\n",
    "            \"dpiA\",\n",
    "            \"narL\",\n",
    "            \"aceE\",\n",
    "            \"amtB\",\n",
    "            \"aspC\",\n",
    "            \"dpiB\",\n",
    "            \"cydD\",\n",
    "            \"cyoA\",\n",
    "            \"gadX\",\n",
    "            \"hcp\",\n",
    "        ],\n",
    "        \"fur\": [\"fnr\", \"amtB\", \"aspC\", \"cirA\", \"cyoA\"],\n",
    "        \"gadX\": [\"amtB\", \"hns\"],\n",
    "        \"gcvB\": [\"lrp\", \"oxyR\", \"ydeO\"],\n",
    "        \"hns\": [\"appY\", \"ydeO\", \"gutM\"],\n",
    "        \"ihfA\": [\"crp\", \"fnr\", \"ihfB\"],\n",
    "        \"ihfB\": [\"fnr\"],\n",
    "        \"iscR\": [\"hyaA\", \"hyaB\", \"appX\"],\n",
    "        \"lrp\": [\"soxS\", \"aspC\"],\n",
    "        \"modE\": [\"narL\"],\n",
    "        \"narL\": [\"dpiB\", \"cydD\", \"hcp\", \"hyaA\", \"hyaB\", \"hyaF\", \"dcuR\", \"dpiA\"],\n",
    "        \"narP\": [\"hyaA\", \"hyaB\", \"hyaF\"],\n",
    "        \"oxyR\": [\"fur\", \"hcp\"],\n",
    "        \"phoB\": [\"cra\"],\n",
    "        \"rpoD\": [\n",
    "            \"arcA\",\n",
    "            \"cirA\",\n",
    "            \"crp\",\n",
    "            \"dcuR\",\n",
    "            \"fis\",\n",
    "            \"fnr\",\n",
    "            \"fur\",\n",
    "            \"ihfB\",\n",
    "            \"lrp\",\n",
    "            \"narL\",\n",
    "            \"oxyR\",\n",
    "            \"phoB\",\n",
    "            \"rpoS\",\n",
    "            \"soxS\",\n",
    "            \"aceE\",\n",
    "            \"ydeO\",\n",
    "            \"hns\",\n",
    "        ],\n",
    "        \"rpoH\": [\"cra\"],\n",
    "        \"rpoS\": [\"aceE\", \"appY\", \"hyaA\", \"hyaB\", \"hyaF\", \"ihfA\", \"ihfB\", \"oxyR\"],\n",
    "        \"soxS\": [\"fur\"],\n",
    "        \"ydeO\": [\"hyaA\", \"hyaF\", \"hyaB\"],\n",
    "    },\n",
    "    undirected={\n",
    "        \"dpiA\": [\"dpiB\"],\n",
    "        \"hns\": [\"rpoS\", \"lrp\"],\n",
    "        \"rpoS\": [\"lrp\"],\n",
    "        \"lrp\": [\"ydeO\", \"oxyR\"],\n",
    "        \"oxyR\": [\"ydeO\"]\n",
    "    },\n",
    ")"
   ]
  },
  {
   "cell_type": "code",
   "execution_count": 4,
   "outputs": [],
   "source": [
    "# Get the data\n",
    "data = pd.read_csv(\n",
    "    \"~/Github/eliater/src/eliater/data/EColi_obs_data.csv\",\n",
    "    index_col=False,\n",
    ")"
   ],
   "metadata": {
    "collapsed": false,
    "ExecuteTime": {
     "end_time": "2023-11-08T02:23:50.411586Z",
     "start_time": "2023-11-08T02:23:50.304507Z"
    }
   },
   "id": "493dbce26b06565c"
  },
  {
   "cell_type": "markdown",
   "source": [
    "## Step 1: Verify correctness of the network structure"
   ],
   "metadata": {
    "collapsed": false
   },
   "id": "3cb336afa4c23502"
  },
  {
   "cell_type": "code",
   "execution_count": 11,
   "outputs": [],
   "source": [
    "#remove after branch is merged\n",
    "import logging\n",
    "from typing import Dict, Literal, Optional\n",
    "import pandas as pd\n",
    "\n",
    "from y0.algorithm.falsification import get_graph_falsifications\n",
    "from y0.dsl import Variable\n",
    "from y0.graph import NxMixedGraph\n",
    "from y0.struct import get_conditional_independence_tests\n",
    "\n",
    "logging.basicConfig(format=\"%(message)s\", level=logging.DEBUG)\n",
    "\n",
    "\n",
    "__all__ = [\n",
    "    \"conditional_independence_test_summary\",\n",
    "    \"validate_test\",\n",
    "    \"get_state_space_map\",\n",
    "    \"is_data_discrete\",\n",
    "    \"is_data_continuous\",\n",
    "    \"CITest\",\n",
    "    \"choose_default_test\",\n",
    "]\n",
    "\n",
    "TESTS = get_conditional_independence_tests()\n",
    "\n",
    "\n",
    "def get_state_space_map(\n",
    "    data: pd.DataFrame, threshold: Optional[int] = 10\n",
    ") -> Dict[Variable, Literal[\"discrete\", \"continuous\"]]:\n",
    "    \"\"\"Get a dictionary from each variable to its type.\n",
    "\n",
    "    :param data: the observed data\n",
    "    :param threshold: The threshold for determining a column as discrete\n",
    "        based on the number of unique values\n",
    "    :return: the mapping from column name to its type\n",
    "    \"\"\"\n",
    "    column_values_unique_count = {\n",
    "        column_name: data[column_name].nunique() for column_name in data.columns\n",
    "    }\n",
    "    return {\n",
    "        Variable(column): \"discrete\"\n",
    "        if column_values_unique_count[column] <= threshold\n",
    "        else \"continuous\"\n",
    "        for column in data.columns\n",
    "    }\n",
    "\n",
    "\n",
    "def is_data_discrete(data: pd.DataFrame) -> bool:\n",
    "    \"\"\"Check if all the columns in the dataframe has discrete data.\n",
    "\n",
    "    :param data: observational data.\n",
    "    :return: True, if all the columns have discrete data, False, otherwise\n",
    "    \"\"\"\n",
    "    variable_types = set(get_state_space_map(data=data).values())\n",
    "    return variable_types == {\"discrete\"}\n",
    "\n",
    "\n",
    "def is_data_continuous(data: pd.DataFrame) -> bool:\n",
    "    \"\"\"Check if all the columns in the dataframe has continuous data.\n",
    "\n",
    "    :param data: observational.\n",
    "    :return: True, if all the columns have continuous data, False, otherwise\n",
    "    \"\"\"\n",
    "    variable_types = set(get_state_space_map(data).values())\n",
    "    return variable_types == {\"continuous\"}\n",
    "\n",
    "\n",
    "# TODO replace with y0.struct.CITest\n",
    "CITest = Literal[\n",
    "    \"pearson\",\n",
    "    \"chi-square\",\n",
    "    \"cressie_read\",\n",
    "    \"freeman_tuckey\",\n",
    "    \"g_sq\",\n",
    "    \"log_likelihood\",\n",
    "    \"modified_log_likelihood\",\n",
    "    \"power_divergence\",\n",
    "    \"neyman\",\n",
    "]\n",
    "\n",
    "\n",
    "def choose_default_test(data: pd.DataFrame) -> CITest:\n",
    "    \"\"\"Choose the default statistical test for testing conditional independencies based on the data.\n",
    "\n",
    "    :param data: observational data.\n",
    "    :return: the default test based on data\n",
    "    :raises NotImplementedError: if data is of mixed type (contains both discrete and continuous columns)\n",
    "    \"\"\"\n",
    "    if is_data_discrete(data):\n",
    "        return \"chi-square\"\n",
    "    if is_data_continuous(data):\n",
    "        return \"pearson\"\n",
    "    raise NotImplementedError(\n",
    "        \"Mixed data types are not allowed. Either all of the columns of data should be discrete / continuous.\"\n",
    "    )\n",
    "\n",
    "\n",
    "def validate_test(\n",
    "    data: pd.DataFrame,\n",
    "    test: Optional[CITest],\n",
    ") -> None:\n",
    "    \"\"\"Validate the conditional independency test passed by the user.\n",
    "\n",
    "    :param data: observational data.\n",
    "    :param test: the conditional independency test passed by the user.\n",
    "    :raises ValueError: if the passed test is invalid / unsupported, pearson is used for discrete data or\n",
    "        chi-square is used for continuous data\n",
    "    \"\"\"\n",
    "    tests = get_conditional_independence_tests()\n",
    "    if test not in tests:\n",
    "        raise ValueError(f\"`{test}` is invalid. Supported CI tests are: {sorted(tests)}\")\n",
    "\n",
    "    if is_data_continuous(data) and test != \"pearson\":\n",
    "        raise ValueError(\n",
    "            \"The data is continuous. Either discretize and use chi-square or use the pearson.\"\n",
    "        )\n",
    "\n",
    "    if is_data_discrete(data) and test == \"pearson\":\n",
    "        raise ValueError(\"Cannot run pearson on discrete data. Use chi-square instead.\")\n",
    "\n",
    "\n",
    "def conditional_independence_test_summary(\n",
    "    graph: NxMixedGraph,\n",
    "    data: pd.DataFrame,\n",
    "    test: Optional[CITest] = None,\n",
    "    significance_level: Optional[float] = None,\n",
    "    verbose: Optional[bool] = False,\n",
    ") -> None:\n",
    "    \"\"\"Print the summary of conditional independency test results.\n",
    "\n",
    "    Prints the summary to the console, which includes the total number of conditional independence tests,\n",
    "    the number and percentage of failed tests, and statistical information about each test such as p-values,\n",
    "    and test results.\n",
    "\n",
    "    :param graph: an NxMixedGraph\n",
    "    :param data: observational data corresponding to the graph\n",
    "    :param test: the conditional independency test to use. If None, defaults to ``pearson`` for continuous data\n",
    "        and ``chi-square`` for discrete data.\n",
    "    :param significance_level: The statistical tests employ this value for\n",
    "        comparison with the p-value of the test to determine the independence of\n",
    "        the tested variables. If none, defaults to 0.01.\n",
    "    :param verbose: If `False`, only print the details of failed tests.\n",
    "        If 'True', print the details of all the conditional independency results. Defaults to `False`\n",
    "    :raises NotImplementedError: if data is of mixed type (contains both discrete and continuous columns)\n",
    "    \"\"\"\n",
    "    if significance_level is None:\n",
    "        significance_level = 0.01\n",
    "    if not test:\n",
    "        test = choose_default_test(data)\n",
    "    else:\n",
    "        # Validate test and data\n",
    "        validate_test(data=data, test=test)\n",
    "        if len(set(get_state_space_map(data).values())) > 1:\n",
    "            raise NotImplementedError(\n",
    "                \"Mixed data types are not allowed. Either all of the columns of data should be discrete / continuous.\"\n",
    "            )\n",
    "    test_results = get_graph_falsifications(\n",
    "        graph=graph, df=data, method=test, significance_level=significance_level\n",
    "    ).evidence\n",
    "    # Find the result based on p-value\n",
    "    test_results[\"result\"] = test_results[\"p\"].apply(\n",
    "        lambda p_value: \"fail\" if p_value < significance_level else \"pass\"\n",
    "    )\n",
    "    # Selecting columns of interest\n",
    "    test_results = test_results[[\"left\", \"right\", \"given\", \"p\", \"result\"]]\n",
    "    # Sorting the rows by index\n",
    "    test_results = test_results.sort_index()\n",
    "    test_results = test_results.rename(columns={\"p\": \"p-value\"})\n",
    "    failed_tests = test_results[test_results[\"result\"] == \"fail\"]\n",
    "    total_no_of_tests = len(test_results)\n",
    "    total_no_of_failed_tests = len(failed_tests)\n",
    "    percentage_of_failed_tests = total_no_of_failed_tests / total_no_of_tests\n",
    "    logging.info(f\"Total number of conditional independencies: {total_no_of_tests:,}\")\n",
    "    logging.info(f\"Total number of failed tests: {total_no_of_failed_tests:,}\")\n",
    "    logging.info(f\"Percentage of failed tests: {percentage_of_failed_tests:.2%}\")\n",
    "    if verbose:\n",
    "        logging.info(test_results.to_string(index=False))\n",
    "    else:\n",
    "        logging.info(failed_tests.to_string(index=False))"
   ],
   "metadata": {
    "collapsed": false,
    "ExecuteTime": {
     "end_time": "2023-11-08T11:31:04.234360Z",
     "start_time": "2023-11-08T11:31:04.195625Z"
    }
   },
   "id": "d4b562efe3344b5f"
  },
  {
   "cell_type": "markdown",
   "source": [],
   "metadata": {
    "collapsed": false
   },
   "id": "c850d50f1f790c01"
  },
  {
   "cell_type": "code",
   "execution_count": 12,
   "outputs": [
    {
     "name": "stderr",
     "output_type": "stream",
     "text": [
      "/Users/sarataheri/GitHub/eliater/venv/lib/python3.11/site-packages/pgmpy/estimators/CITests.py:548: FutureWarning: In a future version of pandas, a length 1 tuple will be returned when iterating over a groupby with a grouper equal to a list of length 1. Don't supply a list with a single grouper to avoid this warning.\n",
      "  for z_state, df in data.groupby(Z):\n",
      "/Users/sarataheri/GitHub/eliater/venv/lib/python3.11/site-packages/pgmpy/estimators/CITests.py:548: FutureWarning: In a future version of pandas, a length 1 tuple will be returned when iterating over a groupby with a grouper equal to a list of length 1. Don't supply a list with a single grouper to avoid this warning.\n",
      "  for z_state, df in data.groupby(Z):\n",
      "/Users/sarataheri/GitHub/eliater/venv/lib/python3.11/site-packages/pgmpy/estimators/CITests.py:548: FutureWarning: In a future version of pandas, a length 1 tuple will be returned when iterating over a groupby with a grouper equal to a list of length 1. Don't supply a list with a single grouper to avoid this warning.\n",
      "  for z_state, df in data.groupby(Z):\n",
      "Total number of conditional independencies: 5\n",
      "Total number of failed tests: 0\n",
      "Percentage of failed tests: 0.00%\n",
      "left right given  p-value result\n",
      "  M2     X    M1      NaN   pass\n",
      "  M1     U     X      NaN   pass\n",
      "   X     Y  M2|U      NaN   pass\n",
      "  M2     U     X      NaN   pass\n",
      "  M1     Y  M2|U      NaN   pass\n"
     ]
    }
   ],
   "source": [
    "conditional_independence_test_summary(graph, data, verbose=True)"
   ],
   "metadata": {
    "collapsed": false,
    "ExecuteTime": {
     "end_time": "2023-11-08T11:31:23.915905Z",
     "start_time": "2023-11-08T11:31:05.647085Z"
    }
   },
   "id": "946fd227c4da088d"
  },
  {
   "cell_type": "markdown",
   "source": [
    "## Step 2: Check query identifiability"
   ],
   "metadata": {
    "collapsed": false
   },
   "id": "de84acea8401aa82"
  },
  {
   "cell_type": "code",
   "execution_count": 24,
   "outputs": [
    {
     "data": {
      "text/plain": "Identification(outcomes=\"{dpiA}, treatments=\"{fur}\",conditions=\"set()\",  graph=\"NxMixedGraph(directed=<networkx.classes.digraph.DiGraph object at 0x127bfb1d0>, undirected=<networkx.classes.graph.Graph object at 0x127bfba90>)\", estimand=\"P(aceE, amtB, appA, appB, appX, appY, arcA, aspC, btsR, cirA, citC, citD, citX, cra, crp, cspA, cydD, cyoA, dcuR, dpiA, dpiB, exuT, fis, fnr, fur, gadX, gcvB, gutM, hcp, hns, hyaA, hyaB, hyaF, ihfA, ihfB, iscR, lrp, mdh, modE, narL, narP, oxyR, phoB, rpoD, rpoH, rpoS, soxS, ydeO)\")"
     },
     "execution_count": 24,
     "metadata": {},
     "output_type": "execute_result"
    }
   ],
   "source": [
    "from y0.algorithm.identify import Identification\n",
    "from y0.dsl import P\n",
    "id_in = Identification.from_expression(\n",
    "    query=P(Variable('dpiA') @ Variable('fur')),\n",
    "    graph=graph,\n",
    ")\n",
    "id_in"
   ],
   "metadata": {
    "collapsed": false,
    "ExecuteTime": {
     "end_time": "2023-11-08T19:06:31.443494Z",
     "start_time": "2023-11-08T19:06:31.362534Z"
    }
   },
   "id": "9db1518afcea7377"
  },
  {
   "cell_type": "markdown",
   "source": [
    "The query is identifiable. Hence, we can proceed to the next step."
   ],
   "metadata": {
    "collapsed": false
   },
   "id": "4abeb139d356f07c"
  },
  {
   "cell_type": "markdown",
   "source": [
    "## Step 3: Find nuisance variables and mark them as latent"
   ],
   "metadata": {
    "collapsed": false
   },
   "id": "c61266793a90058b"
  },
  {
   "cell_type": "code",
   "execution_count": 25,
   "outputs": [],
   "source": [
    "#remove after merging simplify branch to main\n",
    "import itertools\n",
    "from typing import Iterable, Optional, Set, Union\n",
    "\n",
    "import networkx as nx\n",
    "\n",
    "from y0.algorithm.simplify_latent import simplify_latent_dag\n",
    "from y0.dsl import Variable\n",
    "from y0.graph import DEFAULT_TAG, NxMixedGraph\n",
    "\n",
    "__all__ = [\n",
    "    \"remove_latent_variables\",\n",
    "    \"mark_nuisance_variables_as_latent\",\n",
    "    \"find_all_nodes_in_causal_paths\",\n",
    "    \"find_nuisance_variables\",\n",
    "]\n",
    "\n",
    "\n",
    "def remove_latent_variables(\n",
    "    graph: NxMixedGraph,\n",
    "    treatments: Union[Variable, Set[Variable]],\n",
    "    outcomes: Union[Variable, Set[Variable]],\n",
    "    tag: Optional[str] = None,\n",
    ") -> NxMixedGraph:\n",
    "    \"\"\"Find all nuissance variables and remove them based on Evans' simplification rules.\n",
    "\n",
    "    :param graph: an NxMixedGraph\n",
    "    :param treatments: a list of treatments\n",
    "    :param outcomes: a list of outcomes\n",
    "    :param tag: The tag for which variables are latent\n",
    "    :return: the new graph after simplification\n",
    "    \"\"\"\n",
    "    lv_dag = mark_nuisance_variables_as_latent(\n",
    "        graph=graph, treatments=treatments, outcomes=outcomes, tag=tag\n",
    "    )\n",
    "    simplified_latent_dag = simplify_latent_dag(lv_dag, tag=tag)\n",
    "    return NxMixedGraph.from_latent_variable_dag(simplified_latent_dag.graph, tag=tag)\n",
    "\n",
    "\n",
    "def mark_nuisance_variables_as_latent(\n",
    "    graph: NxMixedGraph,\n",
    "    treatments: Union[Variable, Set[Variable]],\n",
    "    outcomes: Union[Variable, Set[Variable]],\n",
    "    tag: Optional[str] = None,\n",
    ") -> nx.DiGraph:\n",
    "    \"\"\"Find all the nuisance variables and mark them as latent.\n",
    "\n",
    "    Mark nuisance variables as latent by first identifying them, then creating a new graph where these\n",
    "    nodes are marked as latent. Nuisance variables are the descendants of nodes in all proper causal paths\n",
    "    that are not ancestors of the outcome variables nodes. A proper causal path is a directed path from\n",
    "    treatments to the outcome. Nuisance variables should not be included in the estimation of the causal\n",
    "    effect as they increase the variance.\n",
    "\n",
    "    :param graph: an NxMixedGraph\n",
    "    :param treatments: a list of treatments\n",
    "    :param outcomes: a list of outcomes\n",
    "    :param tag: The tag for which variables are latent\n",
    "    :return: the modified graph after simplification, in place\n",
    "    \"\"\"\n",
    "    if tag is None:\n",
    "        tag = DEFAULT_TAG\n",
    "    nuisance_variables = find_nuisance_variables(graph, treatments=treatments, outcomes=outcomes)\n",
    "    lv_dag = NxMixedGraph.to_latent_variable_dag(graph, tag=tag)\n",
    "    # Set nuisance variables as latent\n",
    "    for node, data in lv_dag.nodes(data=True):\n",
    "        if Variable(node) in nuisance_variables:\n",
    "            data[tag] = True\n",
    "    return lv_dag\n",
    "\n",
    "\n",
    "def find_all_nodes_in_causal_paths(\n",
    "    graph: NxMixedGraph,\n",
    "    treatments: Union[Variable, Set[Variable]],\n",
    "    outcomes: Union[Variable, Set[Variable]],\n",
    ") -> Set[Variable]:\n",
    "    \"\"\"Find all the nodes in proper causal paths from treatments to outcomes.\n",
    "\n",
    "    A proper causal path is a directed path from treatments to the outcome.\n",
    "\n",
    "    :param graph: an NxMixedGraph\n",
    "    :param treatments: a list of treatments\n",
    "    :param outcomes: a list of outcomes\n",
    "    :return: the nodes on all causal paths from treatments to outcomes.\n",
    "    \"\"\"\n",
    "    if isinstance(treatments, Variable):\n",
    "        treatments = {treatments}\n",
    "    if isinstance(outcomes, Variable):\n",
    "        outcomes = {outcomes}\n",
    "\n",
    "    return {\n",
    "        node\n",
    "        for treatment, outcome in itertools.product(treatments, outcomes)\n",
    "        for causal_path in nx.all_simple_paths(graph.directed, treatment, outcome)\n",
    "        for node in causal_path\n",
    "    }\n",
    "\n",
    "\n",
    "def find_nuisance_variables(\n",
    "    graph: NxMixedGraph,\n",
    "    treatments: Union[Variable, Set[Variable]],\n",
    "    outcomes: Union[Variable, Set[Variable]],\n",
    ") -> Iterable[Variable]:\n",
    "    \"\"\"Find the nuisance variables in the graph.\n",
    "\n",
    "    Nuisance variables are the descendants of nodes in all proper causal paths that are\n",
    "    not ancestors of the outcome variables' nodes. A proper causal path is a directed path\n",
    "    from treatments to the outcome. Nuisance variables should not be included in the estimation\n",
    "    of the causal effect as they increase the variance.\n",
    "\n",
    "    :param graph: an NxMixedGraph\n",
    "    :param treatments: a list of treatments\n",
    "    :param outcomes: a list of outcomes\n",
    "    :returns: The nuisance variables.\n",
    "    \"\"\"\n",
    "    if isinstance(treatments, Variable):\n",
    "        treatments = {treatments}\n",
    "    if isinstance(outcomes, Variable):\n",
    "        outcomes = {outcomes}\n",
    "\n",
    "    # Find the nodes on all causal paths\n",
    "    nodes_on_causal_paths = find_all_nodes_in_causal_paths(\n",
    "        graph=graph, treatments=treatments, outcomes=outcomes\n",
    "    )\n",
    "\n",
    "    # Find the descendants of interest\n",
    "    descendants_of_nodes_on_causal_paths = graph.descendants_inclusive(nodes_on_causal_paths)\n",
    "\n",
    "    # Find the ancestors of outcome variables\n",
    "    ancestors_of_outcomes = graph.ancestors_inclusive(outcomes)\n",
    "\n",
    "    descendants_not_ancestors = descendants_of_nodes_on_causal_paths.difference(\n",
    "        ancestors_of_outcomes\n",
    "    )\n",
    "\n",
    "    nuisance_variables = descendants_not_ancestors.difference(treatments.union(outcomes))\n",
    "    return nuisance_variables"
   ],
   "metadata": {
    "collapsed": false,
    "ExecuteTime": {
     "end_time": "2023-11-08T19:06:41.060663Z",
     "start_time": "2023-11-08T19:06:41.000420Z"
    }
   },
   "id": "92f6d81637f46942"
  },
  {
   "cell_type": "markdown",
   "source": [
    "This function finds the nuisance variables for the input graph."
   ],
   "metadata": {
    "collapsed": false
   },
   "id": "55c4bfe949593a4a"
  },
  {
   "cell_type": "code",
   "execution_count": 27,
   "outputs": [
    {
     "data": {
      "text/plain": "24"
     },
     "execution_count": 27,
     "metadata": {},
     "output_type": "execute_result"
    }
   ],
   "source": [
    "nuisance_variables = find_nuisance_variables(graph, treatments=Variable('fur'), outcomes=Variable('dpiA'))\n",
    "nuisance_variables"
   ],
   "metadata": {
    "collapsed": false,
    "ExecuteTime": {
     "end_time": "2023-11-08T19:30:03.098646Z",
     "start_time": "2023-11-08T19:30:02.956640Z"
    }
   },
   "id": "80a72ccd9a8ce726"
  },
  {
   "cell_type": "markdown",
   "source": [
    "## Step 4: Simplify the network"
   ],
   "metadata": {
    "collapsed": false
   },
   "id": "a10322ec91a50588"
  },
  {
   "cell_type": "markdown",
   "source": [
    "The following function find the nuisance variable (step 3), marks them as latent and then applies Evan's simplification rules to remove the nuisance variables."
   ],
   "metadata": {
    "collapsed": false
   },
   "id": "62b5c7bd4d5db516"
  },
  {
   "cell_type": "code",
   "execution_count": null,
   "outputs": [],
   "source": [
    "new_graph = remove_latent_variables(graph, treatments=Variable(\"fur\"), outcomes=Variable(\"dpiA\"))"
   ],
   "metadata": {
    "collapsed": false
   },
   "id": "213d620224db3470"
  },
  {
   "cell_type": "markdown",
   "source": [
    "## Step 5: Estimate the query"
   ],
   "metadata": {
    "collapsed": false
   },
   "id": "b281730e7c585e8"
  },
  {
   "cell_type": "code",
   "execution_count": null,
   "outputs": [],
   "source": [],
   "metadata": {
    "collapsed": false
   },
   "id": "bf7c214724c76deb"
  }
 ],
 "metadata": {
  "kernelspec": {
   "display_name": "Python 3",
   "language": "python",
   "name": "python3"
  },
  "language_info": {
   "codemirror_mode": {
    "name": "ipython",
    "version": 2
   },
   "file_extension": ".py",
   "mimetype": "text/x-python",
   "name": "python",
   "nbconvert_exporter": "python",
   "pygments_lexer": "ipython2",
   "version": "2.7.6"
  }
 },
 "nbformat": 4,
 "nbformat_minor": 5
}
