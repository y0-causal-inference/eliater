{
 "cells": [
  {
   "cell_type": "markdown",
   "source": [
    "# Case study 3: The Escherichia coli K-12 transcriptional motif"
   ],
   "metadata": {
    "collapsed": false
   },
   "id": "a618fea7cca96207"
  },
  {
   "cell_type": "code",
   "execution_count": 5,
   "outputs": [
    {
     "name": "stdout",
     "output_type": "stream",
     "text": [
      "Collecting git+https://github.com/y0-causal-inference/eliater.git\n",
      "  Cloning https://github.com/y0-causal-inference/eliater.git to c:\\users\\pnava\\appdata\\local\\temp\\pip-req-build-ex_a_sac\n",
      "  Resolved https://github.com/y0-causal-inference/eliater.git to commit 18c0c18d478251bae2c7ff6a1d0ac4997aed0dc4\n",
      "  Installing build dependencies: started\n",
      "  Installing build dependencies: finished with status 'done'\n",
      "  Getting requirements to build wheel: started\n",
      "  Getting requirements to build wheel: finished with status 'done'\n",
      "  Preparing metadata (pyproject.toml): started\n",
      "  Preparing metadata (pyproject.toml): finished with status 'done'\n",
      "Requirement already satisfied: y0>=0.2.5 in c:\\users\\pnava\\pycharmprojects\\eliater\\venv\\lib\\site-packages (from eliater==0.0.1.dev0) (0.2.5)\n",
      "Requirement already satisfied: scipy in c:\\users\\pnava\\pycharmprojects\\eliater\\venv\\lib\\site-packages (from eliater==0.0.1.dev0) (1.11.4)\n",
      "Requirement already satisfied: numpy in c:\\users\\pnava\\pycharmprojects\\eliater\\venv\\lib\\site-packages (from eliater==0.0.1.dev0) (1.26.3)\n",
      "Requirement already satisfied: ananke-causal>=0.5.0 in c:\\users\\pnava\\pycharmprojects\\eliater\\venv\\lib\\site-packages (from eliater==0.0.1.dev0) (0.5.0)\n",
      "Requirement already satisfied: pgmpy>=0.1.24 in c:\\users\\pnava\\pycharmprojects\\eliater\\venv\\lib\\site-packages (from eliater==0.0.1.dev0) (0.1.24)\n",
      "Requirement already satisfied: matplotlib in c:\\users\\pnava\\pycharmprojects\\eliater\\venv\\lib\\site-packages (from eliater==0.0.1.dev0) (3.8.2)\n",
      "Requirement already satisfied: pandas in c:\\users\\pnava\\pycharmprojects\\eliater\\venv\\lib\\site-packages (from eliater==0.0.1.dev0) (1.5.3)\n",
      "Requirement already satisfied: seaborn in c:\\users\\pnava\\pycharmprojects\\eliater\\venv\\lib\\site-packages (from eliater==0.0.1.dev0) (0.13.1)\n",
      "Requirement already satisfied: optimaladj>=0.0.4 in c:\\users\\pnava\\pycharmprojects\\eliater\\venv\\lib\\site-packages (from eliater==0.0.1.dev0) (0.0.4)\n",
      "Requirement already satisfied: jax<0.5.0,>=0.4.8 in c:\\users\\pnava\\pycharmprojects\\eliater\\venv\\lib\\site-packages (from ananke-causal>=0.5.0->eliater==0.0.1.dev0) (0.4.23)\n",
      "Requirement already satisfied: jaxlib<0.5.0,>=0.4.7 in c:\\users\\pnava\\pycharmprojects\\eliater\\venv\\lib\\site-packages (from ananke-causal>=0.5.0->eliater==0.0.1.dev0) (0.4.23)\n",
      "Requirement already satisfied: mystic<0.5.0,>=0.4.0 in c:\\users\\pnava\\pycharmprojects\\eliater\\venv\\lib\\site-packages (from ananke-causal>=0.5.0->eliater==0.0.1.dev0) (0.4.1)\n",
      "Requirement already satisfied: statsmodels<0.14.0,>=0.13.2 in c:\\users\\pnava\\pycharmprojects\\eliater\\venv\\lib\\site-packages (from ananke-causal>=0.5.0->eliater==0.0.1.dev0) (0.13.5)\n",
      "Requirement already satisfied: contourpy>=1.0.1 in c:\\users\\pnava\\pycharmprojects\\eliater\\venv\\lib\\site-packages (from matplotlib->eliater==0.0.1.dev0) (1.2.0)\n",
      "Requirement already satisfied: cycler>=0.10 in c:\\users\\pnava\\pycharmprojects\\eliater\\venv\\lib\\site-packages (from matplotlib->eliater==0.0.1.dev0) (0.12.1)\n",
      "Requirement already satisfied: fonttools>=4.22.0 in c:\\users\\pnava\\pycharmprojects\\eliater\\venv\\lib\\site-packages (from matplotlib->eliater==0.0.1.dev0) (4.47.2)\n",
      "Requirement already satisfied: kiwisolver>=1.3.1 in c:\\users\\pnava\\pycharmprojects\\eliater\\venv\\lib\\site-packages (from matplotlib->eliater==0.0.1.dev0) (1.4.5)\n",
      "Requirement already satisfied: packaging>=20.0 in c:\\users\\pnava\\pycharmprojects\\eliater\\venv\\lib\\site-packages (from matplotlib->eliater==0.0.1.dev0) (23.2)\n",
      "Requirement already satisfied: pillow>=8 in c:\\users\\pnava\\pycharmprojects\\eliater\\venv\\lib\\site-packages (from matplotlib->eliater==0.0.1.dev0) (10.2.0)\n",
      "Requirement already satisfied: pyparsing>=2.3.1 in c:\\users\\pnava\\pycharmprojects\\eliater\\venv\\lib\\site-packages (from matplotlib->eliater==0.0.1.dev0) (3.1.1)\n",
      "Requirement already satisfied: python-dateutil>=2.7 in c:\\users\\pnava\\pycharmprojects\\eliater\\venv\\lib\\site-packages (from matplotlib->eliater==0.0.1.dev0) (2.8.2)\n",
      "Requirement already satisfied: pytz>=2020.1 in c:\\users\\pnava\\pycharmprojects\\eliater\\venv\\lib\\site-packages (from pandas->eliater==0.0.1.dev0) (2023.3.post1)\n",
      "Requirement already satisfied: networkx in c:\\users\\pnava\\pycharmprojects\\eliater\\venv\\lib\\site-packages (from pgmpy>=0.1.24->eliater==0.0.1.dev0) (3.2.1)\n",
      "Requirement already satisfied: scikit-learn in c:\\users\\pnava\\pycharmprojects\\eliater\\venv\\lib\\site-packages (from pgmpy>=0.1.24->eliater==0.0.1.dev0) (1.3.2)\n",
      "Requirement already satisfied: torch in c:\\users\\pnava\\pycharmprojects\\eliater\\venv\\lib\\site-packages (from pgmpy>=0.1.24->eliater==0.0.1.dev0) (2.1.2)\n",
      "Requirement already satisfied: tqdm in c:\\users\\pnava\\pycharmprojects\\eliater\\venv\\lib\\site-packages (from pgmpy>=0.1.24->eliater==0.0.1.dev0) (4.66.1)\n",
      "Requirement already satisfied: joblib in c:\\users\\pnava\\pycharmprojects\\eliater\\venv\\lib\\site-packages (from pgmpy>=0.1.24->eliater==0.0.1.dev0) (1.3.2)\n",
      "Requirement already satisfied: opt-einsum in c:\\users\\pnava\\pycharmprojects\\eliater\\venv\\lib\\site-packages (from pgmpy>=0.1.24->eliater==0.0.1.dev0) (3.3.0)\n",
      "Requirement already satisfied: more-itertools in c:\\users\\pnava\\pycharmprojects\\eliater\\venv\\lib\\site-packages (from y0>=0.2.5->eliater==0.0.1.dev0) (10.2.0)\n",
      "Requirement already satisfied: click in c:\\users\\pnava\\pycharmprojects\\eliater\\venv\\lib\\site-packages (from y0>=0.2.5->eliater==0.0.1.dev0) (8.1.7)\n",
      "Requirement already satisfied: more-click in c:\\users\\pnava\\pycharmprojects\\eliater\\venv\\lib\\site-packages (from y0>=0.2.5->eliater==0.0.1.dev0) (0.1.2)\n",
      "Requirement already satisfied: tabulate in c:\\users\\pnava\\pycharmprojects\\eliater\\venv\\lib\\site-packages (from y0>=0.2.5->eliater==0.0.1.dev0) (0.9.0)\n",
      "Requirement already satisfied: ml-dtypes>=0.2.0 in c:\\users\\pnava\\pycharmprojects\\eliater\\venv\\lib\\site-packages (from jax<0.5.0,>=0.4.8->ananke-causal>=0.5.0->eliater==0.0.1.dev0) (0.3.2)\n",
      "Requirement already satisfied: dill>=0.3.7 in c:\\users\\pnava\\pycharmprojects\\eliater\\venv\\lib\\site-packages (from mystic<0.5.0,>=0.4.0->ananke-causal>=0.5.0->eliater==0.0.1.dev0) (0.3.7)\n",
      "Requirement already satisfied: klepto>=0.2.4 in c:\\users\\pnava\\pycharmprojects\\eliater\\venv\\lib\\site-packages (from mystic<0.5.0,>=0.4.0->ananke-causal>=0.5.0->eliater==0.0.1.dev0) (0.2.4)\n",
      "Requirement already satisfied: sympy>=0.6.7 in c:\\users\\pnava\\pycharmprojects\\eliater\\venv\\lib\\site-packages (from mystic<0.5.0,>=0.4.0->ananke-causal>=0.5.0->eliater==0.0.1.dev0) (1.12)\n",
      "Requirement already satisfied: mpmath>=0.19 in c:\\users\\pnava\\pycharmprojects\\eliater\\venv\\lib\\site-packages (from mystic<0.5.0,>=0.4.0->ananke-causal>=0.5.0->eliater==0.0.1.dev0) (1.3.0)\n",
      "Requirement already satisfied: six>=1.5 in c:\\users\\pnava\\pycharmprojects\\eliater\\venv\\lib\\site-packages (from python-dateutil>=2.7->matplotlib->eliater==0.0.1.dev0) (1.16.0)\n",
      "Requirement already satisfied: patsy>=0.5.2 in c:\\users\\pnava\\pycharmprojects\\eliater\\venv\\lib\\site-packages (from statsmodels<0.14.0,>=0.13.2->ananke-causal>=0.5.0->eliater==0.0.1.dev0) (0.5.6)\n",
      "Requirement already satisfied: colorama in c:\\users\\pnava\\pycharmprojects\\eliater\\venv\\lib\\site-packages (from click->y0>=0.2.5->eliater==0.0.1.dev0) (0.4.6)\n",
      "Requirement already satisfied: threadpoolctl>=2.0.0 in c:\\users\\pnava\\pycharmprojects\\eliater\\venv\\lib\\site-packages (from scikit-learn->pgmpy>=0.1.24->eliater==0.0.1.dev0) (3.2.0)\n",
      "Requirement already satisfied: filelock in c:\\users\\pnava\\pycharmprojects\\eliater\\venv\\lib\\site-packages (from torch->pgmpy>=0.1.24->eliater==0.0.1.dev0) (3.13.1)\n",
      "Requirement already satisfied: typing-extensions in c:\\users\\pnava\\pycharmprojects\\eliater\\venv\\lib\\site-packages (from torch->pgmpy>=0.1.24->eliater==0.0.1.dev0) (4.9.0)\n",
      "Requirement already satisfied: jinja2 in c:\\users\\pnava\\pycharmprojects\\eliater\\venv\\lib\\site-packages (from torch->pgmpy>=0.1.24->eliater==0.0.1.dev0) (3.1.3)\n",
      "Requirement already satisfied: fsspec in c:\\users\\pnava\\pycharmprojects\\eliater\\venv\\lib\\site-packages (from torch->pgmpy>=0.1.24->eliater==0.0.1.dev0) (2023.12.2)\n",
      "Requirement already satisfied: pox>=0.3.3 in c:\\users\\pnava\\pycharmprojects\\eliater\\venv\\lib\\site-packages (from klepto>=0.2.4->mystic<0.5.0,>=0.4.0->ananke-causal>=0.5.0->eliater==0.0.1.dev0) (0.3.3)\n",
      "Requirement already satisfied: MarkupSafe>=2.0 in c:\\users\\pnava\\pycharmprojects\\eliater\\venv\\lib\\site-packages (from jinja2->torch->pgmpy>=0.1.24->eliater==0.0.1.dev0) (2.1.3)\n"
     ]
    },
    {
     "name": "stderr",
     "output_type": "stream",
     "text": [
      "  Running command git clone --filter=blob:none --quiet https://github.com/y0-causal-inference/eliater.git 'C:\\Users\\pnava\\AppData\\Local\\Temp\\pip-req-build-ex_a_sac'\n",
      "\n",
      "[notice] A new release of pip is available: 23.3.1 -> 23.3.2\n",
      "[notice] To update, run: python.exe -m pip install --upgrade pip\n"
     ]
    }
   ],
   "source": [
    "!pip install git+https://github.com/y0-causal-inference/eliater.git"
   ],
   "metadata": {
    "collapsed": false,
    "ExecuteTime": {
     "end_time": "2024-01-18T15:47:56.175997100Z",
     "start_time": "2024-01-18T15:47:40.425961400Z"
    }
   },
   "id": "ff81802acad24326"
  },
  {
   "cell_type": "markdown",
   "source": [
    "This is case study 3 in Figure 7 in this paper: *Eliater: an open source software for causal query estimation from observational measurements of biomolecular networks. The figure below shows the transcriptional regulatory network motif of E. coli from the EcoCyc database (Keseler et al., 2021). It comprises 44 nodes, of which 7 are latent and 45 are\n",
    "observed, connected by a total of 147 directed edges."
   ],
   "metadata": {
    "collapsed": false
   },
   "id": "a0cedf172ad6ad7b"
  },
  {
   "cell_type": "code",
   "outputs": [],
   "source": [
    "import pandas as pd\n",
    "\n",
    "from eliater.examples import ecoli_transcription_example"
   ],
   "metadata": {
    "collapsed": false,
    "ExecuteTime": {
     "end_time": "2024-01-18T15:48:09.459962Z",
     "start_time": "2024-01-18T15:48:09.430164900Z"
    }
   },
   "id": "67ed9aebbf30cdbd",
   "execution_count": 6
  },
  {
   "cell_type": "code",
   "outputs": [],
   "source": [
    "graph = ecoli_transcription_example.graph"
   ],
   "metadata": {
    "collapsed": false,
    "ExecuteTime": {
     "end_time": "2024-01-18T15:48:11.691840700Z",
     "start_time": "2024-01-18T15:48:11.662068700Z"
    }
   },
   "id": "42c0955c435a1d33",
   "execution_count": 7
  },
  {
   "cell_type": "markdown",
   "source": [
    "The observational data are 260 RNA-seq normalized expression profiles of E. coli K-12 MG1655 and BW25113 strains, spanning 154 distinct experimental conditions. These data were retrieved from the PRECISE database (Sastry et al., 2019)."
   ],
   "metadata": {
    "collapsed": false
   },
   "id": "23d671c229f26951"
  },
  {
   "cell_type": "code",
   "execution_count": 8,
   "outputs": [],
   "source": [
    "# Get the data\n",
    "# TODO: Change from local path to Github url\n",
    "data = pd.read_csv(\n",
    "    \"C:\\\\Users\\\\pnava\\\\PycharmProjects\\\\eliater\\\\src\\\\eliater\\\\data\\\\EColi_obs_data.csv\",\n",
    "    index_col=0,\n",
    ")"
   ],
   "metadata": {
    "collapsed": false,
    "ExecuteTime": {
     "end_time": "2024-01-18T15:48:14.670845400Z",
     "start_time": "2024-01-18T15:48:14.635944400Z"
    }
   },
   "id": "493dbce26b06565c"
  },
  {
   "cell_type": "code",
   "outputs": [
    {
     "data": {
      "text/plain": "        cra       aceE      phoB       cyoA      amtB      appY      citC  \\\n1  7.697991  10.651307  5.599989  11.254009  5.128441  5.919468  0.000000   \n2  7.581105  10.761484  5.746619  11.431429  5.614179  5.628823  0.000000   \n3  6.395808  12.109947  6.009650   9.937863  3.866721  5.789442  0.000000   \n4  6.366865  11.992996  6.131477   9.838573  3.666917  5.496674  0.377771   \n5  7.315204  10.569824  5.158324  11.272986  6.146377  5.275278  0.190837   \n\n       dpiB      dpiA       fur  ...        mdh       fis       crp      rpoH  \\\n1  4.323397  4.761679  9.737595  ...  11.745289  8.936196  9.666416  8.725102   \n2  4.706430  4.930888  9.784892  ...  11.843169  8.601549  9.621358  8.769579   \n3  4.776288  5.291245  9.381882  ...  11.166194  7.013285  9.761605  9.649581   \n4  4.659630  5.366084  9.468696  ...  11.030617  7.078497  9.706964  9.746059   \n5  4.332369  4.786446  9.779253  ...  11.423517  9.878379  9.692445  8.226875   \n\n       gadX      cspA      oxyR      soxS      dcuR       arcA  \n1  8.614542  7.743336  8.209081  6.230069  5.752131   9.547993  \n2  8.456629  7.474558  8.417561  6.104497  5.667736   9.560289  \n3  8.391347  3.629759  7.841489  8.009047  5.725878  10.737478  \n4  8.180204  4.538549  7.754378  8.172509  5.470773  10.788613  \n5  8.142990  7.147757  7.979421  6.161353  5.738662   9.470079  \n\n[5 rows x 44 columns]",
      "text/html": "<div>\n<style scoped>\n    .dataframe tbody tr th:only-of-type {\n        vertical-align: middle;\n    }\n\n    .dataframe tbody tr th {\n        vertical-align: top;\n    }\n\n    .dataframe thead th {\n        text-align: right;\n    }\n</style>\n<table border=\"1\" class=\"dataframe\">\n  <thead>\n    <tr style=\"text-align: right;\">\n      <th></th>\n      <th>cra</th>\n      <th>aceE</th>\n      <th>phoB</th>\n      <th>cyoA</th>\n      <th>amtB</th>\n      <th>appY</th>\n      <th>citC</th>\n      <th>dpiB</th>\n      <th>dpiA</th>\n      <th>fur</th>\n      <th>...</th>\n      <th>mdh</th>\n      <th>fis</th>\n      <th>crp</th>\n      <th>rpoH</th>\n      <th>gadX</th>\n      <th>cspA</th>\n      <th>oxyR</th>\n      <th>soxS</th>\n      <th>dcuR</th>\n      <th>arcA</th>\n    </tr>\n  </thead>\n  <tbody>\n    <tr>\n      <th>1</th>\n      <td>7.697991</td>\n      <td>10.651307</td>\n      <td>5.599989</td>\n      <td>11.254009</td>\n      <td>5.128441</td>\n      <td>5.919468</td>\n      <td>0.000000</td>\n      <td>4.323397</td>\n      <td>4.761679</td>\n      <td>9.737595</td>\n      <td>...</td>\n      <td>11.745289</td>\n      <td>8.936196</td>\n      <td>9.666416</td>\n      <td>8.725102</td>\n      <td>8.614542</td>\n      <td>7.743336</td>\n      <td>8.209081</td>\n      <td>6.230069</td>\n      <td>5.752131</td>\n      <td>9.547993</td>\n    </tr>\n    <tr>\n      <th>2</th>\n      <td>7.581105</td>\n      <td>10.761484</td>\n      <td>5.746619</td>\n      <td>11.431429</td>\n      <td>5.614179</td>\n      <td>5.628823</td>\n      <td>0.000000</td>\n      <td>4.706430</td>\n      <td>4.930888</td>\n      <td>9.784892</td>\n      <td>...</td>\n      <td>11.843169</td>\n      <td>8.601549</td>\n      <td>9.621358</td>\n      <td>8.769579</td>\n      <td>8.456629</td>\n      <td>7.474558</td>\n      <td>8.417561</td>\n      <td>6.104497</td>\n      <td>5.667736</td>\n      <td>9.560289</td>\n    </tr>\n    <tr>\n      <th>3</th>\n      <td>6.395808</td>\n      <td>12.109947</td>\n      <td>6.009650</td>\n      <td>9.937863</td>\n      <td>3.866721</td>\n      <td>5.789442</td>\n      <td>0.000000</td>\n      <td>4.776288</td>\n      <td>5.291245</td>\n      <td>9.381882</td>\n      <td>...</td>\n      <td>11.166194</td>\n      <td>7.013285</td>\n      <td>9.761605</td>\n      <td>9.649581</td>\n      <td>8.391347</td>\n      <td>3.629759</td>\n      <td>7.841489</td>\n      <td>8.009047</td>\n      <td>5.725878</td>\n      <td>10.737478</td>\n    </tr>\n    <tr>\n      <th>4</th>\n      <td>6.366865</td>\n      <td>11.992996</td>\n      <td>6.131477</td>\n      <td>9.838573</td>\n      <td>3.666917</td>\n      <td>5.496674</td>\n      <td>0.377771</td>\n      <td>4.659630</td>\n      <td>5.366084</td>\n      <td>9.468696</td>\n      <td>...</td>\n      <td>11.030617</td>\n      <td>7.078497</td>\n      <td>9.706964</td>\n      <td>9.746059</td>\n      <td>8.180204</td>\n      <td>4.538549</td>\n      <td>7.754378</td>\n      <td>8.172509</td>\n      <td>5.470773</td>\n      <td>10.788613</td>\n    </tr>\n    <tr>\n      <th>5</th>\n      <td>7.315204</td>\n      <td>10.569824</td>\n      <td>5.158324</td>\n      <td>11.272986</td>\n      <td>6.146377</td>\n      <td>5.275278</td>\n      <td>0.190837</td>\n      <td>4.332369</td>\n      <td>4.786446</td>\n      <td>9.779253</td>\n      <td>...</td>\n      <td>11.423517</td>\n      <td>9.878379</td>\n      <td>9.692445</td>\n      <td>8.226875</td>\n      <td>8.142990</td>\n      <td>7.147757</td>\n      <td>7.979421</td>\n      <td>6.161353</td>\n      <td>5.738662</td>\n      <td>9.470079</td>\n    </tr>\n  </tbody>\n</table>\n<p>5 rows × 44 columns</p>\n</div>"
     },
     "execution_count": 9,
     "metadata": {},
     "output_type": "execute_result"
    }
   ],
   "source": [
    "data.head()"
   ],
   "metadata": {
    "collapsed": false,
    "ExecuteTime": {
     "end_time": "2024-01-18T15:48:15.867796400Z",
     "start_time": "2024-01-18T15:48:15.805929500Z"
    }
   },
   "id": "9b7750156fa136d",
   "execution_count": 9
  },
  {
   "cell_type": "markdown",
   "source": [
    "## Step 1: Verify correctness of the network structure"
   ],
   "metadata": {
    "collapsed": false
   },
   "id": "3cb336afa4c23502"
  },
  {
   "cell_type": "markdown",
   "source": [
    "The total number of d-separations implied by this network is large. It takes several hours to find all of them and test them against data. On the other hand, High-dimensional conditional independence tests can be very unreliable. Hence, it is best to control number of variables to condition upon. Here we selected 3. However, the default in this function is 5. Even with max_given equal to 3, it takes around an hour to produce the results."
   ],
   "metadata": {
    "collapsed": false
   },
   "id": "dd9954532ad35474"
  },
  {
   "cell_type": "code",
   "outputs": [],
   "source": [
    "from eliater.network_validation import print_graph_falsifications"
   ],
   "metadata": {
    "collapsed": false,
    "ExecuteTime": {
     "end_time": "2024-01-18T15:48:19.507802900Z",
     "start_time": "2024-01-18T15:48:19.480395300Z"
    }
   },
   "id": "73040f1e1c70fc49",
   "execution_count": 10
  },
  {
   "cell_type": "code",
   "execution_count": null,
   "outputs": [],
   "source": [
    "# Took 30 minutes to run\n",
    "print_graph_falsifications(\n",
    "    graph, data, max_given=3, method=\"pearson\", verbose=True, significance_level=0.01\n",
    ")"
   ],
   "metadata": {
    "collapsed": false,
    "is_executing": true,
    "ExecuteTime": {
     "start_time": "2024-01-18T16:03:06.113484700Z"
    }
   },
   "id": "946fd227c4da088d"
  },
  {
   "cell_type": "markdown",
   "source": [
    "## Step 2: Check query identifiability"
   ],
   "metadata": {
    "collapsed": false
   },
   "id": "de84acea8401aa82"
  },
  {
   "cell_type": "code",
   "execution_count": 12,
   "outputs": [
    {
     "data": {
      "text/plain": "Identification(outcomes=\"{dpiA}, treatments=\"{fur}\",conditions=\"set()\",  graph=\"NxMixedGraph(directed=<networkx.classes.digraph.DiGraph object at 0x00000236281DBD50>, undirected=<networkx.classes.graph.Graph object at 0x00000236281DA6D0>)\", estimand=\"P(aceE, amtB, appA, appB, appY, arcA, aspC, btsR, cirA, citC, cra, crp, cspA, cydD, cyoA, dcuR, dpiA, dpiB, exuT, fis, fnr, fur, gadX, gutM, hcp, hns, hyaA, hyaB, hyaF, ihfA, ihfB, iscR, lrp, mdh, modE, narL, narP, oxyR, phoB, rpoD, rpoH, rpoS, soxS, ydeO)\")"
     },
     "execution_count": 12,
     "metadata": {},
     "output_type": "execute_result"
    }
   ],
   "source": [
    "from y0.algorithm.identify import Identification\n",
    "from y0.dsl import P, Variable\n",
    "\n",
    "id_in = Identification.from_expression(\n",
    "    query=P(Variable(\"dpiA\") @ Variable(\"fur\")),\n",
    "    graph=graph,\n",
    ")\n",
    "id_in"
   ],
   "metadata": {
    "collapsed": false,
    "ExecuteTime": {
     "end_time": "2024-01-18T15:49:06.598133800Z",
     "start_time": "2024-01-18T15:49:06.565276800Z"
    }
   },
   "id": "9db1518afcea7377"
  },
  {
   "cell_type": "markdown",
   "source": [
    "The query is identifiable. Hence, we can proceed to the next step."
   ],
   "metadata": {
    "collapsed": false
   },
   "id": "4abeb139d356f07c"
  },
  {
   "cell_type": "markdown",
   "source": [
    "## Step 3: Find nuisance variables and mark them as latent"
   ],
   "metadata": {
    "collapsed": false
   },
   "id": "c61266793a90058b"
  },
  {
   "cell_type": "markdown",
   "source": [
    "This function finds the nuisance variables for the input graph."
   ],
   "metadata": {
    "collapsed": false
   },
   "id": "55c4bfe949593a4a"
  },
  {
   "cell_type": "code",
   "outputs": [],
   "source": [
    "from eliater.discover_latent_nodes import find_nuisance_variables"
   ],
   "metadata": {
    "collapsed": false,
    "ExecuteTime": {
     "end_time": "2024-01-18T15:49:09.508927900Z",
     "start_time": "2024-01-18T15:49:09.479828400Z"
    }
   },
   "id": "f98b3238fd580a64",
   "execution_count": 13
  },
  {
   "cell_type": "code",
   "execution_count": 14,
   "outputs": [
    {
     "data": {
      "text/plain": "21"
     },
     "execution_count": 14,
     "metadata": {},
     "output_type": "execute_result"
    }
   ],
   "source": [
    "nuisance_variables = find_nuisance_variables(\n",
    "    graph, treatments=Variable(\"fur\"), outcomes=Variable(\"dpiA\")\n",
    ")\n",
    "len(nuisance_variables)"
   ],
   "metadata": {
    "collapsed": false,
    "ExecuteTime": {
     "end_time": "2024-01-18T15:49:09.920296900Z",
     "start_time": "2024-01-18T15:49:09.890834200Z"
    }
   },
   "id": "80a72ccd9a8ce726"
  },
  {
   "cell_type": "markdown",
   "source": [
    "A total of 21 nodes are found as nuisance variables."
   ],
   "metadata": {
    "collapsed": false
   },
   "id": "e783d9f1830f9a9a"
  },
  {
   "cell_type": "code",
   "execution_count": 15,
   "outputs": [
    {
     "data": {
      "text/plain": "{aceE,\n amtB,\n appA,\n appB,\n appY,\n aspC,\n cirA,\n citC,\n cydD,\n cyoA,\n dpiB,\n exuT,\n gadX,\n gutM,\n hcp,\n hns,\n hyaA,\n hyaB,\n hyaF,\n mdh,\n ydeO}"
     },
     "execution_count": 15,
     "metadata": {},
     "output_type": "execute_result"
    }
   ],
   "source": [
    "# get the list of nuisance variables\n",
    "nuisance_variables"
   ],
   "metadata": {
    "collapsed": false,
    "ExecuteTime": {
     "end_time": "2024-01-18T15:49:12.198424800Z",
     "start_time": "2024-01-18T15:49:12.178156600Z"
    }
   },
   "id": "f71a38b8b63d115"
  },
  {
   "cell_type": "markdown",
   "source": [
    "## Step 4: Simplify the network"
   ],
   "metadata": {
    "collapsed": false
   },
   "id": "a10322ec91a50588"
  },
  {
   "cell_type": "markdown",
   "source": [
    "The following function find the nuisance variable (step 3), marks them as latent and then applies Evan's simplification rules to remove the nuisance variables."
   ],
   "metadata": {
    "collapsed": false
   },
   "id": "62b5c7bd4d5db516"
  },
  {
   "cell_type": "code",
   "outputs": [],
   "source": [
    "from eliater.discover_latent_nodes import remove_nuisance_variables"
   ],
   "metadata": {
    "collapsed": false,
    "ExecuteTime": {
     "end_time": "2024-01-18T15:49:14.102073400Z",
     "start_time": "2024-01-18T15:49:14.073712Z"
    }
   },
   "id": "1be501469457084e",
   "execution_count": 16
  },
  {
   "cell_type": "code",
   "execution_count": 17,
   "outputs": [],
   "source": [
    "new_graph = remove_nuisance_variables(graph, treatments=Variable(\"fur\"), outcomes=Variable(\"dpiA\"))"
   ],
   "metadata": {
    "collapsed": false,
    "ExecuteTime": {
     "end_time": "2024-01-18T15:49:14.496076400Z",
     "start_time": "2024-01-18T15:49:14.452122800Z"
    }
   },
   "id": "213d620224db3470"
  },
  {
   "cell_type": "markdown",
   "source": [
    "## Step 5: Estimate the query"
   ],
   "metadata": {
    "collapsed": false
   },
   "id": "b281730e7c585e8"
  },
  {
   "cell_type": "code",
   "outputs": [],
   "source": [
    "from eliater.regression import (\n",
    "    estimate_query,\n",
    "    summary_statistics,\n",
    "    fit_regression,\n",
    ")"
   ],
   "metadata": {
    "collapsed": false,
    "ExecuteTime": {
     "end_time": "2024-01-18T15:49:22.127884200Z",
     "start_time": "2024-01-18T15:49:22.095647200Z"
    }
   },
   "id": "ae6d30c7ed42bd67",
   "execution_count": 18
  },
  {
   "cell_type": "code",
   "outputs": [
    {
     "data": {
      "text/plain": "RegressionResult(coefficients={arcA: 0.12950445828726914, crp: 0.2071315157858144, fur: 0.0454156792894872, rpoD: 0.10670663838046318, rpoS: 0.15282173840052252}, intercept=-1.5922857335185867)"
     },
     "execution_count": 19,
     "metadata": {},
     "output_type": "execute_result"
    }
   ],
   "source": [
    "fit_regression(new_graph, data, treatments=Variable(\"fur\"), outcome=Variable(\"dpiA\"))"
   ],
   "metadata": {
    "collapsed": false,
    "ExecuteTime": {
     "end_time": "2024-01-18T15:49:25.923745600Z",
     "start_time": "2024-01-18T15:49:23.487772600Z"
    }
   },
   "id": "d325cc3463fc975c",
   "execution_count": 19
  },
  {
   "cell_type": "code",
   "outputs": [
    {
     "data": {
      "text/plain": "4.413484796736575"
     },
     "execution_count": 20,
     "metadata": {},
     "output_type": "execute_result"
    }
   ],
   "source": [
    "estimate_query(\n",
    "    new_graph,\n",
    "    data,\n",
    "    treatments=Variable(\"fur\"),\n",
    "    outcome=Variable(\"dpiA\"),\n",
    "    interventions={Variable(\"fur\"): 0},\n",
    "    query_type=\"expected_value\",\n",
    ")"
   ],
   "metadata": {
    "collapsed": false,
    "ExecuteTime": {
     "end_time": "2024-01-18T15:49:29.058593400Z",
     "start_time": "2024-01-18T15:49:26.957634300Z"
    }
   },
   "id": "68423679d7276d84",
   "execution_count": 20
  },
  {
   "cell_type": "markdown",
   "source": [
    "The estimated value for the query E[dpiA | fur = 0] is 4.41. This shows that perturbation of gene fur has an increasing effect on gene dpiA."
   ],
   "metadata": {
    "collapsed": false
   },
   "id": "e449c77f481e1f91"
  },
  {
   "cell_type": "code",
   "outputs": [
    {
     "data": {
      "text/plain": "SummaryStatistics(size=258.0, mean=4.413484796736575, std=0.20700013183231403, min=3.977629908827109, first_quartile=4.254331144148171, second_quartile=4.4255417772261385, third_quartile=4.568106337515038, max=4.973350664463695)"
     },
     "execution_count": 22,
     "metadata": {},
     "output_type": "execute_result"
    }
   ],
   "source": [
    "summary_statistics(\n",
    "    new_graph,\n",
    "    data,\n",
    "    treatments=Variable(\"fur\"),\n",
    "    outcome=Variable(\"dpiA\"),\n",
    "    interventions={Variable(\"fur\"): 0},\n",
    ")"
   ],
   "metadata": {
    "collapsed": false,
    "ExecuteTime": {
     "end_time": "2024-01-18T15:49:42.753527600Z",
     "start_time": "2024-01-18T15:49:40.762997400Z"
    }
   },
   "id": "19f7320d83fafa13",
   "execution_count": 22
  },
  {
   "cell_type": "markdown",
   "source": [
    "The summary statistics provides more details regarding the query in the form of P(dpiA | fur=0). This result can be used to generate box plots that shows the estimated distribution of dpiA given a perturbation on fur."
   ],
   "metadata": {
    "collapsed": false
   },
   "id": "428340f469b57d6b"
  },
  {
   "cell_type": "markdown",
   "source": [
    "## Evaluation criterion\n",
    "The PRECISE database that the observational data was retrieved from included an interventional experiment with the value of fur set to zero, and three biological replicates. Hence, the ground truth for the query E[dpiA | fur = 0] was the mean expression of dpiA over the three replicates, resulted in 4.9.\n",
    "\n",
    "The estimated value for the query (4.41) is close in sign and magnitude to the\n",
    "value of 4.9 obtained from the experimental interventional data."
   ],
   "metadata": {
    "collapsed": false
   },
   "id": "b1074b0af5438b98"
  },
  {
   "cell_type": "code",
   "outputs": [],
   "source": [
    "import seaborn as sns"
   ],
   "metadata": {
    "collapsed": false,
    "ExecuteTime": {
     "end_time": "2024-01-18T15:53:35.236816800Z",
     "start_time": "2024-01-18T15:53:35.223526100Z"
    }
   },
   "id": "68cb4cbf5686c27a",
   "execution_count": 24
  },
  {
   "cell_type": "code",
   "outputs": [
    {
     "data": {
      "text/plain": "[Text(0.5, 0, 'Probability'),\n Text(0.5, 1.0, 'Estimated outcome probability distribution')]"
     },
     "execution_count": 34,
     "metadata": {},
     "output_type": "execute_result"
    },
    {
     "data": {
      "text/plain": "<Figure size 640x480 with 1 Axes>",
      "image/png": "[encoded data removed]"
     },
     "metadata": {},
     "output_type": "display_data"
    }
   ],
   "source": [
    "x = estimate_query(\n",
    "    new_graph,\n",
    "    data,\n",
    "    treatments=Variable(\"fur\"),\n",
    "    outcome=Variable(\"dpiA\"),\n",
    "    interventions={Variable(\"fur\"): 0},\n",
    "    query_type=\"probability\",\n",
    ")\n",
    "ax = sns.boxplot(x=x)\n",
    "ax.axvline(x=4.9, label=\"True expected value\")\n",
    "ax.legend()\n",
    "ax.set(xlabel=\"Probability\", title=\"Estimated outcome probability distribution\")"
   ],
   "metadata": {
    "collapsed": false,
    "ExecuteTime": {
     "end_time": "2024-01-18T16:02:03.818715200Z",
     "start_time": "2024-01-18T16:02:01.648965Z"
    }
   },
   "id": "a7b310ea840d336c",
   "execution_count": 34
  },
  {
   "cell_type": "code",
   "outputs": [],
   "source": [],
   "metadata": {
    "collapsed": false
   },
   "id": "945aacab7ba39b87"
  }
 ],
 "metadata": {
  "kernelspec": {
   "display_name": "Python 3",
   "language": "python",
   "name": "python3"
  },
  "language_info": {
   "codemirror_mode": {
    "name": "ipython",
    "version": 2
   },
   "file_extension": ".py",
   "mimetype": "text/x-python",
   "name": "python",
   "nbconvert_exporter": "python",
   "pygments_lexer": "ipython2",
   "version": "2.7.6"
  }
 },
 "nbformat": 4,
 "nbformat_minor": 5
}
