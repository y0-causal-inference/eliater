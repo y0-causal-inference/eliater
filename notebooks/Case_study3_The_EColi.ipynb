{
 "cells": [
  {
   "cell_type": "markdown",
   "source": [
    "# Case study 3: The Escherichia coli K-12 transcriptional motif"
   ],
   "metadata": {
    "collapsed": false
   },
   "id": "a618fea7cca96207"
  },
  {
   "cell_type": "code",
   "execution_count": 80,
   "outputs": [],
   "source": [
    "# from eliater.network_validation import conditional_independence_test_summary\n",
    "import pandas as pd\n",
    "from y0.dsl import Variable\n",
    "from y0.graph import NxMixedGraph\n"
   ],
   "metadata": {
    "collapsed": false,
    "ExecuteTime": {
     "end_time": "2023-11-09T19:50:51.759507Z",
     "start_time": "2023-11-09T19:50:51.735283Z"
    }
   },
   "id": "ff81802acad24326"
  },
  {
   "cell_type": "markdown",
   "source": [
    "This is case study 3 in Figure 7 in this paper: Eliater: an analytical workflow and open source implementation for causal query estimation in biomolecular networks."
   ],
   "metadata": {
    "collapsed": false
   },
   "id": "a0cedf172ad6ad7b"
  },
  {
   "cell_type": "code",
   "execution_count": 81,
   "id": "initial_id",
   "metadata": {
    "collapsed": true,
    "ExecuteTime": {
     "end_time": "2023-11-09T19:50:53.136099Z",
     "start_time": "2023-11-09T19:50:53.018171Z"
    }
   },
   "outputs": [],
   "source": [
    "graph = NxMixedGraph.from_str_adj(\n",
    "    directed={\n",
    "        \"appY\": [\"appA\", \"appB\", \"hyaA\", \"hyaB\", \"hyaF\"],\n",
    "        \"arcA\": [\n",
    "            \"rpoS\",\n",
    "            \"fnr\",\n",
    "            \"dpiA\",\n",
    "            \"aceE\",\n",
    "            \"appY\",\n",
    "            \"dpiB\",\n",
    "            \"cydD\",\n",
    "            \"hyaA\",\n",
    "            \"hyaB\",\n",
    "            \"hyaF\",\n",
    "            \"mdh\",\n",
    "            \"lrp\",\n",
    "            \"ydeO\",\n",
    "            \"oxyR\",  \n",
    "        ],\n",
    "        \"btsR\": [\"mdh\"],\n",
    "        \"cra\": [\"cyoA\"],\n",
    "        \"crp\": [\n",
    "            \"dpiA\",\n",
    "            \"cirA\",\n",
    "            \"dcuR\",\n",
    "            \"oxyR\",\n",
    "            \"fis\",\n",
    "            \"fur\",\n",
    "            \"aceE\",\n",
    "            \"dpiB\",\n",
    "            \"cyoA\",\n",
    "            \"exuT\",\n",
    "            \"gadX\",\n",
    "            \"mdh\",\n",
    "            \"gutM\"\n",
    "        ],\n",
    "        \"cspA\": [\"hns\"],\n",
    "        \"dcuR\": [\"dpiA\", \"dpiB\"],\n",
    "        \"dpiA\": [\"appY\", \"citC\", \"dpiB\", \"exuT\", \"mdh\"],\n",
    "        \"fis\": [\"cyoA\", \"gadX\", \"hns\", \"hyaA\", \"hyaB\", \"hyaF\"],\n",
    "        \"fnr\": [\n",
    "            \"dcuR\",\n",
    "            \"dpiA\",\n",
    "            \"narL\",\n",
    "            \"aceE\",\n",
    "            \"amtB\",\n",
    "            \"aspC\",\n",
    "            \"dpiB\",\n",
    "            \"cydD\",\n",
    "            \"cyoA\",\n",
    "            \"gadX\",\n",
    "            \"hcp\",\n",
    "        ],\n",
    "        \"fur\": [\"fnr\", \"amtB\", \"aspC\", \"cirA\", \"cyoA\"],\n",
    "        \"gadX\": [\"amtB\", \"hns\"],\n",
    "        \"hns\": [\"appY\", \"ydeO\", \"gutM\"],\n",
    "        \"ihfA\": [\"crp\", \"fnr\", \"ihfB\"],\n",
    "        \"ihfB\": [\"fnr\"],\n",
    "        \"iscR\": [\"hyaA\", \"hyaB\"],\n",
    "        \"lrp\": [\"soxS\", \"aspC\"],\n",
    "        \"modE\": [\"narL\"],\n",
    "        \"narL\": [\"dpiB\", \"cydD\", \"hcp\", \"hyaA\", \"hyaB\", \"hyaF\", \"dcuR\", \"dpiA\"],\n",
    "        \"narP\": [\"hyaA\", \"hyaB\", \"hyaF\"],\n",
    "        \"oxyR\": [\"fur\", \"hcp\"],\n",
    "        \"phoB\": [\"cra\"],\n",
    "        \"rpoD\": [\n",
    "            \"arcA\",\n",
    "            \"cirA\",\n",
    "            \"crp\",\n",
    "            \"dcuR\",\n",
    "            \"fis\",\n",
    "            \"fnr\",\n",
    "            \"fur\",\n",
    "            \"ihfB\",\n",
    "            \"lrp\",\n",
    "            \"narL\",\n",
    "            \"oxyR\",\n",
    "            \"phoB\",\n",
    "            \"rpoS\",\n",
    "            \"soxS\",\n",
    "            \"aceE\",\n",
    "            \"ydeO\",\n",
    "            \"hns\",\n",
    "        ],\n",
    "        \"rpoH\": [\"cra\"],\n",
    "        \"rpoS\": [\"aceE\", \"appY\", \"hyaA\", \"hyaB\", \"hyaF\", \"ihfA\", \"ihfB\", \"oxyR\"],\n",
    "        \"soxS\": [\"fur\"],\n",
    "        \"ydeO\": [\"hyaA\", \"hyaF\", \"hyaB\"],\n",
    "    },\n",
    "    undirected={\n",
    "        \"dpiA\": [\"dpiB\"],\n",
    "        \"hns\": [\"rpoS\", \"lrp\"],\n",
    "        \"rpoS\": [\"lrp\"],\n",
    "        \"lrp\": [\"ydeO\", \"oxyR\"],\n",
    "        \"oxyR\": [\"ydeO\"]\n",
    "    },\n",
    ")"
   ]
  },
  {
   "cell_type": "code",
   "execution_count": 82,
   "outputs": [],
   "source": [
    "# Get the data\n",
    "data = pd.read_csv(\n",
    "    \"~/Github/eliater/src/eliater/data/EColi_obs_data.csv\",\n",
    "    index_col=False,\n",
    ")\n",
    "data_discrete = pd.read_csv(\n",
    "    \"~/Github/eliater/src/eliater/data/EColi_obs_data_discrete.csv\",\n",
    "    index_col=False,\n",
    ")"
   ],
   "metadata": {
    "collapsed": false,
    "ExecuteTime": {
     "end_time": "2023-11-09T19:50:53.794065Z",
     "start_time": "2023-11-09T19:50:53.727599Z"
    }
   },
   "id": "493dbce26b06565c"
  },
  {
   "cell_type": "markdown",
   "source": [
    "## Step 1: Verify correctness of the network structure"
   ],
   "metadata": {
    "collapsed": false
   },
   "id": "3cb336afa4c23502"
  },
  {
   "cell_type": "code",
   "execution_count": 83,
   "outputs": [],
   "source": [
    "#remove after branch is merged\n",
    "import logging\n",
    "from typing import Dict, Literal, Optional\n",
    "import pandas as pd\n",
    "\n",
    "from y0.algorithm.falsification import get_graph_falsifications\n",
    "from y0.dsl import Variable\n",
    "from y0.graph import NxMixedGraph\n",
    "from y0.struct import get_conditional_independence_tests\n",
    "\n",
    "logging.basicConfig(format=\"%(message)s\", level=logging.DEBUG)\n",
    "\n",
    "\n",
    "__all__ = [\n",
    "    \"conditional_independence_test_summary\",\n",
    "    \"validate_test\",\n",
    "    \"get_state_space_map\",\n",
    "    \"is_data_discrete\",\n",
    "    \"is_data_continuous\",\n",
    "    \"CITest\",\n",
    "    \"choose_default_test\",\n",
    "]\n",
    "\n",
    "TESTS = get_conditional_independence_tests()\n",
    "\n",
    "\n",
    "def get_state_space_map(\n",
    "    data: pd.DataFrame, threshold: Optional[int] = 10\n",
    ") -> Dict[Variable, Literal[\"discrete\", \"continuous\"]]:\n",
    "    \"\"\"Get a dictionary from each variable to its type.\n",
    "\n",
    "    :param data: the observed data\n",
    "    :param threshold: The threshold for determining a column as discrete\n",
    "        based on the number of unique values\n",
    "    :return: the mapping from column name to its type\n",
    "    \"\"\"\n",
    "    column_values_unique_count = {\n",
    "        column_name: data[column_name].nunique() for column_name in data.columns\n",
    "    }\n",
    "    return {\n",
    "        Variable(column): \"discrete\"\n",
    "        if column_values_unique_count[column] <= threshold\n",
    "        else \"continuous\"\n",
    "        for column in data.columns\n",
    "    }\n",
    "\n",
    "\n",
    "def is_data_discrete(data: pd.DataFrame) -> bool:\n",
    "    \"\"\"Check if all the columns in the dataframe has discrete data.\n",
    "\n",
    "    :param data: observational data.\n",
    "    :return: True, if all the columns have discrete data, False, otherwise\n",
    "    \"\"\"\n",
    "    variable_types = set(get_state_space_map(data=data).values())\n",
    "    return variable_types == {\"discrete\"}\n",
    "\n",
    "\n",
    "def is_data_continuous(data: pd.DataFrame) -> bool:\n",
    "    \"\"\"Check if all the columns in the dataframe has continuous data.\n",
    "\n",
    "    :param data: observational.\n",
    "    :return: True, if all the columns have continuous data, False, otherwise\n",
    "    \"\"\"\n",
    "    variable_types = set(get_state_space_map(data).values())\n",
    "    return variable_types == {\"continuous\"}\n",
    "\n",
    "\n",
    "# TODO replace with y0.struct.CITest\n",
    "CITest = Literal[\n",
    "    \"pearson\",\n",
    "    \"chi-square\",\n",
    "    \"cressie_read\",\n",
    "    \"freeman_tuckey\",\n",
    "    \"g_sq\",\n",
    "    \"log_likelihood\",\n",
    "    \"modified_log_likelihood\",\n",
    "    \"power_divergence\",\n",
    "    \"neyman\",\n",
    "]\n",
    "\n",
    "\n",
    "def choose_default_test(data: pd.DataFrame) -> CITest:\n",
    "    \"\"\"Choose the default statistical test for testing conditional independencies based on the data.\n",
    "\n",
    "    :param data: observational data.\n",
    "    :return: the default test based on data\n",
    "    :raises NotImplementedError: if data is of mixed type (contains both discrete and continuous columns)\n",
    "    \"\"\"\n",
    "    if is_data_discrete(data):\n",
    "        return \"chi-square\"\n",
    "    if is_data_continuous(data):\n",
    "        return \"pearson\"\n",
    "    raise NotImplementedError(\n",
    "        \"Mixed data types are not allowed. Either all of the columns of data should be discrete / continuous.\"\n",
    "    )\n",
    "\n",
    "\n",
    "def validate_test(\n",
    "    data: pd.DataFrame,\n",
    "    test: Optional[CITest],\n",
    ") -> None:\n",
    "    \"\"\"Validate the conditional independency test passed by the user.\n",
    "\n",
    "    :param data: observational data.\n",
    "    :param test: the conditional independency test passed by the user.\n",
    "    :raises ValueError: if the passed test is invalid / unsupported, pearson is used for discrete data or\n",
    "        chi-square is used for continuous data\n",
    "    \"\"\"\n",
    "    tests = get_conditional_independence_tests()\n",
    "    if test not in tests:\n",
    "        raise ValueError(f\"`{test}` is invalid. Supported CI tests are: {sorted(tests)}\")\n",
    "\n",
    "    if is_data_continuous(data) and test != \"pearson\":\n",
    "        raise ValueError(\n",
    "            \"The data is continuous. Either discretize and use chi-square or use the pearson.\"\n",
    "        )\n",
    "\n",
    "    if is_data_discrete(data) and test == \"pearson\":\n",
    "        raise ValueError(\"Cannot run pearson on discrete data. Use chi-square instead.\")\n",
    "\n",
    "\n",
    "def conditional_independence_test_summary(\n",
    "    graph: NxMixedGraph,\n",
    "    data: pd.DataFrame,\n",
    "    test: Optional[CITest] = None,\n",
    "    max_given: Optional[int] = 5,\n",
    "    significance_level: Optional[float] = None,\n",
    "    verbose: Optional[bool] = False,\n",
    ") -> None:\n",
    "    \"\"\"Print the summary of conditional independency test results.\n",
    "\n",
    "    Prints the summary to the console, which includes the total number of conditional independence tests,\n",
    "    the number and percentage of failed tests, and statistical information about each test such as p-values,\n",
    "    and test results.\n",
    "\n",
    "    :param graph: an NxMixedGraph\n",
    "    :param data: observational data corresponding to the graph\n",
    "    :param test: the conditional independency test to use. If None, defaults to ``pearson`` for continuous data\n",
    "        and ``chi-square`` for discrete data.\n",
    "    :param max_given: The maximum set size in the power set of the vertices minus the d-separable pairs\n",
    "    :param significance_level: The statistical tests employ this value for\n",
    "        comparison with the p-value of the test to determine the independence of\n",
    "        the tested variables. If none, defaults to 0.01.\n",
    "    :param verbose: If `False`, only print the details of failed tests.\n",
    "        If 'True', print the details of all the conditional independency results. Defaults to `False`\n",
    "    :raises NotImplementedError: if data is of mixed type (contains both discrete and continuous columns)\n",
    "    \"\"\"\n",
    "    if significance_level is None:\n",
    "        significance_level = 0.01\n",
    "    if not test:\n",
    "        test = choose_default_test(data)\n",
    "    else:\n",
    "        # Validate test and data\n",
    "        validate_test(data=data, test=test)\n",
    "        if len(set(get_state_space_map(data).values())) > 1:\n",
    "            raise NotImplementedError(\n",
    "                \"Mixed data types are not allowed. Either all of the columns of data should be discrete / continuous.\"\n",
    "            )\n",
    "    test_results = get_graph_falsifications(\n",
    "        graph=graph,\n",
    "        df=data,\n",
    "        method=test,\n",
    "        significance_level=significance_level,\n",
    "        max_given=max_given,\n",
    "    ).evidence\n",
    "    # Find the result based on p-value\n",
    "    test_results[\"result\"] = test_results[\"p\"].apply(\n",
    "        lambda p_value: \"fail\" if p_value < significance_level else \"pass\"\n",
    "    )\n",
    "    # Selecting columns of interest\n",
    "    test_results = test_results[[\"left\", \"right\", \"given\", \"p\", \"result\"]]\n",
    "    # Sorting the rows by index\n",
    "    test_results = test_results.sort_index()\n",
    "    test_results = test_results.rename(columns={\"p\": \"p-value\"})\n",
    "    failed_tests = test_results[test_results[\"result\"] == \"fail\"]\n",
    "    total_no_of_tests = len(test_results)\n",
    "    total_no_of_failed_tests = len(failed_tests)\n",
    "    percentage_of_failed_tests = total_no_of_failed_tests / total_no_of_tests\n",
    "    logging.info(f\"Total number of conditional independencies: {total_no_of_tests:,}\")\n",
    "    logging.info(f\"Total number of failed tests: {total_no_of_failed_tests:,}\")\n",
    "    logging.info(f\"Percentage of failed tests: {percentage_of_failed_tests:.2%}\")\n",
    "    if verbose:\n",
    "        logging.info(test_results.to_string(index=False))\n",
    "    else:\n",
    "        logging.info(failed_tests.to_string(index=False))"
   ],
   "metadata": {
    "collapsed": false,
    "ExecuteTime": {
     "end_time": "2023-11-09T19:51:05.140263Z",
     "start_time": "2023-11-09T19:51:05.066418Z"
    }
   },
   "id": "d4b562efe3344b5f"
  },
  {
   "cell_type": "markdown",
   "source": [
    "The total number of d-separations implied by this network is large. It takes several hours to find all of them and test them against data. On the other hand, High-dimensional conditional independence tests can be very unreliable. Hence, it is best to control number of variables to condition upon. Here we selected 3. However, the default in this function is 5. Even with max_given equal to 3, it takes around an hour to produce the results."
   ],
   "metadata": {
    "collapsed": false
   },
   "id": "dd9954532ad35474"
  },
  {
   "cell_type": "code",
   "execution_count": 84,
   "outputs": [
    {
     "name": "stderr",
     "output_type": "stream",
     "text": [
      "Total number of conditional independencies: 498\n",
      "Total number of failed tests: 182\n",
      "Percentage of failed tests: 36.55%\n",
      "left right     given      p-value result\n",
      "ihfA  phoB      rpoS 5.582804e-03   fail\n",
      "citC  oxyR      dpiA 6.140867e-03   fail\n",
      "cspA  rpoD           4.446525e-09   fail\n",
      "appB  hyaB      appY 0.000000e+00   fail\n",
      "appB  dpiB      appY 6.090708e-05   fail\n",
      "dpiA  rpoH           6.789612e-04   fail\n",
      "hyaF  rpoH           1.341664e-06   fail\n",
      " crp  iscR           2.824243e-05   fail\n",
      "aceE  phoB      rpoD 4.768390e-03   fail\n",
      "aceE  rpoH           6.062206e-04   fail\n",
      "appA  narL      appY 1.617595e-13   fail\n",
      "dcuR  phoB      rpoD 3.311936e-03   fail\n",
      "cyoA  phoB  cra|rpoD 4.561606e-03   fail\n",
      "citC   fnr      dpiA 3.763520e-07   fail\n",
      " crp   lrp rpoD|rpoS 2.676592e-04   fail\n",
      "ihfA  rpoD      rpoS 7.371881e-14   fail\n",
      "appB  narL      appY 2.705974e-04   fail\n",
      " fis   hcp  crp|rpoD 2.980981e-03   fail\n",
      "exuT  rpoH           9.435462e-07   fail\n",
      "narL  rpoH           2.759763e-05   fail\n",
      "phoB  soxS      rpoD 1.964855e-09   fail\n",
      "arcA   crp rpoD|rpoS 2.946685e-05   fail\n",
      " fis  oxyR  crp|rpoD 7.706843e-06   fail\n",
      "arcA   fis  crp|rpoD 6.432732e-05   fail\n",
      "appA   fis      appY 2.557713e-10   fail\n",
      "amtB  appA      appY 1.869400e-07   fail\n",
      "exuT  hyaF  crp|dpiA 1.602041e-03   fail\n",
      " crp  modE           1.759440e-03   fail\n",
      "oxyR  soxS  lrp|rpoD 1.875466e-03   fail\n",
      "appB   fis      appY 7.409424e-06   fail\n",
      "cspA   fis           1.067050e-19   fail\n",
      "cirA   cra      phoB 1.184049e-04   fail\n",
      " mdh  narP           5.835724e-07   fail\n",
      "appA  cspA      appY 3.375975e-10   fail\n",
      "appB  phoB      appY 3.896249e-03   fail\n",
      "dpiB  rpoH           1.341664e-06   fail\n",
      "exuT   lrp  crp|dpiA 1.200594e-04   fail\n",
      "cspA  phoB           5.849792e-07   fail\n",
      "amtB  cspA           6.644695e-08   fail\n",
      "arcA  phoB      rpoD 9.307203e-04   fail\n",
      " cra   fnr      phoB 7.134068e-03   fail\n",
      " fnr  phoB      rpoD 5.057552e-04   fail\n",
      "appA  rpoH           5.896157e-07   fail\n",
      "rpoD  rpoH           8.941588e-03   fail\n",
      "appA  gadX      appY 3.872992e-10   fail\n",
      "gadX  modE           4.053289e-05   fail\n",
      "btsR  hyaB           3.624237e-03   fail\n",
      "appB  rpoH           1.212935e-04   fail\n",
      "appA  rpoD      appY 1.455475e-06   fail\n",
      "aceE  modE           3.162028e-03   fail\n",
      "gutM  iscR           8.550181e-04   fail\n",
      " fis  rpoS  crp|rpoD 3.861919e-09   fail\n",
      " mdh  phoB      rpoD 4.202880e-06   fail\n",
      "appB  cspA      appY 1.423734e-07   fail\n",
      " mdh  rpoH           2.557183e-03   fail\n",
      "appY  btsR           7.920472e-03   fail\n",
      "cspA  rpoH           2.028534e-05   fail\n",
      "oxyR  phoB      rpoD 3.709499e-03   fail\n",
      "iscR   mdh           2.937744e-09   fail\n",
      " cra  narP           2.944874e-03   fail\n",
      "appB  gadX      appY 1.412426e-12   fail\n",
      "gutM   hcp   crp|hns 2.512275e-04   fail\n",
      "appB  gutM      appY 4.923680e-03   fail\n",
      "appA  arcA      appY 7.213119e-12   fail\n",
      "modE  rpoH           9.076998e-06   fail\n",
      "btsR   fis           4.412122e-04   fail\n",
      "iscR  soxS           3.943220e-13   fail\n",
      "appA  appB      appY 0.000000e+00   fail\n",
      "exuT  rpoS  crp|dpiA 6.324617e-03   fail\n",
      "appA  phoB      appY 1.429131e-06   fail\n",
      "amtB  modE           1.711805e-03   fail\n",
      "iscR  narP           2.696127e-10   fail\n",
      "appA  exuT      appY 1.114722e-07   fail\n",
      "exuT  phoB      rpoD 4.408649e-04   fail\n",
      " cra  exuT      phoB 6.821737e-08   fail\n",
      "cspA   lrp           8.698827e-03   fail\n",
      "exuT  hyaB  crp|dpiA 3.915534e-05   fail\n",
      "iscR  phoB           4.136125e-08   fail\n",
      "cspA   fur           3.605676e-03   fail\n",
      "ihfA  iscR           2.638018e-03   fail\n",
      "amtB  appB      appY 8.092025e-06   fail\n",
      "appA  modE      appY 9.780871e-10   fail\n",
      "cspA  exuT           7.290843e-05   fail\n",
      "appB  arcA      appY 7.295134e-07   fail\n",
      "arcA  rpoH           9.091598e-12   fail\n",
      " fis  modE           2.086041e-08   fail\n",
      "citC  hyaB      dpiA 1.997589e-03   fail\n",
      "btsR  rpoD           6.042479e-08   fail\n",
      " fnr  rpoH           5.143150e-03   fail\n",
      "cydD  iscR           2.085445e-03   fail\n",
      "amtB  btsR           1.168046e-03   fail\n",
      "cydD  narP           5.017468e-05   fail\n",
      "aceE  exuT  crp|dpiA 6.449981e-06   fail\n",
      "appA  btsR           2.113480e-07   fail\n",
      " fis  rpoH           7.398909e-06   fail\n",
      "appB  exuT      appY 1.698620e-04   fail\n",
      "exuT  narL  crp|dpiA 3.376453e-04   fail\n",
      "arcA  cspA           2.598884e-03   fail\n",
      "btsR  cspA           5.756458e-05   fail\n",
      "appA  rpoS      appY 3.437099e-06   fail\n",
      "appA  dpiA      appY 3.114026e-04   fail\n",
      "cyoA  iscR           7.553950e-21   fail\n",
      "dcuR  exuT  crp|dpiA 1.691864e-09   fail\n",
      "citC  cyoA      dpiA 4.357459e-04   fail\n",
      "appY  narP           1.641940e-03   fail\n",
      "cyoA  narP           7.989363e-08   fail\n",
      "appB  modE      appY 5.367353e-05   fail\n",
      "dpiA   fis  crp|rpoD 3.488150e-03   fail\n",
      " hcp  narP           6.482522e-07   fail\n",
      "hyaB  rpoH           4.115280e-07   fail\n",
      "btsR   lrp           7.655403e-04   fail\n",
      "appB  btsR           2.841738e-07   fail\n",
      "cspA  ihfB           6.810750e-16   fail\n",
      "citC   hcp      dpiA 1.266063e-05   fail\n",
      "exuT  hyaA  crp|dpiA 2.419164e-04   fail\n",
      "cyoA  modE           1.061117e-06   fail\n",
      "appA   cra      appY 7.460204e-03   fail\n",
      "appA  hyaF      appY 0.000000e+00   fail\n",
      "aceE   cra      phoB 1.105867e-09   fail\n",
      "gadX  narL  fnr|rpoD 5.371044e-07   fail\n",
      "modE  oxyR           8.579521e-04   fail\n",
      " cra  hyaB      phoB 3.254371e-04   fail\n",
      "aceE  btsR           2.362018e-12   fail\n",
      "appB  hyaF      appY 1.232348e-14   fail\n",
      " crp  soxS  lrp|rpoD 9.926911e-03   fail\n",
      "hyaF  phoB      rpoD 3.029643e-05   fail\n",
      "citC  narP           5.618365e-05   fail\n",
      "appY  rpoH           7.232780e-04   fail\n",
      "appA  ihfA      appY 2.526730e-04   fail\n",
      "phoB  rpoH           1.994346e-04   fail\n",
      "cirA  iscR           1.096922e-03   fail\n",
      " hcp  rpoH           9.436574e-04   fail\n",
      " cra  dcuR      phoB 7.993606e-14   fail\n",
      "narL  phoB      rpoD 9.833941e-04   fail\n",
      "cirA  narP           5.143150e-03   fail\n",
      "btsR  exuT           1.255577e-03   fail\n",
      "cspA  ihfA           5.795332e-13   fail\n",
      "iscR  oxyR           4.419710e-09   fail\n",
      " hns  phoB      rpoD 8.041860e-04   fail\n",
      "cspA   mdh           3.943117e-03   fail\n",
      "cyoA  rpoH  cra|phoB 6.962824e-03   fail\n",
      " fnr  iscR           1.559036e-27   fail\n",
      "arcA  modE           2.390564e-07   fail\n",
      "cspA  cyoA           3.384462e-03   fail\n",
      "appA  hyaA      appY 1.178724e-12   fail\n",
      "iscR  modE           4.212614e-03   fail\n",
      " fnr  narP           7.534667e-12   fail\n",
      "cydD  gutM   crp|hns 6.117584e-04   fail\n",
      "narL  soxS  fnr|rpoD 3.297542e-03   fail\n",
      "cspA  narL           3.116891e-12   fail\n",
      "arcA  btsR           2.008254e-03   fail\n",
      "btsR  cirA           1.338779e-03   fail\n",
      "citC  rpoH           4.047257e-03   fail\n",
      "appY  iscR           7.189075e-07   fail\n",
      "aspC  iscR           4.397913e-03   fail\n",
      "modE  rpoS           4.385133e-06   fail\n",
      "arcA   cra      phoB 3.601310e-03   fail\n",
      "dpiB   fis  crp|rpoD 4.590950e-03   fail\n",
      "cspA  soxS           9.047345e-06   fail\n",
      "cyoA  exuT  crp|dpiA 1.654103e-03   fail\n",
      " fnr  modE           1.894939e-04   fail\n",
      " crp  cspA           1.456159e-04   fail\n",
      "appB  hyaA      appY 8.688472e-11   fail\n",
      " hcp  iscR           5.866639e-26   fail\n",
      "narP  soxS           6.639825e-05   fail\n",
      "cirA  cspA           1.151547e-04   fail\n",
      " fis  narL  fnr|rpoD 2.311667e-06   fail\n",
      "appA  ihfB      appY 1.417174e-03   fail\n",
      "btsR  ihfA           7.582588e-03   fail\n",
      "citC  iscR           1.038309e-07   fail\n",
      "btsR  dcuR           8.573127e-10   fail\n",
      "btsR   cra           4.958738e-10   fail\n",
      "aspC  narL  fnr|rpoD 3.417717e-03   fail\n",
      "dpiB  phoB      rpoD 1.042603e-06   fail\n",
      "hyaA  rpoH           5.531160e-05   fail\n",
      "phoB  rpoS      rpoD 1.396967e-05   fail\n",
      "rpoH  rpoS           4.115280e-07   fail\n",
      "appA  hyaB      appY 1.110223e-16   fail\n",
      "appA  dpiB      appY 1.922456e-07   fail\n",
      "narP  rpoH           5.143150e-03   fail\n",
      " crp  rpoS ihfA|rpoD 9.164896e-05   fail\n",
      "ihfA  soxS      rpoS 1.169146e-03   fail\n"
     ]
    }
   ],
   "source": [
    "conditional_independence_test_summary(graph, data_discrete, max_given=3, verbose=False)"
   ],
   "metadata": {
    "collapsed": false,
    "ExecuteTime": {
     "end_time": "2023-11-09T20:45:10.265736Z",
     "start_time": "2023-11-09T19:51:12.764061Z"
    }
   },
   "id": "946fd227c4da088d"
  },
  {
   "cell_type": "markdown",
   "source": [
    "## Step 2: Check query identifiability"
   ],
   "metadata": {
    "collapsed": false
   },
   "id": "de84acea8401aa82"
  },
  {
   "cell_type": "code",
   "execution_count": 53,
   "outputs": [
    {
     "data": {
      "text/plain": "Identification(outcomes=\"{dpiA}, treatments=\"{fur}\",conditions=\"set()\",  graph=\"NxMixedGraph(directed=<networkx.classes.digraph.DiGraph object at 0x12777ee10>, undirected=<networkx.classes.graph.Graph object at 0x127cc7a90>)\", estimand=\"P(aceE, amtB, appA, appB, appY, arcA, aspC, btsR, cirA, citC, cra, crp, cspA, cydD, cyoA, dcuR, dpiA, dpiB, exuT, fis, fnr, fur, gadX, gutM, hcp, hns, hyaA, hyaB, hyaF, ihfA, ihfB, iscR, lrp, mdh, modE, narL, narP, oxyR, phoB, rpoD, rpoH, rpoS, soxS, ydeO)\")"
     },
     "execution_count": 53,
     "metadata": {},
     "output_type": "execute_result"
    }
   ],
   "source": [
    "from y0.algorithm.identify import Identification\n",
    "from y0.dsl import P\n",
    "id_in = Identification.from_expression(\n",
    "    query=P(Variable('dpiA') @ Variable('fur')),\n",
    "    graph=graph,\n",
    ")\n",
    "id_in"
   ],
   "metadata": {
    "collapsed": false,
    "ExecuteTime": {
     "end_time": "2023-11-09T16:43:23.435780Z",
     "start_time": "2023-11-09T16:43:22.909372Z"
    }
   },
   "id": "9db1518afcea7377"
  },
  {
   "cell_type": "markdown",
   "source": [
    "The query is identifiable. Hence, we can proceed to the next step."
   ],
   "metadata": {
    "collapsed": false
   },
   "id": "4abeb139d356f07c"
  },
  {
   "cell_type": "markdown",
   "source": [
    "## Step 3: Find nuisance variables and mark them as latent"
   ],
   "metadata": {
    "collapsed": false
   },
   "id": "c61266793a90058b"
  },
  {
   "cell_type": "code",
   "execution_count": 54,
   "outputs": [],
   "source": [
    "#remove after merging simplify branch to main\n",
    "import itertools\n",
    "from typing import Iterable, Optional, Set, Union\n",
    "\n",
    "import networkx as nx\n",
    "\n",
    "from y0.algorithm.simplify_latent import simplify_latent_dag\n",
    "from y0.dsl import Variable\n",
    "from y0.graph import DEFAULT_TAG, NxMixedGraph\n",
    "\n",
    "__all__ = [\n",
    "    \"remove_latent_variables\",\n",
    "    \"mark_nuisance_variables_as_latent\",\n",
    "    \"find_all_nodes_in_causal_paths\",\n",
    "    \"find_nuisance_variables\",\n",
    "]\n",
    "\n",
    "\n",
    "def remove_latent_variables(\n",
    "    graph: NxMixedGraph,\n",
    "    treatments: Union[Variable, Set[Variable]],\n",
    "    outcomes: Union[Variable, Set[Variable]],\n",
    "    tag: Optional[str] = None,\n",
    ") -> NxMixedGraph:\n",
    "    \"\"\"Find all nuissance variables and remove them based on Evans' simplification rules.\n",
    "\n",
    "    :param graph: an NxMixedGraph\n",
    "    :param treatments: a list of treatments\n",
    "    :param outcomes: a list of outcomes\n",
    "    :param tag: The tag for which variables are latent\n",
    "    :return: the new graph after simplification\n",
    "    \"\"\"\n",
    "    lv_dag = mark_nuisance_variables_as_latent(\n",
    "        graph=graph, treatments=treatments, outcomes=outcomes, tag=tag\n",
    "    )\n",
    "    simplified_latent_dag = simplify_latent_dag(lv_dag, tag=tag)\n",
    "    return NxMixedGraph.from_latent_variable_dag(simplified_latent_dag.graph, tag=tag)\n",
    "\n",
    "\n",
    "def mark_nuisance_variables_as_latent(\n",
    "    graph: NxMixedGraph,\n",
    "    treatments: Union[Variable, Set[Variable]],\n",
    "    outcomes: Union[Variable, Set[Variable]],\n",
    "    tag: Optional[str] = None,\n",
    ") -> nx.DiGraph:\n",
    "    \"\"\"Find all the nuisance variables and mark them as latent.\n",
    "\n",
    "    Mark nuisance variables as latent by first identifying them, then creating a new graph where these\n",
    "    nodes are marked as latent. Nuisance variables are the descendants of nodes in all proper causal paths\n",
    "    that are not ancestors of the outcome variables nodes. A proper causal path is a directed path from\n",
    "    treatments to the outcome. Nuisance variables should not be included in the estimation of the causal\n",
    "    effect as they increase the variance.\n",
    "\n",
    "    :param graph: an NxMixedGraph\n",
    "    :param treatments: a list of treatments\n",
    "    :param outcomes: a list of outcomes\n",
    "    :param tag: The tag for which variables are latent\n",
    "    :return: the modified graph after simplification, in place\n",
    "    \"\"\"\n",
    "    if tag is None:\n",
    "        tag = DEFAULT_TAG\n",
    "    nuisance_variables = find_nuisance_variables(graph, treatments=treatments, outcomes=outcomes)\n",
    "    lv_dag = NxMixedGraph.to_latent_variable_dag(graph, tag=tag)\n",
    "    # Set nuisance variables as latent\n",
    "    for node, data in lv_dag.nodes(data=True):\n",
    "        if Variable(node) in nuisance_variables:\n",
    "            data[tag] = True\n",
    "    return lv_dag\n",
    "\n",
    "\n",
    "def find_all_nodes_in_causal_paths(\n",
    "    graph: NxMixedGraph,\n",
    "    treatments: Union[Variable, Set[Variable]],\n",
    "    outcomes: Union[Variable, Set[Variable]],\n",
    ") -> Set[Variable]:\n",
    "    \"\"\"Find all the nodes in proper causal paths from treatments to outcomes.\n",
    "\n",
    "    A proper causal path is a directed path from treatments to the outcome.\n",
    "\n",
    "    :param graph: an NxMixedGraph\n",
    "    :param treatments: a list of treatments\n",
    "    :param outcomes: a list of outcomes\n",
    "    :return: the nodes on all causal paths from treatments to outcomes.\n",
    "    \"\"\"\n",
    "    if isinstance(treatments, Variable):\n",
    "        treatments = {treatments}\n",
    "    if isinstance(outcomes, Variable):\n",
    "        outcomes = {outcomes}\n",
    "\n",
    "    return {\n",
    "        node\n",
    "        for treatment, outcome in itertools.product(treatments, outcomes)\n",
    "        for causal_path in nx.all_simple_paths(graph.directed, treatment, outcome)\n",
    "        for node in causal_path\n",
    "    }\n",
    "\n",
    "\n",
    "def find_nuisance_variables(\n",
    "    graph: NxMixedGraph,\n",
    "    treatments: Union[Variable, Set[Variable]],\n",
    "    outcomes: Union[Variable, Set[Variable]],\n",
    ") -> Iterable[Variable]:\n",
    "    \"\"\"Find the nuisance variables in the graph.\n",
    "\n",
    "    Nuisance variables are the descendants of nodes in all proper causal paths that are\n",
    "    not ancestors of the outcome variables' nodes. A proper causal path is a directed path\n",
    "    from treatments to the outcome. Nuisance variables should not be included in the estimation\n",
    "    of the causal effect as they increase the variance.\n",
    "\n",
    "    :param graph: an NxMixedGraph\n",
    "    :param treatments: a list of treatments\n",
    "    :param outcomes: a list of outcomes\n",
    "    :returns: The nuisance variables.\n",
    "    \"\"\"\n",
    "    if isinstance(treatments, Variable):\n",
    "        treatments = {treatments}\n",
    "    if isinstance(outcomes, Variable):\n",
    "        outcomes = {outcomes}\n",
    "\n",
    "    # Find the nodes on all causal paths\n",
    "    nodes_on_causal_paths = find_all_nodes_in_causal_paths(\n",
    "        graph=graph, treatments=treatments, outcomes=outcomes\n",
    "    )\n",
    "\n",
    "    # Find the descendants of interest\n",
    "    descendants_of_nodes_on_causal_paths = graph.descendants_inclusive(nodes_on_causal_paths)\n",
    "\n",
    "    # Find the ancestors of outcome variables\n",
    "    ancestors_of_outcomes = graph.ancestors_inclusive(outcomes)\n",
    "\n",
    "    descendants_not_ancestors = descendants_of_nodes_on_causal_paths.difference(\n",
    "        ancestors_of_outcomes\n",
    "    )\n",
    "\n",
    "    nuisance_variables = descendants_not_ancestors.difference(treatments.union(outcomes))\n",
    "    return nuisance_variables"
   ],
   "metadata": {
    "collapsed": false,
    "ExecuteTime": {
     "end_time": "2023-11-09T16:43:26.127373Z",
     "start_time": "2023-11-09T16:43:26.018211Z"
    }
   },
   "id": "92f6d81637f46942"
  },
  {
   "cell_type": "markdown",
   "source": [
    "This function finds the nuisance variables for the input graph."
   ],
   "metadata": {
    "collapsed": false
   },
   "id": "55c4bfe949593a4a"
  },
  {
   "cell_type": "code",
   "execution_count": 55,
   "outputs": [
    {
     "data": {
      "text/plain": "21"
     },
     "execution_count": 55,
     "metadata": {},
     "output_type": "execute_result"
    }
   ],
   "source": [
    "nuisance_variables = find_nuisance_variables(graph, treatments=Variable('fur'), outcomes=Variable('dpiA'))\n",
    "len(nuisance_variables)"
   ],
   "metadata": {
    "collapsed": false,
    "ExecuteTime": {
     "end_time": "2023-11-09T16:43:28.948803Z",
     "start_time": "2023-11-09T16:43:28.557628Z"
    }
   },
   "id": "80a72ccd9a8ce726"
  },
  {
   "cell_type": "markdown",
   "source": [
    "A total of 21 nodes are found as nuisance variables."
   ],
   "metadata": {
    "collapsed": false
   },
   "id": "e783d9f1830f9a9a"
  },
  {
   "cell_type": "code",
   "execution_count": 56,
   "outputs": [
    {
     "data": {
      "text/plain": "{aceE,\n amtB,\n appA,\n appB,\n appY,\n aspC,\n cirA,\n citC,\n cydD,\n cyoA,\n dpiB,\n exuT,\n gadX,\n gutM,\n hcp,\n hns,\n hyaA,\n hyaB,\n hyaF,\n mdh,\n ydeO}"
     },
     "execution_count": 56,
     "metadata": {},
     "output_type": "execute_result"
    }
   ],
   "source": [
    "#get the list of nuisance variables\n",
    "nuisance_variables"
   ],
   "metadata": {
    "collapsed": false,
    "ExecuteTime": {
     "end_time": "2023-11-09T16:43:31.424616Z",
     "start_time": "2023-11-09T16:43:31.348368Z"
    }
   },
   "id": "f71a38b8b63d115"
  },
  {
   "cell_type": "markdown",
   "source": [
    "## Step 4: Simplify the network"
   ],
   "metadata": {
    "collapsed": false
   },
   "id": "a10322ec91a50588"
  },
  {
   "cell_type": "markdown",
   "source": [
    "The following function find the nuisance variable (step 3), marks them as latent and then applies Evan's simplification rules to remove the nuisance variables."
   ],
   "metadata": {
    "collapsed": false
   },
   "id": "62b5c7bd4d5db516"
  },
  {
   "cell_type": "code",
   "execution_count": 57,
   "outputs": [],
   "source": [
    "new_graph = remove_latent_variables(graph, treatments=Variable(\"fur\"), outcomes=Variable(\"dpiA\"))"
   ],
   "metadata": {
    "collapsed": false,
    "ExecuteTime": {
     "end_time": "2023-11-09T16:43:37.439563Z",
     "start_time": "2023-11-09T16:43:37.142023Z"
    }
   },
   "id": "213d620224db3470"
  },
  {
   "cell_type": "markdown",
   "source": [
    "## Step 5: Estimate the query"
   ],
   "metadata": {
    "collapsed": false
   },
   "id": "b281730e7c585e8"
  },
  {
   "cell_type": "code",
   "execution_count": 58,
   "outputs": [],
   "source": [
    "from ananke.graphs import ADMG\n",
    "from ananke.models import LinearGaussianSEM\n",
    "import pandas as pd\n",
    "import numpy as np\n",
    "import warnings\n",
    "warnings.filterwarnings('ignore')"
   ],
   "metadata": {
    "collapsed": false,
    "ExecuteTime": {
     "end_time": "2023-11-09T17:51:13.455083Z",
     "start_time": "2023-11-09T17:51:13.205836Z"
    }
   },
   "id": "bf7c214724c76deb"
  },
  {
   "cell_type": "code",
   "execution_count": 59,
   "outputs": [
    {
     "name": "stderr",
     "output_type": "stream",
     "text": [
      "SG\n",
      "ADMG\n"
     ]
    }
   ],
   "source": [
    "vertices = [\"arcA\", \n",
    "\"dpiA\",  \n",
    "\"fnr\", \n",
    "\"lrp\",  \n",
    "\"oxyR\", \n",
    "\"rpoS\",  \n",
    "\"crp\", \n",
    "\"dcuR\",  \n",
    "\"fis\",  \n",
    "\"fur\", \n",
    "\"narL\", \n",
    "\"ihfA\",  \n",
    "\"ihfB\",  \n",
    "\"soxS\", \n",
    "\"modE\",  \n",
    "\"phoB\", \n",
    "\"cra\", \n",
    "\"rpoD\", \n",
    "\"rpoH\",  \n",
    "\"btsR\" ]\n",
    "di_edges = [(\"arcA\", \"rpoS\"),\n",
    "(\"arcA\", \"fnr\" ),\n",
    "(\"arcA\", \"dpiA\" ),\n",
    "(\"crp\", \"dpiA\" ),\n",
    "(\"crp\", \"dcuR\"),\n",
    "(\"crp\", \"oxyR\"),\n",
    "(\"crp\", \"fis\"),\n",
    "(\"crp\", \"fur\" ),\n",
    "(\"dcuR\", \"dpiA\"),\n",
    "(\"fnr\", \"dcuR\"),\n",
    "(\"fnr\", \"dpiA\"),\n",
    "(\"fnr\", \"narL\"),\n",
    "(\"fur\", \"fnr\"),\n",
    "(\"ihfA\", \"crp\"),\n",
    "(\"ihfA\", \"fnr\"),\n",
    "(\"ihfA\", \"ihfB\"),\n",
    "(\"ihfB\", \"fnr\"),\n",
    "(\"lrp\", \"soxS\"),\n",
    "(\"modE\", \"narL\"),\n",
    "(\"phoB\", \"cra\"),\n",
    "(\"rpoD\", \"arcA\"),\n",
    "(\"rpoD\", \"crp\" ),\n",
    "(\"rpoD\", \"dcuR\"),\n",
    "(\"rpoD\", \"fis\"),\n",
    "(\"rpoD\", \"fnr\"),\n",
    "(\"rpoD\", \"fur\"),\n",
    "(\"rpoD\", \"ihfB\") ,\n",
    "(\"rpoD\", \"lrp\"),\n",
    "(\"rpoD\", \"narL\"),\n",
    "(\"rpoD\", \"oxyR\"),\n",
    "(\"rpoD\", \"phoB\"),\n",
    "(\"rpoD\", \"rpoS\"),\n",
    "(\"rpoD\", \"soxS\"),\n",
    "(\"rpoH\", \"cra\"),\n",
    "(\"narL\",  \"dcuR\"),\n",
    "(\"narL\", \"dpiA\") ,\n",
    "(\"oxyR\", \"fur\"),\n",
    "(\"rpoS\", \"ihfA\"),\n",
    "(\"rpoS\", \"ihfB\"),\n",
    "(\"rpoS\", \"oxyR\"),\n",
    "(\"soxS\", \"fur\"),\n",
    "(\"arcA\", \"lrp\"),\n",
    "(\"arcA\", \"oxyR\")]\n",
    "bi_edges = [(\"lrp\", \"oxyR\"), (\"rpoS\", \"lrp\")]\n",
    "new_graph = ADMG(vertices, di_edges=di_edges, bi_edges=bi_edges)"
   ],
   "metadata": {
    "collapsed": false,
    "ExecuteTime": {
     "end_time": "2023-11-09T17:51:19.648347Z",
     "start_time": "2023-11-09T17:51:19.561071Z"
    }
   },
   "id": "f606e977f672b935"
  },
  {
   "cell_type": "code",
   "execution_count": 60,
   "outputs": [
    {
     "data": {
      "text/plain": "'0.04775000215587306'"
     },
     "execution_count": 60,
     "metadata": {},
     "output_type": "execute_result"
    }
   ],
   "source": [
    "model = LinearGaussianSEM(new_graph)\n",
    "model.fit(data)\n",
    "str(model.total_effect([\"fur\"], [\"dpiA\"]))"
   ],
   "metadata": {
    "collapsed": false,
    "ExecuteTime": {
     "end_time": "2023-11-09T17:51:24.074034Z",
     "start_time": "2023-11-09T17:51:22.487656Z"
    }
   },
   "id": "1b78f418f01392c4"
  },
  {
   "cell_type": "markdown",
   "source": [
    "The ATE of gene fur on gene dpiA is 0.05."
   ],
   "metadata": {
    "collapsed": false
   },
   "id": "e713267e1bb43583"
  },
  {
   "cell_type": "code",
   "execution_count": null,
   "outputs": [],
   "source": [],
   "metadata": {
    "collapsed": false
   },
   "id": "62d9638c8fc935f7"
  }
 ],
 "metadata": {
  "kernelspec": {
   "display_name": "Python 3",
   "language": "python",
   "name": "python3"
  },
  "language_info": {
   "codemirror_mode": {
    "name": "ipython",
    "version": 2
   },
   "file_extension": ".py",
   "mimetype": "text/x-python",
   "name": "python",
   "nbconvert_exporter": "python",
   "pygments_lexer": "ipython2",
   "version": "2.7.6"
  }
 },
 "nbformat": 4,
 "nbformat_minor": 5
}
