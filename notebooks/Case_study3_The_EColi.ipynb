{
 "cells": [
  {
   "cell_type": "markdown",
   "source": [
    "# Case study 3: The Escherichia coli K-12 transcriptional motif"
   ],
   "metadata": {
    "collapsed": false
   },
   "id": "a618fea7cca96207"
  },
  {
   "cell_type": "code",
   "execution_count": 1,
   "outputs": [
    {
     "name": "stdout",
     "output_type": "stream",
     "text": [
      "Collecting git+https://github.com/y0-causal-inference/eliater.git@linear-regression\r\n",
      "  Cloning https://github.com/y0-causal-inference/eliater.git (to revision linear-regression) to /private/var/folders/fs/kx46_43x04ndj3yryggvkg5r0000gn/T/pip-req-build-y6j2rg_4\r\n",
      "  Running command git clone --quiet https://github.com/y0-causal-inference/eliater.git /private/var/folders/fs/kx46_43x04ndj3yryggvkg5r0000gn/T/pip-req-build-y6j2rg_4\r\n",
      "  Running command git checkout -b linear-regression --track origin/linear-regression\r\n",
      "  Switched to a new branch 'linear-regression'\r\n",
      "  Branch linear-regression set up to track remote branch linear-regression from origin.\r\n",
      "  Resolved https://github.com/y0-causal-inference/eliater.git to commit 3de3be53d14e16b9ec8831bf35478f34ee04a76f\r\n",
      "  Installing build dependencies ... \u001B[?25ldone\r\n",
      "\u001B[?25h  Getting requirements to build wheel ... \u001B[?25ldone\r\n",
      "\u001B[?25h  Preparing metadata (pyproject.toml) ... \u001B[?25ldone\r\n",
      "\u001B[?25hRequirement already satisfied: y0>=0.2.5 in /Users/sarataheri/GitHub/eliater/venv/lib/python3.11/site-packages (from eliater==0.0.1.dev0) (0.2.5)\r\n",
      "Requirement already satisfied: scipy in /Users/sarataheri/GitHub/eliater/venv/lib/python3.11/site-packages (from eliater==0.0.1.dev0) (1.11.4)\r\n",
      "Requirement already satisfied: numpy in /Users/sarataheri/GitHub/eliater/venv/lib/python3.11/site-packages (from eliater==0.0.1.dev0) (1.26.3)\r\n",
      "Requirement already satisfied: ananke-causal>=0.5.0 in /Users/sarataheri/GitHub/eliater/venv/lib/python3.11/site-packages (from eliater==0.0.1.dev0) (0.5.0)\r\n",
      "Requirement already satisfied: pgmpy>=0.1.24 in /Users/sarataheri/GitHub/eliater/venv/lib/python3.11/site-packages (from eliater==0.0.1.dev0) (0.1.24)\r\n",
      "Requirement already satisfied: matplotlib in /Users/sarataheri/GitHub/eliater/venv/lib/python3.11/site-packages (from eliater==0.0.1.dev0) (3.8.2)\r\n",
      "Requirement already satisfied: pandas in /Users/sarataheri/GitHub/eliater/venv/lib/python3.11/site-packages (from eliater==0.0.1.dev0) (1.5.3)\r\n",
      "Requirement already satisfied: seaborn in /Users/sarataheri/GitHub/eliater/venv/lib/python3.11/site-packages (from eliater==0.0.1.dev0) (0.13.1)\r\n",
      "Requirement already satisfied: optimaladj>=0.0.4 in /Users/sarataheri/GitHub/eliater/venv/lib/python3.11/site-packages (from eliater==0.0.1.dev0) (0.0.4)\r\n",
      "Requirement already satisfied: jax<0.5.0,>=0.4.8 in /Users/sarataheri/GitHub/eliater/venv/lib/python3.11/site-packages (from ananke-causal>=0.5.0->eliater==0.0.1.dev0) (0.4.23)\r\n",
      "Requirement already satisfied: jaxlib<0.5.0,>=0.4.7 in /Users/sarataheri/GitHub/eliater/venv/lib/python3.11/site-packages (from ananke-causal>=0.5.0->eliater==0.0.1.dev0) (0.4.23)\r\n",
      "Requirement already satisfied: mystic<0.5.0,>=0.4.0 in /Users/sarataheri/GitHub/eliater/venv/lib/python3.11/site-packages (from ananke-causal>=0.5.0->eliater==0.0.1.dev0) (0.4.1)\r\n",
      "Requirement already satisfied: statsmodels<0.14.0,>=0.13.2 in /Users/sarataheri/GitHub/eliater/venv/lib/python3.11/site-packages (from ananke-causal>=0.5.0->eliater==0.0.1.dev0) (0.13.5)\r\n",
      "Requirement already satisfied: contourpy>=1.0.1 in /Users/sarataheri/GitHub/eliater/venv/lib/python3.11/site-packages (from matplotlib->eliater==0.0.1.dev0) (1.2.0)\r\n",
      "Requirement already satisfied: cycler>=0.10 in /Users/sarataheri/GitHub/eliater/venv/lib/python3.11/site-packages (from matplotlib->eliater==0.0.1.dev0) (0.12.1)\r\n",
      "Requirement already satisfied: fonttools>=4.22.0 in /Users/sarataheri/GitHub/eliater/venv/lib/python3.11/site-packages (from matplotlib->eliater==0.0.1.dev0) (4.47.2)\r\n",
      "Requirement already satisfied: kiwisolver>=1.3.1 in /Users/sarataheri/GitHub/eliater/venv/lib/python3.11/site-packages (from matplotlib->eliater==0.0.1.dev0) (1.4.5)\r\n",
      "Requirement already satisfied: packaging>=20.0 in /Users/sarataheri/GitHub/eliater/venv/lib/python3.11/site-packages (from matplotlib->eliater==0.0.1.dev0) (23.2)\r\n",
      "Requirement already satisfied: pillow>=8 in /Users/sarataheri/GitHub/eliater/venv/lib/python3.11/site-packages (from matplotlib->eliater==0.0.1.dev0) (10.2.0)\r\n",
      "Requirement already satisfied: pyparsing>=2.3.1 in /Users/sarataheri/GitHub/eliater/venv/lib/python3.11/site-packages (from matplotlib->eliater==0.0.1.dev0) (3.1.1)\r\n",
      "Requirement already satisfied: python-dateutil>=2.7 in /Users/sarataheri/GitHub/eliater/venv/lib/python3.11/site-packages (from matplotlib->eliater==0.0.1.dev0) (2.8.2)\r\n",
      "Requirement already satisfied: pytz>=2020.1 in /Users/sarataheri/GitHub/eliater/venv/lib/python3.11/site-packages (from pandas->eliater==0.0.1.dev0) (2023.3.post1)\r\n",
      "Requirement already satisfied: networkx in /Users/sarataheri/GitHub/eliater/venv/lib/python3.11/site-packages (from pgmpy>=0.1.24->eliater==0.0.1.dev0) (3.2.1)\r\n",
      "Requirement already satisfied: scikit-learn in /Users/sarataheri/GitHub/eliater/venv/lib/python3.11/site-packages (from pgmpy>=0.1.24->eliater==0.0.1.dev0) (1.3.2)\r\n",
      "Requirement already satisfied: torch in /Users/sarataheri/GitHub/eliater/venv/lib/python3.11/site-packages (from pgmpy>=0.1.24->eliater==0.0.1.dev0) (2.1.2)\r\n",
      "Requirement already satisfied: tqdm in /Users/sarataheri/GitHub/eliater/venv/lib/python3.11/site-packages (from pgmpy>=0.1.24->eliater==0.0.1.dev0) (4.66.1)\r\n",
      "Requirement already satisfied: joblib in /Users/sarataheri/GitHub/eliater/venv/lib/python3.11/site-packages (from pgmpy>=0.1.24->eliater==0.0.1.dev0) (1.3.2)\r\n",
      "Requirement already satisfied: opt-einsum in /Users/sarataheri/GitHub/eliater/venv/lib/python3.11/site-packages (from pgmpy>=0.1.24->eliater==0.0.1.dev0) (3.3.0)\r\n",
      "Requirement already satisfied: more-itertools in /Users/sarataheri/GitHub/eliater/venv/lib/python3.11/site-packages (from y0>=0.2.5->eliater==0.0.1.dev0) (10.2.0)\r\n",
      "Requirement already satisfied: click in /Users/sarataheri/GitHub/eliater/venv/lib/python3.11/site-packages (from y0>=0.2.5->eliater==0.0.1.dev0) (8.1.7)\r\n",
      "Requirement already satisfied: more-click in /Users/sarataheri/GitHub/eliater/venv/lib/python3.11/site-packages (from y0>=0.2.5->eliater==0.0.1.dev0) (0.1.2)\r\n",
      "Requirement already satisfied: tabulate in /Users/sarataheri/GitHub/eliater/venv/lib/python3.11/site-packages (from y0>=0.2.5->eliater==0.0.1.dev0) (0.9.0)\r\n",
      "Requirement already satisfied: ml-dtypes>=0.2.0 in /Users/sarataheri/GitHub/eliater/venv/lib/python3.11/site-packages (from jax<0.5.0,>=0.4.8->ananke-causal>=0.5.0->eliater==0.0.1.dev0) (0.3.2)\r\n",
      "Requirement already satisfied: dill>=0.3.7 in /Users/sarataheri/GitHub/eliater/venv/lib/python3.11/site-packages (from mystic<0.5.0,>=0.4.0->ananke-causal>=0.5.0->eliater==0.0.1.dev0) (0.3.7)\r\n",
      "Requirement already satisfied: klepto>=0.2.4 in /Users/sarataheri/GitHub/eliater/venv/lib/python3.11/site-packages (from mystic<0.5.0,>=0.4.0->ananke-causal>=0.5.0->eliater==0.0.1.dev0) (0.2.4)\r\n",
      "Requirement already satisfied: sympy>=0.6.7 in /Users/sarataheri/GitHub/eliater/venv/lib/python3.11/site-packages (from mystic<0.5.0,>=0.4.0->ananke-causal>=0.5.0->eliater==0.0.1.dev0) (1.12)\r\n",
      "Requirement already satisfied: mpmath>=0.19 in /Users/sarataheri/GitHub/eliater/venv/lib/python3.11/site-packages (from mystic<0.5.0,>=0.4.0->ananke-causal>=0.5.0->eliater==0.0.1.dev0) (1.3.0)\r\n",
      "Requirement already satisfied: six>=1.5 in /Users/sarataheri/GitHub/eliater/venv/lib/python3.11/site-packages (from python-dateutil>=2.7->matplotlib->eliater==0.0.1.dev0) (1.16.0)\r\n",
      "Requirement already satisfied: patsy>=0.5.2 in /Users/sarataheri/GitHub/eliater/venv/lib/python3.11/site-packages (from statsmodels<0.14.0,>=0.13.2->ananke-causal>=0.5.0->eliater==0.0.1.dev0) (0.5.6)\r\n",
      "Requirement already satisfied: threadpoolctl>=2.0.0 in /Users/sarataheri/GitHub/eliater/venv/lib/python3.11/site-packages (from scikit-learn->pgmpy>=0.1.24->eliater==0.0.1.dev0) (3.2.0)\r\n",
      "Requirement already satisfied: filelock in /Users/sarataheri/GitHub/eliater/venv/lib/python3.11/site-packages (from torch->pgmpy>=0.1.24->eliater==0.0.1.dev0) (3.13.1)\r\n",
      "Requirement already satisfied: typing-extensions in /Users/sarataheri/GitHub/eliater/venv/lib/python3.11/site-packages (from torch->pgmpy>=0.1.24->eliater==0.0.1.dev0) (4.9.0)\r\n",
      "Requirement already satisfied: jinja2 in /Users/sarataheri/GitHub/eliater/venv/lib/python3.11/site-packages (from torch->pgmpy>=0.1.24->eliater==0.0.1.dev0) (3.1.3)\r\n",
      "Requirement already satisfied: fsspec in /Users/sarataheri/GitHub/eliater/venv/lib/python3.11/site-packages (from torch->pgmpy>=0.1.24->eliater==0.0.1.dev0) (2023.12.2)\r\n",
      "Requirement already satisfied: pox>=0.3.3 in /Users/sarataheri/GitHub/eliater/venv/lib/python3.11/site-packages (from klepto>=0.2.4->mystic<0.5.0,>=0.4.0->ananke-causal>=0.5.0->eliater==0.0.1.dev0) (0.3.3)\r\n",
      "Requirement already satisfied: MarkupSafe>=2.0 in /Users/sarataheri/GitHub/eliater/venv/lib/python3.11/site-packages (from jinja2->torch->pgmpy>=0.1.24->eliater==0.0.1.dev0) (2.1.3)\r\n",
      "\r\n",
      "\u001B[1m[\u001B[0m\u001B[34;49mnotice\u001B[0m\u001B[1;39;49m]\u001B[0m\u001B[39;49m A new release of pip is available: \u001B[0m\u001B[31;49m23.2.1\u001B[0m\u001B[39;49m -> \u001B[0m\u001B[32;49m23.3.2\u001B[0m\r\n",
      "\u001B[1m[\u001B[0m\u001B[34;49mnotice\u001B[0m\u001B[1;39;49m]\u001B[0m\u001B[39;49m To update, run: \u001B[0m\u001B[32;49mpython -m pip install --upgrade pip\u001B[0m\r\n"
     ]
    }
   ],
   "source": [
    "!pip install git+https://github.com/y0-causal-inference/eliater.git@linear-regression"
   ],
   "metadata": {
    "collapsed": false,
    "ExecuteTime": {
     "end_time": "2024-01-16T17:32:01.025895Z",
     "start_time": "2024-01-16T17:31:46.694287Z"
    }
   },
   "id": "ff81802acad24326"
  },
  {
   "cell_type": "markdown",
   "source": [
    "This is case study 3 in Figure 7 in this paper: Eliater: an open source software for causal query estimation from observational measurements of biomolecular networks. The figure below shows the transcriptional regulatory network motif of E. coli from the EcoCyc database (Keseler et al., 2021). It comprises 44 nodes, of which 7 are latent and 45 are\n",
    "observed, connected by a total of 147 directed edges."
   ],
   "metadata": {
    "collapsed": false
   },
   "id": "a0cedf172ad6ad7b"
  },
  {
   "cell_type": "code",
   "outputs": [],
   "source": [
    "import pandas as pd\n",
    "from eliater.examples import ecoli_transcription_example"
   ],
   "metadata": {
    "collapsed": false,
    "ExecuteTime": {
     "end_time": "2024-01-16T17:32:55.130042Z",
     "start_time": "2024-01-16T17:32:48.733988Z"
    }
   },
   "id": "67ed9aebbf30cdbd",
   "execution_count": 2
  },
  {
   "cell_type": "code",
   "outputs": [],
   "source": [
    "graph = ecoli_transcription_example.graph"
   ],
   "metadata": {
    "collapsed": false,
    "ExecuteTime": {
     "end_time": "2024-01-16T17:33:22.262562Z",
     "start_time": "2024-01-16T17:33:22.238446Z"
    }
   },
   "id": "42c0955c435a1d33",
   "execution_count": 4
  },
  {
   "cell_type": "markdown",
   "source": [
    "The observational data are 260 RNA-seq normalized expression profiles of E. coli K-12 MG1655 and BW25113 strains, spanning 154 distinct experimental conditions. These data were retrieved from the PRECISE database (Sastry et al., 2019)."
   ],
   "metadata": {
    "collapsed": false
   },
   "id": "23d671c229f26951"
  },
  {
   "cell_type": "code",
   "execution_count": 12,
   "outputs": [],
   "source": [
    "# Get the data\n",
    "# TODO: Change from local path to Github url\n",
    "data = pd.read_csv(\n",
    "    \"C:\\\\Users\\\\pnava\\\\PycharmProjects\\\\eliater\\\\src\\\\eliater\\\\data\\\\EColi_obs_data.csv\",\n",
    "    index_col=0,\n",
    ")"
   ],
   "metadata": {
    "collapsed": false,
    "ExecuteTime": {
     "end_time": "2024-01-14T18:01:34.049364200Z",
     "start_time": "2024-01-14T18:01:34.018472800Z"
    }
   },
   "id": "493dbce26b06565c"
  },
  {
   "cell_type": "code",
   "outputs": [
    {
     "data": {
      "text/plain": "        cra       aceE      phoB       cyoA      amtB      appY      citC  \\\n1  7.697991  10.651307  5.599989  11.254009  5.128441  5.919468  0.000000   \n2  7.581105  10.761484  5.746619  11.431429  5.614179  5.628823  0.000000   \n3  6.395808  12.109947  6.009650   9.937863  3.866721  5.789442  0.000000   \n4  6.366865  11.992996  6.131477   9.838573  3.666917  5.496674  0.377771   \n5  7.315204  10.569824  5.158324  11.272986  6.146377  5.275278  0.190837   \n\n       dpiB      dpiA       fur  ...        mdh       fis       crp      rpoH  \\\n1  4.323397  4.761679  9.737595  ...  11.745289  8.936196  9.666416  8.725102   \n2  4.706430  4.930888  9.784892  ...  11.843169  8.601549  9.621358  8.769579   \n3  4.776288  5.291245  9.381882  ...  11.166194  7.013285  9.761605  9.649581   \n4  4.659630  5.366084  9.468696  ...  11.030617  7.078497  9.706964  9.746059   \n5  4.332369  4.786446  9.779253  ...  11.423517  9.878379  9.692445  8.226875   \n\n       gadX      cspA      oxyR      soxS      dcuR       arcA  \n1  8.614542  7.743336  8.209081  6.230069  5.752131   9.547993  \n2  8.456629  7.474558  8.417561  6.104497  5.667736   9.560289  \n3  8.391347  3.629759  7.841489  8.009047  5.725878  10.737478  \n4  8.180204  4.538549  7.754378  8.172509  5.470773  10.788613  \n5  8.142990  7.147757  7.979421  6.161353  5.738662   9.470079  \n\n[5 rows x 44 columns]",
      "text/html": "<div>\n<style scoped>\n    .dataframe tbody tr th:only-of-type {\n        vertical-align: middle;\n    }\n\n    .dataframe tbody tr th {\n        vertical-align: top;\n    }\n\n    .dataframe thead th {\n        text-align: right;\n    }\n</style>\n<table border=\"1\" class=\"dataframe\">\n  <thead>\n    <tr style=\"text-align: right;\">\n      <th></th>\n      <th>cra</th>\n      <th>aceE</th>\n      <th>phoB</th>\n      <th>cyoA</th>\n      <th>amtB</th>\n      <th>appY</th>\n      <th>citC</th>\n      <th>dpiB</th>\n      <th>dpiA</th>\n      <th>fur</th>\n      <th>...</th>\n      <th>mdh</th>\n      <th>fis</th>\n      <th>crp</th>\n      <th>rpoH</th>\n      <th>gadX</th>\n      <th>cspA</th>\n      <th>oxyR</th>\n      <th>soxS</th>\n      <th>dcuR</th>\n      <th>arcA</th>\n    </tr>\n  </thead>\n  <tbody>\n    <tr>\n      <th>1</th>\n      <td>7.697991</td>\n      <td>10.651307</td>\n      <td>5.599989</td>\n      <td>11.254009</td>\n      <td>5.128441</td>\n      <td>5.919468</td>\n      <td>0.000000</td>\n      <td>4.323397</td>\n      <td>4.761679</td>\n      <td>9.737595</td>\n      <td>...</td>\n      <td>11.745289</td>\n      <td>8.936196</td>\n      <td>9.666416</td>\n      <td>8.725102</td>\n      <td>8.614542</td>\n      <td>7.743336</td>\n      <td>8.209081</td>\n      <td>6.230069</td>\n      <td>5.752131</td>\n      <td>9.547993</td>\n    </tr>\n    <tr>\n      <th>2</th>\n      <td>7.581105</td>\n      <td>10.761484</td>\n      <td>5.746619</td>\n      <td>11.431429</td>\n      <td>5.614179</td>\n      <td>5.628823</td>\n      <td>0.000000</td>\n      <td>4.706430</td>\n      <td>4.930888</td>\n      <td>9.784892</td>\n      <td>...</td>\n      <td>11.843169</td>\n      <td>8.601549</td>\n      <td>9.621358</td>\n      <td>8.769579</td>\n      <td>8.456629</td>\n      <td>7.474558</td>\n      <td>8.417561</td>\n      <td>6.104497</td>\n      <td>5.667736</td>\n      <td>9.560289</td>\n    </tr>\n    <tr>\n      <th>3</th>\n      <td>6.395808</td>\n      <td>12.109947</td>\n      <td>6.009650</td>\n      <td>9.937863</td>\n      <td>3.866721</td>\n      <td>5.789442</td>\n      <td>0.000000</td>\n      <td>4.776288</td>\n      <td>5.291245</td>\n      <td>9.381882</td>\n      <td>...</td>\n      <td>11.166194</td>\n      <td>7.013285</td>\n      <td>9.761605</td>\n      <td>9.649581</td>\n      <td>8.391347</td>\n      <td>3.629759</td>\n      <td>7.841489</td>\n      <td>8.009047</td>\n      <td>5.725878</td>\n      <td>10.737478</td>\n    </tr>\n    <tr>\n      <th>4</th>\n      <td>6.366865</td>\n      <td>11.992996</td>\n      <td>6.131477</td>\n      <td>9.838573</td>\n      <td>3.666917</td>\n      <td>5.496674</td>\n      <td>0.377771</td>\n      <td>4.659630</td>\n      <td>5.366084</td>\n      <td>9.468696</td>\n      <td>...</td>\n      <td>11.030617</td>\n      <td>7.078497</td>\n      <td>9.706964</td>\n      <td>9.746059</td>\n      <td>8.180204</td>\n      <td>4.538549</td>\n      <td>7.754378</td>\n      <td>8.172509</td>\n      <td>5.470773</td>\n      <td>10.788613</td>\n    </tr>\n    <tr>\n      <th>5</th>\n      <td>7.315204</td>\n      <td>10.569824</td>\n      <td>5.158324</td>\n      <td>11.272986</td>\n      <td>6.146377</td>\n      <td>5.275278</td>\n      <td>0.190837</td>\n      <td>4.332369</td>\n      <td>4.786446</td>\n      <td>9.779253</td>\n      <td>...</td>\n      <td>11.423517</td>\n      <td>9.878379</td>\n      <td>9.692445</td>\n      <td>8.226875</td>\n      <td>8.142990</td>\n      <td>7.147757</td>\n      <td>7.979421</td>\n      <td>6.161353</td>\n      <td>5.738662</td>\n      <td>9.470079</td>\n    </tr>\n  </tbody>\n</table>\n<p>5 rows × 44 columns</p>\n</div>"
     },
     "execution_count": 13,
     "metadata": {},
     "output_type": "execute_result"
    }
   ],
   "source": [
    "data.head()"
   ],
   "metadata": {
    "collapsed": false,
    "ExecuteTime": {
     "end_time": "2024-01-14T18:01:34.798201900Z",
     "start_time": "2024-01-14T18:01:34.762373700Z"
    }
   },
   "id": "9b7750156fa136d",
   "execution_count": 13
  },
  {
   "cell_type": "markdown",
   "source": [
    "## Step 1: Verify correctness of the network structure"
   ],
   "metadata": {
    "collapsed": false
   },
   "id": "3cb336afa4c23502"
  },
  {
   "cell_type": "markdown",
   "source": [
    "The total number of d-separations implied by this network is large. It takes several hours to find all of them and test them against data. On the other hand, High-dimensional conditional independence tests can be very unreliable. Hence, it is best to control number of variables to condition upon. Here we selected 3. However, the default in this function is 5. Even with max_given equal to 3, it takes around an hour to produce the results."
   ],
   "metadata": {
    "collapsed": false
   },
   "id": "dd9954532ad35474"
  },
  {
   "cell_type": "code",
   "outputs": [],
   "source": [
    "from eliater.network_validation import print_graph_falsifications"
   ],
   "metadata": {
    "collapsed": false,
    "ExecuteTime": {
     "end_time": "2024-01-14T18:01:37.683817Z",
     "start_time": "2024-01-14T18:01:37.669379200Z"
    }
   },
   "id": "73040f1e1c70fc49",
   "execution_count": 14
  },
  {
   "cell_type": "code",
   "execution_count": 15,
   "outputs": [
    {
     "name": "stdout",
     "output_type": "stream",
     "text": [
      "Failed tests: 194/498 (38.96%)\n",
      "Reject null hypothesis when p<0.01\n",
      "======  =======  =========  ============  ===========  =====  ===========  ===================\n",
      "left    right    given             stats            p  dof          p_adj  p_adj_significant\n",
      "======  =======  =========  ============  ===========  =====  ===========  ===================\n",
      "appA    appB     appY        0.899419     5.35084e-94         2.66472e-91  True\n",
      "appA    narL     appY        0.838726     1.58349e-69         7.86995e-67  True\n",
      "appA    arcA     appY        0.833926     4.86431e-68         2.4127e-65   True\n",
      "appA    rpoS     appY        0.832139     1.69358e-67         8.38324e-65  True\n",
      "appA    soxS     appY        0.818907     1.12341e-63         5.54964e-61  True\n",
      "appA    modE     appY        0.814935     1.37155e-62         6.76172e-60  True\n",
      "appA    dpiB     appY        0.811647     1.04001e-61         5.11686e-59  True\n",
      "appA    exuT     appY        0.803957     1.02105e-59         5.01337e-57  True\n",
      "appA    rpoD     appY        0.800074     9.58785e-59         4.69805e-56  True\n",
      "appA    dpiA     appY        0.794623     2.0483e-57          1.00162e-54  True\n",
      "appA    fnr      appY        0.785569     2.71285e-55         1.32387e-52  True\n",
      "aceE    appA     appY        0.775779     4.1207e-53          2.00678e-50  True\n",
      "appA    hyaF     appY        0.772311     2.2983e-52          1.11697e-49  True\n",
      "appA    hns      appY        0.767568     2.29695e-51         1.11402e-48  True\n",
      "appA    aspC     appY        0.766351     4.11075e-51         1.9896e-48   True\n",
      "appA    cydD     appY        0.764316     1.07884e-50         5.2108e-48   True\n",
      "appA    dcuR     appY        0.76001      8.05551e-50         3.88275e-47  True\n",
      "appA    crp      appY        0.757488     2.56309e-49         1.23284e-46  True\n",
      "appA    ihfB     appY        0.755097     7.58586e-49         3.64121e-46  True\n",
      "appA    mdh      appY        0.749477     9.24974e-48         4.43063e-45  True\n",
      "appB    hyaF     appY        0.749414     9.50712e-48         4.5444e-45   True\n",
      "appA    lrp      appY        0.746758     3.02853e-47         1.44461e-44  True\n",
      "appA    fur      appY        0.742125     2.20852e-46         1.05126e-43  True\n",
      "appA    ihfA     appY        0.739618     6.35899e-46         3.02052e-43  True\n",
      "appA    gadX     appY        0.716092     7.39255e-42         3.50407e-39  True\n",
      "crp     lrp      rpoD|rpoS   0.709542     8.47425e-41         4.00832e-38  True\n",
      "appA    cyoA     appY        0.705131     4.21687e-40         1.99036e-37  True\n",
      "appA    oxyR     appY        0.702725     9.99188e-40         4.70618e-37  True\n",
      "appB    gadX     appY        0.662228     6.11693e-34         2.87496e-31  True\n",
      "appB    soxS     appY        0.657689     2.39615e-33         1.12379e-30  True\n",
      "phoB    rpoS     rpoD        0.654008     7.12559e-33         3.33478e-30  True\n",
      "appB    exuT     appY        0.647052     5.36565e-32         2.50576e-29  True\n",
      "fis     rpoH                -0.638169     6.55643e-31         3.0553e-28   True\n",
      "appB    narL     appY        0.637999     6.87247e-31         3.1957e-28   True\n",
      "fis     lrp      rpoD|rpoS   0.62842      9.3196e-30          4.3243e-27   True\n",
      "cspA    narL                -0.62204      5.03431e-29         2.33089e-26  True\n",
      "appB    arcA     appY        0.618326     1.31999e-28         6.09834e-26  True\n",
      "appB    rpoS     appY        0.613998     3.99493e-28         1.84166e-25  True\n",
      "appB    dpiB     appY        0.594737     4.51368e-26         2.07629e-23  True\n",
      "appB    modE     appY        0.594538     4.73249e-26         2.17221e-23  True\n",
      "appB    fnr      appY        0.59144      9.82523e-26         4.49996e-23  True\n",
      "appA    cirA     appY        0.590796     1.14256e-25         5.2215e-23   True\n",
      "dpiB    phoB     rpoD        0.590488     1.22787e-25         5.5991e-23   True\n",
      "fnr     iscR                 0.589306     1.61746e-25         7.35947e-23  True\n",
      "appB    rpoD     appY        0.585676     3.74612e-25         1.70074e-22  True\n",
      "appA    fis      appY        0.583822     5.72896e-25         2.59522e-22  True\n",
      "ihfA    lrp      rpoS        0.580059     1.34557e-24         6.08196e-22  True\n",
      "aceE    appB     appY        0.577961     2.15602e-24         9.72363e-22  True\n",
      "appB    hyaB     appY        0.571198     9.63e-24            4.3335e-21   True\n",
      "cspA    fis                  0.563246     5.35787e-23         2.40568e-20  True\n",
      "appA    phoB     rpoD        0.556504     2.21474e-22         9.92203e-20  True\n",
      "appB    dpiA     appY        0.553765     3.90655e-22         1.74623e-19  True\n",
      "appB    aspC     appY        0.552763     4.80142e-22         2.14143e-19  True\n",
      "appB    dcuR     appY        0.550694     7.3354e-22          3.26425e-19  True\n",
      "appB    cydD     appY        0.549262     9.81836e-22         4.35935e-19  True\n",
      "amtB    appA     appY        0.543345     3.2284e-21          1.43018e-18  True\n",
      "appA    gutM     appY        0.543285     3.26717e-21         1.44409e-18  True\n",
      "appB    hns      appY        0.540326     5.87147e-21         2.58932e-18  True\n",
      "appB    mdh      appY        0.534881     1.70152e-20         7.48671e-18  True\n",
      "appB    ihfB     appY        0.531755     3.10691e-20         1.36394e-17  True\n",
      "appB    crp      appY        0.530939     3.63203e-20         1.59083e-17  True\n",
      "appB    ihfA     appY        0.530487     3.95961e-20         1.73035e-17  True\n",
      "appB    lrp      appY        0.530118     4.2477e-20          1.852e-17    True\n",
      "appB    fur      appY        0.526963     7.72558e-20         3.36063e-17  True\n",
      "arcA    phoB     rpoD        0.526734     8.06766e-20         3.50136e-17  True\n",
      "appB    cyoA     appY        0.525342     1.048e-19           4.53785e-17  True\n",
      "ihfB    lrp      rpoD|rpoS   0.510339     1.63321e-18         7.05548e-16  True\n",
      "rpoH    rpoS                 0.506996     2.95724e-18         1.27457e-15  True\n",
      "arcA    rpoH                 0.50378      5.20284e-18         2.23722e-15  True\n",
      "amtB    appB     appY        0.503416     5.54463e-18         2.37864e-15  True\n",
      "dcuR    exuT     crp|dpiA    0.4993       1.13187e-17         4.84442e-15  True\n",
      "gadX    narL     fnr|rpoD    0.498242     1.35759e-17         5.79689e-15  True\n",
      "appB    oxyR     appY        0.493456     3.06711e-17         1.30659e-14  True\n",
      "cspA    phoB                -0.490816     4.78141e-17         2.0321e-14   True\n",
      "hcp     iscR                -0.487721     8.00919e-17         3.3959e-14   True\n",
      "citC    hcp      dpiA        0.480192     2.74859e-16         1.16265e-13  True\n",
      "arcA    narL     fnr|rpoD    0.480182     2.75321e-16         1.16265e-13  True\n",
      "cirA    iscR                 0.478311     3.72314e-16         1.56744e-13  True\n",
      "fnr     phoB     rpoD        0.478197     3.79174e-16         1.59253e-13  True\n",
      "exuT    rpoS     crp|dpiA    0.464907     3.06748e-15         1.28527e-12  True\n",
      "gadX    phoB     rpoD        0.462386     4.51415e-15         1.88691e-12  True\n",
      "appA    hyaB     appY        0.461837     4.90845e-15         2.04682e-12  True\n",
      "cirA    narP                -0.461056     5.52777e-15         2.29955e-12  True\n",
      "arcA    exuT     crp|dpiA    0.46093      5.63507e-15         2.33855e-12  True\n",
      "aceE    btsR                -0.459451     7.05071e-15         2.91899e-12  True\n",
      "btsR    dcuR                 0.458874     7.6925e-15          3.177e-12    True\n",
      "dpiA    phoB     rpoD        0.458769     7.81552e-15         3.22e-12     True\n",
      "appB    phoB     rpoD        0.454309     1.52417e-14         6.26436e-12  True\n",
      "fis     modE                -0.454257     1.53606e-14         6.29783e-12  True\n",
      "exuT    soxS     crp|dpiA    0.449402     3.14321e-14         1.28557e-11  True\n",
      "iscR    narP                -0.448841     3.41189e-14         1.39205e-11  True\n",
      "modE    rpoH                 0.445172     5.81102e-14         2.36508e-11  True\n",
      "appB    hyaA     appY        0.443813     7.0671e-14          2.86924e-11  True\n",
      "appA    rpoH                 0.442794     8.17947e-14         3.31269e-11  True\n",
      "fis     rpoS     ihfA|rpoD  -0.442545     8.47603e-14         3.42432e-11  True\n",
      "phoB    soxS     rpoD        0.442151     8.96662e-14         3.61355e-11  True\n",
      "citC    iscR                -0.442142     8.97925e-14         3.61355e-11  True\n",
      "appB    gutM     appY        0.441297     1.01297e-13         4.06202e-11  True\n",
      "cyoA    modE                -0.438374     1.53317e-13         6.1327e-11   True\n",
      "cyoA    iscR                 0.43738      1.76362e-13         7.03686e-11  True\n",
      "ihfB    phoB     rpoD        0.436684     1.94481e-13         7.74034e-11  True\n",
      "arcA    modE                 0.435775     2.20899e-13         8.76969e-11  True\n",
      "dcuR    phoB     rpoD        0.429994     4.92232e-13         1.94924e-10  True\n",
      "fis     ihfA     crp|rpoD    0.428504     6.0361e-13          2.38426e-10  True\n",
      "fis     fnr      crp|rpoD    0.427831     6.61716e-13         2.60716e-10  True\n",
      "appY    phoB     rpoD        0.424923     9.81648e-13         3.85788e-10  True\n",
      "appB    cirA     appY        0.415098     3.62088e-12         1.41939e-09  True\n",
      "hns     phoB     rpoD        0.411595     5.70813e-12         2.23188e-09  True\n",
      "exuT    rpoH                 0.40791      9.16213e-12         3.57323e-09  True\n",
      "mdh     phoB     rpoD        0.407817     9.27139e-12         3.60657e-09  True\n",
      "cspA    mdh                 -0.406085     1.15563e-11         4.48384e-09  True\n",
      "cspA    rpoH                -0.404117     1.48213e-11         5.73586e-09  True\n",
      "cspA    rpoS                -0.401201     2.13642e-11         8.24659e-09  True\n",
      "iscR    phoB                 0.401106     2.16187e-11         8.3232e-09   True\n",
      "appB    fis      appY        0.4008       2.24611e-11         8.62506e-09  True\n",
      "fnr     narP                -0.394614     4.81724e-11         1.845e-08    True\n",
      "rpoS    soxS     lrp|rpoD    0.393665     5.40754e-11         2.06568e-08  True\n",
      "arcA    cspA                -0.392773     6.02652e-11         2.2961e-08   True\n",
      "cspA    rpoD                -0.391451     7.0724e-11          2.68751e-08  True\n",
      "arcA    ihfA     rpoS        0.391054     7.42038e-11         2.81232e-08  True\n",
      "crp     phoB     rpoD        0.384829     1.56e-10            5.8968e-08   True\n",
      "dpiB    rpoH                 0.383713     1.7793e-10          6.70797e-08  True\n",
      "hyaF    phoB     rpoD        0.382092     2.15216e-10         8.09213e-08  True\n",
      "btsR    narL                -0.379678     2.85127e-10         1.06923e-07  True\n",
      "modE    rpoS                 0.37901      3.08101e-10         1.1523e-07   True\n",
      "cspA    ihfB                 0.37211      6.78742e-10         2.53171e-07  True\n",
      "cspA    ihfA                 0.371036     7.66255e-10         2.85047e-07  True\n",
      "narL    rpoH                 0.367361     1.15639e-09         4.2902e-07   True\n",
      "narL    rpoS     fnr|rpoD    0.365485     1.42401e-09         5.26885e-07  True\n",
      "cspA    soxS                -0.360008     2.59454e-09         9.57386e-07  True\n",
      "lrp     phoB     rpoD        0.349943     7.58999e-09         2.79312e-06  True\n",
      "oxyR    soxS     lrp|rpoD   -0.348241     9.0665e-09          3.3274e-06   True\n",
      "exuT    phoB     rpoD        0.34788      9.41445e-09         3.44569e-06  True\n",
      "fis     narL     crp|rpoD   -0.347833     9.45976e-09         3.45281e-06  True\n",
      "narL    phoB     rpoD        0.345783     1.16995e-08         4.2586e-06   True\n",
      "appA    btsR                -0.344642     1.31591e-08         4.77675e-06  True\n",
      "btsR    cspA                 0.343698     1.44984e-08         5.2484e-06   True\n",
      "rpoH    soxS                 0.340486     2.0116e-08          7.26189e-06  True\n",
      "dpiB    exuT     crp|dpiA    0.339752     2.16673e-08         7.80022e-06  True\n",
      "appB    btsR                -0.33954      2.21359e-08         7.9468e-06   True\n",
      "crp     soxS     rpoD|rpoS  -0.338607     2.43216e-08         8.70714e-06  True\n",
      "citC    hyaA     dpiA        0.337801     2.63731e-08         9.41519e-06  True\n",
      "dpiA    rpoH                 0.337014     2.85392e-08         1.01599e-05  True\n",
      "citC    hyaB     dpiA        0.335406     3.35068e-08         1.18949e-05  True\n",
      "btsR    rpoD                -0.330991     5.18267e-08         1.83467e-05  True\n",
      "arcA    crp      rpoD|rpoS   0.330949     5.2041e-08          1.83705e-05  True\n",
      "crp     modE                 0.3294       6.05406e-08         2.13103e-05  True\n",
      "iscR    soxS                 0.328397     6.67447e-08         2.34274e-05  True\n",
      "hcp     rpoH                 0.326648     7.9058e-08          2.76703e-05  True\n",
      "cydD    gutM     crp|hns     0.32457      9.65363e-08         3.36912e-05  True\n",
      "crp     narL     fnr|rpoD    0.322975     1.1241e-07          3.91187e-05  True\n",
      "crp     ihfB     ihfA|rpoD   0.321736     1.26458e-07         4.38808e-05  True\n",
      "lrp     narL     fnr|rpoD    0.318985     1.63911e-07         5.67132e-05  True\n",
      "crp     iscR                -0.317402     1.90085e-07         6.55795e-05  True\n",
      "fis     hcp      crp|rpoD   -0.316939     1.98469e-07         6.82735e-05  True\n",
      "fur     phoB     rpoD        0.315519     2.26457e-07         7.76747e-05  True\n",
      "rpoD    rpoH                 0.31472      2.43831e-07         8.33902e-05  True\n",
      "phoB    rpoH                 0.311789     3.19191e-07         0.000108844  True\n",
      "citC    cyoA     dpiA       -0.309903     3.79024e-07         0.000128868  True\n",
      "appY    iscR                -0.309796     3.82712e-07         0.000129739  True\n",
      "lrp     rpoH                -0.306471     5.16517e-07         0.000174583  True\n",
      "exuT    ihfB     crp|dpiA    0.304523     6.1465e-07          0.000207137  True\n",
      "fis     gutM     crp|hns    -0.303815     6.54597e-07         0.000219945  True\n",
      "appA    hyaA     appY        0.303096     6.97683e-07         0.000233724  True\n",
      "arcA    ihfB     rpoD|rpoS   0.302421     7.40561e-07         0.000247347  True\n",
      "appA    cspA     appY        0.301129     8.29757e-07         0.000276309  True\n",
      "appB    rpoH                 0.30061      8.68481e-07         0.000288336  True\n",
      "dcuR    gutM     crp|hns     0.299473     9.59335e-07         0.00031754   True\n",
      "cyoA    narP                -0.299366     9.68289e-07         0.000319535  True\n",
      "arcA    soxS     lrp|rpoD    0.297337     1.15512e-06         0.000380034  True\n",
      "aspC    phoB     rpoD        0.296491     1.24282e-06         0.000407645  True\n",
      "exuT    hyaF     crp|dpiA    0.295476     1.35644e-06         0.000443555  True\n",
      "cra     crp      rpoD        0.294896     1.42573e-06         0.000464788  True\n",
      "appY    citC     dpiA        0.29474      1.44498e-06         0.000469618  True\n",
      "iscR    rpoS                 0.294272     1.50408e-06         0.000487323  True\n",
      "amtB    phoB     rpoD        0.289602     2.23554e-06         0.00072208   True\n",
      "cydD    narP                 0.289595     2.23687e-06         0.00072208   True\n",
      "cra     rpoD     phoB        0.285927     3.03875e-06         0.000975439  True\n",
      "aceE    narP                -0.280272     4.83245e-06         0.00154638   True\n",
      "cra     hns      rpoD        0.275682     6.98991e-06         0.00222978   True\n",
      "citC    gutM     dpiA        0.272648     8.88899e-06         0.0028267    True\n",
      "btsR    rpoH                -0.272365     9.08938e-06         0.00288133   True\n",
      "cspA    fnr                 -0.271991     9.36053e-06         0.00295793   True\n",
      "btsR    fis                  0.26997      1.09641e-05         0.00345368   True\n",
      "cirA    cspA                -0.26704      1.3758e-05          0.00432      True\n",
      "gutM    hyaB     crp|hns     0.266726     1.40949e-05         0.00441169   True\n",
      "exuT    mdh      crp|dpiA    0.266687     1.41373e-05         0.00441169   True\n",
      "gutM    narL     fnr|rpoD    0.262258     1.98155e-05         0.00616263   True\n",
      "cyoA    narL     fnr|rpoD   -0.260579     2.24871e-05         0.00697099   True\n",
      "gutM    hcp      crp|hns     0.260077     2.33486e-05         0.00721472   True\n",
      "modE    phoB                 0.259359     2.46376e-05         0.00758838   True\n",
      "exuT    narL     crp|dpiA    0.258426     2.64121e-05         0.00810851   True\n",
      "cirA    cra      rpoD       -0.257369     2.85685e-05         0.00874196   True\n",
      "hns     narL     fnr|rpoD    0.256949     2.94707e-05         0.00898858   True\n",
      "exuT    hyaB     crp|dpiA    0.254891     3.42928e-05         0.010425     False\n",
      "cra     fur      rpoD        0.25415      3.62058e-05         0.0109703    False\n",
      "cra     fis      rpoD        0.252635     4.04304e-05         0.01221      False\n",
      "hcp     narP                 0.252492     4.08538e-05         0.012297     False\n",
      "citC    rpoH                 0.25236      4.12473e-05         0.0123742    False\n",
      "ihfB    soxS     rpoD|rpoS  -0.251788     4.29938e-05         0.0128552    False\n",
      "gutM    hyaA     crp|hns     0.249561     5.04808e-05         0.0150433    False\n",
      "exuT    modE     crp|dpiA    0.246891     6.10729e-05         0.0181387    False\n",
      "cspA    dcuR                -0.245193     6.88626e-05         0.0203833    False\n",
      "ihfB    modE                 0.243897     7.54269e-05         0.0222509    False\n",
      "gadX    modE                 0.243012     8.02416e-05         0.023591     False\n",
      "exuT    gutM     crp|dpiA    0.241295     9.04197e-05         0.026493     False\n",
      "fis     soxS     rpoD|rpoS  -0.239823     0.000100101         0.0292296    False\n",
      "arcA    btsR                -0.23933      0.000103552         0.0301336    False\n",
      "cra     ihfB     rpoD        0.239279     0.00010392          0.0301367    False\n",
      "ihfB    narP                 0.238521     0.000109464         0.0316352    False\n",
      "exuT    rpoD     crp|dpiA    0.235993     0.000130034         0.0374497    False\n",
      "appB    ydeO     appY        0.235519     0.000134277         0.0385375    False\n",
      "exuT    hyaA     crp|dpiA    0.234941     0.000139625         0.0399329    False\n",
      "btsR    exuT                 0.23397      0.00014905          0.0424794    False\n",
      "amtB    btsR                -0.230938     0.000182481         0.0518247    False\n",
      "ihfA    soxS     rpoS       -0.230007     0.000194071         0.0549222    False\n",
      "narL    ydeO     fnr|rpoD    0.229687     0.00019821          0.0558953    False\n",
      "exuT    ihfA     crp|dpiA    0.228337     0.000216609         0.0608671    False\n",
      "amtB    cspA                -0.226498     0.000244255         0.0683915    False\n",
      "hyaB    phoB     rpoD        0.225724     0.000256829         0.0716552    False\n",
      "citC    fnr      dpiA       -0.22498      0.000269504         0.0749222    False\n",
      "gutM    iscR                -0.223197     0.000302264         0.083727     False\n",
      "mdh     narP                -0.222817     0.000309715         0.0854812    False\n",
      "cspA    gadX                -0.221027     0.000347124         0.0954592    False\n",
      "appA    ydeO     appY        0.220983     0.000348094         0.0954592    False\n",
      "dpiA    narP                 0.220557     0.00035762          0.0976303    False\n",
      "aspC    fis      crp|rpoD    0.220104     0.000368035         0.100106     False\n",
      "appY    narP                 0.218872     0.000397764         0.107473     False\n",
      "amtB    rpoH                 0.218919     0.000396579         0.107473     False\n",
      "fis     fur      crp|rpoD    0.217526     0.00043277          0.116415     False\n",
      "hyaA    rpoH                 0.216134     0.000471961         0.126485     False\n",
      "aceE    iscR                 0.215899     0.000478902         0.127355     False\n",
      "cspA    modE                -0.215812     0.00048148          0.127355     False\n",
      "fis     phoB     rpoD        0.215964     0.000476985         0.127355     False\n",
      "cra     fnr      rpoD        0.215932     0.000477934         0.127355     False\n",
      "cra     dcuR     rpoD        0.215086     0.000503618         0.132452     False\n",
      "narL    soxS     fnr|rpoD    0.214005     0.00053835          0.141048     False\n",
      "hyaF    rpoH                 0.213983     0.000539075         0.141048     False\n",
      "ihfB    narL     fnr|rpoD    0.211771     0.000617175         0.160465     False\n",
      "exuT    lrp      crp|dpiA   -0.211614     0.000623131         0.161391     False\n",
      "citC    fis      dpiA       -0.211607     0.000623383         0.161391     False\n",
      "crp     narP                 0.210908     0.000650404         0.167154     False\n",
      "fnr     modE                -0.210334     0.000673437         0.1724       False\n",
      "cra     lrp      rpoD        0.210201     0.000678866         0.173111     False\n",
      "gadX    rpoH                 0.208692     0.000743446         0.188835     False\n",
      "iscR    oxyR                -0.207155     0.000815032         0.206203     False\n",
      "phoB    ydeO     rpoD        0.205889     0.000878743         0.221443     False\n",
      "aspC    narL     fnr|rpoD    0.205477     0.000900439         0.22601      False\n",
      "iscR    mdh                  0.205305     0.000909661         0.227415     False\n",
      "gutM    soxS     crp|hns     0.203488     0.00101226          0.252054     False\n",
      "hyaA    phoB     rpoD        0.20208      0.00109904          0.272563     False\n",
      "iscR    lrp                 -0.200591     0.0011982           0.295954     False\n",
      "cirA    citC     dpiA       -0.199806     0.00125373          0.308416     False\n",
      "btsR    ihfB                 0.198567     0.00134612          0.3298       False\n",
      "ihfB    rpoH                 0.196647     0.00150182          0.366444     False\n",
      "cra     ihfA     rpoS        0.19628      0.00153338          0.372612     False\n",
      "exuT    fur      crp|dpiA    0.196        0.00155785          0.376999     False\n",
      "gutM    rpoH                 0.195434     0.00160845          0.387636     False\n",
      "aspC    narP                 0.193082     0.00183528          0.440466     False\n",
      "modE    soxS                 0.191357     0.00201983          0.48274      False\n",
      "dpiB    iscR                 0.190175     0.00215587          0.513097     False\n",
      "iscR    rpoD                 0.189751     0.0022067           0.522988     False\n",
      "exuT    gadX     crp|dpiA    0.189734     0.00220867          0.522988     False\n",
      "aspC    cra      rpoD        0.189463     0.00224179          0.52682      False\n",
      "aspC    rpoH                -0.187344     0.00251634          0.588825     False\n",
      "btsR    gadX                -0.183702     0.00306038          0.713068     False\n",
      "btsR    dpiA                -0.182808     0.00320932          0.744563     False\n",
      "hyaB    rpoH                 0.17981      0.00375777          0.868046     False\n",
      "exuT    hns      crp|dpiA    0.17936      0.00384703          0.884818     False\n",
      "aceE    cspA                -0.178882     0.0039441           0.903199     False\n",
      "exuT    fis      crp|dpiA   -0.17785      0.00416079          0.948659     False\n",
      "appA    iscR                 0.177436     0.00425071          0.964912     False\n",
      "cirA    rpoH                 0.0633282    0.310926            1            False\n",
      "aceE    rpoH                -0.00633889   0.919293            1            False\n",
      "amtB    cra      rpoD        0.0382362    0.540931            1            False\n",
      "citC    hns      dpiA       -0.0506593    0.41778             1            False\n",
      "fur     rpoH                 0.0720733    0.248686            1            False\n",
      "cyoA    rpoH     cra|rpoD   -0.166835     0.00724004          1            False\n",
      "cspA    fur                  0.155091     0.012626            1            False\n",
      "narP    phoB                 0.0344082    0.582211            1            False\n",
      "cra     mdh      rpoD        0.128472     0.0391978           1            False\n",
      "citC    oxyR     dpiA        0.0931466    0.135663            1            False\n",
      "btsR    hyaF                -0.0914136    0.143124            1            False\n",
      "narP    oxyR                 0.132159     0.0338554           1            False\n",
      "btsR    cyoA                -0.00966218   0.877257            1            False\n",
      "gutM    phoB     rpoD       -0.0548061    0.380649            1            False\n",
      "appA    narP                -0.0767537    0.219194            1            False\n",
      "citC    exuT     dpiA        0.159232     0.0104193           1            False\n",
      "cra     gadX     rpoD        0.0173255    0.781813            1            False\n",
      "narP    rpoS                -0.053855     0.388982            1            False\n",
      "cra     exuT     rpoD        0.126143     0.0429281           1            False\n",
      "ihfA    rpoH                 0.0480183    0.442496            1            False\n",
      "cspA    iscR                -0.0780499    0.211487            1            False\n",
      "amtB    narL     fnr|rpoD    0.168215     0.00676636          1            False\n",
      "cspA    narP                 0.101809     0.102764            1            False\n",
      "iscR    modE                -0.101235     0.10473             1            False\n",
      "btsR    hns                 -0.00466646   0.94054             1            False\n",
      "btsR    hcp                 -0.107056     0.0861319           1            False\n",
      "modE    narP                 0.090524     0.147073            1            False\n",
      "appB    citC     dpiA        0.0710137    0.255728            1            False\n",
      "arcA    fis      rpoD|rpoS   0.0972213    0.119301            1            False\n",
      "exuT    narP                -0.0439733    0.481914            1            False\n",
      "citC    rpoS     dpiA       -0.0676971    0.278658            1            False\n",
      "citC    modE     dpiA        0.0766678    0.219712            1            False\n",
      "narP    rpoH                 0.0705359    0.258949            1            False\n",
      "amtB    citC     dpiA       -0.033693     0.590083            1            False\n",
      "appB    cra      rpoD       -0.00923372   0.88266             1            False\n",
      "aspC    exuT     crp|dpiA    0.0305388    0.625367            1            False\n",
      "cra     dpiB     rpoD        0.140332     0.0241777           1            False\n",
      "narL    oxyR     fnr|rpoD    0.163785     0.00839313          1            False\n",
      "citC    hyaF     dpiA        0.150877     0.0152841           1            False\n",
      "cra     ydeO     rpoD       -0.00901216   0.885456            1            False\n",
      "cra     hyaA     rpoD        0.0464729    0.457335            1            False\n",
      "ihfA    phoB     rpoS        0.0154842    0.804506            1            False\n",
      "amtB    iscR                 0.105246     0.0916077           1            False\n",
      "ihfA    narP                 0.0337391    0.589574            1            False\n",
      "cra     hyaB     rpoD        0.0921359    0.139977            1            False\n",
      "gutM    oxyR     crp|hns     0.0700021    0.26258             1            False\n",
      "dcuR    iscR                -0.160081     0.0100118           1            False\n",
      "narP    soxS                -0.159532     0.0102736           1            False\n",
      "citC    crp      dpiA        0.0967197    0.121228            1            False\n",
      "btsR    oxyR                -0.0956829    0.125288            1            False\n",
      "aspC    iscR                 0.139078     0.0254869           1            False\n",
      "arcA    gutM     crp|hns     0.0783559    0.209697            1            False\n",
      "citC    ihfA     dpiA        0.0335827    0.591302            1            False\n",
      "gutM    ihfA     crp|hns    -0.0742889    0.234398            1            False\n",
      "btsR    cirA                -0.0667788    0.285245            1            False\n",
      "btsR    ydeO                -0.103919     0.0957946           1            False\n",
      "fur     narL     fnr|rpoD    0.0536228    0.391034            1            False\n",
      "lrp     narP                 0.109076     0.080337            1            False\n",
      "aceE    citC     dpiA       -0.127708     0.0403904           1            False\n",
      "hns     modE                 0.170854     0.00593678          1            False\n",
      "cra     dpiA     rpoD        0.0371357    0.552649            1            False\n",
      "oxyR    phoB     rpoD        0.0595837    0.340461            1            False\n",
      "amtB    gutM     crp|hns     0.00279328   0.964387            1            False\n",
      "citC    cspA                 0.0108598    0.862186            1            False\n",
      "dpiB    fis      crp|rpoD    0.0241282    0.699696            1            False\n",
      "appA    hcp      appY        0.117762     0.0589018           1            False\n",
      "gadX    narP                -0.0522408    0.403376            1            False\n",
      "appB    iscR                 0.142485     0.0220659           1            False\n",
      "dcuR    narP                 0.125038     0.0447993           1            False\n",
      "modE    rpoD                 0.116983     0.0606078           1            False\n",
      "cra     iscR                -0.116628     0.0613988           1            False\n",
      "modE    ydeO                -0.0297051    0.634842            1            False\n",
      "arcA    narP                -0.0521306    0.40437             1            False\n",
      "fis     ihfB     ihfA|rpoD   0.047821     0.444375            1            False\n",
      "btsR    crp                  0.105609     0.0904881           1            False\n",
      "gutM    lrp      crp|hns     0.099114     0.112244            1            False\n",
      "ihfB    iscR                -0.0628748    0.314411            1            False\n",
      "fis     mdh      crp|rpoD    0.0897478    0.150586            1            False\n",
      "gutM    ihfB     crp|hns    -0.0736394    0.238525            1            False\n",
      "dcuR    fis      crp|rpoD   -0.0642947    0.303585            1            False\n",
      "btsR    modE                -0.125146     0.0446139           1            False\n",
      "exuT    ydeO     crp|dpiA   -0.0974007    0.118618            1            False\n",
      "iscR    rpoH                -0.038546     0.537655            1            False\n",
      "ihfA    iscR                 0.0145079    0.816606            1            False\n",
      "cydD    fis      crp|rpoD    0.139053     0.0255133           1            False\n",
      "cirA    gutM     crp|hns    -0.0581109    0.352551            1            False\n",
      "cyoA    exuT     crp|dpiA   -0.0112991    0.85667             1            False\n",
      "aceE    phoB     rpoD       -0.0331921    0.595625            1            False\n",
      "citC    soxS     dpiA       -0.0982239    0.115521            1            False\n",
      "citC    ihfB     dpiA        0.0662321    0.289216            1            False\n",
      "oxyR    rpoH                 0.0575468    0.357252            1            False\n",
      "btsR    cydD                -0.0398934    0.523523            1            False\n",
      "cspA    exuT                -0.142326     0.0222163           1            False\n",
      "aspC    cspA                -0.109635     0.0787907           1            False\n",
      "appB    cspA     appY        0.161214     0.00948943          1            False\n",
      "citC    phoB     dpiA       -0.136004     0.0289548           1            False\n",
      "amtB    narP                 0.00218328   0.972161            1            False\n",
      "crp     cspA                -0.0213039    0.733429            1            False\n",
      "appY    btsR                -0.113577     0.0685516           1            False\n",
      "lrp     modE                -0.0131449    0.833573            1            False\n",
      "btsR    lrp                 -0.133018     0.0327028           1            False\n",
      "fis     narP                 0.172157     0.0055618           1            False\n",
      "rpoH    ydeO                -0.120274     0.0536669           1            False\n",
      "citC    fur      dpiA       -1.94386e-05  0.999752            1            False\n",
      "crp     rpoS     ihfA|rpoD   0.169058     0.00649062          1            False\n",
      "cspA    cyoA                -0.126856     0.0417553           1            False\n",
      "cspA    dpiB                -0.132039     0.0340179           1            False\n",
      "btsR    rpoS                -0.048802     0.435076            1            False\n",
      "btsR    ihfA                 0.157998     0.0110384           1            False\n",
      "aspC    modE                 0.091236     0.143906            1            False\n",
      "iscR    narL                -0.158499     0.0107833           1            False\n",
      "gutM    hyaF     crp|hns     0.124615     0.0455324           1            False\n",
      "cspA    lrp                  0.0956151    0.125557            1            False\n",
      "cspA    cydD                 0.0877492    0.159923            1            False\n",
      "btsR    soxS                -0.0959245    0.124332            1            False\n",
      "aspC    citC     dpiA       -0.11861      0.057089            1            False\n",
      "btsR    hyaA                -0.139113     0.0254495           1            False\n",
      "narP    ydeO                -0.115334     0.0643539           1            False\n",
      "btsR    fur                  0.0946704    0.129353            1            False\n",
      "aceE    fis      crp|rpoD    0.126618     0.0421437           1            False\n",
      "appA    citC     dpiA        0.0993571    0.111361            1            False\n",
      "arcA    cra      rpoD        0.135783     0.029219            1            False\n",
      "btsR    iscR                 0.0436812    0.484833            1            False\n",
      "cra     rpoS     rpoD        0.134011     0.0314132           1            False\n",
      "btsR    hyaB                -0.132589     0.0332743           1            False\n",
      "narL    narP                 0.0629767    0.313625            1            False\n",
      "cra     hcp      rpoD        0.0457852    0.464027            1            False\n",
      "btsR    phoB                -0.0462686    0.459317            1            False\n",
      "gadX    iscR                 0.0472042    0.450278            1            False\n",
      "exuT    iscR                 0.110816     0.0756015           1            False\n",
      "ihfA    rpoD     rpoS        0.130971     0.0355046           1            False\n",
      "arcA    iscR                 0.114903     0.0653629           1            False\n",
      "citC    gadX     dpiA        0.106558     0.0876112           1            False\n",
      "cydD    iscR                -0.124959     0.0449346           1            False\n",
      "appB    hcp      appY        0.0502583    0.42148             1            False\n",
      "appB    narP                -0.108591     0.081698            1            False\n",
      "aceE    narL     fnr|rpoD    0.0280855    0.653419            1            False\n",
      "fur     narP                 0.0403003    0.519292            1            False\n",
      "cra     modE                -0.030692     0.623633            1            False\n",
      "appY    rpoH                 0.0561742    0.368856            1            False\n",
      "btsR    dpiB                 0.0246082    0.694019            1            False\n",
      "aspC    btsR                 0.141854     0.0226681           1            False\n",
      "aceE    exuT     crp|dpiA   -0.161268     0.00946532          1            False\n",
      "fur     modE                 0.0946734    0.129341            1            False\n",
      "cra     narL     rpoD       -0.130107     0.0367467           1            False\n",
      "aceE    gutM     crp|hns     0.0201971    0.746793            1            False\n",
      "cirA    exuT     crp|dpiA   -0.0628939    0.314263            1            False\n",
      "citC    narP                 0.0934586    0.134352            1            False\n",
      "appY    exuT     crp|dpiA   -0.170311     0.00609969          1            False\n",
      "dpiA    fis      crp|rpoD    0.0258095    0.679886            1            False\n",
      "hyaF    iscR                -0.00602368   0.923294            1            False\n",
      "cra     cydD     rpoD        0.126506     0.0423277           1            False\n",
      "gutM    narP                -0.111187     0.0746207           1            False\n",
      "narP    rpoD                -0.0566304    0.364974            1            False\n",
      "cirA    narL     fnr|rpoD    0.012423     0.84259             1            False\n",
      "cra     oxyR     rpoD        0.0683781    0.27384             1            False\n",
      "aspC    gutM     crp|hns     0.0293268    0.639161            1            False\n",
      "appA    cra      rpoD       -0.0446775    0.474918            1            False\n",
      "arcA    citC     dpiA        0.032682     0.601294            1            False\n",
      "hns     iscR                -0.0275204    0.659951            1            False\n",
      "cspA    gutM     crp|hns    -0.0628768    0.314395            1            False\n",
      "ihfA    narL     fnr|rpoD    0.161456     0.00938128          1            False\n",
      "btsR    narP                 0.082968     0.184019            1            False\n",
      "cyoA    phoB     cra|rpoD    0.17039      0.0060755           1            False\n",
      "cspA    dpiA                -0.118823     0.0566417           1            False\n",
      "hns     rpoH                 0.0955274    0.125906            1            False\n",
      "cra     hyaF     rpoD        0.0543436    0.384688            1            False\n",
      "appY    gutM     crp|hns    -0.0312299    0.617559            1            False\n",
      "gutM    modE                 0.137754     0.0269337           1            False\n",
      "cirA    modE                 0.0605297    0.332836            1            False\n",
      "amtB    modE                 0.121887     0.0505132           1            False\n",
      "fis     oxyR     crp|rpoD    0.0537933    0.389526            1            False\n",
      "citC    cydD     dpiA        0.108486     0.0819973           1            False\n",
      "citC    rpoD     dpiA       -0.0763307    0.221752            1            False\n",
      "amtB    exuT     crp|dpiA    0.14107      0.023435            1            False\n",
      "dpiB    gutM     crp|hns    -0.0152577    0.807309            1            False\n",
      "gutM    rpoD     crp|hns     0.0794058    0.203636            1            False\n",
      "hcp     phoB     rpoD       -0.150139     0.015797            1            False\n",
      "gutM    ydeO     crp|hns    -0.157728     0.011178            1            False\n",
      "aceE    cra      rpoD       -0.144238     0.0204666           1            False\n",
      "cirA    phoB     rpoD        0.1426       0.021958            1            False\n",
      "fnr     gutM     crp|hns     0.0650995    0.29756             1            False\n",
      "cydD    exuT     crp|dpiA   -0.0319974    0.608938            1            False\n",
      "citC    dpiB     dpiA        0.114862     0.0654609           1            False\n",
      "gutM    mdh      crp|hns     0.111825     0.0729599           1            False\n",
      "cra     soxS     rpoD        0.0106577    0.864726            1            False\n",
      "citC    lrp      dpiA       -0.0101946    0.87055             1            False\n",
      "dpiA    iscR                 0.0785112    0.208792            1            False\n",
      "dpiB    narP                -0.013819     0.825171            1            False\n",
      "btsR    cra                  0.110902     0.0753726           1            False\n",
      "citC    mdh      dpiA       -0.101396     0.104175            1            False\n",
      "cydD    rpoH                 0.161954     0.00916158          1            False\n",
      "crp     rpoH                 0.0686505    0.271929            1            False\n",
      "aceE    modE                -0.0795627    0.202741            1            False\n",
      "gutM    rpoS     crp|hns     0.0329329    0.598503            1            False\n",
      "cra     gutM     rpoD       -0.00642969   0.918141            1            False\n",
      "iscR    ydeO                 0.0625654    0.316802            1            False\n",
      "btsR    citC                 0.000832076  0.989388            1            False\n",
      "fur     iscR                 0.0375817    0.547884            1            False\n",
      "exuT    fnr      crp|dpiA    0.149541     0.0162233           1            False\n",
      "cspA    hcp                  0.120807     0.052607            1            False\n",
      "mdh     rpoH                -0.0469099    0.453111            1            False\n",
      "btsR    fnr                 -0.0625378    0.317016            1            False\n",
      "fis     iscR                 0.142929     0.0216512           1            False\n",
      "citC    dcuR     dpiA        0.123636     0.0472713           1            False\n",
      "cra     cspA                 0.15101      0.0151934           1            False\n",
      "ihfA    modE                 0.0739567    0.236503            1            False\n",
      "cra     narP                 0.176629     0.00443115          1            False\n",
      "cirA    fis      crp|rpoD   -0.021944     0.725736            1            False\n",
      "citC    narL     dpiA        0.0671924    0.282265            1            False\n",
      "fur     gutM     crp|hns     0.0338102    0.58879             1            False\n",
      "cyoA    gutM     crp|hns    -0.0664011    0.287985            1            False\n",
      "citC    ydeO     dpiA       -0.0653757    0.29551             1            False\n",
      "dpiA    gutM     crp|hns    -0.139029     0.0255387           1            False\n",
      "hns     narP                 0.0365144    0.559317            1            False\n",
      "exuT    hcp      crp|dpiA    0.043915     0.482497            1            False\n",
      "citC    cra      dpiA       -0.00599981   0.923597            1            False\n",
      "cspA    oxyR                -0.0304122    0.626803            1            False\n",
      "gadX    gutM     crp|hns     0.0584055    0.350111            1            False\n",
      "dcuR    rpoH                 0.102291     0.101138            1            False\n",
      "cydD    phoB     rpoD        0.132898     0.0328621           1            False\n",
      "appY    cra      rpoD        0.0931557    0.135625            1            False\n",
      "exuT    oxyR     crp|dpiA    0.0067977    0.913474            1            False\n",
      "modE    oxyR                 0.0277166    0.65768             1            False\n",
      "fnr     rpoH                -0.124145     0.0463604           1            False\n",
      "btsR    gutM                -0.00219369   0.972028            1            False\n",
      "======  =======  =========  ============  ===========  =====  ===========  ===================\n"
     ]
    }
   ],
   "source": [
    "# Took 30 minutes to run\n",
    "print_graph_falsifications(graph, data, max_given=3, method=\"pearson\", verbose=True, significance_level=0.01)"
   ],
   "metadata": {
    "collapsed": false,
    "ExecuteTime": {
     "end_time": "2024-01-14T18:29:40.938630500Z",
     "start_time": "2024-01-14T18:01:38.543486200Z"
    }
   },
   "id": "946fd227c4da088d"
  },
  {
   "cell_type": "markdown",
   "source": [
    "## Step 2: Check query identifiability"
   ],
   "metadata": {
    "collapsed": false
   },
   "id": "de84acea8401aa82"
  },
  {
   "cell_type": "code",
   "execution_count": 7,
   "outputs": [
    {
     "data": {
      "text/plain": "Identification(outcomes=\"{dpiA}, treatments=\"{fur}\",conditions=\"set()\",  graph=\"NxMixedGraph(directed=<networkx.classes.digraph.DiGraph object at 0x000001D5D7631390>, undirected=<networkx.classes.graph.Graph object at 0x000001D5D7632390>)\", estimand=\"P(aceE, amtB, appA, appB, appY, arcA, aspC, btsR, cirA, citC, cra, crp, cspA, cydD, cyoA, dcuR, dpiA, dpiB, exuT, fis, fnr, fur, gadX, gutM, hcp, hns, hyaA, hyaB, hyaF, ihfA, ihfB, iscR, lrp, mdh, modE, narL, narP, oxyR, phoB, rpoD, rpoH, rpoS, soxS, ydeO)\")"
     },
     "execution_count": 7,
     "metadata": {},
     "output_type": "execute_result"
    }
   ],
   "source": [
    "from y0.algorithm.identify import Identification\n",
    "from y0.dsl import P, Variable\n",
    "\n",
    "id_in = Identification.from_expression(\n",
    "    query=P(Variable('dpiA') @ Variable('fur')),\n",
    "    graph=graph,\n",
    ")\n",
    "id_in"
   ],
   "metadata": {
    "collapsed": false,
    "ExecuteTime": {
     "end_time": "2024-01-11T22:09:53.842645600Z",
     "start_time": "2024-01-11T22:09:53.817293600Z"
    }
   },
   "id": "9db1518afcea7377"
  },
  {
   "cell_type": "markdown",
   "source": [
    "The query is identifiable. Hence, we can proceed to the next step."
   ],
   "metadata": {
    "collapsed": false
   },
   "id": "4abeb139d356f07c"
  },
  {
   "cell_type": "markdown",
   "source": [
    "## Step 3: Find nuisance variables and mark them as latent"
   ],
   "metadata": {
    "collapsed": false
   },
   "id": "c61266793a90058b"
  },
  {
   "cell_type": "markdown",
   "source": [
    "This function finds the nuisance variables for the input graph."
   ],
   "metadata": {
    "collapsed": false
   },
   "id": "55c4bfe949593a4a"
  },
  {
   "cell_type": "code",
   "outputs": [],
   "source": [
    "from eliater.discover_latent_nodes import find_nuisance_variables"
   ],
   "metadata": {
    "collapsed": false,
    "ExecuteTime": {
     "end_time": "2024-01-11T22:09:55.821440200Z",
     "start_time": "2024-01-11T22:09:55.799124600Z"
    }
   },
   "id": "f98b3238fd580a64",
   "execution_count": 8
  },
  {
   "cell_type": "code",
   "execution_count": 9,
   "outputs": [
    {
     "data": {
      "text/plain": "21"
     },
     "execution_count": 9,
     "metadata": {},
     "output_type": "execute_result"
    }
   ],
   "source": [
    "nuisance_variables = find_nuisance_variables(graph, treatments=Variable('fur'), outcomes=Variable('dpiA'))\n",
    "len(nuisance_variables)"
   ],
   "metadata": {
    "collapsed": false,
    "ExecuteTime": {
     "end_time": "2024-01-11T22:09:56.856273800Z",
     "start_time": "2024-01-11T22:09:56.829335Z"
    }
   },
   "id": "80a72ccd9a8ce726"
  },
  {
   "cell_type": "markdown",
   "source": [
    "A total of 21 nodes are found as nuisance variables."
   ],
   "metadata": {
    "collapsed": false
   },
   "id": "e783d9f1830f9a9a"
  },
  {
   "cell_type": "code",
   "execution_count": 10,
   "outputs": [
    {
     "data": {
      "text/plain": "{aceE,\n amtB,\n appA,\n appB,\n appY,\n aspC,\n cirA,\n citC,\n cydD,\n cyoA,\n dpiB,\n exuT,\n gadX,\n gutM,\n hcp,\n hns,\n hyaA,\n hyaB,\n hyaF,\n mdh,\n ydeO}"
     },
     "execution_count": 10,
     "metadata": {},
     "output_type": "execute_result"
    }
   ],
   "source": [
    "#get the list of nuisance variables\n",
    "nuisance_variables"
   ],
   "metadata": {
    "collapsed": false,
    "ExecuteTime": {
     "end_time": "2024-01-11T22:09:59.277053900Z",
     "start_time": "2024-01-11T22:09:59.227929500Z"
    }
   },
   "id": "f71a38b8b63d115"
  },
  {
   "cell_type": "markdown",
   "source": [
    "## Step 4: Simplify the network"
   ],
   "metadata": {
    "collapsed": false
   },
   "id": "a10322ec91a50588"
  },
  {
   "cell_type": "markdown",
   "source": [
    "The following function find the nuisance variable (step 3), marks them as latent and then applies Evan's simplification rules to remove the nuisance variables."
   ],
   "metadata": {
    "collapsed": false
   },
   "id": "62b5c7bd4d5db516"
  },
  {
   "cell_type": "code",
   "outputs": [],
   "source": [
    "from eliater.discover_latent_nodes import remove_nuisance_variables"
   ],
   "metadata": {
    "collapsed": false,
    "ExecuteTime": {
     "end_time": "2024-01-11T22:10:01.267494900Z",
     "start_time": "2024-01-11T22:10:01.259011Z"
    }
   },
   "id": "1be501469457084e",
   "execution_count": 11
  },
  {
   "cell_type": "code",
   "execution_count": 12,
   "outputs": [],
   "source": [
    "new_graph = remove_nuisance_variables(graph, treatments=Variable(\"fur\"), outcomes=Variable(\"dpiA\"))"
   ],
   "metadata": {
    "collapsed": false,
    "ExecuteTime": {
     "end_time": "2024-01-11T22:10:01.797852700Z",
     "start_time": "2024-01-11T22:10:01.767865600Z"
    }
   },
   "id": "213d620224db3470"
  },
  {
   "cell_type": "markdown",
   "source": [
    "## Step 5: Estimate the query"
   ],
   "metadata": {
    "collapsed": false
   },
   "id": "b281730e7c585e8"
  },
  {
   "cell_type": "code",
   "outputs": [],
   "source": [
    "from eliater.regression import fit_regression, estimate_query, estimated_probabilities_summary_statistics"
   ],
   "metadata": {
    "collapsed": false,
    "ExecuteTime": {
     "end_time": "2024-01-11T22:12:39.251578900Z",
     "start_time": "2024-01-11T22:12:39.232890700Z"
    }
   },
   "id": "ae6d30c7ed42bd67",
   "execution_count": 21
  },
  {
   "cell_type": "code",
   "outputs": [
    {
     "data": {
      "text/plain": "RegressionResult(coefficients={crp: 0.2699805512369558, fur: 0.08136782815354306, lrp: 0.2091010614820305, oxyR: -0.023609523657045633, rpoD: 0.23931543684013465}, intercept=-2.796854907414999)"
     },
     "execution_count": 14,
     "metadata": {},
     "output_type": "execute_result"
    }
   ],
   "source": [
    "fit_regression(new_graph, data, treatments=Variable(\"fur\"), outcome=Variable(\"dpiA\"))"
   ],
   "metadata": {
    "collapsed": false,
    "ExecuteTime": {
     "end_time": "2024-01-11T22:10:07.935870900Z",
     "start_time": "2024-01-11T22:10:06.605021600Z"
    }
   },
   "id": "d325cc3463fc975c",
   "execution_count": 14
  },
  {
   "cell_type": "code",
   "outputs": [
    {
     "data": {
      "text/plain": "4.074327478157826"
     },
     "execution_count": 16,
     "metadata": {},
     "output_type": "execute_result"
    }
   ],
   "source": [
    "estimate_query(new_graph, data, treatments=Variable(\"fur\"), outcome=Variable(\"dpiA\"), interventions={Variable(\"fur\"): 0}, query_type=\"expected_value\")"
   ],
   "metadata": {
    "collapsed": false,
    "ExecuteTime": {
     "end_time": "2024-01-11T22:10:21.392120400Z",
     "start_time": "2024-01-11T22:10:20.092126800Z"
    }
   },
   "id": "68423679d7276d84",
   "execution_count": 16
  },
  {
   "cell_type": "markdown",
   "source": [
    "The estimated value for the query E[dpiA | fur = 0] is 4.07. This shows that perturbation of gene fur has an increasing effect on gene dpiA."
   ],
   "metadata": {
    "collapsed": false
   },
   "id": "e449c77f481e1f91"
  },
  {
   "cell_type": "code",
   "outputs": [
    {
     "data": {
      "text/plain": "SummaryStatistics(size=258.0, mean=4.074327478157826, std=0.1618361327887941, min=3.6488141980278934, first_quartile=3.959556155949329, second_quartile=4.079051311558438, third_quartile=4.148437440188556, max=4.571693863329815)"
     },
     "execution_count": 20,
     "metadata": {},
     "output_type": "execute_result"
    }
   ],
   "source": [
    "estimated_probabilities_summary_statistics(new_graph, data, treatments=Variable(\"fur\"), outcome=Variable(\"dpiA\"), interventions={Variable(\"fur\"): 0})"
   ],
   "metadata": {
    "collapsed": false,
    "ExecuteTime": {
     "end_time": "2024-01-11T22:12:21.877477300Z",
     "start_time": "2024-01-11T22:12:20.589453100Z"
    }
   },
   "id": "19f7320d83fafa13",
   "execution_count": 20
  },
  {
   "cell_type": "markdown",
   "source": [
    "The summary statistics provides more details regarding the query in the form of P(dpiA | fur=0). This result can be used to generate box plots that shows the estimated distribution of dpiA given a perturbation on fur."
   ],
   "metadata": {
    "collapsed": false
   },
   "id": "428340f469b57d6b"
  },
  {
   "cell_type": "markdown",
   "source": [
    "## Evaluation criterion\n",
    "The PRECISE database that the observational data was retrieved from included an interventional experiment with the value of fur set to zero, and three biological replicates. Hence, the ground truth for the query E[dpiA | fur = 0] was the mean expression of dpiA over the three replicates, resulted in 4.9.\n",
    "\n",
    "The estimated value for the query (4.07) is close in sign and magnitude to the\n",
    "value of 4.9 obtained from the experimental interventional data."
   ],
   "metadata": {
    "collapsed": false
   },
   "id": "b1074b0af5438b98"
  },
  {
   "cell_type": "markdown",
   "source": [],
   "metadata": {
    "collapsed": false
   },
   "id": "e713267e1bb43583"
  }
 ],
 "metadata": {
  "kernelspec": {
   "display_name": "Python 3",
   "language": "python",
   "name": "python3"
  },
  "language_info": {
   "codemirror_mode": {
    "name": "ipython",
    "version": 2
   },
   "file_extension": ".py",
   "mimetype": "text/x-python",
   "name": "python",
   "nbconvert_exporter": "python",
   "pygments_lexer": "ipython2",
   "version": "2.7.6"
  }
 },
 "nbformat": 4,
 "nbformat_minor": 5
}
