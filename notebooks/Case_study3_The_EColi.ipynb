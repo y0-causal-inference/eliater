{
 "cells": [
  {
   "cell_type": "markdown",
   "source": [
    "# Case study 3: The Escherichia coli K-12 transcriptional motif"
   ],
   "metadata": {
    "collapsed": false
   },
   "id": "a618fea7cca96207"
  },
  {
   "cell_type": "code",
   "execution_count": null,
   "outputs": [],
   "source": [
    "# from eliater.network_validation import conditional_independence_test_summary\n",
    "import pandas as pd\n",
    "\n",
    "# from y0.examples import identifiability_2\n",
    "from y0.algorithm.identify import Identification, identify\n",
    "from y0.dsl import X, Y\n",
    "from y0.graph import NxMixedGraph\n",
    "\n",
    "# from y0.algorithm.taheri_design import simplify_latent_dag\n",
    "# from IPython.display import Image, display"
   ],
   "metadata": {
    "collapsed": false
   },
   "id": "ff81802acad24326"
  },
  {
   "cell_type": "markdown",
   "source": [
    "This is case study 3 in Figure 7 in this paper: Eliater: an analytical workflow and open source implementation for causal query estimation in biomolecular networks."
   ],
   "metadata": {
    "collapsed": false
   },
   "id": "a0cedf172ad6ad7b"
  },
  {
   "cell_type": "code",
   "execution_count": null,
   "id": "initial_id",
   "metadata": {
    "collapsed": true
   },
   "outputs": [],
   "source": [
    "graph = NxMixedGraph.from_str_adj(\n",
    "    directed={\n",
    "        \"appY\": [\"appA\", \"appB\", \"appX\", \"hyaA\", \"hyaB\", \"hyaF\"],\n",
    "        \"arcA\": [\n",
    "            \"rpoS\",\n",
    "            \"fnr\",\n",
    "            \"dpiA\",\n",
    "            \"aceE\",\n",
    "            \"appY\",\n",
    "            \"citX\",\n",
    "            \"cydD\",\n",
    "            \"dpiB\",\n",
    "            \"gcvB\",\n",
    "            \"hyaA\",\n",
    "            \"hyaB\",\n",
    "            \"hyaF\",\n",
    "            \"mdh\",\n",
    "        ],\n",
    "        \"btsR\": [\"mdh\"],\n",
    "        \"chiX\": [\"dpiA\", \"dpiB\"],\n",
    "        \"citX\": [\"dpiB\"],\n",
    "        \"cra\": [\"cyoA\"],\n",
    "        \"crp\": [\n",
    "            \"dpiA\",\n",
    "            \"cirA\",\n",
    "            \"dcuR\",\n",
    "            \"oxyR\",\n",
    "            \"fis\",\n",
    "            \"fur\",\n",
    "            \"aceE\",\n",
    "            \"citX\",\n",
    "            \"cyoA\",\n",
    "            \"dpiB\",\n",
    "            \"exuT\",\n",
    "            \"gadX\",\n",
    "            \"mdh\",\n",
    "            \"srIR\",\n",
    "        ],\n",
    "        \"cspA\": [\"hns\"],\n",
    "        \"dcuR\": [\"dpiA\", \"dpiB\"],\n",
    "        \"dpiA\": [\"appY\", \"citC\", \"citD\", \"citX\", \"dpiB\", \"exuT\", \"mdh\"],\n",
    "        \"dsrA\": [\"hns\", \"lrp\", \"rpoS\"],\n",
    "        \"fis\": [\"cyoA\", \"gadX\", \"hns\", \"hyaA\", \"hyaB\", \"hyaF\"],\n",
    "        \"fnr\": [\n",
    "            \"dcuR\",\n",
    "            \"dpiA\",\n",
    "            \"narL\",\n",
    "            \"aceE\",\n",
    "            \"amtB\",\n",
    "            \"aspC\",\n",
    "            \"citX\",\n",
    "            \"cydD\",\n",
    "            \"cyoA\",\n",
    "            \"dpiB\",\n",
    "            \"gadX\",\n",
    "            \"hcp\",\n",
    "        ],\n",
    "        \"fur\": [\"fnr\", \"amtB\", \"aspC\", \"cirA\", \"cyoA\"],\n",
    "        \"gadX\": [\"amtB\", \"hns\"],\n",
    "        \"gcvB\": [\"lrp\", \"oxyR\", \"ydeO\"],\n",
    "        \"hns\": [\"appY\", \"srIR\", \"ydeO\", \"yjjQ\"],\n",
    "        \"ihfA\": [\"crp\", \"fnr\", \"ihfB\"],\n",
    "        \"ihfB\": [\"fnr\"],\n",
    "        \"iscR\": [\"hyaA\", \"hyaB\", \"appX\"],\n",
    "        \"lrp\": [\"soxS\", \"aspC\"],\n",
    "        \"modE\": [\"narL\"],\n",
    "        \"narL\": [\"citX\", \"cydD\", \"dpiB\", \"hcp\", \"hyaA\", \"hyaB\", \"hyaF\", \"dcuR\", \"dpiA\"],\n",
    "        \"narP\": [\"hyaA\", \"hyaB\", \"hyaF\"],\n",
    "        \"oxyR\": [\"fur\", \"hcp\"],\n",
    "        \"phoB\": [\"cra\"],\n",
    "        \"rpoD\": [\n",
    "            \"arcA\",\n",
    "            \"cirA\",\n",
    "            \"crp\",\n",
    "            \"dcuR\",\n",
    "            \"fis\",\n",
    "            \"fnr\",\n",
    "            \"fur\",\n",
    "            \"ihfB\",\n",
    "            \"lrp\",\n",
    "            \"narL\",\n",
    "            \"oxyR\",\n",
    "            \"phoB\",\n",
    "            \"rpoS\",\n",
    "            \"soxS\",\n",
    "            \"aceE\",\n",
    "            \"ydeO\",\n",
    "            \"hns\",\n",
    "            \"yjjQ\",\n",
    "        ],\n",
    "        \"rpoH\": [\"cra\"],\n",
    "        \"rpoS\": [\"aceE\", \"appY\", \"hyaA\", \"hyaB\", \"hyaF\", \"ihfA\", \"ihfB\", \"oxyR\"],\n",
    "        \"soxS\": [\"fur\"],\n",
    "        \"srIR\": [\"gutM\"],\n",
    "        \"ydeO\": [\"hyaA\", \"hyaF\", \"hyaB\"],\n",
    "    }\n",
    ")"
   ]
  },
  {
   "cell_type": "code",
   "execution_count": null,
   "outputs": [],
   "source": [
    "# get data"
   ],
   "metadata": {
    "collapsed": false
   },
   "id": "493dbce26b06565c"
  },
  {
   "cell_type": "markdown",
   "source": [
    "## Step 1: Verify correctness of the network structure"
   ],
   "metadata": {
    "collapsed": false
   },
   "id": "3cb336afa4c23502"
  },
  {
   "cell_type": "code",
   "execution_count": null,
   "outputs": [],
   "source": [],
   "metadata": {
    "collapsed": false
   },
   "id": "d4b562efe3344b5f"
  },
  {
   "cell_type": "markdown",
   "source": [
    "## Step 2: Check query identifiability"
   ],
   "metadata": {
    "collapsed": false
   },
   "id": "c850d50f1f790c01"
  },
  {
   "cell_type": "code",
   "execution_count": null,
   "outputs": [],
   "source": [],
   "metadata": {
    "collapsed": false
   },
   "id": "946fd227c4da088d"
  },
  {
   "cell_type": "markdown",
   "source": [
    "## Step 3: Find nuisance variables and mark them as latent"
   ],
   "metadata": {
    "collapsed": false
   },
   "id": "c61266793a90058b"
  },
  {
   "cell_type": "code",
   "execution_count": null,
   "outputs": [],
   "source": [],
   "metadata": {
    "collapsed": false
   },
   "id": "92f6d81637f46942"
  },
  {
   "cell_type": "markdown",
   "source": [
    "## Step 4: Simplify the network"
   ],
   "metadata": {
    "collapsed": false
   },
   "id": "a10322ec91a50588"
  },
  {
   "cell_type": "code",
   "execution_count": null,
   "outputs": [],
   "source": [],
   "metadata": {
    "collapsed": false
   },
   "id": "213d620224db3470"
  },
  {
   "cell_type": "markdown",
   "source": [
    "## Step 5: Estimate the query"
   ],
   "metadata": {
    "collapsed": false
   },
   "id": "b281730e7c585e8"
  },
  {
   "cell_type": "code",
   "execution_count": null,
   "outputs": [],
   "source": [],
   "metadata": {
    "collapsed": false
   },
   "id": "bf7c214724c76deb"
  }
 ],
 "metadata": {
  "kernelspec": {
   "display_name": "Python 3",
   "language": "python",
   "name": "python3"
  },
  "language_info": {
   "codemirror_mode": {
    "name": "ipython",
    "version": 2
   },
   "file_extension": ".py",
   "mimetype": "text/x-python",
   "name": "python",
   "nbconvert_exporter": "python",
   "pygments_lexer": "ipython2",
   "version": "2.7.6"
  }
 },
 "nbformat": 4,
 "nbformat_minor": 5
}
