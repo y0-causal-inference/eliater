{
 "cells": [
  {
   "cell_type": "markdown",
   "source": [
    "# Case study 1: The T signaling pathway"
   ],
   "metadata": {
    "collapsed": false
   },
   "id": "41a84966a70395d6"
  },
  {
   "cell_type": "code",
   "execution_count": 4,
   "id": "initial_id",
   "metadata": {
    "collapsed": true,
    "ExecuteTime": {
     "end_time": "2023-11-27T19:30:20.591509Z",
     "start_time": "2023-11-27T19:30:08.757926Z"
    }
   },
   "outputs": [],
   "source": [
    "# from eliater.network_validation import conditional_independence_test_summary\n",
    "import pandas as pd\n",
    "from y0.graph import NxMixedGraph\n",
    "from y0.dsl import Variable"
   ]
  },
  {
   "cell_type": "markdown",
   "source": [
    "This is case study 1 in Figure 5 (a) in this paper: Eliater: an analytical workflow and open source implementation for causal query estimation in biomolecular networks."
   ],
   "metadata": {
    "collapsed": false
   },
   "id": "231bb8431a64328e"
  },
  {
   "cell_type": "code",
   "execution_count": 7,
   "outputs": [],
   "source": [
    "graph1 = NxMixedGraph.from_str_adj(\n",
    "    directed={\n",
    "        \"PKA\": [\"Raf\", \"Mek\", \"Erk\", \"Akt\", \"Jnk\", \"P38\"],\n",
    "        \"PKC\": [\"Mek\", \"Raf\", \"PKA\", \"Jnk\", \"P38\"],\n",
    "        \"Raf\": [\"Mek\"],\n",
    "        \"Mek\": [\"Erk\"],\n",
    "        \"Erk\": [\"Akt\"],\n",
    "        \"Plcg\": [\"PKC\", \"PIP2\", \"PIP3\"],\n",
    "        \"PIP3\": [\"PIP2\", \"Akt\"],\n",
    "        \"PIP2\": [\"PKC\"],\n",
    "    }\n",
    ")"
   ],
   "metadata": {
    "collapsed": false,
    "ExecuteTime": {
     "end_time": "2023-11-27T19:32:02.915284Z",
     "start_time": "2023-11-27T19:32:02.552130Z"
    }
   },
   "id": "3781cef61e000ef7"
  },
  {
   "cell_type": "code",
   "execution_count": 9,
   "outputs": [
    {
     "data": {
      "text/plain": "       0  0.1  0.2  0.3  1  1.1  1.2  0.4  1.3  1.4  1.5  1.6\n0      1    0    1    1  1    1    1    1    1    1    1    1\n1      2    1    0    0  1    1    1    1    1    1    0    0\n2      3    1    0    0  1    1    1    1    1    1    0    0\n3      4    0    0    1  1    0    1    1    1    1    1    1\n4      5    0    0    0  0    1    1    1    1    1    1    1\n..   ...  ...  ...  ... ..  ...  ...  ...  ...  ...  ...  ...\n847  848    1    0    0  0    1    1    1    0    1    0    0\n848  849    0    0    0  1    1    1    1    1    1    1    0\n849  850    1    1    0  1    1    1    0    1    1    0    0\n850  851    1    0    0  1    1    1    1    0    1    1    0\n851  852    1    0    0  1    1    1    1    0    1    1    0\n\n[852 rows x 12 columns]",
      "text/html": "<div>\n<style scoped>\n    .dataframe tbody tr th:only-of-type {\n        vertical-align: middle;\n    }\n\n    .dataframe tbody tr th {\n        vertical-align: top;\n    }\n\n    .dataframe thead th {\n        text-align: right;\n    }\n</style>\n<table border=\"1\" class=\"dataframe\">\n  <thead>\n    <tr style=\"text-align: right;\">\n      <th></th>\n      <th>0</th>\n      <th>0.1</th>\n      <th>0.2</th>\n      <th>0.3</th>\n      <th>1</th>\n      <th>1.1</th>\n      <th>1.2</th>\n      <th>0.4</th>\n      <th>1.3</th>\n      <th>1.4</th>\n      <th>1.5</th>\n      <th>1.6</th>\n    </tr>\n  </thead>\n  <tbody>\n    <tr>\n      <th>0</th>\n      <td>1</td>\n      <td>0</td>\n      <td>1</td>\n      <td>1</td>\n      <td>1</td>\n      <td>1</td>\n      <td>1</td>\n      <td>1</td>\n      <td>1</td>\n      <td>1</td>\n      <td>1</td>\n      <td>1</td>\n    </tr>\n    <tr>\n      <th>1</th>\n      <td>2</td>\n      <td>1</td>\n      <td>0</td>\n      <td>0</td>\n      <td>1</td>\n      <td>1</td>\n      <td>1</td>\n      <td>1</td>\n      <td>1</td>\n      <td>1</td>\n      <td>0</td>\n      <td>0</td>\n    </tr>\n    <tr>\n      <th>2</th>\n      <td>3</td>\n      <td>1</td>\n      <td>0</td>\n      <td>0</td>\n      <td>1</td>\n      <td>1</td>\n      <td>1</td>\n      <td>1</td>\n      <td>1</td>\n      <td>1</td>\n      <td>0</td>\n      <td>0</td>\n    </tr>\n    <tr>\n      <th>3</th>\n      <td>4</td>\n      <td>0</td>\n      <td>0</td>\n      <td>1</td>\n      <td>1</td>\n      <td>0</td>\n      <td>1</td>\n      <td>1</td>\n      <td>1</td>\n      <td>1</td>\n      <td>1</td>\n      <td>1</td>\n    </tr>\n    <tr>\n      <th>4</th>\n      <td>5</td>\n      <td>0</td>\n      <td>0</td>\n      <td>0</td>\n      <td>0</td>\n      <td>1</td>\n      <td>1</td>\n      <td>1</td>\n      <td>1</td>\n      <td>1</td>\n      <td>1</td>\n      <td>1</td>\n    </tr>\n    <tr>\n      <th>...</th>\n      <td>...</td>\n      <td>...</td>\n      <td>...</td>\n      <td>...</td>\n      <td>...</td>\n      <td>...</td>\n      <td>...</td>\n      <td>...</td>\n      <td>...</td>\n      <td>...</td>\n      <td>...</td>\n      <td>...</td>\n    </tr>\n    <tr>\n      <th>847</th>\n      <td>848</td>\n      <td>1</td>\n      <td>0</td>\n      <td>0</td>\n      <td>0</td>\n      <td>1</td>\n      <td>1</td>\n      <td>1</td>\n      <td>0</td>\n      <td>1</td>\n      <td>0</td>\n      <td>0</td>\n    </tr>\n    <tr>\n      <th>848</th>\n      <td>849</td>\n      <td>0</td>\n      <td>0</td>\n      <td>0</td>\n      <td>1</td>\n      <td>1</td>\n      <td>1</td>\n      <td>1</td>\n      <td>1</td>\n      <td>1</td>\n      <td>1</td>\n      <td>0</td>\n    </tr>\n    <tr>\n      <th>849</th>\n      <td>850</td>\n      <td>1</td>\n      <td>1</td>\n      <td>0</td>\n      <td>1</td>\n      <td>1</td>\n      <td>1</td>\n      <td>0</td>\n      <td>1</td>\n      <td>1</td>\n      <td>0</td>\n      <td>0</td>\n    </tr>\n    <tr>\n      <th>850</th>\n      <td>851</td>\n      <td>1</td>\n      <td>0</td>\n      <td>0</td>\n      <td>1</td>\n      <td>1</td>\n      <td>1</td>\n      <td>1</td>\n      <td>0</td>\n      <td>1</td>\n      <td>1</td>\n      <td>0</td>\n    </tr>\n    <tr>\n      <th>851</th>\n      <td>852</td>\n      <td>1</td>\n      <td>0</td>\n      <td>0</td>\n      <td>1</td>\n      <td>1</td>\n      <td>1</td>\n      <td>1</td>\n      <td>0</td>\n      <td>1</td>\n      <td>1</td>\n      <td>0</td>\n    </tr>\n  </tbody>\n</table>\n<p>852 rows × 12 columns</p>\n</div>"
     },
     "execution_count": 9,
     "metadata": {},
     "output_type": "execute_result"
    }
   ],
   "source": [
    "# Get the data\n",
    "data = pd.read_csv(\n",
    "    \"~/Github/eliater/src/eliater/data/sachs_discretized_2bin.csv\",\n",
    "    index_col=False,\n",
    ")\n",
    "data"
   ],
   "metadata": {
    "collapsed": false,
    "ExecuteTime": {
     "end_time": "2023-11-16T16:08:48.156072Z",
     "start_time": "2023-11-16T16:08:47.938879Z"
    }
   },
   "id": "64c167d7feaf9c75"
  },
  {
   "cell_type": "markdown",
   "source": [
    "## Step 1: Verify correctness of the network structure"
   ],
   "metadata": {
    "collapsed": false
   },
   "id": "bd48019f2e6dd0f8"
  },
  {
   "cell_type": "code",
   "execution_count": 7,
   "outputs": [],
   "source": [
    "#remove after branch is merged\n",
    "import logging\n",
    "from typing import Dict, Literal, Optional\n",
    "import pandas as pd\n",
    "\n",
    "from y0.algorithm.falsification import get_graph_falsifications\n",
    "from y0.dsl import Variable\n",
    "from y0.graph import NxMixedGraph\n",
    "from y0.struct import get_conditional_independence_tests\n",
    "\n",
    "logging.basicConfig(format=\"%(message)s\", level=logging.DEBUG)\n",
    "\n",
    "\n",
    "__all__ = [\n",
    "    \"conditional_independence_test_summary\",\n",
    "    \"validate_test\",\n",
    "    \"get_state_space_map\",\n",
    "    \"is_data_discrete\",\n",
    "    \"is_data_continuous\",\n",
    "    \"CITest\",\n",
    "    \"choose_default_test\",\n",
    "]\n",
    "\n",
    "TESTS = get_conditional_independence_tests()\n",
    "\n",
    "\n",
    "def get_state_space_map(\n",
    "    data: pd.DataFrame, threshold: Optional[int] = 10\n",
    ") -> Dict[Variable, Literal[\"discrete\", \"continuous\"]]:\n",
    "    \"\"\"Get a dictionary from each variable to its type.\n",
    "\n",
    "    :param data: the observed data\n",
    "    :param threshold: The threshold for determining a column as discrete\n",
    "        based on the number of unique values\n",
    "    :return: the mapping from column name to its type\n",
    "    \"\"\"\n",
    "    column_values_unique_count = {\n",
    "        column_name: data[column_name].nunique() for column_name in data.columns\n",
    "    }\n",
    "    return {\n",
    "        Variable(column): \"discrete\"\n",
    "        if column_values_unique_count[column] <= threshold\n",
    "        else \"continuous\"\n",
    "        for column in data.columns\n",
    "    }\n",
    "\n",
    "\n",
    "def is_data_discrete(data: pd.DataFrame) -> bool:\n",
    "    \"\"\"Check if all the columns in the dataframe has discrete data.\n",
    "\n",
    "    :param data: observational data.\n",
    "    :return: True, if all the columns have discrete data, False, otherwise\n",
    "    \"\"\"\n",
    "    variable_types = set(get_state_space_map(data=data).values())\n",
    "    return variable_types == {\"discrete\"}\n",
    "\n",
    "\n",
    "def is_data_continuous(data: pd.DataFrame) -> bool:\n",
    "    \"\"\"Check if all the columns in the dataframe has continuous data.\n",
    "\n",
    "    :param data: observational.\n",
    "    :return: True, if all the columns have continuous data, False, otherwise\n",
    "    \"\"\"\n",
    "    variable_types = set(get_state_space_map(data).values())\n",
    "    return variable_types == {\"continuous\"}\n",
    "\n",
    "\n",
    "# TODO replace with y0.struct.CITest\n",
    "CITest = Literal[\n",
    "    \"pearson\",\n",
    "    \"chi-square\",\n",
    "    \"cressie_read\",\n",
    "    \"freeman_tuckey\",\n",
    "    \"g_sq\",\n",
    "    \"log_likelihood\",\n",
    "    \"modified_log_likelihood\",\n",
    "    \"power_divergence\",\n",
    "    \"neyman\",\n",
    "]\n",
    "\n",
    "\n",
    "def choose_default_test(data: pd.DataFrame) -> CITest:\n",
    "    \"\"\"Choose the default statistical test for testing conditional independencies based on the data.\n",
    "\n",
    "    :param data: observational data.\n",
    "    :return: the default test based on data\n",
    "    :raises NotImplementedError: if data is of mixed type (contains both discrete and continuous columns)\n",
    "    \"\"\"\n",
    "    if is_data_discrete(data):\n",
    "        return \"chi-square\"\n",
    "    if is_data_continuous(data):\n",
    "        return \"pearson\"\n",
    "    raise NotImplementedError(\n",
    "        \"Mixed data types are not allowed. Either all of the columns of data should be discrete / continuous.\"\n",
    "    )\n",
    "\n",
    "\n",
    "def validate_test(\n",
    "    data: pd.DataFrame,\n",
    "    test: Optional[CITest],\n",
    ") -> None:\n",
    "    \"\"\"Validate the conditional independency test passed by the user.\n",
    "\n",
    "    :param data: observational data.\n",
    "    :param test: the conditional independency test passed by the user.\n",
    "    :raises ValueError: if the passed test is invalid / unsupported, pearson is used for discrete data or\n",
    "        chi-square is used for continuous data\n",
    "    \"\"\"\n",
    "    tests = get_conditional_independence_tests()\n",
    "    if test not in tests:\n",
    "        raise ValueError(f\"`{test}` is invalid. Supported CI tests are: {sorted(tests)}\")\n",
    "\n",
    "    if is_data_continuous(data) and test != \"pearson\":\n",
    "        raise ValueError(\n",
    "            \"The data is continuous. Either discretize and use chi-square or use the pearson.\"\n",
    "        )\n",
    "\n",
    "    if is_data_discrete(data) and test == \"pearson\":\n",
    "        raise ValueError(\"Cannot run pearson on discrete data. Use chi-square instead.\")\n",
    "\n",
    "\n",
    "def conditional_independence_test_summary(\n",
    "    graph: NxMixedGraph,\n",
    "    data: pd.DataFrame,\n",
    "    test: Optional[CITest] = None,\n",
    "    max_given: Optional[int] = 5,\n",
    "    significance_level: Optional[float] = None,\n",
    "    verbose: Optional[bool] = False,\n",
    ") -> None:\n",
    "    \"\"\"Print the summary of conditional independency test results.\n",
    "\n",
    "    Prints the summary to the console, which includes the total number of conditional independence tests,\n",
    "    the number and percentage of failed tests, and statistical information about each test such as p-values,\n",
    "    and test results.\n",
    "\n",
    "    :param graph: an NxMixedGraph\n",
    "    :param data: observational data corresponding to the graph\n",
    "    :param test: the conditional independency test to use. If None, defaults to ``pearson`` for continuous data\n",
    "        and ``chi-square`` for discrete data.\n",
    "    :param max_given: The maximum set size in the power set of the vertices minus the d-separable pairs\n",
    "    :param significance_level: The statistical tests employ this value for\n",
    "        comparison with the p-value of the test to determine the independence of\n",
    "        the tested variables. If none, defaults to 0.01.\n",
    "    :param verbose: If `False`, only print the details of failed tests.\n",
    "        If 'True', print the details of all the conditional independency results. Defaults to `False`\n",
    "    :raises NotImplementedError: if data is of mixed type (contains both discrete and continuous columns)\n",
    "    \"\"\"\n",
    "    if significance_level is None:\n",
    "        significance_level = 0.01\n",
    "    if not test:\n",
    "        test = choose_default_test(data)\n",
    "    else:\n",
    "        # Validate test and data\n",
    "        validate_test(data=data, test=test)\n",
    "        if len(set(get_state_space_map(data).values())) > 1:\n",
    "            raise NotImplementedError(\n",
    "                \"Mixed data types are not allowed. Either all of the columns of data should be discrete / continuous.\"\n",
    "            )\n",
    "    test_results = get_graph_falsifications(\n",
    "        graph=graph,\n",
    "        df=data,\n",
    "        method=test,\n",
    "        significance_level=significance_level,\n",
    "        max_given=max_given,\n",
    "    ).evidence\n",
    "    # Find the result based on p-value\n",
    "    test_results[\"result\"] = test_results[\"p\"].apply(\n",
    "        lambda p_value: \"fail\" if p_value < significance_level else \"pass\"\n",
    "    )\n",
    "    # Selecting columns of interest\n",
    "    test_results = test_results[[\"left\", \"right\", \"given\", \"p\", \"result\"]]\n",
    "    # Sorting the rows by index\n",
    "    test_results = test_results.sort_index()\n",
    "    test_results = test_results.rename(columns={\"p\": \"p-value\"})\n",
    "    failed_tests = test_results[test_results[\"result\"] == \"fail\"]\n",
    "    total_no_of_tests = len(test_results)\n",
    "    total_no_of_failed_tests = len(failed_tests)\n",
    "    percentage_of_failed_tests = total_no_of_failed_tests / total_no_of_tests\n",
    "    logging.info(f\"Total number of conditional independencies: {total_no_of_tests:,}\")\n",
    "    logging.info(f\"Total number of failed tests: {total_no_of_failed_tests:,}\")\n",
    "    logging.info(f\"Percentage of failed tests: {percentage_of_failed_tests:.2%}\")\n",
    "    if verbose:\n",
    "        logging.info(test_results.to_string(index=False))\n",
    "    else:\n",
    "        logging.info(failed_tests.to_string(index=False))"
   ],
   "metadata": {
    "collapsed": false,
    "ExecuteTime": {
     "end_time": "2023-11-14T17:00:34.734442Z",
     "start_time": "2023-11-14T16:59:36.664270Z"
    }
   },
   "id": "93ec48fb3ab155ce"
  },
  {
   "cell_type": "code",
   "execution_count": 79,
   "outputs": [
    {
     "name": "stderr",
     "output_type": "stream",
     "text": [
      "Total number of conditional independencies: 35\n",
      "Total number of failed tests: 1\n",
      "Percentage of failed tests: 2.86%\n",
      "left right        given  p-value result\n",
      "PIP3   PKC    PIP2|Plcg 0.416708   pass\n",
      "Plcg   Raf          PKC 0.315851   pass\n",
      " Erk   P38      PKA|PKC 0.550582   pass\n",
      "PIP2   PKA          PKC 0.605099   pass\n",
      " Akt   P38      PKA|PKC 0.233727   pass\n",
      " P38   Raf      PKA|PKC 0.534014   pass\n",
      " Akt  Plcg     PIP3|PKC 0.069127   pass\n",
      " Erk  Plcg          PKC 0.075253   pass\n",
      "PIP3   PKA          PKC 0.604881   pass\n",
      " Akt   Raf  Erk|PKA|PKC 0.989789   pass\n",
      " Mek  PIP2          PKC 1.000000   pass\n",
      " Akt   PKC Erk|PIP3|PKA 0.951124   pass\n",
      " Jnk  PIP2          PKC 0.773824   pass\n",
      " Erk  PIP3          PKC 0.926823   pass\n",
      " Jnk   P38      PKA|PKC 0.153375   pass\n",
      " Jnk  Plcg          PKC 0.806956   pass\n",
      " Akt   Mek  Erk|PKA|PKC 0.777743   pass\n",
      " PKA  Plcg          PKC 0.855297   pass\n",
      " Mek   P38      PKA|PKC 0.421722   pass\n",
      " P38  PIP2          PKC 0.004250   fail\n",
      " Jnk  PIP3          PKC 0.072930   pass\n",
      " Mek  Plcg          PKC 0.652801   pass\n",
      "PIP2   Raf          PKC 0.758898   pass\n",
      " Jnk   Raf      PKA|PKC 0.569600   pass\n",
      " Akt  PIP2     PIP3|PKC 0.461217   pass\n",
      " Erk  PIP2          PKC 0.473808   pass\n",
      " Mek  PIP3          PKC 0.940432   pass\n",
      " Erk   Raf      Mek|PKA 0.626687   pass\n",
      " Jnk   Mek      PKA|PKC 0.066476   pass\n",
      " Erk   Jnk      PKA|PKC 0.909252   pass\n",
      " Akt   Jnk      PKA|PKC 0.806559   pass\n",
      " Erk   PKC      Mek|PKA 0.410351   pass\n",
      " P38  Plcg          PKC 0.299846   pass\n",
      " P38  PIP3          PKC 0.721479   pass\n",
      "PIP3   Raf          PKC 0.461493   pass\n"
     ]
    }
   ],
   "source": [
    "conditional_independence_test_summary(graph, data, verbose=True)"
   ],
   "metadata": {
    "collapsed": false,
    "ExecuteTime": {
     "end_time": "2023-11-07T20:53:10.638798Z",
     "start_time": "2023-11-07T20:52:43.739592Z"
    }
   },
   "id": "7695384008ddeeb9"
  },
  {
   "cell_type": "markdown",
   "source": [
    "Out of 35 d-separations implied by the network, only one failed. As the precentage of failed tests is below 30 percent, its effect on the estimation of causal query is minor. Hence, we proceed to the next step."
   ],
   "metadata": {
    "collapsed": false
   },
   "id": "d04980abb4ea5ded"
  },
  {
   "cell_type": "markdown",
   "source": [
    "## Step 2: Check query identifiability"
   ],
   "metadata": {
    "collapsed": false
   },
   "id": "ffc6d06ac551ed33"
  },
  {
   "cell_type": "code",
   "execution_count": 8,
   "outputs": [],
   "source": [
    "graph2 = NxMixedGraph.from_str_adj(\n",
    "    directed={\n",
    "        \"X\": [\"Y\"]\n",
    "    },\n",
    "    undirected={\"X\":[\"Y\"]}\n",
    ")"
   ],
   "metadata": {
    "collapsed": false,
    "ExecuteTime": {
     "end_time": "2023-11-27T19:32:28.294624Z",
     "start_time": "2023-11-27T19:32:27.783879Z"
    }
   },
   "id": "1c83cb30f2cfef15"
  },
  {
   "cell_type": "code",
   "execution_count": 9,
   "outputs": [
    {
     "data": {
      "text/plain": "Identification(outcomes=\"{Erk}, treatments=\"{Raf}\",conditions=\"set()\",  graph=\"NxMixedGraph(directed=<networkx.classes.digraph.DiGraph object at 0x114b75690>, undirected=<networkx.classes.graph.Graph object at 0x114b757d0>)\", estimand=\"P(Akt, Erk, Jnk, Mek, P38, PIP2, PIP3, PKA, PKC, Plcg, Raf)\")"
     },
     "execution_count": 9,
     "metadata": {},
     "output_type": "execute_result"
    }
   ],
   "source": [
    "from y0.algorithm.identify import Identification\n",
    "from y0.dsl import P\n",
    "id_in = Identification.from_expression(\n",
    "    #query=P(Variable('Erk') @ [Variable('Raf'), Variable('Mek')]),\n",
    "    query=P(Variable('Erk') @ Variable('Raf')),\n",
    "    graph=graph1,\n",
    ")\n",
    "id_in"
   ],
   "metadata": {
    "collapsed": false,
    "ExecuteTime": {
     "end_time": "2023-11-27T19:32:31.683599Z",
     "start_time": "2023-11-27T19:32:30.900626Z"
    }
   },
   "id": "f19b50aaf177336b"
  },
  {
   "cell_type": "code",
   "execution_count": 10,
   "outputs": [
    {
     "data": {
      "text/plain": "Identification(outcomes=\"{Y}, treatments=\"{X}\",conditions=\"set()\",  graph=\"NxMixedGraph(directed=<networkx.classes.digraph.DiGraph object at 0x114b77750>, undirected=<networkx.classes.graph.Graph object at 0x114b778d0>)\", estimand=\"P(X, Y)\")"
     },
     "execution_count": 10,
     "metadata": {},
     "output_type": "execute_result"
    }
   ],
   "source": [
    "from y0.algorithm.identify import Identification\n",
    "from y0.dsl import P\n",
    "id_in = Identification.from_expression(\n",
    "    #query=P(Variable('Erk') @ [Variable('Raf'), Variable('Mek')]),\n",
    "    query=P(Variable('Y') @ Variable('X')),\n",
    "    graph=graph2,\n",
    ")\n",
    "id_in"
   ],
   "metadata": {
    "collapsed": false,
    "ExecuteTime": {
     "end_time": "2023-11-27T19:32:34.376585Z",
     "start_time": "2023-11-27T19:32:34.036685Z"
    }
   },
   "id": "f63b45002e5756cc"
  },
  {
   "cell_type": "markdown",
   "source": [
    "The query is identifiable. Hence, we can proceed to the next step."
   ],
   "metadata": {
    "collapsed": false
   },
   "id": "9d1f152e662579c5"
  },
  {
   "cell_type": "markdown",
   "source": [
    "## Step 3: Find nuisance variables and mark them as latent"
   ],
   "metadata": {
    "collapsed": false
   },
   "id": "6d43d2928ac2ff5f"
  },
  {
   "cell_type": "code",
   "execution_count": 9,
   "outputs": [],
   "source": [
    "#remove after merging simplify branch to main\n",
    "import itertools\n",
    "from typing import Iterable, Optional, Set, Union\n",
    "\n",
    "import networkx as nx\n",
    "\n",
    "from y0.algorithm.simplify_latent import simplify_latent_dag\n",
    "from y0.dsl import Variable\n",
    "from y0.graph import DEFAULT_TAG, NxMixedGraph\n",
    "\n",
    "__all__ = [\n",
    "    \"remove_latent_variables\",\n",
    "    \"mark_nuisance_variables_as_latent\",\n",
    "    \"find_all_nodes_in_causal_paths\",\n",
    "    \"find_nuisance_variables\",\n",
    "]\n",
    "\n",
    "\n",
    "def remove_latent_variables(\n",
    "    graph: NxMixedGraph,\n",
    "    treatments: Union[Variable, Set[Variable]],\n",
    "    outcomes: Union[Variable, Set[Variable]],\n",
    "    tag: Optional[str] = None,\n",
    ") -> NxMixedGraph:\n",
    "    \"\"\"Find all nuissance variables and remove them based on Evans' simplification rules.\n",
    "\n",
    "    :param graph: an NxMixedGraph\n",
    "    :param treatments: a list of treatments\n",
    "    :param outcomes: a list of outcomes\n",
    "    :param tag: The tag for which variables are latent\n",
    "    :return: the new graph after simplification\n",
    "    \"\"\"\n",
    "    lv_dag = mark_nuisance_variables_as_latent(\n",
    "        graph=graph, treatments=treatments, outcomes=outcomes, tag=tag\n",
    "    )\n",
    "    simplified_latent_dag = simplify_latent_dag(lv_dag, tag=tag)\n",
    "    return NxMixedGraph.from_latent_variable_dag(simplified_latent_dag.graph, tag=tag)\n",
    "\n",
    "\n",
    "def mark_nuisance_variables_as_latent(\n",
    "    graph: NxMixedGraph,\n",
    "    treatments: Union[Variable, Set[Variable]],\n",
    "    outcomes: Union[Variable, Set[Variable]],\n",
    "    tag: Optional[str] = None,\n",
    ") -> nx.DiGraph:\n",
    "    \"\"\"Find all the nuisance variables and mark them as latent.\n",
    "\n",
    "    Mark nuisance variables as latent by first identifying them, then creating a new graph where these\n",
    "    nodes are marked as latent. Nuisance variables are the descendants of nodes in all proper causal paths\n",
    "    that are not ancestors of the outcome variables nodes. A proper causal path is a directed path from\n",
    "    treatments to the outcome. Nuisance variables should not be included in the estimation of the causal\n",
    "    effect as they increase the variance.\n",
    "\n",
    "    :param graph: an NxMixedGraph\n",
    "    :param treatments: a list of treatments\n",
    "    :param outcomes: a list of outcomes\n",
    "    :param tag: The tag for which variables are latent\n",
    "    :return: the modified graph after simplification, in place\n",
    "    \"\"\"\n",
    "    if tag is None:\n",
    "        tag = DEFAULT_TAG\n",
    "    nuisance_variables = find_nuisance_variables(graph, treatments=treatments, outcomes=outcomes)\n",
    "    lv_dag = NxMixedGraph.to_latent_variable_dag(graph, tag=tag)\n",
    "    # Set nuisance variables as latent\n",
    "    for node, data in lv_dag.nodes(data=True):\n",
    "        if Variable(node) in nuisance_variables:\n",
    "            data[tag] = True\n",
    "    return lv_dag\n",
    "\n",
    "\n",
    "def find_all_nodes_in_causal_paths(\n",
    "    graph: NxMixedGraph,\n",
    "    treatments: Union[Variable, Set[Variable]],\n",
    "    outcomes: Union[Variable, Set[Variable]],\n",
    ") -> Set[Variable]:\n",
    "    \"\"\"Find all the nodes in proper causal paths from treatments to outcomes.\n",
    "\n",
    "    A proper causal path is a directed path from treatments to the outcome.\n",
    "\n",
    "    :param graph: an NxMixedGraph\n",
    "    :param treatments: a list of treatments\n",
    "    :param outcomes: a list of outcomes\n",
    "    :return: the nodes on all causal paths from treatments to outcomes.\n",
    "    \"\"\"\n",
    "    if isinstance(treatments, Variable):\n",
    "        treatments = {treatments}\n",
    "    if isinstance(outcomes, Variable):\n",
    "        outcomes = {outcomes}\n",
    "\n",
    "    return {\n",
    "        node\n",
    "        for treatment, outcome in itertools.product(treatments, outcomes)\n",
    "        for causal_path in nx.all_simple_paths(graph.directed, treatment, outcome)\n",
    "        for node in causal_path\n",
    "    }\n",
    "\n",
    "\n",
    "def find_nuisance_variables(\n",
    "    graph: NxMixedGraph,\n",
    "    treatments: Union[Variable, Set[Variable]],\n",
    "    outcomes: Union[Variable, Set[Variable]],\n",
    ") -> Iterable[Variable]:\n",
    "    \"\"\"Find the nuisance variables in the graph.\n",
    "\n",
    "    Nuisance variables are the descendants of nodes in all proper causal paths that are\n",
    "    not ancestors of the outcome variables' nodes. A proper causal path is a directed path\n",
    "    from treatments to the outcome. Nuisance variables should not be included in the estimation\n",
    "    of the causal effect as they increase the variance.\n",
    "\n",
    "    :param graph: an NxMixedGraph\n",
    "    :param treatments: a list of treatments\n",
    "    :param outcomes: a list of outcomes\n",
    "    :returns: The nuisance variables.\n",
    "    \"\"\"\n",
    "    if isinstance(treatments, Variable):\n",
    "        treatments = {treatments}\n",
    "    if isinstance(outcomes, Variable):\n",
    "        outcomes = {outcomes}\n",
    "\n",
    "    # Find the nodes on all causal paths\n",
    "    nodes_on_causal_paths = find_all_nodes_in_causal_paths(\n",
    "        graph=graph, treatments=treatments, outcomes=outcomes\n",
    "    )\n",
    "\n",
    "    # Find the descendants of interest\n",
    "    descendants_of_nodes_on_causal_paths = graph.descendants_inclusive(nodes_on_causal_paths)\n",
    "\n",
    "    # Find the ancestors of outcome variables\n",
    "    ancestors_of_outcomes = graph.ancestors_inclusive(outcomes)\n",
    "\n",
    "    descendants_not_ancestors = descendants_of_nodes_on_causal_paths.difference(\n",
    "        ancestors_of_outcomes\n",
    "    )\n",
    "\n",
    "    nuisance_variables = descendants_not_ancestors.difference(treatments.union(outcomes))\n",
    "    return nuisance_variables"
   ],
   "metadata": {
    "collapsed": false,
    "ExecuteTime": {
     "end_time": "2023-11-14T17:00:47.065529Z",
     "start_time": "2023-11-14T17:00:46.901375Z"
    }
   },
   "id": "39da5d3ea497f438"
  },
  {
   "cell_type": "markdown",
   "source": [
    "This function finds the nuisance variables for the input graph."
   ],
   "metadata": {
    "collapsed": false
   },
   "id": "39eab800e3dca3a5"
  },
  {
   "cell_type": "code",
   "execution_count": 10,
   "outputs": [
    {
     "data": {
      "text/plain": "{Akt}"
     },
     "execution_count": 10,
     "metadata": {},
     "output_type": "execute_result"
    }
   ],
   "source": [
    "nuisance_variables = find_nuisance_variables(graph,\n",
    "                                             treatments=Variable(\"Raf\"),\n",
    "                                             outcomes=Variable(\"Erk\"))\n",
    "nuisance_variables"
   ],
   "metadata": {
    "collapsed": false,
    "ExecuteTime": {
     "end_time": "2023-11-14T17:00:53.171772Z",
     "start_time": "2023-11-14T17:00:53.125004Z"
    }
   },
   "id": "d4dd9120fe7b258"
  },
  {
   "cell_type": "markdown",
   "source": [
    "The nuisance variable is $Akt$."
   ],
   "metadata": {
    "collapsed": false
   },
   "id": "a60388af91cc2bfb"
  },
  {
   "cell_type": "code",
   "execution_count": 11,
   "outputs": [
    {
     "data": {
      "text/plain": "<networkx.classes.digraph.DiGraph at 0x12d77e2d0>"
     },
     "execution_count": 11,
     "metadata": {},
     "output_type": "execute_result"
    }
   ],
   "source": [
    "latent_variable_dag =  mark_nuisance_variables_as_latent(graph,\n",
    "                                                         treatments=Variable(\"Raf\"),\n",
    "                                                         outcomes=Variable(\"Erk\"),\n",
    ") "
   ],
   "metadata": {
    "collapsed": false,
    "ExecuteTime": {
     "end_time": "2023-11-14T17:02:16.572500Z",
     "start_time": "2023-11-14T17:02:16.456871Z"
    }
   },
   "id": "9a8cceac6ffc9622"
  },
  {
   "cell_type": "markdown",
   "source": [
    "## Step 4: Simplify the network"
   ],
   "metadata": {
    "collapsed": false
   },
   "id": "1fe9e972339f1c2"
  },
  {
   "cell_type": "markdown",
   "source": [
    "The following function find the nuisance variable (step 3), marks them as latent and then applies Evan's simplification rules to remove the nuisance variables. The new graph does not contain nuisance variables."
   ],
   "metadata": {
    "collapsed": false
   },
   "id": "a2cd73aa0e2c6173"
  },
  {
   "cell_type": "code",
   "execution_count": 18,
   "outputs": [],
   "source": [
    "new_graph = remove_latent_variables(graph,\n",
    "                                    treatments=Variable(\"Raf\"),\n",
    "                                    outcomes=Variable(\"Erk\"))"
   ],
   "metadata": {
    "collapsed": false,
    "ExecuteTime": {
     "end_time": "2023-11-07T19:24:31.933990Z",
     "start_time": "2023-11-07T19:24:31.787820Z"
    }
   },
   "id": "d94935cc62703c68"
  },
  {
   "cell_type": "markdown",
   "source": [
    "## Step 5: Estimate the query"
   ],
   "metadata": {
    "collapsed": false
   },
   "id": "e387c5a179bac8c8"
  },
  {
   "cell_type": "code",
   "execution_count": 8,
   "outputs": [
    {
     "data": {
      "text/plain": "       0  0.1  0.2  0.3  1  1.1  1.2  0.4  1.3  1.4  1.5  1.6\n0      1    0    1    1  1    1    1    1    1    1    1    1\n1      2    1    0    0  1    1    1    1    1    1    0    0\n2      3    1    0    0  1    1    1    1    1    1    0    0\n3      4    0    0    1  1    0    1    1    1    1    1    1\n4      5    0    0    0  0    1    1    1    1    1    1    1\n..   ...  ...  ...  ... ..  ...  ...  ...  ...  ...  ...  ...\n847  848    1    0    0  0    1    1    1    0    1    0    0\n848  849    0    0    0  1    1    1    1    1    1    1    0\n849  850    1    1    0  1    1    1    0    1    1    0    0\n850  851    1    0    0  1    1    1    1    0    1    1    0\n851  852    1    0    0  1    1    1    1    0    1    1    0\n\n[852 rows x 12 columns]",
      "text/html": "<div>\n<style scoped>\n    .dataframe tbody tr th:only-of-type {\n        vertical-align: middle;\n    }\n\n    .dataframe tbody tr th {\n        vertical-align: top;\n    }\n\n    .dataframe thead th {\n        text-align: right;\n    }\n</style>\n<table border=\"1\" class=\"dataframe\">\n  <thead>\n    <tr style=\"text-align: right;\">\n      <th></th>\n      <th>0</th>\n      <th>0.1</th>\n      <th>0.2</th>\n      <th>0.3</th>\n      <th>1</th>\n      <th>1.1</th>\n      <th>1.2</th>\n      <th>0.4</th>\n      <th>1.3</th>\n      <th>1.4</th>\n      <th>1.5</th>\n      <th>1.6</th>\n    </tr>\n  </thead>\n  <tbody>\n    <tr>\n      <th>0</th>\n      <td>1</td>\n      <td>0</td>\n      <td>1</td>\n      <td>1</td>\n      <td>1</td>\n      <td>1</td>\n      <td>1</td>\n      <td>1</td>\n      <td>1</td>\n      <td>1</td>\n      <td>1</td>\n      <td>1</td>\n    </tr>\n    <tr>\n      <th>1</th>\n      <td>2</td>\n      <td>1</td>\n      <td>0</td>\n      <td>0</td>\n      <td>1</td>\n      <td>1</td>\n      <td>1</td>\n      <td>1</td>\n      <td>1</td>\n      <td>1</td>\n      <td>0</td>\n      <td>0</td>\n    </tr>\n    <tr>\n      <th>2</th>\n      <td>3</td>\n      <td>1</td>\n      <td>0</td>\n      <td>0</td>\n      <td>1</td>\n      <td>1</td>\n      <td>1</td>\n      <td>1</td>\n      <td>1</td>\n      <td>1</td>\n      <td>0</td>\n      <td>0</td>\n    </tr>\n    <tr>\n      <th>3</th>\n      <td>4</td>\n      <td>0</td>\n      <td>0</td>\n      <td>1</td>\n      <td>1</td>\n      <td>0</td>\n      <td>1</td>\n      <td>1</td>\n      <td>1</td>\n      <td>1</td>\n      <td>1</td>\n      <td>1</td>\n    </tr>\n    <tr>\n      <th>4</th>\n      <td>5</td>\n      <td>0</td>\n      <td>0</td>\n      <td>0</td>\n      <td>0</td>\n      <td>1</td>\n      <td>1</td>\n      <td>1</td>\n      <td>1</td>\n      <td>1</td>\n      <td>1</td>\n      <td>1</td>\n    </tr>\n    <tr>\n      <th>...</th>\n      <td>...</td>\n      <td>...</td>\n      <td>...</td>\n      <td>...</td>\n      <td>...</td>\n      <td>...</td>\n      <td>...</td>\n      <td>...</td>\n      <td>...</td>\n      <td>...</td>\n      <td>...</td>\n      <td>...</td>\n    </tr>\n    <tr>\n      <th>847</th>\n      <td>848</td>\n      <td>1</td>\n      <td>0</td>\n      <td>0</td>\n      <td>0</td>\n      <td>1</td>\n      <td>1</td>\n      <td>1</td>\n      <td>0</td>\n      <td>1</td>\n      <td>0</td>\n      <td>0</td>\n    </tr>\n    <tr>\n      <th>848</th>\n      <td>849</td>\n      <td>0</td>\n      <td>0</td>\n      <td>0</td>\n      <td>1</td>\n      <td>1</td>\n      <td>1</td>\n      <td>1</td>\n      <td>1</td>\n      <td>1</td>\n      <td>1</td>\n      <td>0</td>\n    </tr>\n    <tr>\n      <th>849</th>\n      <td>850</td>\n      <td>1</td>\n      <td>1</td>\n      <td>0</td>\n      <td>1</td>\n      <td>1</td>\n      <td>1</td>\n      <td>0</td>\n      <td>1</td>\n      <td>1</td>\n      <td>0</td>\n      <td>0</td>\n    </tr>\n    <tr>\n      <th>850</th>\n      <td>851</td>\n      <td>1</td>\n      <td>0</td>\n      <td>0</td>\n      <td>1</td>\n      <td>1</td>\n      <td>1</td>\n      <td>1</td>\n      <td>0</td>\n      <td>1</td>\n      <td>1</td>\n      <td>0</td>\n    </tr>\n    <tr>\n      <th>851</th>\n      <td>852</td>\n      <td>1</td>\n      <td>0</td>\n      <td>0</td>\n      <td>1</td>\n      <td>1</td>\n      <td>1</td>\n      <td>1</td>\n      <td>0</td>\n      <td>1</td>\n      <td>1</td>\n      <td>0</td>\n    </tr>\n  </tbody>\n</table>\n<p>852 rows × 12 columns</p>\n</div>"
     },
     "execution_count": 8,
     "metadata": {},
     "output_type": "execute_result"
    }
   ],
   "source": [
    "data"
   ],
   "metadata": {
    "collapsed": false,
    "ExecuteTime": {
     "end_time": "2023-11-16T16:08:07.876043Z",
     "start_time": "2023-11-16T16:08:07.705828Z"
    }
   },
   "id": "599da92094bc55b7"
  },
  {
   "cell_type": "code",
   "execution_count": 19,
   "outputs": [],
   "source": [
    "#remove after estimation branch is merged to main and replace with eliater codes\n",
    "from ananke.graphs import ADMG\n",
    "from ananke.identification import OneLineID\n",
    "from ananke.estimation import CausalEffect\n",
    "from ananke.datasets import load_afixable_data\n",
    "from ananke.estimation import AutomatedIF\n",
    "from ananke import identification\n",
    "import numpy as np\n",
    "import pandas as pd\n",
    "from ananke.models import LinearGaussianSEM\n",
    "import warnings\n",
    "import numpy\n",
    "import random\n",
    "warnings.filterwarnings('ignore')"
   ],
   "metadata": {
    "collapsed": false,
    "ExecuteTime": {
     "end_time": "2023-11-07T19:26:06.195588Z",
     "start_time": "2023-11-07T19:26:06.010041Z"
    }
   },
   "id": "ee3fec2bab9d0628"
  },
  {
   "cell_type": "code",
   "execution_count": 28,
   "outputs": [
    {
     "name": "stderr",
     "output_type": "stream",
     "text": [
      "SG\n",
      "ADMG\n",
      "SG\n",
      "ADMG\n",
      "SG\n",
      "ADMG\n",
      "SG\n",
      "ADMG\n",
      "SG\n",
      "ADMG\n",
      "SG\n",
      "ADMG\n"
     ]
    },
    {
     "name": "stdout",
     "output_type": "stream",
     "text": [
      "\n",
      " Treatment is a-fixable and graph is mb-shielded. \n",
      "\n",
      " Available estimators are:\n",
      " \n",
      "1. IPW (ipw)\n",
      "2. Outcome regression (gformula)\n",
      "3. Generalized AIPW (aipw)\n",
      "4. Efficient Generalized AIPW (eff-aipw) \n",
      " \n",
      "Suggested estimator is Efficient Generalized AIPW \n"
     ]
    },
    {
     "data": {
      "text/plain": "<ananke.estimation.counterfactual_mean.CausalEffect at 0x12292bcd0>"
     },
     "execution_count": 28,
     "metadata": {},
     "output_type": "execute_result"
    }
   ],
   "source": [
    "#remove after estimation branch is merged to main\n",
    "vertices = [\"Plcg\", \"PIP3\", \"PIP2\", \"PKC\", \"PKA\", \"Raf\", \"Mek\", \"Erk\", \"Jnk\", \"P38\"]\n",
    "di_edges = [(\"Plcg\", \"PIP3\"), \n",
    "            (\"Plcg\", \"PIP2\"),\n",
    "            (\"Plcg\", \"PKC\"),\n",
    "            (\"PIP3\", \"PIP2\"),\n",
    "            (\"PIP2\", \"PKC\"),\n",
    "            (\"PKC\", \"Mek\"),\n",
    "            (\"PKC\", \"Raf\"),\n",
    "            (\"PKC\", \"PKA\"),\n",
    "            (\"PKC\", \"Jnk\"),\n",
    "            (\"PKC\", \"P38\"),\n",
    "            (\"PKA\", \"Raf\"),\n",
    "            (\"PKA\", \"Mek\"),\n",
    "            (\"PKA\", \"Erk\"),\n",
    "            (\"PKA\", \"Jnk\"),\n",
    "            (\"PKA\", \"P38\"),\n",
    "            (\"Raf\", \"Mek\"),\n",
    "            (\"Mek\", \"Erk\")]\n",
    "bi_edges = []\n",
    "new_graph = ADMG(vertices, di_edges, bi_edges)\n",
    "\n",
    "ate_obj = CausalEffect(graph=new_graph, treatment='Raf', outcome='Erk')  # setting up the CausalEffect object\n",
    "ate_obj"
   ],
   "metadata": {
    "collapsed": false,
    "ExecuteTime": {
     "end_time": "2023-11-07T19:41:05.063283Z",
     "start_time": "2023-11-07T19:41:04.860283Z"
    }
   },
   "id": "49fae276eb2fb330"
  },
  {
   "cell_type": "code",
   "execution_count": 76,
   "outputs": [
    {
     "name": "stderr",
     "output_type": "stream",
     "text": [
      "SG\n",
      "ADMG\n",
      "SG\n",
      "ADMG\n",
      "SG\n",
      "ADMG\n",
      "SG\n",
      "ADMG\n",
      "SG\n",
      "ADMG\n",
      "SG\n",
      "ADMG\n",
      "SG\n",
      "ADMG\n",
      "SG\n",
      "ADMG\n",
      "SG\n",
      "ADMG\n",
      "SG\n",
      "ADMG\n",
      "SG\n",
      "ADMG\n",
      "SG\n",
      "ADMG\n",
      "SG\n",
      "ADMG\n",
      "SG\n",
      "ADMG\n",
      "SG\n",
      "ADMG\n",
      "SG\n",
      "ADMG\n",
      "SG\n",
      "ADMG\n",
      "SG\n",
      "ADMG\n",
      "SG\n",
      "ADMG\n",
      "SG\n",
      "ADMG\n"
     ]
    },
    {
     "data": {
      "text/plain": "-0.010641706233553646"
     },
     "execution_count": 76,
     "metadata": {},
     "output_type": "execute_result"
    }
   ],
   "source": [
    "#remove after estimation branch is merged to main and use eliater function\n",
    "#Estimated ATE\n",
    "ate_obj.compute_effect(data, \"eff-aipw\")"
   ],
   "metadata": {
    "collapsed": false,
    "ExecuteTime": {
     "end_time": "2023-11-07T20:51:48.271113Z",
     "start_time": "2023-11-07T20:51:45.622627Z"
    }
   },
   "id": "71a2fd8c1e90cd1c"
  }
 ],
 "metadata": {
  "kernelspec": {
   "display_name": "Python 3",
   "language": "python",
   "name": "python3"
  },
  "language_info": {
   "codemirror_mode": {
    "name": "ipython",
    "version": 2
   },
   "file_extension": ".py",
   "mimetype": "text/x-python",
   "name": "python",
   "nbconvert_exporter": "python",
   "pygments_lexer": "ipython2",
   "version": "2.7.6"
  }
 },
 "nbformat": 4,
 "nbformat_minor": 5
}
