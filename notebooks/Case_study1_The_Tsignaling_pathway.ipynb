{
 "cells": [
  {
   "cell_type": "markdown",
   "source": [
    "# Case study 2: The T signaling pathway"
   ],
   "metadata": {
    "collapsed": false
   },
   "id": "41a84966a70395d6"
  },
  {
   "cell_type": "code",
   "outputs": [
    {
     "name": "stdout",
     "output_type": "stream",
     "text": [
      "Collecting git+https://github.com/y0-causal-inference/eliater.git@linear-regression"
     ]
    },
    {
     "name": "stderr",
     "output_type": "stream",
     "text": [
      "  Running command git clone --filter=blob:none --quiet https://github.com/y0-causal-inference/eliater.git 'C:\\Users\\pnava\\AppData\\Local\\Temp\\pip-req-build-9801nic1'\n",
      "  Running command git checkout -b linear-regression --track origin/linear-regression\n",
      "  branch 'linear-regression' set up to track 'origin/linear-regression'.\n",
      "  Switched to a new branch 'linear-regression'\n",
      "\n",
      "[notice] A new release of pip is available: 23.3.1 -> 23.3.2\n",
      "[notice] To update, run: python.exe -m pip install --upgrade pip\n"
     ]
    },
    {
     "name": "stdout",
     "output_type": "stream",
     "text": [
      "\n",
      "  Cloning https://github.com/y0-causal-inference/eliater.git (to revision linear-regression) to c:\\users\\pnava\\appdata\\local\\temp\\pip-req-build-9801nic1\n",
      "  Resolved https://github.com/y0-causal-inference/eliater.git to commit f666788b42cf32722a3bef39754a9bb19a375a92\n",
      "  Installing build dependencies: started\n",
      "  Installing build dependencies: finished with status 'done'\n",
      "  Getting requirements to build wheel: started\n",
      "  Getting requirements to build wheel: finished with status 'done'\n",
      "  Preparing metadata (pyproject.toml): started\n",
      "  Preparing metadata (pyproject.toml): finished with status 'done'\n",
      "Requirement already satisfied: y0>=0.2.5 in c:\\users\\pnava\\pycharmprojects\\eliater\\venv\\lib\\site-packages (from eliater==0.0.1.dev0) (0.2.5)\n",
      "Requirement already satisfied: scipy in c:\\users\\pnava\\pycharmprojects\\eliater\\venv\\lib\\site-packages (from eliater==0.0.1.dev0) (1.11.2)\n",
      "Requirement already satisfied: numpy in c:\\users\\pnava\\pycharmprojects\\eliater\\venv\\lib\\site-packages (from eliater==0.0.1.dev0) (1.25.2)\n",
      "Requirement already satisfied: ananke-causal>=0.5.0 in c:\\users\\pnava\\pycharmprojects\\eliater\\venv\\lib\\site-packages (from eliater==0.0.1.dev0) (0.5.0)\n",
      "Requirement already satisfied: pgmpy>=0.1.24 in c:\\users\\pnava\\pycharmprojects\\eliater\\venv\\lib\\site-packages (from eliater==0.0.1.dev0) (0.1.24)\n",
      "Requirement already satisfied: matplotlib in c:\\users\\pnava\\pycharmprojects\\eliater\\venv\\lib\\site-packages (from eliater==0.0.1.dev0) (3.8.0)\n",
      "Requirement already satisfied: pandas in c:\\users\\pnava\\pycharmprojects\\eliater\\venv\\lib\\site-packages (from eliater==0.0.1.dev0) (1.5.3)\n",
      "Requirement already satisfied: seaborn in c:\\users\\pnava\\pycharmprojects\\eliater\\venv\\lib\\site-packages (from eliater==0.0.1.dev0) (0.13.0)\n",
      "Requirement already satisfied: optimaladj>=0.0.4 in c:\\users\\pnava\\pycharmprojects\\eliater\\venv\\lib\\site-packages (from eliater==0.0.1.dev0) (0.0.4)\n",
      "Requirement already satisfied: jax<0.5.0,>=0.4.8 in c:\\users\\pnava\\pycharmprojects\\eliater\\venv\\lib\\site-packages (from ananke-causal>=0.5.0->eliater==0.0.1.dev0) (0.4.21)\n",
      "Requirement already satisfied: jaxlib<0.5.0,>=0.4.7 in c:\\users\\pnava\\pycharmprojects\\eliater\\venv\\lib\\site-packages (from ananke-causal>=0.5.0->eliater==0.0.1.dev0) (0.4.21)\n",
      "Requirement already satisfied: mystic<0.5.0,>=0.4.0 in c:\\users\\pnava\\pycharmprojects\\eliater\\venv\\lib\\site-packages (from ananke-causal>=0.5.0->eliater==0.0.1.dev0) (0.4.1)\n",
      "Requirement already satisfied: statsmodels<0.14.0,>=0.13.2 in c:\\users\\pnava\\pycharmprojects\\eliater\\venv\\lib\\site-packages (from ananke-causal>=0.5.0->eliater==0.0.1.dev0) (0.13.5)\n",
      "Requirement already satisfied: contourpy>=1.0.1 in c:\\users\\pnava\\pycharmprojects\\eliater\\venv\\lib\\site-packages (from matplotlib->eliater==0.0.1.dev0) (1.1.1)\n",
      "Requirement already satisfied: cycler>=0.10 in c:\\users\\pnava\\pycharmprojects\\eliater\\venv\\lib\\site-packages (from matplotlib->eliater==0.0.1.dev0) (0.11.0)\n",
      "Requirement already satisfied: fonttools>=4.22.0 in c:\\users\\pnava\\pycharmprojects\\eliater\\venv\\lib\\site-packages (from matplotlib->eliater==0.0.1.dev0) (4.42.1)\n",
      "Requirement already satisfied: kiwisolver>=1.0.1 in c:\\users\\pnava\\pycharmprojects\\eliater\\venv\\lib\\site-packages (from matplotlib->eliater==0.0.1.dev0) (1.4.5)\n",
      "Requirement already satisfied: packaging>=20.0 in c:\\users\\pnava\\pycharmprojects\\eliater\\venv\\lib\\site-packages (from matplotlib->eliater==0.0.1.dev0) (23.1)\n",
      "Requirement already satisfied: pillow>=6.2.0 in c:\\users\\pnava\\pycharmprojects\\eliater\\venv\\lib\\site-packages (from matplotlib->eliater==0.0.1.dev0) (10.0.1)\n",
      "Requirement already satisfied: pyparsing>=2.3.1 in c:\\users\\pnava\\pycharmprojects\\eliater\\venv\\lib\\site-packages (from matplotlib->eliater==0.0.1.dev0) (3.1.1)\n",
      "Requirement already satisfied: python-dateutil>=2.7 in c:\\users\\pnava\\pycharmprojects\\eliater\\venv\\lib\\site-packages (from matplotlib->eliater==0.0.1.dev0) (2.8.2)\n",
      "Requirement already satisfied: pytz>=2020.1 in c:\\users\\pnava\\pycharmprojects\\eliater\\venv\\lib\\site-packages (from pandas->eliater==0.0.1.dev0) (2023.3.post1)\n",
      "Requirement already satisfied: networkx in c:\\users\\pnava\\pycharmprojects\\eliater\\venv\\lib\\site-packages (from pgmpy>=0.1.24->eliater==0.0.1.dev0) (3.1)\n",
      "Requirement already satisfied: scikit-learn in c:\\users\\pnava\\pycharmprojects\\eliater\\venv\\lib\\site-packages (from pgmpy>=0.1.24->eliater==0.0.1.dev0) (1.3.0)\n",
      "Requirement already satisfied: torch in c:\\users\\pnava\\pycharmprojects\\eliater\\venv\\lib\\site-packages (from pgmpy>=0.1.24->eliater==0.0.1.dev0) (2.0.1)\n",
      "Requirement already satisfied: tqdm in c:\\users\\pnava\\pycharmprojects\\eliater\\venv\\lib\\site-packages (from pgmpy>=0.1.24->eliater==0.0.1.dev0) (4.66.1)\n",
      "Requirement already satisfied: joblib in c:\\users\\pnava\\pycharmprojects\\eliater\\venv\\lib\\site-packages (from pgmpy>=0.1.24->eliater==0.0.1.dev0) (1.3.2)\n",
      "Requirement already satisfied: opt-einsum in c:\\users\\pnava\\pycharmprojects\\eliater\\venv\\lib\\site-packages (from pgmpy>=0.1.24->eliater==0.0.1.dev0) (3.3.0)\n",
      "Requirement already satisfied: more-itertools in c:\\users\\pnava\\pycharmprojects\\eliater\\venv\\lib\\site-packages (from y0>=0.2.5->eliater==0.0.1.dev0) (10.1.0)\n",
      "Requirement already satisfied: click in c:\\users\\pnava\\pycharmprojects\\eliater\\venv\\lib\\site-packages (from y0>=0.2.5->eliater==0.0.1.dev0) (8.1.7)\n",
      "Requirement already satisfied: more-click in c:\\users\\pnava\\pycharmprojects\\eliater\\venv\\lib\\site-packages (from y0>=0.2.5->eliater==0.0.1.dev0) (0.1.2)\n",
      "Requirement already satisfied: tabulate in c:\\users\\pnava\\pycharmprojects\\eliater\\venv\\lib\\site-packages (from y0>=0.2.5->eliater==0.0.1.dev0) (0.9.0)\n",
      "Requirement already satisfied: ml-dtypes>=0.2.0 in c:\\users\\pnava\\pycharmprojects\\eliater\\venv\\lib\\site-packages (from jax<0.5.0,>=0.4.8->ananke-causal>=0.5.0->eliater==0.0.1.dev0) (0.3.1)\n",
      "Requirement already satisfied: dill>=0.3.7 in c:\\users\\pnava\\pycharmprojects\\eliater\\venv\\lib\\site-packages (from mystic<0.5.0,>=0.4.0->ananke-causal>=0.5.0->eliater==0.0.1.dev0) (0.3.7)\n",
      "Requirement already satisfied: klepto>=0.2.4 in c:\\users\\pnava\\pycharmprojects\\eliater\\venv\\lib\\site-packages (from mystic<0.5.0,>=0.4.0->ananke-causal>=0.5.0->eliater==0.0.1.dev0) (0.2.4)\n",
      "Requirement already satisfied: sympy>=0.6.7 in c:\\users\\pnava\\pycharmprojects\\eliater\\venv\\lib\\site-packages (from mystic<0.5.0,>=0.4.0->ananke-causal>=0.5.0->eliater==0.0.1.dev0) (1.12)\n",
      "Requirement already satisfied: mpmath>=0.19 in c:\\users\\pnava\\pycharmprojects\\eliater\\venv\\lib\\site-packages (from mystic<0.5.0,>=0.4.0->ananke-causal>=0.5.0->eliater==0.0.1.dev0) (1.3.0)\n",
      "Requirement already satisfied: six>=1.5 in c:\\users\\pnava\\pycharmprojects\\eliater\\venv\\lib\\site-packages (from python-dateutil>=2.7->matplotlib->eliater==0.0.1.dev0) (1.16.0)\n",
      "Requirement already satisfied: patsy>=0.5.2 in c:\\users\\pnava\\pycharmprojects\\eliater\\venv\\lib\\site-packages (from statsmodels<0.14.0,>=0.13.2->ananke-causal>=0.5.0->eliater==0.0.1.dev0) (0.5.3)\n",
      "Requirement already satisfied: colorama in c:\\users\\pnava\\pycharmprojects\\eliater\\venv\\lib\\site-packages (from click->y0>=0.2.5->eliater==0.0.1.dev0) (0.4.6)\n",
      "Requirement already satisfied: threadpoolctl>=2.0.0 in c:\\users\\pnava\\pycharmprojects\\eliater\\venv\\lib\\site-packages (from scikit-learn->pgmpy>=0.1.24->eliater==0.0.1.dev0) (3.2.0)\n",
      "Requirement already satisfied: filelock in c:\\users\\pnava\\pycharmprojects\\eliater\\venv\\lib\\site-packages (from torch->pgmpy>=0.1.24->eliater==0.0.1.dev0) (3.12.3)\n",
      "Requirement already satisfied: typing-extensions in c:\\users\\pnava\\pycharmprojects\\eliater\\venv\\lib\\site-packages (from torch->pgmpy>=0.1.24->eliater==0.0.1.dev0) (4.7.1)\n",
      "Requirement already satisfied: jinja2 in c:\\users\\pnava\\pycharmprojects\\eliater\\venv\\lib\\site-packages (from torch->pgmpy>=0.1.24->eliater==0.0.1.dev0) (3.1.2)\n",
      "Requirement already satisfied: pox>=0.3.3 in c:\\users\\pnava\\pycharmprojects\\eliater\\venv\\lib\\site-packages (from klepto>=0.2.4->mystic<0.5.0,>=0.4.0->ananke-causal>=0.5.0->eliater==0.0.1.dev0) (0.3.3)\n",
      "Requirement already satisfied: MarkupSafe>=2.0 in c:\\users\\pnava\\pycharmprojects\\eliater\\venv\\lib\\site-packages (from jinja2->torch->pgmpy>=0.1.24->eliater==0.0.1.dev0) (2.1.3)\n"
     ]
    }
   ],
   "source": [
    "!pip install git+https://github.com/y0-causal-inference/eliater.git@linear-regression"
   ],
   "metadata": {
    "collapsed": false,
    "ExecuteTime": {
     "end_time": "2024-01-11T22:14:47.118403900Z",
     "start_time": "2024-01-11T22:14:34.994714Z"
    }
   },
   "id": "60a207fa4d3c00a4",
   "execution_count": 1
  },
  {
   "cell_type": "code",
   "execution_count": 2,
   "id": "initial_id",
   "metadata": {
    "collapsed": true,
    "ExecuteTime": {
     "end_time": "2024-01-11T22:14:50.181591200Z",
     "start_time": "2024-01-11T22:14:47.117288600Z"
    }
   },
   "outputs": [],
   "source": [
    "import pandas as pd\n",
    "\n",
    "from eliater.examples import t_cell_signaling_example\n",
    "from eliater.network_validation import print_graph_falsifications"
   ]
  },
  {
   "cell_type": "markdown",
   "source": [
    "This is case study 2 in this paper: Eliater: an open source software for causal query estimation from observational measurements of biomolecular networks. The Figure below is the protein signalling network (G) of the cell signaling pathway presented in (Sachs et al., 2005). It models the molecular\n",
    "mechanisms and regulatory processes involved in T cell activation, proliferation, and function."
   ],
   "metadata": {
    "collapsed": false
   },
   "id": "231bb8431a64328e"
  },
  {
   "cell_type": "code",
   "execution_count": null,
   "outputs": [],
   "source": [
    "graph = t_cell_signaling_example.graph\n",
    "graph.draw()"
   ],
   "metadata": {
    "collapsed": false,
    "is_executing": true
   },
   "id": "3781cef61e000ef7"
  },
  {
   "cell_type": "markdown",
   "source": [
    "The observational data consisted of quantitative multivariate flow cytometry measurements of phosphorylated proteins derived from thousands of individual primary immune system cells. The cells were subjected to general stimuli meant to activate the desired paths. The distributions of measurements of individual proteins were skewed, and pairs of proteins exhibited nonlinear relationships. To account for that, the data were binned into\n",
    "two levels corresponding to low, and high concentrations using Hartemink’s approach (Hartemink, 2001) to preserve\n",
    "the dependence structure of the original data."
   ],
   "metadata": {
    "collapsed": false
   },
   "id": "19295d3c869fc774"
  },
  {
   "cell_type": "code",
   "execution_count": 21,
   "outputs": [
    {
     "data": {
      "text/plain": "   Raf  Mek  Plcg  PIP2  PIP3  Erk  Akt  PKA  PKC  P38  Jnk\n0    0    0     0     1     1    1    0    1    1    1    1\n1    0    1     1     1     1    1    1    1    1    1    1\n2    1    0     0     1     1    1    1    1    1    0    0\n3    1    0     0     1     1    1    1    1    1    0    0\n4    0    0     1     1     0    1    1    1    1    1    1",
      "text/html": "<div>\n<style scoped>\n    .dataframe tbody tr th:only-of-type {\n        vertical-align: middle;\n    }\n\n    .dataframe tbody tr th {\n        vertical-align: top;\n    }\n\n    .dataframe thead th {\n        text-align: right;\n    }\n</style>\n<table border=\"1\" class=\"dataframe\">\n  <thead>\n    <tr style=\"text-align: right;\">\n      <th></th>\n      <th>Raf</th>\n      <th>Mek</th>\n      <th>Plcg</th>\n      <th>PIP2</th>\n      <th>PIP3</th>\n      <th>Erk</th>\n      <th>Akt</th>\n      <th>PKA</th>\n      <th>PKC</th>\n      <th>P38</th>\n      <th>Jnk</th>\n    </tr>\n  </thead>\n  <tbody>\n    <tr>\n      <th>0</th>\n      <td>0</td>\n      <td>0</td>\n      <td>0</td>\n      <td>1</td>\n      <td>1</td>\n      <td>1</td>\n      <td>0</td>\n      <td>1</td>\n      <td>1</td>\n      <td>1</td>\n      <td>1</td>\n    </tr>\n    <tr>\n      <th>1</th>\n      <td>0</td>\n      <td>1</td>\n      <td>1</td>\n      <td>1</td>\n      <td>1</td>\n      <td>1</td>\n      <td>1</td>\n      <td>1</td>\n      <td>1</td>\n      <td>1</td>\n      <td>1</td>\n    </tr>\n    <tr>\n      <th>2</th>\n      <td>1</td>\n      <td>0</td>\n      <td>0</td>\n      <td>1</td>\n      <td>1</td>\n      <td>1</td>\n      <td>1</td>\n      <td>1</td>\n      <td>1</td>\n      <td>0</td>\n      <td>0</td>\n    </tr>\n    <tr>\n      <th>3</th>\n      <td>1</td>\n      <td>0</td>\n      <td>0</td>\n      <td>1</td>\n      <td>1</td>\n      <td>1</td>\n      <td>1</td>\n      <td>1</td>\n      <td>1</td>\n      <td>0</td>\n      <td>0</td>\n    </tr>\n    <tr>\n      <th>4</th>\n      <td>0</td>\n      <td>0</td>\n      <td>1</td>\n      <td>1</td>\n      <td>0</td>\n      <td>1</td>\n      <td>1</td>\n      <td>1</td>\n      <td>1</td>\n      <td>1</td>\n      <td>1</td>\n    </tr>\n  </tbody>\n</table>\n</div>"
     },
     "execution_count": 21,
     "metadata": {},
     "output_type": "execute_result"
    }
   ],
   "source": [
    "# Get the data\n",
    "# TODO: Change from local path to Github url\n",
    "data = pd.read_csv(\n",
    "    \"C:\\\\Users\\\\pnava\\\\PycharmProjects\\\\eliater\\\\src\\\\eliater\\\\data\\\\sachs_discretized_2bin.csv\",\n",
    "    index_col=0,\n",
    ")\n",
    "data.head()"
   ],
   "metadata": {
    "collapsed": false,
    "ExecuteTime": {
     "end_time": "2024-01-11T22:20:30.802039100Z",
     "start_time": "2024-01-11T22:20:30.789457500Z"
    }
   },
   "id": "64c167d7feaf9c75"
  },
  {
   "cell_type": "markdown",
   "source": [
    "## Step 1: Verify correctness of the network structure"
   ],
   "metadata": {
    "collapsed": false
   },
   "id": "bd48019f2e6dd0f8"
  },
  {
   "cell_type": "code",
   "execution_count": 22,
   "outputs": [
    {
     "name": "stdout",
     "output_type": "stream",
     "text": [
      "Failed tests: 6/35 (17.14%)\n",
      "Reject null hypothesis when p<0.01\n",
      "======  =======  ============  ===========  ==========  =====  ===========  ===================\n",
      "left    right    given               stats           p    dof        p_adj  p_adj_significant\n",
      "======  =======  ============  ===========  ==========  =====  ===========  ===================\n",
      "Jnk     P38      PKA|PKC       171.716      0               4  0            True\n",
      "Erk     PIP2     PKC            89.0334     0               2  0            True\n",
      "Plcg    Raf      PKC           249.869      0               2  0            True\n",
      "Erk     PIP3     PKC           478.923      0               2  0            True\n",
      "Mek     Plcg     PKC           208.487      0               2  0            True\n",
      "Akt     PKC      Erk|PIP3|PKA   38.1759     2.8056e-06      7  8.41681e-05  True\n",
      "PIP3    PKC      PIP2|Plcg      17.2052     0.00176329      4  0.0511354    False\n",
      "P38     Plcg     PKC             8.17906    0.0167471       2  0.468918     False\n",
      "Erk     Plcg     PKC             5.37205    0.0681513       2  1            False\n",
      "Mek     P38      PKA|PKC         3.01208    0.555806        4  1            False\n",
      "Akt     Mek      Erk|PKA|PKC     2.15799    0.950581        7  1            False\n",
      "Jnk     Mek      PKA|PKC         0.317885   0.988631        4  1            False\n",
      "Mek     PIP3     PKC             1.93382    0.380256        2  1            False\n",
      "Akt     Plcg     PIP3|PKC        0.692523   0.952248        4  1            False\n",
      "PIP3    Raf      PKC             1.28789    0.525216        2  1            False\n",
      "Erk     Jnk      PKA|PKC         4.94452    0.293038        4  1            False\n",
      "Akt     Raf      Erk|PKA|PKC     4.46282    0.72519         7  1            False\n",
      "PIP2    PKA      PKC             0.795188   0.671935        2  1            False\n",
      "Jnk     Plcg     PKC             1.3784     0.501977        2  1            False\n",
      "PKA     Plcg     PKC             0.344113   0.841932        2  1            False\n",
      "PIP3    PKA      PKC             0.961809   0.618224        2  1            False\n",
      "Akt     P38      PKA|PKC         2.3544     0.670884        4  1            False\n",
      "PIP2    Raf      PKC             1.97276    0.372924        2  1            False\n",
      "Akt     Jnk      PKA|PKC         8.20991    0.0841848       4  1            False\n",
      "Akt     PIP2     PIP3|PKC        2.3266     0.675931        4  1            False\n",
      "Jnk     Raf      PKA|PKC         0.981685   0.91256         4  1            False\n",
      "Erk     PKC      Mek|PKA         4.00454    0.405392        4  1            False\n",
      "Jnk     PIP3     PKC             0.0275156  0.986336        2  1            False\n",
      "P38     PIP3     PKC             1.08199    0.582168        2  1            False\n",
      "Mek     PIP2     PKC             0.732168   0.693444        2  1            False\n",
      "P38     Raf      PKA|PKC         2.17386    0.703819        4  1            False\n",
      "Erk     Raf      Mek|PKA         8.2825     0.0817611       4  1            False\n",
      "Jnk     PIP2     PKC             2.86277    0.238978        2  1            False\n",
      "Erk     P38      PKA|PKC         5.52749    0.237323        4  1            False\n",
      "P38     PIP2     PKC             0.564378   0.754131        2  1            False\n",
      "======  =======  ============  ===========  ==========  =====  ===========  ===================\n"
     ]
    }
   ],
   "source": [
    "print_graph_falsifications(graph, data, method=\"chi-square\", verbose=True, significance_level=0.01)"
   ],
   "metadata": {
    "collapsed": false,
    "ExecuteTime": {
     "end_time": "2024-01-11T22:20:39.517152700Z",
     "start_time": "2024-01-11T22:20:35.354323900Z"
    }
   },
   "id": "93ec48fb3ab155ce"
  },
  {
   "cell_type": "markdown",
   "source": [
    "Out of 35 d-separations implied by the network, six failed. As the precentage of failed tests is below 30 percent, its effect on the estimation of causal query is minor. Hence, we proceed to the next step."
   ],
   "metadata": {
    "collapsed": false
   },
   "id": "d04980abb4ea5ded"
  },
  {
   "cell_type": "markdown",
   "source": [
    "## Step 2: Check query identifiability"
   ],
   "metadata": {
    "collapsed": false
   },
   "id": "ffc6d06ac551ed33"
  },
  {
   "cell_type": "code",
   "execution_count": 23,
   "outputs": [
    {
     "data": {
      "text/plain": "Identification(outcomes=\"{Erk}, treatments=\"{Raf}\",conditions=\"set()\",  graph=\"NxMixedGraph(directed=<networkx.classes.digraph.DiGraph object at 0x0000021A78E5BD50>, undirected=<networkx.classes.graph.Graph object at 0x0000021A78E583D0>)\", estimand=\"P(Akt, Erk, Jnk, Mek, P38, PIP2, PIP3, PKA, PKC, Plcg, Raf)\")"
     },
     "execution_count": 23,
     "metadata": {},
     "output_type": "execute_result"
    }
   ],
   "source": [
    "from y0.algorithm.identify import Identification\n",
    "from y0.dsl import P, Variable\n",
    "\n",
    "id_in = Identification.from_expression(\n",
    "    # query=P(Variable('Erk') @ [Variable('Raf'), Variable('Mek')]),\n",
    "    query=P(Variable(\"Erk\") @ Variable(\"Raf\")),\n",
    "    graph=graph,\n",
    ")\n",
    "id_in"
   ],
   "metadata": {
    "collapsed": false,
    "ExecuteTime": {
     "end_time": "2024-01-11T22:20:44.270113800Z",
     "start_time": "2024-01-11T22:20:44.248785900Z"
    }
   },
   "id": "f19b50aaf177336b"
  },
  {
   "cell_type": "markdown",
   "source": [
    "The query is identifiable. Hence, we can proceed to the next step."
   ],
   "metadata": {
    "collapsed": false
   },
   "id": "9d1f152e662579c5"
  },
  {
   "cell_type": "markdown",
   "source": [
    "## Step 3: Find nuisance variables and mark them as latent"
   ],
   "metadata": {
    "collapsed": false
   },
   "id": "6d43d2928ac2ff5f"
  },
  {
   "cell_type": "markdown",
   "source": [
    "This function finds the nuisance variables for the input graph."
   ],
   "metadata": {
    "collapsed": false
   },
   "id": "39eab800e3dca3a5"
  },
  {
   "cell_type": "code",
   "outputs": [],
   "source": [
    "from eliater.discover_latent_nodes import find_nuisance_variables, mark_nuisance_variables_as_latent"
   ],
   "metadata": {
    "collapsed": false,
    "ExecuteTime": {
     "end_time": "2024-01-11T22:20:49.426085500Z",
     "start_time": "2024-01-11T22:20:49.415845800Z"
    }
   },
   "id": "4513c93f29edf909",
   "execution_count": 24
  },
  {
   "cell_type": "code",
   "execution_count": 25,
   "outputs": [
    {
     "data": {
      "text/plain": "{Akt}"
     },
     "execution_count": 25,
     "metadata": {},
     "output_type": "execute_result"
    }
   ],
   "source": [
    "nuisance_variables = find_nuisance_variables(\n",
    "    graph, treatments=Variable(\"Raf\"), outcomes=Variable(\"Erk\")\n",
    ")\n",
    "nuisance_variables"
   ],
   "metadata": {
    "collapsed": false,
    "ExecuteTime": {
     "end_time": "2024-01-11T22:20:52.112216100Z",
     "start_time": "2024-01-11T22:20:52.089844600Z"
    }
   },
   "id": "d4dd9120fe7b258"
  },
  {
   "cell_type": "markdown",
   "source": [
    "The nuisance variable is $Akt$."
   ],
   "metadata": {
    "collapsed": false
   },
   "id": "a60388af91cc2bfb"
  },
  {
   "cell_type": "code",
   "execution_count": 26,
   "outputs": [],
   "source": [
    "latent_variable_dag = mark_nuisance_variables_as_latent(\n",
    "    graph,\n",
    "    treatments=Variable(\"Raf\"),\n",
    "    outcomes=Variable(\"Erk\"),\n",
    ")"
   ],
   "metadata": {
    "collapsed": false,
    "ExecuteTime": {
     "end_time": "2024-01-11T22:20:57.007991600Z",
     "start_time": "2024-01-11T22:20:57.001373500Z"
    }
   },
   "id": "9a8cceac6ffc9622"
  },
  {
   "cell_type": "markdown",
   "source": [
    "## Step 4: Simplify the network"
   ],
   "metadata": {
    "collapsed": false
   },
   "id": "1fe9e972339f1c2"
  },
  {
   "cell_type": "markdown",
   "source": [
    "In eliater, step 3, and 4 are both combined into a single function. Hence, the following function finds the nuisance variable (step 3), marks them as latent and then applies Evan's simplification rules (Step 4) to remove the nuisance variables. As a result, running the 'find_nuisance_variables' and 'mark_nuisance_variables_as_latent' functions is not necessary to get the value of step 4. However, we called them to illustrate the results. The new graph obtained in step 4 does not contain nuisance variables. "
   ],
   "metadata": {
    "collapsed": false
   },
   "id": "a2cd73aa0e2c6173"
  },
  {
   "cell_type": "code",
   "outputs": [],
   "source": [
    "from eliater.discover_latent_nodes import remove_nuisance_variables"
   ],
   "metadata": {
    "collapsed": false,
    "ExecuteTime": {
     "end_time": "2024-01-11T22:20:59.469233Z",
     "start_time": "2024-01-11T22:20:59.455556700Z"
    }
   },
   "id": "70cf89c9ba5cc907",
   "execution_count": 27
  },
  {
   "cell_type": "code",
   "execution_count": 28,
   "outputs": [],
   "source": [
    "new_graph = remove_nuisance_variables(graph, treatments=Variable(\"Raf\"), outcomes=Variable(\"Erk\"))"
   ],
   "metadata": {
    "collapsed": false,
    "ExecuteTime": {
     "end_time": "2024-01-11T22:21:02.953136Z",
     "start_time": "2024-01-11T22:21:02.939413200Z"
    }
   },
   "id": "d94935cc62703c68"
  },
  {
   "cell_type": "markdown",
   "source": [
    "## Step 5: Estimate the query"
   ],
   "metadata": {
    "collapsed": false
   },
   "id": "e387c5a179bac8c8"
  },
  {
   "cell_type": "code",
   "outputs": [],
   "source": [
    "from y0.algorithm.estimation import estimate_ace"
   ],
   "metadata": {
    "collapsed": false,
    "ExecuteTime": {
     "end_time": "2024-01-11T22:21:06.022049700Z",
     "start_time": "2024-01-11T22:21:06.009410100Z"
    }
   },
   "id": "db78a16a620e0cb9",
   "execution_count": 30
  },
  {
   "cell_type": "code",
   "outputs": [
    {
     "data": {
      "text/plain": "-0.30580881280669625"
     },
     "execution_count": 31,
     "metadata": {},
     "output_type": "execute_result"
    }
   ],
   "source": [
    "estimate_ace(new_graph, treatments=Variable(\"Raf\"), outcomes=Variable(\"Erk\"), data=data)"
   ],
   "metadata": {
    "collapsed": false,
    "ExecuteTime": {
     "end_time": "2024-01-11T22:21:08.165634300Z",
     "start_time": "2024-01-11T22:21:07.849651100Z"
    }
   },
   "id": "bc35ae3d63e96ac2",
   "execution_count": 31
  }
 ],
 "metadata": {
  "kernelspec": {
   "display_name": "Python 3",
   "language": "python",
   "name": "python3"
  },
  "language_info": {
   "codemirror_mode": {
    "name": "ipython",
    "version": 2
   },
   "file_extension": ".py",
   "mimetype": "text/x-python",
   "name": "python",
   "nbconvert_exporter": "python",
   "pygments_lexer": "ipython2",
   "version": "2.7.6"
  }
 },
 "nbformat": 4,
 "nbformat_minor": 5
}
